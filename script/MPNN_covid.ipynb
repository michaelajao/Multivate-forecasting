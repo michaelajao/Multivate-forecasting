{
 "cells": [
  {
   "cell_type": "code",
   "execution_count": 1,
   "metadata": {},
   "outputs": [
    {
     "ename": "ModuleNotFoundError",
     "evalue": "No module named 'torch_geometric'",
     "output_type": "error",
     "traceback": [
      "\u001b[1;31m---------------------------------------------------------------------------\u001b[0m",
      "\u001b[1;31mModuleNotFoundError\u001b[0m                       Traceback (most recent call last)",
      "\u001b[1;32mc:\\Users\\ajaoo\\Desktop\\Projects\\Multivate-forecasting\\script\\MPNN_covid.ipynb Cell 1\u001b[0m line \u001b[0;36m2\n\u001b[0;32m      <a href='vscode-notebook-cell:/c%3A/Users/ajaoo/Desktop/Projects/Multivate-forecasting/script/MPNN_covid.ipynb#W0sZmlsZQ%3D%3D?line=0'>1</a>\u001b[0m \u001b[39mimport\u001b[39;00m \u001b[39mtorch\u001b[39;00m\n\u001b[1;32m----> <a href='vscode-notebook-cell:/c%3A/Users/ajaoo/Desktop/Projects/Multivate-forecasting/script/MPNN_covid.ipynb#W0sZmlsZQ%3D%3D?line=1'>2</a>\u001b[0m \u001b[39mfrom\u001b[39;00m \u001b[39mtorch_geometric\u001b[39;00m\u001b[39m.\u001b[39;00m\u001b[39mdata\u001b[39;00m \u001b[39mimport\u001b[39;00m Data\n\u001b[0;32m      <a href='vscode-notebook-cell:/c%3A/Users/ajaoo/Desktop/Projects/Multivate-forecasting/script/MPNN_covid.ipynb#W0sZmlsZQ%3D%3D?line=3'>4</a>\u001b[0m edge_index \u001b[39m=\u001b[39m torch\u001b[39m.\u001b[39mtensor([[\u001b[39m0\u001b[39m, \u001b[39m1\u001b[39m, \u001b[39m1\u001b[39m, \u001b[39m2\u001b[39m],\n\u001b[0;32m      <a href='vscode-notebook-cell:/c%3A/Users/ajaoo/Desktop/Projects/Multivate-forecasting/script/MPNN_covid.ipynb#W0sZmlsZQ%3D%3D?line=4'>5</a>\u001b[0m                            [\u001b[39m1\u001b[39m, \u001b[39m0\u001b[39m, \u001b[39m2\u001b[39m, \u001b[39m1\u001b[39m]], dtype\u001b[39m=\u001b[39mtorch\u001b[39m.\u001b[39mlong)\n\u001b[0;32m      <a href='vscode-notebook-cell:/c%3A/Users/ajaoo/Desktop/Projects/Multivate-forecasting/script/MPNN_covid.ipynb#W0sZmlsZQ%3D%3D?line=5'>6</a>\u001b[0m x \u001b[39m=\u001b[39m torch\u001b[39m.\u001b[39mtensor([[\u001b[39m-\u001b[39m\u001b[39m1\u001b[39m], [\u001b[39m0\u001b[39m], [\u001b[39m1\u001b[39m]], dtype\u001b[39m=\u001b[39mtorch\u001b[39m.\u001b[39mfloat)\n",
      "\u001b[1;31mModuleNotFoundError\u001b[0m: No module named 'torch_geometric'"
     ]
    }
   ],
   "source": [
    "import torch\n",
    "from torch_geometric.data import Data\n",
    "\n",
    "edge_index = torch.tensor([[0, 1, 1, 2],\n",
    "                           [1, 0, 2, 1]], dtype=torch.long)\n",
    "x = torch.tensor([[-1], [0], [1]], dtype=torch.float)\n",
    "\n",
    "data = Data(x=x, edge_index=edge_index)"
   ]
  },
  {
   "cell_type": "code",
   "execution_count": 2,
   "metadata": {},
   "outputs": [
    {
     "ename": "ModuleNotFoundError",
     "evalue": "No module named 'torch_geometric_temporal'",
     "output_type": "error",
     "traceback": [
      "\u001b[1;31m---------------------------------------------------------------------------\u001b[0m",
      "\u001b[1;31mModuleNotFoundError\u001b[0m                       Traceback (most recent call last)",
      "\u001b[1;32mc:\\Users\\olarinoyem\\Project\\Covid19-uk\\notebooks\\MPNN_covid.ipynb Cell 2\u001b[0m line \u001b[0;36m1\n\u001b[1;32m----> <a href='vscode-notebook-cell:/c%3A/Users/olarinoyem/Project/Covid19-uk/notebooks/MPNN_covid.ipynb#W1sZmlsZQ%3D%3D?line=0'>1</a>\u001b[0m \u001b[39mfrom\u001b[39;00m \u001b[39mtorch_geometric_temporal\u001b[39;00m\u001b[39m.\u001b[39;00m\u001b[39mdataset\u001b[39;00m \u001b[39mimport\u001b[39;00m ChickenpoxDatasetLoader\n\u001b[0;32m      <a href='vscode-notebook-cell:/c%3A/Users/olarinoyem/Project/Covid19-uk/notebooks/MPNN_covid.ipynb#W1sZmlsZQ%3D%3D?line=1'>2</a>\u001b[0m \u001b[39mfrom\u001b[39;00m \u001b[39mtorch_geometric_temporal\u001b[39;00m\u001b[39m.\u001b[39;00m\u001b[39msignal\u001b[39;00m \u001b[39mimport\u001b[39;00m temporal_signal_split\n\u001b[0;32m      <a href='vscode-notebook-cell:/c%3A/Users/olarinoyem/Project/Covid19-uk/notebooks/MPNN_covid.ipynb#W1sZmlsZQ%3D%3D?line=3'>4</a>\u001b[0m loader \u001b[39m=\u001b[39m ChickenpoxDatasetLoader()\n",
      "\u001b[1;31mModuleNotFoundError\u001b[0m: No module named 'torch_geometric_temporal'"
     ]
    }
   ],
   "source": [
    "from torch_geometric_temporal.dataset import ChickenpoxDatasetLoader\n",
    "from torch_geometric_temporal.signal import temporal_signal_split\n",
    "\n",
    "loader = ChickenpoxDatasetLoader()\n",
    "\n",
    "dataset = loader.get_dataset()\n",
    "\n",
    "train_dataset, test_dataset = temporal_signal_split(dataset, train_ratio=0.2)"
   ]
  },
  {
   "cell_type": "code",
   "execution_count": 1,
   "metadata": {},
   "outputs": [
    {
     "ename": "TypeError",
     "evalue": "translation() got an unexpected keyword argument 'codeset'",
     "output_type": "error",
     "traceback": [
      "\u001b[1;31m---------------------------------------------------------------------------\u001b[0m",
      "\u001b[1;31mTypeError\u001b[0m                                 Traceback (most recent call last)",
      "\u001b[1;32mc:\\Users\\ajaoo\\Desktop\\Projects\\Covid19-uk\\notebooks\\MPNN_covid.ipynb Cell 3\u001b[0m line \u001b[0;36m9\n\u001b[0;32m      <a href='vscode-notebook-cell:/c%3A/Users/ajaoo/Desktop/Projects/Covid19-uk/notebooks/MPNN_covid.ipynb#W2sZmlsZQ%3D%3D?line=5'>6</a>\u001b[0m \u001b[39mfrom\u001b[39;00m \u001b[39mtkinter\u001b[39;00m \u001b[39mimport\u001b[39;00m filedialog\n\u001b[0;32m      <a href='vscode-notebook-cell:/c%3A/Users/ajaoo/Desktop/Projects/Covid19-uk/notebooks/MPNN_covid.ipynb#W2sZmlsZQ%3D%3D?line=6'>7</a>\u001b[0m \u001b[39mfrom\u001b[39;00m \u001b[39mdatetime\u001b[39;00m \u001b[39mimport\u001b[39;00m datetime\n\u001b[1;32m----> <a href='vscode-notebook-cell:/c%3A/Users/ajaoo/Desktop/Projects/Covid19-uk/notebooks/MPNN_covid.ipynb#W2sZmlsZQ%3D%3D?line=8'>9</a>\u001b[0m \u001b[39mfrom\u001b[39;00m \u001b[39mInvoiceGenerator\u001b[39;00m\u001b[39m.\u001b[39;00m\u001b[39mapi\u001b[39;00m \u001b[39mimport\u001b[39;00m Invoice, Item, Client, Provider, Creator\n\u001b[0;32m     <a href='vscode-notebook-cell:/c%3A/Users/ajaoo/Desktop/Projects/Covid19-uk/notebooks/MPNN_covid.ipynb#W2sZmlsZQ%3D%3D?line=9'>10</a>\u001b[0m \u001b[39mfrom\u001b[39;00m \u001b[39mInvoiceGenerator\u001b[39;00m\u001b[39m.\u001b[39;00m\u001b[39mpdf\u001b[39;00m \u001b[39mimport\u001b[39;00m SimpleInvoice\n",
      "File \u001b[1;32mc:\\Users\\ajaoo\\miniconda3\\envs\\work_env\\Lib\\site-packages\\InvoiceGenerator\\api.py:7\u001b[0m\n\u001b[0;32m      4\u001b[0m \u001b[39mimport\u001b[39;00m \u001b[39mdecimal\u001b[39;00m\n\u001b[0;32m      5\u001b[0m \u001b[39mfrom\u001b[39;00m \u001b[39mdecimal\u001b[39;00m \u001b[39mimport\u001b[39;00m Decimal\n\u001b[1;32m----> 7\u001b[0m \u001b[39mfrom\u001b[39;00m \u001b[39mInvoiceGenerator\u001b[39;00m\u001b[39m.\u001b[39;00m\u001b[39mconf\u001b[39;00m \u001b[39mimport\u001b[39;00m _\n\u001b[0;32m      9\u001b[0m \u001b[39mimport\u001b[39;00m \u001b[39mqrcode\u001b[39;00m\n\u001b[0;32m     11\u001b[0m __all__ \u001b[39m=\u001b[39m [\u001b[39m'\u001b[39m\u001b[39mAddress\u001b[39m\u001b[39m'\u001b[39m, \u001b[39m'\u001b[39m\u001b[39mClient\u001b[39m\u001b[39m'\u001b[39m, \u001b[39m'\u001b[39m\u001b[39mProvider\u001b[39m\u001b[39m'\u001b[39m, \u001b[39m'\u001b[39m\u001b[39mCreator\u001b[39m\u001b[39m'\u001b[39m, \u001b[39m'\u001b[39m\u001b[39mItem\u001b[39m\u001b[39m'\u001b[39m, \u001b[39m'\u001b[39m\u001b[39mInvoice\u001b[39m\u001b[39m'\u001b[39m]\n",
      "File \u001b[1;32mc:\\Users\\ajaoo\\miniconda3\\envs\\work_env\\Lib\\site-packages\\InvoiceGenerator\\conf.py:30\u001b[0m\n\u001b[0;32m     28\u001b[0m \u001b[39mtry\u001b[39;00m:\n\u001b[0;32m     29\u001b[0m     lang \u001b[39m=\u001b[39m os\u001b[39m.\u001b[39menviron\u001b[39m.\u001b[39mget(\u001b[39m\"\u001b[39m\u001b[39mINVOICE_LANG\u001b[39m\u001b[39m\"\u001b[39m, LANGUAGE)\n\u001b[1;32m---> 30\u001b[0m     _ \u001b[39m=\u001b[39m get_gettext(lang)\n\u001b[0;32m     31\u001b[0m \u001b[39mexcept\u001b[39;00m \u001b[39mIOError\u001b[39;00m:\n\u001b[0;32m     32\u001b[0m     \u001b[39mdef\u001b[39;00m \u001b[39m_\u001b[39m(x): x\n",
      "File \u001b[1;32mc:\\Users\\ajaoo\\miniconda3\\envs\\work_env\\Lib\\site-packages\\InvoiceGenerator\\conf.py:13\u001b[0m, in \u001b[0;36mget_gettext\u001b[1;34m(lang)\u001b[0m\n\u001b[0;32m     11\u001b[0m \u001b[39mimport\u001b[39;00m \u001b[39mgettext\u001b[39;00m\n\u001b[0;32m     12\u001b[0m path \u001b[39m=\u001b[39m os\u001b[39m.\u001b[39mpath\u001b[39m.\u001b[39mjoin(PROJECT_ROOT, \u001b[39m'\u001b[39m\u001b[39mlocale\u001b[39m\u001b[39m'\u001b[39m)\n\u001b[1;32m---> 13\u001b[0m t \u001b[39m=\u001b[39m gettext\u001b[39m.\u001b[39;49mtranslation(\n\u001b[0;32m     14\u001b[0m     \u001b[39m'\u001b[39;49m\u001b[39mmessages\u001b[39;49m\u001b[39m'\u001b[39;49m,\n\u001b[0;32m     15\u001b[0m     path,\n\u001b[0;32m     16\u001b[0m     languages\u001b[39m=\u001b[39;49m[lang],\n\u001b[0;32m     17\u001b[0m     codeset\u001b[39m=\u001b[39;49m\u001b[39m'\u001b[39;49m\u001b[39mutf8\u001b[39;49m\u001b[39m'\u001b[39;49m,\n\u001b[0;32m     18\u001b[0m     fallback\u001b[39m=\u001b[39;49m\u001b[39mTrue\u001b[39;49;00m,\n\u001b[0;32m     19\u001b[0m )\n\u001b[0;32m     20\u001b[0m t\u001b[39m.\u001b[39minstall()\n\u001b[0;32m     22\u001b[0m \u001b[39mif\u001b[39;00m sys\u001b[39m.\u001b[39mversion_info \u001b[39m>\u001b[39m\u001b[39m=\u001b[39m (\u001b[39m3\u001b[39m, \u001b[39m0\u001b[39m):\n",
      "\u001b[1;31mTypeError\u001b[0m: translation() got an unexpected keyword argument 'codeset'"
     ]
    }
   ],
   "source": [
    "# Importing the required modules\n",
    "import os\n",
    "from decimal import Decimal\n",
    "import tkinter as tk\n",
    "from tkinter import messagebox\n",
    "from tkinter import filedialog\n",
    "from datetime import datetime\n",
    "\n",
    "from InvoiceGenerator.api import Invoice, Item, Client, Provider, Creator\n",
    "from InvoiceGenerator.pdf import SimpleInvoice"
   ]
  },
  {
   "cell_type": "code",
   "execution_count": 2,
   "metadata": {},
   "outputs": [],
   "source": [
    "from reportlab.lib.pagesizes import letter\n",
    "from reportlab.pdfgen import canvas\n",
    "import json\n",
    "\n",
    "def create_invoice(filename, business_info, client_info, services, total_amount):\n",
    "    c = canvas.Canvas(filename, pagesize=letter)\n",
    "    width, height = letter\n",
    "\n",
    "    # Business Details\n",
    "    c.setFont(\"Helvetica-Bold\", 16)\n",
    "    c.drawString(50, height - 40, business_info['name'])\n",
    "    c.setFont(\"Helvetica\", 12)\n",
    "    c.drawString(50, height - 60, business_info['address'])\n",
    "    c.drawString(50, height - 80, \"Phone: \" + business_info['phone'])\n",
    "    c.drawString(50, height - 100, \"Email: \" + business_info['email'])\n",
    "\n",
    "    # Client Details\n",
    "    c.setFont(\"Helvetica-Bold\", 14)\n",
    "    c.drawString(350, height - 40, \"Invoice To:\")\n",
    "    c.setFont(\"Helvetica\", 12)\n",
    "    c.drawString(350, height - 60, client_info['name'])\n",
    "    c.drawString(350, height - 80, \"Date: \" + client_info['event_date'])\n",
    "\n",
    "    # Service Breakdown\n",
    "    y_position = height - 150\n",
    "    c.setFont(\"Helvetica-Bold\", 14)\n",
    "    c.drawString(50, y_position, \"Description\")\n",
    "    c.drawString(300, y_position, \"Price\")\n",
    "    c.setFont(\"Helvetica\", 12)\n",
    "    y_position -= 20\n",
    "\n",
    "    for service, price in services.items():\n",
    "        c.drawString(50, y_position, service)\n",
    "        c.drawString(300, y_position, f\"N {price}\")\n",
    "        y_position -= 20\n",
    "\n",
    "    # Total Amount\n",
    "    c.setFont(\"Helvetica-Bold\", 14)\n",
    "    c.drawString(50, y_position - 20, \"Total Amount:\")\n",
    "    c.drawString(300, y_position - 20, f\"N {total_amount}\")\n",
    "\n",
    "    c.save()\n",
    "\n",
    "def save_invoice_data(filename, invoice_data):\n",
    "    with open(filename, 'w') as file:\n",
    "        json.dump(invoice_data, file)\n",
    "\n",
    "# Example Data\n",
    "business_info = {\n",
    "    \"name\": \"Papromakeover\",\n",
    "    \"address\": \"123 Beauty Street, Lagos, Nigeria\",\n",
    "    \"phone\": \"+234 123 4567\",\n",
    "    \"email\": \"contact@papromakeover.ng\"\n",
    "}\n",
    "\n",
    "client_info = {\n",
    "    \"name\": \"Jane Doe\",\n",
    "    \"event_date\": \"20-Nov-2023\"\n",
    "}\n",
    "\n",
    "services = {\n",
    "    \"Bridal Makeup\": 50000,\n",
    "    \"Evening Makeup\": 30000,\n",
    "    # Add more services as needed\n",
    "}\n",
    "\n",
    "total_amount = sum(services.values())\n",
    "\n",
    "# Create PDF Invoice\n",
    "create_invoice(\"papromakeover_invoice.pdf\", business_info, client_info, services, total_amount)\n",
    "\n",
    "# Save Invoice Data for Record Keeping\n",
    "invoice_data = {\n",
    "    \"business_info\": business_info,\n",
    "    \"client_info\": client_info,\n",
    "    \"services\": services,\n",
    "    \"total_amount\": total_amount\n",
    "}\n",
    "save_invoice_data(\"papromakeover_invoice_data.json\", invoice_data)\n",
    "\n"
   ]
  },
  {
   "cell_type": "code",
   "execution_count": null,
   "metadata": {},
   "outputs": [],
   "source": []
  }
 ],
 "metadata": {
  "kernelspec": {
   "display_name": "tf",
   "language": "python",
   "name": "python3"
  },
  "language_info": {
   "codemirror_mode": {
    "name": "ipython",
    "version": 3
   },
   "file_extension": ".py",
   "mimetype": "text/x-python",
   "name": "python",
   "nbconvert_exporter": "python",
   "pygments_lexer": "ipython3",
   "version": "3.11.5"
  }
 },
 "nbformat": 4,
 "nbformat_minor": 2
}
