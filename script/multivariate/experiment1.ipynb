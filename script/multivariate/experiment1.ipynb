{
 "cells": [
  {
   "cell_type": "code",
   "execution_count": 1,
   "metadata": {},
   "outputs": [
    {
     "name": "stdout",
     "output_type": "stream",
     "text": [
      "c:\\Users\\ajaoo\\Desktop\\Projects\\Multivate-forecasting\n"
     ]
    }
   ],
   "source": [
    "#Changing the working directory to the root\n",
    "%cd ../../"
   ]
  },
  {
   "cell_type": "code",
   "execution_count": 2,
   "metadata": {},
   "outputs": [],
   "source": [
    "import pandas as pd\n",
    "import numpy as np\n",
    "\n",
    "\n",
    "import plotly.express as px\n",
    "import plotly.graph_objects as go\n",
    "import plotly.subplots as sp\n",
    "from itertools import cycle\n",
    "# pio.renderers.default = \"notebook_connected\"\n",
    "import os\n",
    "from pathlib import Path\n",
    "import warnings\n",
    "import matplotlib.dates as mdates\n",
    "import torch\n",
    "\n",
    "warnings.filterwarnings(\"ignore\")"
   ]
  },
  {
   "cell_type": "code",
   "execution_count": 3,
   "metadata": {},
   "outputs": [
    {
     "name": "stdout",
     "output_type": "stream",
     "text": [
      "Using cuda device\n"
     ]
    }
   ],
   "source": [
    "source_data = Path(\"data/\")\n",
    "# Check if a GPU is available\n",
    "# Get cpu, gpu or mps device for training.\n",
    "device = (\n",
    "    \"cuda\"\n",
    "    if torch.cuda.is_available()\n",
    "    else \"mps\" if torch.backends.mps.is_available() else \"cpu\"\n",
    ")\n",
    "print(f\"Using {device} device\")"
   ]
  },
  {
   "cell_type": "code",
   "execution_count": 4,
   "metadata": {},
   "outputs": [
    {
     "data": {
      "text/html": [
       "<div>\n",
       "<style scoped>\n",
       "    .dataframe tbody tr th:only-of-type {\n",
       "        vertical-align: middle;\n",
       "    }\n",
       "\n",
       "    .dataframe tbody tr th {\n",
       "        vertical-align: top;\n",
       "    }\n",
       "\n",
       "    .dataframe thead th {\n",
       "        text-align: right;\n",
       "    }\n",
       "</style>\n",
       "<table border=\"1\" class=\"dataframe\">\n",
       "  <thead>\n",
       "    <tr style=\"text-align: right;\">\n",
       "      <th></th>\n",
       "      <th>date</th>\n",
       "      <th>covidOccupiedMVBeds</th>\n",
       "      <th>cumAdmissions</th>\n",
       "      <th>hospitalCases</th>\n",
       "      <th>newAdmissions</th>\n",
       "      <th>Vax_index</th>\n",
       "      <th>dailyCases</th>\n",
       "      <th>cumulativeCases</th>\n",
       "    </tr>\n",
       "  </thead>\n",
       "  <tbody>\n",
       "    <tr>\n",
       "      <th>0</th>\n",
       "      <td>2020-04-02</td>\n",
       "      <td>1494.0</td>\n",
       "      <td>26264</td>\n",
       "      <td>12135.0</td>\n",
       "      <td>2932</td>\n",
       "      <td>0.33</td>\n",
       "      <td>4097</td>\n",
       "      <td>41174</td>\n",
       "    </tr>\n",
       "    <tr>\n",
       "      <th>1</th>\n",
       "      <td>2020-04-03</td>\n",
       "      <td>1788.0</td>\n",
       "      <td>28828</td>\n",
       "      <td>13635.0</td>\n",
       "      <td>2564</td>\n",
       "      <td>0.33</td>\n",
       "      <td>4102</td>\n",
       "      <td>45276</td>\n",
       "    </tr>\n",
       "    <tr>\n",
       "      <th>2</th>\n",
       "      <td>2020-04-04</td>\n",
       "      <td>1950.0</td>\n",
       "      <td>31421</td>\n",
       "      <td>15469.0</td>\n",
       "      <td>2593</td>\n",
       "      <td>0.33</td>\n",
       "      <td>3405</td>\n",
       "      <td>48681</td>\n",
       "    </tr>\n",
       "    <tr>\n",
       "      <th>3</th>\n",
       "      <td>2020-04-05</td>\n",
       "      <td>2097.0</td>\n",
       "      <td>34013</td>\n",
       "      <td>16657.0</td>\n",
       "      <td>2592</td>\n",
       "      <td>0.33</td>\n",
       "      <td>3094</td>\n",
       "      <td>51775</td>\n",
       "    </tr>\n",
       "    <tr>\n",
       "      <th>4</th>\n",
       "      <td>2020-04-06</td>\n",
       "      <td>2264.0</td>\n",
       "      <td>36692</td>\n",
       "      <td>17154.0</td>\n",
       "      <td>2679</td>\n",
       "      <td>0.33</td>\n",
       "      <td>4407</td>\n",
       "      <td>56182</td>\n",
       "    </tr>\n",
       "  </tbody>\n",
       "</table>\n",
       "</div>"
      ],
      "text/plain": [
       "         date  covidOccupiedMVBeds  cumAdmissions  hospitalCases  \\\n",
       "0  2020-04-02               1494.0          26264        12135.0   \n",
       "1  2020-04-03               1788.0          28828        13635.0   \n",
       "2  2020-04-04               1950.0          31421        15469.0   \n",
       "3  2020-04-05               2097.0          34013        16657.0   \n",
       "4  2020-04-06               2264.0          36692        17154.0   \n",
       "\n",
       "   newAdmissions  Vax_index  dailyCases  cumulativeCases  \n",
       "0           2932       0.33        4097            41174  \n",
       "1           2564       0.33        4102            45276  \n",
       "2           2593       0.33        3405            48681  \n",
       "3           2592       0.33        3094            51775  \n",
       "4           2679       0.33        4407            56182  "
      ]
     },
     "execution_count": 4,
     "metadata": {},
     "output_type": "execute_result"
    }
   ],
   "source": [
    "data = pd.read_csv(\"data/merged_data.csv\")\n",
    "data.head()"
   ]
  },
  {
   "cell_type": "code",
   "execution_count": 5,
   "metadata": {},
   "outputs": [
    {
     "data": {
      "text/html": [
       "<div>\n",
       "<style scoped>\n",
       "    .dataframe tbody tr th:only-of-type {\n",
       "        vertical-align: middle;\n",
       "    }\n",
       "\n",
       "    .dataframe tbody tr th {\n",
       "        vertical-align: top;\n",
       "    }\n",
       "\n",
       "    .dataframe thead th {\n",
       "        text-align: right;\n",
       "    }\n",
       "</style>\n",
       "<table border=\"1\" class=\"dataframe\">\n",
       "  <thead>\n",
       "    <tr style=\"text-align: right;\">\n",
       "      <th></th>\n",
       "      <th>date</th>\n",
       "      <th>covidOccupiedMVBeds</th>\n",
       "      <th>hospitalCases</th>\n",
       "      <th>newAdmissions</th>\n",
       "      <th>Vax_index</th>\n",
       "      <th>dailyCases</th>\n",
       "    </tr>\n",
       "  </thead>\n",
       "  <tbody>\n",
       "    <tr>\n",
       "      <th>0</th>\n",
       "      <td>2020-04-02</td>\n",
       "      <td>1494.0</td>\n",
       "      <td>12135.0</td>\n",
       "      <td>2932</td>\n",
       "      <td>0.33</td>\n",
       "      <td>4097</td>\n",
       "    </tr>\n",
       "    <tr>\n",
       "      <th>1</th>\n",
       "      <td>2020-04-03</td>\n",
       "      <td>1788.0</td>\n",
       "      <td>13635.0</td>\n",
       "      <td>2564</td>\n",
       "      <td>0.33</td>\n",
       "      <td>4102</td>\n",
       "    </tr>\n",
       "    <tr>\n",
       "      <th>2</th>\n",
       "      <td>2020-04-04</td>\n",
       "      <td>1950.0</td>\n",
       "      <td>15469.0</td>\n",
       "      <td>2593</td>\n",
       "      <td>0.33</td>\n",
       "      <td>3405</td>\n",
       "    </tr>\n",
       "    <tr>\n",
       "      <th>3</th>\n",
       "      <td>2020-04-05</td>\n",
       "      <td>2097.0</td>\n",
       "      <td>16657.0</td>\n",
       "      <td>2592</td>\n",
       "      <td>0.33</td>\n",
       "      <td>3094</td>\n",
       "    </tr>\n",
       "    <tr>\n",
       "      <th>4</th>\n",
       "      <td>2020-04-06</td>\n",
       "      <td>2264.0</td>\n",
       "      <td>17154.0</td>\n",
       "      <td>2679</td>\n",
       "      <td>0.33</td>\n",
       "      <td>4407</td>\n",
       "    </tr>\n",
       "  </tbody>\n",
       "</table>\n",
       "</div>"
      ],
      "text/plain": [
       "        date  covidOccupiedMVBeds  hospitalCases  newAdmissions  Vax_index  \\\n",
       "0 2020-04-02               1494.0        12135.0           2932       0.33   \n",
       "1 2020-04-03               1788.0        13635.0           2564       0.33   \n",
       "2 2020-04-04               1950.0        15469.0           2593       0.33   \n",
       "3 2020-04-05               2097.0        16657.0           2592       0.33   \n",
       "4 2020-04-06               2264.0        17154.0           2679       0.33   \n",
       "\n",
       "   dailyCases  \n",
       "0        4097  \n",
       "1        4102  \n",
       "2        3405  \n",
       "3        3094  \n",
       "4        4407  "
      ]
     },
     "execution_count": 5,
     "metadata": {},
     "output_type": "execute_result"
    }
   ],
   "source": [
    "data[\"date\"] = pd.to_datetime(data[\"date\"])\n",
    "data = data.drop(columns=[\"cumulativeCases\", \"cumAdmissions\"])\n",
    "data.head()"
   ]
  },
  {
   "cell_type": "code",
   "execution_count": 6,
   "metadata": {},
   "outputs": [],
   "source": [
    "def format_plot(\n",
    "    fig, legends=None, xlabel=\"Time\", ylabel=\"Value\", title=\"\", font_size=15\n",
    "):\n",
    "    if legends:\n",
    "        names = cycle(legends)\n",
    "        fig.for_each_trace(lambda t: t.update(name=next(names)))\n",
    "    fig.update_layout(\n",
    "        autosize=False,\n",
    "        width=900,\n",
    "        height=500,\n",
    "        title_text=title,\n",
    "        title={\"x\": 0.5, \"xanchor\": \"center\", \"yanchor\": \"top\"},\n",
    "        titlefont={\"size\": 20},\n",
    "        legend_title=None,\n",
    "        legend=dict(\n",
    "            font=dict(size=font_size),\n",
    "            orientation=\"h\",\n",
    "            yanchor=\"bottom\",\n",
    "            y=0.98,\n",
    "            xanchor=\"right\",\n",
    "            x=1,\n",
    "        ),\n",
    "        yaxis=dict(\n",
    "            title_text=ylabel,\n",
    "            titlefont=dict(size=font_size),\n",
    "            tickfont=dict(size=font_size),\n",
    "        ),\n",
    "        xaxis=dict(\n",
    "            title_text=xlabel,\n",
    "            titlefont=dict(size=font_size),\n",
    "            tickfont=dict(size=font_size),\n",
    "        ),\n",
    "    )\n",
    "    return fig\n",
    "\n",
    "\n",
    "def mase(actual, predicted, insample_actual):\n",
    "    mae_insample = np.mean(np.abs(np.diff(insample_actual)))\n",
    "    mae_outsample = np.mean(np.abs(actual - predicted))\n",
    "    return mae_outsample / mae_insample\n",
    "\n",
    "\n",
    "def forecast_bias(actual, predicted):\n",
    "    return np.mean(predicted - actual)\n",
    "\n",
    "\n",
    "def plot_forecast(\n",
    "    pred_df, forecast_columns, forecast_display_names=None, save_path=None\n",
    "):\n",
    "    if forecast_display_names is None:\n",
    "        forecast_display_names = forecast_columns\n",
    "    else:\n",
    "        assert len(forecast_columns) == len(forecast_display_names)\n",
    "\n",
    "    mask = ~pred_df[forecast_columns[0]].isnull()\n",
    "    colors = px.colors.qualitative.Set2  # Using a different color palette\n",
    "    act_color = colors[0]\n",
    "    colors = cycle(colors[1:])\n",
    "\n",
    "    fig = go.Figure()\n",
    "\n",
    "    # Actual data plot\n",
    "    fig.add_trace(\n",
    "        go.Scatter(\n",
    "            x=pred_df[mask].index,\n",
    "            y=pred_df[mask].covidOccupiedMVBeds,\n",
    "            mode=\"lines\",\n",
    "            marker=dict(size=6, opacity=0.5),\n",
    "            line=dict(color=act_color, width=2),\n",
    "            name=\"Actual COVID-19 MVBeds trends\",\n",
    "        )\n",
    "    )\n",
    "\n",
    "    # Predicted data plot\n",
    "    for col, display_col in zip(forecast_columns, forecast_display_names):\n",
    "        fig.add_trace(\n",
    "            go.Scatter(\n",
    "                x=pred_df[mask].index,\n",
    "                y=pred_df.loc[mask, col],\n",
    "                mode=\"lines+markers\",\n",
    "                marker=dict(size=4),\n",
    "                line=dict(color=next(colors), width=2),\n",
    "                name=display_col,\n",
    "            )\n",
    "        )\n",
    "\n",
    "    return fig\n",
    "\n",
    "\n",
    "def highlight_abs_min(s, props=\"\"):\n",
    "    return np.where(s == np.nanmin(np.abs(s.values)), props, \"\")"
   ]
  },
  {
   "cell_type": "code",
   "execution_count": 7,
   "metadata": {},
   "outputs": [
    {
     "name": "stdout",
     "output_type": "stream",
     "text": [
      "Minimum Date: 2020-04-02 00:00:00\n",
      "Maximum Date: 2023-05-31 00:00:00\n",
      "# of Training samples: 866 | # of Validation samples: 115 | # of Test samples: 174\n",
      "Percentage of Dates in Train: 74.98% | Percentage of Dates in Validation: 9.96% | Percentage of Dates in Test: 15.06%\n",
      "Max Date in Train: 2022-08-15 00:00:00 | Min Date in Validation: 2022-08-16 00:00:00 | Min Date in Test: 2022-12-09 00:00:00\n"
     ]
    }
   ],
   "source": [
    "# Find the minimum and maximum dates\n",
    "min_date = data[\"date\"].min()\n",
    "max_date = data[\"date\"].max()\n",
    "\n",
    "print(\"Minimum Date:\", min_date)\n",
    "print(\"Maximum Date:\", max_date)\n",
    "\n",
    "# Calculate the date ranges for train, val, and test sets\n",
    "date_range = max_date - min_date\n",
    "train_end = min_date + pd.Timedelta(days=date_range.days * 0.75)\n",
    "val_end = train_end + pd.Timedelta(days=date_range.days * 0.10)\n",
    "\n",
    "# Split the data into train, validation, and test sets based on the date ranges\n",
    "train = data[data[\"date\"] < train_end]\n",
    "val = data[(data[\"date\"] >= train_end) & (data[\"date\"] < val_end)]\n",
    "test = data[data[\"date\"] >= val_end]\n",
    "\n",
    "# Calculate the percentage of dates in each dataset\n",
    "total_samples = len(data)\n",
    "train_percentage = len(train) / total_samples * 100\n",
    "val_percentage = len(val) / total_samples * 100\n",
    "test_percentage = len(test) / total_samples * 100\n",
    "\n",
    "print(\n",
    "    f\"# of Training samples: {len(train)} | # of Validation samples: {len(val)} | # of Test samples: {len(test)}\"\n",
    ")\n",
    "print(\n",
    "    f\"Percentage of Dates in Train: {train_percentage:.2f}% | Percentage of Dates in Validation: {val_percentage:.2f}% | Percentage of Dates in Test: {test_percentage:.2f}%\"\n",
    ")\n",
    "print(\n",
    "    f\"Max Date in Train: {train.date.max()} | Min Date in Validation: {val.date.min()} | Min Date in Test: {test.date.min()}\"\n",
    ")"
   ]
  },
  {
   "cell_type": "code",
   "execution_count": 8,
   "metadata": {},
   "outputs": [
    {
     "name": "stdout",
     "output_type": "stream",
     "text": [
      "<class 'pandas.core.frame.DataFrame'>\n",
      "Index: 866 entries, 0 to 865\n",
      "Data columns (total 6 columns):\n",
      " #   Column               Non-Null Count  Dtype         \n",
      "---  ------               --------------  -----         \n",
      " 0   date                 866 non-null    datetime64[ns]\n",
      " 1   covidOccupiedMVBeds  866 non-null    float64       \n",
      " 2   hospitalCases        866 non-null    float64       \n",
      " 3   newAdmissions        866 non-null    int64         \n",
      " 4   Vax_index            866 non-null    float64       \n",
      " 5   dailyCases           866 non-null    int64         \n",
      "dtypes: datetime64[ns](1), float64(3), int64(2)\n",
      "memory usage: 47.4 KB\n"
     ]
    }
   ],
   "source": [
    "train.info()"
   ]
  },
  {
   "cell_type": "code",
   "execution_count": 9,
   "metadata": {},
   "outputs": [],
   "source": [
    "train.to_csv(source_data / \"train.csv\")\n",
    "val.to_csv(source_data / \"val.csv\")\n",
    "test.to_csv(source_data / \"test.csv\")"
   ]
  },
  {
   "cell_type": "code",
   "execution_count": 10,
   "metadata": {},
   "outputs": [],
   "source": [
    "class LogTime:\n",
    "    from time import time\n",
    "\n",
    "    def __enter__(self):\n",
    "        self.start_time = self.time()\n",
    "        print(\"Starting operation...\")\n",
    "\n",
    "    def __exit__(self, type, value, traceback):\n",
    "        elapsed_time = self.time() - self.start_time\n",
    "        print(f\"Operation completed in {elapsed_time} seconds.\")\n",
    "\n",
    "\n",
    "def add_lags(df, lags, column):\n",
    "    added_features = []\n",
    "    for lag in lags:\n",
    "        lag_col_name = f\"{column}_lag_{lag}\"\n",
    "        df[lag_col_name] = df[column].shift(lag)\n",
    "        added_features.append(lag_col_name)\n",
    "    # Drop rows with NaN values\n",
    "    df.dropna(inplace=True)\n",
    "    return df, added_features"
   ]
  },
  {
   "cell_type": "code",
   "execution_count": 11,
   "metadata": {},
   "outputs": [],
   "source": [
    "lags = [1, 7]\n",
    "\n",
    "data_with_lags, added_features = add_lags(data, lags, \"covidOccupiedMVBeds\")"
   ]
  },
  {
   "cell_type": "code",
   "execution_count": 12,
   "metadata": {},
   "outputs": [
    {
     "data": {
      "text/html": [
       "<div>\n",
       "<style scoped>\n",
       "    .dataframe tbody tr th:only-of-type {\n",
       "        vertical-align: middle;\n",
       "    }\n",
       "\n",
       "    .dataframe tbody tr th {\n",
       "        vertical-align: top;\n",
       "    }\n",
       "\n",
       "    .dataframe thead th {\n",
       "        text-align: right;\n",
       "    }\n",
       "</style>\n",
       "<table border=\"1\" class=\"dataframe\">\n",
       "  <thead>\n",
       "    <tr style=\"text-align: right;\">\n",
       "      <th></th>\n",
       "      <th>date</th>\n",
       "      <th>covidOccupiedMVBeds</th>\n",
       "      <th>hospitalCases</th>\n",
       "      <th>newAdmissions</th>\n",
       "      <th>Vax_index</th>\n",
       "      <th>dailyCases</th>\n",
       "      <th>covidOccupiedMVBeds_lag_1</th>\n",
       "      <th>covidOccupiedMVBeds_lag_7</th>\n",
       "    </tr>\n",
       "  </thead>\n",
       "  <tbody>\n",
       "    <tr>\n",
       "      <th>7</th>\n",
       "      <td>2020-04-09</td>\n",
       "      <td>2546.0</td>\n",
       "      <td>18423.0</td>\n",
       "      <td>2340</td>\n",
       "      <td>0.33</td>\n",
       "      <td>4076</td>\n",
       "      <td>2561.0</td>\n",
       "      <td>1494.0</td>\n",
       "    </tr>\n",
       "    <tr>\n",
       "      <th>8</th>\n",
       "      <td>2020-04-10</td>\n",
       "      <td>2820.0</td>\n",
       "      <td>18669.0</td>\n",
       "      <td>2196</td>\n",
       "      <td>0.33</td>\n",
       "      <td>3590</td>\n",
       "      <td>2546.0</td>\n",
       "      <td>1788.0</td>\n",
       "    </tr>\n",
       "    <tr>\n",
       "      <th>9</th>\n",
       "      <td>2020-04-11</td>\n",
       "      <td>2865.0</td>\n",
       "      <td>18604.0</td>\n",
       "      <td>1955</td>\n",
       "      <td>0.33</td>\n",
       "      <td>3085</td>\n",
       "      <td>2820.0</td>\n",
       "      <td>1950.0</td>\n",
       "    </tr>\n",
       "    <tr>\n",
       "      <th>10</th>\n",
       "      <td>2020-04-12</td>\n",
       "      <td>2881.0</td>\n",
       "      <td>18974.0</td>\n",
       "      <td>1791</td>\n",
       "      <td>0.33</td>\n",
       "      <td>2958</td>\n",
       "      <td>2865.0</td>\n",
       "      <td>2097.0</td>\n",
       "    </tr>\n",
       "    <tr>\n",
       "      <th>11</th>\n",
       "      <td>2020-04-13</td>\n",
       "      <td>2872.0</td>\n",
       "      <td>18621.0</td>\n",
       "      <td>1912</td>\n",
       "      <td>0.33</td>\n",
       "      <td>3463</td>\n",
       "      <td>2881.0</td>\n",
       "      <td>2264.0</td>\n",
       "    </tr>\n",
       "  </tbody>\n",
       "</table>\n",
       "</div>"
      ],
      "text/plain": [
       "         date  covidOccupiedMVBeds  hospitalCases  newAdmissions  Vax_index  \\\n",
       "7  2020-04-09               2546.0        18423.0           2340       0.33   \n",
       "8  2020-04-10               2820.0        18669.0           2196       0.33   \n",
       "9  2020-04-11               2865.0        18604.0           1955       0.33   \n",
       "10 2020-04-12               2881.0        18974.0           1791       0.33   \n",
       "11 2020-04-13               2872.0        18621.0           1912       0.33   \n",
       "\n",
       "    dailyCases  covidOccupiedMVBeds_lag_1  covidOccupiedMVBeds_lag_7  \n",
       "7         4076                     2561.0                     1494.0  \n",
       "8         3590                     2546.0                     1788.0  \n",
       "9         3085                     2820.0                     1950.0  \n",
       "10        2958                     2865.0                     2097.0  \n",
       "11        3463                     2881.0                     2264.0  "
      ]
     },
     "execution_count": 12,
     "metadata": {},
     "output_type": "execute_result"
    }
   ],
   "source": [
    "data_with_lags.head()"
   ]
  },
  {
   "cell_type": "code",
   "execution_count": 13,
   "metadata": {},
   "outputs": [],
   "source": [
    "def add_seasonal_rolling_features(df, rolls, seasonal_periods, columns, agg_funcs):\n",
    "    added_features = []\n",
    "\n",
    "    for column in columns:\n",
    "        for roll in rolls:\n",
    "            for period in seasonal_periods:\n",
    "                for func in agg_funcs:\n",
    "                    roll_column = f\"{column}_roll_{roll}_period_{period}_{func}\"\n",
    "\n",
    "                    # Calculate the rolling feature\n",
    "                    rolled = df[column].rolling(window=roll * period)\n",
    "                    if func == \"mean\":\n",
    "                        df[roll_column] = rolled.mean()\n",
    "                    elif func == \"std\":\n",
    "                        df[roll_column] = rolled.std()\n",
    "\n",
    "                    added_features.append(roll_column)\n",
    "\n",
    "    # Drop rows with NaN values\n",
    "    df.dropna(inplace=True)\n",
    "\n",
    "    return df, added_features"
   ]
  },
  {
   "cell_type": "code",
   "execution_count": 14,
   "metadata": {},
   "outputs": [
    {
     "name": "stdout",
     "output_type": "stream",
     "text": [
      "Starting operation...\n",
      "Operation completed in 0.0030379295349121094 seconds.\n",
      "Features Created: covidOccupiedMVBeds_roll_1_period_7_mean,hospitalCases_roll_1_period_7_mean,newAdmissions_roll_1_period_7_mean,dailyCases_roll_1_period_7_mean\n"
     ]
    }
   ],
   "source": [
    "# Define parameters for the function\n",
    "rolls = [1]\n",
    "seasonal_periods = [7]  # Example: 7 days for weekly, 30 days for monthly\n",
    "columns = [\"covidOccupiedMVBeds\", \"hospitalCases\", \"newAdmissions\", \"dailyCases\"]\n",
    "agg_funcs = [\"mean\"]\n",
    "\n",
    "with LogTime():\n",
    "    data, added_features = add_seasonal_rolling_features(\n",
    "        data, rolls, seasonal_periods, columns, agg_funcs\n",
    "    )\n",
    "\n",
    "print(f\"Features Created: {','.join(added_features)}\")"
   ]
  },
  {
   "cell_type": "code",
   "execution_count": 15,
   "metadata": {},
   "outputs": [
    {
     "data": {
      "text/html": [
       "<div>\n",
       "<style scoped>\n",
       "    .dataframe tbody tr th:only-of-type {\n",
       "        vertical-align: middle;\n",
       "    }\n",
       "\n",
       "    .dataframe tbody tr th {\n",
       "        vertical-align: top;\n",
       "    }\n",
       "\n",
       "    .dataframe thead th {\n",
       "        text-align: right;\n",
       "    }\n",
       "</style>\n",
       "<table border=\"1\" class=\"dataframe\">\n",
       "  <thead>\n",
       "    <tr style=\"text-align: right;\">\n",
       "      <th></th>\n",
       "      <th>date</th>\n",
       "      <th>covidOccupiedMVBeds</th>\n",
       "      <th>hospitalCases</th>\n",
       "      <th>newAdmissions</th>\n",
       "      <th>Vax_index</th>\n",
       "      <th>dailyCases</th>\n",
       "      <th>covidOccupiedMVBeds_lag_1</th>\n",
       "      <th>covidOccupiedMVBeds_lag_7</th>\n",
       "      <th>covidOccupiedMVBeds_roll_1_period_7_mean</th>\n",
       "      <th>hospitalCases_roll_1_period_7_mean</th>\n",
       "      <th>newAdmissions_roll_1_period_7_mean</th>\n",
       "      <th>dailyCases_roll_1_period_7_mean</th>\n",
       "    </tr>\n",
       "  </thead>\n",
       "  <tbody>\n",
       "    <tr>\n",
       "      <th>13</th>\n",
       "      <td>2020-04-15</td>\n",
       "      <td>2847.0</td>\n",
       "      <td>17934.0</td>\n",
       "      <td>1608</td>\n",
       "      <td>0.33</td>\n",
       "      <td>4240</td>\n",
       "      <td>2849.0</td>\n",
       "      <td>2561.0</td>\n",
       "      <td>2811.428571</td>\n",
       "      <td>18539.571429</td>\n",
       "      <td>1951.571429</td>\n",
       "      <td>3568.571429</td>\n",
       "    </tr>\n",
       "    <tr>\n",
       "      <th>14</th>\n",
       "      <td>2020-04-16</td>\n",
       "      <td>2838.0</td>\n",
       "      <td>17783.0</td>\n",
       "      <td>1777</td>\n",
       "      <td>0.33</td>\n",
       "      <td>4360</td>\n",
       "      <td>2847.0</td>\n",
       "      <td>2546.0</td>\n",
       "      <td>2853.142857</td>\n",
       "      <td>18448.142857</td>\n",
       "      <td>1871.142857</td>\n",
       "      <td>3609.142857</td>\n",
       "    </tr>\n",
       "    <tr>\n",
       "      <th>15</th>\n",
       "      <td>2020-04-17</td>\n",
       "      <td>2780.0</td>\n",
       "      <td>16728.0</td>\n",
       "      <td>1674</td>\n",
       "      <td>0.33</td>\n",
       "      <td>4088</td>\n",
       "      <td>2838.0</td>\n",
       "      <td>2820.0</td>\n",
       "      <td>2847.428571</td>\n",
       "      <td>18170.857143</td>\n",
       "      <td>1796.571429</td>\n",
       "      <td>3680.285714</td>\n",
       "    </tr>\n",
       "    <tr>\n",
       "      <th>16</th>\n",
       "      <td>2020-04-18</td>\n",
       "      <td>2868.0</td>\n",
       "      <td>16850.0</td>\n",
       "      <td>1411</td>\n",
       "      <td>0.33</td>\n",
       "      <td>4142</td>\n",
       "      <td>2780.0</td>\n",
       "      <td>2865.0</td>\n",
       "      <td>2847.857143</td>\n",
       "      <td>17920.285714</td>\n",
       "      <td>1718.857143</td>\n",
       "      <td>3831.285714</td>\n",
       "    </tr>\n",
       "    <tr>\n",
       "      <th>17</th>\n",
       "      <td>2020-04-19</td>\n",
       "      <td>2820.0</td>\n",
       "      <td>16928.0</td>\n",
       "      <td>1475</td>\n",
       "      <td>0.33</td>\n",
       "      <td>3494</td>\n",
       "      <td>2868.0</td>\n",
       "      <td>2881.0</td>\n",
       "      <td>2839.142857</td>\n",
       "      <td>17628.000000</td>\n",
       "      <td>1673.714286</td>\n",
       "      <td>3907.857143</td>\n",
       "    </tr>\n",
       "  </tbody>\n",
       "</table>\n",
       "</div>"
      ],
      "text/plain": [
       "         date  covidOccupiedMVBeds  hospitalCases  newAdmissions  Vax_index  \\\n",
       "13 2020-04-15               2847.0        17934.0           1608       0.33   \n",
       "14 2020-04-16               2838.0        17783.0           1777       0.33   \n",
       "15 2020-04-17               2780.0        16728.0           1674       0.33   \n",
       "16 2020-04-18               2868.0        16850.0           1411       0.33   \n",
       "17 2020-04-19               2820.0        16928.0           1475       0.33   \n",
       "\n",
       "    dailyCases  covidOccupiedMVBeds_lag_1  covidOccupiedMVBeds_lag_7  \\\n",
       "13        4240                     2849.0                     2561.0   \n",
       "14        4360                     2847.0                     2546.0   \n",
       "15        4088                     2838.0                     2820.0   \n",
       "16        4142                     2780.0                     2865.0   \n",
       "17        3494                     2868.0                     2881.0   \n",
       "\n",
       "    covidOccupiedMVBeds_roll_1_period_7_mean  \\\n",
       "13                               2811.428571   \n",
       "14                               2853.142857   \n",
       "15                               2847.428571   \n",
       "16                               2847.857143   \n",
       "17                               2839.142857   \n",
       "\n",
       "    hospitalCases_roll_1_period_7_mean  newAdmissions_roll_1_period_7_mean  \\\n",
       "13                        18539.571429                         1951.571429   \n",
       "14                        18448.142857                         1871.142857   \n",
       "15                        18170.857143                         1796.571429   \n",
       "16                        17920.285714                         1718.857143   \n",
       "17                        17628.000000                         1673.714286   \n",
       "\n",
       "    dailyCases_roll_1_period_7_mean  \n",
       "13                      3568.571429  \n",
       "14                      3609.142857  \n",
       "15                      3680.285714  \n",
       "16                      3831.285714  \n",
       "17                      3907.857143  "
      ]
     },
     "execution_count": 15,
     "metadata": {},
     "output_type": "execute_result"
    }
   ],
   "source": [
    "data.head()"
   ]
  },
  {
   "cell_type": "code",
   "execution_count": 16,
   "metadata": {},
   "outputs": [
    {
     "name": "stdout",
     "output_type": "stream",
     "text": [
      "Starting operation...\n",
      "Operation completed in 0.006541252136230469 seconds.\n",
      "Features Created: _Month,_Quarter,_Is_quarter_end,_Is_quarter_start,_Is_year_end,_Is_year_start,_Is_month_start,_WeekDay,_Dayofweek,_Dayofyear,_Elapsed\n"
     ]
    }
   ],
   "source": [
    "from src.feature_engineering.temporal_features import add_temporal_features\n",
    "\n",
    "# Temporarily reset the index\n",
    "data_reset = data.reset_index()\n",
    "\n",
    "with LogTime():\n",
    "    data_reset, added_features = add_temporal_features(\n",
    "        data_reset,\n",
    "        field_name=\"date\",\n",
    "        frequency=\"D\",\n",
    "        add_elapsed=True,\n",
    "        drop=False,\n",
    "        use_32_bit=True,\n",
    "    )\n",
    "print(f\"Features Created: {','.join(added_features)}\")\n",
    "\n",
    "# Set the 'date' column back as the index\n",
    "data = data_reset.set_index(\"date\")"
   ]
  },
  {
   "cell_type": "code",
   "execution_count": 17,
   "metadata": {},
   "outputs": [
    {
     "data": {
      "text/html": [
       "<div>\n",
       "<style scoped>\n",
       "    .dataframe tbody tr th:only-of-type {\n",
       "        vertical-align: middle;\n",
       "    }\n",
       "\n",
       "    .dataframe tbody tr th {\n",
       "        vertical-align: top;\n",
       "    }\n",
       "\n",
       "    .dataframe thead th {\n",
       "        text-align: right;\n",
       "    }\n",
       "</style>\n",
       "<table border=\"1\" class=\"dataframe\">\n",
       "  <thead>\n",
       "    <tr style=\"text-align: right;\">\n",
       "      <th></th>\n",
       "      <th>index</th>\n",
       "      <th>covidOccupiedMVBeds</th>\n",
       "      <th>hospitalCases</th>\n",
       "      <th>newAdmissions</th>\n",
       "      <th>Vax_index</th>\n",
       "      <th>dailyCases</th>\n",
       "      <th>covidOccupiedMVBeds_lag_1</th>\n",
       "      <th>covidOccupiedMVBeds_lag_7</th>\n",
       "      <th>covidOccupiedMVBeds_roll_1_period_7_mean</th>\n",
       "      <th>hospitalCases_roll_1_period_7_mean</th>\n",
       "      <th>...</th>\n",
       "      <th>_Quarter</th>\n",
       "      <th>_Is_quarter_end</th>\n",
       "      <th>_Is_quarter_start</th>\n",
       "      <th>_Is_year_end</th>\n",
       "      <th>_Is_year_start</th>\n",
       "      <th>_Is_month_start</th>\n",
       "      <th>_WeekDay</th>\n",
       "      <th>_Dayofweek</th>\n",
       "      <th>_Dayofyear</th>\n",
       "      <th>_Elapsed</th>\n",
       "    </tr>\n",
       "    <tr>\n",
       "      <th>date</th>\n",
       "      <th></th>\n",
       "      <th></th>\n",
       "      <th></th>\n",
       "      <th></th>\n",
       "      <th></th>\n",
       "      <th></th>\n",
       "      <th></th>\n",
       "      <th></th>\n",
       "      <th></th>\n",
       "      <th></th>\n",
       "      <th></th>\n",
       "      <th></th>\n",
       "      <th></th>\n",
       "      <th></th>\n",
       "      <th></th>\n",
       "      <th></th>\n",
       "      <th></th>\n",
       "      <th></th>\n",
       "      <th></th>\n",
       "      <th></th>\n",
       "      <th></th>\n",
       "    </tr>\n",
       "  </thead>\n",
       "  <tbody>\n",
       "    <tr>\n",
       "      <th>2020-04-15</th>\n",
       "      <td>13</td>\n",
       "      <td>2847.0</td>\n",
       "      <td>17934.0</td>\n",
       "      <td>1608</td>\n",
       "      <td>0.33</td>\n",
       "      <td>4240</td>\n",
       "      <td>2849.0</td>\n",
       "      <td>2561.0</td>\n",
       "      <td>2811.428571</td>\n",
       "      <td>18539.571429</td>\n",
       "      <td>...</td>\n",
       "      <td>2</td>\n",
       "      <td>0</td>\n",
       "      <td>0</td>\n",
       "      <td>0</td>\n",
       "      <td>0</td>\n",
       "      <td>0</td>\n",
       "      <td>2</td>\n",
       "      <td>2</td>\n",
       "      <td>106</td>\n",
       "      <td>1586908800</td>\n",
       "    </tr>\n",
       "    <tr>\n",
       "      <th>2020-04-16</th>\n",
       "      <td>14</td>\n",
       "      <td>2838.0</td>\n",
       "      <td>17783.0</td>\n",
       "      <td>1777</td>\n",
       "      <td>0.33</td>\n",
       "      <td>4360</td>\n",
       "      <td>2847.0</td>\n",
       "      <td>2546.0</td>\n",
       "      <td>2853.142857</td>\n",
       "      <td>18448.142857</td>\n",
       "      <td>...</td>\n",
       "      <td>2</td>\n",
       "      <td>0</td>\n",
       "      <td>0</td>\n",
       "      <td>0</td>\n",
       "      <td>0</td>\n",
       "      <td>0</td>\n",
       "      <td>3</td>\n",
       "      <td>3</td>\n",
       "      <td>107</td>\n",
       "      <td>1586995200</td>\n",
       "    </tr>\n",
       "    <tr>\n",
       "      <th>2020-04-17</th>\n",
       "      <td>15</td>\n",
       "      <td>2780.0</td>\n",
       "      <td>16728.0</td>\n",
       "      <td>1674</td>\n",
       "      <td>0.33</td>\n",
       "      <td>4088</td>\n",
       "      <td>2838.0</td>\n",
       "      <td>2820.0</td>\n",
       "      <td>2847.428571</td>\n",
       "      <td>18170.857143</td>\n",
       "      <td>...</td>\n",
       "      <td>2</td>\n",
       "      <td>0</td>\n",
       "      <td>0</td>\n",
       "      <td>0</td>\n",
       "      <td>0</td>\n",
       "      <td>0</td>\n",
       "      <td>4</td>\n",
       "      <td>4</td>\n",
       "      <td>108</td>\n",
       "      <td>1587081600</td>\n",
       "    </tr>\n",
       "    <tr>\n",
       "      <th>2020-04-18</th>\n",
       "      <td>16</td>\n",
       "      <td>2868.0</td>\n",
       "      <td>16850.0</td>\n",
       "      <td>1411</td>\n",
       "      <td>0.33</td>\n",
       "      <td>4142</td>\n",
       "      <td>2780.0</td>\n",
       "      <td>2865.0</td>\n",
       "      <td>2847.857143</td>\n",
       "      <td>17920.285714</td>\n",
       "      <td>...</td>\n",
       "      <td>2</td>\n",
       "      <td>0</td>\n",
       "      <td>0</td>\n",
       "      <td>0</td>\n",
       "      <td>0</td>\n",
       "      <td>0</td>\n",
       "      <td>5</td>\n",
       "      <td>5</td>\n",
       "      <td>109</td>\n",
       "      <td>1587168000</td>\n",
       "    </tr>\n",
       "    <tr>\n",
       "      <th>2020-04-19</th>\n",
       "      <td>17</td>\n",
       "      <td>2820.0</td>\n",
       "      <td>16928.0</td>\n",
       "      <td>1475</td>\n",
       "      <td>0.33</td>\n",
       "      <td>3494</td>\n",
       "      <td>2868.0</td>\n",
       "      <td>2881.0</td>\n",
       "      <td>2839.142857</td>\n",
       "      <td>17628.000000</td>\n",
       "      <td>...</td>\n",
       "      <td>2</td>\n",
       "      <td>0</td>\n",
       "      <td>0</td>\n",
       "      <td>0</td>\n",
       "      <td>0</td>\n",
       "      <td>0</td>\n",
       "      <td>6</td>\n",
       "      <td>6</td>\n",
       "      <td>110</td>\n",
       "      <td>1587254400</td>\n",
       "    </tr>\n",
       "  </tbody>\n",
       "</table>\n",
       "<p>5 rows × 23 columns</p>\n",
       "</div>"
      ],
      "text/plain": [
       "            index  covidOccupiedMVBeds  hospitalCases  newAdmissions  \\\n",
       "date                                                                   \n",
       "2020-04-15     13               2847.0        17934.0           1608   \n",
       "2020-04-16     14               2838.0        17783.0           1777   \n",
       "2020-04-17     15               2780.0        16728.0           1674   \n",
       "2020-04-18     16               2868.0        16850.0           1411   \n",
       "2020-04-19     17               2820.0        16928.0           1475   \n",
       "\n",
       "            Vax_index  dailyCases  covidOccupiedMVBeds_lag_1  \\\n",
       "date                                                           \n",
       "2020-04-15       0.33        4240                     2849.0   \n",
       "2020-04-16       0.33        4360                     2847.0   \n",
       "2020-04-17       0.33        4088                     2838.0   \n",
       "2020-04-18       0.33        4142                     2780.0   \n",
       "2020-04-19       0.33        3494                     2868.0   \n",
       "\n",
       "            covidOccupiedMVBeds_lag_7  \\\n",
       "date                                    \n",
       "2020-04-15                     2561.0   \n",
       "2020-04-16                     2546.0   \n",
       "2020-04-17                     2820.0   \n",
       "2020-04-18                     2865.0   \n",
       "2020-04-19                     2881.0   \n",
       "\n",
       "            covidOccupiedMVBeds_roll_1_period_7_mean  \\\n",
       "date                                                   \n",
       "2020-04-15                               2811.428571   \n",
       "2020-04-16                               2853.142857   \n",
       "2020-04-17                               2847.428571   \n",
       "2020-04-18                               2847.857143   \n",
       "2020-04-19                               2839.142857   \n",
       "\n",
       "            hospitalCases_roll_1_period_7_mean  ...  _Quarter  \\\n",
       "date                                            ...             \n",
       "2020-04-15                        18539.571429  ...         2   \n",
       "2020-04-16                        18448.142857  ...         2   \n",
       "2020-04-17                        18170.857143  ...         2   \n",
       "2020-04-18                        17920.285714  ...         2   \n",
       "2020-04-19                        17628.000000  ...         2   \n",
       "\n",
       "            _Is_quarter_end  _Is_quarter_start  _Is_year_end  _Is_year_start  \\\n",
       "date                                                                           \n",
       "2020-04-15                0                  0             0               0   \n",
       "2020-04-16                0                  0             0               0   \n",
       "2020-04-17                0                  0             0               0   \n",
       "2020-04-18                0                  0             0               0   \n",
       "2020-04-19                0                  0             0               0   \n",
       "\n",
       "            _Is_month_start  _WeekDay  _Dayofweek  _Dayofyear    _Elapsed  \n",
       "date                                                                       \n",
       "2020-04-15                0         2           2         106  1586908800  \n",
       "2020-04-16                0         3           3         107  1586995200  \n",
       "2020-04-17                0         4           4         108  1587081600  \n",
       "2020-04-18                0         5           5         109  1587168000  \n",
       "2020-04-19                0         6           6         110  1587254400  \n",
       "\n",
       "[5 rows x 23 columns]"
      ]
     },
     "execution_count": 17,
     "metadata": {},
     "output_type": "execute_result"
    }
   ],
   "source": [
    "data.head()"
   ]
  },
  {
   "cell_type": "code",
   "execution_count": 18,
   "metadata": {},
   "outputs": [],
   "source": [
    "# from src.transforms.target_transformations import AutoStationaryTransformer\n",
    "\n",
    "# # Set the target variable\n",
    "# target = \"covidOccupiedMVBeds\"\n",
    "\n",
    "# # Initialize the AutoStationaryTransformer with a seasonality period\n",
    "# # Adjust the seasonal_period based on your data's seasonality (for example, 7 for weekly seasonality)\n",
    "# seasonal_period = 7\n",
    "# auto_stationary = AutoStationaryTransformer(seasonal_period=seasonal_period)\n",
    "\n",
    "# # Fit and transform the target column to make it stationary\n",
    "# data_stat = auto_stationary.fit_transform(data[[target]], freq=\"D\")\n",
    "\n",
    "# # Replace the original target values with the transformed stationary values\n",
    "# data[target] = data_stat.values\n",
    "\n",
    "# # Print the transformed data to check\n",
    "# data.head()"
   ]
  },
  {
   "cell_type": "code",
   "execution_count": 19,
   "metadata": {},
   "outputs": [
    {
     "name": "stdout",
     "output_type": "stream",
     "text": [
      "<class 'pandas.core.frame.DataFrame'>\n",
      "DatetimeIndex: 1142 entries, 2020-04-15 to 2023-05-31\n",
      "Data columns (total 23 columns):\n",
      " #   Column                                    Non-Null Count  Dtype  \n",
      "---  ------                                    --------------  -----  \n",
      " 0   index                                     1142 non-null   int64  \n",
      " 1   covidOccupiedMVBeds                       1142 non-null   float64\n",
      " 2   hospitalCases                             1142 non-null   float64\n",
      " 3   newAdmissions                             1142 non-null   int64  \n",
      " 4   Vax_index                                 1142 non-null   float64\n",
      " 5   dailyCases                                1142 non-null   int64  \n",
      " 6   covidOccupiedMVBeds_lag_1                 1142 non-null   float64\n",
      " 7   covidOccupiedMVBeds_lag_7                 1142 non-null   float64\n",
      " 8   covidOccupiedMVBeds_roll_1_period_7_mean  1142 non-null   float64\n",
      " 9   hospitalCases_roll_1_period_7_mean        1142 non-null   float64\n",
      " 10  newAdmissions_roll_1_period_7_mean        1142 non-null   float64\n",
      " 11  dailyCases_roll_1_period_7_mean           1142 non-null   float64\n",
      " 12  _Month                                    1142 non-null   int32  \n",
      " 13  _Quarter                                  1142 non-null   int32  \n",
      " 14  _Is_quarter_end                           1142 non-null   int32  \n",
      " 15  _Is_quarter_start                         1142 non-null   int32  \n",
      " 16  _Is_year_end                              1142 non-null   int32  \n",
      " 17  _Is_year_start                            1142 non-null   int32  \n",
      " 18  _Is_month_start                           1142 non-null   int32  \n",
      " 19  _WeekDay                                  1142 non-null   int32  \n",
      " 20  _Dayofweek                                1142 non-null   int32  \n",
      " 21  _Dayofyear                                1142 non-null   int32  \n",
      " 22  _Elapsed                                  1142 non-null   int32  \n",
      "dtypes: float64(9), int32(11), int64(3)\n",
      "memory usage: 165.1 KB\n"
     ]
    }
   ],
   "source": [
    "data.info()"
   ]
  },
  {
   "cell_type": "code",
   "execution_count": 20,
   "metadata": {},
   "outputs": [
    {
     "data": {
      "text/plain": [
       "Index(['index', 'covidOccupiedMVBeds', 'hospitalCases', 'newAdmissions',\n",
       "       'Vax_index', 'dailyCases', 'covidOccupiedMVBeds_lag_1',\n",
       "       'covidOccupiedMVBeds_lag_7', 'covidOccupiedMVBeds_roll_1_period_7_mean',\n",
       "       'hospitalCases_roll_1_period_7_mean',\n",
       "       'newAdmissions_roll_1_period_7_mean', 'dailyCases_roll_1_period_7_mean',\n",
       "       '_Month', '_Quarter', '_Is_quarter_end', '_Is_quarter_start',\n",
       "       '_Is_year_end', '_Is_year_start', '_Is_month_start', '_WeekDay',\n",
       "       '_Dayofweek', '_Dayofyear', '_Elapsed'],\n",
       "      dtype='object')"
      ]
     },
     "execution_count": 20,
     "metadata": {},
     "output_type": "execute_result"
    }
   ],
   "source": [
    "data.columns"
   ]
  },
  {
   "cell_type": "code",
   "execution_count": 21,
   "metadata": {},
   "outputs": [
    {
     "name": "stdout",
     "output_type": "stream",
     "text": [
      "# of Training samples: 856 | # of Validation samples: 114 | # of Test samples: 172\n",
      "Percentage of Dates in Train: 74.96% | Percentage of Dates in Validation: 9.98% | Percentage of Dates in Test: 15.06%\n",
      "Max Date in Train: 2022-08-18 00:00:00 | Min Date in Validation: 2022-08-19 00:00:00 | Min Date in Test: 2022-12-11 00:00:00\n"
     ]
    }
   ],
   "source": [
    "# Get the minimum and maximum date from the data\n",
    "min_date = data.index.min()\n",
    "max_date = data.index.max()\n",
    "\n",
    "# Calculate the range of dates\n",
    "date_range = max_date - min_date\n",
    "\n",
    "# Define the end date for the training set (75% of the data) and validation set (10% of the data)\n",
    "train_end = min_date + pd.Timedelta(days=date_range.days * 0.75)\n",
    "val_end = train_end + pd.Timedelta(days=date_range.days * 0.10)\n",
    "\n",
    "# Split the data into train, validation, and test sets based on the date ranges\n",
    "train = data[data.index < train_end]\n",
    "val = data[(data.index >= train_end) & (data.index < val_end)]\n",
    "test = data[data.index >= val_end]\n",
    "\n",
    "# Calculate the percentage of dates in each dataset\n",
    "total_samples = len(data)\n",
    "train_percentage = len(train) / total_samples * 100\n",
    "val_percentage = len(val) / total_samples * 100\n",
    "test_percentage = len(test) / total_samples * 100\n",
    "\n",
    "print(\n",
    "    f\"# of Training samples: {len(train)} | # of Validation samples: {len(val)} | # of Test samples: {len(test)}\"\n",
    ")\n",
    "print(\n",
    "    f\"Percentage of Dates in Train: {train_percentage:.2f}% | Percentage of Dates in Validation: {val_percentage:.2f}% | Percentage of Dates in Test: {test_percentage:.2f}%\"\n",
    ")\n",
    "print(\n",
    "    f\"Max Date in Train: {train.index.max()} | Min Date in Validation: {val.index.min()} | Min Date in Test: {test.index.min()}\"\n",
    ")"
   ]
  },
  {
   "cell_type": "code",
   "execution_count": 22,
   "metadata": {},
   "outputs": [],
   "source": [
    "train.to_csv(source_data / \"model_data/targetTransf_train.csv\")\n",
    "val.to_csv(source_data / \"model_data/targetTransf_val.csv\")\n",
    "test.to_csv(source_data / \"model_data/targetTransf_test.csv\")"
   ]
  },
  {
   "cell_type": "code",
   "execution_count": 23,
   "metadata": {},
   "outputs": [
    {
     "data": {
      "text/html": [
       "<div>\n",
       "<style scoped>\n",
       "    .dataframe tbody tr th:only-of-type {\n",
       "        vertical-align: middle;\n",
       "    }\n",
       "\n",
       "    .dataframe tbody tr th {\n",
       "        vertical-align: top;\n",
       "    }\n",
       "\n",
       "    .dataframe thead th {\n",
       "        text-align: right;\n",
       "    }\n",
       "</style>\n",
       "<table border=\"1\" class=\"dataframe\">\n",
       "  <thead>\n",
       "    <tr style=\"text-align: right;\">\n",
       "      <th></th>\n",
       "      <th>index</th>\n",
       "      <th>covidOccupiedMVBeds</th>\n",
       "      <th>hospitalCases</th>\n",
       "      <th>newAdmissions</th>\n",
       "      <th>Vax_index</th>\n",
       "      <th>dailyCases</th>\n",
       "      <th>covidOccupiedMVBeds_lag_1</th>\n",
       "      <th>covidOccupiedMVBeds_lag_7</th>\n",
       "      <th>covidOccupiedMVBeds_roll_1_period_7_mean</th>\n",
       "      <th>hospitalCases_roll_1_period_7_mean</th>\n",
       "      <th>...</th>\n",
       "      <th>_Quarter</th>\n",
       "      <th>_Is_quarter_end</th>\n",
       "      <th>_Is_quarter_start</th>\n",
       "      <th>_Is_year_end</th>\n",
       "      <th>_Is_year_start</th>\n",
       "      <th>_Is_month_start</th>\n",
       "      <th>_WeekDay</th>\n",
       "      <th>_Dayofweek</th>\n",
       "      <th>_Dayofyear</th>\n",
       "      <th>_Elapsed</th>\n",
       "    </tr>\n",
       "    <tr>\n",
       "      <th>date</th>\n",
       "      <th></th>\n",
       "      <th></th>\n",
       "      <th></th>\n",
       "      <th></th>\n",
       "      <th></th>\n",
       "      <th></th>\n",
       "      <th></th>\n",
       "      <th></th>\n",
       "      <th></th>\n",
       "      <th></th>\n",
       "      <th></th>\n",
       "      <th></th>\n",
       "      <th></th>\n",
       "      <th></th>\n",
       "      <th></th>\n",
       "      <th></th>\n",
       "      <th></th>\n",
       "      <th></th>\n",
       "      <th></th>\n",
       "      <th></th>\n",
       "      <th></th>\n",
       "    </tr>\n",
       "  </thead>\n",
       "  <tbody>\n",
       "    <tr>\n",
       "      <th>2020-04-15</th>\n",
       "      <td>13.0</td>\n",
       "      <td>2847.0</td>\n",
       "      <td>17934.0</td>\n",
       "      <td>1608.0</td>\n",
       "      <td>0.33</td>\n",
       "      <td>4240.0</td>\n",
       "      <td>2849.0</td>\n",
       "      <td>2561.0</td>\n",
       "      <td>2811.428467</td>\n",
       "      <td>18539.572266</td>\n",
       "      <td>...</td>\n",
       "      <td>2.0</td>\n",
       "      <td>0.0</td>\n",
       "      <td>0.0</td>\n",
       "      <td>0.0</td>\n",
       "      <td>0.0</td>\n",
       "      <td>0.0</td>\n",
       "      <td>2.0</td>\n",
       "      <td>2.0</td>\n",
       "      <td>106.0</td>\n",
       "      <td>1.586909e+09</td>\n",
       "    </tr>\n",
       "    <tr>\n",
       "      <th>2020-04-16</th>\n",
       "      <td>14.0</td>\n",
       "      <td>2838.0</td>\n",
       "      <td>17783.0</td>\n",
       "      <td>1777.0</td>\n",
       "      <td>0.33</td>\n",
       "      <td>4360.0</td>\n",
       "      <td>2847.0</td>\n",
       "      <td>2546.0</td>\n",
       "      <td>2853.142822</td>\n",
       "      <td>18448.142578</td>\n",
       "      <td>...</td>\n",
       "      <td>2.0</td>\n",
       "      <td>0.0</td>\n",
       "      <td>0.0</td>\n",
       "      <td>0.0</td>\n",
       "      <td>0.0</td>\n",
       "      <td>0.0</td>\n",
       "      <td>3.0</td>\n",
       "      <td>3.0</td>\n",
       "      <td>107.0</td>\n",
       "      <td>1.586995e+09</td>\n",
       "    </tr>\n",
       "    <tr>\n",
       "      <th>2020-04-17</th>\n",
       "      <td>15.0</td>\n",
       "      <td>2780.0</td>\n",
       "      <td>16728.0</td>\n",
       "      <td>1674.0</td>\n",
       "      <td>0.33</td>\n",
       "      <td>4088.0</td>\n",
       "      <td>2838.0</td>\n",
       "      <td>2820.0</td>\n",
       "      <td>2847.428467</td>\n",
       "      <td>18170.857422</td>\n",
       "      <td>...</td>\n",
       "      <td>2.0</td>\n",
       "      <td>0.0</td>\n",
       "      <td>0.0</td>\n",
       "      <td>0.0</td>\n",
       "      <td>0.0</td>\n",
       "      <td>0.0</td>\n",
       "      <td>4.0</td>\n",
       "      <td>4.0</td>\n",
       "      <td>108.0</td>\n",
       "      <td>1.587082e+09</td>\n",
       "    </tr>\n",
       "    <tr>\n",
       "      <th>2020-04-18</th>\n",
       "      <td>16.0</td>\n",
       "      <td>2868.0</td>\n",
       "      <td>16850.0</td>\n",
       "      <td>1411.0</td>\n",
       "      <td>0.33</td>\n",
       "      <td>4142.0</td>\n",
       "      <td>2780.0</td>\n",
       "      <td>2865.0</td>\n",
       "      <td>2847.857178</td>\n",
       "      <td>17920.285156</td>\n",
       "      <td>...</td>\n",
       "      <td>2.0</td>\n",
       "      <td>0.0</td>\n",
       "      <td>0.0</td>\n",
       "      <td>0.0</td>\n",
       "      <td>0.0</td>\n",
       "      <td>0.0</td>\n",
       "      <td>5.0</td>\n",
       "      <td>5.0</td>\n",
       "      <td>109.0</td>\n",
       "      <td>1.587168e+09</td>\n",
       "    </tr>\n",
       "    <tr>\n",
       "      <th>2020-04-19</th>\n",
       "      <td>17.0</td>\n",
       "      <td>2820.0</td>\n",
       "      <td>16928.0</td>\n",
       "      <td>1475.0</td>\n",
       "      <td>0.33</td>\n",
       "      <td>3494.0</td>\n",
       "      <td>2868.0</td>\n",
       "      <td>2881.0</td>\n",
       "      <td>2839.142822</td>\n",
       "      <td>17628.000000</td>\n",
       "      <td>...</td>\n",
       "      <td>2.0</td>\n",
       "      <td>0.0</td>\n",
       "      <td>0.0</td>\n",
       "      <td>0.0</td>\n",
       "      <td>0.0</td>\n",
       "      <td>0.0</td>\n",
       "      <td>6.0</td>\n",
       "      <td>6.0</td>\n",
       "      <td>110.0</td>\n",
       "      <td>1.587254e+09</td>\n",
       "    </tr>\n",
       "  </tbody>\n",
       "</table>\n",
       "<p>5 rows × 23 columns</p>\n",
       "</div>"
      ],
      "text/plain": [
       "            index  covidOccupiedMVBeds  hospitalCases  newAdmissions  \\\n",
       "date                                                                   \n",
       "2020-04-15   13.0               2847.0        17934.0         1608.0   \n",
       "2020-04-16   14.0               2838.0        17783.0         1777.0   \n",
       "2020-04-17   15.0               2780.0        16728.0         1674.0   \n",
       "2020-04-18   16.0               2868.0        16850.0         1411.0   \n",
       "2020-04-19   17.0               2820.0        16928.0         1475.0   \n",
       "\n",
       "            Vax_index  dailyCases  covidOccupiedMVBeds_lag_1  \\\n",
       "date                                                           \n",
       "2020-04-15       0.33      4240.0                     2849.0   \n",
       "2020-04-16       0.33      4360.0                     2847.0   \n",
       "2020-04-17       0.33      4088.0                     2838.0   \n",
       "2020-04-18       0.33      4142.0                     2780.0   \n",
       "2020-04-19       0.33      3494.0                     2868.0   \n",
       "\n",
       "            covidOccupiedMVBeds_lag_7  \\\n",
       "date                                    \n",
       "2020-04-15                     2561.0   \n",
       "2020-04-16                     2546.0   \n",
       "2020-04-17                     2820.0   \n",
       "2020-04-18                     2865.0   \n",
       "2020-04-19                     2881.0   \n",
       "\n",
       "            covidOccupiedMVBeds_roll_1_period_7_mean  \\\n",
       "date                                                   \n",
       "2020-04-15                               2811.428467   \n",
       "2020-04-16                               2853.142822   \n",
       "2020-04-17                               2847.428467   \n",
       "2020-04-18                               2847.857178   \n",
       "2020-04-19                               2839.142822   \n",
       "\n",
       "            hospitalCases_roll_1_period_7_mean  ...  _Quarter  \\\n",
       "date                                            ...             \n",
       "2020-04-15                        18539.572266  ...       2.0   \n",
       "2020-04-16                        18448.142578  ...       2.0   \n",
       "2020-04-17                        18170.857422  ...       2.0   \n",
       "2020-04-18                        17920.285156  ...       2.0   \n",
       "2020-04-19                        17628.000000  ...       2.0   \n",
       "\n",
       "            _Is_quarter_end  _Is_quarter_start  _Is_year_end  _Is_year_start  \\\n",
       "date                                                                           \n",
       "2020-04-15              0.0                0.0           0.0             0.0   \n",
       "2020-04-16              0.0                0.0           0.0             0.0   \n",
       "2020-04-17              0.0                0.0           0.0             0.0   \n",
       "2020-04-18              0.0                0.0           0.0             0.0   \n",
       "2020-04-19              0.0                0.0           0.0             0.0   \n",
       "\n",
       "            _Is_month_start  _WeekDay  _Dayofweek  _Dayofyear      _Elapsed  \n",
       "date                                                                         \n",
       "2020-04-15              0.0       2.0         2.0       106.0  1.586909e+09  \n",
       "2020-04-16              0.0       3.0         3.0       107.0  1.586995e+09  \n",
       "2020-04-17              0.0       4.0         4.0       108.0  1.587082e+09  \n",
       "2020-04-18              0.0       5.0         5.0       109.0  1.587168e+09  \n",
       "2020-04-19              0.0       6.0         6.0       110.0  1.587254e+09  \n",
       "\n",
       "[5 rows x 23 columns]"
      ]
     },
     "execution_count": 23,
     "metadata": {},
     "output_type": "execute_result"
    }
   ],
   "source": [
    "# Concatenate the DataFrames\n",
    "sample_df = pd.concat([train, val, test])\n",
    "\n",
    "# Convert feature columns to float32\n",
    "# Exclude the 'type' column from conversion as it's a string column\n",
    "for col in sample_df.columns:\n",
    "    if col != \"type\":\n",
    "        sample_df[col] = sample_df[col].astype(\"float32\")\n",
    "\n",
    "sample_df.head()"
   ]
  },
  {
   "cell_type": "code",
   "execution_count": 24,
   "metadata": {},
   "outputs": [],
   "source": [
    "columns_to_select = [\n",
    "    \"covidOccupiedMVBeds_lag_1\",\n",
    "    \"covidOccupiedMVBeds_lag_7\",\n",
    "    \"covidOccupiedMVBeds_roll_1_period_7_mean\",\n",
    "    \"hospitalCases_roll_1_period_7_mean\",\n",
    "    \"newAdmissions_roll_1_period_7_mean\",\n",
    "    \"dailyCases_roll_1_period_7_mean\",\n",
    "    \"_Month\",\n",
    "    \"_WeekDay\",\n",
    "    \"_Dayofweek\",\n",
    "    \"_Dayofyear\",\n",
    "    \"Vax_index\"\n",
    "]"
   ]
  },
  {
   "cell_type": "code",
   "execution_count": 25,
   "metadata": {},
   "outputs": [
    {
     "data": {
      "text/html": [
       "<div>\n",
       "<style scoped>\n",
       "    .dataframe tbody tr th:only-of-type {\n",
       "        vertical-align: middle;\n",
       "    }\n",
       "\n",
       "    .dataframe tbody tr th {\n",
       "        vertical-align: top;\n",
       "    }\n",
       "\n",
       "    .dataframe thead th {\n",
       "        text-align: right;\n",
       "    }\n",
       "</style>\n",
       "<table border=\"1\" class=\"dataframe\">\n",
       "  <thead>\n",
       "    <tr style=\"text-align: right;\">\n",
       "      <th></th>\n",
       "      <th>covidOccupiedMVBeds_lag_1</th>\n",
       "      <th>covidOccupiedMVBeds_lag_7</th>\n",
       "      <th>covidOccupiedMVBeds_roll_1_period_7_mean</th>\n",
       "      <th>hospitalCases_roll_1_period_7_mean</th>\n",
       "      <th>newAdmissions_roll_1_period_7_mean</th>\n",
       "      <th>dailyCases_roll_1_period_7_mean</th>\n",
       "      <th>_Month</th>\n",
       "      <th>_WeekDay</th>\n",
       "      <th>_Dayofweek</th>\n",
       "      <th>_Dayofyear</th>\n",
       "      <th>Vax_index</th>\n",
       "    </tr>\n",
       "    <tr>\n",
       "      <th>date</th>\n",
       "      <th></th>\n",
       "      <th></th>\n",
       "      <th></th>\n",
       "      <th></th>\n",
       "      <th></th>\n",
       "      <th></th>\n",
       "      <th></th>\n",
       "      <th></th>\n",
       "      <th></th>\n",
       "      <th></th>\n",
       "      <th></th>\n",
       "    </tr>\n",
       "  </thead>\n",
       "  <tbody>\n",
       "    <tr>\n",
       "      <th>2020-04-15</th>\n",
       "      <td>2849.0</td>\n",
       "      <td>2561.0</td>\n",
       "      <td>2811.428467</td>\n",
       "      <td>18539.572266</td>\n",
       "      <td>1951.571411</td>\n",
       "      <td>3568.571533</td>\n",
       "      <td>4.0</td>\n",
       "      <td>2.0</td>\n",
       "      <td>2.0</td>\n",
       "      <td>106.0</td>\n",
       "      <td>0.33</td>\n",
       "    </tr>\n",
       "    <tr>\n",
       "      <th>2020-04-16</th>\n",
       "      <td>2847.0</td>\n",
       "      <td>2546.0</td>\n",
       "      <td>2853.142822</td>\n",
       "      <td>18448.142578</td>\n",
       "      <td>1871.142822</td>\n",
       "      <td>3609.142822</td>\n",
       "      <td>4.0</td>\n",
       "      <td>3.0</td>\n",
       "      <td>3.0</td>\n",
       "      <td>107.0</td>\n",
       "      <td>0.33</td>\n",
       "    </tr>\n",
       "    <tr>\n",
       "      <th>2020-04-17</th>\n",
       "      <td>2838.0</td>\n",
       "      <td>2820.0</td>\n",
       "      <td>2847.428467</td>\n",
       "      <td>18170.857422</td>\n",
       "      <td>1796.571411</td>\n",
       "      <td>3680.285645</td>\n",
       "      <td>4.0</td>\n",
       "      <td>4.0</td>\n",
       "      <td>4.0</td>\n",
       "      <td>108.0</td>\n",
       "      <td>0.33</td>\n",
       "    </tr>\n",
       "    <tr>\n",
       "      <th>2020-04-18</th>\n",
       "      <td>2780.0</td>\n",
       "      <td>2865.0</td>\n",
       "      <td>2847.857178</td>\n",
       "      <td>17920.285156</td>\n",
       "      <td>1718.857178</td>\n",
       "      <td>3831.285645</td>\n",
       "      <td>4.0</td>\n",
       "      <td>5.0</td>\n",
       "      <td>5.0</td>\n",
       "      <td>109.0</td>\n",
       "      <td>0.33</td>\n",
       "    </tr>\n",
       "    <tr>\n",
       "      <th>2020-04-19</th>\n",
       "      <td>2868.0</td>\n",
       "      <td>2881.0</td>\n",
       "      <td>2839.142822</td>\n",
       "      <td>17628.000000</td>\n",
       "      <td>1673.714233</td>\n",
       "      <td>3907.857178</td>\n",
       "      <td>4.0</td>\n",
       "      <td>6.0</td>\n",
       "      <td>6.0</td>\n",
       "      <td>110.0</td>\n",
       "      <td>0.33</td>\n",
       "    </tr>\n",
       "  </tbody>\n",
       "</table>\n",
       "</div>"
      ],
      "text/plain": [
       "            covidOccupiedMVBeds_lag_1  covidOccupiedMVBeds_lag_7  \\\n",
       "date                                                               \n",
       "2020-04-15                     2849.0                     2561.0   \n",
       "2020-04-16                     2847.0                     2546.0   \n",
       "2020-04-17                     2838.0                     2820.0   \n",
       "2020-04-18                     2780.0                     2865.0   \n",
       "2020-04-19                     2868.0                     2881.0   \n",
       "\n",
       "            covidOccupiedMVBeds_roll_1_period_7_mean  \\\n",
       "date                                                   \n",
       "2020-04-15                               2811.428467   \n",
       "2020-04-16                               2853.142822   \n",
       "2020-04-17                               2847.428467   \n",
       "2020-04-18                               2847.857178   \n",
       "2020-04-19                               2839.142822   \n",
       "\n",
       "            hospitalCases_roll_1_period_7_mean  \\\n",
       "date                                             \n",
       "2020-04-15                        18539.572266   \n",
       "2020-04-16                        18448.142578   \n",
       "2020-04-17                        18170.857422   \n",
       "2020-04-18                        17920.285156   \n",
       "2020-04-19                        17628.000000   \n",
       "\n",
       "            newAdmissions_roll_1_period_7_mean  \\\n",
       "date                                             \n",
       "2020-04-15                         1951.571411   \n",
       "2020-04-16                         1871.142822   \n",
       "2020-04-17                         1796.571411   \n",
       "2020-04-18                         1718.857178   \n",
       "2020-04-19                         1673.714233   \n",
       "\n",
       "            dailyCases_roll_1_period_7_mean  _Month  _WeekDay  _Dayofweek  \\\n",
       "date                                                                        \n",
       "2020-04-15                      3568.571533     4.0       2.0         2.0   \n",
       "2020-04-16                      3609.142822     4.0       3.0         3.0   \n",
       "2020-04-17                      3680.285645     4.0       4.0         4.0   \n",
       "2020-04-18                      3831.285645     4.0       5.0         5.0   \n",
       "2020-04-19                      3907.857178     4.0       6.0         6.0   \n",
       "\n",
       "            _Dayofyear  Vax_index  \n",
       "date                               \n",
       "2020-04-15       106.0       0.33  \n",
       "2020-04-16       107.0       0.33  \n",
       "2020-04-17       108.0       0.33  \n",
       "2020-04-18       109.0       0.33  \n",
       "2020-04-19       110.0       0.33  "
      ]
     },
     "execution_count": 25,
     "metadata": {},
     "output_type": "execute_result"
    }
   ],
   "source": [
    "sample_df = sample_df[columns_to_select]\n",
    "sample_df.head()"
   ]
  },
  {
   "cell_type": "code",
   "execution_count": 26,
   "metadata": {},
   "outputs": [],
   "source": [
    "cols = list(sample_df.columns)\n",
    "cols.remove(\"covidOccupiedMVBeds_lag_7\")\n",
    "sample_df = sample_df[cols + [\"covidOccupiedMVBeds_lag_7\"]]"
   ]
  },
  {
   "cell_type": "code",
   "execution_count": 27,
   "metadata": {},
   "outputs": [
    {
     "name": "stdout",
     "output_type": "stream",
     "text": [
      "<class 'pandas.core.frame.DataFrame'>\n",
      "DatetimeIndex: 1142 entries, 2020-04-15 to 2023-05-31\n",
      "Data columns (total 11 columns):\n",
      " #   Column                                    Non-Null Count  Dtype  \n",
      "---  ------                                    --------------  -----  \n",
      " 0   covidOccupiedMVBeds_lag_1                 1142 non-null   float32\n",
      " 1   covidOccupiedMVBeds_roll_1_period_7_mean  1142 non-null   float32\n",
      " 2   hospitalCases_roll_1_period_7_mean        1142 non-null   float32\n",
      " 3   newAdmissions_roll_1_period_7_mean        1142 non-null   float32\n",
      " 4   dailyCases_roll_1_period_7_mean           1142 non-null   float32\n",
      " 5   _Month                                    1142 non-null   float32\n",
      " 6   _WeekDay                                  1142 non-null   float32\n",
      " 7   _Dayofweek                                1142 non-null   float32\n",
      " 8   _Dayofyear                                1142 non-null   float32\n",
      " 9   Vax_index                                 1142 non-null   float32\n",
      " 10  covidOccupiedMVBeds_lag_7                 1142 non-null   float32\n",
      "dtypes: float32(11)\n",
      "memory usage: 58.0 KB\n"
     ]
    }
   ],
   "source": [
    "target = \"covidOccupiedMVBeds_lag_7\"\n",
    "pred_df = pd.concat([train[[target]], val[[target]]])\n",
    "sample_df.info()"
   ]
  },
  {
   "cell_type": "code",
   "execution_count": 28,
   "metadata": {},
   "outputs": [
    {
     "name": "stderr",
     "output_type": "stream",
     "text": [
      "Seed set to 42\n"
     ]
    },
    {
     "data": {
      "text/plain": [
       "42"
      ]
     },
     "execution_count": 28,
     "metadata": {},
     "output_type": "execute_result"
    }
   ],
   "source": [
    "import shutil\n",
    "import random\n",
    "from src.utils import plotting_utils\n",
    "from src.dl.dataloaders import TimeSeriesDataModule\n",
    "import pytorch_lightning as pl\n",
    "from pytorch_lightning import Trainer\n",
    "from pytorch_lightning.callbacks import EarlyStopping\n",
    "from src.dl.multivariate_models import (\n",
    "    SingleStepRNNConfig,\n",
    "    SingleStepRNNModel,\n",
    "    Seq2SeqConfig,\n",
    "    Seq2SeqModel,\n",
    "    TransformerConfig,\n",
    "    TransformerModel,\n",
    ")\n",
    "from sklearn.metrics import mean_absolute_error as mae, mean_squared_error as mse\n",
    "from tqdm.notebook import tqdm\n",
    "\n",
    "# For reproduceability set a random seed\n",
    "\n",
    "torch.set_float32_matmul_precision(\"high\")\n",
    "seed = 42\n",
    "torch.manual_seed(seed)\n",
    "np.random.seed(seed)\n",
    "random.seed(seed)\n",
    "# if torch.cuda.is_available():\n",
    "#     torch.cuda.manual_seed(seed)\n",
    "#     torch.backends.cudnn.deterministic = True\n",
    "#     torch.backends.cudnn.benchmark = False\n",
    "\n",
    "pl.seed_everything(42)"
   ]
  },
  {
   "cell_type": "code",
   "execution_count": 29,
   "metadata": {},
   "outputs": [],
   "source": [
    "datamodule = TimeSeriesDataModule(\n",
    "    data=sample_df,\n",
    "    n_val=val.shape[0],\n",
    "    n_test=test.shape[0],\n",
    "    window=7,  # 7 days window\n",
    "    horizon=1,  # single step\n",
    "    normalize=\"global\",  # normalizing the data\n",
    "    # batch_size=32,\n",
    "    num_workers=0,\n",
    ")\n",
    "datamodule.setup()"
   ]
  },
  {
   "cell_type": "code",
   "execution_count": 30,
   "metadata": {},
   "outputs": [
    {
     "name": "stdout",
     "output_type": "stream",
     "text": [
      "Input batch shape: torch.Size([32, 7, 11])\n",
      "Output batch shape: torch.Size([32, 1, 1])\n"
     ]
    }
   ],
   "source": [
    "# Check a few batches from the training dataloader\n",
    "train_loader = datamodule.train_dataloader()\n",
    "for x, y in train_loader:\n",
    "    print(\"Input batch shape:\", x.shape)\n",
    "    print(\"Output batch shape:\", y.shape)\n",
    "    break"
   ]
  },
  {
   "cell_type": "code",
   "execution_count": 31,
   "metadata": {},
   "outputs": [
    {
     "data": {
      "text/plain": [
       "SingleStepRNNModel(\n",
       "  (rnn): GRU(11, 128, num_layers=10, batch_first=True, bidirectional=True)\n",
       "  (fc): Linear(in_features=256, out_features=1, bias=True)\n",
       "  (loss): MSELoss()\n",
       ")"
      ]
     },
     "execution_count": 31,
     "metadata": {},
     "output_type": "execute_result"
    }
   ],
   "source": [
    "rnn_config = SingleStepRNNConfig(\n",
    "    rnn_type=\"GRU\",\n",
    "    input_size=11,  # 25 for multivariate time series\n",
    "    hidden_size=128,  # 64 hidden units\n",
    "    num_layers=10,\n",
    "    bidirectional=True,\n",
    "    learning_rate=1e-3,\n",
    "    # lr_scheduler_params={\"step_size\": 10, \"gamma\": 0.1}\n",
    ")\n",
    "model = SingleStepRNNModel(rnn_config)\n",
    "model.float()"
   ]
  },
  {
   "cell_type": "code",
   "execution_count": 32,
   "metadata": {},
   "outputs": [
    {
     "name": "stderr",
     "output_type": "stream",
     "text": [
      "GPU available: True (cuda), used: True\n",
      "TPU available: False, using: 0 TPU cores\n",
      "IPU available: False, using: 0 IPUs\n",
      "HPU available: False, using: 0 HPUs\n",
      "LOCAL_RANK: 0 - CUDA_VISIBLE_DEVICES: [0]\n",
      "\n",
      "  | Name | Type    | Params\n",
      "---------------------------------\n",
      "0 | rnn  | GRU     | 2.8 M \n",
      "1 | fc   | Linear  | 257   \n",
      "2 | loss | MSELoss | 0     \n",
      "---------------------------------\n",
      "2.8 M     Trainable params\n",
      "0         Non-trainable params\n",
      "2.8 M     Total params\n",
      "11.106    Total estimated model params size (MB)\n"
     ]
    },
    {
     "data": {
      "application/vnd.jupyter.widget-view+json": {
       "model_id": "976c39118371472ca72f6cd0441a6dc0",
       "version_major": 2,
       "version_minor": 0
      },
      "text/plain": [
       "Sanity Checking: |          | 0/? [00:00<?, ?it/s]"
      ]
     },
     "metadata": {},
     "output_type": "display_data"
    },
    {
     "data": {
      "application/vnd.jupyter.widget-view+json": {
       "model_id": "62f68bf4993e49a79357839a924bdb62",
       "version_major": 2,
       "version_minor": 0
      },
      "text/plain": [
       "Training: |          | 0/? [00:00<?, ?it/s]"
      ]
     },
     "metadata": {},
     "output_type": "display_data"
    },
    {
     "data": {
      "application/vnd.jupyter.widget-view+json": {
       "model_id": "367cf9190a894b4791b502fe64edd163",
       "version_major": 2,
       "version_minor": 0
      },
      "text/plain": [
       "Validation: |          | 0/? [00:00<?, ?it/s]"
      ]
     },
     "metadata": {},
     "output_type": "display_data"
    },
    {
     "data": {
      "application/vnd.jupyter.widget-view+json": {
       "model_id": "acc697aab49c467b8fd960283bcb6df0",
       "version_major": 2,
       "version_minor": 0
      },
      "text/plain": [
       "Validation: |          | 0/? [00:00<?, ?it/s]"
      ]
     },
     "metadata": {},
     "output_type": "display_data"
    },
    {
     "data": {
      "application/vnd.jupyter.widget-view+json": {
       "model_id": "440cef8bef9443bcb1f60281d7245c5e",
       "version_major": 2,
       "version_minor": 0
      },
      "text/plain": [
       "Validation: |          | 0/? [00:00<?, ?it/s]"
      ]
     },
     "metadata": {},
     "output_type": "display_data"
    },
    {
     "data": {
      "application/vnd.jupyter.widget-view+json": {
       "model_id": "d8f7f88fe6df41b3ab73593aed6dff3e",
       "version_major": 2,
       "version_minor": 0
      },
      "text/plain": [
       "Validation: |          | 0/? [00:00<?, ?it/s]"
      ]
     },
     "metadata": {},
     "output_type": "display_data"
    },
    {
     "data": {
      "application/vnd.jupyter.widget-view+json": {
       "model_id": "1977483b94ec48d890e550c82bf02803",
       "version_major": 2,
       "version_minor": 0
      },
      "text/plain": [
       "Validation: |          | 0/? [00:00<?, ?it/s]"
      ]
     },
     "metadata": {},
     "output_type": "display_data"
    },
    {
     "data": {
      "application/vnd.jupyter.widget-view+json": {
       "model_id": "a4df15bbe4534a0b85bca091b1059979",
       "version_major": 2,
       "version_minor": 0
      },
      "text/plain": [
       "Validation: |          | 0/? [00:00<?, ?it/s]"
      ]
     },
     "metadata": {},
     "output_type": "display_data"
    },
    {
     "data": {
      "application/vnd.jupyter.widget-view+json": {
       "model_id": "7391a0506249492aa1e25ccdfd6ac114",
       "version_major": 2,
       "version_minor": 0
      },
      "text/plain": [
       "Validation: |          | 0/? [00:00<?, ?it/s]"
      ]
     },
     "metadata": {},
     "output_type": "display_data"
    },
    {
     "data": {
      "application/vnd.jupyter.widget-view+json": {
       "model_id": "e2be201ca404467ca8353f2f898c4c11",
       "version_major": 2,
       "version_minor": 0
      },
      "text/plain": [
       "Validation: |          | 0/? [00:00<?, ?it/s]"
      ]
     },
     "metadata": {},
     "output_type": "display_data"
    },
    {
     "data": {
      "application/vnd.jupyter.widget-view+json": {
       "model_id": "52759cfdd95f473cb4589a036104a738",
       "version_major": 2,
       "version_minor": 0
      },
      "text/plain": [
       "Validation: |          | 0/? [00:00<?, ?it/s]"
      ]
     },
     "metadata": {},
     "output_type": "display_data"
    },
    {
     "data": {
      "application/vnd.jupyter.widget-view+json": {
       "model_id": "8d2e61c080314d2fb269a1172445ee96",
       "version_major": 2,
       "version_minor": 0
      },
      "text/plain": [
       "Validation: |          | 0/? [00:00<?, ?it/s]"
      ]
     },
     "metadata": {},
     "output_type": "display_data"
    },
    {
     "data": {
      "application/vnd.jupyter.widget-view+json": {
       "model_id": "d33371daeb88499bb7857b04d7cdd998",
       "version_major": 2,
       "version_minor": 0
      },
      "text/plain": [
       "Validation: |          | 0/? [00:00<?, ?it/s]"
      ]
     },
     "metadata": {},
     "output_type": "display_data"
    },
    {
     "data": {
      "application/vnd.jupyter.widget-view+json": {
       "model_id": "bf7e33d82269464aad4da25e5b17ed7c",
       "version_major": 2,
       "version_minor": 0
      },
      "text/plain": [
       "Validation: |          | 0/? [00:00<?, ?it/s]"
      ]
     },
     "metadata": {},
     "output_type": "display_data"
    },
    {
     "data": {
      "application/vnd.jupyter.widget-view+json": {
       "model_id": "2fdae4bfc0684659bf19fe688baccf8d",
       "version_major": 2,
       "version_minor": 0
      },
      "text/plain": [
       "Validation: |          | 0/? [00:00<?, ?it/s]"
      ]
     },
     "metadata": {},
     "output_type": "display_data"
    },
    {
     "data": {
      "application/vnd.jupyter.widget-view+json": {
       "model_id": "01949c4275024d32b3e1d80b958f0a75",
       "version_major": 2,
       "version_minor": 0
      },
      "text/plain": [
       "Validation: |          | 0/? [00:00<?, ?it/s]"
      ]
     },
     "metadata": {},
     "output_type": "display_data"
    },
    {
     "data": {
      "application/vnd.jupyter.widget-view+json": {
       "model_id": "8ddd5aff40884e1b903296b9c600bae2",
       "version_major": 2,
       "version_minor": 0
      },
      "text/plain": [
       "Validation: |          | 0/? [00:00<?, ?it/s]"
      ]
     },
     "metadata": {},
     "output_type": "display_data"
    },
    {
     "data": {
      "application/vnd.jupyter.widget-view+json": {
       "model_id": "2d25fb729ff2400c97de9a6ad3c08e6a",
       "version_major": 2,
       "version_minor": 0
      },
      "text/plain": [
       "Validation: |          | 0/? [00:00<?, ?it/s]"
      ]
     },
     "metadata": {},
     "output_type": "display_data"
    },
    {
     "data": {
      "application/vnd.jupyter.widget-view+json": {
       "model_id": "f62b2e5679374d0388b31d2f97ff9553",
       "version_major": 2,
       "version_minor": 0
      },
      "text/plain": [
       "Validation: |          | 0/? [00:00<?, ?it/s]"
      ]
     },
     "metadata": {},
     "output_type": "display_data"
    },
    {
     "data": {
      "application/vnd.jupyter.widget-view+json": {
       "model_id": "bdbe9e44dc32437fad17722a1313d80f",
       "version_major": 2,
       "version_minor": 0
      },
      "text/plain": [
       "Validation: |          | 0/? [00:00<?, ?it/s]"
      ]
     },
     "metadata": {},
     "output_type": "display_data"
    },
    {
     "data": {
      "application/vnd.jupyter.widget-view+json": {
       "model_id": "88194c462c834a47a6eb18c20276b69c",
       "version_major": 2,
       "version_minor": 0
      },
      "text/plain": [
       "Validation: |          | 0/? [00:00<?, ?it/s]"
      ]
     },
     "metadata": {},
     "output_type": "display_data"
    },
    {
     "data": {
      "application/vnd.jupyter.widget-view+json": {
       "model_id": "7ebc73af064b4e6cbb5b02271244406d",
       "version_major": 2,
       "version_minor": 0
      },
      "text/plain": [
       "Validation: |          | 0/? [00:00<?, ?it/s]"
      ]
     },
     "metadata": {},
     "output_type": "display_data"
    },
    {
     "data": {
      "application/vnd.jupyter.widget-view+json": {
       "model_id": "d08d321c560544de8930094ab81c1b68",
       "version_major": 2,
       "version_minor": 0
      },
      "text/plain": [
       "Validation: |          | 0/? [00:00<?, ?it/s]"
      ]
     },
     "metadata": {},
     "output_type": "display_data"
    },
    {
     "data": {
      "application/vnd.jupyter.widget-view+json": {
       "model_id": "b69941f436c3469b8275b65a4c465936",
       "version_major": 2,
       "version_minor": 0
      },
      "text/plain": [
       "Validation: |          | 0/? [00:00<?, ?it/s]"
      ]
     },
     "metadata": {},
     "output_type": "display_data"
    },
    {
     "data": {
      "application/vnd.jupyter.widget-view+json": {
       "model_id": "2f13582d3f3c45448621fe4def0fa807",
       "version_major": 2,
       "version_minor": 0
      },
      "text/plain": [
       "Validation: |          | 0/? [00:00<?, ?it/s]"
      ]
     },
     "metadata": {},
     "output_type": "display_data"
    },
    {
     "data": {
      "application/vnd.jupyter.widget-view+json": {
       "model_id": "3fc8302a104942029903f8527097bffb",
       "version_major": 2,
       "version_minor": 0
      },
      "text/plain": [
       "Validation: |          | 0/? [00:00<?, ?it/s]"
      ]
     },
     "metadata": {},
     "output_type": "display_data"
    },
    {
     "data": {
      "application/vnd.jupyter.widget-view+json": {
       "model_id": "4ac92de03dce4157bbc2fcb0fa5ccf5c",
       "version_major": 2,
       "version_minor": 0
      },
      "text/plain": [
       "Validation: |          | 0/? [00:00<?, ?it/s]"
      ]
     },
     "metadata": {},
     "output_type": "display_data"
    },
    {
     "data": {
      "application/vnd.jupyter.widget-view+json": {
       "model_id": "1b5e3604ec5344cbaa797184ec628552",
       "version_major": 2,
       "version_minor": 0
      },
      "text/plain": [
       "Validation: |          | 0/? [00:00<?, ?it/s]"
      ]
     },
     "metadata": {},
     "output_type": "display_data"
    },
    {
     "data": {
      "application/vnd.jupyter.widget-view+json": {
       "model_id": "bb394b3e35e64fdfaca80e0689ca1bca",
       "version_major": 2,
       "version_minor": 0
      },
      "text/plain": [
       "Validation: |          | 0/? [00:00<?, ?it/s]"
      ]
     },
     "metadata": {},
     "output_type": "display_data"
    },
    {
     "data": {
      "application/vnd.jupyter.widget-view+json": {
       "model_id": "4822d9feca1f4b93a6423da9fdf73a83",
       "version_major": 2,
       "version_minor": 0
      },
      "text/plain": [
       "Validation: |          | 0/? [00:00<?, ?it/s]"
      ]
     },
     "metadata": {},
     "output_type": "display_data"
    },
    {
     "data": {
      "application/vnd.jupyter.widget-view+json": {
       "model_id": "445b860efb3f47d092e316fb14cda4d7",
       "version_major": 2,
       "version_minor": 0
      },
      "text/plain": [
       "Validation: |          | 0/? [00:00<?, ?it/s]"
      ]
     },
     "metadata": {},
     "output_type": "display_data"
    },
    {
     "data": {
      "application/vnd.jupyter.widget-view+json": {
       "model_id": "d7b3cacc26ef451d903785a6cb593ec4",
       "version_major": 2,
       "version_minor": 0
      },
      "text/plain": [
       "Validation: |          | 0/? [00:00<?, ?it/s]"
      ]
     },
     "metadata": {},
     "output_type": "display_data"
    },
    {
     "data": {
      "application/vnd.jupyter.widget-view+json": {
       "model_id": "e34788c2c8a64c90b3ca6b20ec9eb7a7",
       "version_major": 2,
       "version_minor": 0
      },
      "text/plain": [
       "Validation: |          | 0/? [00:00<?, ?it/s]"
      ]
     },
     "metadata": {},
     "output_type": "display_data"
    },
    {
     "data": {
      "application/vnd.jupyter.widget-view+json": {
       "model_id": "ba0656f95c804b60a77b533db5178ee4",
       "version_major": 2,
       "version_minor": 0
      },
      "text/plain": [
       "Validation: |          | 0/? [00:00<?, ?it/s]"
      ]
     },
     "metadata": {},
     "output_type": "display_data"
    },
    {
     "data": {
      "application/vnd.jupyter.widget-view+json": {
       "model_id": "16e3be5a6fe644e69e59a9e1c22390dd",
       "version_major": 2,
       "version_minor": 0
      },
      "text/plain": [
       "Validation: |          | 0/? [00:00<?, ?it/s]"
      ]
     },
     "metadata": {},
     "output_type": "display_data"
    },
    {
     "data": {
      "application/vnd.jupyter.widget-view+json": {
       "model_id": "3a429b03eddc4aff9e6e42b7b1be8fd8",
       "version_major": 2,
       "version_minor": 0
      },
      "text/plain": [
       "Validation: |          | 0/? [00:00<?, ?it/s]"
      ]
     },
     "metadata": {},
     "output_type": "display_data"
    },
    {
     "data": {
      "application/vnd.jupyter.widget-view+json": {
       "model_id": "fd5abdd4218944f793580fbca198934a",
       "version_major": 2,
       "version_minor": 0
      },
      "text/plain": [
       "Validation: |          | 0/? [00:00<?, ?it/s]"
      ]
     },
     "metadata": {},
     "output_type": "display_data"
    },
    {
     "data": {
      "application/vnd.jupyter.widget-view+json": {
       "model_id": "46af0649dec24b5f8555b36bb4dce553",
       "version_major": 2,
       "version_minor": 0
      },
      "text/plain": [
       "Validation: |          | 0/? [00:00<?, ?it/s]"
      ]
     },
     "metadata": {},
     "output_type": "display_data"
    }
   ],
   "source": [
    "trainer = pl.Trainer(\n",
    "    accelerator=\"gpu\",\n",
    "    # strategy='ddp_notebook',\n",
    "    devices=1,\n",
    "    min_epochs=5,\n",
    "    max_epochs=100,\n",
    "    callbacks=[pl.callbacks.EarlyStopping(monitor=\"valid_loss\", patience=15, mode=\"min\")],\n",
    ")\n",
    "trainer.fit(model, datamodule)\n",
    "# Removing artifacts created during training\n",
    "shutil.rmtree(\"lightning_logs\")"
   ]
  },
  {
   "cell_type": "code",
   "execution_count": 33,
   "metadata": {},
   "outputs": [
    {
     "name": "stderr",
     "output_type": "stream",
     "text": [
      "LOCAL_RANK: 0 - CUDA_VISIBLE_DEVICES: [0]\n"
     ]
    },
    {
     "data": {
      "application/vnd.jupyter.widget-view+json": {
       "model_id": "c707b2a3b2e04458bf065d21f3c6a9fb",
       "version_major": 2,
       "version_minor": 0
      },
      "text/plain": [
       "Predicting: |          | 0/? [00:00<?, ?it/s]"
      ]
     },
     "metadata": {},
     "output_type": "display_data"
    }
   ],
   "source": [
    "predictions = trainer.predict(model, datamodule.test_dataloader())\n",
    "predictions = torch.cat(predictions).squeeze().detach().numpy()\n",
    "# De-normalizing the predictions\n",
    "predictions = predictions * datamodule.train.std + datamodule.train.mean\n",
    "\n",
    "actuals = test[\"covidOccupiedMVBeds_lag_7\"].values\n",
    "\n",
    "assert (\n",
    "    actuals.shape == predictions.shape\n",
    "), \"Mismatch in shapes between actuals and predictions\""
   ]
  },
  {
   "cell_type": "code",
   "execution_count": 34,
   "metadata": {},
   "outputs": [],
   "source": [
    "metric_record = []"
   ]
  },
  {
   "cell_type": "code",
   "execution_count": 35,
   "metadata": {},
   "outputs": [
    {
     "name": "stdout",
     "output_type": "stream",
     "text": [
      "{'Algorithm': 'GRU', 'MAE': '22.1042', 'MSE': '634.4338', 'MASE': '1.1201', 'Forecast Bias': '-21.95'}\n"
     ]
    }
   ],
   "source": [
    "algorithm_name = rnn_config.rnn_type\n",
    "\n",
    "metrics = {\n",
    "    \"Algorithm\": algorithm_name,\n",
    "    \"MAE\": mae(actuals, predictions),\n",
    "    \"MSE\": mse(actuals, predictions),\n",
    "    \"MASE\": mase(actuals, predictions, train[\"covidOccupiedMVBeds_lag_7\"].values),\n",
    "    \"Forecast Bias\": forecast_bias(actuals, predictions),\n",
    "}\n",
    "\n",
    "value_formats = [\"{}\", \"{:.4f}\", \"{:.4f}\", \"{:.4f}\", \"{:.2f}\"]\n",
    "metrics = {\n",
    "    key: format_.format(value)\n",
    "    for key, value, format_ in zip(metrics.keys(), metrics.values(), value_formats)\n",
    "}\n",
    "\n",
    "pred_df_ = pd.DataFrame({\"Vanilla LSTM\": predictions}, index=test.index)\n",
    "pred_df = test.join(pred_df_)\n",
    "\n",
    "metric_record.append(metrics)\n",
    "print(metrics)"
   ]
  },
  {
   "cell_type": "code",
   "execution_count": 36,
   "metadata": {},
   "outputs": [
    {
     "data": {
      "image/png": "[encoded data removed]",
      "text/plain": [
       "<Figure size 1500x800 with 1 Axes>"
      ]
     },
     "metadata": {},
     "output_type": "display_data"
    }
   ],
   "source": [
    "# code to plot the forecast with the actuals in matplotlib\n",
    "import matplotlib.pyplot as plt\n",
    "\n",
    "fig, ax = plt.subplots(figsize=(15, 8))\n",
    "ax.plot(pred_df.index, pred_df[\"covidOccupiedMVBeds_lag_7\"], label=\"Actual\")\n",
    "ax.plot(pred_df.index, pred_df[\"Vanilla LSTM\"], label=\"Vanilla LSTM\")\n",
    "ax.set_title(\"Vanilla LSTM Forecast vs Actuals\")\n",
    "ax.legend()\n",
    "plt.show()"
   ]
  },
  {
   "cell_type": "code",
   "execution_count": 38,
   "metadata": {},
   "outputs": [
    {
     "data": {
      "application/vnd.plotly.v1+json": {
       "config": {
        "plotlyServerURL": "https://plot.ly"
       },
       "data": [
        {
         "line": {
          "color": "rgb(102,194,165)",
          "width": 2
         },
         "marker": {
          "opacity": 0.5,
          "size": 6
         },
         "mode": "lines",
         "name": "Actual COVID-19 MVBeds trends",
         "type": "scatter",
         "x": [
          "2022-12-11T00:00:00",
          "2022-12-12T00:00:00",
          "2022-12-13T00:00:00",
          "2022-12-14T00:00:00",
          "2022-12-15T00:00:00",
          "2022-12-16T00:00:00",
          "2022-12-17T00:00:00",
          "2022-12-18T00:00:00",
          "2022-12-19T00:00:00",
          "2022-12-20T00:00:00",
          "2022-12-21T00:00:00",
          "2022-12-22T00:00:00",
          "2022-12-23T00:00:00",
          "2022-12-24T00:00:00",
          "2022-12-25T00:00:00",
          "2022-12-26T00:00:00",
          "2022-12-27T00:00:00",
          "2022-12-28T00:00:00",
          "2022-12-29T00:00:00",
          "2022-12-30T00:00:00",
          "2022-12-31T00:00:00",
          "2023-01-01T00:00:00",
          "2023-01-02T00:00:00",
          "2023-01-03T00:00:00",
          "2023-01-04T00:00:00",
          "2023-01-05T00:00:00",
          "2023-01-06T00:00:00",
          "2023-01-07T00:00:00",
          "2023-01-08T00:00:00",
          "2023-01-09T00:00:00",
          "2023-01-10T00:00:00",
          "2023-01-11T00:00:00",
          "2023-01-12T00:00:00",
          "2023-01-13T00:00:00",
          "2023-01-14T00:00:00",
          "2023-01-15T00:00:00",
          "2023-01-16T00:00:00",
          "2023-01-17T00:00:00",
          "2023-01-18T00:00:00",
          "2023-01-19T00:00:00",
          "2023-01-20T00:00:00",
          "2023-01-21T00:00:00",
          "2023-01-22T00:00:00",
          "2023-01-23T00:00:00",
          "2023-01-24T00:00:00",
          "2023-01-25T00:00:00",
          "2023-01-26T00:00:00",
          "2023-01-27T00:00:00",
          "2023-01-28T00:00:00",
          "2023-01-29T00:00:00",
          "2023-01-30T00:00:00",
          "2023-01-31T00:00:00",
          "2023-02-01T00:00:00",
          "2023-02-02T00:00:00",
          "2023-02-03T00:00:00",
          "2023-02-04T00:00:00",
          "2023-02-05T00:00:00",
          "2023-02-06T00:00:00",
          "2023-02-07T00:00:00",
          "2023-02-08T00:00:00",
          "2023-02-09T00:00:00",
          "2023-02-10T00:00:00",
          "2023-02-11T00:00:00",
          "2023-02-12T00:00:00",
          "2023-02-13T00:00:00",
          "2023-02-14T00:00:00",
          "2023-02-15T00:00:00",
          "2023-02-16T00:00:00",
          "2023-02-17T00:00:00",
          "2023-02-18T00:00:00",
          "2023-02-19T00:00:00",
          "2023-02-20T00:00:00",
          "2023-02-21T00:00:00",
          "2023-02-22T00:00:00",
          "2023-02-23T00:00:00",
          "2023-02-24T00:00:00",
          "2023-02-25T00:00:00",
          "2023-02-26T00:00:00",
          "2023-02-27T00:00:00",
          "2023-02-28T00:00:00",
          "2023-03-01T00:00:00",
          "2023-03-02T00:00:00",
          "2023-03-03T00:00:00",
          "2023-03-04T00:00:00",
          "2023-03-05T00:00:00",
          "2023-03-06T00:00:00",
          "2023-03-07T00:00:00",
          "2023-03-08T00:00:00",
          "2023-03-09T00:00:00",
          "2023-03-10T00:00:00",
          "2023-03-11T00:00:00",
          "2023-03-12T00:00:00",
          "2023-03-13T00:00:00",
          "2023-03-14T00:00:00",
          "2023-03-15T00:00:00",
          "2023-03-16T00:00:00",
          "2023-03-17T00:00:00",
          "2023-03-18T00:00:00",
          "2023-03-19T00:00:00",
          "2023-03-20T00:00:00",
          "2023-03-21T00:00:00",
          "2023-03-22T00:00:00",
          "2023-03-23T00:00:00",
          "2023-03-24T00:00:00",
          "2023-03-25T00:00:00",
          "2023-03-26T00:00:00",
          "2023-03-27T00:00:00",
          "2023-03-28T00:00:00",
          "2023-03-29T00:00:00",
          "2023-03-30T00:00:00",
          "2023-03-31T00:00:00",
          "2023-04-01T00:00:00",
          "2023-04-02T00:00:00",
          "2023-04-03T00:00:00",
          "2023-04-04T00:00:00",
          "2023-04-05T00:00:00",
          "2023-04-06T00:00:00",
          "2023-04-07T00:00:00",
          "2023-04-08T00:00:00",
          "2023-04-09T00:00:00",
          "2023-04-10T00:00:00",
          "2023-04-11T00:00:00",
          "2023-04-12T00:00:00",
          "2023-04-13T00:00:00",
          "2023-04-14T00:00:00",
          "2023-04-15T00:00:00",
          "2023-04-16T00:00:00",
          "2023-04-17T00:00:00",
          "2023-04-18T00:00:00",
          "2023-04-19T00:00:00",
          "2023-04-20T00:00:00",
          "2023-04-21T00:00:00",
          "2023-04-22T00:00:00",
          "2023-04-23T00:00:00",
          "2023-04-24T00:00:00",
          "2023-04-25T00:00:00",
          "2023-04-26T00:00:00",
          "2023-04-27T00:00:00",
          "2023-04-28T00:00:00",
          "2023-04-29T00:00:00",
          "2023-04-30T00:00:00",
          "2023-05-01T00:00:00",
          "2023-05-02T00:00:00",
          "2023-05-03T00:00:00",
          "2023-05-04T00:00:00",
          "2023-05-05T00:00:00",
          "2023-05-06T00:00:00",
          "2023-05-07T00:00:00",
          "2023-05-08T00:00:00",
          "2023-05-09T00:00:00",
          "2023-05-10T00:00:00",
          "2023-05-11T00:00:00",
          "2023-05-12T00:00:00",
          "2023-05-13T00:00:00",
          "2023-05-14T00:00:00",
          "2023-05-15T00:00:00",
          "2023-05-16T00:00:00",
          "2023-05-17T00:00:00",
          "2023-05-18T00:00:00",
          "2023-05-19T00:00:00",
          "2023-05-20T00:00:00",
          "2023-05-21T00:00:00",
          "2023-05-22T00:00:00",
          "2023-05-23T00:00:00",
          "2023-05-24T00:00:00",
          "2023-05-25T00:00:00",
          "2023-05-26T00:00:00",
          "2023-05-27T00:00:00",
          "2023-05-28T00:00:00",
          "2023-05-29T00:00:00",
          "2023-05-30T00:00:00",
          "2023-05-31T00:00:00"
         ],
         "y": [
          118,
          129,
          142,
          150,
          155,
          156,
          163,
          166,
          175,
          171,
          174,
          180,
          178,
          177,
          162,
          178,
          187,
          209,
          213,
          223,
          208,
          220,
          227,
          218,
          212,
          202,
          209,
          202,
          189,
          195,
          191,
          182,
          169,
          166,
          147,
          137,
          153,
          148,
          146,
          142,
          133,
          138,
          146,
          142,
          136,
          126,
          133,
          131,
          140,
          145,
          142,
          136,
          136,
          142,
          139,
          137,
          134,
          128,
          132,
          117,
          118,
          133,
          128,
          123,
          129,
          140,
          137,
          139,
          134,
          137,
          146,
          149,
          154,
          164,
          155,
          156,
          156,
          163,
          168,
          169,
          175,
          166,
          158,
          141,
          147,
          152,
          158,
          166,
          167,
          180,
          167,
          188,
          174,
          183,
          184,
          179,
          172,
          176,
          174,
          175,
          173,
          172,
          176,
          170,
          178,
          179,
          179,
          185,
          192,
          193,
          186,
          164,
          170,
          166,
          165,
          165,
          137,
          144,
          145,
          136,
          143,
          138,
          135,
          138,
          143,
          142,
          152,
          134,
          126,
          118,
          114,
          112,
          109,
          120,
          99,
          96,
          101,
          105,
          94,
          94,
          110,
          110,
          118,
          124,
          113,
          100,
          104,
          107,
          102,
          97,
          100,
          88,
          102,
          105,
          99,
          96,
          102,
          89,
          90,
          92,
          88,
          84,
          81,
          85,
          81,
          82,
          79,
          79,
          75,
          67,
          69,
          77
         ]
        },
        {
         "line": {
          "color": "rgb(252,141,98)",
          "width": 2
         },
         "marker": {
          "size": 4
         },
         "mode": "lines+markers",
         "name": "Vanilla LSTM",
         "type": "scatter",
         "x": [
          "2022-12-11T00:00:00",
          "2022-12-12T00:00:00",
          "2022-12-13T00:00:00",
          "2022-12-14T00:00:00",
          "2022-12-15T00:00:00",
          "2022-12-16T00:00:00",
          "2022-12-17T00:00:00",
          "2022-12-18T00:00:00",
          "2022-12-19T00:00:00",
          "2022-12-20T00:00:00",
          "2022-12-21T00:00:00",
          "2022-12-22T00:00:00",
          "2022-12-23T00:00:00",
          "2022-12-24T00:00:00",
          "2022-12-25T00:00:00",
          "2022-12-26T00:00:00",
          "2022-12-27T00:00:00",
          "2022-12-28T00:00:00",
          "2022-12-29T00:00:00",
          "2022-12-30T00:00:00",
          "2022-12-31T00:00:00",
          "2023-01-01T00:00:00",
          "2023-01-02T00:00:00",
          "2023-01-03T00:00:00",
          "2023-01-04T00:00:00",
          "2023-01-05T00:00:00",
          "2023-01-06T00:00:00",
          "2023-01-07T00:00:00",
          "2023-01-08T00:00:00",
          "2023-01-09T00:00:00",
          "2023-01-10T00:00:00",
          "2023-01-11T00:00:00",
          "2023-01-12T00:00:00",
          "2023-01-13T00:00:00",
          "2023-01-14T00:00:00",
          "2023-01-15T00:00:00",
          "2023-01-16T00:00:00",
          "2023-01-17T00:00:00",
          "2023-01-18T00:00:00",
          "2023-01-19T00:00:00",
          "2023-01-20T00:00:00",
          "2023-01-21T00:00:00",
          "2023-01-22T00:00:00",
          "2023-01-23T00:00:00",
          "2023-01-24T00:00:00",
          "2023-01-25T00:00:00",
          "2023-01-26T00:00:00",
          "2023-01-27T00:00:00",
          "2023-01-28T00:00:00",
          "2023-01-29T00:00:00",
          "2023-01-30T00:00:00",
          "2023-01-31T00:00:00",
          "2023-02-01T00:00:00",
          "2023-02-02T00:00:00",
          "2023-02-03T00:00:00",
          "2023-02-04T00:00:00",
          "2023-02-05T00:00:00",
          "2023-02-06T00:00:00",
          "2023-02-07T00:00:00",
          "2023-02-08T00:00:00",
          "2023-02-09T00:00:00",
          "2023-02-10T00:00:00",
          "2023-02-11T00:00:00",
          "2023-02-12T00:00:00",
          "2023-02-13T00:00:00",
          "2023-02-14T00:00:00",
          "2023-02-15T00:00:00",
          "2023-02-16T00:00:00",
          "2023-02-17T00:00:00",
          "2023-02-18T00:00:00",
          "2023-02-19T00:00:00",
          "2023-02-20T00:00:00",
          "2023-02-21T00:00:00",
          "2023-02-22T00:00:00",
          "2023-02-23T00:00:00",
          "2023-02-24T00:00:00",
          "2023-02-25T00:00:00",
          "2023-02-26T00:00:00",
          "2023-02-27T00:00:00",
          "2023-02-28T00:00:00",
          "2023-03-01T00:00:00",
          "2023-03-02T00:00:00",
          "2023-03-03T00:00:00",
          "2023-03-04T00:00:00",
          "2023-03-05T00:00:00",
          "2023-03-06T00:00:00",
          "2023-03-07T00:00:00",
          "2023-03-08T00:00:00",
          "2023-03-09T00:00:00",
          "2023-03-10T00:00:00",
          "2023-03-11T00:00:00",
          "2023-03-12T00:00:00",
          "2023-03-13T00:00:00",
          "2023-03-14T00:00:00",
          "2023-03-15T00:00:00",
          "2023-03-16T00:00:00",
          "2023-03-17T00:00:00",
          "2023-03-18T00:00:00",
          "2023-03-19T00:00:00",
          "2023-03-20T00:00:00",
          "2023-03-21T00:00:00",
          "2023-03-22T00:00:00",
          "2023-03-23T00:00:00",
          "2023-03-24T00:00:00",
          "2023-03-25T00:00:00",
          "2023-03-26T00:00:00",
          "2023-03-27T00:00:00",
          "2023-03-28T00:00:00",
          "2023-03-29T00:00:00",
          "2023-03-30T00:00:00",
          "2023-03-31T00:00:00",
          "2023-04-01T00:00:00",
          "2023-04-02T00:00:00",
          "2023-04-03T00:00:00",
          "2023-04-04T00:00:00",
          "2023-04-05T00:00:00",
          "2023-04-06T00:00:00",
          "2023-04-07T00:00:00",
          "2023-04-08T00:00:00",
          "2023-04-09T00:00:00",
          "2023-04-10T00:00:00",
          "2023-04-11T00:00:00",
          "2023-04-12T00:00:00",
          "2023-04-13T00:00:00",
          "2023-04-14T00:00:00",
          "2023-04-15T00:00:00",
          "2023-04-16T00:00:00",
          "2023-04-17T00:00:00",
          "2023-04-18T00:00:00",
          "2023-04-19T00:00:00",
          "2023-04-20T00:00:00",
          "2023-04-21T00:00:00",
          "2023-04-22T00:00:00",
          "2023-04-23T00:00:00",
          "2023-04-24T00:00:00",
          "2023-04-25T00:00:00",
          "2023-04-26T00:00:00",
          "2023-04-27T00:00:00",
          "2023-04-28T00:00:00",
          "2023-04-29T00:00:00",
          "2023-04-30T00:00:00",
          "2023-05-01T00:00:00",
          "2023-05-02T00:00:00",
          "2023-05-03T00:00:00",
          "2023-05-04T00:00:00",
          "2023-05-05T00:00:00",
          "2023-05-06T00:00:00",
          "2023-05-07T00:00:00",
          "2023-05-08T00:00:00",
          "2023-05-09T00:00:00",
          "2023-05-10T00:00:00",
          "2023-05-11T00:00:00",
          "2023-05-12T00:00:00",
          "2023-05-13T00:00:00",
          "2023-05-14T00:00:00",
          "2023-05-15T00:00:00",
          "2023-05-16T00:00:00",
          "2023-05-17T00:00:00",
          "2023-05-18T00:00:00",
          "2023-05-19T00:00:00",
          "2023-05-20T00:00:00",
          "2023-05-21T00:00:00",
          "2023-05-22T00:00:00",
          "2023-05-23T00:00:00",
          "2023-05-24T00:00:00",
          "2023-05-25T00:00:00",
          "2023-05-26T00:00:00",
          "2023-05-27T00:00:00",
          "2023-05-28T00:00:00",
          "2023-05-29T00:00:00",
          "2023-05-30T00:00:00",
          "2023-05-31T00:00:00"
         ],
         "y": [
          110.9668,
          109.512695,
          108.39673,
          107.40015,
          106.66992,
          106.54053,
          107.109375,
          108.47461,
          110.65259,
          113.26807,
          116.49585,
          119.62866,
          123.04932,
          126.67456,
          130.16455,
          133.39575,
          136.1084,
          138.88696,
          141.875,
          145.68335,
          149.92114,
          154.35669,
          156.29248,
          159.57788,
          163.31396,
          167.83374,
          172.09033,
          176.37134,
          179.71606,
          181.87207,
          182.22876,
          181.4851,
          179.76538,
          177.29688,
          174.2102,
          170.48047,
          165.3003,
          160.1023,
          155.3794,
          150.68506,
          146.28687,
          142.07397,
          137.34863,
          133.5232,
          130.68018,
          127.503174,
          124.99634,
          122.50049,
          120.3811,
          119.29443,
          118.78076,
          117.97095,
          117.460205,
          116.90869,
          116.83496,
          116.93408,
          117.08887,
          117.1272,
          116.69385,
          116.04053,
          115.7561,
          114.49658,
          112.64624,
          110.9812,
          109.13672,
          107.267334,
          106.27612,
          105.406006,
          105.16797,
          105.30664,
          105.30737,
          105.79492,
          107.10474,
          108.91943,
          111.113525,
          114.11377,
          116.46704,
          119.00781,
          121.620605,
          123.69507,
          125.788086,
          127.92993,
          129.64429,
          131.10376,
          131.89185,
          131.50171,
          130.8833,
          129.92603,
          129.0774,
          128.58789,
          128.58203,
          128.75513,
          129.13965,
          130.34424,
          131.39478,
          133.18042,
          135.22095,
          137.63354,
          139.29321,
          141.4104,
          142.16089,
          143.21411,
          143.45972,
          143.36133,
          143.00732,
          143.05176,
          142.7583,
          143.25903,
          143.90259,
          144.82666,
          146.60962,
          148.26562,
          149.92236,
          150.05176,
          150.01074,
          149.74365,
          149.4607,
          148.34863,
          146.22607,
          143.40723,
          140.91675,
          137.76343,
          134.71313,
          131.80127,
          128.37256,
          126.52881,
          125.15991,
          123.45972,
          122.84009,
          121.61743,
          120.06836,
          118.98584,
          117.4458,
          115.59082,
          114.04028,
          111.80591,
          109.23877,
          106.376465,
          103.60449,
          100.78931,
          97.74707,
          95.413086,
          93.5105,
          93.090576,
          93.59619,
          94.867676,
          95.68628,
          96.32715,
          97.06372,
          97.90332,
          98.65698,
          98.53027,
          97.965576,
          96.953125,
          96.697266,
          96.00635,
          95.081055,
          94.14551,
          93.6604,
          92.85132,
          92.79321,
          92.32031,
          91.5061,
          90.65234,
          89.832275,
          88.49487,
          87.61401,
          86.33789,
          84.926025,
          83.644775,
          82.52026,
          81.089355
         ]
        }
       ],
       "layout": {
        "autosize": false,
        "height": 500,
        "legend": {
         "font": {
          "size": 15
         },
         "orientation": "h",
         "title": {},
         "x": 1,
         "xanchor": "right",
         "y": 0.98,
         "yanchor": "bottom"
        },
        "template": {
         "data": {
          "bar": [
           {
            "error_x": {
             "color": "#2a3f5f"
            },
            "error_y": {
             "color": "#2a3f5f"
            },
            "marker": {
             "line": {
              "color": "#E5ECF6",
              "width": 0.5
             },
             "pattern": {
              "fillmode": "overlay",
              "size": 10,
              "solidity": 0.2
             }
            },
            "type": "bar"
           }
          ],
          "barpolar": [
           {
            "marker": {
             "line": {
              "color": "#E5ECF6",
              "width": 0.5
             },
             "pattern": {
              "fillmode": "overlay",
              "size": 10,
              "solidity": 0.2
             }
            },
            "type": "barpolar"
           }
          ],
          "carpet": [
           {
            "aaxis": {
             "endlinecolor": "#2a3f5f",
             "gridcolor": "white",
             "linecolor": "white",
             "minorgridcolor": "white",
             "startlinecolor": "#2a3f5f"
            },
            "baxis": {
             "endlinecolor": "#2a3f5f",
             "gridcolor": "white",
             "linecolor": "white",
             "minorgridcolor": "white",
             "startlinecolor": "#2a3f5f"
            },
            "type": "carpet"
           }
          ],
          "choropleth": [
           {
            "colorbar": {
             "outlinewidth": 0,
             "ticks": ""
            },
            "type": "choropleth"
           }
          ],
          "contour": [
           {
            "colorbar": {
             "outlinewidth": 0,
             "ticks": ""
            },
            "colorscale": [
             [
              0,
              "#0d0887"
             ],
             [
              0.1111111111111111,
              "#46039f"
             ],
             [
              0.2222222222222222,
              "#7201a8"
             ],
             [
              0.3333333333333333,
              "#9c179e"
             ],
             [
              0.4444444444444444,
              "#bd3786"
             ],
             [
              0.5555555555555556,
              "#d8576b"
             ],
             [
              0.6666666666666666,
              "#ed7953"
             ],
             [
              0.7777777777777778,
              "#fb9f3a"
             ],
             [
              0.8888888888888888,
              "#fdca26"
             ],
             [
              1,
              "#f0f921"
             ]
            ],
            "type": "contour"
           }
          ],
          "contourcarpet": [
           {
            "colorbar": {
             "outlinewidth": 0,
             "ticks": ""
            },
            "type": "contourcarpet"
           }
          ],
          "heatmap": [
           {
            "colorbar": {
             "outlinewidth": 0,
             "ticks": ""
            },
            "colorscale": [
             [
              0,
              "#0d0887"
             ],
             [
              0.1111111111111111,
              "#46039f"
             ],
             [
              0.2222222222222222,
              "#7201a8"
             ],
             [
              0.3333333333333333,
              "#9c179e"
             ],
             [
              0.4444444444444444,
              "#bd3786"
             ],
             [
              0.5555555555555556,
              "#d8576b"
             ],
             [
              0.6666666666666666,
              "#ed7953"
             ],
             [
              0.7777777777777778,
              "#fb9f3a"
             ],
             [
              0.8888888888888888,
              "#fdca26"
             ],
             [
              1,
              "#f0f921"
             ]
            ],
            "type": "heatmap"
           }
          ],
          "heatmapgl": [
           {
            "colorbar": {
             "outlinewidth": 0,
             "ticks": ""
            },
            "colorscale": [
             [
              0,
              "#0d0887"
             ],
             [
              0.1111111111111111,
              "#46039f"
             ],
             [
              0.2222222222222222,
              "#7201a8"
             ],
             [
              0.3333333333333333,
              "#9c179e"
             ],
             [
              0.4444444444444444,
              "#bd3786"
             ],
             [
              0.5555555555555556,
              "#d8576b"
             ],
             [
              0.6666666666666666,
              "#ed7953"
             ],
             [
              0.7777777777777778,
              "#fb9f3a"
             ],
             [
              0.8888888888888888,
              "#fdca26"
             ],
             [
              1,
              "#f0f921"
             ]
            ],
            "type": "heatmapgl"
           }
          ],
          "histogram": [
           {
            "marker": {
             "pattern": {
              "fillmode": "overlay",
              "size": 10,
              "solidity": 0.2
             }
            },
            "type": "histogram"
           }
          ],
          "histogram2d": [
           {
            "colorbar": {
             "outlinewidth": 0,
             "ticks": ""
            },
            "colorscale": [
             [
              0,
              "#0d0887"
             ],
             [
              0.1111111111111111,
              "#46039f"
             ],
             [
              0.2222222222222222,
              "#7201a8"
             ],
             [
              0.3333333333333333,
              "#9c179e"
             ],
             [
              0.4444444444444444,
              "#bd3786"
             ],
             [
              0.5555555555555556,
              "#d8576b"
             ],
             [
              0.6666666666666666,
              "#ed7953"
             ],
             [
              0.7777777777777778,
              "#fb9f3a"
             ],
             [
              0.8888888888888888,
              "#fdca26"
             ],
             [
              1,
              "#f0f921"
             ]
            ],
            "type": "histogram2d"
           }
          ],
          "histogram2dcontour": [
           {
            "colorbar": {
             "outlinewidth": 0,
             "ticks": ""
            },
            "colorscale": [
             [
              0,
              "#0d0887"
             ],
             [
              0.1111111111111111,
              "#46039f"
             ],
             [
              0.2222222222222222,
              "#7201a8"
             ],
             [
              0.3333333333333333,
              "#9c179e"
             ],
             [
              0.4444444444444444,
              "#bd3786"
             ],
             [
              0.5555555555555556,
              "#d8576b"
             ],
             [
              0.6666666666666666,
              "#ed7953"
             ],
             [
              0.7777777777777778,
              "#fb9f3a"
             ],
             [
              0.8888888888888888,
              "#fdca26"
             ],
             [
              1,
              "#f0f921"
             ]
            ],
            "type": "histogram2dcontour"
           }
          ],
          "mesh3d": [
           {
            "colorbar": {
             "outlinewidth": 0,
             "ticks": ""
            },
            "type": "mesh3d"
           }
          ],
          "parcoords": [
           {
            "line": {
             "colorbar": {
              "outlinewidth": 0,
              "ticks": ""
             }
            },
            "type": "parcoords"
           }
          ],
          "pie": [
           {
            "automargin": true,
            "type": "pie"
           }
          ],
          "scatter": [
           {
            "fillpattern": {
             "fillmode": "overlay",
             "size": 10,
             "solidity": 0.2
            },
            "type": "scatter"
           }
          ],
          "scatter3d": [
           {
            "line": {
             "colorbar": {
              "outlinewidth": 0,
              "ticks": ""
             }
            },
            "marker": {
             "colorbar": {
              "outlinewidth": 0,
              "ticks": ""
             }
            },
            "type": "scatter3d"
           }
          ],
          "scattercarpet": [
           {
            "marker": {
             "colorbar": {
              "outlinewidth": 0,
              "ticks": ""
             }
            },
            "type": "scattercarpet"
           }
          ],
          "scattergeo": [
           {
            "marker": {
             "colorbar": {
              "outlinewidth": 0,
              "ticks": ""
             }
            },
            "type": "scattergeo"
           }
          ],
          "scattergl": [
           {
            "marker": {
             "colorbar": {
              "outlinewidth": 0,
              "ticks": ""
             }
            },
            "type": "scattergl"
           }
          ],
          "scattermapbox": [
           {
            "marker": {
             "colorbar": {
              "outlinewidth": 0,
              "ticks": ""
             }
            },
            "type": "scattermapbox"
           }
          ],
          "scatterpolar": [
           {
            "marker": {
             "colorbar": {
              "outlinewidth": 0,
              "ticks": ""
             }
            },
            "type": "scatterpolar"
           }
          ],
          "scatterpolargl": [
           {
            "marker": {
             "colorbar": {
              "outlinewidth": 0,
              "ticks": ""
             }
            },
            "type": "scatterpolargl"
           }
          ],
          "scatterternary": [
           {
            "marker": {
             "colorbar": {
              "outlinewidth": 0,
              "ticks": ""
             }
            },
            "type": "scatterternary"
           }
          ],
          "surface": [
           {
            "colorbar": {
             "outlinewidth": 0,
             "ticks": ""
            },
            "colorscale": [
             [
              0,
              "#0d0887"
             ],
             [
              0.1111111111111111,
              "#46039f"
             ],
             [
              0.2222222222222222,
              "#7201a8"
             ],
             [
              0.3333333333333333,
              "#9c179e"
             ],
             [
              0.4444444444444444,
              "#bd3786"
             ],
             [
              0.5555555555555556,
              "#d8576b"
             ],
             [
              0.6666666666666666,
              "#ed7953"
             ],
             [
              0.7777777777777778,
              "#fb9f3a"
             ],
             [
              0.8888888888888888,
              "#fdca26"
             ],
             [
              1,
              "#f0f921"
             ]
            ],
            "type": "surface"
           }
          ],
          "table": [
           {
            "cells": {
             "fill": {
              "color": "#EBF0F8"
             },
             "line": {
              "color": "white"
             }
            },
            "header": {
             "fill": {
              "color": "#C8D4E3"
             },
             "line": {
              "color": "white"
             }
            },
            "type": "table"
           }
          ]
         },
         "layout": {
          "annotationdefaults": {
           "arrowcolor": "#2a3f5f",
           "arrowhead": 0,
           "arrowwidth": 1
          },
          "autotypenumbers": "strict",
          "coloraxis": {
           "colorbar": {
            "outlinewidth": 0,
            "ticks": ""
           }
          },
          "colorscale": {
           "diverging": [
            [
             0,
             "#8e0152"
            ],
            [
             0.1,
             "#c51b7d"
            ],
            [
             0.2,
             "#de77ae"
            ],
            [
             0.3,
             "#f1b6da"
            ],
            [
             0.4,
             "#fde0ef"
            ],
            [
             0.5,
             "#f7f7f7"
            ],
            [
             0.6,
             "#e6f5d0"
            ],
            [
             0.7,
             "#b8e186"
            ],
            [
             0.8,
             "#7fbc41"
            ],
            [
             0.9,
             "#4d9221"
            ],
            [
             1,
             "#276419"
            ]
           ],
           "sequential": [
            [
             0,
             "#0d0887"
            ],
            [
             0.1111111111111111,
             "#46039f"
            ],
            [
             0.2222222222222222,
             "#7201a8"
            ],
            [
             0.3333333333333333,
             "#9c179e"
            ],
            [
             0.4444444444444444,
             "#bd3786"
            ],
            [
             0.5555555555555556,
             "#d8576b"
            ],
            [
             0.6666666666666666,
             "#ed7953"
            ],
            [
             0.7777777777777778,
             "#fb9f3a"
            ],
            [
             0.8888888888888888,
             "#fdca26"
            ],
            [
             1,
             "#f0f921"
            ]
           ],
           "sequentialminus": [
            [
             0,
             "#0d0887"
            ],
            [
             0.1111111111111111,
             "#46039f"
            ],
            [
             0.2222222222222222,
             "#7201a8"
            ],
            [
             0.3333333333333333,
             "#9c179e"
            ],
            [
             0.4444444444444444,
             "#bd3786"
            ],
            [
             0.5555555555555556,
             "#d8576b"
            ],
            [
             0.6666666666666666,
             "#ed7953"
            ],
            [
             0.7777777777777778,
             "#fb9f3a"
            ],
            [
             0.8888888888888888,
             "#fdca26"
            ],
            [
             1,
             "#f0f921"
            ]
           ]
          },
          "colorway": [
           "#636efa",
           "#EF553B",
           "#00cc96",
           "#ab63fa",
           "#FFA15A",
           "#19d3f3",
           "#FF6692",
           "#B6E880",
           "#FF97FF",
           "#FECB52"
          ],
          "font": {
           "color": "#2a3f5f"
          },
          "geo": {
           "bgcolor": "white",
           "lakecolor": "white",
           "landcolor": "#E5ECF6",
           "showlakes": true,
           "showland": true,
           "subunitcolor": "white"
          },
          "hoverlabel": {
           "align": "left"
          },
          "hovermode": "closest",
          "mapbox": {
           "style": "light"
          },
          "paper_bgcolor": "white",
          "plot_bgcolor": "#E5ECF6",
          "polar": {
           "angularaxis": {
            "gridcolor": "white",
            "linecolor": "white",
            "ticks": ""
           },
           "bgcolor": "#E5ECF6",
           "radialaxis": {
            "gridcolor": "white",
            "linecolor": "white",
            "ticks": ""
           }
          },
          "scene": {
           "xaxis": {
            "backgroundcolor": "#E5ECF6",
            "gridcolor": "white",
            "gridwidth": 2,
            "linecolor": "white",
            "showbackground": true,
            "ticks": "",
            "zerolinecolor": "white"
           },
           "yaxis": {
            "backgroundcolor": "#E5ECF6",
            "gridcolor": "white",
            "gridwidth": 2,
            "linecolor": "white",
            "showbackground": true,
            "ticks": "",
            "zerolinecolor": "white"
           },
           "zaxis": {
            "backgroundcolor": "#E5ECF6",
            "gridcolor": "white",
            "gridwidth": 2,
            "linecolor": "white",
            "showbackground": true,
            "ticks": "",
            "zerolinecolor": "white"
           }
          },
          "shapedefaults": {
           "line": {
            "color": "#2a3f5f"
           }
          },
          "ternary": {
           "aaxis": {
            "gridcolor": "white",
            "linecolor": "white",
            "ticks": ""
           },
           "baxis": {
            "gridcolor": "white",
            "linecolor": "white",
            "ticks": ""
           },
           "bgcolor": "#E5ECF6",
           "caxis": {
            "gridcolor": "white",
            "linecolor": "white",
            "ticks": ""
           }
          },
          "title": {
           "x": 0.05
          },
          "xaxis": {
           "automargin": true,
           "gridcolor": "white",
           "linecolor": "white",
           "ticks": "",
           "title": {
            "standoff": 15
           },
           "zerolinecolor": "white",
           "zerolinewidth": 2
          },
          "yaxis": {
           "automargin": true,
           "gridcolor": "white",
           "linecolor": "white",
           "ticks": "",
           "title": {
            "standoff": 15
           },
           "zerolinecolor": "white",
           "zerolinewidth": 2
          }
         }
        },
        "title": {
         "font": {
          "size": 20
         },
         "text": "Forecasting multivarate COVID-19 MVBeds with GRU",
         "x": 0.5,
         "xanchor": "center",
         "yanchor": "top"
        },
        "width": 900,
        "xaxis": {
         "dtick": "M1",
         "range": [
          "2023-01-01",
          "2023-04-01"
         ],
         "tickfont": {
          "size": 15
         },
         "tickformat": "%b %Y",
         "title": {
          "font": {
           "size": 15
          },
          "text": "Time"
         },
         "type": "date"
        },
        "yaxis": {
         "tickfont": {
          "size": 15
         },
         "title": {
          "font": {
           "size": 15
          },
          "text": "Value"
         }
        }
       }
      }
     },
     "metadata": {},
     "output_type": "display_data"
    },
    {
     "ename": "ValueError",
     "evalue": "\nThe kaleido executable is required by the kaleido Python library, but it was not included\nin the Python package and it could not be found on the system PATH.\n\nSearched for included kaleido executable at:\n    c:\\Users\\ajaoo\\miniconda3\\envs\\modern_ts_2E\\Lib\\site-packages\\kaleido\\executable\\kaleido.cmd \n\nSearched for executable 'kaleido' on the following system PATH:\n    c:\\Users\\ajaoo\\miniconda3\\envs\\modern_ts_2E\n    C:\\Windows\\system32\n    C:\\Windows\n    C:\\Windows\\System32\\Wbem\n    C:\\Windows\\System32\\WindowsPowerShell\\v1.0\\\n    C:\\Windows\\System32\\OpenSSH\\\n    C:\\Program Files\\NVIDIA Corporation\\NVIDIA NvDLISR\n    C:\\Program Files (x86)\\NVIDIA Corporation\\PhysX\\Common\n    C:\\Program Files\\Git\\cmd\n    C:\\WINDOWS\\system32\n    C:\\WINDOWS\n    C:\\WINDOWS\\System32\\Wbem\n    C:\\WINDOWS\\System32\\WindowsPowerShell\\v1.0\\\n    C:\\WINDOWS\\System32\\OpenSSH\\\n    C:\\Program Files\\Docker\\Docker\\resources\\bin\n    C:\\Strawberry\\c\\bin\n    C:\\Strawberry\\perl\\site\\bin\n    C:\\Strawberry\\perl\\bin\n    C:\\Program Files\\dotnet\\\n    C:\\Program Files\\Git LFS\n    C:\\Users\\ajaoo\\AppData\\Local\\Programs\\Python\\Launcher\\\n    C:\\Users\\ajaoo\\AppData\\Local\\Microsoft\\WindowsApps\n    C:\\Users\\ajaoo\\AppData\\Local\\Programs\\Microsoft VS Code\\bin\n    C:\\ProgramData\\olarinoyem\\GitHubDesktop\\bin\n    C:\\Users\\ajaoo\\AppData\\Local\\Programs\\MiKTeX\\miktex\\bin\\x64\\\n    C:\\Users\\ajaoo\\AppData\\Local\\GitHubDesktop\\bin\n    C:\\Windows\\system32\n    C:\\Windows\n    C:\\Windows\\System32\\Wbem\n    C:\\Windows\\System32\\WindowsPowerShell\\v1.0\\\n    C:\\Windows\\System32\\OpenSSH\\\n    C:\\Program Files\\NVIDIA Corporation\\NVIDIA NvDLISR\n    C:\\Program Files (x86)\\NVIDIA Corporation\\PhysX\\Common\n    C:\\Program Files\\Git\\cmd\n    C:\\WINDOWS\\system32\n    C:\\WINDOWS\n    C:\\WINDOWS\\System32\\Wbem\n    C:\\WINDOWS\\System32\\WindowsPowerShell\\v1.0\\\n    C:\\WINDOWS\\System32\\OpenSSH\\\n    C:\\Program Files\\Docker\\Docker\\resources\\bin\n    C:\\Strawberry\\c\\bin\n    C:\\Strawberry\\perl\\site\\bin\n    C:\\Strawberry\\perl\\bin\n    C:\\Program Files\\dotnet\\\n    C:\\Program Files\\Git LFS\n    C:\\Users\\ajaoo\\AppData\\Local\\Programs\\Python\\Launcher\\\n    C:\\Users\\ajaoo\\AppData\\Local\\Microsoft\\WindowsApps\n    C:\\Users\\ajaoo\\AppData\\Local\\Programs\\Microsoft VS Code\\bin\n    C:\\ProgramData\\olarinoyem\\GitHubDesktop\\bin\n    C:\\Users\\ajaoo\\AppData\\Local\\Programs\\MiKTeX\\miktex\\bin\\x64\\\n    C:\\Users\\ajaoo\\AppData\\Local\\GitHubDesktop\\bin\n",
     "output_type": "error",
     "traceback": [
      "\u001b[1;31m---------------------------------------------------------------------------\u001b[0m",
      "\u001b[1;31mValueError\u001b[0m                                Traceback (most recent call last)",
      "Cell \u001b[1;32mIn[38], line 22\u001b[0m\n\u001b[0;32m     19\u001b[0m fig\u001b[38;5;241m.\u001b[39mshow()\n\u001b[0;32m     21\u001b[0m \u001b[38;5;66;03m# Save the plot as an image\u001b[39;00m\n\u001b[1;32m---> 22\u001b[0m \u001b[43mfig\u001b[49m\u001b[38;5;241;43m.\u001b[39;49m\u001b[43mwrite_image\u001b[49m\u001b[43m(\u001b[49m\u001b[38;5;124;43mf\u001b[39;49m\u001b[38;5;124;43m\"\u001b[39;49m\u001b[38;5;124;43mimages/forecast_multivarate_\u001b[39;49m\u001b[38;5;132;43;01m{\u001b[39;49;00m\u001b[43malgorithm_name\u001b[49m\u001b[38;5;132;43;01m}\u001b[39;49;00m\u001b[38;5;124;43m\"\u001b[39;49m\u001b[43m,\u001b[49m\u001b[43m \u001b[49m\u001b[43mengine\u001b[49m\u001b[38;5;241;43m=\u001b[39;49m\u001b[38;5;124;43m\"\u001b[39;49m\u001b[38;5;124;43mkaleido\u001b[39;49m\u001b[38;5;124;43m\"\u001b[39;49m\u001b[43m,\u001b[49m\u001b[38;5;28;43mformat\u001b[39;49m\u001b[38;5;241;43m=\u001b[39;49m\u001b[38;5;124;43m\"\u001b[39;49m\u001b[38;5;124;43mpdf\u001b[39;49m\u001b[38;5;124;43m\"\u001b[39;49m\u001b[43m)\u001b[49m\n",
      "File \u001b[1;32mc:\\Users\\ajaoo\\miniconda3\\envs\\modern_ts_2E\\Lib\\site-packages\\plotly\\basedatatypes.py:3841\u001b[0m, in \u001b[0;36mBaseFigure.write_image\u001b[1;34m(self, *args, **kwargs)\u001b[0m\n\u001b[0;32m   3781\u001b[0m \u001b[38;5;250m\u001b[39m\u001b[38;5;124;03m\"\"\"\u001b[39;00m\n\u001b[0;32m   3782\u001b[0m \u001b[38;5;124;03mConvert a figure to a static image and write it to a file or writeable\u001b[39;00m\n\u001b[0;32m   3783\u001b[0m \u001b[38;5;124;03mobject\u001b[39;00m\n\u001b[1;32m   (...)\u001b[0m\n\u001b[0;32m   3837\u001b[0m \u001b[38;5;124;03mNone\u001b[39;00m\n\u001b[0;32m   3838\u001b[0m \u001b[38;5;124;03m\"\"\"\u001b[39;00m\n\u001b[0;32m   3839\u001b[0m \u001b[38;5;28;01mimport\u001b[39;00m \u001b[38;5;21;01mplotly\u001b[39;00m\u001b[38;5;21;01m.\u001b[39;00m\u001b[38;5;21;01mio\u001b[39;00m \u001b[38;5;28;01mas\u001b[39;00m \u001b[38;5;21;01mpio\u001b[39;00m\n\u001b[1;32m-> 3841\u001b[0m \u001b[38;5;28;01mreturn\u001b[39;00m \u001b[43mpio\u001b[49m\u001b[38;5;241;43m.\u001b[39;49m\u001b[43mwrite_image\u001b[49m\u001b[43m(\u001b[49m\u001b[38;5;28;43mself\u001b[39;49m\u001b[43m,\u001b[49m\u001b[43m \u001b[49m\u001b[38;5;241;43m*\u001b[39;49m\u001b[43margs\u001b[49m\u001b[43m,\u001b[49m\u001b[43m \u001b[49m\u001b[38;5;241;43m*\u001b[39;49m\u001b[38;5;241;43m*\u001b[39;49m\u001b[43mkwargs\u001b[49m\u001b[43m)\u001b[49m\n",
      "File \u001b[1;32mc:\\Users\\ajaoo\\miniconda3\\envs\\modern_ts_2E\\Lib\\site-packages\\plotly\\io\\_kaleido.py:266\u001b[0m, in \u001b[0;36mwrite_image\u001b[1;34m(fig, file, format, scale, width, height, validate, engine)\u001b[0m\n\u001b[0;32m    250\u001b[0m             \u001b[38;5;28;01mraise\u001b[39;00m \u001b[38;5;167;01mValueError\u001b[39;00m(\n\u001b[0;32m    251\u001b[0m \u001b[38;5;250m                \u001b[39m\u001b[38;5;124;03m\"\"\"\u001b[39;00m\n\u001b[0;32m    252\u001b[0m \u001b[38;5;124;03mCannot infer image type from output path '{file}'.\u001b[39;00m\n\u001b[1;32m   (...)\u001b[0m\n\u001b[0;32m    260\u001b[0m                 )\n\u001b[0;32m    261\u001b[0m             )\n\u001b[0;32m    263\u001b[0m     \u001b[38;5;66;03m# Request image\u001b[39;00m\n\u001b[0;32m    264\u001b[0m     \u001b[38;5;66;03m# -------------\u001b[39;00m\n\u001b[0;32m    265\u001b[0m     \u001b[38;5;66;03m# Do this first so we don't create a file if image conversion fails\u001b[39;00m\n\u001b[1;32m--> 266\u001b[0m     img_data \u001b[38;5;241m=\u001b[39m \u001b[43mto_image\u001b[49m\u001b[43m(\u001b[49m\n\u001b[0;32m    267\u001b[0m \u001b[43m        \u001b[49m\u001b[43mfig\u001b[49m\u001b[43m,\u001b[49m\n\u001b[0;32m    268\u001b[0m \u001b[43m        \u001b[49m\u001b[38;5;28;43mformat\u001b[39;49m\u001b[38;5;241;43m=\u001b[39;49m\u001b[38;5;28;43mformat\u001b[39;49m\u001b[43m,\u001b[49m\n\u001b[0;32m    269\u001b[0m \u001b[43m        \u001b[49m\u001b[43mscale\u001b[49m\u001b[38;5;241;43m=\u001b[39;49m\u001b[43mscale\u001b[49m\u001b[43m,\u001b[49m\n\u001b[0;32m    270\u001b[0m \u001b[43m        \u001b[49m\u001b[43mwidth\u001b[49m\u001b[38;5;241;43m=\u001b[39;49m\u001b[43mwidth\u001b[49m\u001b[43m,\u001b[49m\n\u001b[0;32m    271\u001b[0m \u001b[43m        \u001b[49m\u001b[43mheight\u001b[49m\u001b[38;5;241;43m=\u001b[39;49m\u001b[43mheight\u001b[49m\u001b[43m,\u001b[49m\n\u001b[0;32m    272\u001b[0m \u001b[43m        \u001b[49m\u001b[43mvalidate\u001b[49m\u001b[38;5;241;43m=\u001b[39;49m\u001b[43mvalidate\u001b[49m\u001b[43m,\u001b[49m\n\u001b[0;32m    273\u001b[0m \u001b[43m        \u001b[49m\u001b[43mengine\u001b[49m\u001b[38;5;241;43m=\u001b[39;49m\u001b[43mengine\u001b[49m\u001b[43m,\u001b[49m\n\u001b[0;32m    274\u001b[0m \u001b[43m    \u001b[49m\u001b[43m)\u001b[49m\n\u001b[0;32m    276\u001b[0m     \u001b[38;5;66;03m# Open file\u001b[39;00m\n\u001b[0;32m    277\u001b[0m     \u001b[38;5;66;03m# ---------\u001b[39;00m\n\u001b[0;32m    278\u001b[0m     \u001b[38;5;28;01mif\u001b[39;00m path \u001b[38;5;129;01mis\u001b[39;00m \u001b[38;5;28;01mNone\u001b[39;00m:\n\u001b[0;32m    279\u001b[0m         \u001b[38;5;66;03m# We previously failed to make sense of `file` as a pathlib object.\u001b[39;00m\n\u001b[0;32m    280\u001b[0m         \u001b[38;5;66;03m# Attempt to write to `file` as an open file descriptor.\u001b[39;00m\n",
      "File \u001b[1;32mc:\\Users\\ajaoo\\miniconda3\\envs\\modern_ts_2E\\Lib\\site-packages\\plotly\\io\\_kaleido.py:143\u001b[0m, in \u001b[0;36mto_image\u001b[1;34m(fig, format, width, height, scale, validate, engine)\u001b[0m\n\u001b[0;32m    140\u001b[0m \u001b[38;5;66;03m# Validate figure\u001b[39;00m\n\u001b[0;32m    141\u001b[0m \u001b[38;5;66;03m# ---------------\u001b[39;00m\n\u001b[0;32m    142\u001b[0m fig_dict \u001b[38;5;241m=\u001b[39m validate_coerce_fig_to_dict(fig, validate)\n\u001b[1;32m--> 143\u001b[0m img_bytes \u001b[38;5;241m=\u001b[39m \u001b[43mscope\u001b[49m\u001b[38;5;241;43m.\u001b[39;49m\u001b[43mtransform\u001b[49m\u001b[43m(\u001b[49m\n\u001b[0;32m    144\u001b[0m \u001b[43m    \u001b[49m\u001b[43mfig_dict\u001b[49m\u001b[43m,\u001b[49m\u001b[43m \u001b[49m\u001b[38;5;28;43mformat\u001b[39;49m\u001b[38;5;241;43m=\u001b[39;49m\u001b[38;5;28;43mformat\u001b[39;49m\u001b[43m,\u001b[49m\u001b[43m \u001b[49m\u001b[43mwidth\u001b[49m\u001b[38;5;241;43m=\u001b[39;49m\u001b[43mwidth\u001b[49m\u001b[43m,\u001b[49m\u001b[43m \u001b[49m\u001b[43mheight\u001b[49m\u001b[38;5;241;43m=\u001b[39;49m\u001b[43mheight\u001b[49m\u001b[43m,\u001b[49m\u001b[43m \u001b[49m\u001b[43mscale\u001b[49m\u001b[38;5;241;43m=\u001b[39;49m\u001b[43mscale\u001b[49m\n\u001b[0;32m    145\u001b[0m \u001b[43m\u001b[49m\u001b[43m)\u001b[49m\n\u001b[0;32m    147\u001b[0m \u001b[38;5;28;01mreturn\u001b[39;00m img_bytes\n",
      "File \u001b[1;32mc:\\Users\\ajaoo\\miniconda3\\envs\\modern_ts_2E\\Lib\\site-packages\\kaleido\\scopes\\plotly.py:153\u001b[0m, in \u001b[0;36mPlotlyScope.transform\u001b[1;34m(self, figure, format, width, height, scale)\u001b[0m\n\u001b[0;32m    142\u001b[0m     \u001b[38;5;28;01mraise\u001b[39;00m \u001b[38;5;167;01mValueError\u001b[39;00m(\n\u001b[0;32m    143\u001b[0m         \u001b[38;5;124m\"\u001b[39m\u001b[38;5;124mInvalid format \u001b[39m\u001b[38;5;124m'\u001b[39m\u001b[38;5;132;01m{original_format}\u001b[39;00m\u001b[38;5;124m'\u001b[39m\u001b[38;5;124m.\u001b[39m\u001b[38;5;130;01m\\n\u001b[39;00m\u001b[38;5;124m\"\u001b[39m\n\u001b[0;32m    144\u001b[0m         \u001b[38;5;124m\"\u001b[39m\u001b[38;5;124m    Supported formats: \u001b[39m\u001b[38;5;132;01m{supported_formats_str}\u001b[39;00m\u001b[38;5;124m\"\u001b[39m\n\u001b[1;32m   (...)\u001b[0m\n\u001b[0;32m    148\u001b[0m         )\n\u001b[0;32m    149\u001b[0m     )\n\u001b[0;32m    151\u001b[0m \u001b[38;5;66;03m# Transform in using _perform_transform rather than superclass so we can access the full\u001b[39;00m\n\u001b[0;32m    152\u001b[0m \u001b[38;5;66;03m# response dict, including error codes.\u001b[39;00m\n\u001b[1;32m--> 153\u001b[0m response \u001b[38;5;241m=\u001b[39m \u001b[38;5;28;43mself\u001b[39;49m\u001b[38;5;241;43m.\u001b[39;49m\u001b[43m_perform_transform\u001b[49m\u001b[43m(\u001b[49m\n\u001b[0;32m    154\u001b[0m \u001b[43m    \u001b[49m\u001b[43mfigure\u001b[49m\u001b[43m,\u001b[49m\u001b[43m \u001b[49m\u001b[38;5;28;43mformat\u001b[39;49m\u001b[38;5;241;43m=\u001b[39;49m\u001b[38;5;28;43mformat\u001b[39;49m\u001b[43m,\u001b[49m\u001b[43m \u001b[49m\u001b[43mwidth\u001b[49m\u001b[38;5;241;43m=\u001b[39;49m\u001b[43mwidth\u001b[49m\u001b[43m,\u001b[49m\u001b[43m \u001b[49m\u001b[43mheight\u001b[49m\u001b[38;5;241;43m=\u001b[39;49m\u001b[43mheight\u001b[49m\u001b[43m,\u001b[49m\u001b[43m \u001b[49m\u001b[43mscale\u001b[49m\u001b[38;5;241;43m=\u001b[39;49m\u001b[43mscale\u001b[49m\n\u001b[0;32m    155\u001b[0m \u001b[43m\u001b[49m\u001b[43m)\u001b[49m\n\u001b[0;32m    157\u001b[0m \u001b[38;5;66;03m# Check for export error, later can customize error messages for plotly Python users\u001b[39;00m\n\u001b[0;32m    158\u001b[0m code \u001b[38;5;241m=\u001b[39m response\u001b[38;5;241m.\u001b[39mget(\u001b[38;5;124m\"\u001b[39m\u001b[38;5;124mcode\u001b[39m\u001b[38;5;124m\"\u001b[39m, \u001b[38;5;241m0\u001b[39m)\n",
      "File \u001b[1;32mc:\\Users\\ajaoo\\miniconda3\\envs\\modern_ts_2E\\Lib\\site-packages\\kaleido\\scopes\\base.py:293\u001b[0m, in \u001b[0;36mBaseScope._perform_transform\u001b[1;34m(self, data, **kwargs)\u001b[0m\n\u001b[0;32m    284\u001b[0m \u001b[38;5;250m\u001b[39m\u001b[38;5;124;03m\"\"\"\u001b[39;00m\n\u001b[0;32m    285\u001b[0m \u001b[38;5;124;03mTransform input data using the current scope, returning dict response with error code\u001b[39;00m\n\u001b[0;32m    286\u001b[0m \u001b[38;5;124;03mwhether successful or not.\u001b[39;00m\n\u001b[1;32m   (...)\u001b[0m\n\u001b[0;32m    290\u001b[0m \u001b[38;5;124;03m:return: Dict of response from Kaleido executable, whether successful or not\u001b[39;00m\n\u001b[0;32m    291\u001b[0m \u001b[38;5;124;03m\"\"\"\u001b[39;00m\n\u001b[0;32m    292\u001b[0m \u001b[38;5;66;03m# Ensure that kaleido subprocess is running\u001b[39;00m\n\u001b[1;32m--> 293\u001b[0m \u001b[38;5;28;43mself\u001b[39;49m\u001b[38;5;241;43m.\u001b[39;49m\u001b[43m_ensure_kaleido\u001b[49m\u001b[43m(\u001b[49m\u001b[43m)\u001b[49m\n\u001b[0;32m    295\u001b[0m \u001b[38;5;66;03m# Perform export\u001b[39;00m\n\u001b[0;32m    296\u001b[0m export_spec \u001b[38;5;241m=\u001b[39m \u001b[38;5;28mself\u001b[39m\u001b[38;5;241m.\u001b[39m_json_dumps(\u001b[38;5;28mdict\u001b[39m(kwargs, data\u001b[38;5;241m=\u001b[39mdata))\u001b[38;5;241m.\u001b[39mencode(\u001b[38;5;124m'\u001b[39m\u001b[38;5;124mutf-8\u001b[39m\u001b[38;5;124m'\u001b[39m)\n",
      "File \u001b[1;32mc:\\Users\\ajaoo\\miniconda3\\envs\\modern_ts_2E\\Lib\\site-packages\\kaleido\\scopes\\base.py:176\u001b[0m, in \u001b[0;36mBaseScope._ensure_kaleido\u001b[1;34m(self)\u001b[0m\n\u001b[0;32m    170\u001b[0m \u001b[38;5;28mself\u001b[39m\u001b[38;5;241m.\u001b[39m_std_error \u001b[38;5;241m=\u001b[39m io\u001b[38;5;241m.\u001b[39mBytesIO()\n\u001b[0;32m    172\u001b[0m \u001b[38;5;66;03m# Launch kaleido subprocess\u001b[39;00m\n\u001b[0;32m    173\u001b[0m \u001b[38;5;66;03m# Note: shell=True seems to be needed on Windows to handle executable path with\u001b[39;00m\n\u001b[0;32m    174\u001b[0m \u001b[38;5;66;03m# spaces.  The subprocess.Popen docs makes it sound like this shouldn't be\u001b[39;00m\n\u001b[0;32m    175\u001b[0m \u001b[38;5;66;03m# necessary.\u001b[39;00m\n\u001b[1;32m--> 176\u001b[0m proc_args \u001b[38;5;241m=\u001b[39m \u001b[38;5;28;43mself\u001b[39;49m\u001b[38;5;241;43m.\u001b[39;49m\u001b[43m_build_proc_args\u001b[49m\u001b[43m(\u001b[49m\u001b[43m)\u001b[49m\n\u001b[0;32m    177\u001b[0m \u001b[38;5;28mself\u001b[39m\u001b[38;5;241m.\u001b[39m_proc \u001b[38;5;241m=\u001b[39m subprocess\u001b[38;5;241m.\u001b[39mPopen(\n\u001b[0;32m    178\u001b[0m     proc_args,\n\u001b[0;32m    179\u001b[0m     stdin\u001b[38;5;241m=\u001b[39msubprocess\u001b[38;5;241m.\u001b[39mPIPE,\n\u001b[1;32m   (...)\u001b[0m\n\u001b[0;32m    182\u001b[0m     shell\u001b[38;5;241m=\u001b[39msys\u001b[38;5;241m.\u001b[39mplatform \u001b[38;5;241m==\u001b[39m \u001b[38;5;124m\"\u001b[39m\u001b[38;5;124mwin32\u001b[39m\u001b[38;5;124m\"\u001b[39m\n\u001b[0;32m    183\u001b[0m )\n\u001b[0;32m    185\u001b[0m \u001b[38;5;66;03m# Set up thread to asynchronously collect standard error stream\u001b[39;00m\n",
      "File \u001b[1;32mc:\\Users\\ajaoo\\miniconda3\\envs\\modern_ts_2E\\Lib\\site-packages\\kaleido\\scopes\\base.py:123\u001b[0m, in \u001b[0;36mBaseScope._build_proc_args\u001b[1;34m(self)\u001b[0m\n\u001b[0;32m    116\u001b[0m \u001b[38;5;28;01mdef\u001b[39;00m \u001b[38;5;21m_build_proc_args\u001b[39m(\u001b[38;5;28mself\u001b[39m):\n\u001b[0;32m    117\u001b[0m \u001b[38;5;250m    \u001b[39m\u001b[38;5;124;03m\"\"\"\u001b[39;00m\n\u001b[0;32m    118\u001b[0m \u001b[38;5;124;03m    Build list of kaleido command-line arguments based on current values of\u001b[39;00m\n\u001b[0;32m    119\u001b[0m \u001b[38;5;124;03m    the properties specified by self._scope_flags and self.chromium_args\u001b[39;00m\n\u001b[0;32m    120\u001b[0m \n\u001b[0;32m    121\u001b[0m \u001b[38;5;124;03m    :return: list of flags\u001b[39;00m\n\u001b[0;32m    122\u001b[0m \u001b[38;5;124;03m    \"\"\"\u001b[39;00m\n\u001b[1;32m--> 123\u001b[0m     proc_args \u001b[38;5;241m=\u001b[39m [\u001b[38;5;28;43mself\u001b[39;49m\u001b[38;5;241;43m.\u001b[39;49m\u001b[43mexecutable_path\u001b[49m\u001b[43m(\u001b[49m\u001b[43m)\u001b[49m, \u001b[38;5;28mself\u001b[39m\u001b[38;5;241m.\u001b[39mscope_name]\n\u001b[0;32m    124\u001b[0m     \u001b[38;5;28;01mfor\u001b[39;00m k \u001b[38;5;129;01min\u001b[39;00m \u001b[38;5;28mself\u001b[39m\u001b[38;5;241m.\u001b[39m_scope_flags:\n\u001b[0;32m    125\u001b[0m         v \u001b[38;5;241m=\u001b[39m \u001b[38;5;28mgetattr\u001b[39m(\u001b[38;5;28mself\u001b[39m, k)\n",
      "File \u001b[1;32mc:\\Users\\ajaoo\\miniconda3\\envs\\modern_ts_2E\\Lib\\site-packages\\kaleido\\scopes\\base.py:99\u001b[0m, in \u001b[0;36mBaseScope.executable_path\u001b[1;34m(cls)\u001b[0m\n\u001b[0;32m     97\u001b[0m                 path \u001b[38;5;241m=\u001b[39m os\u001b[38;5;241m.\u001b[39menviron\u001b[38;5;241m.\u001b[39mget(\u001b[38;5;124m\"\u001b[39m\u001b[38;5;124mPATH\u001b[39m\u001b[38;5;124m\"\u001b[39m, os\u001b[38;5;241m.\u001b[39mdefpath)\n\u001b[0;32m     98\u001b[0m                 formatted_path \u001b[38;5;241m=\u001b[39m path\u001b[38;5;241m.\u001b[39mreplace(os\u001b[38;5;241m.\u001b[39mpathsep, \u001b[38;5;124m\"\u001b[39m\u001b[38;5;130;01m\\n\u001b[39;00m\u001b[38;5;124m    \u001b[39m\u001b[38;5;124m\"\u001b[39m)\n\u001b[1;32m---> 99\u001b[0m                 \u001b[38;5;28;01mraise\u001b[39;00m \u001b[38;5;167;01mValueError\u001b[39;00m(\n\u001b[0;32m    100\u001b[0m \u001b[38;5;250m                    \u001b[39m\u001b[38;5;124;03m\"\"\"\u001b[39;00m\n\u001b[0;32m    101\u001b[0m \u001b[38;5;124;03mThe kaleido executable is required by the kaleido Python library, but it was not included\u001b[39;00m\n\u001b[0;32m    102\u001b[0m \u001b[38;5;124;03min the Python package and it could not be found on the system PATH.\u001b[39;00m\n\u001b[0;32m    103\u001b[0m \n\u001b[0;32m    104\u001b[0m \u001b[38;5;124;03mSearched for included kaleido executable at:\u001b[39;00m\n\u001b[0;32m    105\u001b[0m \u001b[38;5;124;03m    {vendored_executable_path} \u001b[39;00m\n\u001b[0;32m    106\u001b[0m \n\u001b[0;32m    107\u001b[0m \u001b[38;5;124;03mSearched for executable 'kaleido' on the following system PATH:\u001b[39;00m\n\u001b[0;32m    108\u001b[0m \u001b[38;5;124;03m    {formatted_path}\\n\"\"\"\u001b[39;00m\u001b[38;5;241m.\u001b[39mformat(\n\u001b[0;32m    109\u001b[0m                         vendored_executable_path\u001b[38;5;241m=\u001b[39mvendored_executable_path,\n\u001b[0;32m    110\u001b[0m                         formatted_path\u001b[38;5;241m=\u001b[39mformatted_path,\n\u001b[0;32m    111\u001b[0m                     )\n\u001b[0;32m    112\u001b[0m                 )\n\u001b[0;32m    114\u001b[0m         \u001b[38;5;28;01mreturn\u001b[39;00m executable_path\n",
      "\u001b[1;31mValueError\u001b[0m: \nThe kaleido executable is required by the kaleido Python library, but it was not included\nin the Python package and it could not be found on the system PATH.\n\nSearched for included kaleido executable at:\n    c:\\Users\\ajaoo\\miniconda3\\envs\\modern_ts_2E\\Lib\\site-packages\\kaleido\\executable\\kaleido.cmd \n\nSearched for executable 'kaleido' on the following system PATH:\n    c:\\Users\\ajaoo\\miniconda3\\envs\\modern_ts_2E\n    C:\\Windows\\system32\n    C:\\Windows\n    C:\\Windows\\System32\\Wbem\n    C:\\Windows\\System32\\WindowsPowerShell\\v1.0\\\n    C:\\Windows\\System32\\OpenSSH\\\n    C:\\Program Files\\NVIDIA Corporation\\NVIDIA NvDLISR\n    C:\\Program Files (x86)\\NVIDIA Corporation\\PhysX\\Common\n    C:\\Program Files\\Git\\cmd\n    C:\\WINDOWS\\system32\n    C:\\WINDOWS\n    C:\\WINDOWS\\System32\\Wbem\n    C:\\WINDOWS\\System32\\WindowsPowerShell\\v1.0\\\n    C:\\WINDOWS\\System32\\OpenSSH\\\n    C:\\Program Files\\Docker\\Docker\\resources\\bin\n    C:\\Strawberry\\c\\bin\n    C:\\Strawberry\\perl\\site\\bin\n    C:\\Strawberry\\perl\\bin\n    C:\\Program Files\\dotnet\\\n    C:\\Program Files\\Git LFS\n    C:\\Users\\ajaoo\\AppData\\Local\\Programs\\Python\\Launcher\\\n    C:\\Users\\ajaoo\\AppData\\Local\\Microsoft\\WindowsApps\n    C:\\Users\\ajaoo\\AppData\\Local\\Programs\\Microsoft VS Code\\bin\n    C:\\ProgramData\\olarinoyem\\GitHubDesktop\\bin\n    C:\\Users\\ajaoo\\AppData\\Local\\Programs\\MiKTeX\\miktex\\bin\\x64\\\n    C:\\Users\\ajaoo\\AppData\\Local\\GitHubDesktop\\bin\n    C:\\Windows\\system32\n    C:\\Windows\n    C:\\Windows\\System32\\Wbem\n    C:\\Windows\\System32\\WindowsPowerShell\\v1.0\\\n    C:\\Windows\\System32\\OpenSSH\\\n    C:\\Program Files\\NVIDIA Corporation\\NVIDIA NvDLISR\n    C:\\Program Files (x86)\\NVIDIA Corporation\\PhysX\\Common\n    C:\\Program Files\\Git\\cmd\n    C:\\WINDOWS\\system32\n    C:\\WINDOWS\n    C:\\WINDOWS\\System32\\Wbem\n    C:\\WINDOWS\\System32\\WindowsPowerShell\\v1.0\\\n    C:\\WINDOWS\\System32\\OpenSSH\\\n    C:\\Program Files\\Docker\\Docker\\resources\\bin\n    C:\\Strawberry\\c\\bin\n    C:\\Strawberry\\perl\\site\\bin\n    C:\\Strawberry\\perl\\bin\n    C:\\Program Files\\dotnet\\\n    C:\\Program Files\\Git LFS\n    C:\\Users\\ajaoo\\AppData\\Local\\Programs\\Python\\Launcher\\\n    C:\\Users\\ajaoo\\AppData\\Local\\Microsoft\\WindowsApps\n    C:\\Users\\ajaoo\\AppData\\Local\\Programs\\Microsoft VS Code\\bin\n    C:\\ProgramData\\olarinoyem\\GitHubDesktop\\bin\n    C:\\Users\\ajaoo\\AppData\\Local\\Programs\\MiKTeX\\miktex\\bin\\x64\\\n    C:\\Users\\ajaoo\\AppData\\Local\\GitHubDesktop\\bin\n"
     ]
    }
   ],
   "source": [
    "# Generate the forecast plot\n",
    "\n",
    "fig = plot_forecast(\n",
    "    pred_df,\n",
    "    forecast_columns=[\"Vanilla LSTM\"],\n",
    "    forecast_display_names=[\"Vanilla LSTM\"],\n",
    ")\n",
    "\n",
    "# Set the title of the plot\n",
    "title = f\"Forecasting multivarate COVID-19 MVBeds with {algorithm_name}\"\n",
    "fig = format_plot(fig, title=title)\n",
    "\n",
    "# Update the x-axis of the plot\n",
    "fig.update_xaxes(\n",
    "    type=\"date\", range=[\"2023-01-01\", \"2023-04-01\"], dtick=\"M1\", tickformat=\"%b %Y\"\n",
    ")\n",
    "\n",
    "# Show the plot\n",
    "fig.show()\n",
    "\n",
    "# Save the plot as an image\n",
    "fig.write_image(f\"images/forecast_multivarate_{algorithm_name}\", engine=\"kaleido\",format=\"pdf\")"
   ]
  },
  {
   "cell_type": "code",
   "execution_count": null,
   "metadata": {},
   "outputs": [
    {
     "ename": "TypeError",
     "evalue": "Seq2SeqConfig.__init__() got an unexpected keyword argument 'hidden_size'",
     "output_type": "error",
     "traceback": [
      "\u001b[1;31m---------------------------------------------------------------------------\u001b[0m",
      "\u001b[1;31mTypeError\u001b[0m                                 Traceback (most recent call last)",
      "Cell \u001b[1;32mIn[38], line 2\u001b[0m\n\u001b[0;32m      1\u001b[0m \u001b[38;5;66;03m# multistep forecasting\u001b[39;00m\n\u001b[1;32m----> 2\u001b[0m seq2seq_config \u001b[38;5;241m=\u001b[39m \u001b[43mSeq2SeqConfig\u001b[49m\u001b[43m(\u001b[49m\n\u001b[0;32m      3\u001b[0m \u001b[43m    \u001b[49m\u001b[43mencoder_type\u001b[49m\u001b[38;5;241;43m=\u001b[39;49m\u001b[38;5;124;43m\"\u001b[39;49m\u001b[38;5;124;43mGRU\u001b[39;49m\u001b[38;5;124;43m\"\u001b[39;49m\u001b[43m,\u001b[49m\n\u001b[0;32m      4\u001b[0m \u001b[43m    \u001b[49m\u001b[43mdecoder_type\u001b[49m\u001b[38;5;241;43m=\u001b[39;49m\u001b[38;5;124;43m\"\u001b[39;49m\u001b[38;5;124;43mGRU\u001b[39;49m\u001b[38;5;124;43m\"\u001b[39;49m\u001b[43m,\u001b[49m\n\u001b[0;32m      5\u001b[0m \u001b[43m    \u001b[49m\u001b[43mhidden_size\u001b[49m\u001b[38;5;241;43m=\u001b[39;49m\u001b[38;5;241;43m128\u001b[39;49m\u001b[43m,\u001b[49m\n\u001b[0;32m      6\u001b[0m \u001b[43m    \u001b[49m\u001b[43mnum_layers\u001b[49m\u001b[38;5;241;43m=\u001b[39;49m\u001b[38;5;241;43m10\u001b[39;49m\u001b[43m,\u001b[49m\n\u001b[0;32m      7\u001b[0m \u001b[43m    \u001b[49m\u001b[43mbidirectional\u001b[49m\u001b[38;5;241;43m=\u001b[39;49m\u001b[38;5;28;43;01mTrue\u001b[39;49;00m\u001b[43m,\u001b[49m\n\u001b[0;32m      8\u001b[0m \u001b[43m    \u001b[49m\u001b[43mlearning_rate\u001b[49m\u001b[38;5;241;43m=\u001b[39;49m\u001b[38;5;241;43m1e-4\u001b[39;49m\u001b[43m,\u001b[49m\n\u001b[0;32m      9\u001b[0m \u001b[43m    \u001b[49m\u001b[43mteacher_forcing_ratio\u001b[49m\u001b[38;5;241;43m=\u001b[39;49m\u001b[38;5;241;43m0.5\u001b[39;49m\u001b[43m,\u001b[49m\n\u001b[0;32m     10\u001b[0m \u001b[43m    \u001b[49m\u001b[43mlr_scheduler\u001b[49m\u001b[38;5;241;43m=\u001b[39;49m\u001b[38;5;28;43;01mTrue\u001b[39;49;00m\u001b[43m,\u001b[49m\n\u001b[0;32m     11\u001b[0m \u001b[43m)\u001b[49m\n",
      "\u001b[1;31mTypeError\u001b[0m: Seq2SeqConfig.__init__() got an unexpected keyword argument 'hidden_size'"
     ]
    }
   ],
   "source": [
    "# multistep forecasting\n",
    "seq2seq_config = Seq2SeqConfig(\n",
    "    encoder_type=\"GRU\",\n",
    "    decoder_type=\"GRU\",\n",
    "    hidden_size=128,\n",
    "    num_layers=10,\n",
    "    bidirectional=True,\n",
    "    learning_rate=1e-4,\n",
    "    teacher_forcing_ratio=0.5,\n",
    "    lr_scheduler=True,\n",
    ")"
   ]
  }
 ],
 "metadata": {
  "kernelspec": {
   "display_name": "TF12",
   "language": "python",
   "name": "python3"
  },
  "language_info": {
   "codemirror_mode": {
    "name": "ipython",
    "version": 3
   },
   "file_extension": ".py",
   "mimetype": "text/x-python",
   "name": "python",
   "nbconvert_exporter": "python",
   "pygments_lexer": "ipython3",
   "version": "3.11.0"
  }
 },
 "nbformat": 4,
 "nbformat_minor": 2
}
