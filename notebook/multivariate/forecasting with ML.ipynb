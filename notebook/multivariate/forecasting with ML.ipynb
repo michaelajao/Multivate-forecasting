{
 "cells": [
  {
   "cell_type": "code",
   "execution_count": 1,
   "metadata": {},
   "outputs": [
    {
     "name": "stdout",
     "output_type": "stream",
     "text": [
      "c:\\Users\\ajaoo\\Desktop\\Projects\\Multivate-forecasting\n"
     ]
    }
   ],
   "source": [
    "%cd ../.."
   ]
  },
  {
   "cell_type": "code",
   "execution_count": 2,
   "metadata": {},
   "outputs": [
    {
     "name": "stderr",
     "output_type": "stream",
     "text": [
      "c:\\Users\\ajaoo\\Desktop\\Projects\\Multivate-forecasting\\src\\utils\\data_utils.py:6: TqdmExperimentalWarning: Using `tqdm.autonotebook.tqdm` in notebook mode. Use `tqdm.tqdm` instead to force console mode (e.g. in jupyter console)\n",
      "  from tqdm.autonotebook import tqdm\n"
     ]
    }
   ],
   "source": [
    "import os\n",
    "import time\n",
    "\n",
    "import numpy as np\n",
    "import pandas as pd\n",
    "import plotly.express as px\n",
    "import plotly.graph_objects as go\n",
    "import plotly.io as pio\n",
    "\n",
    "pio.templates.default = \"plotly_white\"\n",
    "\n",
    "import warnings\n",
    "from pathlib import Path\n",
    "from itertools import cycle\n",
    "import humanize\n",
    "from darts.metrics import mae, mase, mse\n",
    "from sklearn.preprocessing import StandardScaler\n",
    "from src.forecasting.ml_forecasting import (\n",
    "    FeatureConfig,\n",
    "    calculate_metrics,\n",
    ")\n",
    "from src.utils import plotting_utils\n",
    "from src.utils.general import LogTime\n",
    "from src.utils.ts_utils import darts_metrics_adapter, forecast_bias\n",
    "from tqdm.autonotebook import tqdm\n",
    "from IPython.display import display, HTML\n",
    "\n",
    "# %load_ext autoreload\n",
    "# %autoreload 2\n",
    "np.random.seed(42)\n",
    "tqdm.pandas()"
   ]
  },
  {
   "cell_type": "code",
   "execution_count": 3,
   "metadata": {},
   "outputs": [],
   "source": [
    "os.makedirs(\"reports/figures/ml_forecasting\", exist_ok=True)\n",
    "preprocessed_data_dir = Path(\"data/processed\")\n",
    "output = Path(\"reports/figures/ml_forecasting\")"
   ]
  },
  {
   "cell_type": "code",
   "execution_count": 4,
   "metadata": {},
   "outputs": [],
   "source": [
    "def format_plot(\n",
    "    fig, legends=None, xlabel=\"Time\", ylabel=\"Value\", title=\"\", font_size=15\n",
    "):\n",
    "    if legends:\n",
    "        names = cycle(legends)\n",
    "        fig.for_each_trace(lambda t: t.update(name=next(names)))\n",
    "    fig.update_layout(\n",
    "        autosize=False,\n",
    "        width=900,\n",
    "        height=500,\n",
    "        title_text=title,\n",
    "        title={\"x\": 0.5, \"xanchor\": \"center\", \"yanchor\": \"top\"},\n",
    "        titlefont={\"size\": 20},\n",
    "        legend_title=None,\n",
    "        legend=dict(\n",
    "            font=dict(size=font_size),\n",
    "            orientation=\"h\",\n",
    "            yanchor=\"bottom\",\n",
    "            y=0.98,\n",
    "            xanchor=\"right\",\n",
    "            x=1,\n",
    "        ),\n",
    "        yaxis=dict(\n",
    "            title_text=ylabel,\n",
    "            titlefont=dict(size=font_size),\n",
    "            tickfont=dict(size=font_size),\n",
    "        ),\n",
    "        xaxis=dict(\n",
    "            title_text=xlabel,\n",
    "            titlefont=dict(size=font_size),\n",
    "            tickfont=dict(size=font_size),\n",
    "        ),\n",
    "    )\n",
    "    return fig\n",
    "\n",
    "\n",
    "def mase(actual, predicted, insample_actual):\n",
    "    mae_insample = np.mean(np.abs(np.diff(insample_actual)))\n",
    "    mae_outsample = np.mean(np.abs(actual - predicted))\n",
    "    return mae_outsample / mae_insample\n",
    "\n",
    "\n",
    "def forecast_bias(actual, predicted):\n",
    "    return np.mean(predicted - actual)\n",
    "\n",
    "\n",
    "def plot_forecast(\n",
    "    pred_df, forecast_columns, forecast_display_names=None, save_path=None\n",
    "):\n",
    "    if forecast_display_names is None:\n",
    "        forecast_display_names = forecast_columns\n",
    "    else:\n",
    "        assert len(forecast_columns) == len(forecast_display_names)\n",
    "\n",
    "    mask = ~pred_df[forecast_columns[0]].isnull()\n",
    "    colors = px.colors.qualitative.Set2  # Using a different color palette\n",
    "    act_color = colors[0]\n",
    "    colors = cycle(colors[1:])\n",
    "\n",
    "    fig = go.Figure()\n",
    "\n",
    "    # Actual data plot\n",
    "    fig.add_trace(\n",
    "        go.Scatter(\n",
    "            x=pred_df[mask].index,\n",
    "            y=pred_df[mask].covidOccupiedMVBeds,\n",
    "            mode=\"lines\",\n",
    "            marker=dict(size=6, opacity=0.5),\n",
    "            line=dict(color=act_color, width=2),\n",
    "            name=\"Actual COVID-19 MVBeds trends\",\n",
    "        )\n",
    "    )\n",
    "\n",
    "    # Predicted data plot\n",
    "    for col, display_col in zip(forecast_columns, forecast_display_names):\n",
    "        fig.add_trace(\n",
    "            go.Scatter(\n",
    "                x=pred_df[mask].index,\n",
    "                y=pred_df.loc[mask, col],\n",
    "                mode=\"lines+markers\",\n",
    "                marker=dict(size=4),\n",
    "                line=dict(color=next(colors), width=2),\n",
    "                name=display_col,\n",
    "            )\n",
    "        )\n",
    "\n",
    "    return fig\n",
    "\n",
    "\n",
    "def highlight_abs_min(s, props=\"\"):\n",
    "    return np.where(s == np.nanmin(np.abs(s.values)), props, \"\")"
   ]
  },
  {
   "cell_type": "code",
   "execution_count": 5,
   "metadata": {},
   "outputs": [
    {
     "data": {
      "text/html": [
       "<div>\n",
       "<style scoped>\n",
       "    .dataframe tbody tr th:only-of-type {\n",
       "        vertical-align: middle;\n",
       "    }\n",
       "\n",
       "    .dataframe tbody tr th {\n",
       "        vertical-align: top;\n",
       "    }\n",
       "\n",
       "    .dataframe thead th {\n",
       "        text-align: right;\n",
       "    }\n",
       "</style>\n",
       "<table border=\"1\" class=\"dataframe\">\n",
       "  <thead>\n",
       "    <tr style=\"text-align: right;\">\n",
       "      <th></th>\n",
       "      <th>areaCode</th>\n",
       "      <th>areaName</th>\n",
       "      <th>date</th>\n",
       "      <th>covidOccupiedMVBeds</th>\n",
       "      <th>cumAdmissions</th>\n",
       "      <th>hospitalCases</th>\n",
       "      <th>newAdmissions</th>\n",
       "      <th>new_confirmed</th>\n",
       "      <th>new_deceased</th>\n",
       "      <th>cumulative_confirmed</th>\n",
       "      <th>cumulative_deceased</th>\n",
       "      <th>population</th>\n",
       "      <th>latitude</th>\n",
       "      <th>longitude</th>\n",
       "      <th>epi_week</th>\n",
       "    </tr>\n",
       "  </thead>\n",
       "  <tbody>\n",
       "    <tr>\n",
       "      <th>0</th>\n",
       "      <td>E40000007</td>\n",
       "      <td>East of England</td>\n",
       "      <td>2022-09-12</td>\n",
       "      <td>9.0</td>\n",
       "      <td>84162</td>\n",
       "      <td>418.0</td>\n",
       "      <td>47</td>\n",
       "      <td>505.0</td>\n",
       "      <td>2.0</td>\n",
       "      <td>2177579.0</td>\n",
       "      <td>19129.0</td>\n",
       "      <td>6235410</td>\n",
       "      <td>52.24</td>\n",
       "      <td>0.41</td>\n",
       "      <td>202237</td>\n",
       "    </tr>\n",
       "    <tr>\n",
       "      <th>1</th>\n",
       "      <td>E40000007</td>\n",
       "      <td>East of England</td>\n",
       "      <td>2022-09-11</td>\n",
       "      <td>8.0</td>\n",
       "      <td>84115</td>\n",
       "      <td>421.0</td>\n",
       "      <td>46</td>\n",
       "      <td>429.0</td>\n",
       "      <td>3.0</td>\n",
       "      <td>2177074.0</td>\n",
       "      <td>19127.0</td>\n",
       "      <td>6235410</td>\n",
       "      <td>52.24</td>\n",
       "      <td>0.41</td>\n",
       "      <td>202237</td>\n",
       "    </tr>\n",
       "    <tr>\n",
       "      <th>2</th>\n",
       "      <td>E40000007</td>\n",
       "      <td>East of England</td>\n",
       "      <td>2022-09-10</td>\n",
       "      <td>8.0</td>\n",
       "      <td>84069</td>\n",
       "      <td>419.0</td>\n",
       "      <td>34</td>\n",
       "      <td>296.0</td>\n",
       "      <td>0.0</td>\n",
       "      <td>2176645.0</td>\n",
       "      <td>19124.0</td>\n",
       "      <td>6235410</td>\n",
       "      <td>52.24</td>\n",
       "      <td>0.41</td>\n",
       "      <td>202236</td>\n",
       "    </tr>\n",
       "    <tr>\n",
       "      <th>3</th>\n",
       "      <td>E40000007</td>\n",
       "      <td>East of England</td>\n",
       "      <td>2022-09-09</td>\n",
       "      <td>9.0</td>\n",
       "      <td>84035</td>\n",
       "      <td>411.0</td>\n",
       "      <td>34</td>\n",
       "      <td>308.0</td>\n",
       "      <td>2.0</td>\n",
       "      <td>2176349.0</td>\n",
       "      <td>19124.0</td>\n",
       "      <td>6235410</td>\n",
       "      <td>52.24</td>\n",
       "      <td>0.41</td>\n",
       "      <td>202236</td>\n",
       "    </tr>\n",
       "    <tr>\n",
       "      <th>4</th>\n",
       "      <td>E40000007</td>\n",
       "      <td>East of England</td>\n",
       "      <td>2022-09-08</td>\n",
       "      <td>9.0</td>\n",
       "      <td>84001</td>\n",
       "      <td>421.0</td>\n",
       "      <td>51</td>\n",
       "      <td>335.0</td>\n",
       "      <td>3.0</td>\n",
       "      <td>2176041.0</td>\n",
       "      <td>19122.0</td>\n",
       "      <td>6235410</td>\n",
       "      <td>52.24</td>\n",
       "      <td>0.41</td>\n",
       "      <td>202236</td>\n",
       "    </tr>\n",
       "  </tbody>\n",
       "</table>\n",
       "</div>"
      ],
      "text/plain": [
       "    areaCode         areaName       date  covidOccupiedMVBeds  cumAdmissions  \\\n",
       "0  E40000007  East of England 2022-09-12                  9.0          84162   \n",
       "1  E40000007  East of England 2022-09-11                  8.0          84115   \n",
       "2  E40000007  East of England 2022-09-10                  8.0          84069   \n",
       "3  E40000007  East of England 2022-09-09                  9.0          84035   \n",
       "4  E40000007  East of England 2022-09-08                  9.0          84001   \n",
       "\n",
       "   hospitalCases  newAdmissions  new_confirmed  new_deceased  \\\n",
       "0          418.0             47          505.0           2.0   \n",
       "1          421.0             46          429.0           3.0   \n",
       "2          419.0             34          296.0           0.0   \n",
       "3          411.0             34          308.0           2.0   \n",
       "4          421.0             51          335.0           3.0   \n",
       "\n",
       "   cumulative_confirmed  cumulative_deceased  population  latitude  longitude  \\\n",
       "0             2177579.0              19129.0     6235410     52.24       0.41   \n",
       "1             2177074.0              19127.0     6235410     52.24       0.41   \n",
       "2             2176645.0              19124.0     6235410     52.24       0.41   \n",
       "3             2176349.0              19124.0     6235410     52.24       0.41   \n",
       "4             2176041.0              19122.0     6235410     52.24       0.41   \n",
       "\n",
       "   epi_week  \n",
       "0    202237  \n",
       "1    202237  \n",
       "2    202236  \n",
       "3    202236  \n",
       "4    202236  "
      ]
     },
     "execution_count": 5,
     "metadata": {},
     "output_type": "execute_result"
    }
   ],
   "source": [
    "data = pd.read_csv(\n",
    "    preprocessed_data_dir / \"merged_nhs_covid_data.csv\", parse_dates=[\"date\"]\n",
    ")\n",
    "data = data.drop(columns=[\"Unnamed: 0\"])\n",
    "data.head()"
   ]
  },
  {
   "cell_type": "code",
   "execution_count": 6,
   "metadata": {},
   "outputs": [
    {
     "data": {
      "text/plain": [
       "7"
      ]
     },
     "execution_count": 6,
     "metadata": {},
     "output_type": "execute_result"
    }
   ],
   "source": [
    "len(data.areaName.unique())"
   ]
  },
  {
   "cell_type": "code",
   "execution_count": 7,
   "metadata": {},
   "outputs": [
    {
     "name": "stdout",
     "output_type": "stream",
     "text": [
      "<class 'pandas.core.frame.DataFrame'>\n",
      "RangeIndex: 8054 entries, 0 to 8053\n",
      "Data columns (total 15 columns):\n",
      " #   Column                Non-Null Count  Dtype         \n",
      "---  ------                --------------  -----         \n",
      " 0   areaCode              8054 non-null   object        \n",
      " 1   areaName              8054 non-null   object        \n",
      " 2   date                  8054 non-null   datetime64[ns]\n",
      " 3   covidOccupiedMVBeds   8054 non-null   float64       \n",
      " 4   cumAdmissions         8054 non-null   int64         \n",
      " 5   hospitalCases         8054 non-null   float64       \n",
      " 6   newAdmissions         8054 non-null   int64         \n",
      " 7   new_confirmed         8054 non-null   float64       \n",
      " 8   new_deceased          8054 non-null   float64       \n",
      " 9   cumulative_confirmed  8054 non-null   float64       \n",
      " 10  cumulative_deceased   8054 non-null   float64       \n",
      " 11  population            8054 non-null   int64         \n",
      " 12  latitude              8054 non-null   float64       \n",
      " 13  longitude             8054 non-null   float64       \n",
      " 14  epi_week              8054 non-null   int64         \n",
      "dtypes: datetime64[ns](1), float64(8), int64(4), object(2)\n",
      "memory usage: 944.0+ KB\n"
     ]
    }
   ],
   "source": [
    "data.info()"
   ]
  },
  {
   "cell_type": "code",
   "execution_count": 8,
   "metadata": {},
   "outputs": [
    {
     "data": {
      "text/html": [
       "<div>\n",
       "<style scoped>\n",
       "    .dataframe tbody tr th:only-of-type {\n",
       "        vertical-align: middle;\n",
       "    }\n",
       "\n",
       "    .dataframe tbody tr th {\n",
       "        vertical-align: top;\n",
       "    }\n",
       "\n",
       "    .dataframe thead th {\n",
       "        text-align: right;\n",
       "    }\n",
       "</style>\n",
       "<table border=\"1\" class=\"dataframe\">\n",
       "  <thead>\n",
       "    <tr style=\"text-align: right;\">\n",
       "      <th></th>\n",
       "      <th>areaName</th>\n",
       "      <th>date</th>\n",
       "      <th>covidOccupiedMVBeds</th>\n",
       "      <th>cumAdmissions</th>\n",
       "      <th>hospitalCases</th>\n",
       "      <th>newAdmissions</th>\n",
       "      <th>new_confirmed</th>\n",
       "      <th>new_deceased</th>\n",
       "      <th>cumulative_confirmed</th>\n",
       "      <th>cumulative_deceased</th>\n",
       "      <th>population</th>\n",
       "    </tr>\n",
       "  </thead>\n",
       "  <tbody>\n",
       "    <tr>\n",
       "      <th>894</th>\n",
       "      <td>East of England</td>\n",
       "      <td>2020-04-01</td>\n",
       "      <td>0.0</td>\n",
       "      <td>1400</td>\n",
       "      <td>833.0</td>\n",
       "      <td>167</td>\n",
       "      <td>334.0</td>\n",
       "      <td>75.0</td>\n",
       "      <td>2938.0</td>\n",
       "      <td>455.0</td>\n",
       "      <td>6235410</td>\n",
       "    </tr>\n",
       "    <tr>\n",
       "      <th>893</th>\n",
       "      <td>East of England</td>\n",
       "      <td>2020-04-02</td>\n",
       "      <td>119.0</td>\n",
       "      <td>1584</td>\n",
       "      <td>841.0</td>\n",
       "      <td>184</td>\n",
       "      <td>372.0</td>\n",
       "      <td>71.0</td>\n",
       "      <td>3310.0</td>\n",
       "      <td>526.0</td>\n",
       "      <td>6235410</td>\n",
       "    </tr>\n",
       "    <tr>\n",
       "      <th>892</th>\n",
       "      <td>East of England</td>\n",
       "      <td>2020-04-03</td>\n",
       "      <td>162.0</td>\n",
       "      <td>1776</td>\n",
       "      <td>914.0</td>\n",
       "      <td>192</td>\n",
       "      <td>350.0</td>\n",
       "      <td>85.0</td>\n",
       "      <td>3660.0</td>\n",
       "      <td>611.0</td>\n",
       "      <td>6235410</td>\n",
       "    </tr>\n",
       "    <tr>\n",
       "      <th>891</th>\n",
       "      <td>East of England</td>\n",
       "      <td>2020-04-04</td>\n",
       "      <td>171.0</td>\n",
       "      <td>1939</td>\n",
       "      <td>988.0</td>\n",
       "      <td>163</td>\n",
       "      <td>268.0</td>\n",
       "      <td>70.0</td>\n",
       "      <td>3928.0</td>\n",
       "      <td>681.0</td>\n",
       "      <td>6235410</td>\n",
       "    </tr>\n",
       "    <tr>\n",
       "      <th>890</th>\n",
       "      <td>East of England</td>\n",
       "      <td>2020-04-05</td>\n",
       "      <td>219.0</td>\n",
       "      <td>2159</td>\n",
       "      <td>1230.0</td>\n",
       "      <td>220</td>\n",
       "      <td>281.0</td>\n",
       "      <td>91.0</td>\n",
       "      <td>4209.0</td>\n",
       "      <td>772.0</td>\n",
       "      <td>6235410</td>\n",
       "    </tr>\n",
       "  </tbody>\n",
       "</table>\n",
       "</div>"
      ],
      "text/plain": [
       "            areaName       date  covidOccupiedMVBeds  cumAdmissions  \\\n",
       "894  East of England 2020-04-01                  0.0           1400   \n",
       "893  East of England 2020-04-02                119.0           1584   \n",
       "892  East of England 2020-04-03                162.0           1776   \n",
       "891  East of England 2020-04-04                171.0           1939   \n",
       "890  East of England 2020-04-05                219.0           2159   \n",
       "\n",
       "     hospitalCases  newAdmissions  new_confirmed  new_deceased  \\\n",
       "894          833.0            167          334.0          75.0   \n",
       "893          841.0            184          372.0          71.0   \n",
       "892          914.0            192          350.0          85.0   \n",
       "891          988.0            163          268.0          70.0   \n",
       "890         1230.0            220          281.0          91.0   \n",
       "\n",
       "     cumulative_confirmed  cumulative_deceased  population  \n",
       "894                2938.0                455.0     6235410  \n",
       "893                3310.0                526.0     6235410  \n",
       "892                3660.0                611.0     6235410  \n",
       "891                3928.0                681.0     6235410  \n",
       "890                4209.0                772.0     6235410  "
      ]
     },
     "execution_count": 8,
     "metadata": {},
     "output_type": "execute_result"
    }
   ],
   "source": [
    "data = data.sort_values([\"areaName\", \"date\"])\n",
    "data = data.drop(columns=[\"areaCode\", \"latitude\", \"longitude\", \"epi_week\"])\n",
    "data.head()"
   ]
  },
  {
   "cell_type": "code",
   "execution_count": 9,
   "metadata": {},
   "outputs": [],
   "source": [
    "# # select a single areaName\n",
    "# area = \"East of England\"\n",
    "# data = data[data.areaName == area]\n",
    "# data = data.drop(columns=[\"areaName\", \"areaCode\", \"latitude\", \"longitude\", \"population\", \"epi_week\"])\n",
    "# data.head()"
   ]
  },
  {
   "cell_type": "code",
   "execution_count": 10,
   "metadata": {},
   "outputs": [],
   "source": [
    "# from src.transforms.target_transformations import AutoStationaryTransformer\n",
    "# # Autostatianry\n",
    "# transfomer_pipeline = {}\n",
    "# for _id in tqdm(data[\"areaName\"].unique()):\n",
    "\n",
    "#     auto_stationary = AutoStationaryTransformer(seasonal_period=7)\n",
    "#     y = data[data[\"areaName\"] == _id][\"date\",\"covidOccupiedMVBeds\"].set_index(\"date\")\n",
    "\n",
    "#     y_stat = auto_stationary.fit_transform(y, freq=\"D\")\n",
    "\n",
    "#     data"
   ]
  },
  {
   "cell_type": "code",
   "execution_count": 11,
   "metadata": {},
   "outputs": [
    {
     "name": "stdout",
     "output_type": "stream",
     "text": [
      "Time Elapsed: 0 microseconds\n",
      "Features Created: covidOccupiedMVBeds_lag_3,covidOccupiedMVBeds_lag_7,covidOccupiedMVBeds_lag_14,covidOccupiedMVBeds_lag_21,covidOccupiedMVBeds_lag_28\n"
     ]
    }
   ],
   "source": [
    "from src.feature_engineering.autoregressive_features import add_lags\n",
    "\n",
    "lags = [3, 7, 14, 21, 28]\n",
    "\n",
    "with LogTime():\n",
    "    data, added_features = add_lags(\n",
    "        data, lags=lags, column=\"covidOccupiedMVBeds\", ts_id=\"areaName\", use_32_bit=True\n",
    "    )\n",
    "print(f\"Features Created: {','.join(added_features)}\")"
   ]
  },
  {
   "cell_type": "code",
   "execution_count": 12,
   "metadata": {},
   "outputs": [],
   "source": [
    "# class LogTime:\n",
    "#     from time import time\n",
    "\n",
    "#     def __enter__(self):\n",
    "#         self.start_time = self.time()\n",
    "#         print(\"Starting operation...\")\n",
    "\n",
    "#     def __exit__(self, type, value, traceback):\n",
    "#         elapsed_time = self.time() - self.start_time\n",
    "#         print(f\"Operation completed in {elapsed_time} seconds.\")\n",
    "\n",
    "\n",
    "# def add_lags(df, lags, column):\n",
    "#     added_features = []\n",
    "#     for lag in lags:\n",
    "#         lag_col_name = f\"{column}_lag_{lag}\"\n",
    "#         df[lag_col_name] = df[column].shift(lag)\n",
    "#         added_features.append(lag_col_name)\n",
    "#     # Drop rows with NaN values\n",
    "#     df.dropna(inplace=True)\n",
    "#     return df, added_features\n",
    "\n",
    "\n",
    "# lags = [1, 7, 14]\n",
    "\n",
    "# data_with_lags, added_features = add_lags(data, lags, \"covidOccupiedMVBeds\")"
   ]
  },
  {
   "cell_type": "code",
   "execution_count": 13,
   "metadata": {},
   "outputs": [],
   "source": [
    "# data = data_with_lags.copy()"
   ]
  },
  {
   "cell_type": "markdown",
   "metadata": {},
   "source": [
    "## Rolling\n"
   ]
  },
  {
   "cell_type": "code",
   "execution_count": 14,
   "metadata": {},
   "outputs": [
    {
     "name": "stdout",
     "output_type": "stream",
     "text": [
      "Time Elapsed: 0 microseconds\n",
      "Features Created: covidOccupiedMVBeds_rolling_7_mean,covidOccupiedMVBeds_rolling_7_std,covidOccupiedMVBeds_rolling_14_mean,covidOccupiedMVBeds_rolling_14_std,covidOccupiedMVBeds_rolling_21_mean,covidOccupiedMVBeds_rolling_21_std\n"
     ]
    }
   ],
   "source": [
    "from src.feature_engineering.autoregressive_features import add_rolling_features\n",
    "\n",
    "with LogTime():\n",
    "    data, added_features = add_rolling_features(\n",
    "        data,\n",
    "        rolls=[7, 14, 21],\n",
    "        column=\"covidOccupiedMVBeds\",\n",
    "        agg_funcs=[\"mean\", \"std\"],\n",
    "        ts_id=\"areaName\",\n",
    "        use_32_bit=True,\n",
    "    )\n",
    "print(f\"Features Created: {','.join(added_features)}\")"
   ]
  },
  {
   "cell_type": "code",
   "execution_count": 15,
   "metadata": {},
   "outputs": [],
   "source": [
    "# from src.feature_engineering.autoregressive_features import add_ewma\n",
    "\n",
    "# with LogTime():\n",
    "#     data, added_features = add_ewma(\n",
    "#         data,\n",
    "\n",
    "#         column=\"covidOccupiedMVBeds\",\n",
    "#         ts_id=\"areaName\",\n",
    "#         use_32_bit=True,\n",
    "#     )\n",
    "# print(f\"Features Created: {','.join(added_features)}\")"
   ]
  },
  {
   "cell_type": "code",
   "execution_count": 16,
   "metadata": {},
   "outputs": [],
   "source": [
    "# function for creating temporal features and day of the week and month in the dataset\n",
    "\n",
    "\n",
    "def create_temporal_features(df, date_column):\n",
    "    df[\"month\"] = df[date_column].dt.month\n",
    "    df[\"day\"] = df[date_column].dt.day\n",
    "    df[\"day_of_week\"] = df[date_column].dt.dayofweek\n",
    "    return df\n",
    "\n",
    "\n",
    "data = create_temporal_features(data, \"date\")"
   ]
  },
  {
   "cell_type": "code",
   "execution_count": 17,
   "metadata": {},
   "outputs": [
    {
     "data": {
      "text/plain": [
       "covidOccupiedMVBeds_lag_3               21\n",
       "covidOccupiedMVBeds_lag_7               49\n",
       "covidOccupiedMVBeds_lag_14              98\n",
       "covidOccupiedMVBeds_lag_21             147\n",
       "covidOccupiedMVBeds_lag_28             196\n",
       "covidOccupiedMVBeds_rolling_7_mean      49\n",
       "covidOccupiedMVBeds_rolling_7_std       49\n",
       "covidOccupiedMVBeds_rolling_14_mean     98\n",
       "covidOccupiedMVBeds_rolling_14_std      98\n",
       "covidOccupiedMVBeds_rolling_21_mean    147\n",
       "covidOccupiedMVBeds_rolling_21_std     147\n",
       "dtype: int64"
      ]
     },
     "execution_count": 17,
     "metadata": {},
     "output_type": "execute_result"
    }
   ],
   "source": [
    "nc = data.isnull().sum()\n",
    "nc[nc > 0]"
   ]
  },
  {
   "cell_type": "code",
   "execution_count": 18,
   "metadata": {},
   "outputs": [
    {
     "name": "stderr",
     "output_type": "stream",
     "text": [
      "C:\\Users\\ajaoo\\AppData\\Local\\Temp\\ipykernel_29676\\389630875.py:2: FutureWarning: DataFrame.fillna with 'method' is deprecated and will raise in a future version. Use obj.ffill() or obj.bfill() instead.\n",
      "  data = data.fillna(method=\"bfill\")\n"
     ]
    },
    {
     "data": {
      "text/plain": [
       "Series([], dtype: int64)"
      ]
     },
     "execution_count": 18,
     "metadata": {},
     "output_type": "execute_result"
    }
   ],
   "source": [
    "# solve the missing values with backward fill\n",
    "data = data.fillna(method=\"bfill\")\n",
    "nc = data.isnull().sum()\n",
    "nc[nc > 0]"
   ]
  },
  {
   "cell_type": "code",
   "execution_count": 19,
   "metadata": {},
   "outputs": [
    {
     "data": {
      "text/html": [
       "<div>\n",
       "<style scoped>\n",
       "    .dataframe tbody tr th:only-of-type {\n",
       "        vertical-align: middle;\n",
       "    }\n",
       "\n",
       "    .dataframe tbody tr th {\n",
       "        vertical-align: top;\n",
       "    }\n",
       "\n",
       "    .dataframe thead th {\n",
       "        text-align: right;\n",
       "    }\n",
       "</style>\n",
       "<table border=\"1\" class=\"dataframe\">\n",
       "  <thead>\n",
       "    <tr style=\"text-align: right;\">\n",
       "      <th></th>\n",
       "      <th>areaName</th>\n",
       "      <th>date</th>\n",
       "      <th>covidOccupiedMVBeds</th>\n",
       "      <th>cumAdmissions</th>\n",
       "      <th>hospitalCases</th>\n",
       "      <th>newAdmissions</th>\n",
       "      <th>new_confirmed</th>\n",
       "      <th>new_deceased</th>\n",
       "      <th>cumulative_confirmed</th>\n",
       "      <th>cumulative_deceased</th>\n",
       "      <th>...</th>\n",
       "      <th>covidOccupiedMVBeds_lag_28</th>\n",
       "      <th>covidOccupiedMVBeds_rolling_7_mean</th>\n",
       "      <th>covidOccupiedMVBeds_rolling_7_std</th>\n",
       "      <th>covidOccupiedMVBeds_rolling_14_mean</th>\n",
       "      <th>covidOccupiedMVBeds_rolling_14_std</th>\n",
       "      <th>covidOccupiedMVBeds_rolling_21_mean</th>\n",
       "      <th>covidOccupiedMVBeds_rolling_21_std</th>\n",
       "      <th>month</th>\n",
       "      <th>day</th>\n",
       "      <th>day_of_week</th>\n",
       "    </tr>\n",
       "  </thead>\n",
       "  <tbody>\n",
       "    <tr>\n",
       "      <th>7163</th>\n",
       "      <td>South West</td>\n",
       "      <td>2022-09-08</td>\n",
       "      <td>2.0</td>\n",
       "      <td>70521</td>\n",
       "      <td>308.0</td>\n",
       "      <td>57</td>\n",
       "      <td>349.0</td>\n",
       "      <td>7.0</td>\n",
       "      <td>1881291.0</td>\n",
       "      <td>11968.0</td>\n",
       "      <td>...</td>\n",
       "      <td>9.0</td>\n",
       "      <td>4.000000</td>\n",
       "      <td>2.309401</td>\n",
       "      <td>4.928571</td>\n",
       "      <td>2.055547</td>\n",
       "      <td>4.904762</td>\n",
       "      <td>1.700140</td>\n",
       "      <td>9</td>\n",
       "      <td>8</td>\n",
       "      <td>3</td>\n",
       "    </tr>\n",
       "    <tr>\n",
       "      <th>7162</th>\n",
       "      <td>South West</td>\n",
       "      <td>2022-09-09</td>\n",
       "      <td>1.0</td>\n",
       "      <td>70559</td>\n",
       "      <td>308.0</td>\n",
       "      <td>38</td>\n",
       "      <td>299.0</td>\n",
       "      <td>2.0</td>\n",
       "      <td>1881590.0</td>\n",
       "      <td>11970.0</td>\n",
       "      <td>...</td>\n",
       "      <td>7.0</td>\n",
       "      <td>3.428571</td>\n",
       "      <td>2.225394</td>\n",
       "      <td>4.714286</td>\n",
       "      <td>2.198901</td>\n",
       "      <td>4.761905</td>\n",
       "      <td>1.813967</td>\n",
       "      <td>9</td>\n",
       "      <td>9</td>\n",
       "      <td>4</td>\n",
       "    </tr>\n",
       "    <tr>\n",
       "      <th>7161</th>\n",
       "      <td>South West</td>\n",
       "      <td>2022-09-10</td>\n",
       "      <td>0.0</td>\n",
       "      <td>70609</td>\n",
       "      <td>291.0</td>\n",
       "      <td>50</td>\n",
       "      <td>359.0</td>\n",
       "      <td>4.0</td>\n",
       "      <td>1881949.0</td>\n",
       "      <td>11974.0</td>\n",
       "      <td>...</td>\n",
       "      <td>8.0</td>\n",
       "      <td>2.571429</td>\n",
       "      <td>1.718249</td>\n",
       "      <td>4.500000</td>\n",
       "      <td>2.409915</td>\n",
       "      <td>4.571429</td>\n",
       "      <td>1.989257</td>\n",
       "      <td>9</td>\n",
       "      <td>10</td>\n",
       "      <td>5</td>\n",
       "    </tr>\n",
       "    <tr>\n",
       "      <th>7160</th>\n",
       "      <td>South West</td>\n",
       "      <td>2022-09-11</td>\n",
       "      <td>0.0</td>\n",
       "      <td>70663</td>\n",
       "      <td>309.0</td>\n",
       "      <td>54</td>\n",
       "      <td>401.0</td>\n",
       "      <td>3.0</td>\n",
       "      <td>1882350.0</td>\n",
       "      <td>11977.0</td>\n",
       "      <td>...</td>\n",
       "      <td>8.0</td>\n",
       "      <td>1.857143</td>\n",
       "      <td>1.573592</td>\n",
       "      <td>4.142857</td>\n",
       "      <td>2.684919</td>\n",
       "      <td>4.333333</td>\n",
       "      <td>2.221111</td>\n",
       "      <td>9</td>\n",
       "      <td>11</td>\n",
       "      <td>6</td>\n",
       "    </tr>\n",
       "    <tr>\n",
       "      <th>7159</th>\n",
       "      <td>South West</td>\n",
       "      <td>2022-09-12</td>\n",
       "      <td>0.0</td>\n",
       "      <td>70709</td>\n",
       "      <td>322.0</td>\n",
       "      <td>46</td>\n",
       "      <td>516.0</td>\n",
       "      <td>0.0</td>\n",
       "      <td>1882866.0</td>\n",
       "      <td>11977.0</td>\n",
       "      <td>...</td>\n",
       "      <td>8.0</td>\n",
       "      <td>1.285714</td>\n",
       "      <td>1.380131</td>\n",
       "      <td>3.714286</td>\n",
       "      <td>2.840059</td>\n",
       "      <td>4.142857</td>\n",
       "      <td>2.414243</td>\n",
       "      <td>9</td>\n",
       "      <td>12</td>\n",
       "      <td>0</td>\n",
       "    </tr>\n",
       "  </tbody>\n",
       "</table>\n",
       "<p>5 rows × 25 columns</p>\n",
       "</div>"
      ],
      "text/plain": [
       "        areaName       date  covidOccupiedMVBeds  cumAdmissions  \\\n",
       "7163  South West 2022-09-08                  2.0          70521   \n",
       "7162  South West 2022-09-09                  1.0          70559   \n",
       "7161  South West 2022-09-10                  0.0          70609   \n",
       "7160  South West 2022-09-11                  0.0          70663   \n",
       "7159  South West 2022-09-12                  0.0          70709   \n",
       "\n",
       "      hospitalCases  newAdmissions  new_confirmed  new_deceased  \\\n",
       "7163          308.0             57          349.0           7.0   \n",
       "7162          308.0             38          299.0           2.0   \n",
       "7161          291.0             50          359.0           4.0   \n",
       "7160          309.0             54          401.0           3.0   \n",
       "7159          322.0             46          516.0           0.0   \n",
       "\n",
       "      cumulative_confirmed  cumulative_deceased  ...  \\\n",
       "7163             1881291.0              11968.0  ...   \n",
       "7162             1881590.0              11970.0  ...   \n",
       "7161             1881949.0              11974.0  ...   \n",
       "7160             1882350.0              11977.0  ...   \n",
       "7159             1882866.0              11977.0  ...   \n",
       "\n",
       "      covidOccupiedMVBeds_lag_28  covidOccupiedMVBeds_rolling_7_mean  \\\n",
       "7163                         9.0                            4.000000   \n",
       "7162                         7.0                            3.428571   \n",
       "7161                         8.0                            2.571429   \n",
       "7160                         8.0                            1.857143   \n",
       "7159                         8.0                            1.285714   \n",
       "\n",
       "      covidOccupiedMVBeds_rolling_7_std  covidOccupiedMVBeds_rolling_14_mean  \\\n",
       "7163                           2.309401                             4.928571   \n",
       "7162                           2.225394                             4.714286   \n",
       "7161                           1.718249                             4.500000   \n",
       "7160                           1.573592                             4.142857   \n",
       "7159                           1.380131                             3.714286   \n",
       "\n",
       "      covidOccupiedMVBeds_rolling_14_std  covidOccupiedMVBeds_rolling_21_mean  \\\n",
       "7163                            2.055547                             4.904762   \n",
       "7162                            2.198901                             4.761905   \n",
       "7161                            2.409915                             4.571429   \n",
       "7160                            2.684919                             4.333333   \n",
       "7159                            2.840059                             4.142857   \n",
       "\n",
       "      covidOccupiedMVBeds_rolling_21_std  month  day  day_of_week  \n",
       "7163                            1.700140      9    8            3  \n",
       "7162                            1.813967      9    9            4  \n",
       "7161                            1.989257      9   10            5  \n",
       "7160                            2.221111      9   11            6  \n",
       "7159                            2.414243      9   12            0  \n",
       "\n",
       "[5 rows x 25 columns]"
      ]
     },
     "execution_count": 19,
     "metadata": {},
     "output_type": "execute_result"
    }
   ],
   "source": [
    "data.tail()"
   ]
  },
  {
   "cell_type": "code",
   "execution_count": 20,
   "metadata": {},
   "outputs": [
    {
     "data": {
      "text/plain": [
       "7"
      ]
     },
     "execution_count": 20,
     "metadata": {},
     "output_type": "execute_result"
    }
   ],
   "source": [
    "data[\"areaName\"].nunique()"
   ]
  },
  {
   "cell_type": "code",
   "execution_count": 21,
   "metadata": {},
   "outputs": [],
   "source": [
    "# data[\"date\"] = pd.to_datetime(data[\"date\"])\n",
    "# data = data.set_index(\"date\")\n",
    "\n",
    "# data['day'] = data.index.day\n",
    "# data['month'] = data.index.month"
   ]
  },
  {
   "cell_type": "code",
   "execution_count": 22,
   "metadata": {},
   "outputs": [
    {
     "name": "stdout",
     "output_type": "stream",
     "text": [
      "Area: East of England | Min Date: 2020-04-01 00:00:00 | Max Date: 2022-09-12 00:00:00\n",
      "# of Training samples: 671 | # of Validation samples: 89 | # of Test samples: 135\n",
      "Percentage of Dates in Train: 74.97% | Percentage of Dates in Validation: 9.94% | Percentage of Dates in Test: 15.08%\n",
      "Max Date in Train: 2022-01-31 00:00:00 | Min Date in Validation: 2022-02-01 00:00:00 | Min Date in Test: 2022-05-01 00:00:00\n",
      "Area: London | Min Date: 2020-04-01 00:00:00 | Max Date: 2022-09-12 00:00:00\n",
      "# of Training samples: 671 | # of Validation samples: 89 | # of Test samples: 134\n",
      "Percentage of Dates in Train: 75.06% | Percentage of Dates in Validation: 9.96% | Percentage of Dates in Test: 14.99%\n",
      "Max Date in Train: 2022-01-31 00:00:00 | Min Date in Validation: 2022-02-01 00:00:00 | Min Date in Test: 2022-05-01 00:00:00\n",
      "Area: Midlands | Min Date: 2020-04-01 00:00:00 | Max Date: 2022-09-12 00:00:00\n",
      "# of Training samples: 1342 | # of Validation samples: 178 | # of Test samples: 270\n",
      "Percentage of Dates in Train: 74.97% | Percentage of Dates in Validation: 9.94% | Percentage of Dates in Test: 15.08%\n",
      "Max Date in Train: 2022-01-31 00:00:00 | Min Date in Validation: 2022-02-01 00:00:00 | Min Date in Test: 2022-05-01 00:00:00\n",
      "Area: North East and Yorkshire | Min Date: 2020-04-01 00:00:00 | Max Date: 2022-09-12 00:00:00\n",
      "# of Training samples: 1342 | # of Validation samples: 178 | # of Test samples: 270\n",
      "Percentage of Dates in Train: 74.97% | Percentage of Dates in Validation: 9.94% | Percentage of Dates in Test: 15.08%\n",
      "Max Date in Train: 2022-01-31 00:00:00 | Min Date in Validation: 2022-02-01 00:00:00 | Min Date in Test: 2022-05-01 00:00:00\n",
      "Area: North West | Min Date: 2020-04-01 00:00:00 | Max Date: 2022-09-12 00:00:00\n",
      "# of Training samples: 671 | # of Validation samples: 89 | # of Test samples: 135\n",
      "Percentage of Dates in Train: 74.97% | Percentage of Dates in Validation: 9.94% | Percentage of Dates in Test: 15.08%\n",
      "Max Date in Train: 2022-01-31 00:00:00 | Min Date in Validation: 2022-02-01 00:00:00 | Min Date in Test: 2022-05-01 00:00:00\n",
      "Area: South East | Min Date: 2020-04-01 00:00:00 | Max Date: 2022-09-12 00:00:00\n",
      "# of Training samples: 671 | # of Validation samples: 89 | # of Test samples: 135\n",
      "Percentage of Dates in Train: 74.97% | Percentage of Dates in Validation: 9.94% | Percentage of Dates in Test: 15.08%\n",
      "Max Date in Train: 2022-01-31 00:00:00 | Min Date in Validation: 2022-02-01 00:00:00 | Min Date in Test: 2022-05-01 00:00:00\n",
      "Area: South West | Min Date: 2020-04-01 00:00:00 | Max Date: 2022-09-12 00:00:00\n",
      "# of Training samples: 671 | # of Validation samples: 89 | # of Test samples: 135\n",
      "Percentage of Dates in Train: 74.97% | Percentage of Dates in Validation: 9.94% | Percentage of Dates in Test: 15.08%\n",
      "Max Date in Train: 2022-01-31 00:00:00 | Min Date in Validation: 2022-02-01 00:00:00 | Min Date in Test: 2022-05-01 00:00:00\n"
     ]
    }
   ],
   "source": [
    "# the second wave of the pandemic, the initial data 4 months of 2021, the test data covers september to november 2021\n",
    "# data = data[(data.date >= \"2021-04-01\") & (data.date <= \"2021-11-30\")]\n",
    "\n",
    "for area in data[\"areaName\"].unique():\n",
    "    area_data = data[data[\"areaName\"] == area]\n",
    "    min_data = area_data[\"date\"].min()\n",
    "    max_data = area_data[\"date\"].max()\n",
    "\n",
    "    print(f\"Area: {area} | Min Date: {min_data} | Max Date: {max_data}\")\n",
    "\n",
    "    # Calculate the date ranges for train, val, and test sets\n",
    "    date_range = max_data - min_data\n",
    "    train_end = min_data + pd.Timedelta(days=date_range.days * 0.75)\n",
    "    val_end = train_end + pd.Timedelta(days=date_range.days * 0.10)\n",
    "\n",
    "    # Split the data into train, validation, and test sets based on the date ranges\n",
    "    train = area_data[area_data[\"date\"] < train_end]\n",
    "    val = area_data[(area_data[\"date\"] >= train_end) & (area_data[\"date\"] < val_end)]\n",
    "    test = area_data[area_data[\"date\"] >= val_end]\n",
    "\n",
    "    # Calculate the percentage of dates in each dataset\n",
    "    total_samples = len(area_data)\n",
    "    train_percentage = len(train) / total_samples * 100\n",
    "    val_percentage = len(val) / total_samples * 100\n",
    "    test_percentage = len(test) / total_samples * 100\n",
    "    # save the data as pickle\n",
    "    train.to_pickle(f\"data/processed/{area}_train.pkl\")\n",
    "    val.to_pickle(f\"data/processed/{area}_val.pkl\")\n",
    "    test.to_pickle(f\"data/processed/{area}_test.pkl\")\n",
    "    \n",
    "    \n",
    "    print(\n",
    "        f\"# of Training samples: {len(train)} | # of Validation samples: {len(val)} | # of Test samples: {len(test)}\"\n",
    "    )\n",
    "    print(\n",
    "        f\"Percentage of Dates in Train: {train_percentage:.2f}% | Percentage of Dates in Validation: {val_percentage:.2f}% | Percentage of Dates in Test: {test_percentage:.2f}%\"\n",
    "    )\n",
    "    print(\n",
    "        f\"Max Date in Train: {train.date.max()} | Min Date in Validation: {val.date.min()} | Min Date in Test: {test.date.min()}\"\n",
    "    )"
   ]
  },
  {
   "cell_type": "code",
   "execution_count": 23,
   "metadata": {},
   "outputs": [
    {
     "data": {
      "application/vnd.jupyter.widget-view+json": {
       "model_id": "b801706b7b7f48439119dba7c9208bda",
       "version_major": 2,
       "version_minor": 0
      },
      "text/plain": [
       "  0%|          | 0/7 [00:00<?, ?it/s]"
      ]
     },
     "metadata": {},
     "output_type": "display_data"
    }
   ],
   "source": [
    "from src.transforms.target_transformations import AutoStationaryTransformer\n",
    "\n",
    "transformer_pipeline = {}\n",
    "\n",
    "for _id in tqdm(data[\"areaName\"].unique()):\n",
    "    auto_stationary = AutoStationaryTransformer(seasonal_period=7)\n",
    "    y = train.loc[train[\"areaName\"] == _id, [\"date\", \"covidOccupiedMVBeds\"]].set_index(\n",
    "        \"date\"\n",
    "    )\n",
    "    \n",
    "    y_stat = auto_stationary.fit_transform(y, freq=\"D\")\n",
    "    \n",
    "    train.loc[train[\"areaName\"] == _id, \"covidOccupiedMVBeds\"] = y_stat.values\n",
    "    \n",
    "    transformer_pipeline[_id] = auto_stationary"
   ]
  },
  {
   "cell_type": "code",
   "execution_count": null,
   "metadata": {},
   "outputs": [],
   "source": []
  },
  {
   "cell_type": "code",
   "execution_count": 24,
   "metadata": {},
   "outputs": [
    {
     "data": {
      "application/vnd.plotly.v1+json": {
       "config": {
        "plotlyServerURL": "https://plot.ly"
       },
       "data": [
        {
         "coloraxis": "coloraxis",
         "hovertemplate": "Features: %{x}<br>Features: %{y}<br>Correlation: %{z}<extra></extra>",
         "name": "0",
         "type": "heatmap",
         "x": [
          "covidOccupiedMVBeds",
          "cumAdmissions",
          "hospitalCases",
          "newAdmissions",
          "new_confirmed",
          "new_deceased",
          "cumulative_confirmed",
          "cumulative_deceased",
          "covidOccupiedMVBeds_lag_3",
          "covidOccupiedMVBeds_lag_7",
          "covidOccupiedMVBeds_lag_14",
          "covidOccupiedMVBeds_lag_21",
          "covidOccupiedMVBeds_lag_28",
          "covidOccupiedMVBeds_rolling_7_mean",
          "covidOccupiedMVBeds_rolling_7_std",
          "covidOccupiedMVBeds_rolling_14_mean",
          "covidOccupiedMVBeds_rolling_14_std",
          "covidOccupiedMVBeds_rolling_21_mean",
          "covidOccupiedMVBeds_rolling_21_std",
          "month",
          "day",
          "day_of_week"
         ],
         "xaxis": "x",
         "y": [
          "covidOccupiedMVBeds",
          "cumAdmissions",
          "hospitalCases",
          "newAdmissions",
          "new_confirmed",
          "new_deceased",
          "cumulative_confirmed",
          "cumulative_deceased",
          "covidOccupiedMVBeds_lag_3",
          "covidOccupiedMVBeds_lag_7",
          "covidOccupiedMVBeds_lag_14",
          "covidOccupiedMVBeds_lag_21",
          "covidOccupiedMVBeds_lag_28",
          "covidOccupiedMVBeds_rolling_7_mean",
          "covidOccupiedMVBeds_rolling_7_std",
          "covidOccupiedMVBeds_rolling_14_mean",
          "covidOccupiedMVBeds_rolling_14_std",
          "covidOccupiedMVBeds_rolling_21_mean",
          "covidOccupiedMVBeds_rolling_21_std",
          "month",
          "day",
          "day_of_week"
         ],
         "yaxis": "y",
         "z": [
          [
           null,
           null,
           null,
           null,
           null,
           null,
           null,
           null,
           null,
           null,
           null,
           null,
           null,
           null,
           null,
           null,
           null,
           null,
           null,
           null,
           null,
           null
          ],
          [
           null,
           null,
           null,
           null,
           null,
           null,
           null,
           null,
           null,
           null,
           null,
           null,
           null,
           null,
           null,
           null,
           null,
           null,
           null,
           null,
           null,
           null
          ],
          [
           null,
           null,
           null,
           null,
           null,
           null,
           null,
           null,
           null,
           null,
           null,
           null,
           null,
           null,
           null,
           null,
           null,
           null,
           null,
           null,
           null,
           null
          ],
          [
           null,
           null,
           null,
           null,
           null,
           null,
           null,
           null,
           null,
           null,
           null,
           null,
           null,
           null,
           null,
           null,
           null,
           null,
           null,
           null,
           null,
           null
          ],
          [
           null,
           null,
           null,
           null,
           null,
           null,
           null,
           null,
           null,
           null,
           null,
           null,
           null,
           null,
           null,
           null,
           null,
           null,
           null,
           null,
           null,
           null
          ],
          [
           null,
           null,
           null,
           null,
           null,
           null,
           null,
           null,
           null,
           null,
           null,
           null,
           null,
           null,
           null,
           null,
           null,
           null,
           null,
           null,
           null,
           null
          ],
          [
           null,
           null,
           null,
           null,
           null,
           null,
           null,
           null,
           null,
           null,
           null,
           null,
           null,
           null,
           null,
           null,
           null,
           null,
           null,
           null,
           null,
           null
          ],
          [
           null,
           null,
           null,
           null,
           null,
           null,
           null,
           null,
           null,
           null,
           null,
           null,
           null,
           null,
           null,
           null,
           null,
           null,
           null,
           null,
           null,
           null
          ],
          [
           null,
           null,
           null,
           null,
           null,
           null,
           null,
           null,
           null,
           null,
           null,
           null,
           null,
           null,
           null,
           null,
           null,
           null,
           null,
           null,
           null,
           null
          ],
          [
           null,
           null,
           null,
           null,
           null,
           null,
           null,
           null,
           null,
           null,
           null,
           null,
           null,
           null,
           null,
           null,
           null,
           null,
           null,
           null,
           null,
           null
          ],
          [
           null,
           null,
           null,
           null,
           null,
           null,
           null,
           null,
           null,
           null,
           null,
           null,
           null,
           null,
           null,
           null,
           null,
           null,
           null,
           null,
           null,
           null
          ],
          [
           null,
           null,
           null,
           null,
           null,
           null,
           null,
           null,
           null,
           null,
           null,
           null,
           null,
           null,
           null,
           null,
           null,
           null,
           null,
           null,
           null,
           null
          ],
          [
           null,
           null,
           null,
           null,
           null,
           null,
           null,
           null,
           null,
           null,
           null,
           null,
           null,
           null,
           null,
           null,
           null,
           null,
           null,
           null,
           null,
           null
          ],
          [
           null,
           null,
           null,
           null,
           null,
           null,
           null,
           null,
           null,
           null,
           null,
           null,
           null,
           null,
           null,
           null,
           null,
           null,
           null,
           null,
           null,
           null
          ],
          [
           null,
           null,
           null,
           null,
           null,
           null,
           null,
           null,
           null,
           null,
           null,
           null,
           null,
           null,
           null,
           null,
           null,
           null,
           null,
           null,
           null,
           null
          ],
          [
           null,
           null,
           null,
           null,
           null,
           null,
           null,
           null,
           null,
           null,
           null,
           null,
           null,
           null,
           null,
           null,
           null,
           null,
           null,
           null,
           null,
           null
          ],
          [
           null,
           null,
           null,
           null,
           null,
           null,
           null,
           null,
           null,
           null,
           null,
           null,
           null,
           null,
           null,
           null,
           null,
           null,
           null,
           null,
           null,
           null
          ],
          [
           null,
           null,
           null,
           null,
           null,
           null,
           null,
           null,
           null,
           null,
           null,
           null,
           null,
           null,
           null,
           null,
           null,
           null,
           null,
           null,
           null,
           null
          ],
          [
           null,
           null,
           null,
           null,
           null,
           null,
           null,
           null,
           null,
           null,
           null,
           null,
           null,
           null,
           null,
           null,
           null,
           null,
           null,
           null,
           null,
           null
          ],
          [
           null,
           null,
           null,
           null,
           null,
           null,
           null,
           null,
           null,
           null,
           null,
           null,
           null,
           null,
           null,
           null,
           null,
           null,
           null,
           null,
           null,
           null
          ],
          [
           null,
           null,
           null,
           null,
           null,
           null,
           null,
           null,
           null,
           null,
           null,
           null,
           null,
           null,
           null,
           null,
           null,
           null,
           null,
           null,
           null,
           null
          ],
          [
           null,
           null,
           null,
           null,
           null,
           null,
           null,
           null,
           null,
           null,
           null,
           null,
           null,
           null,
           null,
           null,
           null,
           null,
           null,
           null,
           null,
           null
          ]
         ]
        }
       ],
       "layout": {
        "autosize": false,
        "coloraxis": {
         "colorbar": {
          "title": {
           "text": "Correlation"
          }
         },
         "colorscale": [
          [
           0,
           "#0d0887"
          ],
          [
           0.1111111111111111,
           "#46039f"
          ],
          [
           0.2222222222222222,
           "#7201a8"
          ],
          [
           0.3333333333333333,
           "#9c179e"
          ],
          [
           0.4444444444444444,
           "#bd3786"
          ],
          [
           0.5555555555555556,
           "#d8576b"
          ],
          [
           0.6666666666666666,
           "#ed7953"
          ],
          [
           0.7777777777777778,
           "#fb9f3a"
          ],
          [
           0.8888888888888888,
           "#fdca26"
          ],
          [
           1,
           "#f0f921"
          ]
         ]
        },
        "height": 900,
        "legend": {
         "font": {
          "size": 15
         },
         "orientation": "h",
         "title": {},
         "x": 1,
         "xanchor": "right",
         "y": 0.98,
         "yanchor": "bottom"
        },
        "margin": {
         "t": 60
        },
        "template": {
         "data": {
          "bar": [
           {
            "error_x": {
             "color": "#2a3f5f"
            },
            "error_y": {
             "color": "#2a3f5f"
            },
            "marker": {
             "line": {
              "color": "white",
              "width": 0.5
             },
             "pattern": {
              "fillmode": "overlay",
              "size": 10,
              "solidity": 0.2
             }
            },
            "type": "bar"
           }
          ],
          "barpolar": [
           {
            "marker": {
             "line": {
              "color": "white",
              "width": 0.5
             },
             "pattern": {
              "fillmode": "overlay",
              "size": 10,
              "solidity": 0.2
             }
            },
            "type": "barpolar"
           }
          ],
          "carpet": [
           {
            "aaxis": {
             "endlinecolor": "#2a3f5f",
             "gridcolor": "#C8D4E3",
             "linecolor": "#C8D4E3",
             "minorgridcolor": "#C8D4E3",
             "startlinecolor": "#2a3f5f"
            },
            "baxis": {
             "endlinecolor": "#2a3f5f",
             "gridcolor": "#C8D4E3",
             "linecolor": "#C8D4E3",
             "minorgridcolor": "#C8D4E3",
             "startlinecolor": "#2a3f5f"
            },
            "type": "carpet"
           }
          ],
          "choropleth": [
           {
            "colorbar": {
             "outlinewidth": 0,
             "ticks": ""
            },
            "type": "choropleth"
           }
          ],
          "contour": [
           {
            "colorbar": {
             "outlinewidth": 0,
             "ticks": ""
            },
            "colorscale": [
             [
              0,
              "#0d0887"
             ],
             [
              0.1111111111111111,
              "#46039f"
             ],
             [
              0.2222222222222222,
              "#7201a8"
             ],
             [
              0.3333333333333333,
              "#9c179e"
             ],
             [
              0.4444444444444444,
              "#bd3786"
             ],
             [
              0.5555555555555556,
              "#d8576b"
             ],
             [
              0.6666666666666666,
              "#ed7953"
             ],
             [
              0.7777777777777778,
              "#fb9f3a"
             ],
             [
              0.8888888888888888,
              "#fdca26"
             ],
             [
              1,
              "#f0f921"
             ]
            ],
            "type": "contour"
           }
          ],
          "contourcarpet": [
           {
            "colorbar": {
             "outlinewidth": 0,
             "ticks": ""
            },
            "type": "contourcarpet"
           }
          ],
          "heatmap": [
           {
            "colorbar": {
             "outlinewidth": 0,
             "ticks": ""
            },
            "colorscale": [
             [
              0,
              "#0d0887"
             ],
             [
              0.1111111111111111,
              "#46039f"
             ],
             [
              0.2222222222222222,
              "#7201a8"
             ],
             [
              0.3333333333333333,
              "#9c179e"
             ],
             [
              0.4444444444444444,
              "#bd3786"
             ],
             [
              0.5555555555555556,
              "#d8576b"
             ],
             [
              0.6666666666666666,
              "#ed7953"
             ],
             [
              0.7777777777777778,
              "#fb9f3a"
             ],
             [
              0.8888888888888888,
              "#fdca26"
             ],
             [
              1,
              "#f0f921"
             ]
            ],
            "type": "heatmap"
           }
          ],
          "heatmapgl": [
           {
            "colorbar": {
             "outlinewidth": 0,
             "ticks": ""
            },
            "colorscale": [
             [
              0,
              "#0d0887"
             ],
             [
              0.1111111111111111,
              "#46039f"
             ],
             [
              0.2222222222222222,
              "#7201a8"
             ],
             [
              0.3333333333333333,
              "#9c179e"
             ],
             [
              0.4444444444444444,
              "#bd3786"
             ],
             [
              0.5555555555555556,
              "#d8576b"
             ],
             [
              0.6666666666666666,
              "#ed7953"
             ],
             [
              0.7777777777777778,
              "#fb9f3a"
             ],
             [
              0.8888888888888888,
              "#fdca26"
             ],
             [
              1,
              "#f0f921"
             ]
            ],
            "type": "heatmapgl"
           }
          ],
          "histogram": [
           {
            "marker": {
             "pattern": {
              "fillmode": "overlay",
              "size": 10,
              "solidity": 0.2
             }
            },
            "type": "histogram"
           }
          ],
          "histogram2d": [
           {
            "colorbar": {
             "outlinewidth": 0,
             "ticks": ""
            },
            "colorscale": [
             [
              0,
              "#0d0887"
             ],
             [
              0.1111111111111111,
              "#46039f"
             ],
             [
              0.2222222222222222,
              "#7201a8"
             ],
             [
              0.3333333333333333,
              "#9c179e"
             ],
             [
              0.4444444444444444,
              "#bd3786"
             ],
             [
              0.5555555555555556,
              "#d8576b"
             ],
             [
              0.6666666666666666,
              "#ed7953"
             ],
             [
              0.7777777777777778,
              "#fb9f3a"
             ],
             [
              0.8888888888888888,
              "#fdca26"
             ],
             [
              1,
              "#f0f921"
             ]
            ],
            "type": "histogram2d"
           }
          ],
          "histogram2dcontour": [
           {
            "colorbar": {
             "outlinewidth": 0,
             "ticks": ""
            },
            "colorscale": [
             [
              0,
              "#0d0887"
             ],
             [
              0.1111111111111111,
              "#46039f"
             ],
             [
              0.2222222222222222,
              "#7201a8"
             ],
             [
              0.3333333333333333,
              "#9c179e"
             ],
             [
              0.4444444444444444,
              "#bd3786"
             ],
             [
              0.5555555555555556,
              "#d8576b"
             ],
             [
              0.6666666666666666,
              "#ed7953"
             ],
             [
              0.7777777777777778,
              "#fb9f3a"
             ],
             [
              0.8888888888888888,
              "#fdca26"
             ],
             [
              1,
              "#f0f921"
             ]
            ],
            "type": "histogram2dcontour"
           }
          ],
          "mesh3d": [
           {
            "colorbar": {
             "outlinewidth": 0,
             "ticks": ""
            },
            "type": "mesh3d"
           }
          ],
          "parcoords": [
           {
            "line": {
             "colorbar": {
              "outlinewidth": 0,
              "ticks": ""
             }
            },
            "type": "parcoords"
           }
          ],
          "pie": [
           {
            "automargin": true,
            "type": "pie"
           }
          ],
          "scatter": [
           {
            "fillpattern": {
             "fillmode": "overlay",
             "size": 10,
             "solidity": 0.2
            },
            "type": "scatter"
           }
          ],
          "scatter3d": [
           {
            "line": {
             "colorbar": {
              "outlinewidth": 0,
              "ticks": ""
             }
            },
            "marker": {
             "colorbar": {
              "outlinewidth": 0,
              "ticks": ""
             }
            },
            "type": "scatter3d"
           }
          ],
          "scattercarpet": [
           {
            "marker": {
             "colorbar": {
              "outlinewidth": 0,
              "ticks": ""
             }
            },
            "type": "scattercarpet"
           }
          ],
          "scattergeo": [
           {
            "marker": {
             "colorbar": {
              "outlinewidth": 0,
              "ticks": ""
             }
            },
            "type": "scattergeo"
           }
          ],
          "scattergl": [
           {
            "marker": {
             "colorbar": {
              "outlinewidth": 0,
              "ticks": ""
             }
            },
            "type": "scattergl"
           }
          ],
          "scattermapbox": [
           {
            "marker": {
             "colorbar": {
              "outlinewidth": 0,
              "ticks": ""
             }
            },
            "type": "scattermapbox"
           }
          ],
          "scatterpolar": [
           {
            "marker": {
             "colorbar": {
              "outlinewidth": 0,
              "ticks": ""
             }
            },
            "type": "scatterpolar"
           }
          ],
          "scatterpolargl": [
           {
            "marker": {
             "colorbar": {
              "outlinewidth": 0,
              "ticks": ""
             }
            },
            "type": "scatterpolargl"
           }
          ],
          "scatterternary": [
           {
            "marker": {
             "colorbar": {
              "outlinewidth": 0,
              "ticks": ""
             }
            },
            "type": "scatterternary"
           }
          ],
          "surface": [
           {
            "colorbar": {
             "outlinewidth": 0,
             "ticks": ""
            },
            "colorscale": [
             [
              0,
              "#0d0887"
             ],
             [
              0.1111111111111111,
              "#46039f"
             ],
             [
              0.2222222222222222,
              "#7201a8"
             ],
             [
              0.3333333333333333,
              "#9c179e"
             ],
             [
              0.4444444444444444,
              "#bd3786"
             ],
             [
              0.5555555555555556,
              "#d8576b"
             ],
             [
              0.6666666666666666,
              "#ed7953"
             ],
             [
              0.7777777777777778,
              "#fb9f3a"
             ],
             [
              0.8888888888888888,
              "#fdca26"
             ],
             [
              1,
              "#f0f921"
             ]
            ],
            "type": "surface"
           }
          ],
          "table": [
           {
            "cells": {
             "fill": {
              "color": "#EBF0F8"
             },
             "line": {
              "color": "white"
             }
            },
            "header": {
             "fill": {
              "color": "#C8D4E3"
             },
             "line": {
              "color": "white"
             }
            },
            "type": "table"
           }
          ]
         },
         "layout": {
          "annotationdefaults": {
           "arrowcolor": "#2a3f5f",
           "arrowhead": 0,
           "arrowwidth": 1
          },
          "autotypenumbers": "strict",
          "coloraxis": {
           "colorbar": {
            "outlinewidth": 0,
            "ticks": ""
           }
          },
          "colorscale": {
           "diverging": [
            [
             0,
             "#8e0152"
            ],
            [
             0.1,
             "#c51b7d"
            ],
            [
             0.2,
             "#de77ae"
            ],
            [
             0.3,
             "#f1b6da"
            ],
            [
             0.4,
             "#fde0ef"
            ],
            [
             0.5,
             "#f7f7f7"
            ],
            [
             0.6,
             "#e6f5d0"
            ],
            [
             0.7,
             "#b8e186"
            ],
            [
             0.8,
             "#7fbc41"
            ],
            [
             0.9,
             "#4d9221"
            ],
            [
             1,
             "#276419"
            ]
           ],
           "sequential": [
            [
             0,
             "#0d0887"
            ],
            [
             0.1111111111111111,
             "#46039f"
            ],
            [
             0.2222222222222222,
             "#7201a8"
            ],
            [
             0.3333333333333333,
             "#9c179e"
            ],
            [
             0.4444444444444444,
             "#bd3786"
            ],
            [
             0.5555555555555556,
             "#d8576b"
            ],
            [
             0.6666666666666666,
             "#ed7953"
            ],
            [
             0.7777777777777778,
             "#fb9f3a"
            ],
            [
             0.8888888888888888,
             "#fdca26"
            ],
            [
             1,
             "#f0f921"
            ]
           ],
           "sequentialminus": [
            [
             0,
             "#0d0887"
            ],
            [
             0.1111111111111111,
             "#46039f"
            ],
            [
             0.2222222222222222,
             "#7201a8"
            ],
            [
             0.3333333333333333,
             "#9c179e"
            ],
            [
             0.4444444444444444,
             "#bd3786"
            ],
            [
             0.5555555555555556,
             "#d8576b"
            ],
            [
             0.6666666666666666,
             "#ed7953"
            ],
            [
             0.7777777777777778,
             "#fb9f3a"
            ],
            [
             0.8888888888888888,
             "#fdca26"
            ],
            [
             1,
             "#f0f921"
            ]
           ]
          },
          "colorway": [
           "#636efa",
           "#EF553B",
           "#00cc96",
           "#ab63fa",
           "#FFA15A",
           "#19d3f3",
           "#FF6692",
           "#B6E880",
           "#FF97FF",
           "#FECB52"
          ],
          "font": {
           "color": "#2a3f5f"
          },
          "geo": {
           "bgcolor": "white",
           "lakecolor": "white",
           "landcolor": "white",
           "showlakes": true,
           "showland": true,
           "subunitcolor": "#C8D4E3"
          },
          "hoverlabel": {
           "align": "left"
          },
          "hovermode": "closest",
          "mapbox": {
           "style": "light"
          },
          "paper_bgcolor": "white",
          "plot_bgcolor": "white",
          "polar": {
           "angularaxis": {
            "gridcolor": "#EBF0F8",
            "linecolor": "#EBF0F8",
            "ticks": ""
           },
           "bgcolor": "white",
           "radialaxis": {
            "gridcolor": "#EBF0F8",
            "linecolor": "#EBF0F8",
            "ticks": ""
           }
          },
          "scene": {
           "xaxis": {
            "backgroundcolor": "white",
            "gridcolor": "#DFE8F3",
            "gridwidth": 2,
            "linecolor": "#EBF0F8",
            "showbackground": true,
            "ticks": "",
            "zerolinecolor": "#EBF0F8"
           },
           "yaxis": {
            "backgroundcolor": "white",
            "gridcolor": "#DFE8F3",
            "gridwidth": 2,
            "linecolor": "#EBF0F8",
            "showbackground": true,
            "ticks": "",
            "zerolinecolor": "#EBF0F8"
           },
           "zaxis": {
            "backgroundcolor": "white",
            "gridcolor": "#DFE8F3",
            "gridwidth": 2,
            "linecolor": "#EBF0F8",
            "showbackground": true,
            "ticks": "",
            "zerolinecolor": "#EBF0F8"
           }
          },
          "shapedefaults": {
           "line": {
            "color": "#2a3f5f"
           }
          },
          "ternary": {
           "aaxis": {
            "gridcolor": "#DFE8F3",
            "linecolor": "#A2B1C6",
            "ticks": ""
           },
           "baxis": {
            "gridcolor": "#DFE8F3",
            "linecolor": "#A2B1C6",
            "ticks": ""
           },
           "bgcolor": "white",
           "caxis": {
            "gridcolor": "#DFE8F3",
            "linecolor": "#A2B1C6",
            "ticks": ""
           }
          },
          "title": {
           "x": 0.05
          },
          "xaxis": {
           "automargin": true,
           "gridcolor": "#EBF0F8",
           "linecolor": "#EBF0F8",
           "ticks": "",
           "title": {
            "standoff": 15
           },
           "zerolinecolor": "#EBF0F8",
           "zerolinewidth": 2
          },
          "yaxis": {
           "automargin": true,
           "gridcolor": "#EBF0F8",
           "linecolor": "#EBF0F8",
           "ticks": "",
           "title": {
            "standoff": 15
           },
           "zerolinecolor": "#EBF0F8",
           "zerolinewidth": 2
          }
         }
        },
        "title": {
         "font": {
          "size": 20
         },
         "text": "Correlation Matrix for Features in East of England",
         "x": 0.5,
         "xanchor": "center",
         "yanchor": "top"
        },
        "width": 900,
        "xaxis": {
         "anchor": "y",
         "constrain": "domain",
         "domain": [
          0,
          1
         ],
         "scaleanchor": "y",
         "tickfont": {
          "size": 15
         },
         "title": {
          "font": {
           "size": 15
          },
          "text": "Features"
         }
        },
        "yaxis": {
         "anchor": "x",
         "autorange": "reversed",
         "constrain": "domain",
         "domain": [
          0,
          1
         ],
         "tickfont": {
          "size": 15
         },
         "title": {
          "font": {
           "size": 15
          },
          "text": "Features"
         }
        }
       }
      }
     },
     "metadata": {},
     "output_type": "display_data"
    }
   ],
   "source": [
    "# correlation matrix for the features in the data for one area\n",
    "area = \"East of England\"\n",
    "area_data = train[train[\"areaName\"] == area].drop(\n",
    "    columns=[\"areaName\", \"date\", \"population\"]\n",
    ")\n",
    "corr = area_data.corr()\n",
    "\n",
    "fig = px.imshow(corr, labels=dict(x=\"Features\", y=\"Features\", color=\"Correlation\"))\n",
    "fig.update_layout(\n",
    "    autosize=False,\n",
    "    width=900,\n",
    "    height=900,\n",
    "    title_text=f\"Correlation Matrix for Features in {area}\",\n",
    "    title={\"x\": 0.5, \"xanchor\": \"center\", \"yanchor\": \"top\"},\n",
    "    titlefont={\"size\": 20},\n",
    "    legend_title=None,\n",
    "    legend=dict(\n",
    "        font=dict(size=15),\n",
    "        orientation=\"h\",\n",
    "        yanchor=\"bottom\",\n",
    "        y=0.98,\n",
    "        xanchor=\"right\",\n",
    "        x=1,\n",
    "    ),\n",
    "    yaxis=dict(\n",
    "        title_text=\"Features\",\n",
    "        titlefont=dict(size=15),\n",
    "        tickfont=dict(size=15),\n",
    "    ),\n",
    "    xaxis=dict(\n",
    "        title_text=\"Features\",\n",
    "        titlefont=dict(size=15),\n",
    "        tickfont=dict(size=15),\n",
    "    ),\n",
    ")\n",
    "fig.show()"
   ]
  },
  {
   "cell_type": "markdown",
   "metadata": {},
   "source": [
    "## Detecting seasonality\n"
   ]
  },
  {
   "cell_type": "code",
   "execution_count": 25,
   "metadata": {},
   "outputs": [
    {
     "data": {
      "text/plain": [
       "Index(['areaName', 'date', 'covidOccupiedMVBeds', 'cumAdmissions',\n",
       "       'hospitalCases', 'newAdmissions', 'new_confirmed', 'new_deceased',\n",
       "       'cumulative_confirmed', 'cumulative_deceased', 'population',\n",
       "       'covidOccupiedMVBeds_lag_3', 'covidOccupiedMVBeds_lag_7',\n",
       "       'covidOccupiedMVBeds_lag_14', 'covidOccupiedMVBeds_lag_21',\n",
       "       'covidOccupiedMVBeds_lag_28', 'covidOccupiedMVBeds_rolling_7_mean',\n",
       "       'covidOccupiedMVBeds_rolling_7_std',\n",
       "       'covidOccupiedMVBeds_rolling_14_mean',\n",
       "       'covidOccupiedMVBeds_rolling_14_std',\n",
       "       'covidOccupiedMVBeds_rolling_21_mean',\n",
       "       'covidOccupiedMVBeds_rolling_21_std', 'month', 'day', 'day_of_week'],\n",
       "      dtype='object')"
      ]
     },
     "execution_count": 25,
     "metadata": {},
     "output_type": "execute_result"
    }
   ],
   "source": [
    "data.columns"
   ]
  },
  {
   "cell_type": "code",
   "execution_count": 26,
   "metadata": {},
   "outputs": [
    {
     "name": "stdout",
     "output_type": "stream",
     "text": [
      "Minimum Date: 2020-04-01 00:00:00\n",
      "Maximum Date: 2022-09-12 00:00:00\n",
      "# of Training samples: 6039 | # of Validation samples: 801 | # of Test samples: 1214\n",
      "Percentage of Dates in Train: 74.98% | Percentage of Dates in Validation: 9.95% | Percentage of Dates in Test: 15.07%\n",
      "Max Date in Train: 2022-01-31 00:00:00 | Min Date in Validation: 2022-02-01 00:00:00 | Min Date in Test: 2022-05-01 00:00:00\n"
     ]
    }
   ],
   "source": [
    "# Find the minimum and maximum dates\n",
    "min_date = data[\"date\"].min()\n",
    "max_date = data[\"date\"].max()\n",
    "\n",
    "print(\"Minimum Date:\", min_date)\n",
    "print(\"Maximum Date:\", max_date)\n",
    "\n",
    "# Calculate the date ranges for train, val, and test sets\n",
    "date_range = max_date - min_date\n",
    "train_end = min_date + pd.Timedelta(days=date_range.days * 0.75)\n",
    "val_end = train_end + pd.Timedelta(days=date_range.days * 0.10)\n",
    "\n",
    "# Split the data into train, validation, and test sets based on the date ranges\n",
    "train = data[data[\"date\"] < train_end]\n",
    "val = data[(data[\"date\"] >= train_end) & (data[\"date\"] < val_end)]\n",
    "test = data[data[\"date\"] >= val_end]\n",
    "\n",
    "# Calculate the percentage of dates in each dataset\n",
    "total_samples = len(data)\n",
    "train_percentage = len(train) / total_samples * 100\n",
    "val_percentage = len(val) / total_samples * 100\n",
    "test_percentage = len(test) / total_samples * 100\n",
    "\n",
    "print(\n",
    "    f\"# of Training samples: {len(train)} | # of Validation samples: {len(val)} | # of Test samples: {len(test)}\"\n",
    ")\n",
    "print(\n",
    "    f\"Percentage of Dates in Train: {train_percentage:.2f}% | Percentage of Dates in Validation: {val_percentage:.2f}% | Percentage of Dates in Test: {test_percentage:.2f}%\"\n",
    ")\n",
    "print(\n",
    "    f\"Max Date in Train: {train.date.max()} | Min Date in Validation: {val.date.min()} | Min Date in Test: {test.date.min()}\"\n",
    ")"
   ]
  },
  {
   "cell_type": "code",
   "execution_count": 27,
   "metadata": {},
   "outputs": [],
   "source": [
    "# feat_config = FeatureConfig(\n",
    "#     continuous_features=[\n",
    "#         \"covidOccupiedMVBeds_lag_1\",\n",
    "#         \"covidOccupiedMVBeds_lag_3\",\n",
    "#         \"covidOccupiedMVBeds_lag_7\",\n",
    "#         \"covidOccupiedMVBeds_lag_14\",\n",
    "#         \"covidOccupiedMVBeds_lag_21\",\n",
    "#         \"covidOccupiedMVBeds_lag_28\",\n",
    "#         \"covidOccupiedMVBeds_roll_7_mean\",\n",
    "#         \"covidOccupiedMVBeds_roll_7_std\",\n",
    "#         \"covidOccupiedMVBeds_roll_14_mean\",\n",
    "#         \"covidOccupiedMVBeds_roll_14_std\",\n",
    "#         \"covidOccupiedMVBeds_roll_21_mean\",\n",
    "#         \"covidOccupiedMVBeds_roll_21_std\",\n",
    "#         \"covidOccupiedMVBeds_ewma_7\",\n",
    "#         \"covidOccupiedMVBeds_ewma_14\",\n",
    "#         \"covidOccupiedMVBeds_ewma_21\",\n",
    "#     ],\n",
    "#     categorical_features=[\"day\", \"month\"],\n",
    "#     target=\"covidOccupiedMVBeds\",\n",
    "#     date=\"date\",\n",
    "# )"
   ]
  },
  {
   "cell_type": "code",
   "execution_count": 28,
   "metadata": {},
   "outputs": [
    {
     "data": {
      "text/plain": [
       "(6039, 801, 1214)"
      ]
     },
     "execution_count": 28,
     "metadata": {},
     "output_type": "execute_result"
    }
   ],
   "source": [
    "len(train), len(val), len(test)"
   ]
  },
  {
   "cell_type": "code",
   "execution_count": 29,
   "metadata": {},
   "outputs": [
    {
     "data": {
      "text/plain": [
       "Series([], dtype: int64)"
      ]
     },
     "execution_count": 29,
     "metadata": {},
     "output_type": "execute_result"
    }
   ],
   "source": [
    "nc = train.isnull().sum()\n",
    "nc[nc > 0]"
   ]
  },
  {
   "cell_type": "code",
   "execution_count": 30,
   "metadata": {},
   "outputs": [
    {
     "data": {
      "text/plain": [
       "Series([], dtype: int64)"
      ]
     },
     "execution_count": 30,
     "metadata": {},
     "output_type": "execute_result"
    }
   ],
   "source": [
    "nc = val.isnull().sum()\n",
    "nc[nc > 0]"
   ]
  },
  {
   "cell_type": "code",
   "execution_count": 31,
   "metadata": {},
   "outputs": [],
   "source": [
    "target = \"covidOccupiedMVBeds\"\n",
    "index_cols = [\"date\", \"areaName\"]"
   ]
  },
  {
   "cell_type": "code",
   "execution_count": 32,
   "metadata": {},
   "outputs": [],
   "source": [
    "train = train.set_index(index_cols)\n",
    "val = val.set_index(index_cols)\n",
    "pred_df = pd.concat([train, val], axis=0)"
   ]
  },
  {
   "cell_type": "code",
   "execution_count": 33,
   "metadata": {},
   "outputs": [
    {
     "data": {
      "text/html": [
       "<div>\n",
       "<style scoped>\n",
       "    .dataframe tbody tr th:only-of-type {\n",
       "        vertical-align: middle;\n",
       "    }\n",
       "\n",
       "    .dataframe tbody tr th {\n",
       "        vertical-align: top;\n",
       "    }\n",
       "\n",
       "    .dataframe thead th {\n",
       "        text-align: right;\n",
       "    }\n",
       "</style>\n",
       "<table border=\"1\" class=\"dataframe\">\n",
       "  <thead>\n",
       "    <tr style=\"text-align: right;\">\n",
       "      <th></th>\n",
       "      <th></th>\n",
       "      <th>covidOccupiedMVBeds</th>\n",
       "      <th>cumAdmissions</th>\n",
       "      <th>hospitalCases</th>\n",
       "      <th>newAdmissions</th>\n",
       "      <th>new_confirmed</th>\n",
       "      <th>new_deceased</th>\n",
       "      <th>cumulative_confirmed</th>\n",
       "      <th>cumulative_deceased</th>\n",
       "      <th>population</th>\n",
       "      <th>covidOccupiedMVBeds_lag_3</th>\n",
       "      <th>...</th>\n",
       "      <th>covidOccupiedMVBeds_lag_28</th>\n",
       "      <th>covidOccupiedMVBeds_rolling_7_mean</th>\n",
       "      <th>covidOccupiedMVBeds_rolling_7_std</th>\n",
       "      <th>covidOccupiedMVBeds_rolling_14_mean</th>\n",
       "      <th>covidOccupiedMVBeds_rolling_14_std</th>\n",
       "      <th>covidOccupiedMVBeds_rolling_21_mean</th>\n",
       "      <th>covidOccupiedMVBeds_rolling_21_std</th>\n",
       "      <th>month</th>\n",
       "      <th>day</th>\n",
       "      <th>day_of_week</th>\n",
       "    </tr>\n",
       "    <tr>\n",
       "      <th>date</th>\n",
       "      <th>areaName</th>\n",
       "      <th></th>\n",
       "      <th></th>\n",
       "      <th></th>\n",
       "      <th></th>\n",
       "      <th></th>\n",
       "      <th></th>\n",
       "      <th></th>\n",
       "      <th></th>\n",
       "      <th></th>\n",
       "      <th></th>\n",
       "      <th></th>\n",
       "      <th></th>\n",
       "      <th></th>\n",
       "      <th></th>\n",
       "      <th></th>\n",
       "      <th></th>\n",
       "      <th></th>\n",
       "      <th></th>\n",
       "      <th></th>\n",
       "      <th></th>\n",
       "      <th></th>\n",
       "    </tr>\n",
       "  </thead>\n",
       "  <tbody>\n",
       "    <tr>\n",
       "      <th>2020-04-01</th>\n",
       "      <th>East of England</th>\n",
       "      <td>0.0</td>\n",
       "      <td>1400</td>\n",
       "      <td>833.0</td>\n",
       "      <td>167</td>\n",
       "      <td>334.0</td>\n",
       "      <td>75.0</td>\n",
       "      <td>2938.0</td>\n",
       "      <td>455.0</td>\n",
       "      <td>6235410</td>\n",
       "      <td>0.0</td>\n",
       "      <td>...</td>\n",
       "      <td>0.0</td>\n",
       "      <td>161.428574</td>\n",
       "      <td>83.500214</td>\n",
       "      <td>220.857147</td>\n",
       "      <td>84.322510</td>\n",
       "      <td>248.523804</td>\n",
       "      <td>79.266396</td>\n",
       "      <td>4</td>\n",
       "      <td>1</td>\n",
       "      <td>2</td>\n",
       "    </tr>\n",
       "    <tr>\n",
       "      <th>2020-04-02</th>\n",
       "      <th>East of England</th>\n",
       "      <td>119.0</td>\n",
       "      <td>1584</td>\n",
       "      <td>841.0</td>\n",
       "      <td>184</td>\n",
       "      <td>372.0</td>\n",
       "      <td>71.0</td>\n",
       "      <td>3310.0</td>\n",
       "      <td>526.0</td>\n",
       "      <td>6235410</td>\n",
       "      <td>0.0</td>\n",
       "      <td>...</td>\n",
       "      <td>0.0</td>\n",
       "      <td>161.428574</td>\n",
       "      <td>83.500214</td>\n",
       "      <td>220.857147</td>\n",
       "      <td>84.322510</td>\n",
       "      <td>248.523804</td>\n",
       "      <td>79.266396</td>\n",
       "      <td>4</td>\n",
       "      <td>2</td>\n",
       "      <td>3</td>\n",
       "    </tr>\n",
       "    <tr>\n",
       "      <th>2020-04-03</th>\n",
       "      <th>East of England</th>\n",
       "      <td>162.0</td>\n",
       "      <td>1776</td>\n",
       "      <td>914.0</td>\n",
       "      <td>192</td>\n",
       "      <td>350.0</td>\n",
       "      <td>85.0</td>\n",
       "      <td>3660.0</td>\n",
       "      <td>611.0</td>\n",
       "      <td>6235410</td>\n",
       "      <td>0.0</td>\n",
       "      <td>...</td>\n",
       "      <td>0.0</td>\n",
       "      <td>161.428574</td>\n",
       "      <td>83.500214</td>\n",
       "      <td>220.857147</td>\n",
       "      <td>84.322510</td>\n",
       "      <td>248.523804</td>\n",
       "      <td>79.266396</td>\n",
       "      <td>4</td>\n",
       "      <td>3</td>\n",
       "      <td>4</td>\n",
       "    </tr>\n",
       "    <tr>\n",
       "      <th>2020-04-04</th>\n",
       "      <th>East of England</th>\n",
       "      <td>171.0</td>\n",
       "      <td>1939</td>\n",
       "      <td>988.0</td>\n",
       "      <td>163</td>\n",
       "      <td>268.0</td>\n",
       "      <td>70.0</td>\n",
       "      <td>3928.0</td>\n",
       "      <td>681.0</td>\n",
       "      <td>6235410</td>\n",
       "      <td>0.0</td>\n",
       "      <td>...</td>\n",
       "      <td>0.0</td>\n",
       "      <td>161.428574</td>\n",
       "      <td>83.500214</td>\n",
       "      <td>220.857147</td>\n",
       "      <td>84.322510</td>\n",
       "      <td>248.523804</td>\n",
       "      <td>79.266396</td>\n",
       "      <td>4</td>\n",
       "      <td>4</td>\n",
       "      <td>5</td>\n",
       "    </tr>\n",
       "    <tr>\n",
       "      <th>2020-04-05</th>\n",
       "      <th>East of England</th>\n",
       "      <td>219.0</td>\n",
       "      <td>2159</td>\n",
       "      <td>1230.0</td>\n",
       "      <td>220</td>\n",
       "      <td>281.0</td>\n",
       "      <td>91.0</td>\n",
       "      <td>4209.0</td>\n",
       "      <td>772.0</td>\n",
       "      <td>6235410</td>\n",
       "      <td>119.0</td>\n",
       "      <td>...</td>\n",
       "      <td>0.0</td>\n",
       "      <td>161.428574</td>\n",
       "      <td>83.500214</td>\n",
       "      <td>220.857147</td>\n",
       "      <td>84.322510</td>\n",
       "      <td>248.523804</td>\n",
       "      <td>79.266396</td>\n",
       "      <td>4</td>\n",
       "      <td>5</td>\n",
       "      <td>6</td>\n",
       "    </tr>\n",
       "    <tr>\n",
       "      <th>...</th>\n",
       "      <th>...</th>\n",
       "      <td>...</td>\n",
       "      <td>...</td>\n",
       "      <td>...</td>\n",
       "      <td>...</td>\n",
       "      <td>...</td>\n",
       "      <td>...</td>\n",
       "      <td>...</td>\n",
       "      <td>...</td>\n",
       "      <td>...</td>\n",
       "      <td>...</td>\n",
       "      <td>...</td>\n",
       "      <td>...</td>\n",
       "      <td>...</td>\n",
       "      <td>...</td>\n",
       "      <td>...</td>\n",
       "      <td>...</td>\n",
       "      <td>...</td>\n",
       "      <td>...</td>\n",
       "      <td>...</td>\n",
       "      <td>...</td>\n",
       "      <td>...</td>\n",
       "    </tr>\n",
       "    <tr>\n",
       "      <th>2022-01-27</th>\n",
       "      <th>South West</th>\n",
       "      <td>14.0</td>\n",
       "      <td>43023</td>\n",
       "      <td>835.0</td>\n",
       "      <td>127</td>\n",
       "      <td>9121.0</td>\n",
       "      <td>22.0</td>\n",
       "      <td>1226282.0</td>\n",
       "      <td>8805.0</td>\n",
       "      <td>5616381</td>\n",
       "      <td>16.0</td>\n",
       "      <td>...</td>\n",
       "      <td>56.0</td>\n",
       "      <td>15.428572</td>\n",
       "      <td>1.812654</td>\n",
       "      <td>20.071428</td>\n",
       "      <td>6.673303</td>\n",
       "      <td>28.571428</td>\n",
       "      <td>13.991323</td>\n",
       "      <td>1</td>\n",
       "      <td>27</td>\n",
       "      <td>3</td>\n",
       "    </tr>\n",
       "    <tr>\n",
       "      <th>2022-01-28</th>\n",
       "      <th>South West</th>\n",
       "      <td>15.0</td>\n",
       "      <td>43137</td>\n",
       "      <td>830.0</td>\n",
       "      <td>114</td>\n",
       "      <td>8135.0</td>\n",
       "      <td>20.0</td>\n",
       "      <td>1234417.0</td>\n",
       "      <td>8825.0</td>\n",
       "      <td>5616381</td>\n",
       "      <td>14.0</td>\n",
       "      <td>...</td>\n",
       "      <td>58.0</td>\n",
       "      <td>15.428572</td>\n",
       "      <td>1.812654</td>\n",
       "      <td>18.714285</td>\n",
       "      <td>5.703286</td>\n",
       "      <td>26.714285</td>\n",
       "      <td>13.149688</td>\n",
       "      <td>1</td>\n",
       "      <td>28</td>\n",
       "      <td>4</td>\n",
       "    </tr>\n",
       "    <tr>\n",
       "      <th>2022-01-29</th>\n",
       "      <th>South West</th>\n",
       "      <td>17.0</td>\n",
       "      <td>43240</td>\n",
       "      <td>798.0</td>\n",
       "      <td>103</td>\n",
       "      <td>7472.0</td>\n",
       "      <td>14.0</td>\n",
       "      <td>1241889.0</td>\n",
       "      <td>8839.0</td>\n",
       "      <td>5616381</td>\n",
       "      <td>16.0</td>\n",
       "      <td>...</td>\n",
       "      <td>55.0</td>\n",
       "      <td>15.714286</td>\n",
       "      <td>1.496027</td>\n",
       "      <td>17.571428</td>\n",
       "      <td>4.535573</td>\n",
       "      <td>24.857143</td>\n",
       "      <td>11.786797</td>\n",
       "      <td>1</td>\n",
       "      <td>29</td>\n",
       "      <td>5</td>\n",
       "    </tr>\n",
       "    <tr>\n",
       "      <th>2022-01-30</th>\n",
       "      <th>South West</th>\n",
       "      <td>17.0</td>\n",
       "      <td>43349</td>\n",
       "      <td>831.0</td>\n",
       "      <td>109</td>\n",
       "      <td>8758.0</td>\n",
       "      <td>24.0</td>\n",
       "      <td>1250647.0</td>\n",
       "      <td>8863.0</td>\n",
       "      <td>5616381</td>\n",
       "      <td>14.0</td>\n",
       "      <td>...</td>\n",
       "      <td>53.0</td>\n",
       "      <td>15.571428</td>\n",
       "      <td>1.272418</td>\n",
       "      <td>16.857143</td>\n",
       "      <td>3.634390</td>\n",
       "      <td>23.238094</td>\n",
       "      <td>10.251365</td>\n",
       "      <td>1</td>\n",
       "      <td>30</td>\n",
       "      <td>6</td>\n",
       "    </tr>\n",
       "    <tr>\n",
       "      <th>2022-01-31</th>\n",
       "      <th>South West</th>\n",
       "      <td>18.0</td>\n",
       "      <td>43505</td>\n",
       "      <td>869.0</td>\n",
       "      <td>156</td>\n",
       "      <td>10773.0</td>\n",
       "      <td>15.0</td>\n",
       "      <td>1261420.0</td>\n",
       "      <td>8878.0</td>\n",
       "      <td>5616381</td>\n",
       "      <td>15.0</td>\n",
       "      <td>...</td>\n",
       "      <td>64.0</td>\n",
       "      <td>15.571428</td>\n",
       "      <td>1.272418</td>\n",
       "      <td>16.214285</td>\n",
       "      <td>2.516975</td>\n",
       "      <td>22.047619</td>\n",
       "      <td>9.378039</td>\n",
       "      <td>1</td>\n",
       "      <td>31</td>\n",
       "      <td>0</td>\n",
       "    </tr>\n",
       "  </tbody>\n",
       "</table>\n",
       "<p>6039 rows × 23 columns</p>\n",
       "</div>"
      ],
      "text/plain": [
       "                            covidOccupiedMVBeds  cumAdmissions  hospitalCases  \\\n",
       "date       areaName                                                             \n",
       "2020-04-01 East of England                  0.0           1400          833.0   \n",
       "2020-04-02 East of England                119.0           1584          841.0   \n",
       "2020-04-03 East of England                162.0           1776          914.0   \n",
       "2020-04-04 East of England                171.0           1939          988.0   \n",
       "2020-04-05 East of England                219.0           2159         1230.0   \n",
       "...                                         ...            ...            ...   \n",
       "2022-01-27 South West                      14.0          43023          835.0   \n",
       "2022-01-28 South West                      15.0          43137          830.0   \n",
       "2022-01-29 South West                      17.0          43240          798.0   \n",
       "2022-01-30 South West                      17.0          43349          831.0   \n",
       "2022-01-31 South West                      18.0          43505          869.0   \n",
       "\n",
       "                            newAdmissions  new_confirmed  new_deceased  \\\n",
       "date       areaName                                                      \n",
       "2020-04-01 East of England            167          334.0          75.0   \n",
       "2020-04-02 East of England            184          372.0          71.0   \n",
       "2020-04-03 East of England            192          350.0          85.0   \n",
       "2020-04-04 East of England            163          268.0          70.0   \n",
       "2020-04-05 East of England            220          281.0          91.0   \n",
       "...                                   ...            ...           ...   \n",
       "2022-01-27 South West                 127         9121.0          22.0   \n",
       "2022-01-28 South West                 114         8135.0          20.0   \n",
       "2022-01-29 South West                 103         7472.0          14.0   \n",
       "2022-01-30 South West                 109         8758.0          24.0   \n",
       "2022-01-31 South West                 156        10773.0          15.0   \n",
       "\n",
       "                            cumulative_confirmed  cumulative_deceased  \\\n",
       "date       areaName                                                     \n",
       "2020-04-01 East of England                2938.0                455.0   \n",
       "2020-04-02 East of England                3310.0                526.0   \n",
       "2020-04-03 East of England                3660.0                611.0   \n",
       "2020-04-04 East of England                3928.0                681.0   \n",
       "2020-04-05 East of England                4209.0                772.0   \n",
       "...                                          ...                  ...   \n",
       "2022-01-27 South West                  1226282.0               8805.0   \n",
       "2022-01-28 South West                  1234417.0               8825.0   \n",
       "2022-01-29 South West                  1241889.0               8839.0   \n",
       "2022-01-30 South West                  1250647.0               8863.0   \n",
       "2022-01-31 South West                  1261420.0               8878.0   \n",
       "\n",
       "                            population  covidOccupiedMVBeds_lag_3  ...  \\\n",
       "date       areaName                                                ...   \n",
       "2020-04-01 East of England     6235410                        0.0  ...   \n",
       "2020-04-02 East of England     6235410                        0.0  ...   \n",
       "2020-04-03 East of England     6235410                        0.0  ...   \n",
       "2020-04-04 East of England     6235410                        0.0  ...   \n",
       "2020-04-05 East of England     6235410                      119.0  ...   \n",
       "...                                ...                        ...  ...   \n",
       "2022-01-27 South West          5616381                       16.0  ...   \n",
       "2022-01-28 South West          5616381                       14.0  ...   \n",
       "2022-01-29 South West          5616381                       16.0  ...   \n",
       "2022-01-30 South West          5616381                       14.0  ...   \n",
       "2022-01-31 South West          5616381                       15.0  ...   \n",
       "\n",
       "                            covidOccupiedMVBeds_lag_28  \\\n",
       "date       areaName                                      \n",
       "2020-04-01 East of England                         0.0   \n",
       "2020-04-02 East of England                         0.0   \n",
       "2020-04-03 East of England                         0.0   \n",
       "2020-04-04 East of England                         0.0   \n",
       "2020-04-05 East of England                         0.0   \n",
       "...                                                ...   \n",
       "2022-01-27 South West                             56.0   \n",
       "2022-01-28 South West                             58.0   \n",
       "2022-01-29 South West                             55.0   \n",
       "2022-01-30 South West                             53.0   \n",
       "2022-01-31 South West                             64.0   \n",
       "\n",
       "                            covidOccupiedMVBeds_rolling_7_mean  \\\n",
       "date       areaName                                              \n",
       "2020-04-01 East of England                          161.428574   \n",
       "2020-04-02 East of England                          161.428574   \n",
       "2020-04-03 East of England                          161.428574   \n",
       "2020-04-04 East of England                          161.428574   \n",
       "2020-04-05 East of England                          161.428574   \n",
       "...                                                        ...   \n",
       "2022-01-27 South West                                15.428572   \n",
       "2022-01-28 South West                                15.428572   \n",
       "2022-01-29 South West                                15.714286   \n",
       "2022-01-30 South West                                15.571428   \n",
       "2022-01-31 South West                                15.571428   \n",
       "\n",
       "                            covidOccupiedMVBeds_rolling_7_std  \\\n",
       "date       areaName                                             \n",
       "2020-04-01 East of England                          83.500214   \n",
       "2020-04-02 East of England                          83.500214   \n",
       "2020-04-03 East of England                          83.500214   \n",
       "2020-04-04 East of England                          83.500214   \n",
       "2020-04-05 East of England                          83.500214   \n",
       "...                                                       ...   \n",
       "2022-01-27 South West                                1.812654   \n",
       "2022-01-28 South West                                1.812654   \n",
       "2022-01-29 South West                                1.496027   \n",
       "2022-01-30 South West                                1.272418   \n",
       "2022-01-31 South West                                1.272418   \n",
       "\n",
       "                            covidOccupiedMVBeds_rolling_14_mean  \\\n",
       "date       areaName                                               \n",
       "2020-04-01 East of England                           220.857147   \n",
       "2020-04-02 East of England                           220.857147   \n",
       "2020-04-03 East of England                           220.857147   \n",
       "2020-04-04 East of England                           220.857147   \n",
       "2020-04-05 East of England                           220.857147   \n",
       "...                                                         ...   \n",
       "2022-01-27 South West                                 20.071428   \n",
       "2022-01-28 South West                                 18.714285   \n",
       "2022-01-29 South West                                 17.571428   \n",
       "2022-01-30 South West                                 16.857143   \n",
       "2022-01-31 South West                                 16.214285   \n",
       "\n",
       "                            covidOccupiedMVBeds_rolling_14_std  \\\n",
       "date       areaName                                              \n",
       "2020-04-01 East of England                           84.322510   \n",
       "2020-04-02 East of England                           84.322510   \n",
       "2020-04-03 East of England                           84.322510   \n",
       "2020-04-04 East of England                           84.322510   \n",
       "2020-04-05 East of England                           84.322510   \n",
       "...                                                        ...   \n",
       "2022-01-27 South West                                 6.673303   \n",
       "2022-01-28 South West                                 5.703286   \n",
       "2022-01-29 South West                                 4.535573   \n",
       "2022-01-30 South West                                 3.634390   \n",
       "2022-01-31 South West                                 2.516975   \n",
       "\n",
       "                            covidOccupiedMVBeds_rolling_21_mean  \\\n",
       "date       areaName                                               \n",
       "2020-04-01 East of England                           248.523804   \n",
       "2020-04-02 East of England                           248.523804   \n",
       "2020-04-03 East of England                           248.523804   \n",
       "2020-04-04 East of England                           248.523804   \n",
       "2020-04-05 East of England                           248.523804   \n",
       "...                                                         ...   \n",
       "2022-01-27 South West                                 28.571428   \n",
       "2022-01-28 South West                                 26.714285   \n",
       "2022-01-29 South West                                 24.857143   \n",
       "2022-01-30 South West                                 23.238094   \n",
       "2022-01-31 South West                                 22.047619   \n",
       "\n",
       "                            covidOccupiedMVBeds_rolling_21_std  month  day  \\\n",
       "date       areaName                                                          \n",
       "2020-04-01 East of England                           79.266396      4    1   \n",
       "2020-04-02 East of England                           79.266396      4    2   \n",
       "2020-04-03 East of England                           79.266396      4    3   \n",
       "2020-04-04 East of England                           79.266396      4    4   \n",
       "2020-04-05 East of England                           79.266396      4    5   \n",
       "...                                                        ...    ...  ...   \n",
       "2022-01-27 South West                                13.991323      1   27   \n",
       "2022-01-28 South West                                13.149688      1   28   \n",
       "2022-01-29 South West                                11.786797      1   29   \n",
       "2022-01-30 South West                                10.251365      1   30   \n",
       "2022-01-31 South West                                 9.378039      1   31   \n",
       "\n",
       "                            day_of_week  \n",
       "date       areaName                      \n",
       "2020-04-01 East of England            2  \n",
       "2020-04-02 East of England            3  \n",
       "2020-04-03 East of England            4  \n",
       "2020-04-04 East of England            5  \n",
       "2020-04-05 East of England            6  \n",
       "...                                 ...  \n",
       "2022-01-27 South West                 3  \n",
       "2022-01-28 South West                 4  \n",
       "2022-01-29 South West                 5  \n",
       "2022-01-30 South West                 6  \n",
       "2022-01-31 South West                 0  \n",
       "\n",
       "[6039 rows x 23 columns]"
      ]
     },
     "execution_count": 33,
     "metadata": {},
     "output_type": "execute_result"
    }
   ],
   "source": [
    "train"
   ]
  },
  {
   "cell_type": "code",
   "execution_count": 34,
   "metadata": {},
   "outputs": [],
   "source": [
    "sample_train_df = train[train.index.get_level_values(\"areaName\") == \"East of England\"]\n",
    "sample_val = val[val.index.get_level_values(\"areaName\") == \"East of England\"]\n"
   ]
  },
  {
   "cell_type": "code",
   "execution_count": 35,
   "metadata": {},
   "outputs": [
    {
     "data": {
      "text/html": [
       "<div>\n",
       "<style scoped>\n",
       "    .dataframe tbody tr th:only-of-type {\n",
       "        vertical-align: middle;\n",
       "    }\n",
       "\n",
       "    .dataframe tbody tr th {\n",
       "        vertical-align: top;\n",
       "    }\n",
       "\n",
       "    .dataframe thead th {\n",
       "        text-align: right;\n",
       "    }\n",
       "</style>\n",
       "<table border=\"1\" class=\"dataframe\">\n",
       "  <thead>\n",
       "    <tr style=\"text-align: right;\">\n",
       "      <th></th>\n",
       "      <th></th>\n",
       "      <th>covidOccupiedMVBeds</th>\n",
       "      <th>cumAdmissions</th>\n",
       "      <th>hospitalCases</th>\n",
       "      <th>newAdmissions</th>\n",
       "      <th>new_confirmed</th>\n",
       "      <th>new_deceased</th>\n",
       "      <th>cumulative_confirmed</th>\n",
       "      <th>cumulative_deceased</th>\n",
       "      <th>population</th>\n",
       "      <th>covidOccupiedMVBeds_lag_3</th>\n",
       "      <th>...</th>\n",
       "      <th>covidOccupiedMVBeds_lag_28</th>\n",
       "      <th>covidOccupiedMVBeds_rolling_7_mean</th>\n",
       "      <th>covidOccupiedMVBeds_rolling_7_std</th>\n",
       "      <th>covidOccupiedMVBeds_rolling_14_mean</th>\n",
       "      <th>covidOccupiedMVBeds_rolling_14_std</th>\n",
       "      <th>covidOccupiedMVBeds_rolling_21_mean</th>\n",
       "      <th>covidOccupiedMVBeds_rolling_21_std</th>\n",
       "      <th>month</th>\n",
       "      <th>day</th>\n",
       "      <th>day_of_week</th>\n",
       "    </tr>\n",
       "    <tr>\n",
       "      <th>date</th>\n",
       "      <th>areaName</th>\n",
       "      <th></th>\n",
       "      <th></th>\n",
       "      <th></th>\n",
       "      <th></th>\n",
       "      <th></th>\n",
       "      <th></th>\n",
       "      <th></th>\n",
       "      <th></th>\n",
       "      <th></th>\n",
       "      <th></th>\n",
       "      <th></th>\n",
       "      <th></th>\n",
       "      <th></th>\n",
       "      <th></th>\n",
       "      <th></th>\n",
       "      <th></th>\n",
       "      <th></th>\n",
       "      <th></th>\n",
       "      <th></th>\n",
       "      <th></th>\n",
       "      <th></th>\n",
       "    </tr>\n",
       "  </thead>\n",
       "  <tbody>\n",
       "    <tr>\n",
       "      <th>2020-04-01</th>\n",
       "      <th>East of England</th>\n",
       "      <td>0.0</td>\n",
       "      <td>1400</td>\n",
       "      <td>833.0</td>\n",
       "      <td>167</td>\n",
       "      <td>334.0</td>\n",
       "      <td>75.0</td>\n",
       "      <td>2938.0</td>\n",
       "      <td>455.0</td>\n",
       "      <td>6235410</td>\n",
       "      <td>0.0</td>\n",
       "      <td>...</td>\n",
       "      <td>0.0</td>\n",
       "      <td>161.428574</td>\n",
       "      <td>83.500214</td>\n",
       "      <td>220.857147</td>\n",
       "      <td>84.32251</td>\n",
       "      <td>248.523804</td>\n",
       "      <td>79.266396</td>\n",
       "      <td>4</td>\n",
       "      <td>1</td>\n",
       "      <td>2</td>\n",
       "    </tr>\n",
       "    <tr>\n",
       "      <th>2020-04-02</th>\n",
       "      <th>East of England</th>\n",
       "      <td>119.0</td>\n",
       "      <td>1584</td>\n",
       "      <td>841.0</td>\n",
       "      <td>184</td>\n",
       "      <td>372.0</td>\n",
       "      <td>71.0</td>\n",
       "      <td>3310.0</td>\n",
       "      <td>526.0</td>\n",
       "      <td>6235410</td>\n",
       "      <td>0.0</td>\n",
       "      <td>...</td>\n",
       "      <td>0.0</td>\n",
       "      <td>161.428574</td>\n",
       "      <td>83.500214</td>\n",
       "      <td>220.857147</td>\n",
       "      <td>84.32251</td>\n",
       "      <td>248.523804</td>\n",
       "      <td>79.266396</td>\n",
       "      <td>4</td>\n",
       "      <td>2</td>\n",
       "      <td>3</td>\n",
       "    </tr>\n",
       "    <tr>\n",
       "      <th>2020-04-03</th>\n",
       "      <th>East of England</th>\n",
       "      <td>162.0</td>\n",
       "      <td>1776</td>\n",
       "      <td>914.0</td>\n",
       "      <td>192</td>\n",
       "      <td>350.0</td>\n",
       "      <td>85.0</td>\n",
       "      <td>3660.0</td>\n",
       "      <td>611.0</td>\n",
       "      <td>6235410</td>\n",
       "      <td>0.0</td>\n",
       "      <td>...</td>\n",
       "      <td>0.0</td>\n",
       "      <td>161.428574</td>\n",
       "      <td>83.500214</td>\n",
       "      <td>220.857147</td>\n",
       "      <td>84.32251</td>\n",
       "      <td>248.523804</td>\n",
       "      <td>79.266396</td>\n",
       "      <td>4</td>\n",
       "      <td>3</td>\n",
       "      <td>4</td>\n",
       "    </tr>\n",
       "    <tr>\n",
       "      <th>2020-04-04</th>\n",
       "      <th>East of England</th>\n",
       "      <td>171.0</td>\n",
       "      <td>1939</td>\n",
       "      <td>988.0</td>\n",
       "      <td>163</td>\n",
       "      <td>268.0</td>\n",
       "      <td>70.0</td>\n",
       "      <td>3928.0</td>\n",
       "      <td>681.0</td>\n",
       "      <td>6235410</td>\n",
       "      <td>0.0</td>\n",
       "      <td>...</td>\n",
       "      <td>0.0</td>\n",
       "      <td>161.428574</td>\n",
       "      <td>83.500214</td>\n",
       "      <td>220.857147</td>\n",
       "      <td>84.32251</td>\n",
       "      <td>248.523804</td>\n",
       "      <td>79.266396</td>\n",
       "      <td>4</td>\n",
       "      <td>4</td>\n",
       "      <td>5</td>\n",
       "    </tr>\n",
       "    <tr>\n",
       "      <th>2020-04-05</th>\n",
       "      <th>East of England</th>\n",
       "      <td>219.0</td>\n",
       "      <td>2159</td>\n",
       "      <td>1230.0</td>\n",
       "      <td>220</td>\n",
       "      <td>281.0</td>\n",
       "      <td>91.0</td>\n",
       "      <td>4209.0</td>\n",
       "      <td>772.0</td>\n",
       "      <td>6235410</td>\n",
       "      <td>119.0</td>\n",
       "      <td>...</td>\n",
       "      <td>0.0</td>\n",
       "      <td>161.428574</td>\n",
       "      <td>83.500214</td>\n",
       "      <td>220.857147</td>\n",
       "      <td>84.32251</td>\n",
       "      <td>248.523804</td>\n",
       "      <td>79.266396</td>\n",
       "      <td>4</td>\n",
       "      <td>5</td>\n",
       "      <td>6</td>\n",
       "    </tr>\n",
       "  </tbody>\n",
       "</table>\n",
       "<p>5 rows × 23 columns</p>\n",
       "</div>"
      ],
      "text/plain": [
       "                            covidOccupiedMVBeds  cumAdmissions  hospitalCases  \\\n",
       "date       areaName                                                             \n",
       "2020-04-01 East of England                  0.0           1400          833.0   \n",
       "2020-04-02 East of England                119.0           1584          841.0   \n",
       "2020-04-03 East of England                162.0           1776          914.0   \n",
       "2020-04-04 East of England                171.0           1939          988.0   \n",
       "2020-04-05 East of England                219.0           2159         1230.0   \n",
       "\n",
       "                            newAdmissions  new_confirmed  new_deceased  \\\n",
       "date       areaName                                                      \n",
       "2020-04-01 East of England            167          334.0          75.0   \n",
       "2020-04-02 East of England            184          372.0          71.0   \n",
       "2020-04-03 East of England            192          350.0          85.0   \n",
       "2020-04-04 East of England            163          268.0          70.0   \n",
       "2020-04-05 East of England            220          281.0          91.0   \n",
       "\n",
       "                            cumulative_confirmed  cumulative_deceased  \\\n",
       "date       areaName                                                     \n",
       "2020-04-01 East of England                2938.0                455.0   \n",
       "2020-04-02 East of England                3310.0                526.0   \n",
       "2020-04-03 East of England                3660.0                611.0   \n",
       "2020-04-04 East of England                3928.0                681.0   \n",
       "2020-04-05 East of England                4209.0                772.0   \n",
       "\n",
       "                            population  covidOccupiedMVBeds_lag_3  ...  \\\n",
       "date       areaName                                                ...   \n",
       "2020-04-01 East of England     6235410                        0.0  ...   \n",
       "2020-04-02 East of England     6235410                        0.0  ...   \n",
       "2020-04-03 East of England     6235410                        0.0  ...   \n",
       "2020-04-04 East of England     6235410                        0.0  ...   \n",
       "2020-04-05 East of England     6235410                      119.0  ...   \n",
       "\n",
       "                            covidOccupiedMVBeds_lag_28  \\\n",
       "date       areaName                                      \n",
       "2020-04-01 East of England                         0.0   \n",
       "2020-04-02 East of England                         0.0   \n",
       "2020-04-03 East of England                         0.0   \n",
       "2020-04-04 East of England                         0.0   \n",
       "2020-04-05 East of England                         0.0   \n",
       "\n",
       "                            covidOccupiedMVBeds_rolling_7_mean  \\\n",
       "date       areaName                                              \n",
       "2020-04-01 East of England                          161.428574   \n",
       "2020-04-02 East of England                          161.428574   \n",
       "2020-04-03 East of England                          161.428574   \n",
       "2020-04-04 East of England                          161.428574   \n",
       "2020-04-05 East of England                          161.428574   \n",
       "\n",
       "                            covidOccupiedMVBeds_rolling_7_std  \\\n",
       "date       areaName                                             \n",
       "2020-04-01 East of England                          83.500214   \n",
       "2020-04-02 East of England                          83.500214   \n",
       "2020-04-03 East of England                          83.500214   \n",
       "2020-04-04 East of England                          83.500214   \n",
       "2020-04-05 East of England                          83.500214   \n",
       "\n",
       "                            covidOccupiedMVBeds_rolling_14_mean  \\\n",
       "date       areaName                                               \n",
       "2020-04-01 East of England                           220.857147   \n",
       "2020-04-02 East of England                           220.857147   \n",
       "2020-04-03 East of England                           220.857147   \n",
       "2020-04-04 East of England                           220.857147   \n",
       "2020-04-05 East of England                           220.857147   \n",
       "\n",
       "                            covidOccupiedMVBeds_rolling_14_std  \\\n",
       "date       areaName                                              \n",
       "2020-04-01 East of England                            84.32251   \n",
       "2020-04-02 East of England                            84.32251   \n",
       "2020-04-03 East of England                            84.32251   \n",
       "2020-04-04 East of England                            84.32251   \n",
       "2020-04-05 East of England                            84.32251   \n",
       "\n",
       "                            covidOccupiedMVBeds_rolling_21_mean  \\\n",
       "date       areaName                                               \n",
       "2020-04-01 East of England                           248.523804   \n",
       "2020-04-02 East of England                           248.523804   \n",
       "2020-04-03 East of England                           248.523804   \n",
       "2020-04-04 East of England                           248.523804   \n",
       "2020-04-05 East of England                           248.523804   \n",
       "\n",
       "                            covidOccupiedMVBeds_rolling_21_std  month  day  \\\n",
       "date       areaName                                                          \n",
       "2020-04-01 East of England                           79.266396      4    1   \n",
       "2020-04-02 East of England                           79.266396      4    2   \n",
       "2020-04-03 East of England                           79.266396      4    3   \n",
       "2020-04-04 East of England                           79.266396      4    4   \n",
       "2020-04-05 East of England                           79.266396      4    5   \n",
       "\n",
       "                            day_of_week  \n",
       "date       areaName                      \n",
       "2020-04-01 East of England            2  \n",
       "2020-04-02 East of England            3  \n",
       "2020-04-03 East of England            4  \n",
       "2020-04-04 East of England            5  \n",
       "2020-04-05 East of England            6  \n",
       "\n",
       "[5 rows x 23 columns]"
      ]
     },
     "execution_count": 35,
     "metadata": {},
     "output_type": "execute_result"
    }
   ],
   "source": [
    "pred_df = pd.concat([sample_train_df, sample_val], axis=0)\n",
    "pred_df.head()"
   ]
  },
  {
   "cell_type": "code",
   "execution_count": 36,
   "metadata": {},
   "outputs": [],
   "source": [
    "# split the sample_train_df into train and val based on date\n",
    "sample_val_df = sample_train_df[sample_train_df.index.get_level_values(\"date\") >= \"2021-09-01\"]\n",
    "sample_train_df = sample_train_df[sample_train_df.index.get_level_values(\"date\") < \"2021-09-01\"]\n",
    "\n",
    "sample_test_df = sample_val.copy()"
   ]
  },
  {
   "cell_type": "code",
   "execution_count": 37,
   "metadata": {},
   "outputs": [
    {
     "data": {
      "text/html": [
       "<div>\n",
       "<style scoped>\n",
       "    .dataframe tbody tr th:only-of-type {\n",
       "        vertical-align: middle;\n",
       "    }\n",
       "\n",
       "    .dataframe tbody tr th {\n",
       "        vertical-align: top;\n",
       "    }\n",
       "\n",
       "    .dataframe thead th {\n",
       "        text-align: right;\n",
       "    }\n",
       "</style>\n",
       "<table border=\"1\" class=\"dataframe\">\n",
       "  <thead>\n",
       "    <tr style=\"text-align: right;\">\n",
       "      <th></th>\n",
       "      <th></th>\n",
       "      <th>covidOccupiedMVBeds</th>\n",
       "      <th>type</th>\n",
       "    </tr>\n",
       "    <tr>\n",
       "      <th>date</th>\n",
       "      <th>areaName</th>\n",
       "      <th></th>\n",
       "      <th></th>\n",
       "    </tr>\n",
       "  </thead>\n",
       "  <tbody>\n",
       "    <tr>\n",
       "      <th>2020-04-01</th>\n",
       "      <th>East of England</th>\n",
       "      <td>0.0</td>\n",
       "      <td>train</td>\n",
       "    </tr>\n",
       "    <tr>\n",
       "      <th>2020-04-02</th>\n",
       "      <th>East of England</th>\n",
       "      <td>119.0</td>\n",
       "      <td>train</td>\n",
       "    </tr>\n",
       "    <tr>\n",
       "      <th>2020-04-03</th>\n",
       "      <th>East of England</th>\n",
       "      <td>162.0</td>\n",
       "      <td>train</td>\n",
       "    </tr>\n",
       "    <tr>\n",
       "      <th>2020-04-04</th>\n",
       "      <th>East of England</th>\n",
       "      <td>171.0</td>\n",
       "      <td>train</td>\n",
       "    </tr>\n",
       "    <tr>\n",
       "      <th>2020-04-05</th>\n",
       "      <th>East of England</th>\n",
       "      <td>219.0</td>\n",
       "      <td>train</td>\n",
       "    </tr>\n",
       "  </tbody>\n",
       "</table>\n",
       "</div>"
      ],
      "text/plain": [
       "                            covidOccupiedMVBeds   type\n",
       "date       areaName                                   \n",
       "2020-04-01 East of England                  0.0  train\n",
       "2020-04-02 East of England                119.0  train\n",
       "2020-04-03 East of England                162.0  train\n",
       "2020-04-04 East of England                171.0  train\n",
       "2020-04-05 East of England                219.0  train"
      ]
     },
     "execution_count": 37,
     "metadata": {},
     "output_type": "execute_result"
    }
   ],
   "source": [
    "sample_train_df['type'] = 'train'\n",
    "sample_val_df['type'] = 'val'\n",
    "sample_test_df['type'] = 'test'\n",
    "\n",
    "sample_df = pd.concat([sample_train_df[[target, 'type']], sample_val_df[[target, 'type']], sample_test_df[[target, 'type']]], axis=0)\n",
    "sample_df.head()"
   ]
  },
  {
   "cell_type": "code",
   "execution_count": 38,
   "metadata": {},
   "outputs": [],
   "source": [
    "# Missing_Value_Config = MissingValueConfig(\n",
    "#     bfill_columns=[\n",
    "#         \"covidOccupiedMVBeds_lag_1\",\n",
    "#         \"covidOccupiedMVBeds_lag_3\",\n",
    "#         \"covidOccupiedMVBeds_lag_7\",\n",
    "#         \"covidOccupiedMVBeds_lag_14\",\n",
    "#         \"covidOccupiedMVBeds_lag_21\",\n",
    "#         \"covidOccupiedMVBeds_lag_28\",\n",
    "#         \"covidOccupiedMVBeds_roll_7_mean\",\n",
    "#         \"covidOccupiedMVBeds_roll_7_std\",\n",
    "#         \"covidOccupiedMVBeds_roll_14_mean\",\n",
    "#         \"covidOccupiedMVBeds_roll_14_std\",\n",
    "#         \"covidOccupiedMVBeds_roll_21_mean\",\n",
    "#         \"covidOccupiedMVBeds_roll_21_std\",\n",
    "#         \"covidOccupiedMVBeds_ewma_7\",\n",
    "#         \"covidOccupiedMVBeds_ewma_14\",\n",
    "#         \"covidOccupiedMVBeds_ewma_21\",\n",
    "#         \"Vax_index\",\n",
    "\n",
    "#     ],\n",
    "#     ffill_columns=[],\n",
    "#     zero_fill_columns=[],\n",
    "# )"
   ]
  },
  {
   "cell_type": "code",
   "execution_count": 39,
   "metadata": {},
   "outputs": [],
   "source": [
    "from sklearn.pipeline import make_pipeline\n",
    "from sklearn.preprocessing import StandardScaler, OneHotEncoder\n",
    "from sklearn.model_selection import train_test_split\n",
    "from sklearn import metrics, linear_model, tree, discriminant_analysis,\\\n",
    "                    ensemble, neural_network, inspection\n",
    "import matplotlib.pyplot as plt\n",
    "from pdpbox import pdp\n",
    "from pycebox.ice import ice, ice_plot"
   ]
  },
  {
   "cell_type": "code",
   "execution_count": 40,
   "metadata": {},
   "outputs": [],
   "source": [
    "area = \"East of England\"\n",
    "train = pd.read_pickle(f\"data/processed/{area}_train.pkl\")\n",
    "val = pd.read_pickle(f\"data/processed/{area}_val.pkl\")\n",
    "test = pd.read_pickle(f\"data/processed/{area}_test.pkl\")"
   ]
  },
  {
   "cell_type": "code",
   "execution_count": 41,
   "metadata": {},
   "outputs": [],
   "source": [
    "# train = train.drop(columns=[\"areaName\", \"population\", 'date'])\n",
    "# test = test.drop(columns=[\"areaName\", \"population\", 'date'])\n",
    "# val = val.drop(columns=[\"areaName\", \"population\", 'date'])"
   ]
  },
  {
   "cell_type": "code",
   "execution_count": 42,
   "metadata": {},
   "outputs": [
    {
     "data": {
      "text/plain": [
       "(671, 25)"
      ]
     },
     "execution_count": 42,
     "metadata": {},
     "output_type": "execute_result"
    }
   ],
   "source": [
    "train.shape"
   ]
  },
  {
   "cell_type": "code",
   "execution_count": 43,
   "metadata": {},
   "outputs": [
    {
     "data": {
      "text/html": [
       "<div>\n",
       "<style scoped>\n",
       "    .dataframe tbody tr th:only-of-type {\n",
       "        vertical-align: middle;\n",
       "    }\n",
       "\n",
       "    .dataframe tbody tr th {\n",
       "        vertical-align: top;\n",
       "    }\n",
       "\n",
       "    .dataframe thead th {\n",
       "        text-align: right;\n",
       "    }\n",
       "</style>\n",
       "<table border=\"1\" class=\"dataframe\">\n",
       "  <thead>\n",
       "    <tr style=\"text-align: right;\">\n",
       "      <th></th>\n",
       "      <th>areaName</th>\n",
       "      <th>date</th>\n",
       "      <th>covidOccupiedMVBeds</th>\n",
       "      <th>cumAdmissions</th>\n",
       "      <th>hospitalCases</th>\n",
       "      <th>newAdmissions</th>\n",
       "      <th>new_confirmed</th>\n",
       "      <th>new_deceased</th>\n",
       "      <th>cumulative_confirmed</th>\n",
       "      <th>cumulative_deceased</th>\n",
       "      <th>...</th>\n",
       "      <th>covidOccupiedMVBeds_lag_28</th>\n",
       "      <th>covidOccupiedMVBeds_rolling_7_mean</th>\n",
       "      <th>covidOccupiedMVBeds_rolling_7_std</th>\n",
       "      <th>covidOccupiedMVBeds_rolling_14_mean</th>\n",
       "      <th>covidOccupiedMVBeds_rolling_14_std</th>\n",
       "      <th>covidOccupiedMVBeds_rolling_21_mean</th>\n",
       "      <th>covidOccupiedMVBeds_rolling_21_std</th>\n",
       "      <th>month</th>\n",
       "      <th>day</th>\n",
       "      <th>day_of_week</th>\n",
       "    </tr>\n",
       "  </thead>\n",
       "  <tbody>\n",
       "    <tr>\n",
       "      <th>894</th>\n",
       "      <td>East of England</td>\n",
       "      <td>2020-04-01</td>\n",
       "      <td>0.0</td>\n",
       "      <td>1400</td>\n",
       "      <td>833.0</td>\n",
       "      <td>167</td>\n",
       "      <td>334.0</td>\n",
       "      <td>75.0</td>\n",
       "      <td>2938.0</td>\n",
       "      <td>455.0</td>\n",
       "      <td>...</td>\n",
       "      <td>0.0</td>\n",
       "      <td>161.428574</td>\n",
       "      <td>83.500214</td>\n",
       "      <td>220.857147</td>\n",
       "      <td>84.32251</td>\n",
       "      <td>248.523804</td>\n",
       "      <td>79.266396</td>\n",
       "      <td>4</td>\n",
       "      <td>1</td>\n",
       "      <td>2</td>\n",
       "    </tr>\n",
       "    <tr>\n",
       "      <th>893</th>\n",
       "      <td>East of England</td>\n",
       "      <td>2020-04-02</td>\n",
       "      <td>119.0</td>\n",
       "      <td>1584</td>\n",
       "      <td>841.0</td>\n",
       "      <td>184</td>\n",
       "      <td>372.0</td>\n",
       "      <td>71.0</td>\n",
       "      <td>3310.0</td>\n",
       "      <td>526.0</td>\n",
       "      <td>...</td>\n",
       "      <td>0.0</td>\n",
       "      <td>161.428574</td>\n",
       "      <td>83.500214</td>\n",
       "      <td>220.857147</td>\n",
       "      <td>84.32251</td>\n",
       "      <td>248.523804</td>\n",
       "      <td>79.266396</td>\n",
       "      <td>4</td>\n",
       "      <td>2</td>\n",
       "      <td>3</td>\n",
       "    </tr>\n",
       "    <tr>\n",
       "      <th>892</th>\n",
       "      <td>East of England</td>\n",
       "      <td>2020-04-03</td>\n",
       "      <td>162.0</td>\n",
       "      <td>1776</td>\n",
       "      <td>914.0</td>\n",
       "      <td>192</td>\n",
       "      <td>350.0</td>\n",
       "      <td>85.0</td>\n",
       "      <td>3660.0</td>\n",
       "      <td>611.0</td>\n",
       "      <td>...</td>\n",
       "      <td>0.0</td>\n",
       "      <td>161.428574</td>\n",
       "      <td>83.500214</td>\n",
       "      <td>220.857147</td>\n",
       "      <td>84.32251</td>\n",
       "      <td>248.523804</td>\n",
       "      <td>79.266396</td>\n",
       "      <td>4</td>\n",
       "      <td>3</td>\n",
       "      <td>4</td>\n",
       "    </tr>\n",
       "    <tr>\n",
       "      <th>891</th>\n",
       "      <td>East of England</td>\n",
       "      <td>2020-04-04</td>\n",
       "      <td>171.0</td>\n",
       "      <td>1939</td>\n",
       "      <td>988.0</td>\n",
       "      <td>163</td>\n",
       "      <td>268.0</td>\n",
       "      <td>70.0</td>\n",
       "      <td>3928.0</td>\n",
       "      <td>681.0</td>\n",
       "      <td>...</td>\n",
       "      <td>0.0</td>\n",
       "      <td>161.428574</td>\n",
       "      <td>83.500214</td>\n",
       "      <td>220.857147</td>\n",
       "      <td>84.32251</td>\n",
       "      <td>248.523804</td>\n",
       "      <td>79.266396</td>\n",
       "      <td>4</td>\n",
       "      <td>4</td>\n",
       "      <td>5</td>\n",
       "    </tr>\n",
       "    <tr>\n",
       "      <th>890</th>\n",
       "      <td>East of England</td>\n",
       "      <td>2020-04-05</td>\n",
       "      <td>219.0</td>\n",
       "      <td>2159</td>\n",
       "      <td>1230.0</td>\n",
       "      <td>220</td>\n",
       "      <td>281.0</td>\n",
       "      <td>91.0</td>\n",
       "      <td>4209.0</td>\n",
       "      <td>772.0</td>\n",
       "      <td>...</td>\n",
       "      <td>0.0</td>\n",
       "      <td>161.428574</td>\n",
       "      <td>83.500214</td>\n",
       "      <td>220.857147</td>\n",
       "      <td>84.32251</td>\n",
       "      <td>248.523804</td>\n",
       "      <td>79.266396</td>\n",
       "      <td>4</td>\n",
       "      <td>5</td>\n",
       "      <td>6</td>\n",
       "    </tr>\n",
       "  </tbody>\n",
       "</table>\n",
       "<p>5 rows × 25 columns</p>\n",
       "</div>"
      ],
      "text/plain": [
       "            areaName       date  covidOccupiedMVBeds  cumAdmissions  \\\n",
       "894  East of England 2020-04-01                  0.0           1400   \n",
       "893  East of England 2020-04-02                119.0           1584   \n",
       "892  East of England 2020-04-03                162.0           1776   \n",
       "891  East of England 2020-04-04                171.0           1939   \n",
       "890  East of England 2020-04-05                219.0           2159   \n",
       "\n",
       "     hospitalCases  newAdmissions  new_confirmed  new_deceased  \\\n",
       "894          833.0            167          334.0          75.0   \n",
       "893          841.0            184          372.0          71.0   \n",
       "892          914.0            192          350.0          85.0   \n",
       "891          988.0            163          268.0          70.0   \n",
       "890         1230.0            220          281.0          91.0   \n",
       "\n",
       "     cumulative_confirmed  cumulative_deceased  ...  \\\n",
       "894                2938.0                455.0  ...   \n",
       "893                3310.0                526.0  ...   \n",
       "892                3660.0                611.0  ...   \n",
       "891                3928.0                681.0  ...   \n",
       "890                4209.0                772.0  ...   \n",
       "\n",
       "     covidOccupiedMVBeds_lag_28  covidOccupiedMVBeds_rolling_7_mean  \\\n",
       "894                         0.0                          161.428574   \n",
       "893                         0.0                          161.428574   \n",
       "892                         0.0                          161.428574   \n",
       "891                         0.0                          161.428574   \n",
       "890                         0.0                          161.428574   \n",
       "\n",
       "     covidOccupiedMVBeds_rolling_7_std  covidOccupiedMVBeds_rolling_14_mean  \\\n",
       "894                          83.500214                           220.857147   \n",
       "893                          83.500214                           220.857147   \n",
       "892                          83.500214                           220.857147   \n",
       "891                          83.500214                           220.857147   \n",
       "890                          83.500214                           220.857147   \n",
       "\n",
       "     covidOccupiedMVBeds_rolling_14_std  covidOccupiedMVBeds_rolling_21_mean  \\\n",
       "894                            84.32251                           248.523804   \n",
       "893                            84.32251                           248.523804   \n",
       "892                            84.32251                           248.523804   \n",
       "891                            84.32251                           248.523804   \n",
       "890                            84.32251                           248.523804   \n",
       "\n",
       "     covidOccupiedMVBeds_rolling_21_std  month  day  day_of_week  \n",
       "894                           79.266396      4    1            2  \n",
       "893                           79.266396      4    2            3  \n",
       "892                           79.266396      4    3            4  \n",
       "891                           79.266396      4    4            5  \n",
       "890                           79.266396      4    5            6  \n",
       "\n",
       "[5 rows x 25 columns]"
      ]
     },
     "execution_count": 43,
     "metadata": {},
     "output_type": "execute_result"
    }
   ],
   "source": [
    "train.head()"
   ]
  },
  {
   "cell_type": "code",
   "execution_count": 44,
   "metadata": {},
   "outputs": [],
   "source": [
    "from collections import namedtuple\n",
    "\n",
    "FeatureConfig = namedtuple(\n",
    "    \"FeatureConfig\",\n",
    "    [\n",
    "        \"target\",\n",
    "        \"index_cols\",\n",
    "        \"static_categoricals\",\n",
    "        \"static_reals\",\n",
    "        \"time_varying_known_categoricals\",\n",
    "        \"time_varying_known_reals\",\n",
    "        \"time_varying_unknown_reals\",\n",
    "        \"group_ids\"\n",
    "    ],\n",
    ")"
   ]
  },
  {
   "cell_type": "code",
   "execution_count": null,
   "metadata": {},
   "outputs": [],
   "source": []
  }
 ],
 "metadata": {
  "kernelspec": {
   "display_name": "modern_ts_2E",
   "language": "python",
   "name": "python3"
  },
  "language_info": {
   "codemirror_mode": {
    "name": "ipython",
    "version": 3
   },
   "file_extension": ".py",
   "mimetype": "text/x-python",
   "name": "python",
   "nbconvert_exporter": "python",
   "pygments_lexer": "ipython3",
   "version": "3.11.0"
  }
 },
 "nbformat": 4,
 "nbformat_minor": 2
}
