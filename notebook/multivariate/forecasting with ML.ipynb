{
 "cells": [
  {
   "cell_type": "code",
   "execution_count": 1,
   "metadata": {},
   "outputs": [
    {
     "name": "stdout",
     "output_type": "stream",
     "text": [
      "c:\\Users\\ajaoo\\Desktop\\Projects\\Multivate-forecasting\n"
     ]
    }
   ],
   "source": [
    "%cd ../.."
   ]
  },
  {
   "cell_type": "code",
   "execution_count": 42,
   "metadata": {},
   "outputs": [],
   "source": [
    "import os\n",
    "import time\n",
    "\n",
    "import numpy as np\n",
    "import pandas as pd\n",
    "import plotly.express as px\n",
    "import plotly.graph_objects as go\n",
    "import plotly.io as pio\n",
    "\n",
    "pio.templates.default = \"plotly_white\"\n",
    "\n",
    "import warnings\n",
    "from pathlib import Path\n",
    "from itertools import cycle\n",
    "import humanize\n",
    "from darts.metrics import mae, mase, mse\n",
    "from sklearn.preprocessing import StandardScaler\n",
    "from src.forecasting.ml_forecasting import (\n",
    "    FeatureConfig,\n",
    "    calculate_metrics,\n",
    ")\n",
    "from src.utils import plotting_utils\n",
    "from src.utils.general import LogTime\n",
    "from src.utils.ts_utils import darts_metrics_adapter, forecast_bias\n",
    "from tqdm.autonotebook import tqdm\n",
    "from IPython.display import display, HTML\n",
    "\n",
    "# %load_ext autoreload\n",
    "# %autoreload 2\n",
    "np.random.seed(42)\n",
    "tqdm.pandas()"
   ]
  },
  {
   "cell_type": "code",
   "execution_count": 3,
   "metadata": {},
   "outputs": [],
   "source": [
    "os.makedirs(\"reports/figures/ml_forecasting\", exist_ok=True)\n",
    "preprocessed_data_dir = Path(\"data/processed\")\n",
    "output = Path(\"reports/figures/ml_forecasting\")"
   ]
  },
  {
   "cell_type": "code",
   "execution_count": 4,
   "metadata": {},
   "outputs": [],
   "source": [
    "def format_plot(\n",
    "    fig, legends=None, xlabel=\"Time\", ylabel=\"Value\", title=\"\", font_size=15\n",
    "):\n",
    "    if legends:\n",
    "        names = cycle(legends)\n",
    "        fig.for_each_trace(lambda t: t.update(name=next(names)))\n",
    "    fig.update_layout(\n",
    "        autosize=False,\n",
    "        width=900,\n",
    "        height=500,\n",
    "        title_text=title,\n",
    "        title={\"x\": 0.5, \"xanchor\": \"center\", \"yanchor\": \"top\"},\n",
    "        titlefont={\"size\": 20},\n",
    "        legend_title=None,\n",
    "        legend=dict(\n",
    "            font=dict(size=font_size),\n",
    "            orientation=\"h\",\n",
    "            yanchor=\"bottom\",\n",
    "            y=0.98,\n",
    "            xanchor=\"right\",\n",
    "            x=1,\n",
    "        ),\n",
    "        yaxis=dict(\n",
    "            title_text=ylabel,\n",
    "            titlefont=dict(size=font_size),\n",
    "            tickfont=dict(size=font_size),\n",
    "        ),\n",
    "        xaxis=dict(\n",
    "            title_text=xlabel,\n",
    "            titlefont=dict(size=font_size),\n",
    "            tickfont=dict(size=font_size),\n",
    "        ),\n",
    "    )\n",
    "    return fig\n",
    "\n",
    "\n",
    "def mase(actual, predicted, insample_actual):\n",
    "    mae_insample = np.mean(np.abs(np.diff(insample_actual)))\n",
    "    mae_outsample = np.mean(np.abs(actual - predicted))\n",
    "    return mae_outsample / mae_insample\n",
    "\n",
    "\n",
    "def forecast_bias(actual, predicted):\n",
    "    return np.mean(predicted - actual)\n",
    "\n",
    "\n",
    "def plot_forecast(\n",
    "    pred_df, forecast_columns, forecast_display_names=None, save_path=None\n",
    "):\n",
    "    if forecast_display_names is None:\n",
    "        forecast_display_names = forecast_columns\n",
    "    else:\n",
    "        assert len(forecast_columns) == len(forecast_display_names)\n",
    "\n",
    "    mask = ~pred_df[forecast_columns[0]].isnull()\n",
    "    colors = px.colors.qualitative.Set2  # Using a different color palette\n",
    "    act_color = colors[0]\n",
    "    colors = cycle(colors[1:])\n",
    "\n",
    "    fig = go.Figure()\n",
    "\n",
    "    # Actual data plot\n",
    "    fig.add_trace(\n",
    "        go.Scatter(\n",
    "            x=pred_df[mask].index,\n",
    "            y=pred_df[mask].covidOccupiedMVBeds,\n",
    "            mode=\"lines\",\n",
    "            marker=dict(size=6, opacity=0.5),\n",
    "            line=dict(color=act_color, width=2),\n",
    "            name=\"Actual COVID-19 MVBeds trends\",\n",
    "        )\n",
    "    )\n",
    "\n",
    "    # Predicted data plot\n",
    "    for col, display_col in zip(forecast_columns, forecast_display_names):\n",
    "        fig.add_trace(\n",
    "            go.Scatter(\n",
    "                x=pred_df[mask].index,\n",
    "                y=pred_df.loc[mask, col],\n",
    "                mode=\"lines+markers\",\n",
    "                marker=dict(size=4),\n",
    "                line=dict(color=next(colors), width=2),\n",
    "                name=display_col,\n",
    "            )\n",
    "        )\n",
    "\n",
    "    return fig\n",
    "\n",
    "\n",
    "def highlight_abs_min(s, props=\"\"):\n",
    "    return np.where(s == np.nanmin(np.abs(s.values)), props, \"\")"
   ]
  },
  {
   "cell_type": "code",
   "execution_count": 5,
   "metadata": {},
   "outputs": [
    {
     "data": {
      "text/html": [
       "<div>\n",
       "<style scoped>\n",
       "    .dataframe tbody tr th:only-of-type {\n",
       "        vertical-align: middle;\n",
       "    }\n",
       "\n",
       "    .dataframe tbody tr th {\n",
       "        vertical-align: top;\n",
       "    }\n",
       "\n",
       "    .dataframe thead th {\n",
       "        text-align: right;\n",
       "    }\n",
       "</style>\n",
       "<table border=\"1\" class=\"dataframe\">\n",
       "  <thead>\n",
       "    <tr style=\"text-align: right;\">\n",
       "      <th></th>\n",
       "      <th>areaCode</th>\n",
       "      <th>areaName</th>\n",
       "      <th>date</th>\n",
       "      <th>covidOccupiedMVBeds</th>\n",
       "      <th>cumAdmissions</th>\n",
       "      <th>hospitalCases</th>\n",
       "      <th>newAdmissions</th>\n",
       "      <th>new_confirmed</th>\n",
       "      <th>new_deceased</th>\n",
       "      <th>cumulative_confirmed</th>\n",
       "      <th>cumulative_deceased</th>\n",
       "      <th>population</th>\n",
       "      <th>latitude</th>\n",
       "      <th>longitude</th>\n",
       "      <th>epi_week</th>\n",
       "    </tr>\n",
       "  </thead>\n",
       "  <tbody>\n",
       "    <tr>\n",
       "      <th>0</th>\n",
       "      <td>E40000007</td>\n",
       "      <td>East of England</td>\n",
       "      <td>2022-09-12</td>\n",
       "      <td>9.0</td>\n",
       "      <td>84162</td>\n",
       "      <td>418.0</td>\n",
       "      <td>47</td>\n",
       "      <td>505.0</td>\n",
       "      <td>2.0</td>\n",
       "      <td>2177579.0</td>\n",
       "      <td>19129.0</td>\n",
       "      <td>6235410</td>\n",
       "      <td>52.24</td>\n",
       "      <td>0.41</td>\n",
       "      <td>202237</td>\n",
       "    </tr>\n",
       "    <tr>\n",
       "      <th>1</th>\n",
       "      <td>E40000007</td>\n",
       "      <td>East of England</td>\n",
       "      <td>2022-09-11</td>\n",
       "      <td>8.0</td>\n",
       "      <td>84115</td>\n",
       "      <td>421.0</td>\n",
       "      <td>46</td>\n",
       "      <td>429.0</td>\n",
       "      <td>3.0</td>\n",
       "      <td>2177074.0</td>\n",
       "      <td>19127.0</td>\n",
       "      <td>6235410</td>\n",
       "      <td>52.24</td>\n",
       "      <td>0.41</td>\n",
       "      <td>202237</td>\n",
       "    </tr>\n",
       "    <tr>\n",
       "      <th>2</th>\n",
       "      <td>E40000007</td>\n",
       "      <td>East of England</td>\n",
       "      <td>2022-09-10</td>\n",
       "      <td>8.0</td>\n",
       "      <td>84069</td>\n",
       "      <td>419.0</td>\n",
       "      <td>34</td>\n",
       "      <td>296.0</td>\n",
       "      <td>0.0</td>\n",
       "      <td>2176645.0</td>\n",
       "      <td>19124.0</td>\n",
       "      <td>6235410</td>\n",
       "      <td>52.24</td>\n",
       "      <td>0.41</td>\n",
       "      <td>202236</td>\n",
       "    </tr>\n",
       "    <tr>\n",
       "      <th>3</th>\n",
       "      <td>E40000007</td>\n",
       "      <td>East of England</td>\n",
       "      <td>2022-09-09</td>\n",
       "      <td>9.0</td>\n",
       "      <td>84035</td>\n",
       "      <td>411.0</td>\n",
       "      <td>34</td>\n",
       "      <td>308.0</td>\n",
       "      <td>2.0</td>\n",
       "      <td>2176349.0</td>\n",
       "      <td>19124.0</td>\n",
       "      <td>6235410</td>\n",
       "      <td>52.24</td>\n",
       "      <td>0.41</td>\n",
       "      <td>202236</td>\n",
       "    </tr>\n",
       "    <tr>\n",
       "      <th>4</th>\n",
       "      <td>E40000007</td>\n",
       "      <td>East of England</td>\n",
       "      <td>2022-09-08</td>\n",
       "      <td>9.0</td>\n",
       "      <td>84001</td>\n",
       "      <td>421.0</td>\n",
       "      <td>51</td>\n",
       "      <td>335.0</td>\n",
       "      <td>3.0</td>\n",
       "      <td>2176041.0</td>\n",
       "      <td>19122.0</td>\n",
       "      <td>6235410</td>\n",
       "      <td>52.24</td>\n",
       "      <td>0.41</td>\n",
       "      <td>202236</td>\n",
       "    </tr>\n",
       "  </tbody>\n",
       "</table>\n",
       "</div>"
      ],
      "text/plain": [
       "    areaCode         areaName       date  covidOccupiedMVBeds  cumAdmissions  \\\n",
       "0  E40000007  East of England 2022-09-12                  9.0          84162   \n",
       "1  E40000007  East of England 2022-09-11                  8.0          84115   \n",
       "2  E40000007  East of England 2022-09-10                  8.0          84069   \n",
       "3  E40000007  East of England 2022-09-09                  9.0          84035   \n",
       "4  E40000007  East of England 2022-09-08                  9.0          84001   \n",
       "\n",
       "   hospitalCases  newAdmissions  new_confirmed  new_deceased  \\\n",
       "0          418.0             47          505.0           2.0   \n",
       "1          421.0             46          429.0           3.0   \n",
       "2          419.0             34          296.0           0.0   \n",
       "3          411.0             34          308.0           2.0   \n",
       "4          421.0             51          335.0           3.0   \n",
       "\n",
       "   cumulative_confirmed  cumulative_deceased  population  latitude  longitude  \\\n",
       "0             2177579.0              19129.0     6235410     52.24       0.41   \n",
       "1             2177074.0              19127.0     6235410     52.24       0.41   \n",
       "2             2176645.0              19124.0     6235410     52.24       0.41   \n",
       "3             2176349.0              19124.0     6235410     52.24       0.41   \n",
       "4             2176041.0              19122.0     6235410     52.24       0.41   \n",
       "\n",
       "   epi_week  \n",
       "0    202237  \n",
       "1    202237  \n",
       "2    202236  \n",
       "3    202236  \n",
       "4    202236  "
      ]
     },
     "execution_count": 5,
     "metadata": {},
     "output_type": "execute_result"
    }
   ],
   "source": [
    "data = pd.read_csv(preprocessed_data_dir / \"merged_nhs_covid_data.csv\", parse_dates=[\"date\"])\n",
    "data = data.drop(columns=[\"Unnamed: 0\"])\n",
    "data.head()"
   ]
  },
  {
   "cell_type": "code",
   "execution_count": 6,
   "metadata": {},
   "outputs": [
    {
     "data": {
      "text/plain": [
       "7"
      ]
     },
     "execution_count": 6,
     "metadata": {},
     "output_type": "execute_result"
    }
   ],
   "source": [
    "len(data.areaName.unique())"
   ]
  },
  {
   "cell_type": "code",
   "execution_count": 7,
   "metadata": {},
   "outputs": [
    {
     "name": "stdout",
     "output_type": "stream",
     "text": [
      "<class 'pandas.core.frame.DataFrame'>\n",
      "RangeIndex: 8054 entries, 0 to 8053\n",
      "Data columns (total 15 columns):\n",
      " #   Column                Non-Null Count  Dtype         \n",
      "---  ------                --------------  -----         \n",
      " 0   areaCode              8054 non-null   object        \n",
      " 1   areaName              8054 non-null   object        \n",
      " 2   date                  8054 non-null   datetime64[ns]\n",
      " 3   covidOccupiedMVBeds   8054 non-null   float64       \n",
      " 4   cumAdmissions         8054 non-null   int64         \n",
      " 5   hospitalCases         8054 non-null   float64       \n",
      " 6   newAdmissions         8054 non-null   int64         \n",
      " 7   new_confirmed         8054 non-null   float64       \n",
      " 8   new_deceased          8054 non-null   float64       \n",
      " 9   cumulative_confirmed  8054 non-null   float64       \n",
      " 10  cumulative_deceased   8054 non-null   float64       \n",
      " 11  population            8054 non-null   int64         \n",
      " 12  latitude              8054 non-null   float64       \n",
      " 13  longitude             8054 non-null   float64       \n",
      " 14  epi_week              8054 non-null   int64         \n",
      "dtypes: datetime64[ns](1), float64(8), int64(4), object(2)\n",
      "memory usage: 944.0+ KB\n"
     ]
    }
   ],
   "source": [
    "data.info()"
   ]
  },
  {
   "cell_type": "code",
   "execution_count": 8,
   "metadata": {},
   "outputs": [
    {
     "data": {
      "text/html": [
       "<div>\n",
       "<style scoped>\n",
       "    .dataframe tbody tr th:only-of-type {\n",
       "        vertical-align: middle;\n",
       "    }\n",
       "\n",
       "    .dataframe tbody tr th {\n",
       "        vertical-align: top;\n",
       "    }\n",
       "\n",
       "    .dataframe thead th {\n",
       "        text-align: right;\n",
       "    }\n",
       "</style>\n",
       "<table border=\"1\" class=\"dataframe\">\n",
       "  <thead>\n",
       "    <tr style=\"text-align: right;\">\n",
       "      <th></th>\n",
       "      <th>areaName</th>\n",
       "      <th>date</th>\n",
       "      <th>covidOccupiedMVBeds</th>\n",
       "      <th>cumAdmissions</th>\n",
       "      <th>hospitalCases</th>\n",
       "      <th>newAdmissions</th>\n",
       "      <th>new_confirmed</th>\n",
       "      <th>new_deceased</th>\n",
       "      <th>cumulative_confirmed</th>\n",
       "      <th>cumulative_deceased</th>\n",
       "    </tr>\n",
       "  </thead>\n",
       "  <tbody>\n",
       "    <tr>\n",
       "      <th>894</th>\n",
       "      <td>East of England</td>\n",
       "      <td>2020-04-01</td>\n",
       "      <td>0.0</td>\n",
       "      <td>1400</td>\n",
       "      <td>833.0</td>\n",
       "      <td>167</td>\n",
       "      <td>334.0</td>\n",
       "      <td>75.0</td>\n",
       "      <td>2938.0</td>\n",
       "      <td>455.0</td>\n",
       "    </tr>\n",
       "    <tr>\n",
       "      <th>893</th>\n",
       "      <td>East of England</td>\n",
       "      <td>2020-04-02</td>\n",
       "      <td>119.0</td>\n",
       "      <td>1584</td>\n",
       "      <td>841.0</td>\n",
       "      <td>184</td>\n",
       "      <td>372.0</td>\n",
       "      <td>71.0</td>\n",
       "      <td>3310.0</td>\n",
       "      <td>526.0</td>\n",
       "    </tr>\n",
       "    <tr>\n",
       "      <th>892</th>\n",
       "      <td>East of England</td>\n",
       "      <td>2020-04-03</td>\n",
       "      <td>162.0</td>\n",
       "      <td>1776</td>\n",
       "      <td>914.0</td>\n",
       "      <td>192</td>\n",
       "      <td>350.0</td>\n",
       "      <td>85.0</td>\n",
       "      <td>3660.0</td>\n",
       "      <td>611.0</td>\n",
       "    </tr>\n",
       "    <tr>\n",
       "      <th>891</th>\n",
       "      <td>East of England</td>\n",
       "      <td>2020-04-04</td>\n",
       "      <td>171.0</td>\n",
       "      <td>1939</td>\n",
       "      <td>988.0</td>\n",
       "      <td>163</td>\n",
       "      <td>268.0</td>\n",
       "      <td>70.0</td>\n",
       "      <td>3928.0</td>\n",
       "      <td>681.0</td>\n",
       "    </tr>\n",
       "    <tr>\n",
       "      <th>890</th>\n",
       "      <td>East of England</td>\n",
       "      <td>2020-04-05</td>\n",
       "      <td>219.0</td>\n",
       "      <td>2159</td>\n",
       "      <td>1230.0</td>\n",
       "      <td>220</td>\n",
       "      <td>281.0</td>\n",
       "      <td>91.0</td>\n",
       "      <td>4209.0</td>\n",
       "      <td>772.0</td>\n",
       "    </tr>\n",
       "  </tbody>\n",
       "</table>\n",
       "</div>"
      ],
      "text/plain": [
       "            areaName       date  covidOccupiedMVBeds  cumAdmissions  \\\n",
       "894  East of England 2020-04-01                  0.0           1400   \n",
       "893  East of England 2020-04-02                119.0           1584   \n",
       "892  East of England 2020-04-03                162.0           1776   \n",
       "891  East of England 2020-04-04                171.0           1939   \n",
       "890  East of England 2020-04-05                219.0           2159   \n",
       "\n",
       "     hospitalCases  newAdmissions  new_confirmed  new_deceased  \\\n",
       "894          833.0            167          334.0          75.0   \n",
       "893          841.0            184          372.0          71.0   \n",
       "892          914.0            192          350.0          85.0   \n",
       "891          988.0            163          268.0          70.0   \n",
       "890         1230.0            220          281.0          91.0   \n",
       "\n",
       "     cumulative_confirmed  cumulative_deceased  \n",
       "894                2938.0                455.0  \n",
       "893                3310.0                526.0  \n",
       "892                3660.0                611.0  \n",
       "891                3928.0                681.0  \n",
       "890                4209.0                772.0  "
      ]
     },
     "execution_count": 8,
     "metadata": {},
     "output_type": "execute_result"
    }
   ],
   "source": [
    "data = data.sort_values([\"areaName\", \"date\"])\n",
    "data = data.drop(columns=[\"areaCode\", \"latitude\", \"longitude\", \"population\", \"epi_week\"])\n",
    "data.head()"
   ]
  },
  {
   "cell_type": "code",
   "execution_count": 9,
   "metadata": {},
   "outputs": [],
   "source": [
    "# # select a single areaName\n",
    "# area = \"East of England\"\n",
    "# data = data[data.areaName == area]\n",
    "# data = data.drop(columns=[\"areaName\", \"areaCode\", \"latitude\", \"longitude\", \"population\", \"epi_week\"])\n",
    "# data.head()"
   ]
  },
  {
   "cell_type": "code",
   "execution_count": 10,
   "metadata": {},
   "outputs": [],
   "source": [
    "# from src.transforms.target_transformations import AutoStationaryTransformer\n",
    "# # Autostatianry \n",
    "# transfomer_pipeline = {}\n",
    "# for _id in tqdm(data[\"areaName\"].unique()):\n",
    "    \n",
    "#     auto_stationary = AutoStationaryTransformer(seasonal_period=7)\n",
    "#     y = data[data[\"areaName\"] == _id][\"date\",\"covidOccupiedMVBeds\"].set_index(\"date\")\n",
    "    \n",
    "#     y_stat = auto_stationary.fit_transform(y, freq=\"D\") \n",
    "    \n",
    "#     data"
   ]
  },
  {
   "cell_type": "code",
   "execution_count": 11,
   "metadata": {},
   "outputs": [
    {
     "name": "stdout",
     "output_type": "stream",
     "text": [
      "Time Elapsed: 0 microseconds\n",
      "Features Created: covidOccupiedMVBeds_lag_1,covidOccupiedMVBeds_lag_3,covidOccupiedMVBeds_lag_7,covidOccupiedMVBeds_lag_14,covidOccupiedMVBeds_lag_21,covidOccupiedMVBeds_lag_28\n"
     ]
    }
   ],
   "source": [
    "from src.feature_engineering.autoregressive_features import add_lags\n",
    "\n",
    "lags = [1, 3, 7, 14, 21, 28]\n",
    "\n",
    "with LogTime():\n",
    "    data, added_features = add_lags(\n",
    "        data, lags=lags, column=\"covidOccupiedMVBeds\", ts_id=\"areaName\", use_32_bit=True\n",
    "    )\n",
    "print(f\"Features Created: {','.join(added_features)}\")"
   ]
  },
  {
   "cell_type": "code",
   "execution_count": 12,
   "metadata": {},
   "outputs": [],
   "source": [
    "# class LogTime:\n",
    "#     from time import time\n",
    "\n",
    "#     def __enter__(self):\n",
    "#         self.start_time = self.time()\n",
    "#         print(\"Starting operation...\")\n",
    "\n",
    "#     def __exit__(self, type, value, traceback):\n",
    "#         elapsed_time = self.time() - self.start_time\n",
    "#         print(f\"Operation completed in {elapsed_time} seconds.\")\n",
    "\n",
    "\n",
    "# def add_lags(df, lags, column):\n",
    "#     added_features = []\n",
    "#     for lag in lags:\n",
    "#         lag_col_name = f\"{column}_lag_{lag}\"\n",
    "#         df[lag_col_name] = df[column].shift(lag)\n",
    "#         added_features.append(lag_col_name)\n",
    "#     # Drop rows with NaN values\n",
    "#     df.dropna(inplace=True)\n",
    "#     return df, added_features\n",
    "\n",
    "\n",
    "# lags = [1, 7, 14]\n",
    "\n",
    "# data_with_lags, added_features = add_lags(data, lags, \"covidOccupiedMVBeds\")"
   ]
  },
  {
   "cell_type": "code",
   "execution_count": 13,
   "metadata": {},
   "outputs": [],
   "source": [
    "# data = data_with_lags.copy()"
   ]
  },
  {
   "cell_type": "markdown",
   "metadata": {},
   "source": [
    "## Rolling"
   ]
  },
  {
   "cell_type": "code",
   "execution_count": 14,
   "metadata": {},
   "outputs": [
    {
     "name": "stdout",
     "output_type": "stream",
     "text": [
      "Time Elapsed: 0 microseconds\n",
      "Features Created: covidOccupiedMVBeds_rolling_7_mean,covidOccupiedMVBeds_rolling_7_std,covidOccupiedMVBeds_rolling_14_mean,covidOccupiedMVBeds_rolling_14_std,covidOccupiedMVBeds_rolling_21_mean,covidOccupiedMVBeds_rolling_21_std\n"
     ]
    }
   ],
   "source": [
    "from src.feature_engineering.autoregressive_features import add_rolling_features\n",
    "\n",
    "with LogTime():\n",
    "    data, added_features = add_rolling_features(\n",
    "        data,\n",
    "        rolls=[7, 14, 21],\n",
    "        column=\"covidOccupiedMVBeds\",\n",
    "        agg_funcs=[\"mean\", \"std\"],\n",
    "        ts_id=\"areaName\",\n",
    "        use_32_bit=True,\n",
    "    )\n",
    "print(f\"Features Created: {','.join(added_features)}\")"
   ]
  },
  {
   "cell_type": "code",
   "execution_count": 15,
   "metadata": {},
   "outputs": [
    {
     "name": "stdout",
     "output_type": "stream",
     "text": [
      "Time Elapsed: 0 microseconds\n",
      "Features Created: covidOccupiedMVBeds_ewma_span_7,covidOccupiedMVBeds_ewma_span_14,covidOccupiedMVBeds_ewma_span_21\n"
     ]
    }
   ],
   "source": [
    "from src.feature_engineering.autoregressive_features import add_ewma\n",
    "\n",
    "with LogTime():\n",
    "    data, added_features = add_ewma(\n",
    "        data,\n",
    "        spans=[7, 14, 21],\n",
    "        column=\"covidOccupiedMVBeds\",\n",
    "        ts_id=\"areaName\",\n",
    "        use_32_bit=True,\n",
    "    )\n",
    "print(f\"Features Created: {','.join(added_features)}\")"
   ]
  },
  {
   "cell_type": "code",
   "execution_count": 16,
   "metadata": {},
   "outputs": [],
   "source": [
    "# from src.feature_engineering.temporal_features import add_temporal_features\n",
    "\n",
    "# with LogTime():\n",
    "#     data, added_features = add_temporal_features(\n",
    "#         data,\n",
    "#         field_name=\"date\",\n",
    "#         frequency=\"D\",\n",
    "#         add_elapsed=True,\n",
    "#         drop=False,\n",
    "#         use_32_bit=True,\n",
    "#     )\n",
    "# print(f\"Features Created: {','.join(added_features)}\")"
   ]
  },
  {
   "cell_type": "code",
   "execution_count": 17,
   "metadata": {},
   "outputs": [
    {
     "data": {
      "application/vnd.jupyter.widget-view+json": {
       "model_id": "6d1c3b13718e4eb9b31d98237c55c0d7",
       "version_major": 2,
       "version_minor": 0
      },
      "text/plain": [
       "  0%|          | 0/7 [00:00<?, ?it/s]"
      ]
     },
     "metadata": {},
     "output_type": "display_data"
    }
   ],
   "source": [
    "# Function to calculate the Vax index based on the given description and assumptions\n",
    "def calculate_vax_index(df):\n",
    "    # Constants for population and vaccination\n",
    "    total_population = 60_000_000\n",
    "    number_of_age_groups = 5\n",
    "    vaccine_efficacy_first_dose = [0.89, 0.427, 0.76, 0.854]\n",
    "    vaccine_efficacy_second_dose = [0.92, 0.86, 0.81, None]\n",
    "    age_group_probabilities_icu = [\n",
    "        0.01,\n",
    "        0.02,\n",
    "        0.05,\n",
    "        0.1,\n",
    "        0.15,\n",
    "    ]  # Hypothetical ICU need probabilities for different age groups\n",
    "    monthly_vaccination_rate_increase = 0.05\n",
    "    # Constants for Vaccination start date\n",
    "    vaccination_start_date = pd.Timestamp(\"2021-01-18\")\n",
    "\n",
    "    # Divide population into age groups\n",
    "    population_per_age_group = total_population / number_of_age_groups\n",
    "\n",
    "    # Initialize Vax index list\n",
    "    vax_index_list = []\n",
    "\n",
    "    # Monthly vaccination rate (starting from 0)\n",
    "    monthly_vaccination_rate = 0\n",
    "\n",
    "    # Calculate Vax index for each day\n",
    "    for index, row in df.iterrows():\n",
    "        # Initialize Si sum for all age groups\n",
    "        Si_sum = 0\n",
    "\n",
    "        # If after vaccination start date, increase monthly vaccination rate\n",
    "        if row[\"date\"].day == 1 and row[\"date\"] > vaccination_start_date:\n",
    "            monthly_vaccination_rate += monthly_vaccination_rate_increase\n",
    "\n",
    "        # Calculate Si and Vax index for each age group\n",
    "        for i in range(number_of_age_groups):\n",
    "            # Assume vaccination distribution across age groups (aij: two doses, bij: one dose, cij: no doses)\n",
    "            vaccinated_population = monthly_vaccination_rate * population_per_age_group\n",
    "            aij = vaccinated_population / 2\n",
    "            bij = vaccinated_population / 2\n",
    "            cij = population_per_age_group - aij - bij\n",
    "\n",
    "            # Calculate S''i based on vaccine efficacy and distribution\n",
    "            S_double_prime_i = sum(\n",
    "                wj * aij + vj * (bij - aij)\n",
    "                for wj, vj in zip(\n",
    "                    vaccine_efficacy_second_dose, vaccine_efficacy_first_dose\n",
    "                )\n",
    "                if wj is not None\n",
    "            )\n",
    "\n",
    "            # Calculate Si\n",
    "            Si = aij + bij + cij - S_double_prime_i\n",
    "\n",
    "            # Age-specific probability (pi)\n",
    "            pi = age_group_probabilities_icu[i]\n",
    "\n",
    "            # Sum Si for all age groups\n",
    "            Si_sum += pi * (aij + bij + cij - S_double_prime_i) / (aij + bij + cij)\n",
    "\n",
    "        # Calculate Vax index for the day\n",
    "        vax_index = Si_sum\n",
    "        vax_index_list.append(vax_index)\n",
    "\n",
    "    # Add Vax index to the dataframe\n",
    "    df[\"Vax_index\"] = vax_index_list\n",
    "    return df\n",
    "\n",
    "\n",
    "# Calculating Vax index for the each areaname in the data\n",
    "data = data.groupby(\"areaName\").progress_apply(calculate_vax_index)"
   ]
  },
  {
   "cell_type": "code",
   "execution_count": 18,
   "metadata": {},
   "outputs": [
    {
     "name": "stdout",
     "output_type": "stream",
     "text": [
      "Minimum Date: 2020-04-01 00:00:00\n",
      "Maximum Date: 2022-09-12 00:00:00\n",
      "# of Training samples: 6039 | # of Validation samples: 801 | # of Test samples: 1214\n",
      "Percentage of Dates in Train: 74.98% | Percentage of Dates in Validation: 9.95% | Percentage of Dates in Test: 15.07%\n",
      "Max Date in Train: 2022-01-31 00:00:00 | Min Date in Validation: 2022-02-01 00:00:00 | Min Date in Test: 2022-05-01 00:00:00\n"
     ]
    }
   ],
   "source": [
    "# the second wave of the pandemic, the initial data 4 months of 2021, the test data covers september to november 2021\n",
    "# data = data[(data.date >= \"2021-04-01\") & (data.date <= \"2021-11-30\")]\n",
    "\n",
    "# Find the minimum and maximum dates\n",
    "min_date = data[\"date\"].min()\n",
    "max_date = data[\"date\"].max()\n",
    "\n",
    "print(\"Minimum Date:\", min_date)\n",
    "print(\"Maximum Date:\", max_date)\n",
    "\n",
    "# Calculate the date ranges for train, val, and test sets\n",
    "date_range = max_date - min_date\n",
    "train_end = min_date + pd.Timedelta(days=date_range.days * 0.75)\n",
    "val_end = train_end + pd.Timedelta(days=date_range.days * 0.10)\n",
    "\n",
    "# Split the data into train, validation, and test sets based on the date ranges\n",
    "train = data[data[\"date\"] < train_end]\n",
    "val = data[(data[\"date\"] >= train_end) & (data[\"date\"] < val_end)]\n",
    "test = data[data[\"date\"] >= val_end]\n",
    "\n",
    "# Calculate the percentage of dates in each dataset\n",
    "total_samples = len(data)\n",
    "train_percentage = len(train) / total_samples * 100\n",
    "val_percentage = len(val) / total_samples * 100\n",
    "test_percentage = len(test) / total_samples * 100\n",
    "\n",
    "print(\n",
    "    f\"# of Training samples: {len(train)} | # of Validation samples: {len(val)} | # of Test samples: {len(test)}\"\n",
    ")\n",
    "print(\n",
    "    f\"Percentage of Dates in Train: {train_percentage:.2f}% | Percentage of Dates in Validation: {val_percentage:.2f}% | Percentage of Dates in Test: {test_percentage:.2f}%\"\n",
    ")\n",
    "print(\n",
    "    f\"Max Date in Train: {train.date.max()} | Min Date in Validation: {val.date.min()} | Min Date in Test: {test.date.min()}\"\n",
    ")"
   ]
  },
  {
   "cell_type": "code",
   "execution_count": 19,
   "metadata": {},
   "outputs": [
    {
     "data": {
      "application/vnd.plotly.v1+json": {
       "config": {
        "plotlyServerURL": "https://plot.ly"
       },
       "data": [
        {
         "coloraxis": "coloraxis",
         "hovertemplate": "x: %{x}<br>y: %{y}<br>color: %{z}<extra></extra>",
         "name": "0",
         "type": "heatmap",
         "x": [
          "date",
          "covidOccupiedMVBeds",
          "cumAdmissions",
          "hospitalCases",
          "newAdmissions",
          "new_confirmed",
          "new_deceased",
          "cumulative_confirmed",
          "cumulative_deceased",
          "covidOccupiedMVBeds_lag_1",
          "covidOccupiedMVBeds_lag_3",
          "covidOccupiedMVBeds_lag_7",
          "covidOccupiedMVBeds_lag_14",
          "covidOccupiedMVBeds_lag_21",
          "covidOccupiedMVBeds_lag_28",
          "covidOccupiedMVBeds_rolling_7_mean",
          "covidOccupiedMVBeds_rolling_7_std",
          "covidOccupiedMVBeds_rolling_14_mean",
          "covidOccupiedMVBeds_rolling_14_std",
          "covidOccupiedMVBeds_rolling_21_mean",
          "covidOccupiedMVBeds_rolling_21_std",
          "covidOccupiedMVBeds_ewma_span_7",
          "covidOccupiedMVBeds_ewma_span_14",
          "covidOccupiedMVBeds_ewma_span_21",
          "Vax_index"
         ],
         "xaxis": "x",
         "y": [
          "date",
          "covidOccupiedMVBeds",
          "cumAdmissions",
          "hospitalCases",
          "newAdmissions",
          "new_confirmed",
          "new_deceased",
          "cumulative_confirmed",
          "cumulative_deceased",
          "covidOccupiedMVBeds_lag_1",
          "covidOccupiedMVBeds_lag_3",
          "covidOccupiedMVBeds_lag_7",
          "covidOccupiedMVBeds_lag_14",
          "covidOccupiedMVBeds_lag_21",
          "covidOccupiedMVBeds_lag_28",
          "covidOccupiedMVBeds_rolling_7_mean",
          "covidOccupiedMVBeds_rolling_7_std",
          "covidOccupiedMVBeds_rolling_14_mean",
          "covidOccupiedMVBeds_rolling_14_std",
          "covidOccupiedMVBeds_rolling_21_mean",
          "covidOccupiedMVBeds_rolling_21_std",
          "covidOccupiedMVBeds_ewma_span_7",
          "covidOccupiedMVBeds_ewma_span_14",
          "covidOccupiedMVBeds_ewma_span_21",
          "Vax_index"
         ],
         "yaxis": "y",
         "z": [
          [
           1,
           -0.33243698558351387,
           0.9838341388071462,
           0.03348952570702998,
           0.10896455901121523,
           0.36586002609191143,
           -0.2252709472160341,
           0.9374145764348888,
           0.9543497240727709,
           -0.33167485516811307,
           -0.3300978237431767,
           -0.326944003025352,
           -0.32101690782547226,
           -0.31537895552393386,
           -0.31027257452792634,
           -0.3301287437389749,
           -0.31881216243853516,
           -0.32062265028578546,
           -0.36790705210007296,
           -0.30924269983614033,
           -0.39016105687213565,
           -0.32783709364276087,
           -0.32676613307784946,
           -0.3273698622614073,
           -0.9643468652365533
          ],
          [
           -0.33243698558351387,
           1,
           -0.2936480485862724,
           0.8070714393350649,
           0.6949569241210063,
           0.13320778437707376,
           0.900669304140782,
           -0.3027910124124338,
           -0.27353596222850834,
           0.9941941213152228,
           0.9841589487679192,
           0.9492725277318588,
           0.8598482065906282,
           0.7472801733061255,
           0.6193958439982991,
           0.9838953606090131,
           0.7305122047888398,
           0.9592573029757075,
           0.7958236852679178,
           0.9232617120412623,
           0.8155334180117201,
           0.9776014616462464,
           0.9459167453236542,
           0.910382498897204,
           0.3625613896269495
          ],
          [
           0.9838341388071462,
           -0.2936480485862724,
           1,
           0.0631298466981978,
           0.11060773061718346,
           0.28340340227653243,
           -0.19082013079977436,
           0.9457976689673997,
           0.9700899252253643,
           -0.2900888448784118,
           -0.28304693777393725,
           -0.2695932828346646,
           -0.2478211249007621,
           -0.22946670542286965,
           -0.21481124091534703,
           -0.2799667920383102,
           -0.2754356935906887,
           -0.261554242748166,
           -0.307281807399304,
           -0.24202433040941498,
           -0.31580426894131236,
           -0.27857021539541,
           -0.26922296338840174,
           -0.2624061083180087,
           -0.9552734434833545
          ],
          [
           0.03348952570702998,
           0.8070714393350649,
           0.0631298466981978,
           1,
           0.939517168082456,
           0.32488886074058493,
           0.9116541517341764,
           0.10993770230078269,
           0.02696580622067198,
           0.8017842852655428,
           0.7887031743943809,
           0.7481407286181091,
           0.6461561456914621,
           0.522302654611874,
           0.395426370774423,
           0.7831054231571406,
           0.5769774030969061,
           0.747772590552155,
           0.627047014911589,
           0.703914018863503,
           0.6313306065691983,
           0.785302581162558,
           0.7570511859852359,
           0.7248317747204772,
           0.011823801797209254
          ],
          [
           0.10896455901121523,
           0.6949569241210063,
           0.11060773061718346,
           0.939517168082456,
           1,
           0.45631847324009167,
           0.8411728342593,
           0.1806302191502709,
           0.058265968103219754,
           0.6818241426707463,
           0.653608320509839,
           0.587381998759017,
           0.46521106336785556,
           0.33672434183413313,
           0.2142463572825208,
           0.6402438471085728,
           0.5196518480814584,
           0.583991317962708,
           0.5182386058457957,
           0.5295256846559979,
           0.4982610618827776,
           0.6404001163042118,
           0.5935346168677917,
           0.5495924069597605,
           -0.07484689959736578
          ],
          [
           0.36586002609191143,
           0.13320778437707376,
           0.28340340227653243,
           0.32488886074058493,
           0.45631847324009167,
           1,
           0.14830001182321348,
           0.2976646112235344,
           0.3172555950740915,
           0.12515227724094222,
           0.1105624445394857,
           0.08727715054072457,
           0.04632295060664719,
           0.014343894514325687,
           -0.010058651533290615,
           0.10749654059138619,
           0.036209970702483066,
           0.09297393828653118,
           -0.0018145072397723516,
           0.08273019619129522,
           -0.03284368639548067,
           0.10896149414941429,
           0.09405936909377226,
           0.08192806538143242,
           -0.31722586591032115
          ],
          [
           -0.2252709472160341,
           0.900669304140782,
           -0.19082013079977436,
           0.9116541517341764,
           0.8411728342593,
           0.14830001182321348,
           1,
           -0.1525987115869476,
           -0.21743048726867284,
           0.8926461887641655,
           0.8727538757073928,
           0.8148204944155923,
           0.6857981844002016,
           0.5317280390268744,
           0.38498066635288924,
           0.8659510251383585,
           0.6734194273440003,
           0.815720712443259,
           0.7215406709458227,
           0.7514336038036519,
           0.7350870069213404,
           0.8566408388601453,
           0.8078510380266529,
           0.7595390012892556,
           0.25344129992799613
          ],
          [
           0.9374145764348888,
           -0.3027910124124338,
           0.9457976689673997,
           0.10993770230078269,
           0.1806302191502709,
           0.2976646112235344,
           -0.1525987115869476,
           1,
           0.8504413610810619,
           -0.30105792117653596,
           -0.2976306208230658,
           -0.29109164489899597,
           -0.2802532053225349,
           -0.27082152188464037,
           -0.2628255153280139,
           -0.2968742210193596,
           -0.2552912294508831,
           -0.28871177177563323,
           -0.30828821939907824,
           -0.2806266324980744,
           -0.33335468879942937,
           -0.29736053293767767,
           -0.2966123310194912,
           -0.2978227093403153,
           -0.9734080139483012
          ],
          [
           0.9543497240727709,
           -0.27353596222850834,
           0.9700899252253643,
           0.02696580622067198,
           0.058265968103219754,
           0.3172555950740915,
           -0.21743048726867284,
           0.8504413610810619,
           1,
           -0.2678509283666598,
           -0.2565563909832527,
           -0.23467684660097432,
           -0.19937947525359262,
           -0.16980142408244506,
           -0.1463613329421544,
           -0.2508441695405685,
           -0.28150809450513503,
           -0.22199973730480166,
           -0.2950848199091998,
           -0.19141934047233286,
           -0.2890637125045847,
           -0.24811492458416953,
           -0.22971001065917865,
           -0.214523219005878,
           -0.8800283544666436
          ],
          [
           -0.33167485516811307,
           0.9941941213152228,
           -0.2900888448784118,
           0.8017842852655428,
           0.6818241426707463,
           0.12515227724094222,
           0.8926461887641655,
           -0.30105792117653596,
           -0.2678509283666598,
           1,
           0.9896617553401106,
           0.9586434740323052,
           0.8742017268093872,
           0.7651636379933766,
           0.6373800424519528,
           0.9898597034927402,
           0.7277100829692016,
           0.9683491101628511,
           0.7959096126479852,
           0.9355151606127461,
           0.8179452596052391,
           0.9874634755445303,
           0.9596620396705059,
           0.9265545456058578,
           0.3615050568611042
          ],
          [
           -0.3300978237431767,
           0.9841589487679192,
           -0.28304693777393725,
           0.7887031743943809,
           0.653608320509839,
           0.1105624445394857,
           0.8727538757073928,
           -0.2976306208230658,
           -0.2565563909832527,
           0.9896617553401106,
           1,
           0.9761645423021944,
           0.9025117555587501,
           0.7983240803089222,
           0.6740619491552727,
           0.99711072144094,
           0.7066881139890038,
           0.9830708538768429,
           0.7886783430973874,
           0.956410962700923,
           0.8189002477044796,
           0.9964208716576463,
           0.9795556449537547,
           0.9528772372747759,
           0.35938618013230506
          ],
          [
           -0.326944003025352,
           0.9492725277318588,
           -0.2695932828346646,
           0.7481407286181091,
           0.587381998759017,
           0.08727715054072457,
           0.8148204944155923,
           -0.29109164489899597,
           -0.23467684660097432,
           0.9586434740323052,
           0.9761645423021944,
           1,
           0.9490521623084783,
           0.8592530265354155,
           0.7462757346935558,
           0.9874326043483507,
           0.6331959130110023,
           0.9968588598881223,
           0.7692119593600668,
           0.9848521691026255,
           0.8093867105633777,
           0.9864960808294432,
           0.9938043304271996,
           0.9835061182623147,
           0.35470768232337524
          ],
          [
           -0.32101690782547226,
           0.8598482065906282,
           -0.2478211249007621,
           0.6461561456914621,
           0.46521106336785556,
           0.04632295060664719,
           0.6857981844002016,
           -0.2802532053225349,
           -0.19937947525359262,
           0.8742017268093872,
           0.9025117555587501,
           0.9490521623084783,
           1,
           0.9488339447431952,
           0.8586911109963151,
           0.9184520500598444,
           0.6715076526959473,
           0.9620632153839246,
           0.6980394798508592,
           0.9908985885796313,
           0.7779449608662727,
           0.9202647456277784,
           0.9586793595611155,
           0.9770360202036857,
           0.34586037510097367
          ],
          [
           -0.31537895552393386,
           0.7472801733061255,
           -0.22946670542286965,
           0.522302654611874,
           0.33672434183413313,
           0.014343894514325687,
           0.5317280390268744,
           -0.27082152188464037,
           -0.16980142408244506,
           0.7651636379933766,
           0.7983240803089222,
           0.8592530265354155,
           0.9488339447431952,
           1,
           0.9486485190031293,
           0.8175222805172717,
           0.6121734307105634,
           0.8763293249226659,
           0.6984113041572144,
           0.9292411100881918,
           0.7298230669246296,
           0.8206702588675518,
           0.878184292370631,
           0.9187087063409163,
           0.3362707272462272
          ],
          [
           -0.31027257452792634,
           0.6193958439982991,
           -0.21481124091534703,
           0.395426370774423,
           0.2142463572825208,
           -0.010058651533290615,
           0.38498066635288924,
           -0.2628255153280139,
           -0.1463613329421544,
           0.6373800424519528,
           0.6740619491552727,
           0.7462757346935558,
           0.8586911109963151,
           0.9486485190031293,
           1,
           0.6958051647589396,
           0.5218740556791034,
           0.7644494698724302,
           0.6418173943275458,
           0.8308994046399473,
           0.713048899655459,
           0.6992941387643794,
           0.7699462461335504,
           0.8274975426763088,
           0.327327080067659
          ],
          [
           -0.3301287437389749,
           0.9838953606090131,
           -0.2799667920383102,
           0.7831054231571406,
           0.6402438471085728,
           0.10749654059138619,
           0.8659510251383585,
           -0.2968742210193596,
           -0.2508441695405685,
           0.9898597034927402,
           0.99711072144094,
           0.9874326043483507,
           0.9184520500598444,
           0.8175222805172717,
           0.6958051647589396,
           1,
           0.6924426905618446,
           0.9906312865296314,
           0.7868266119997149,
           0.9678330128196755,
           0.819917031595792,
           0.9997082114642382,
           0.9897664065761809,
           0.9678789694624639,
           0.35965480160639796
          ],
          [
           -0.31881216243853516,
           0.7305122047888398,
           -0.2754356935906887,
           0.5769774030969061,
           0.5196518480814584,
           0.036209970702483066,
           0.6734194273440003,
           -0.2552912294508831,
           -0.28150809450513503,
           0.7277100829692016,
           0.7066881139890038,
           0.6331959130110023,
           0.6715076526959473,
           0.6121734307105634,
           0.5218740556791034,
           0.6924426905618446,
           1,
           0.7268386846042354,
           0.8367825032356742,
           0.7049676230513856,
           0.7352632916782417,
           0.6951208329374259,
           0.6632463175233826,
           0.6371229745670111,
           0.30965554964237807
          ],
          [
           -0.32062265028578546,
           0.9592573029757075,
           -0.261554242748166,
           0.747772590552155,
           0.583991317962708,
           0.09297393828653118,
           0.815720712443259,
           -0.28871177177563323,
           -0.22199973730480166,
           0.9683491101628511,
           0.9830708538768429,
           0.9968588598881223,
           0.9620632153839246,
           0.8763293249226659,
           0.7644494698724302,
           0.9906312865296314,
           0.7268386846042354,
           1,
           0.7702660045034354,
           0.9917202556734671,
           0.8143136823878067,
           0.9908486207528039,
           0.9989175271770288,
           0.9923192215025487,
           0.35407743012757664
          ],
          [
           -0.36790705210007296,
           0.7958236852679178,
           -0.307281807399304,
           0.627047014911589,
           0.5182386058457957,
           -0.0018145072397723516,
           0.7215406709458227,
           -0.30828821939907824,
           -0.2950848199091998,
           0.7959096126479852,
           0.7886783430973874,
           0.7692119593600668,
           0.6980394798508592,
           0.6984113041572144,
           0.6418173943275458,
           0.7868266119997149,
           0.8367825032356742,
           0.7702660045034354,
           1,
           0.7655333851198833,
           0.9205048165177329,
           0.7889624919638184,
           0.7807512269458067,
           0.77140322180094,
           0.37815261768509817
          ],
          [
           -0.30924269983614033,
           0.9232617120412623,
           -0.24202433040941498,
           0.703914018863503,
           0.5295256846559979,
           0.08273019619129522,
           0.7514336038036519,
           -0.2806266324980744,
           -0.19141934047233286,
           0.9355151606127461,
           0.956410962700923,
           0.9848521691026255,
           0.9908985885796313,
           0.9292411100881918,
           0.8308994046399473,
           0.9678330128196755,
           0.7049676230513856,
           0.9917202556734671,
           0.7655333851198833,
           1,
           0.8081509757075591,
           0.9686456129966443,
           0.990615019070196,
           0.9971420915541283,
           0.3485556573513661
          ],
          [
           -0.39016105687213565,
           0.8155334180117201,
           -0.31580426894131236,
           0.6313306065691983,
           0.4982610618827776,
           -0.03284368639548067,
           0.7350870069213404,
           -0.33335468879942937,
           -0.2890637125045847,
           0.8179452596052391,
           0.8189002477044796,
           0.8093867105633777,
           0.7779449608662727,
           0.7298230669246296,
           0.713048899655459,
           0.819917031595792,
           0.7352632916782417,
           0.8143136823878067,
           0.9205048165177329,
           0.8081509757075591,
           1,
           0.8220389370548139,
           0.8248541320908876,
           0.8262736321378886,
           0.41454744610272154
          ],
          [
           -0.32783709364276087,
           0.9776014616462464,
           -0.27857021539541,
           0.785302581162558,
           0.6404001163042118,
           0.10896149414941429,
           0.8566408388601453,
           -0.29736053293767767,
           -0.24811492458416953,
           0.9874634755445303,
           0.9964208716576463,
           0.9864960808294432,
           0.9202647456277784,
           0.8206702588675518,
           0.6992941387643794,
           0.9997082114642382,
           0.6951208329374259,
           0.9908486207528039,
           0.7889624919638184,
           0.9686456129966443,
           0.8220389370548139,
           1,
           0.9901621315406706,
           0.9683978135206296,
           0.3602010616842507
          ],
          [
           -0.32676613307784946,
           0.9459167453236542,
           -0.26922296338840174,
           0.7570511859852359,
           0.5935346168677917,
           0.09405936909377226,
           0.8078510380266529,
           -0.2966123310194912,
           -0.22971001065917865,
           0.9596620396705059,
           0.9795556449537547,
           0.9938043304271996,
           0.9586793595611155,
           0.878184292370631,
           0.7699462461335504,
           0.9897664065761809,
           0.6632463175233826,
           0.9989175271770288,
           0.7807512269458067,
           0.990615019070196,
           0.8248541320908876,
           0.9901621315406706,
           1,
           0.9933135392937198,
           0.3621227803218464
          ],
          [
           -0.3273698622614073,
           0.910382498897204,
           -0.2624061083180087,
           0.7248317747204772,
           0.5495924069597605,
           0.08192806538143242,
           0.7595390012892556,
           -0.2978227093403153,
           -0.214523219005878,
           0.9265545456058578,
           0.9528772372747759,
           0.9835061182623147,
           0.9770360202036857,
           0.9187087063409163,
           0.8274975426763088,
           0.9678789694624639,
           0.6371229745670111,
           0.9923192215025487,
           0.77140322180094,
           0.9971420915541283,
           0.8262736321378886,
           0.9683978135206296,
           0.9933135392937198,
           1,
           0.36579759662168965
          ],
          [
           -0.9643468652365533,
           0.3625613896269495,
           -0.9552734434833545,
           0.011823801797209254,
           -0.07484689959736578,
           -0.31722586591032115,
           0.25344129992799613,
           -0.9734080139483012,
           -0.8800283544666436,
           0.3615050568611042,
           0.35938618013230506,
           0.35470768232337524,
           0.34586037510097367,
           0.3362707272462272,
           0.327327080067659,
           0.35965480160639796,
           0.30965554964237807,
           0.35407743012757664,
           0.37815261768509817,
           0.3485556573513661,
           0.41454744610272154,
           0.3602010616842507,
           0.3621227803218464,
           0.36579759662168965,
           1
          ]
         ]
        }
       ],
       "layout": {
        "autosize": false,
        "coloraxis": {
         "colorscale": [
          [
           0,
           "#0d0887"
          ],
          [
           0.1111111111111111,
           "#46039f"
          ],
          [
           0.2222222222222222,
           "#7201a8"
          ],
          [
           0.3333333333333333,
           "#9c179e"
          ],
          [
           0.4444444444444444,
           "#bd3786"
          ],
          [
           0.5555555555555556,
           "#d8576b"
          ],
          [
           0.6666666666666666,
           "#ed7953"
          ],
          [
           0.7777777777777778,
           "#fb9f3a"
          ],
          [
           0.8888888888888888,
           "#fdca26"
          ],
          [
           1,
           "#f0f921"
          ]
         ]
        },
        "height": 900,
        "legend": {
         "font": {
          "size": 15
         },
         "orientation": "h",
         "title": {},
         "x": 1,
         "xanchor": "right",
         "y": 0.98,
         "yanchor": "bottom"
        },
        "margin": {
         "t": 60
        },
        "template": {
         "data": {
          "bar": [
           {
            "error_x": {
             "color": "#2a3f5f"
            },
            "error_y": {
             "color": "#2a3f5f"
            },
            "marker": {
             "line": {
              "color": "white",
              "width": 0.5
             },
             "pattern": {
              "fillmode": "overlay",
              "size": 10,
              "solidity": 0.2
             }
            },
            "type": "bar"
           }
          ],
          "barpolar": [
           {
            "marker": {
             "line": {
              "color": "white",
              "width": 0.5
             },
             "pattern": {
              "fillmode": "overlay",
              "size": 10,
              "solidity": 0.2
             }
            },
            "type": "barpolar"
           }
          ],
          "carpet": [
           {
            "aaxis": {
             "endlinecolor": "#2a3f5f",
             "gridcolor": "#C8D4E3",
             "linecolor": "#C8D4E3",
             "minorgridcolor": "#C8D4E3",
             "startlinecolor": "#2a3f5f"
            },
            "baxis": {
             "endlinecolor": "#2a3f5f",
             "gridcolor": "#C8D4E3",
             "linecolor": "#C8D4E3",
             "minorgridcolor": "#C8D4E3",
             "startlinecolor": "#2a3f5f"
            },
            "type": "carpet"
           }
          ],
          "choropleth": [
           {
            "colorbar": {
             "outlinewidth": 0,
             "ticks": ""
            },
            "type": "choropleth"
           }
          ],
          "contour": [
           {
            "colorbar": {
             "outlinewidth": 0,
             "ticks": ""
            },
            "colorscale": [
             [
              0,
              "#0d0887"
             ],
             [
              0.1111111111111111,
              "#46039f"
             ],
             [
              0.2222222222222222,
              "#7201a8"
             ],
             [
              0.3333333333333333,
              "#9c179e"
             ],
             [
              0.4444444444444444,
              "#bd3786"
             ],
             [
              0.5555555555555556,
              "#d8576b"
             ],
             [
              0.6666666666666666,
              "#ed7953"
             ],
             [
              0.7777777777777778,
              "#fb9f3a"
             ],
             [
              0.8888888888888888,
              "#fdca26"
             ],
             [
              1,
              "#f0f921"
             ]
            ],
            "type": "contour"
           }
          ],
          "contourcarpet": [
           {
            "colorbar": {
             "outlinewidth": 0,
             "ticks": ""
            },
            "type": "contourcarpet"
           }
          ],
          "heatmap": [
           {
            "colorbar": {
             "outlinewidth": 0,
             "ticks": ""
            },
            "colorscale": [
             [
              0,
              "#0d0887"
             ],
             [
              0.1111111111111111,
              "#46039f"
             ],
             [
              0.2222222222222222,
              "#7201a8"
             ],
             [
              0.3333333333333333,
              "#9c179e"
             ],
             [
              0.4444444444444444,
              "#bd3786"
             ],
             [
              0.5555555555555556,
              "#d8576b"
             ],
             [
              0.6666666666666666,
              "#ed7953"
             ],
             [
              0.7777777777777778,
              "#fb9f3a"
             ],
             [
              0.8888888888888888,
              "#fdca26"
             ],
             [
              1,
              "#f0f921"
             ]
            ],
            "type": "heatmap"
           }
          ],
          "heatmapgl": [
           {
            "colorbar": {
             "outlinewidth": 0,
             "ticks": ""
            },
            "colorscale": [
             [
              0,
              "#0d0887"
             ],
             [
              0.1111111111111111,
              "#46039f"
             ],
             [
              0.2222222222222222,
              "#7201a8"
             ],
             [
              0.3333333333333333,
              "#9c179e"
             ],
             [
              0.4444444444444444,
              "#bd3786"
             ],
             [
              0.5555555555555556,
              "#d8576b"
             ],
             [
              0.6666666666666666,
              "#ed7953"
             ],
             [
              0.7777777777777778,
              "#fb9f3a"
             ],
             [
              0.8888888888888888,
              "#fdca26"
             ],
             [
              1,
              "#f0f921"
             ]
            ],
            "type": "heatmapgl"
           }
          ],
          "histogram": [
           {
            "marker": {
             "pattern": {
              "fillmode": "overlay",
              "size": 10,
              "solidity": 0.2
             }
            },
            "type": "histogram"
           }
          ],
          "histogram2d": [
           {
            "colorbar": {
             "outlinewidth": 0,
             "ticks": ""
            },
            "colorscale": [
             [
              0,
              "#0d0887"
             ],
             [
              0.1111111111111111,
              "#46039f"
             ],
             [
              0.2222222222222222,
              "#7201a8"
             ],
             [
              0.3333333333333333,
              "#9c179e"
             ],
             [
              0.4444444444444444,
              "#bd3786"
             ],
             [
              0.5555555555555556,
              "#d8576b"
             ],
             [
              0.6666666666666666,
              "#ed7953"
             ],
             [
              0.7777777777777778,
              "#fb9f3a"
             ],
             [
              0.8888888888888888,
              "#fdca26"
             ],
             [
              1,
              "#f0f921"
             ]
            ],
            "type": "histogram2d"
           }
          ],
          "histogram2dcontour": [
           {
            "colorbar": {
             "outlinewidth": 0,
             "ticks": ""
            },
            "colorscale": [
             [
              0,
              "#0d0887"
             ],
             [
              0.1111111111111111,
              "#46039f"
             ],
             [
              0.2222222222222222,
              "#7201a8"
             ],
             [
              0.3333333333333333,
              "#9c179e"
             ],
             [
              0.4444444444444444,
              "#bd3786"
             ],
             [
              0.5555555555555556,
              "#d8576b"
             ],
             [
              0.6666666666666666,
              "#ed7953"
             ],
             [
              0.7777777777777778,
              "#fb9f3a"
             ],
             [
              0.8888888888888888,
              "#fdca26"
             ],
             [
              1,
              "#f0f921"
             ]
            ],
            "type": "histogram2dcontour"
           }
          ],
          "mesh3d": [
           {
            "colorbar": {
             "outlinewidth": 0,
             "ticks": ""
            },
            "type": "mesh3d"
           }
          ],
          "parcoords": [
           {
            "line": {
             "colorbar": {
              "outlinewidth": 0,
              "ticks": ""
             }
            },
            "type": "parcoords"
           }
          ],
          "pie": [
           {
            "automargin": true,
            "type": "pie"
           }
          ],
          "scatter": [
           {
            "fillpattern": {
             "fillmode": "overlay",
             "size": 10,
             "solidity": 0.2
            },
            "type": "scatter"
           }
          ],
          "scatter3d": [
           {
            "line": {
             "colorbar": {
              "outlinewidth": 0,
              "ticks": ""
             }
            },
            "marker": {
             "colorbar": {
              "outlinewidth": 0,
              "ticks": ""
             }
            },
            "type": "scatter3d"
           }
          ],
          "scattercarpet": [
           {
            "marker": {
             "colorbar": {
              "outlinewidth": 0,
              "ticks": ""
             }
            },
            "type": "scattercarpet"
           }
          ],
          "scattergeo": [
           {
            "marker": {
             "colorbar": {
              "outlinewidth": 0,
              "ticks": ""
             }
            },
            "type": "scattergeo"
           }
          ],
          "scattergl": [
           {
            "marker": {
             "colorbar": {
              "outlinewidth": 0,
              "ticks": ""
             }
            },
            "type": "scattergl"
           }
          ],
          "scattermapbox": [
           {
            "marker": {
             "colorbar": {
              "outlinewidth": 0,
              "ticks": ""
             }
            },
            "type": "scattermapbox"
           }
          ],
          "scatterpolar": [
           {
            "marker": {
             "colorbar": {
              "outlinewidth": 0,
              "ticks": ""
             }
            },
            "type": "scatterpolar"
           }
          ],
          "scatterpolargl": [
           {
            "marker": {
             "colorbar": {
              "outlinewidth": 0,
              "ticks": ""
             }
            },
            "type": "scatterpolargl"
           }
          ],
          "scatterternary": [
           {
            "marker": {
             "colorbar": {
              "outlinewidth": 0,
              "ticks": ""
             }
            },
            "type": "scatterternary"
           }
          ],
          "surface": [
           {
            "colorbar": {
             "outlinewidth": 0,
             "ticks": ""
            },
            "colorscale": [
             [
              0,
              "#0d0887"
             ],
             [
              0.1111111111111111,
              "#46039f"
             ],
             [
              0.2222222222222222,
              "#7201a8"
             ],
             [
              0.3333333333333333,
              "#9c179e"
             ],
             [
              0.4444444444444444,
              "#bd3786"
             ],
             [
              0.5555555555555556,
              "#d8576b"
             ],
             [
              0.6666666666666666,
              "#ed7953"
             ],
             [
              0.7777777777777778,
              "#fb9f3a"
             ],
             [
              0.8888888888888888,
              "#fdca26"
             ],
             [
              1,
              "#f0f921"
             ]
            ],
            "type": "surface"
           }
          ],
          "table": [
           {
            "cells": {
             "fill": {
              "color": "#EBF0F8"
             },
             "line": {
              "color": "white"
             }
            },
            "header": {
             "fill": {
              "color": "#C8D4E3"
             },
             "line": {
              "color": "white"
             }
            },
            "type": "table"
           }
          ]
         },
         "layout": {
          "annotationdefaults": {
           "arrowcolor": "#2a3f5f",
           "arrowhead": 0,
           "arrowwidth": 1
          },
          "autotypenumbers": "strict",
          "coloraxis": {
           "colorbar": {
            "outlinewidth": 0,
            "ticks": ""
           }
          },
          "colorscale": {
           "diverging": [
            [
             0,
             "#8e0152"
            ],
            [
             0.1,
             "#c51b7d"
            ],
            [
             0.2,
             "#de77ae"
            ],
            [
             0.3,
             "#f1b6da"
            ],
            [
             0.4,
             "#fde0ef"
            ],
            [
             0.5,
             "#f7f7f7"
            ],
            [
             0.6,
             "#e6f5d0"
            ],
            [
             0.7,
             "#b8e186"
            ],
            [
             0.8,
             "#7fbc41"
            ],
            [
             0.9,
             "#4d9221"
            ],
            [
             1,
             "#276419"
            ]
           ],
           "sequential": [
            [
             0,
             "#0d0887"
            ],
            [
             0.1111111111111111,
             "#46039f"
            ],
            [
             0.2222222222222222,
             "#7201a8"
            ],
            [
             0.3333333333333333,
             "#9c179e"
            ],
            [
             0.4444444444444444,
             "#bd3786"
            ],
            [
             0.5555555555555556,
             "#d8576b"
            ],
            [
             0.6666666666666666,
             "#ed7953"
            ],
            [
             0.7777777777777778,
             "#fb9f3a"
            ],
            [
             0.8888888888888888,
             "#fdca26"
            ],
            [
             1,
             "#f0f921"
            ]
           ],
           "sequentialminus": [
            [
             0,
             "#0d0887"
            ],
            [
             0.1111111111111111,
             "#46039f"
            ],
            [
             0.2222222222222222,
             "#7201a8"
            ],
            [
             0.3333333333333333,
             "#9c179e"
            ],
            [
             0.4444444444444444,
             "#bd3786"
            ],
            [
             0.5555555555555556,
             "#d8576b"
            ],
            [
             0.6666666666666666,
             "#ed7953"
            ],
            [
             0.7777777777777778,
             "#fb9f3a"
            ],
            [
             0.8888888888888888,
             "#fdca26"
            ],
            [
             1,
             "#f0f921"
            ]
           ]
          },
          "colorway": [
           "#636efa",
           "#EF553B",
           "#00cc96",
           "#ab63fa",
           "#FFA15A",
           "#19d3f3",
           "#FF6692",
           "#B6E880",
           "#FF97FF",
           "#FECB52"
          ],
          "font": {
           "color": "#2a3f5f"
          },
          "geo": {
           "bgcolor": "white",
           "lakecolor": "white",
           "landcolor": "white",
           "showlakes": true,
           "showland": true,
           "subunitcolor": "#C8D4E3"
          },
          "hoverlabel": {
           "align": "left"
          },
          "hovermode": "closest",
          "mapbox": {
           "style": "light"
          },
          "paper_bgcolor": "white",
          "plot_bgcolor": "white",
          "polar": {
           "angularaxis": {
            "gridcolor": "#EBF0F8",
            "linecolor": "#EBF0F8",
            "ticks": ""
           },
           "bgcolor": "white",
           "radialaxis": {
            "gridcolor": "#EBF0F8",
            "linecolor": "#EBF0F8",
            "ticks": ""
           }
          },
          "scene": {
           "xaxis": {
            "backgroundcolor": "white",
            "gridcolor": "#DFE8F3",
            "gridwidth": 2,
            "linecolor": "#EBF0F8",
            "showbackground": true,
            "ticks": "",
            "zerolinecolor": "#EBF0F8"
           },
           "yaxis": {
            "backgroundcolor": "white",
            "gridcolor": "#DFE8F3",
            "gridwidth": 2,
            "linecolor": "#EBF0F8",
            "showbackground": true,
            "ticks": "",
            "zerolinecolor": "#EBF0F8"
           },
           "zaxis": {
            "backgroundcolor": "white",
            "gridcolor": "#DFE8F3",
            "gridwidth": 2,
            "linecolor": "#EBF0F8",
            "showbackground": true,
            "ticks": "",
            "zerolinecolor": "#EBF0F8"
           }
          },
          "shapedefaults": {
           "line": {
            "color": "#2a3f5f"
           }
          },
          "ternary": {
           "aaxis": {
            "gridcolor": "#DFE8F3",
            "linecolor": "#A2B1C6",
            "ticks": ""
           },
           "baxis": {
            "gridcolor": "#DFE8F3",
            "linecolor": "#A2B1C6",
            "ticks": ""
           },
           "bgcolor": "white",
           "caxis": {
            "gridcolor": "#DFE8F3",
            "linecolor": "#A2B1C6",
            "ticks": ""
           }
          },
          "title": {
           "x": 0.05
          },
          "xaxis": {
           "automargin": true,
           "gridcolor": "#EBF0F8",
           "linecolor": "#EBF0F8",
           "ticks": "",
           "title": {
            "standoff": 15
           },
           "zerolinecolor": "#EBF0F8",
           "zerolinewidth": 2
          },
          "yaxis": {
           "automargin": true,
           "gridcolor": "#EBF0F8",
           "linecolor": "#EBF0F8",
           "ticks": "",
           "title": {
            "standoff": 15
           },
           "zerolinecolor": "#EBF0F8",
           "zerolinewidth": 2
          }
         }
        },
        "title": {
         "font": {
          "size": 20
         },
         "text": "Correlation Matrix for East of England",
         "x": 0.5,
         "xanchor": "center",
         "yanchor": "top"
        },
        "width": 900,
        "xaxis": {
         "anchor": "y",
         "constrain": "domain",
         "domain": [
          0,
          1
         ],
         "scaleanchor": "y",
         "tickfont": {
          "size": 15
         },
         "title": {
          "font": {
           "size": 15
          },
          "text": "Features"
         }
        },
        "yaxis": {
         "anchor": "x",
         "autorange": "reversed",
         "constrain": "domain",
         "domain": [
          0,
          1
         ],
         "tickfont": {
          "size": 15
         },
         "title": {
          "font": {
           "size": 15
          },
          "text": "Features"
         }
        }
       }
      }
     },
     "metadata": {},
     "output_type": "display_data"
    }
   ],
   "source": [
    "# correlation matrix for the features in the data for one area\n",
    "area = \"East of England\"\n",
    "area_data = data[data.areaName == area].drop(columns=[\"areaName\"])\n",
    "corr = area_data.corr()\n",
    "fig = px.imshow(corr, x=area_data.columns, y=area_data.columns)\n",
    "fig.update_layout(\n",
    "    autosize=False,\n",
    "    width=900,\n",
    "    height=900,\n",
    "    title_text=f\"Correlation Matrix for {area}\",\n",
    "    title={\"x\": 0.5, \"xanchor\": \"center\", \"yanchor\": \"top\"},\n",
    "    titlefont={\"size\": 20},\n",
    "    legend_title=None,\n",
    "    legend=dict(\n",
    "        font=dict(size=15),\n",
    "        orientation=\"h\",\n",
    "        yanchor=\"bottom\",\n",
    "        y=0.98,\n",
    "        xanchor=\"right\",\n",
    "        x=1,\n",
    "    ),\n",
    "    yaxis=dict(\n",
    "        title_text=\"Features\",\n",
    "        titlefont=dict(size=15),\n",
    "        tickfont=dict(size=15),\n",
    "    ),\n",
    "    xaxis=dict(\n",
    "        title_text=\"Features\",\n",
    "        titlefont=dict(size=15),\n",
    "        tickfont=dict(size=15),\n",
    "    ),\n",
    ")\n",
    "fig.show()\n"
   ]
  },
  {
   "cell_type": "markdown",
   "metadata": {},
   "source": [
    "## Detecting seasonality"
   ]
  },
  {
   "cell_type": "code",
   "execution_count": 20,
   "metadata": {},
   "outputs": [
    {
     "data": {
      "application/vnd.plotly.v1+json": {
       "config": {
        "plotlyServerURL": "https://plot.ly"
       },
       "data": [
        {
         "hovertemplate": "x=%{x}<br>y=%{y}<extra></extra>",
         "legendgroup": "",
         "line": {
          "color": "#636efa",
          "dash": "solid"
         },
         "marker": {
          "size": 4,
          "symbol": "circle"
         },
         "mode": "lines+markers",
         "name": "",
         "orientation": "v",
         "showlegend": false,
         "type": "scatter",
         "x": [
          1,
          2,
          3,
          4,
          5,
          6,
          7,
          8,
          9,
          10,
          11,
          12,
          13,
          14,
          15,
          16,
          17,
          18,
          19,
          20,
          21,
          22,
          23,
          24,
          25,
          26,
          27,
          28,
          29,
          30,
          31,
          32,
          33,
          34,
          35,
          36,
          37,
          38,
          39
         ],
         "xaxis": "x",
         "y": [
          0.9963279407276912,
          0.992358340479127,
          0.987066805498129,
          0.9813572309550516,
          0.9743359991612948,
          0.966676742068163,
          0.957958248092585,
          0.9489101778260173,
          0.938228826316529,
          0.9271250115458076,
          0.9152409504340088,
          0.9029626173289549,
          0.8901814943739152,
          0.8771019897957072,
          0.8635965847173894,
          0.8498615232619475,
          0.8357052047006512,
          0.8212985409227694,
          0.8064780616190618,
          0.791718695568489,
          0.776870872689062,
          0.762066549239627,
          0.7474698590796577,
          0.7325875867926045,
          0.7179146377771434,
          0.7032786679440766,
          0.6887317256160056,
          0.6743142851479252,
          0.6598578785133999,
          0.6455131452054751,
          0.6313548566751801,
          0.6174620455594353,
          0.6038101282420192,
          0.5903027897316315,
          0.5768243897421216,
          0.5634793197113471,
          0.5504409932323487,
          0.5375281450846612,
          0.5249277918546869
         ],
         "yaxis": "y"
        }
       ],
       "layout": {
        "autosize": false,
        "height": 500,
        "legend": {
         "font": {
          "size": 15
         },
         "orientation": "h",
         "title": {},
         "tracegroupgap": 0,
         "x": 1,
         "xanchor": "right",
         "y": 0.98,
         "yanchor": "bottom"
        },
        "template": {
         "data": {
          "bar": [
           {
            "error_x": {
             "color": "#2a3f5f"
            },
            "error_y": {
             "color": "#2a3f5f"
            },
            "marker": {
             "line": {
              "color": "white",
              "width": 0.5
             },
             "pattern": {
              "fillmode": "overlay",
              "size": 10,
              "solidity": 0.2
             }
            },
            "type": "bar"
           }
          ],
          "barpolar": [
           {
            "marker": {
             "line": {
              "color": "white",
              "width": 0.5
             },
             "pattern": {
              "fillmode": "overlay",
              "size": 10,
              "solidity": 0.2
             }
            },
            "type": "barpolar"
           }
          ],
          "carpet": [
           {
            "aaxis": {
             "endlinecolor": "#2a3f5f",
             "gridcolor": "#C8D4E3",
             "linecolor": "#C8D4E3",
             "minorgridcolor": "#C8D4E3",
             "startlinecolor": "#2a3f5f"
            },
            "baxis": {
             "endlinecolor": "#2a3f5f",
             "gridcolor": "#C8D4E3",
             "linecolor": "#C8D4E3",
             "minorgridcolor": "#C8D4E3",
             "startlinecolor": "#2a3f5f"
            },
            "type": "carpet"
           }
          ],
          "choropleth": [
           {
            "colorbar": {
             "outlinewidth": 0,
             "ticks": ""
            },
            "type": "choropleth"
           }
          ],
          "contour": [
           {
            "colorbar": {
             "outlinewidth": 0,
             "ticks": ""
            },
            "colorscale": [
             [
              0,
              "#0d0887"
             ],
             [
              0.1111111111111111,
              "#46039f"
             ],
             [
              0.2222222222222222,
              "#7201a8"
             ],
             [
              0.3333333333333333,
              "#9c179e"
             ],
             [
              0.4444444444444444,
              "#bd3786"
             ],
             [
              0.5555555555555556,
              "#d8576b"
             ],
             [
              0.6666666666666666,
              "#ed7953"
             ],
             [
              0.7777777777777778,
              "#fb9f3a"
             ],
             [
              0.8888888888888888,
              "#fdca26"
             ],
             [
              1,
              "#f0f921"
             ]
            ],
            "type": "contour"
           }
          ],
          "contourcarpet": [
           {
            "colorbar": {
             "outlinewidth": 0,
             "ticks": ""
            },
            "type": "contourcarpet"
           }
          ],
          "heatmap": [
           {
            "colorbar": {
             "outlinewidth": 0,
             "ticks": ""
            },
            "colorscale": [
             [
              0,
              "#0d0887"
             ],
             [
              0.1111111111111111,
              "#46039f"
             ],
             [
              0.2222222222222222,
              "#7201a8"
             ],
             [
              0.3333333333333333,
              "#9c179e"
             ],
             [
              0.4444444444444444,
              "#bd3786"
             ],
             [
              0.5555555555555556,
              "#d8576b"
             ],
             [
              0.6666666666666666,
              "#ed7953"
             ],
             [
              0.7777777777777778,
              "#fb9f3a"
             ],
             [
              0.8888888888888888,
              "#fdca26"
             ],
             [
              1,
              "#f0f921"
             ]
            ],
            "type": "heatmap"
           }
          ],
          "heatmapgl": [
           {
            "colorbar": {
             "outlinewidth": 0,
             "ticks": ""
            },
            "colorscale": [
             [
              0,
              "#0d0887"
             ],
             [
              0.1111111111111111,
              "#46039f"
             ],
             [
              0.2222222222222222,
              "#7201a8"
             ],
             [
              0.3333333333333333,
              "#9c179e"
             ],
             [
              0.4444444444444444,
              "#bd3786"
             ],
             [
              0.5555555555555556,
              "#d8576b"
             ],
             [
              0.6666666666666666,
              "#ed7953"
             ],
             [
              0.7777777777777778,
              "#fb9f3a"
             ],
             [
              0.8888888888888888,
              "#fdca26"
             ],
             [
              1,
              "#f0f921"
             ]
            ],
            "type": "heatmapgl"
           }
          ],
          "histogram": [
           {
            "marker": {
             "pattern": {
              "fillmode": "overlay",
              "size": 10,
              "solidity": 0.2
             }
            },
            "type": "histogram"
           }
          ],
          "histogram2d": [
           {
            "colorbar": {
             "outlinewidth": 0,
             "ticks": ""
            },
            "colorscale": [
             [
              0,
              "#0d0887"
             ],
             [
              0.1111111111111111,
              "#46039f"
             ],
             [
              0.2222222222222222,
              "#7201a8"
             ],
             [
              0.3333333333333333,
              "#9c179e"
             ],
             [
              0.4444444444444444,
              "#bd3786"
             ],
             [
              0.5555555555555556,
              "#d8576b"
             ],
             [
              0.6666666666666666,
              "#ed7953"
             ],
             [
              0.7777777777777778,
              "#fb9f3a"
             ],
             [
              0.8888888888888888,
              "#fdca26"
             ],
             [
              1,
              "#f0f921"
             ]
            ],
            "type": "histogram2d"
           }
          ],
          "histogram2dcontour": [
           {
            "colorbar": {
             "outlinewidth": 0,
             "ticks": ""
            },
            "colorscale": [
             [
              0,
              "#0d0887"
             ],
             [
              0.1111111111111111,
              "#46039f"
             ],
             [
              0.2222222222222222,
              "#7201a8"
             ],
             [
              0.3333333333333333,
              "#9c179e"
             ],
             [
              0.4444444444444444,
              "#bd3786"
             ],
             [
              0.5555555555555556,
              "#d8576b"
             ],
             [
              0.6666666666666666,
              "#ed7953"
             ],
             [
              0.7777777777777778,
              "#fb9f3a"
             ],
             [
              0.8888888888888888,
              "#fdca26"
             ],
             [
              1,
              "#f0f921"
             ]
            ],
            "type": "histogram2dcontour"
           }
          ],
          "mesh3d": [
           {
            "colorbar": {
             "outlinewidth": 0,
             "ticks": ""
            },
            "type": "mesh3d"
           }
          ],
          "parcoords": [
           {
            "line": {
             "colorbar": {
              "outlinewidth": 0,
              "ticks": ""
             }
            },
            "type": "parcoords"
           }
          ],
          "pie": [
           {
            "automargin": true,
            "type": "pie"
           }
          ],
          "scatter": [
           {
            "fillpattern": {
             "fillmode": "overlay",
             "size": 10,
             "solidity": 0.2
            },
            "type": "scatter"
           }
          ],
          "scatter3d": [
           {
            "line": {
             "colorbar": {
              "outlinewidth": 0,
              "ticks": ""
             }
            },
            "marker": {
             "colorbar": {
              "outlinewidth": 0,
              "ticks": ""
             }
            },
            "type": "scatter3d"
           }
          ],
          "scattercarpet": [
           {
            "marker": {
             "colorbar": {
              "outlinewidth": 0,
              "ticks": ""
             }
            },
            "type": "scattercarpet"
           }
          ],
          "scattergeo": [
           {
            "marker": {
             "colorbar": {
              "outlinewidth": 0,
              "ticks": ""
             }
            },
            "type": "scattergeo"
           }
          ],
          "scattergl": [
           {
            "marker": {
             "colorbar": {
              "outlinewidth": 0,
              "ticks": ""
             }
            },
            "type": "scattergl"
           }
          ],
          "scattermapbox": [
           {
            "marker": {
             "colorbar": {
              "outlinewidth": 0,
              "ticks": ""
             }
            },
            "type": "scattermapbox"
           }
          ],
          "scatterpolar": [
           {
            "marker": {
             "colorbar": {
              "outlinewidth": 0,
              "ticks": ""
             }
            },
            "type": "scatterpolar"
           }
          ],
          "scatterpolargl": [
           {
            "marker": {
             "colorbar": {
              "outlinewidth": 0,
              "ticks": ""
             }
            },
            "type": "scatterpolargl"
           }
          ],
          "scatterternary": [
           {
            "marker": {
             "colorbar": {
              "outlinewidth": 0,
              "ticks": ""
             }
            },
            "type": "scatterternary"
           }
          ],
          "surface": [
           {
            "colorbar": {
             "outlinewidth": 0,
             "ticks": ""
            },
            "colorscale": [
             [
              0,
              "#0d0887"
             ],
             [
              0.1111111111111111,
              "#46039f"
             ],
             [
              0.2222222222222222,
              "#7201a8"
             ],
             [
              0.3333333333333333,
              "#9c179e"
             ],
             [
              0.4444444444444444,
              "#bd3786"
             ],
             [
              0.5555555555555556,
              "#d8576b"
             ],
             [
              0.6666666666666666,
              "#ed7953"
             ],
             [
              0.7777777777777778,
              "#fb9f3a"
             ],
             [
              0.8888888888888888,
              "#fdca26"
             ],
             [
              1,
              "#f0f921"
             ]
            ],
            "type": "surface"
           }
          ],
          "table": [
           {
            "cells": {
             "fill": {
              "color": "#EBF0F8"
             },
             "line": {
              "color": "white"
             }
            },
            "header": {
             "fill": {
              "color": "#C8D4E3"
             },
             "line": {
              "color": "white"
             }
            },
            "type": "table"
           }
          ]
         },
         "layout": {
          "annotationdefaults": {
           "arrowcolor": "#2a3f5f",
           "arrowhead": 0,
           "arrowwidth": 1
          },
          "autotypenumbers": "strict",
          "coloraxis": {
           "colorbar": {
            "outlinewidth": 0,
            "ticks": ""
           }
          },
          "colorscale": {
           "diverging": [
            [
             0,
             "#8e0152"
            ],
            [
             0.1,
             "#c51b7d"
            ],
            [
             0.2,
             "#de77ae"
            ],
            [
             0.3,
             "#f1b6da"
            ],
            [
             0.4,
             "#fde0ef"
            ],
            [
             0.5,
             "#f7f7f7"
            ],
            [
             0.6,
             "#e6f5d0"
            ],
            [
             0.7,
             "#b8e186"
            ],
            [
             0.8,
             "#7fbc41"
            ],
            [
             0.9,
             "#4d9221"
            ],
            [
             1,
             "#276419"
            ]
           ],
           "sequential": [
            [
             0,
             "#0d0887"
            ],
            [
             0.1111111111111111,
             "#46039f"
            ],
            [
             0.2222222222222222,
             "#7201a8"
            ],
            [
             0.3333333333333333,
             "#9c179e"
            ],
            [
             0.4444444444444444,
             "#bd3786"
            ],
            [
             0.5555555555555556,
             "#d8576b"
            ],
            [
             0.6666666666666666,
             "#ed7953"
            ],
            [
             0.7777777777777778,
             "#fb9f3a"
            ],
            [
             0.8888888888888888,
             "#fdca26"
            ],
            [
             1,
             "#f0f921"
            ]
           ],
           "sequentialminus": [
            [
             0,
             "#0d0887"
            ],
            [
             0.1111111111111111,
             "#46039f"
            ],
            [
             0.2222222222222222,
             "#7201a8"
            ],
            [
             0.3333333333333333,
             "#9c179e"
            ],
            [
             0.4444444444444444,
             "#bd3786"
            ],
            [
             0.5555555555555556,
             "#d8576b"
            ],
            [
             0.6666666666666666,
             "#ed7953"
            ],
            [
             0.7777777777777778,
             "#fb9f3a"
            ],
            [
             0.8888888888888888,
             "#fdca26"
            ],
            [
             1,
             "#f0f921"
            ]
           ]
          },
          "colorway": [
           "#636efa",
           "#EF553B",
           "#00cc96",
           "#ab63fa",
           "#FFA15A",
           "#19d3f3",
           "#FF6692",
           "#B6E880",
           "#FF97FF",
           "#FECB52"
          ],
          "font": {
           "color": "#2a3f5f"
          },
          "geo": {
           "bgcolor": "white",
           "lakecolor": "white",
           "landcolor": "white",
           "showlakes": true,
           "showland": true,
           "subunitcolor": "#C8D4E3"
          },
          "hoverlabel": {
           "align": "left"
          },
          "hovermode": "closest",
          "mapbox": {
           "style": "light"
          },
          "paper_bgcolor": "white",
          "plot_bgcolor": "white",
          "polar": {
           "angularaxis": {
            "gridcolor": "#EBF0F8",
            "linecolor": "#EBF0F8",
            "ticks": ""
           },
           "bgcolor": "white",
           "radialaxis": {
            "gridcolor": "#EBF0F8",
            "linecolor": "#EBF0F8",
            "ticks": ""
           }
          },
          "scene": {
           "xaxis": {
            "backgroundcolor": "white",
            "gridcolor": "#DFE8F3",
            "gridwidth": 2,
            "linecolor": "#EBF0F8",
            "showbackground": true,
            "ticks": "",
            "zerolinecolor": "#EBF0F8"
           },
           "yaxis": {
            "backgroundcolor": "white",
            "gridcolor": "#DFE8F3",
            "gridwidth": 2,
            "linecolor": "#EBF0F8",
            "showbackground": true,
            "ticks": "",
            "zerolinecolor": "#EBF0F8"
           },
           "zaxis": {
            "backgroundcolor": "white",
            "gridcolor": "#DFE8F3",
            "gridwidth": 2,
            "linecolor": "#EBF0F8",
            "showbackground": true,
            "ticks": "",
            "zerolinecolor": "#EBF0F8"
           }
          },
          "shapedefaults": {
           "line": {
            "color": "#2a3f5f"
           }
          },
          "ternary": {
           "aaxis": {
            "gridcolor": "#DFE8F3",
            "linecolor": "#A2B1C6",
            "ticks": ""
           },
           "baxis": {
            "gridcolor": "#DFE8F3",
            "linecolor": "#A2B1C6",
            "ticks": ""
           },
           "bgcolor": "white",
           "caxis": {
            "gridcolor": "#DFE8F3",
            "linecolor": "#A2B1C6",
            "ticks": ""
           }
          },
          "title": {
           "x": 0.05
          },
          "xaxis": {
           "automargin": true,
           "gridcolor": "#EBF0F8",
           "linecolor": "#EBF0F8",
           "ticks": "",
           "title": {
            "standoff": 15
           },
           "zerolinecolor": "#EBF0F8",
           "zerolinewidth": 2
          },
          "yaxis": {
           "automargin": true,
           "gridcolor": "#EBF0F8",
           "linecolor": "#EBF0F8",
           "ticks": "",
           "title": {
            "standoff": 15
           },
           "zerolinecolor": "#EBF0F8",
           "zerolinewidth": 2
          }
         }
        },
        "title": {
         "font": {
          "size": 20
         },
         "text": "Autocorrelation of COVID-19 MVBeds",
         "x": 0.5,
         "xanchor": "center",
         "yanchor": "top"
        },
        "width": 900,
        "xaxis": {
         "anchor": "y",
         "domain": [
          0,
          1
         ],
         "tickfont": {
          "size": 15
         },
         "title": {
          "font": {
           "size": 15
          },
          "text": "Lag"
         }
        },
        "yaxis": {
         "anchor": "x",
         "domain": [
          0,
          1
         ],
         "tickfont": {
          "size": 15
         },
         "title": {
          "font": {
           "size": 15
          },
          "text": "Autocorrelation"
         }
        }
       }
      }
     },
     "metadata": {},
     "output_type": "display_data"
    }
   ],
   "source": [
    "from statsmodels.tsa.stattools import acf\n",
    "\n",
    "r = acf(data[\"covidOccupiedMVBeds\"])\n",
    "r = r[1:]  # Remove the autocorrelation at lag \n",
    "fig = px.line(x=list(range(1, len(r) + 1)), y=r, title=\"Autocorrelation of COVID-19 MVBeds\")\n",
    "fig.update_traces(mode=\"lines+markers\", marker=dict(size=4))\n",
    "fig = format_plot(fig, xlabel=\"Lag\", ylabel=\"Autocorrelation\", title=\"Autocorrelation of COVID-19 MVBeds\")\n",
    "fig.show()\n"
   ]
  },
  {
   "cell_type": "code",
   "execution_count": 21,
   "metadata": {},
   "outputs": [
    {
     "data": {
      "text/plain": [
       "Index(['areaName', 'date', 'covidOccupiedMVBeds', 'cumAdmissions',\n",
       "       'hospitalCases', 'newAdmissions', 'new_confirmed', 'new_deceased',\n",
       "       'cumulative_confirmed', 'cumulative_deceased',\n",
       "       'covidOccupiedMVBeds_lag_1', 'covidOccupiedMVBeds_lag_3',\n",
       "       'covidOccupiedMVBeds_lag_7', 'covidOccupiedMVBeds_lag_14',\n",
       "       'covidOccupiedMVBeds_lag_21', 'covidOccupiedMVBeds_lag_28',\n",
       "       'covidOccupiedMVBeds_rolling_7_mean',\n",
       "       'covidOccupiedMVBeds_rolling_7_std',\n",
       "       'covidOccupiedMVBeds_rolling_14_mean',\n",
       "       'covidOccupiedMVBeds_rolling_14_std',\n",
       "       'covidOccupiedMVBeds_rolling_21_mean',\n",
       "       'covidOccupiedMVBeds_rolling_21_std', 'covidOccupiedMVBeds_ewma_span_7',\n",
       "       'covidOccupiedMVBeds_ewma_span_14', 'covidOccupiedMVBeds_ewma_span_21',\n",
       "       'Vax_index'],\n",
       "      dtype='object')"
      ]
     },
     "execution_count": 21,
     "metadata": {},
     "output_type": "execute_result"
    }
   ],
   "source": [
    "data.columns"
   ]
  },
  {
   "cell_type": "code",
   "execution_count": 22,
   "metadata": {},
   "outputs": [],
   "source": [
    "data[\"date\"] = pd.to_datetime(data[\"date\"])\n",
    "data = data.set_index(\"date\")\n",
    "\n",
    "data['day'] = data.index.day\n",
    "data['month'] = data.index.month"
   ]
  },
  {
   "cell_type": "code",
   "execution_count": 23,
   "metadata": {},
   "outputs": [],
   "source": [
    "feat_config = FeatureConfig(\n",
    "    continuous_features=[\n",
    "        \"covidOccupiedMVBeds_lag_1\",\n",
    "        \"covidOccupiedMVBeds_lag_3\",\n",
    "        \"covidOccupiedMVBeds_lag_7\",\n",
    "        \"covidOccupiedMVBeds_lag_14\",\n",
    "        \"covidOccupiedMVBeds_lag_21\",\n",
    "        \"covidOccupiedMVBeds_lag_28\",\n",
    "        \"covidOccupiedMVBeds_roll_7_mean\",\n",
    "        \"covidOccupiedMVBeds_roll_7_std\",\n",
    "        \"covidOccupiedMVBeds_roll_14_mean\",\n",
    "        \"covidOccupiedMVBeds_roll_14_std\",\n",
    "        \"covidOccupiedMVBeds_roll_21_mean\",\n",
    "        \"covidOccupiedMVBeds_roll_21_std\",\n",
    "        \"covidOccupiedMVBeds_ewma_7\",\n",
    "        \"covidOccupiedMVBeds_ewma_14\",\n",
    "        \"covidOccupiedMVBeds_ewma_21\",\n",
    "        \"Vax_index\",\n",
    "    ],\n",
    "    categorical_features=[\"day\", \"month\"],\n",
    "    target=\"covidOccupiedMVBeds\",\n",
    "    date=\"date\",\n",
    ")"
   ]
  },
  {
   "cell_type": "code",
   "execution_count": 24,
   "metadata": {},
   "outputs": [
    {
     "data": {
      "text/plain": [
       "covidOccupiedMVBeds_lag_1                7\n",
       "covidOccupiedMVBeds_lag_3               21\n",
       "covidOccupiedMVBeds_lag_7               49\n",
       "covidOccupiedMVBeds_lag_14              98\n",
       "covidOccupiedMVBeds_lag_21             147\n",
       "covidOccupiedMVBeds_lag_28             196\n",
       "covidOccupiedMVBeds_rolling_7_mean      49\n",
       "covidOccupiedMVBeds_rolling_7_std       49\n",
       "covidOccupiedMVBeds_rolling_14_mean     98\n",
       "covidOccupiedMVBeds_rolling_14_std      98\n",
       "covidOccupiedMVBeds_rolling_21_mean    147\n",
       "covidOccupiedMVBeds_rolling_21_std     147\n",
       "covidOccupiedMVBeds_ewma_span_7          1\n",
       "covidOccupiedMVBeds_ewma_span_14         1\n",
       "covidOccupiedMVBeds_ewma_span_21         1\n",
       "dtype: int64"
      ]
     },
     "execution_count": 24,
     "metadata": {},
     "output_type": "execute_result"
    }
   ],
   "source": [
    "nc = train.isnull().sum()\n",
    "nc[nc > 0]"
   ]
  },
  {
   "cell_type": "code",
   "execution_count": 25,
   "metadata": {},
   "outputs": [
    {
     "data": {
      "text/plain": [
       "Series([], dtype: int64)"
      ]
     },
     "execution_count": 25,
     "metadata": {},
     "output_type": "execute_result"
    }
   ],
   "source": [
    "nc = val.isnull().sum()\n",
    "nc[nc > 0]"
   ]
  },
  {
   "cell_type": "code",
   "execution_count": 26,
   "metadata": {},
   "outputs": [],
   "source": [
    "# Missing_Value_Config = MissingValueConfig(\n",
    "#     bfill_columns=[\n",
    "#         \"covidOccupiedMVBeds_lag_1\",\n",
    "#         \"covidOccupiedMVBeds_lag_3\",\n",
    "#         \"covidOccupiedMVBeds_lag_7\",\n",
    "#         \"covidOccupiedMVBeds_lag_14\",\n",
    "#         \"covidOccupiedMVBeds_lag_21\",\n",
    "#         \"covidOccupiedMVBeds_lag_28\",\n",
    "#         \"covidOccupiedMVBeds_roll_7_mean\",\n",
    "#         \"covidOccupiedMVBeds_roll_7_std\",\n",
    "#         \"covidOccupiedMVBeds_roll_14_mean\",\n",
    "#         \"covidOccupiedMVBeds_roll_14_std\",  \n",
    "#         \"covidOccupiedMVBeds_roll_21_mean\",\n",
    "#         \"covidOccupiedMVBeds_roll_21_std\",\n",
    "#         \"covidOccupiedMVBeds_ewma_7\",\n",
    "#         \"covidOccupiedMVBeds_ewma_14\",\n",
    "#         \"covidOccupiedMVBeds_ewma_21\",\n",
    "#         \"Vax_index\",\n",
    "        \n",
    "#     ],\n",
    "#     ffill_columns=[],\n",
    "#     zero_fill_columns=[],\n",
    "# )"
   ]
  },
  {
   "cell_type": "code",
   "execution_count": 27,
   "metadata": {},
   "outputs": [],
   "source": [
    "area = \"East of England\"\n",
    "sample_area_train = train.loc[train.areaName == area, :]\n",
    "sample_area_val = val.loc[val.areaName == area, :]\n",
    "sample_area_test = test.loc[test.areaName == area, :]\n",
    "\n",
    "sample_area_train = sample_area_train.drop(columns=[\"areaName\"])\n",
    "sample_area_val = sample_area_val.drop(columns=[\"areaName\"])\n",
    "sample_area_test = sample_area_test.drop(columns=[\"areaName\"])"
   ]
  },
  {
   "cell_type": "code",
   "execution_count": 28,
   "metadata": {},
   "outputs": [],
   "source": [
    "# solving the missing values in the data\n",
    "sample_area_train = sample_area_train.ffill()\n",
    "sample_area_val = sample_area_val.ffill()       \n",
    "sample_area_test = sample_area_test.ffill()\n",
    "\n",
    "# zero fill the remaining missing values\n",
    "sample_area_train = sample_area_train.fillna(0) \n",
    "sample_area_val = sample_area_val.fillna(0)\n",
    "sample_area_test = sample_area_test.fillna(0)\n"
   ]
  },
  {
   "cell_type": "code",
   "execution_count": 29,
   "metadata": {},
   "outputs": [
    {
     "data": {
      "text/plain": [
       "date                                   0\n",
       "covidOccupiedMVBeds                    0\n",
       "cumAdmissions                          0\n",
       "hospitalCases                          0\n",
       "newAdmissions                          0\n",
       "new_confirmed                          0\n",
       "new_deceased                           0\n",
       "cumulative_confirmed                   0\n",
       "cumulative_deceased                    0\n",
       "covidOccupiedMVBeds_lag_1              0\n",
       "covidOccupiedMVBeds_lag_3              0\n",
       "covidOccupiedMVBeds_lag_7              0\n",
       "covidOccupiedMVBeds_lag_14             0\n",
       "covidOccupiedMVBeds_lag_21             0\n",
       "covidOccupiedMVBeds_lag_28             0\n",
       "covidOccupiedMVBeds_rolling_7_mean     0\n",
       "covidOccupiedMVBeds_rolling_7_std      0\n",
       "covidOccupiedMVBeds_rolling_14_mean    0\n",
       "covidOccupiedMVBeds_rolling_14_std     0\n",
       "covidOccupiedMVBeds_rolling_21_mean    0\n",
       "covidOccupiedMVBeds_rolling_21_std     0\n",
       "covidOccupiedMVBeds_ewma_span_7        0\n",
       "covidOccupiedMVBeds_ewma_span_14       0\n",
       "covidOccupiedMVBeds_ewma_span_21       0\n",
       "Vax_index                              0\n",
       "dtype: int64"
      ]
     },
     "execution_count": 29,
     "metadata": {},
     "output_type": "execute_result"
    }
   ],
   "source": [
    "sample_area_train.isnull().sum()    "
   ]
  },
  {
   "cell_type": "code",
   "execution_count": 37,
   "metadata": {},
   "outputs": [
    {
     "name": "stdout",
     "output_type": "stream",
     "text": [
      "X_train: (116, 23) | X_val: (111, 23) | y_train: (116, 1) | y_val: (111, 1)\n",
      "X_train: (227, 23) | X_val: (111, 23) | y_train: (227, 1) | y_val: (111, 1)\n",
      "X_train: (338, 23) | X_val: (111, 23) | y_train: (338, 1) | y_val: (111, 1)\n",
      "X_train: (449, 23) | X_val: (111, 23) | y_train: (449, 1) | y_val: (111, 1)\n",
      "X_train: (560, 23) | X_val: (111, 23) | y_train: (560, 1) | y_val: (111, 1)\n"
     ]
    }
   ],
   "source": [
    "from sklearn.model_selection import TimeSeriesSplit\n",
    "from sklearn.preprocessing import StandardScaler\n",
    "\n",
    "# split into X and y\n",
    "X = sample_area_train.drop(columns=[\"covidOccupiedMVBeds\", \"date\"])\n",
    "y = sample_area_train[\"covidOccupiedMVBeds\"]\n",
    "\n",
    "# Normalizing the features\n",
    "scaler = StandardScaler()\n",
    "X = scaler.fit_transform(X)\n",
    "y = scaler.fit_transform(y.values.reshape(-1, 1))\n",
    "\n",
    "# split the data into training and validation sets\n",
    "tscv = TimeSeriesSplit(n_splits=5)\n",
    "for train_index, val_index in tscv.split(X):\n",
    "    X_train, X_val = X[train_index], X[val_index]\n",
    "    y_train, y_val = y[train_index], y[val_index]   \n",
    "    \n",
    "    print(f\"X_train: {X_train.shape} | X_val: {X_val.shape} | y_train: {y_train.shape} | y_val: {y_val.shape}\")\n"
   ]
  },
  {
   "cell_type": "code",
   "execution_count": 43,
   "metadata": {},
   "outputs": [],
   "source": [
    "# pred_df = pd.concat([sample_area_train, sample_area_val, sample_area_test])\n",
    "metric_record = []"
   ]
  },
  {
   "cell_type": "code",
   "execution_count": 46,
   "metadata": {},
   "outputs": [
    {
     "name": "stdout",
     "output_type": "stream",
     "text": [
      "{'Algorithm': 'Linear Regression', 'MAE': 578579.6264182222, 'MSE': 345774599932.2645, 'MASE': None, 'Forecast Bias': 99.98364867553772, 'Model': 'Linear Regression'}\n"
     ]
    }
   ],
   "source": [
    "# Train machine learning models for forecasting COVID-19 MVBeds for the selected area\n",
    "from sklearn.linear_model import LinearRegression, RidgeCV, LassoCV\n",
    "\n",
    "model = LinearRegression()\n",
    "model.fit(X_train, y_train)\n",
    "y_pred = model.predict(X_val)\n",
    "y_pred = scaler.inverse_transform(y_pred)\n",
    "y_val = scaler.inverse_transform(y_val)\n",
    "\n",
    "# Calculate the metrics for the model\n",
    "metrics = calculate_metrics(y_val, y_pred, name=\"Linear Regression\")\n",
    "metrics[\"Model\"] = \"Linear Regression\"\n",
    "metric_record.append(metrics)\n",
    "print(metrics)\n"
   ]
  },
  {
   "cell_type": "code",
   "execution_count": null,
   "metadata": {},
   "outputs": [],
   "source": []
  },
  {
   "cell_type": "code",
   "execution_count": null,
   "metadata": {},
   "outputs": [],
   "source": []
  }
 ],
 "metadata": {
  "kernelspec": {
   "display_name": "modern_ts_2E",
   "language": "python",
   "name": "python3"
  },
  "language_info": {
   "codemirror_mode": {
    "name": "ipython",
    "version": 3
   },
   "file_extension": ".py",
   "mimetype": "text/x-python",
   "name": "python",
   "nbconvert_exporter": "python",
   "pygments_lexer": "ipython3",
   "version": "3.11.0"
  }
 },
 "nbformat": 4,
 "nbformat_minor": 2
}
