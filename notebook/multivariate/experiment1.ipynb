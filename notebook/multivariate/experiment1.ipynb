{
 "cells": [
  {
   "cell_type": "code",
   "execution_count": 1,
   "metadata": {},
   "outputs": [
    {
     "name": "stdout",
     "output_type": "stream",
     "text": [
      "c:\\Users\\ajaoo\\Desktop\\Projects\\Multivate-forecasting\n"
     ]
    }
   ],
   "source": [
    "# Path to source code\n",
    "%cd ../../"
   ]
  },
  {
   "cell_type": "code",
   "execution_count": 2,
   "metadata": {},
   "outputs": [
    {
     "name": "stderr",
     "output_type": "stream",
     "text": [
      "Seed set to 42\n"
     ]
    }
   ],
   "source": [
    "# Imports for handling data\n",
    "import os\n",
    "import shutil\n",
    "import numpy as np\n",
    "import pandas as pd\n",
    "from pathlib import Path\n",
    "from itertools import cycle\n",
    "# from sklearn.model_selection import TimeSeriesSplit, train_test_split\n",
    "\n",
    "# Imports for machine learning\n",
    "import torch\n",
    "from torch.utils.data import Dataset, DataLoader\n",
    "from torch import nn, optim\n",
    "import torch.nn.functional as F\n",
    "import pytorch_lightning as pl\n",
    "from pytorch_lightning.callbacks import EarlyStopping\n",
    "from pytorch_lightning.loggers import TensorBoardLogger\n",
    "\n",
    "from sklearn.metrics import mean_absolute_error as mae, mean_squared_error as mse\n",
    "# from sklearn.linear_model import LinearRegression\n",
    "# from scipy.stats import spearmanr\n",
    "\n",
    "# Imports for visualization\n",
    "import matplotlib.pyplot as plt\n",
    "import seaborn as sns\n",
    "import plotly.express as px\n",
    "import plotly.graph_objects as go\n",
    "# from plotly.subplots import make_subplots\n",
    "\n",
    "# Progress bar\n",
    "from tqdm.autonotebook import tqdm\n",
    "# Enable progress apply for pandas\n",
    "tqdm.pandas()\n",
    "\n",
    "\n",
    "# Local imports for data loaders and models\n",
    "from src.utils import plotting_utils\n",
    "from src.dl.dataloaders import TimeSeriesDataModule\n",
    "from src.dl.multivariate_models import SingleStepRNNConfig, SingleStepRNNModel, Seq2SeqConfig, Seq2SeqModel, RNNConfig\n",
    "from src.transforms.target_transformations import AutoStationaryTransformer\n",
    "\n",
    "\n",
    "pl.seed_everything(42)\n",
    "torch.manual_seed(42)\n",
    "np.random.seed(42)\n",
    "if torch.cuda.is_available():\n",
    "    torch.cuda.manual_seed_all(42)\n",
    "    \n",
    "torch.set_float32_matmul_precision('high')\n",
    "\n",
    "# Set default plotly template\n",
    "import plotly.io as pio\n",
    "pio.templates.default = \"plotly_white\"\n",
    "\n",
    "# Ignore warnings\n",
    "import warnings\n",
    "\n",
    "warnings.filterwarnings(\"ignore\")\n",
    "\n",
    "# %load_ext tensorboard"
   ]
  },
  {
   "cell_type": "code",
   "execution_count": 3,
   "metadata": {},
   "outputs": [],
   "source": [
    "def format_plot(\n",
    "    fig, legends=None, xlabel=\"Time\", ylabel=\"Value\", title=\"\", font_size=15\n",
    "):\n",
    "    if legends:\n",
    "        names = cycle(legends)\n",
    "        fig.for_each_trace(lambda t: t.update(name=next(names)))\n",
    "    fig.update_layout(\n",
    "        autosize=False,\n",
    "        width=900,\n",
    "        height=500,\n",
    "        title_text=title,\n",
    "        title={\"x\": 0.5, \"xanchor\": \"center\", \"yanchor\": \"top\"},\n",
    "        titlefont={\"size\": 20},\n",
    "        legend_title=None,\n",
    "        legend=dict(\n",
    "            font=dict(size=font_size),\n",
    "            orientation=\"h\",\n",
    "            yanchor=\"bottom\",\n",
    "            y=0.98,\n",
    "            xanchor=\"right\",\n",
    "            x=1,\n",
    "        ),\n",
    "        yaxis=dict(\n",
    "            title_text=ylabel,\n",
    "            titlefont=dict(size=font_size),\n",
    "            tickfont=dict(size=font_size),\n",
    "        ),\n",
    "        xaxis=dict(\n",
    "            title_text=xlabel,\n",
    "            titlefont=dict(size=font_size),\n",
    "            tickfont=dict(size=font_size),\n",
    "        ),\n",
    "    )\n",
    "    return fig\n",
    "\n",
    "\n",
    "def mase(actual, predicted, insample_actual):\n",
    "    mae_insample = np.mean(np.abs(np.diff(insample_actual)))\n",
    "    mae_outsample = np.mean(np.abs(actual - predicted))\n",
    "    return mae_outsample / mae_insample\n",
    "\n",
    "\n",
    "def forecast_bias(actual, predicted):\n",
    "    return np.mean(predicted - actual)\n",
    "\n",
    "\n",
    "def plot_forecast(\n",
    "    pred_df, forecast_columns, forecast_display_names=None, save_path=None\n",
    "):\n",
    "    if forecast_display_names is None:\n",
    "        forecast_display_names = forecast_columns\n",
    "    else:\n",
    "        assert len(forecast_columns) == len(forecast_display_names)\n",
    "\n",
    "    mask = ~pred_df[forecast_columns[0]].isnull()\n",
    "    colors = px.colors.qualitative.Set2  # Using a different color palette\n",
    "    act_color = colors[0]\n",
    "    colors = cycle(colors[1:])\n",
    "\n",
    "    fig = go.Figure()\n",
    "\n",
    "    # Actual data plot\n",
    "    fig.add_trace(\n",
    "        go.Scatter(\n",
    "            x=pred_df[mask].index,\n",
    "            y=pred_df[mask].covidOccupiedMVBeds,\n",
    "            mode=\"lines\",\n",
    "            marker=dict(size=6, opacity=0.5),\n",
    "            line=dict(color=act_color, width=2),\n",
    "            name=\"Actual COVID-19 MVBeds trends\",\n",
    "        )\n",
    "    )\n",
    "\n",
    "    # Predicted data plot\n",
    "    for col, display_col in zip(forecast_columns, forecast_display_names):\n",
    "        fig.add_trace(\n",
    "            go.Scatter(\n",
    "                x=pred_df[mask].index,\n",
    "                y=pred_df.loc[mask, col],\n",
    "                mode=\"lines+markers\",\n",
    "                marker=dict(size=4),\n",
    "                line=dict(color=next(colors), width=2),\n",
    "                name=display_col,\n",
    "            )\n",
    "        )\n",
    "\n",
    "    return fig\n",
    "\n",
    "\n",
    "def highlight_abs_min(s, props=\"\"):\n",
    "    return np.where(s == np.nanmin(np.abs(s.values)), props, \"\")"
   ]
  },
  {
   "cell_type": "code",
   "execution_count": 4,
   "metadata": {},
   "outputs": [],
   "source": [
    "# Load and Prepare Data\n",
    "data_path = Path(\"data/processed/merged_nhs_covid_data.csv\")\n",
    "data = pd.read_csv(data_path).drop(\"Unnamed: 0\", axis=1)\n",
    "data[\"date\"] = pd.to_datetime(data[\"date\"])"
   ]
  },
  {
   "cell_type": "code",
   "execution_count": 5,
   "metadata": {},
   "outputs": [
    {
     "data": {
      "text/plain": [
       "array(['East of England', 'London', 'Midlands',\n",
       "       'North East and Yorkshire', 'North West', 'South East',\n",
       "       'South West'], dtype=object)"
      ]
     },
     "execution_count": 5,
     "metadata": {},
     "output_type": "execute_result"
    }
   ],
   "source": [
    "# check the unique values in the areaName column\n",
    "data[\"areaName\"].unique()"
   ]
  },
  {
   "cell_type": "code",
   "execution_count": 6,
   "metadata": {},
   "outputs": [],
   "source": [
    "# Select a different area name\n",
    "selected_area = \"Midlands\"  # \"London\", \"South East\", \"North West\", \"East of England\", \"South West\", \"West Midlands\", \"East Midlands\", \"Yorkshire and The Humber\", \"North East\"\n",
    "data_filtered = data[data[\"areaName\"] == selected_area]\n",
    "\n",
    "# Data Processing\n",
    "data_filtered[\"date\"] = pd.to_datetime(data_filtered[\"date\"])\n",
    "data_filtered.sort_values(by=[\"date\", \"areaName\"], inplace=True)\n",
    "data_filtered.drop(\n",
    "    [\n",
    "        \"areaName\",\n",
    "        \"areaCode\",\n",
    "        \"cumAdmissions\",\n",
    "        \"cumulative_confirmed\",\n",
    "        \"cumulative_deceased\",\n",
    "        \"population\",\n",
    "        \"latitude\",\n",
    "        \"longitude\",\n",
    "        \"epi_week\",\n",
    "    ],\n",
    "    axis=1,\n",
    "    inplace=True,\n",
    ")"
   ]
  },
  {
   "cell_type": "code",
   "execution_count": 7,
   "metadata": {},
   "outputs": [
    {
     "name": "stdout",
     "output_type": "stream",
     "text": [
      "hospitalCases: hospitalCases_rolling_7_mean, hospitalCases_rolling_7_std\n",
      "newAdmissions: newAdmissions_rolling_7_mean, newAdmissions_rolling_7_std\n",
      "new_confirmed: new_confirmed_rolling_7_mean, new_confirmed_rolling_7_std\n",
      "new_deceased: new_deceased_rolling_7_mean, new_deceased_rolling_7_std\n"
     ]
    }
   ],
   "source": [
    "def add_rolling_features(df, window_size, columns, agg_funcs=None):\n",
    "    if agg_funcs is None:\n",
    "        agg_funcs = [\"mean\"]\n",
    "    added_features = {}\n",
    "    for column in columns:\n",
    "        for func in agg_funcs:\n",
    "            roll_col_name = f\"{column}_rolling_{window_size}_{func}\"\n",
    "            df[roll_col_name] = df[column].rolling(window_size).agg(func)\n",
    "            if column not in added_features:\n",
    "                added_features[column] = []\n",
    "            added_features[column].append(roll_col_name)\n",
    "    # Drop rows with NaN values which are the result of rolling window\n",
    "    df.dropna(inplace=True)\n",
    "    return df, added_features\n",
    "\n",
    "\n",
    "# Configuration\n",
    "window_size = 7\n",
    "columns_to_roll = [\"hospitalCases\", \"newAdmissions\", \"new_confirmed\", \"new_deceased\"]\n",
    "agg_funcs = [\"mean\", \"std\"]\n",
    "\n",
    "# Apply rolling features for each column\n",
    "data_filtered, added_features = add_rolling_features(\n",
    "    data_filtered, window_size, columns_to_roll, agg_funcs\n",
    ")\n",
    "\n",
    "# Print added features for each column\n",
    "for column, features in added_features.items():\n",
    "    print(f\"{column}: {', '.join(features)}\")"
   ]
  },
  {
   "cell_type": "code",
   "execution_count": 8,
   "metadata": {},
   "outputs": [],
   "source": [
    "# Define a function to add time-lagged features to the dataset\n",
    "def add_lags(data, lags, features):\n",
    "    added_features = []\n",
    "    for feature in features:\n",
    "        for lag in lags:\n",
    "            new_feature = feature + f\"_lag_{lag}\"\n",
    "            data[new_feature] = data[feature].shift(lag)\n",
    "            added_features.append(new_feature)\n",
    "    return data, added_features\n",
    "\n",
    "\n",
    "lags = [1, 2, 3, 5, 7, 14, 21]\n",
    "\n",
    "data_filtered, added_features = add_lags(data_filtered, lags, [\"covidOccupiedMVBeds\"])\n",
    "data_filtered.dropna(inplace=True)"
   ]
  },
  {
   "cell_type": "code",
   "execution_count": 9,
   "metadata": {},
   "outputs": [
    {
     "data": {
      "text/html": [
       "<div>\n",
       "<style scoped>\n",
       "    .dataframe tbody tr th:only-of-type {\n",
       "        vertical-align: middle;\n",
       "    }\n",
       "\n",
       "    .dataframe tbody tr th {\n",
       "        vertical-align: top;\n",
       "    }\n",
       "\n",
       "    .dataframe thead th {\n",
       "        text-align: right;\n",
       "    }\n",
       "</style>\n",
       "<table border=\"1\" class=\"dataframe\">\n",
       "  <thead>\n",
       "    <tr style=\"text-align: right;\">\n",
       "      <th></th>\n",
       "      <th>date</th>\n",
       "      <th>covidOccupiedMVBeds</th>\n",
       "      <th>hospitalCases</th>\n",
       "      <th>newAdmissions</th>\n",
       "      <th>new_confirmed</th>\n",
       "      <th>new_deceased</th>\n",
       "      <th>hospitalCases_rolling_7_mean</th>\n",
       "      <th>hospitalCases_rolling_7_std</th>\n",
       "      <th>newAdmissions_rolling_7_mean</th>\n",
       "      <th>newAdmissions_rolling_7_std</th>\n",
       "      <th>...</th>\n",
       "      <th>covidOccupiedMVBeds_lag_1</th>\n",
       "      <th>covidOccupiedMVBeds_lag_2</th>\n",
       "      <th>covidOccupiedMVBeds_lag_3</th>\n",
       "      <th>covidOccupiedMVBeds_lag_5</th>\n",
       "      <th>covidOccupiedMVBeds_lag_7</th>\n",
       "      <th>covidOccupiedMVBeds_lag_14</th>\n",
       "      <th>covidOccupiedMVBeds_lag_21</th>\n",
       "      <th>month</th>\n",
       "      <th>day</th>\n",
       "      <th>day_of_week</th>\n",
       "    </tr>\n",
       "  </thead>\n",
       "  <tbody>\n",
       "    <tr>\n",
       "      <th>3552</th>\n",
       "      <td>2020-04-14</td>\n",
       "      <td>467.0</td>\n",
       "      <td>3345.0</td>\n",
       "      <td>359</td>\n",
       "      <td>330.0</td>\n",
       "      <td>82.0</td>\n",
       "      <td>3368.285714</td>\n",
       "      <td>49.895605</td>\n",
       "      <td>332.142857</td>\n",
       "      <td>22.915996</td>\n",
       "      <td>...</td>\n",
       "      <td>467.0</td>\n",
       "      <td>485.0</td>\n",
       "      <td>485.0</td>\n",
       "      <td>475.0</td>\n",
       "      <td>469.0</td>\n",
       "      <td>445.0</td>\n",
       "      <td>360.0</td>\n",
       "      <td>4</td>\n",
       "      <td>14</td>\n",
       "      <td>1</td>\n",
       "    </tr>\n",
       "    <tr>\n",
       "      <th>3549</th>\n",
       "      <td>2020-04-15</td>\n",
       "      <td>472.0</td>\n",
       "      <td>3101.0</td>\n",
       "      <td>242</td>\n",
       "      <td>216.0</td>\n",
       "      <td>67.0</td>\n",
       "      <td>3326.142857</td>\n",
       "      <td>110.437657</td>\n",
       "      <td>318.857143</td>\n",
       "      <td>40.891843</td>\n",
       "      <td>...</td>\n",
       "      <td>467.0</td>\n",
       "      <td>467.0</td>\n",
       "      <td>485.0</td>\n",
       "      <td>475.0</td>\n",
       "      <td>469.0</td>\n",
       "      <td>450.0</td>\n",
       "      <td>360.0</td>\n",
       "      <td>4</td>\n",
       "      <td>15</td>\n",
       "      <td>2</td>\n",
       "    </tr>\n",
       "    <tr>\n",
       "      <th>3550</th>\n",
       "      <td>2020-04-15</td>\n",
       "      <td>472.0</td>\n",
       "      <td>3101.0</td>\n",
       "      <td>242</td>\n",
       "      <td>394.0</td>\n",
       "      <td>108.0</td>\n",
       "      <td>3279.142857</td>\n",
       "      <td>127.553164</td>\n",
       "      <td>310.142857</td>\n",
       "      <td>50.260749</td>\n",
       "      <td>...</td>\n",
       "      <td>472.0</td>\n",
       "      <td>467.0</td>\n",
       "      <td>467.0</td>\n",
       "      <td>485.0</td>\n",
       "      <td>475.0</td>\n",
       "      <td>450.0</td>\n",
       "      <td>406.0</td>\n",
       "      <td>4</td>\n",
       "      <td>15</td>\n",
       "      <td>2</td>\n",
       "    </tr>\n",
       "    <tr>\n",
       "      <th>3547</th>\n",
       "      <td>2020-04-16</td>\n",
       "      <td>474.0</td>\n",
       "      <td>3095.0</td>\n",
       "      <td>283</td>\n",
       "      <td>266.0</td>\n",
       "      <td>31.0</td>\n",
       "      <td>3231.285714</td>\n",
       "      <td>124.323120</td>\n",
       "      <td>307.285714</td>\n",
       "      <td>51.292346</td>\n",
       "      <td>...</td>\n",
       "      <td>472.0</td>\n",
       "      <td>472.0</td>\n",
       "      <td>467.0</td>\n",
       "      <td>485.0</td>\n",
       "      <td>475.0</td>\n",
       "      <td>465.0</td>\n",
       "      <td>406.0</td>\n",
       "      <td>4</td>\n",
       "      <td>16</td>\n",
       "      <td>3</td>\n",
       "    </tr>\n",
       "    <tr>\n",
       "      <th>3548</th>\n",
       "      <td>2020-04-16</td>\n",
       "      <td>474.0</td>\n",
       "      <td>3095.0</td>\n",
       "      <td>283</td>\n",
       "      <td>514.0</td>\n",
       "      <td>89.0</td>\n",
       "      <td>3199.714286</td>\n",
       "      <td>127.251345</td>\n",
       "      <td>300.142857</td>\n",
       "      <td>50.591266</td>\n",
       "      <td>...</td>\n",
       "      <td>474.0</td>\n",
       "      <td>472.0</td>\n",
       "      <td>472.0</td>\n",
       "      <td>467.0</td>\n",
       "      <td>485.0</td>\n",
       "      <td>465.0</td>\n",
       "      <td>419.0</td>\n",
       "      <td>4</td>\n",
       "      <td>16</td>\n",
       "      <td>3</td>\n",
       "    </tr>\n",
       "  </tbody>\n",
       "</table>\n",
       "<p>5 rows × 24 columns</p>\n",
       "</div>"
      ],
      "text/plain": [
       "           date  covidOccupiedMVBeds  hospitalCases  newAdmissions  \\\n",
       "3552 2020-04-14                467.0         3345.0            359   \n",
       "3549 2020-04-15                472.0         3101.0            242   \n",
       "3550 2020-04-15                472.0         3101.0            242   \n",
       "3547 2020-04-16                474.0         3095.0            283   \n",
       "3548 2020-04-16                474.0         3095.0            283   \n",
       "\n",
       "      new_confirmed  new_deceased  hospitalCases_rolling_7_mean  \\\n",
       "3552          330.0          82.0                   3368.285714   \n",
       "3549          216.0          67.0                   3326.142857   \n",
       "3550          394.0         108.0                   3279.142857   \n",
       "3547          266.0          31.0                   3231.285714   \n",
       "3548          514.0          89.0                   3199.714286   \n",
       "\n",
       "      hospitalCases_rolling_7_std  newAdmissions_rolling_7_mean  \\\n",
       "3552                    49.895605                    332.142857   \n",
       "3549                   110.437657                    318.857143   \n",
       "3550                   127.553164                    310.142857   \n",
       "3547                   124.323120                    307.285714   \n",
       "3548                   127.251345                    300.142857   \n",
       "\n",
       "      newAdmissions_rolling_7_std  ...  covidOccupiedMVBeds_lag_1  \\\n",
       "3552                    22.915996  ...                      467.0   \n",
       "3549                    40.891843  ...                      467.0   \n",
       "3550                    50.260749  ...                      472.0   \n",
       "3547                    51.292346  ...                      472.0   \n",
       "3548                    50.591266  ...                      474.0   \n",
       "\n",
       "      covidOccupiedMVBeds_lag_2  covidOccupiedMVBeds_lag_3  \\\n",
       "3552                      485.0                      485.0   \n",
       "3549                      467.0                      485.0   \n",
       "3550                      467.0                      467.0   \n",
       "3547                      472.0                      467.0   \n",
       "3548                      472.0                      472.0   \n",
       "\n",
       "      covidOccupiedMVBeds_lag_5  covidOccupiedMVBeds_lag_7  \\\n",
       "3552                      475.0                      469.0   \n",
       "3549                      475.0                      469.0   \n",
       "3550                      485.0                      475.0   \n",
       "3547                      485.0                      475.0   \n",
       "3548                      467.0                      485.0   \n",
       "\n",
       "      covidOccupiedMVBeds_lag_14  covidOccupiedMVBeds_lag_21  month  day  \\\n",
       "3552                       445.0                       360.0      4   14   \n",
       "3549                       450.0                       360.0      4   15   \n",
       "3550                       450.0                       406.0      4   15   \n",
       "3547                       465.0                       406.0      4   16   \n",
       "3548                       465.0                       419.0      4   16   \n",
       "\n",
       "      day_of_week  \n",
       "3552            1  \n",
       "3549            2  \n",
       "3550            2  \n",
       "3547            3  \n",
       "3548            3  \n",
       "\n",
       "[5 rows x 24 columns]"
      ]
     },
     "execution_count": 9,
     "metadata": {},
     "output_type": "execute_result"
    }
   ],
   "source": [
    "def create_temporal_features(df, date_column):\n",
    "    df[\"month\"] = df[date_column].dt.month\n",
    "    df[\"day\"] = df[date_column].dt.day\n",
    "    df[\"day_of_week\"] = df[date_column].dt.dayofweek\n",
    "    return df\n",
    "\n",
    "\n",
    "data_filtered = create_temporal_features(data_filtered, \"date\")\n",
    "data_filtered.head()"
   ]
  },
  {
   "cell_type": "code",
   "execution_count": 10,
   "metadata": {},
   "outputs": [
    {
     "data": {
      "text/html": [
       "<div>\n",
       "<style scoped>\n",
       "    .dataframe tbody tr th:only-of-type {\n",
       "        vertical-align: middle;\n",
       "    }\n",
       "\n",
       "    .dataframe tbody tr th {\n",
       "        vertical-align: top;\n",
       "    }\n",
       "\n",
       "    .dataframe thead th {\n",
       "        text-align: right;\n",
       "    }\n",
       "</style>\n",
       "<table border=\"1\" class=\"dataframe\">\n",
       "  <thead>\n",
       "    <tr style=\"text-align: right;\">\n",
       "      <th></th>\n",
       "      <th>covidOccupiedMVBeds</th>\n",
       "      <th>hospitalCases</th>\n",
       "      <th>newAdmissions</th>\n",
       "      <th>new_confirmed</th>\n",
       "      <th>new_deceased</th>\n",
       "      <th>hospitalCases_rolling_7_mean</th>\n",
       "      <th>hospitalCases_rolling_7_std</th>\n",
       "      <th>newAdmissions_rolling_7_mean</th>\n",
       "      <th>newAdmissions_rolling_7_std</th>\n",
       "      <th>new_confirmed_rolling_7_mean</th>\n",
       "      <th>...</th>\n",
       "      <th>covidOccupiedMVBeds_lag_1</th>\n",
       "      <th>covidOccupiedMVBeds_lag_2</th>\n",
       "      <th>covidOccupiedMVBeds_lag_3</th>\n",
       "      <th>covidOccupiedMVBeds_lag_5</th>\n",
       "      <th>covidOccupiedMVBeds_lag_7</th>\n",
       "      <th>covidOccupiedMVBeds_lag_14</th>\n",
       "      <th>covidOccupiedMVBeds_lag_21</th>\n",
       "      <th>month</th>\n",
       "      <th>day</th>\n",
       "      <th>day_of_week</th>\n",
       "    </tr>\n",
       "    <tr>\n",
       "      <th>date</th>\n",
       "      <th></th>\n",
       "      <th></th>\n",
       "      <th></th>\n",
       "      <th></th>\n",
       "      <th></th>\n",
       "      <th></th>\n",
       "      <th></th>\n",
       "      <th></th>\n",
       "      <th></th>\n",
       "      <th></th>\n",
       "      <th></th>\n",
       "      <th></th>\n",
       "      <th></th>\n",
       "      <th></th>\n",
       "      <th></th>\n",
       "      <th></th>\n",
       "      <th></th>\n",
       "      <th></th>\n",
       "      <th></th>\n",
       "      <th></th>\n",
       "      <th></th>\n",
       "    </tr>\n",
       "  </thead>\n",
       "  <tbody>\n",
       "    <tr>\n",
       "      <th>2020-04-14</th>\n",
       "      <td>467.0</td>\n",
       "      <td>3345.0</td>\n",
       "      <td>359</td>\n",
       "      <td>330.0</td>\n",
       "      <td>82.0</td>\n",
       "      <td>3368.285714</td>\n",
       "      <td>49.895605</td>\n",
       "      <td>332.142857</td>\n",
       "      <td>22.915996</td>\n",
       "      <td>245.000000</td>\n",
       "      <td>...</td>\n",
       "      <td>467.0</td>\n",
       "      <td>485.0</td>\n",
       "      <td>485.0</td>\n",
       "      <td>475.0</td>\n",
       "      <td>469.0</td>\n",
       "      <td>445.0</td>\n",
       "      <td>360.0</td>\n",
       "      <td>4</td>\n",
       "      <td>14</td>\n",
       "      <td>1</td>\n",
       "    </tr>\n",
       "    <tr>\n",
       "      <th>2020-04-15</th>\n",
       "      <td>472.0</td>\n",
       "      <td>3101.0</td>\n",
       "      <td>242</td>\n",
       "      <td>216.0</td>\n",
       "      <td>67.0</td>\n",
       "      <td>3326.142857</td>\n",
       "      <td>110.437657</td>\n",
       "      <td>318.857143</td>\n",
       "      <td>40.891843</td>\n",
       "      <td>239.571429</td>\n",
       "      <td>...</td>\n",
       "      <td>467.0</td>\n",
       "      <td>467.0</td>\n",
       "      <td>485.0</td>\n",
       "      <td>475.0</td>\n",
       "      <td>469.0</td>\n",
       "      <td>450.0</td>\n",
       "      <td>360.0</td>\n",
       "      <td>4</td>\n",
       "      <td>15</td>\n",
       "      <td>2</td>\n",
       "    </tr>\n",
       "    <tr>\n",
       "      <th>2020-04-15</th>\n",
       "      <td>472.0</td>\n",
       "      <td>3101.0</td>\n",
       "      <td>242</td>\n",
       "      <td>394.0</td>\n",
       "      <td>108.0</td>\n",
       "      <td>3279.142857</td>\n",
       "      <td>127.553164</td>\n",
       "      <td>310.142857</td>\n",
       "      <td>50.260749</td>\n",
       "      <td>265.142857</td>\n",
       "      <td>...</td>\n",
       "      <td>472.0</td>\n",
       "      <td>467.0</td>\n",
       "      <td>467.0</td>\n",
       "      <td>485.0</td>\n",
       "      <td>475.0</td>\n",
       "      <td>450.0</td>\n",
       "      <td>406.0</td>\n",
       "      <td>4</td>\n",
       "      <td>15</td>\n",
       "      <td>2</td>\n",
       "    </tr>\n",
       "    <tr>\n",
       "      <th>2020-04-16</th>\n",
       "      <td>474.0</td>\n",
       "      <td>3095.0</td>\n",
       "      <td>283</td>\n",
       "      <td>266.0</td>\n",
       "      <td>31.0</td>\n",
       "      <td>3231.285714</td>\n",
       "      <td>124.323120</td>\n",
       "      <td>307.285714</td>\n",
       "      <td>51.292346</td>\n",
       "      <td>268.142857</td>\n",
       "      <td>...</td>\n",
       "      <td>472.0</td>\n",
       "      <td>472.0</td>\n",
       "      <td>467.0</td>\n",
       "      <td>485.0</td>\n",
       "      <td>475.0</td>\n",
       "      <td>465.0</td>\n",
       "      <td>406.0</td>\n",
       "      <td>4</td>\n",
       "      <td>16</td>\n",
       "      <td>3</td>\n",
       "    </tr>\n",
       "    <tr>\n",
       "      <th>2020-04-16</th>\n",
       "      <td>474.0</td>\n",
       "      <td>3095.0</td>\n",
       "      <td>283</td>\n",
       "      <td>514.0</td>\n",
       "      <td>89.0</td>\n",
       "      <td>3199.714286</td>\n",
       "      <td>127.251345</td>\n",
       "      <td>300.142857</td>\n",
       "      <td>50.591266</td>\n",
       "      <td>317.142857</td>\n",
       "      <td>...</td>\n",
       "      <td>474.0</td>\n",
       "      <td>472.0</td>\n",
       "      <td>472.0</td>\n",
       "      <td>467.0</td>\n",
       "      <td>485.0</td>\n",
       "      <td>465.0</td>\n",
       "      <td>419.0</td>\n",
       "      <td>4</td>\n",
       "      <td>16</td>\n",
       "      <td>3</td>\n",
       "    </tr>\n",
       "  </tbody>\n",
       "</table>\n",
       "<p>5 rows × 23 columns</p>\n",
       "</div>"
      ],
      "text/plain": [
       "            covidOccupiedMVBeds  hospitalCases  newAdmissions  new_confirmed  \\\n",
       "date                                                                           \n",
       "2020-04-14                467.0         3345.0            359          330.0   \n",
       "2020-04-15                472.0         3101.0            242          216.0   \n",
       "2020-04-15                472.0         3101.0            242          394.0   \n",
       "2020-04-16                474.0         3095.0            283          266.0   \n",
       "2020-04-16                474.0         3095.0            283          514.0   \n",
       "\n",
       "            new_deceased  hospitalCases_rolling_7_mean  \\\n",
       "date                                                     \n",
       "2020-04-14          82.0                   3368.285714   \n",
       "2020-04-15          67.0                   3326.142857   \n",
       "2020-04-15         108.0                   3279.142857   \n",
       "2020-04-16          31.0                   3231.285714   \n",
       "2020-04-16          89.0                   3199.714286   \n",
       "\n",
       "            hospitalCases_rolling_7_std  newAdmissions_rolling_7_mean  \\\n",
       "date                                                                    \n",
       "2020-04-14                    49.895605                    332.142857   \n",
       "2020-04-15                   110.437657                    318.857143   \n",
       "2020-04-15                   127.553164                    310.142857   \n",
       "2020-04-16                   124.323120                    307.285714   \n",
       "2020-04-16                   127.251345                    300.142857   \n",
       "\n",
       "            newAdmissions_rolling_7_std  new_confirmed_rolling_7_mean  ...  \\\n",
       "date                                                                   ...   \n",
       "2020-04-14                    22.915996                    245.000000  ...   \n",
       "2020-04-15                    40.891843                    239.571429  ...   \n",
       "2020-04-15                    50.260749                    265.142857  ...   \n",
       "2020-04-16                    51.292346                    268.142857  ...   \n",
       "2020-04-16                    50.591266                    317.142857  ...   \n",
       "\n",
       "            covidOccupiedMVBeds_lag_1  covidOccupiedMVBeds_lag_2  \\\n",
       "date                                                               \n",
       "2020-04-14                      467.0                      485.0   \n",
       "2020-04-15                      467.0                      467.0   \n",
       "2020-04-15                      472.0                      467.0   \n",
       "2020-04-16                      472.0                      472.0   \n",
       "2020-04-16                      474.0                      472.0   \n",
       "\n",
       "            covidOccupiedMVBeds_lag_3  covidOccupiedMVBeds_lag_5  \\\n",
       "date                                                               \n",
       "2020-04-14                      485.0                      475.0   \n",
       "2020-04-15                      485.0                      475.0   \n",
       "2020-04-15                      467.0                      485.0   \n",
       "2020-04-16                      467.0                      485.0   \n",
       "2020-04-16                      472.0                      467.0   \n",
       "\n",
       "            covidOccupiedMVBeds_lag_7  covidOccupiedMVBeds_lag_14  \\\n",
       "date                                                                \n",
       "2020-04-14                      469.0                       445.0   \n",
       "2020-04-15                      469.0                       450.0   \n",
       "2020-04-15                      475.0                       450.0   \n",
       "2020-04-16                      475.0                       465.0   \n",
       "2020-04-16                      485.0                       465.0   \n",
       "\n",
       "            covidOccupiedMVBeds_lag_21  month  day  day_of_week  \n",
       "date                                                             \n",
       "2020-04-14                       360.0      4   14            1  \n",
       "2020-04-15                       360.0      4   15            2  \n",
       "2020-04-15                       406.0      4   15            2  \n",
       "2020-04-16                       406.0      4   16            3  \n",
       "2020-04-16                       419.0      4   16            3  \n",
       "\n",
       "[5 rows x 23 columns]"
      ]
     },
     "execution_count": 10,
     "metadata": {},
     "output_type": "execute_result"
    }
   ],
   "source": [
    "data_filtered[\"date\"] = pd.to_datetime(data_filtered[\"date\"])\n",
    "data_filtered = data_filtered.set_index(\"date\")\n",
    "data_filtered.head()"
   ]
  },
  {
   "cell_type": "code",
   "execution_count": 11,
   "metadata": {},
   "outputs": [
    {
     "data": {
      "text/html": [
       "<div>\n",
       "<style scoped>\n",
       "    .dataframe tbody tr th:only-of-type {\n",
       "        vertical-align: middle;\n",
       "    }\n",
       "\n",
       "    .dataframe tbody tr th {\n",
       "        vertical-align: top;\n",
       "    }\n",
       "\n",
       "    .dataframe thead th {\n",
       "        text-align: right;\n",
       "    }\n",
       "</style>\n",
       "<table border=\"1\" class=\"dataframe\">\n",
       "  <thead>\n",
       "    <tr style=\"text-align: right;\">\n",
       "      <th></th>\n",
       "      <th>covidOccupiedMVBeds</th>\n",
       "      <th>hospitalCases</th>\n",
       "      <th>newAdmissions</th>\n",
       "      <th>new_confirmed</th>\n",
       "      <th>new_deceased</th>\n",
       "      <th>hospitalCases_rolling_7_mean</th>\n",
       "      <th>hospitalCases_rolling_7_std</th>\n",
       "      <th>newAdmissions_rolling_7_mean</th>\n",
       "      <th>newAdmissions_rolling_7_std</th>\n",
       "      <th>new_confirmed_rolling_7_mean</th>\n",
       "      <th>...</th>\n",
       "      <th>covidOccupiedMVBeds_lag_1</th>\n",
       "      <th>covidOccupiedMVBeds_lag_2</th>\n",
       "      <th>covidOccupiedMVBeds_lag_3</th>\n",
       "      <th>covidOccupiedMVBeds_lag_5</th>\n",
       "      <th>covidOccupiedMVBeds_lag_7</th>\n",
       "      <th>covidOccupiedMVBeds_lag_14</th>\n",
       "      <th>covidOccupiedMVBeds_lag_21</th>\n",
       "      <th>month</th>\n",
       "      <th>day</th>\n",
       "      <th>day_of_week</th>\n",
       "    </tr>\n",
       "    <tr>\n",
       "      <th>date</th>\n",
       "      <th></th>\n",
       "      <th></th>\n",
       "      <th></th>\n",
       "      <th></th>\n",
       "      <th></th>\n",
       "      <th></th>\n",
       "      <th></th>\n",
       "      <th></th>\n",
       "      <th></th>\n",
       "      <th></th>\n",
       "      <th></th>\n",
       "      <th></th>\n",
       "      <th></th>\n",
       "      <th></th>\n",
       "      <th></th>\n",
       "      <th></th>\n",
       "      <th></th>\n",
       "      <th></th>\n",
       "      <th></th>\n",
       "      <th></th>\n",
       "      <th></th>\n",
       "    </tr>\n",
       "  </thead>\n",
       "  <tbody>\n",
       "    <tr>\n",
       "      <th>2020-04-14</th>\n",
       "      <td>32.840992</td>\n",
       "      <td>3345.0</td>\n",
       "      <td>359</td>\n",
       "      <td>330.0</td>\n",
       "      <td>82.0</td>\n",
       "      <td>3368.285714</td>\n",
       "      <td>49.895605</td>\n",
       "      <td>332.142857</td>\n",
       "      <td>22.915996</td>\n",
       "      <td>245.000000</td>\n",
       "      <td>...</td>\n",
       "      <td>467.0</td>\n",
       "      <td>485.0</td>\n",
       "      <td>485.0</td>\n",
       "      <td>475.0</td>\n",
       "      <td>469.0</td>\n",
       "      <td>445.0</td>\n",
       "      <td>360.0</td>\n",
       "      <td>4</td>\n",
       "      <td>14</td>\n",
       "      <td>1</td>\n",
       "    </tr>\n",
       "    <tr>\n",
       "      <th>2020-04-15</th>\n",
       "      <td>33.018215</td>\n",
       "      <td>3101.0</td>\n",
       "      <td>242</td>\n",
       "      <td>216.0</td>\n",
       "      <td>67.0</td>\n",
       "      <td>3326.142857</td>\n",
       "      <td>110.437657</td>\n",
       "      <td>318.857143</td>\n",
       "      <td>40.891843</td>\n",
       "      <td>239.571429</td>\n",
       "      <td>...</td>\n",
       "      <td>467.0</td>\n",
       "      <td>467.0</td>\n",
       "      <td>485.0</td>\n",
       "      <td>475.0</td>\n",
       "      <td>469.0</td>\n",
       "      <td>450.0</td>\n",
       "      <td>360.0</td>\n",
       "      <td>4</td>\n",
       "      <td>15</td>\n",
       "      <td>2</td>\n",
       "    </tr>\n",
       "    <tr>\n",
       "      <th>2020-04-15</th>\n",
       "      <td>33.018215</td>\n",
       "      <td>3101.0</td>\n",
       "      <td>242</td>\n",
       "      <td>394.0</td>\n",
       "      <td>108.0</td>\n",
       "      <td>3279.142857</td>\n",
       "      <td>127.553164</td>\n",
       "      <td>310.142857</td>\n",
       "      <td>50.260749</td>\n",
       "      <td>265.142857</td>\n",
       "      <td>...</td>\n",
       "      <td>472.0</td>\n",
       "      <td>467.0</td>\n",
       "      <td>467.0</td>\n",
       "      <td>485.0</td>\n",
       "      <td>475.0</td>\n",
       "      <td>450.0</td>\n",
       "      <td>406.0</td>\n",
       "      <td>4</td>\n",
       "      <td>15</td>\n",
       "      <td>2</td>\n",
       "    </tr>\n",
       "    <tr>\n",
       "      <th>2020-04-16</th>\n",
       "      <td>33.090707</td>\n",
       "      <td>3095.0</td>\n",
       "      <td>283</td>\n",
       "      <td>266.0</td>\n",
       "      <td>31.0</td>\n",
       "      <td>3231.285714</td>\n",
       "      <td>124.323120</td>\n",
       "      <td>307.285714</td>\n",
       "      <td>51.292346</td>\n",
       "      <td>268.142857</td>\n",
       "      <td>...</td>\n",
       "      <td>472.0</td>\n",
       "      <td>472.0</td>\n",
       "      <td>467.0</td>\n",
       "      <td>485.0</td>\n",
       "      <td>475.0</td>\n",
       "      <td>465.0</td>\n",
       "      <td>406.0</td>\n",
       "      <td>4</td>\n",
       "      <td>16</td>\n",
       "      <td>3</td>\n",
       "    </tr>\n",
       "    <tr>\n",
       "      <th>2020-04-16</th>\n",
       "      <td>33.090707</td>\n",
       "      <td>3095.0</td>\n",
       "      <td>283</td>\n",
       "      <td>514.0</td>\n",
       "      <td>89.0</td>\n",
       "      <td>3199.714286</td>\n",
       "      <td>127.251345</td>\n",
       "      <td>300.142857</td>\n",
       "      <td>50.591266</td>\n",
       "      <td>317.142857</td>\n",
       "      <td>...</td>\n",
       "      <td>474.0</td>\n",
       "      <td>472.0</td>\n",
       "      <td>472.0</td>\n",
       "      <td>467.0</td>\n",
       "      <td>485.0</td>\n",
       "      <td>465.0</td>\n",
       "      <td>419.0</td>\n",
       "      <td>4</td>\n",
       "      <td>16</td>\n",
       "      <td>3</td>\n",
       "    </tr>\n",
       "  </tbody>\n",
       "</table>\n",
       "<p>5 rows × 23 columns</p>\n",
       "</div>"
      ],
      "text/plain": [
       "            covidOccupiedMVBeds  hospitalCases  newAdmissions  new_confirmed  \\\n",
       "date                                                                           \n",
       "2020-04-14            32.840992         3345.0            359          330.0   \n",
       "2020-04-15            33.018215         3101.0            242          216.0   \n",
       "2020-04-15            33.018215         3101.0            242          394.0   \n",
       "2020-04-16            33.090707         3095.0            283          266.0   \n",
       "2020-04-16            33.090707         3095.0            283          514.0   \n",
       "\n",
       "            new_deceased  hospitalCases_rolling_7_mean  \\\n",
       "date                                                     \n",
       "2020-04-14          82.0                   3368.285714   \n",
       "2020-04-15          67.0                   3326.142857   \n",
       "2020-04-15         108.0                   3279.142857   \n",
       "2020-04-16          31.0                   3231.285714   \n",
       "2020-04-16          89.0                   3199.714286   \n",
       "\n",
       "            hospitalCases_rolling_7_std  newAdmissions_rolling_7_mean  \\\n",
       "date                                                                    \n",
       "2020-04-14                    49.895605                    332.142857   \n",
       "2020-04-15                   110.437657                    318.857143   \n",
       "2020-04-15                   127.553164                    310.142857   \n",
       "2020-04-16                   124.323120                    307.285714   \n",
       "2020-04-16                   127.251345                    300.142857   \n",
       "\n",
       "            newAdmissions_rolling_7_std  new_confirmed_rolling_7_mean  ...  \\\n",
       "date                                                                   ...   \n",
       "2020-04-14                    22.915996                    245.000000  ...   \n",
       "2020-04-15                    40.891843                    239.571429  ...   \n",
       "2020-04-15                    50.260749                    265.142857  ...   \n",
       "2020-04-16                    51.292346                    268.142857  ...   \n",
       "2020-04-16                    50.591266                    317.142857  ...   \n",
       "\n",
       "            covidOccupiedMVBeds_lag_1  covidOccupiedMVBeds_lag_2  \\\n",
       "date                                                               \n",
       "2020-04-14                      467.0                      485.0   \n",
       "2020-04-15                      467.0                      467.0   \n",
       "2020-04-15                      472.0                      467.0   \n",
       "2020-04-16                      472.0                      472.0   \n",
       "2020-04-16                      474.0                      472.0   \n",
       "\n",
       "            covidOccupiedMVBeds_lag_3  covidOccupiedMVBeds_lag_5  \\\n",
       "date                                                               \n",
       "2020-04-14                      485.0                      475.0   \n",
       "2020-04-15                      485.0                      475.0   \n",
       "2020-04-15                      467.0                      485.0   \n",
       "2020-04-16                      467.0                      485.0   \n",
       "2020-04-16                      472.0                      467.0   \n",
       "\n",
       "            covidOccupiedMVBeds_lag_7  covidOccupiedMVBeds_lag_14  \\\n",
       "date                                                                \n",
       "2020-04-14                      469.0                       445.0   \n",
       "2020-04-15                      469.0                       450.0   \n",
       "2020-04-15                      475.0                       450.0   \n",
       "2020-04-16                      475.0                       465.0   \n",
       "2020-04-16                      485.0                       465.0   \n",
       "\n",
       "            covidOccupiedMVBeds_lag_21  month  day  day_of_week  \n",
       "date                                                             \n",
       "2020-04-14                       360.0      4   14            1  \n",
       "2020-04-15                       360.0      4   15            2  \n",
       "2020-04-15                       406.0      4   15            2  \n",
       "2020-04-16                       406.0      4   16            3  \n",
       "2020-04-16                       419.0      4   16            3  \n",
       "\n",
       "[5 rows x 23 columns]"
      ]
     },
     "execution_count": 11,
     "metadata": {},
     "output_type": "execute_result"
    }
   ],
   "source": [
    "# Set the target variable\n",
    "target = \"covidOccupiedMVBeds\"\n",
    "\n",
    "seasonal_period = 7\n",
    "auto_stationary = AutoStationaryTransformer(seasonal_period=seasonal_period)\n",
    "\n",
    "# Fit and transform the target column to make it stationary\n",
    "data_stat = auto_stationary.fit_transform(data_filtered[[target]], freq=\"D\")\n",
    "\n",
    "# Replace the original target values with the transformed stationary values\n",
    "data_filtered[target] = data_stat.values\n",
    "\n",
    "# Print the transformed data to check\n",
    "data_filtered.head()"
   ]
  },
  {
   "cell_type": "code",
   "execution_count": 12,
   "metadata": {},
   "outputs": [
    {
     "name": "stdout",
     "output_type": "stream",
     "text": [
      "<class 'pandas.core.frame.DataFrame'>\n",
      "DatetimeIndex: 1763 entries, 2020-04-14 to 2022-09-12\n",
      "Data columns (total 23 columns):\n",
      " #   Column                        Non-Null Count  Dtype  \n",
      "---  ------                        --------------  -----  \n",
      " 0   covidOccupiedMVBeds           1763 non-null   float64\n",
      " 1   hospitalCases                 1763 non-null   float64\n",
      " 2   newAdmissions                 1763 non-null   int64  \n",
      " 3   new_confirmed                 1763 non-null   float64\n",
      " 4   new_deceased                  1763 non-null   float64\n",
      " 5   hospitalCases_rolling_7_mean  1763 non-null   float64\n",
      " 6   hospitalCases_rolling_7_std   1763 non-null   float64\n",
      " 7   newAdmissions_rolling_7_mean  1763 non-null   float64\n",
      " 8   newAdmissions_rolling_7_std   1763 non-null   float64\n",
      " 9   new_confirmed_rolling_7_mean  1763 non-null   float64\n",
      " 10  new_confirmed_rolling_7_std   1763 non-null   float64\n",
      " 11  new_deceased_rolling_7_mean   1763 non-null   float64\n",
      " 12  new_deceased_rolling_7_std    1763 non-null   float64\n",
      " 13  covidOccupiedMVBeds_lag_1     1763 non-null   float64\n",
      " 14  covidOccupiedMVBeds_lag_2     1763 non-null   float64\n",
      " 15  covidOccupiedMVBeds_lag_3     1763 non-null   float64\n",
      " 16  covidOccupiedMVBeds_lag_5     1763 non-null   float64\n",
      " 17  covidOccupiedMVBeds_lag_7     1763 non-null   float64\n",
      " 18  covidOccupiedMVBeds_lag_14    1763 non-null   float64\n",
      " 19  covidOccupiedMVBeds_lag_21    1763 non-null   float64\n",
      " 20  month                         1763 non-null   int32  \n",
      " 21  day                           1763 non-null   int32  \n",
      " 22  day_of_week                   1763 non-null   int32  \n",
      "dtypes: float64(19), int32(3), int64(1)\n",
      "memory usage: 309.9 KB\n"
     ]
    }
   ],
   "source": [
    "data_filtered.info()"
   ]
  },
  {
   "cell_type": "code",
   "execution_count": 13,
   "metadata": {},
   "outputs": [
    {
     "name": "stdout",
     "output_type": "stream",
     "text": [
      "Data ranges from 2020-04-14 00:00:00 to 2022-09-12 00:00:00 (881 days)\n"
     ]
    }
   ],
   "source": [
    "# Get the minimum and maximum date from the data\n",
    "min_date = data_filtered.index.min()\n",
    "max_date = data_filtered.index.max()\n",
    "# Calculate the range of dates\n",
    "date_range = max_date - min_date\n",
    "print(f\"Data ranges from {min_date} to {max_date} ({date_range.days} days)\")"
   ]
  },
  {
   "cell_type": "code",
   "execution_count": 14,
   "metadata": {},
   "outputs": [],
   "source": [
    "# Filter data between the specified dates\n",
    "start_date = \"2020-04-14\"\n",
    "end_date = \"2021-12-30\"\n",
    "data_filtered = data_filtered[start_date:end_date]"
   ]
  },
  {
   "cell_type": "code",
   "execution_count": 15,
   "metadata": {},
   "outputs": [
    {
     "name": "stdout",
     "output_type": "stream",
     "text": [
      "Train: 63.39%, Validation: 21.10%, Test: 15.51%\n",
      "Train: 793 samples, Validation: 264 samples, Test: 194 samples\n",
      "Max date in train: 2021-05-15 00:00:00, Min date in train: 2020-04-14 00:00:00, Max date in val: 2021-09-24 00:00:00, Min date in val: 2021-05-16 00:00:00, Max date in test: 2021-12-30 00:00:00, Min date in test: 2021-09-25 00:00:00\n"
     ]
    }
   ],
   "source": [
    "# selecting 1 year data for training and 2 months data for validation and 3 months data for testing\n",
    "# Calculate the date ranges for train, val, and test sets\n",
    "train_end = min_date + pd.Timedelta(days=date_range.days * 0.45)\n",
    "val_end = train_end + pd.Timedelta(days=date_range.days * 0.15)\n",
    "\n",
    "# Split the data into training, validation, and testing sets\n",
    "train = data_filtered[data_filtered.index <= train_end]\n",
    "val = data_filtered[(data_filtered.index > train_end) & (data_filtered.index < val_end)]\n",
    "test = data_filtered[data_filtered.index > val_end]\n",
    "\n",
    "# Calculate the percentage of dates in each dataset\n",
    "total_sample = len(data_filtered)\n",
    "train_sample = len(train) / total_sample * 100\n",
    "val_sample = len(val) / total_sample * 100\n",
    "test_sample = len(test) / total_sample * 100\n",
    "\n",
    "print(\n",
    "    f\"Train: {train_sample:.2f}%, Validation: {val_sample:.2f}%, Test: {test_sample:.2f}%\"\n",
    ")\n",
    "print(\n",
    "    f\"Train: {len(train)} samples, Validation: {len(val)} samples, Test: {len(test)} samples\"\n",
    ")\n",
    "print(\n",
    "    f\"Max date in train: {train.index.max()}, Min date in train: {train.index.min()}, Max date in val: {val.index.max()}, Min date in val: {val.index.min()}, Max date in test: {test.index.max()}, Min date in test: {test.index.min()}\"\n",
    ")"
   ]
  },
  {
   "cell_type": "code",
   "execution_count": 16,
   "metadata": {},
   "outputs": [
    {
     "name": "stdout",
     "output_type": "stream",
     "text": [
      "Train dates: (Timestamp('2020-04-14 00:00:00'), Timestamp('2021-05-15 00:00:00')), Val dates: (Timestamp('2021-05-16 00:00:00'), Timestamp('2021-09-24 00:00:00')), Test dates: (Timestamp('2021-09-25 00:00:00'), Timestamp('2021-12-30 00:00:00'))\n"
     ]
    }
   ],
   "source": [
    "train_dates = (train.index.min(), train.index.max())\n",
    "val_dates = (val.index.min(), val.index.max())\n",
    "test_dates = (test.index.min(), test.index.max())\n",
    "\n",
    "print(f\"Train dates: {train_dates}, Val dates: {val_dates}, Test dates: {test_dates}\")\n",
    "\n"
   ]
  },
  {
   "cell_type": "code",
   "execution_count": null,
   "metadata": {},
   "outputs": [],
   "source": []
  },
  {
   "cell_type": "code",
   "execution_count": 17,
   "metadata": {},
   "outputs": [],
   "source": [
    "# # check that the train, val and test data are in the correct order\n",
    "# assert train.index.max() < val.index.min() < test.index.min()\n",
    "\n",
    "# # Define the features to use for training\n",
    "# features = [\n",
    "#     \"hospitalCases\",\n",
    "#     \"newAdmissions\",\n",
    "#     \"new_confirmed\",\n",
    "#     \"new_deceased\",\n",
    "#     \"hospitalCases_rolling_7_mean\",\n",
    "#     \"hospitalCases_rolling_7_std\",\n",
    "#     \"newAdmissions_rolling_7_mean\",\n",
    "#     \"newAdmissions_rolling_7_std\",\n",
    "#     \"new_confirmed_rolling_7_mean\",\n",
    "#     \"new_confirmed_rolling_7_std\",\n",
    "#     \"new_deceased_rolling_7_mean\",\n",
    "#     \"new_deceased_rolling_7_std\",\n",
    "#     \"covidOccupiedMVBeds_lag_1\",\n",
    "#     \"covidOccupiedMVBeds_lag_2\",\n",
    "#     \"covidOccupiedMVBeds_lag_3\",\n",
    "#     \"covidOccupiedMVBeds_lag_5\",\n",
    "#     \"covidOccupiedMVBeds_lag_7\",\n",
    "#     \"covidOccupiedMVBeds_lag_14\",\n",
    "#     \"covidOccupiedMVBeds_lag_21\",\n",
    "#     \"month\",\n",
    "#     \"day\",\n",
    "#     \"day_of_week\",\n",
    "# ]\n",
    "\n",
    "# # Define the target column\n",
    "# target = \"covidOccupiedMVBeds\"\n",
    "\n",
    "# # Define the input sequence length\n",
    "# input_seq_len = 21\n",
    "\n",
    "# # Define the output sequence length\n",
    "# output_seq_len = 1\n",
    "\n",
    "# # Define the batch size\n",
    "# batch_size = 64\n",
    "\n",
    "# # Define the number of workers for the data loader\n",
    "# num_workers = 2\n",
    "\n",
    "# # Define the data module\n",
    "# data_module = TimeSeriesDataModule(\n",
    "#     train_df=train,\n",
    "#     val_df=val,\n",
    "#     test_df=test,\n",
    "#     features=features,\n",
    "#     target=target,\n",
    "#     input_seq_len=input_seq_len,\n",
    "#     output_seq_len=output_seq_len,\n",
    "#     batch_size=batch_size,\n",
    "#     num_workers=num_workers,\n",
    "# )\n",
    "\n",
    "# # Load the data\n",
    "# data_module.setup()\n"
   ]
  },
  {
   "cell_type": "code",
   "execution_count": 18,
   "metadata": {},
   "outputs": [
    {
     "data": {
      "application/vnd.plotly.v1+json": {
       "config": {
        "plotlyServerURL": "https://plot.ly"
       },
       "data": [
        {
         "mode": "lines",
         "name": "Train Data",
         "type": "scatter",
         "x": [
          "2020-04-14T00:00:00",
          "2020-04-15T00:00:00",
          "2020-04-15T00:00:00",
          "2020-04-16T00:00:00",
          "2020-04-16T00:00:00",
          "2020-04-17T00:00:00",
          "2020-04-17T00:00:00",
          "2020-04-18T00:00:00",
          "2020-04-18T00:00:00",
          "2020-04-19T00:00:00",
          "2020-04-19T00:00:00",
          "2020-04-20T00:00:00",
          "2020-04-20T00:00:00",
          "2020-04-21T00:00:00",
          "2020-04-21T00:00:00",
          "2020-04-22T00:00:00",
          "2020-04-22T00:00:00",
          "2020-04-23T00:00:00",
          "2020-04-23T00:00:00",
          "2020-04-24T00:00:00",
          "2020-04-24T00:00:00",
          "2020-04-25T00:00:00",
          "2020-04-25T00:00:00",
          "2020-04-26T00:00:00",
          "2020-04-26T00:00:00",
          "2020-04-27T00:00:00",
          "2020-04-27T00:00:00",
          "2020-04-28T00:00:00",
          "2020-04-28T00:00:00",
          "2020-04-29T00:00:00",
          "2020-04-29T00:00:00",
          "2020-04-30T00:00:00",
          "2020-04-30T00:00:00",
          "2020-05-01T00:00:00",
          "2020-05-01T00:00:00",
          "2020-05-02T00:00:00",
          "2020-05-02T00:00:00",
          "2020-05-03T00:00:00",
          "2020-05-03T00:00:00",
          "2020-05-04T00:00:00",
          "2020-05-04T00:00:00",
          "2020-05-05T00:00:00",
          "2020-05-05T00:00:00",
          "2020-05-06T00:00:00",
          "2020-05-06T00:00:00",
          "2020-05-07T00:00:00",
          "2020-05-07T00:00:00",
          "2020-05-08T00:00:00",
          "2020-05-08T00:00:00",
          "2020-05-09T00:00:00",
          "2020-05-09T00:00:00",
          "2020-05-10T00:00:00",
          "2020-05-10T00:00:00",
          "2020-05-11T00:00:00",
          "2020-05-11T00:00:00",
          "2020-05-12T00:00:00",
          "2020-05-12T00:00:00",
          "2020-05-13T00:00:00",
          "2020-05-13T00:00:00",
          "2020-05-14T00:00:00",
          "2020-05-14T00:00:00",
          "2020-05-15T00:00:00",
          "2020-05-15T00:00:00",
          "2020-05-16T00:00:00",
          "2020-05-16T00:00:00",
          "2020-05-17T00:00:00",
          "2020-05-17T00:00:00",
          "2020-05-18T00:00:00",
          "2020-05-18T00:00:00",
          "2020-05-19T00:00:00",
          "2020-05-19T00:00:00",
          "2020-05-20T00:00:00",
          "2020-05-20T00:00:00",
          "2020-05-21T00:00:00",
          "2020-05-21T00:00:00",
          "2020-05-22T00:00:00",
          "2020-05-22T00:00:00",
          "2020-05-23T00:00:00",
          "2020-05-23T00:00:00",
          "2020-05-24T00:00:00",
          "2020-05-24T00:00:00",
          "2020-05-25T00:00:00",
          "2020-05-25T00:00:00",
          "2020-05-26T00:00:00",
          "2020-05-26T00:00:00",
          "2020-05-27T00:00:00",
          "2020-05-27T00:00:00",
          "2020-05-28T00:00:00",
          "2020-05-28T00:00:00",
          "2020-05-29T00:00:00",
          "2020-05-29T00:00:00",
          "2020-05-30T00:00:00",
          "2020-05-30T00:00:00",
          "2020-05-31T00:00:00",
          "2020-05-31T00:00:00",
          "2020-06-01T00:00:00",
          "2020-06-01T00:00:00",
          "2020-06-02T00:00:00",
          "2020-06-02T00:00:00",
          "2020-06-03T00:00:00",
          "2020-06-03T00:00:00",
          "2020-06-04T00:00:00",
          "2020-06-04T00:00:00",
          "2020-06-05T00:00:00",
          "2020-06-05T00:00:00",
          "2020-06-06T00:00:00",
          "2020-06-06T00:00:00",
          "2020-06-07T00:00:00",
          "2020-06-07T00:00:00",
          "2020-06-08T00:00:00",
          "2020-06-08T00:00:00",
          "2020-06-09T00:00:00",
          "2020-06-09T00:00:00",
          "2020-06-10T00:00:00",
          "2020-06-10T00:00:00",
          "2020-06-11T00:00:00",
          "2020-06-11T00:00:00",
          "2020-06-12T00:00:00",
          "2020-06-12T00:00:00",
          "2020-06-13T00:00:00",
          "2020-06-13T00:00:00",
          "2020-06-14T00:00:00",
          "2020-06-14T00:00:00",
          "2020-06-15T00:00:00",
          "2020-06-15T00:00:00",
          "2020-06-16T00:00:00",
          "2020-06-16T00:00:00",
          "2020-06-17T00:00:00",
          "2020-06-17T00:00:00",
          "2020-06-18T00:00:00",
          "2020-06-18T00:00:00",
          "2020-06-19T00:00:00",
          "2020-06-19T00:00:00",
          "2020-06-20T00:00:00",
          "2020-06-20T00:00:00",
          "2020-06-21T00:00:00",
          "2020-06-21T00:00:00",
          "2020-06-22T00:00:00",
          "2020-06-22T00:00:00",
          "2020-06-23T00:00:00",
          "2020-06-23T00:00:00",
          "2020-06-24T00:00:00",
          "2020-06-24T00:00:00",
          "2020-06-25T00:00:00",
          "2020-06-25T00:00:00",
          "2020-06-26T00:00:00",
          "2020-06-26T00:00:00",
          "2020-06-27T00:00:00",
          "2020-06-27T00:00:00",
          "2020-06-28T00:00:00",
          "2020-06-28T00:00:00",
          "2020-06-29T00:00:00",
          "2020-06-29T00:00:00",
          "2020-06-30T00:00:00",
          "2020-06-30T00:00:00",
          "2020-07-01T00:00:00",
          "2020-07-01T00:00:00",
          "2020-07-02T00:00:00",
          "2020-07-02T00:00:00",
          "2020-07-03T00:00:00",
          "2020-07-03T00:00:00",
          "2020-07-04T00:00:00",
          "2020-07-04T00:00:00",
          "2020-07-05T00:00:00",
          "2020-07-05T00:00:00",
          "2020-07-06T00:00:00",
          "2020-07-06T00:00:00",
          "2020-07-07T00:00:00",
          "2020-07-07T00:00:00",
          "2020-07-08T00:00:00",
          "2020-07-08T00:00:00",
          "2020-07-09T00:00:00",
          "2020-07-09T00:00:00",
          "2020-07-10T00:00:00",
          "2020-07-10T00:00:00",
          "2020-07-11T00:00:00",
          "2020-07-11T00:00:00",
          "2020-07-12T00:00:00",
          "2020-07-12T00:00:00",
          "2020-07-13T00:00:00",
          "2020-07-13T00:00:00",
          "2020-07-14T00:00:00",
          "2020-07-14T00:00:00",
          "2020-07-15T00:00:00",
          "2020-07-15T00:00:00",
          "2020-07-16T00:00:00",
          "2020-07-16T00:00:00",
          "2020-07-17T00:00:00",
          "2020-07-17T00:00:00",
          "2020-07-18T00:00:00",
          "2020-07-18T00:00:00",
          "2020-07-19T00:00:00",
          "2020-07-19T00:00:00",
          "2020-07-20T00:00:00",
          "2020-07-20T00:00:00",
          "2020-07-21T00:00:00",
          "2020-07-21T00:00:00",
          "2020-07-22T00:00:00",
          "2020-07-22T00:00:00",
          "2020-07-23T00:00:00",
          "2020-07-23T00:00:00",
          "2020-07-24T00:00:00",
          "2020-07-24T00:00:00",
          "2020-07-25T00:00:00",
          "2020-07-25T00:00:00",
          "2020-07-26T00:00:00",
          "2020-07-26T00:00:00",
          "2020-07-27T00:00:00",
          "2020-07-27T00:00:00",
          "2020-07-28T00:00:00",
          "2020-07-28T00:00:00",
          "2020-07-29T00:00:00",
          "2020-07-29T00:00:00",
          "2020-07-30T00:00:00",
          "2020-07-30T00:00:00",
          "2020-07-31T00:00:00",
          "2020-07-31T00:00:00",
          "2020-08-01T00:00:00",
          "2020-08-01T00:00:00",
          "2020-08-02T00:00:00",
          "2020-08-02T00:00:00",
          "2020-08-03T00:00:00",
          "2020-08-03T00:00:00",
          "2020-08-04T00:00:00",
          "2020-08-04T00:00:00",
          "2020-08-05T00:00:00",
          "2020-08-05T00:00:00",
          "2020-08-06T00:00:00",
          "2020-08-06T00:00:00",
          "2020-08-07T00:00:00",
          "2020-08-07T00:00:00",
          "2020-08-08T00:00:00",
          "2020-08-08T00:00:00",
          "2020-08-09T00:00:00",
          "2020-08-09T00:00:00",
          "2020-08-10T00:00:00",
          "2020-08-10T00:00:00",
          "2020-08-11T00:00:00",
          "2020-08-11T00:00:00",
          "2020-08-12T00:00:00",
          "2020-08-12T00:00:00",
          "2020-08-13T00:00:00",
          "2020-08-13T00:00:00",
          "2020-08-14T00:00:00",
          "2020-08-14T00:00:00",
          "2020-08-15T00:00:00",
          "2020-08-15T00:00:00",
          "2020-08-16T00:00:00",
          "2020-08-16T00:00:00",
          "2020-08-17T00:00:00",
          "2020-08-17T00:00:00",
          "2020-08-18T00:00:00",
          "2020-08-18T00:00:00",
          "2020-08-19T00:00:00",
          "2020-08-19T00:00:00",
          "2020-08-20T00:00:00",
          "2020-08-20T00:00:00",
          "2020-08-21T00:00:00",
          "2020-08-21T00:00:00",
          "2020-08-22T00:00:00",
          "2020-08-22T00:00:00",
          "2020-08-23T00:00:00",
          "2020-08-23T00:00:00",
          "2020-08-24T00:00:00",
          "2020-08-24T00:00:00",
          "2020-08-25T00:00:00",
          "2020-08-25T00:00:00",
          "2020-08-26T00:00:00",
          "2020-08-26T00:00:00",
          "2020-08-27T00:00:00",
          "2020-08-27T00:00:00",
          "2020-08-28T00:00:00",
          "2020-08-28T00:00:00",
          "2020-08-29T00:00:00",
          "2020-08-29T00:00:00",
          "2020-08-30T00:00:00",
          "2020-08-30T00:00:00",
          "2020-08-31T00:00:00",
          "2020-08-31T00:00:00",
          "2020-09-01T00:00:00",
          "2020-09-01T00:00:00",
          "2020-09-02T00:00:00",
          "2020-09-02T00:00:00",
          "2020-09-03T00:00:00",
          "2020-09-03T00:00:00",
          "2020-09-04T00:00:00",
          "2020-09-04T00:00:00",
          "2020-09-05T00:00:00",
          "2020-09-05T00:00:00",
          "2020-09-06T00:00:00",
          "2020-09-06T00:00:00",
          "2020-09-07T00:00:00",
          "2020-09-07T00:00:00",
          "2020-09-08T00:00:00",
          "2020-09-08T00:00:00",
          "2020-09-09T00:00:00",
          "2020-09-09T00:00:00",
          "2020-09-10T00:00:00",
          "2020-09-10T00:00:00",
          "2020-09-11T00:00:00",
          "2020-09-11T00:00:00",
          "2020-09-12T00:00:00",
          "2020-09-12T00:00:00",
          "2020-09-13T00:00:00",
          "2020-09-13T00:00:00",
          "2020-09-14T00:00:00",
          "2020-09-14T00:00:00",
          "2020-09-15T00:00:00",
          "2020-09-15T00:00:00",
          "2020-09-16T00:00:00",
          "2020-09-16T00:00:00",
          "2020-09-17T00:00:00",
          "2020-09-17T00:00:00",
          "2020-09-18T00:00:00",
          "2020-09-18T00:00:00",
          "2020-09-19T00:00:00",
          "2020-09-19T00:00:00",
          "2020-09-20T00:00:00",
          "2020-09-20T00:00:00",
          "2020-09-21T00:00:00",
          "2020-09-21T00:00:00",
          "2020-09-22T00:00:00",
          "2020-09-22T00:00:00",
          "2020-09-23T00:00:00",
          "2020-09-23T00:00:00",
          "2020-09-24T00:00:00",
          "2020-09-24T00:00:00",
          "2020-09-25T00:00:00",
          "2020-09-25T00:00:00",
          "2020-09-26T00:00:00",
          "2020-09-26T00:00:00",
          "2020-09-27T00:00:00",
          "2020-09-27T00:00:00",
          "2020-09-28T00:00:00",
          "2020-09-28T00:00:00",
          "2020-09-29T00:00:00",
          "2020-09-29T00:00:00",
          "2020-09-30T00:00:00",
          "2020-09-30T00:00:00",
          "2020-10-01T00:00:00",
          "2020-10-01T00:00:00",
          "2020-10-02T00:00:00",
          "2020-10-02T00:00:00",
          "2020-10-03T00:00:00",
          "2020-10-03T00:00:00",
          "2020-10-04T00:00:00",
          "2020-10-04T00:00:00",
          "2020-10-05T00:00:00",
          "2020-10-05T00:00:00",
          "2020-10-06T00:00:00",
          "2020-10-06T00:00:00",
          "2020-10-07T00:00:00",
          "2020-10-07T00:00:00",
          "2020-10-08T00:00:00",
          "2020-10-08T00:00:00",
          "2020-10-09T00:00:00",
          "2020-10-09T00:00:00",
          "2020-10-10T00:00:00",
          "2020-10-10T00:00:00",
          "2020-10-11T00:00:00",
          "2020-10-11T00:00:00",
          "2020-10-12T00:00:00",
          "2020-10-12T00:00:00",
          "2020-10-13T00:00:00",
          "2020-10-13T00:00:00",
          "2020-10-14T00:00:00",
          "2020-10-14T00:00:00",
          "2020-10-15T00:00:00",
          "2020-10-15T00:00:00",
          "2020-10-16T00:00:00",
          "2020-10-16T00:00:00",
          "2020-10-17T00:00:00",
          "2020-10-17T00:00:00",
          "2020-10-18T00:00:00",
          "2020-10-18T00:00:00",
          "2020-10-19T00:00:00",
          "2020-10-19T00:00:00",
          "2020-10-20T00:00:00",
          "2020-10-20T00:00:00",
          "2020-10-21T00:00:00",
          "2020-10-21T00:00:00",
          "2020-10-22T00:00:00",
          "2020-10-22T00:00:00",
          "2020-10-23T00:00:00",
          "2020-10-23T00:00:00",
          "2020-10-24T00:00:00",
          "2020-10-24T00:00:00",
          "2020-10-25T00:00:00",
          "2020-10-25T00:00:00",
          "2020-10-26T00:00:00",
          "2020-10-26T00:00:00",
          "2020-10-27T00:00:00",
          "2020-10-27T00:00:00",
          "2020-10-28T00:00:00",
          "2020-10-28T00:00:00",
          "2020-10-29T00:00:00",
          "2020-10-29T00:00:00",
          "2020-10-30T00:00:00",
          "2020-10-30T00:00:00",
          "2020-10-31T00:00:00",
          "2020-10-31T00:00:00",
          "2020-11-01T00:00:00",
          "2020-11-01T00:00:00",
          "2020-11-02T00:00:00",
          "2020-11-02T00:00:00",
          "2020-11-03T00:00:00",
          "2020-11-03T00:00:00",
          "2020-11-04T00:00:00",
          "2020-11-04T00:00:00",
          "2020-11-05T00:00:00",
          "2020-11-05T00:00:00",
          "2020-11-06T00:00:00",
          "2020-11-06T00:00:00",
          "2020-11-07T00:00:00",
          "2020-11-07T00:00:00",
          "2020-11-08T00:00:00",
          "2020-11-08T00:00:00",
          "2020-11-09T00:00:00",
          "2020-11-09T00:00:00",
          "2020-11-10T00:00:00",
          "2020-11-10T00:00:00",
          "2020-11-11T00:00:00",
          "2020-11-11T00:00:00",
          "2020-11-12T00:00:00",
          "2020-11-12T00:00:00",
          "2020-11-13T00:00:00",
          "2020-11-13T00:00:00",
          "2020-11-14T00:00:00",
          "2020-11-14T00:00:00",
          "2020-11-15T00:00:00",
          "2020-11-15T00:00:00",
          "2020-11-16T00:00:00",
          "2020-11-16T00:00:00",
          "2020-11-17T00:00:00",
          "2020-11-17T00:00:00",
          "2020-11-18T00:00:00",
          "2020-11-18T00:00:00",
          "2020-11-19T00:00:00",
          "2020-11-19T00:00:00",
          "2020-11-20T00:00:00",
          "2020-11-20T00:00:00",
          "2020-11-21T00:00:00",
          "2020-11-21T00:00:00",
          "2020-11-22T00:00:00",
          "2020-11-22T00:00:00",
          "2020-11-23T00:00:00",
          "2020-11-23T00:00:00",
          "2020-11-24T00:00:00",
          "2020-11-24T00:00:00",
          "2020-11-25T00:00:00",
          "2020-11-25T00:00:00",
          "2020-11-26T00:00:00",
          "2020-11-26T00:00:00",
          "2020-11-27T00:00:00",
          "2020-11-27T00:00:00",
          "2020-11-28T00:00:00",
          "2020-11-28T00:00:00",
          "2020-11-29T00:00:00",
          "2020-11-29T00:00:00",
          "2020-11-30T00:00:00",
          "2020-11-30T00:00:00",
          "2020-12-01T00:00:00",
          "2020-12-01T00:00:00",
          "2020-12-02T00:00:00",
          "2020-12-02T00:00:00",
          "2020-12-03T00:00:00",
          "2020-12-03T00:00:00",
          "2020-12-04T00:00:00",
          "2020-12-04T00:00:00",
          "2020-12-05T00:00:00",
          "2020-12-05T00:00:00",
          "2020-12-06T00:00:00",
          "2020-12-06T00:00:00",
          "2020-12-07T00:00:00",
          "2020-12-07T00:00:00",
          "2020-12-08T00:00:00",
          "2020-12-08T00:00:00",
          "2020-12-09T00:00:00",
          "2020-12-09T00:00:00",
          "2020-12-10T00:00:00",
          "2020-12-10T00:00:00",
          "2020-12-11T00:00:00",
          "2020-12-11T00:00:00",
          "2020-12-12T00:00:00",
          "2020-12-12T00:00:00",
          "2020-12-13T00:00:00",
          "2020-12-13T00:00:00",
          "2020-12-14T00:00:00",
          "2020-12-14T00:00:00",
          "2020-12-15T00:00:00",
          "2020-12-15T00:00:00",
          "2020-12-16T00:00:00",
          "2020-12-16T00:00:00",
          "2020-12-17T00:00:00",
          "2020-12-17T00:00:00",
          "2020-12-18T00:00:00",
          "2020-12-18T00:00:00",
          "2020-12-19T00:00:00",
          "2020-12-19T00:00:00",
          "2020-12-20T00:00:00",
          "2020-12-20T00:00:00",
          "2020-12-21T00:00:00",
          "2020-12-21T00:00:00",
          "2020-12-22T00:00:00",
          "2020-12-22T00:00:00",
          "2020-12-23T00:00:00",
          "2020-12-23T00:00:00",
          "2020-12-24T00:00:00",
          "2020-12-24T00:00:00",
          "2020-12-25T00:00:00",
          "2020-12-25T00:00:00",
          "2020-12-26T00:00:00",
          "2020-12-26T00:00:00",
          "2020-12-27T00:00:00",
          "2020-12-27T00:00:00",
          "2020-12-28T00:00:00",
          "2020-12-28T00:00:00",
          "2020-12-29T00:00:00",
          "2020-12-29T00:00:00",
          "2020-12-30T00:00:00",
          "2020-12-30T00:00:00",
          "2020-12-31T00:00:00",
          "2020-12-31T00:00:00",
          "2021-01-01T00:00:00",
          "2021-01-01T00:00:00",
          "2021-01-02T00:00:00",
          "2021-01-02T00:00:00",
          "2021-01-03T00:00:00",
          "2021-01-03T00:00:00",
          "2021-01-04T00:00:00",
          "2021-01-04T00:00:00",
          "2021-01-05T00:00:00",
          "2021-01-05T00:00:00",
          "2021-01-06T00:00:00",
          "2021-01-06T00:00:00",
          "2021-01-07T00:00:00",
          "2021-01-07T00:00:00",
          "2021-01-08T00:00:00",
          "2021-01-08T00:00:00",
          "2021-01-09T00:00:00",
          "2021-01-09T00:00:00",
          "2021-01-10T00:00:00",
          "2021-01-10T00:00:00",
          "2021-01-11T00:00:00",
          "2021-01-11T00:00:00",
          "2021-01-12T00:00:00",
          "2021-01-12T00:00:00",
          "2021-01-13T00:00:00",
          "2021-01-13T00:00:00",
          "2021-01-14T00:00:00",
          "2021-01-14T00:00:00",
          "2021-01-15T00:00:00",
          "2021-01-15T00:00:00",
          "2021-01-16T00:00:00",
          "2021-01-16T00:00:00",
          "2021-01-17T00:00:00",
          "2021-01-17T00:00:00",
          "2021-01-18T00:00:00",
          "2021-01-18T00:00:00",
          "2021-01-19T00:00:00",
          "2021-01-19T00:00:00",
          "2021-01-20T00:00:00",
          "2021-01-20T00:00:00",
          "2021-01-21T00:00:00",
          "2021-01-21T00:00:00",
          "2021-01-22T00:00:00",
          "2021-01-22T00:00:00",
          "2021-01-23T00:00:00",
          "2021-01-23T00:00:00",
          "2021-01-24T00:00:00",
          "2021-01-24T00:00:00",
          "2021-01-25T00:00:00",
          "2021-01-25T00:00:00",
          "2021-01-26T00:00:00",
          "2021-01-26T00:00:00",
          "2021-01-27T00:00:00",
          "2021-01-27T00:00:00",
          "2021-01-28T00:00:00",
          "2021-01-28T00:00:00",
          "2021-01-29T00:00:00",
          "2021-01-29T00:00:00",
          "2021-01-30T00:00:00",
          "2021-01-30T00:00:00",
          "2021-01-31T00:00:00",
          "2021-01-31T00:00:00",
          "2021-02-01T00:00:00",
          "2021-02-01T00:00:00",
          "2021-02-02T00:00:00",
          "2021-02-02T00:00:00",
          "2021-02-03T00:00:00",
          "2021-02-03T00:00:00",
          "2021-02-04T00:00:00",
          "2021-02-04T00:00:00",
          "2021-02-05T00:00:00",
          "2021-02-05T00:00:00",
          "2021-02-06T00:00:00",
          "2021-02-06T00:00:00",
          "2021-02-07T00:00:00",
          "2021-02-07T00:00:00",
          "2021-02-08T00:00:00",
          "2021-02-08T00:00:00",
          "2021-02-09T00:00:00",
          "2021-02-09T00:00:00",
          "2021-02-10T00:00:00",
          "2021-02-10T00:00:00",
          "2021-02-11T00:00:00",
          "2021-02-11T00:00:00",
          "2021-02-12T00:00:00",
          "2021-02-12T00:00:00",
          "2021-02-13T00:00:00",
          "2021-02-13T00:00:00",
          "2021-02-14T00:00:00",
          "2021-02-14T00:00:00",
          "2021-02-15T00:00:00",
          "2021-02-15T00:00:00",
          "2021-02-16T00:00:00",
          "2021-02-16T00:00:00",
          "2021-02-17T00:00:00",
          "2021-02-17T00:00:00",
          "2021-02-18T00:00:00",
          "2021-02-18T00:00:00",
          "2021-02-19T00:00:00",
          "2021-02-19T00:00:00",
          "2021-02-20T00:00:00",
          "2021-02-20T00:00:00",
          "2021-02-21T00:00:00",
          "2021-02-21T00:00:00",
          "2021-02-22T00:00:00",
          "2021-02-22T00:00:00",
          "2021-02-23T00:00:00",
          "2021-02-23T00:00:00",
          "2021-02-24T00:00:00",
          "2021-02-24T00:00:00",
          "2021-02-25T00:00:00",
          "2021-02-25T00:00:00",
          "2021-02-26T00:00:00",
          "2021-02-26T00:00:00",
          "2021-02-27T00:00:00",
          "2021-02-27T00:00:00",
          "2021-02-28T00:00:00",
          "2021-02-28T00:00:00",
          "2021-03-01T00:00:00",
          "2021-03-01T00:00:00",
          "2021-03-02T00:00:00",
          "2021-03-02T00:00:00",
          "2021-03-03T00:00:00",
          "2021-03-03T00:00:00",
          "2021-03-04T00:00:00",
          "2021-03-04T00:00:00",
          "2021-03-05T00:00:00",
          "2021-03-05T00:00:00",
          "2021-03-06T00:00:00",
          "2021-03-06T00:00:00",
          "2021-03-07T00:00:00",
          "2021-03-07T00:00:00",
          "2021-03-08T00:00:00",
          "2021-03-08T00:00:00",
          "2021-03-09T00:00:00",
          "2021-03-09T00:00:00",
          "2021-03-10T00:00:00",
          "2021-03-10T00:00:00",
          "2021-03-11T00:00:00",
          "2021-03-11T00:00:00",
          "2021-03-12T00:00:00",
          "2021-03-12T00:00:00",
          "2021-03-13T00:00:00",
          "2021-03-13T00:00:00",
          "2021-03-14T00:00:00",
          "2021-03-14T00:00:00",
          "2021-03-15T00:00:00",
          "2021-03-15T00:00:00",
          "2021-03-16T00:00:00",
          "2021-03-16T00:00:00",
          "2021-03-17T00:00:00",
          "2021-03-17T00:00:00",
          "2021-03-18T00:00:00",
          "2021-03-18T00:00:00",
          "2021-03-19T00:00:00",
          "2021-03-19T00:00:00",
          "2021-03-20T00:00:00",
          "2021-03-20T00:00:00",
          "2021-03-21T00:00:00",
          "2021-03-21T00:00:00",
          "2021-03-22T00:00:00",
          "2021-03-22T00:00:00",
          "2021-03-23T00:00:00",
          "2021-03-23T00:00:00",
          "2021-03-24T00:00:00",
          "2021-03-24T00:00:00",
          "2021-03-25T00:00:00",
          "2021-03-25T00:00:00",
          "2021-03-26T00:00:00",
          "2021-03-26T00:00:00",
          "2021-03-27T00:00:00",
          "2021-03-27T00:00:00",
          "2021-03-28T00:00:00",
          "2021-03-28T00:00:00",
          "2021-03-29T00:00:00",
          "2021-03-29T00:00:00",
          "2021-03-30T00:00:00",
          "2021-03-30T00:00:00",
          "2021-03-31T00:00:00",
          "2021-03-31T00:00:00",
          "2021-04-01T00:00:00",
          "2021-04-01T00:00:00",
          "2021-04-02T00:00:00",
          "2021-04-02T00:00:00",
          "2021-04-03T00:00:00",
          "2021-04-03T00:00:00",
          "2021-04-04T00:00:00",
          "2021-04-04T00:00:00",
          "2021-04-05T00:00:00",
          "2021-04-05T00:00:00",
          "2021-04-06T00:00:00",
          "2021-04-06T00:00:00",
          "2021-04-07T00:00:00",
          "2021-04-07T00:00:00",
          "2021-04-08T00:00:00",
          "2021-04-08T00:00:00",
          "2021-04-09T00:00:00",
          "2021-04-09T00:00:00",
          "2021-04-10T00:00:00",
          "2021-04-10T00:00:00",
          "2021-04-11T00:00:00",
          "2021-04-11T00:00:00",
          "2021-04-12T00:00:00",
          "2021-04-12T00:00:00",
          "2021-04-13T00:00:00",
          "2021-04-13T00:00:00",
          "2021-04-14T00:00:00",
          "2021-04-14T00:00:00",
          "2021-04-15T00:00:00",
          "2021-04-15T00:00:00",
          "2021-04-16T00:00:00",
          "2021-04-16T00:00:00",
          "2021-04-17T00:00:00",
          "2021-04-17T00:00:00",
          "2021-04-18T00:00:00",
          "2021-04-18T00:00:00",
          "2021-04-19T00:00:00",
          "2021-04-19T00:00:00",
          "2021-04-20T00:00:00",
          "2021-04-20T00:00:00",
          "2021-04-21T00:00:00",
          "2021-04-21T00:00:00",
          "2021-04-22T00:00:00",
          "2021-04-22T00:00:00",
          "2021-04-23T00:00:00",
          "2021-04-23T00:00:00",
          "2021-04-24T00:00:00",
          "2021-04-24T00:00:00",
          "2021-04-25T00:00:00",
          "2021-04-25T00:00:00",
          "2021-04-26T00:00:00",
          "2021-04-26T00:00:00",
          "2021-04-27T00:00:00",
          "2021-04-27T00:00:00",
          "2021-04-28T00:00:00",
          "2021-04-28T00:00:00",
          "2021-04-29T00:00:00",
          "2021-04-29T00:00:00",
          "2021-04-30T00:00:00",
          "2021-04-30T00:00:00",
          "2021-05-01T00:00:00",
          "2021-05-01T00:00:00",
          "2021-05-02T00:00:00",
          "2021-05-02T00:00:00",
          "2021-05-03T00:00:00",
          "2021-05-03T00:00:00",
          "2021-05-04T00:00:00",
          "2021-05-04T00:00:00",
          "2021-05-05T00:00:00",
          "2021-05-05T00:00:00",
          "2021-05-06T00:00:00",
          "2021-05-06T00:00:00",
          "2021-05-07T00:00:00",
          "2021-05-07T00:00:00",
          "2021-05-08T00:00:00",
          "2021-05-08T00:00:00",
          "2021-05-09T00:00:00",
          "2021-05-09T00:00:00",
          "2021-05-10T00:00:00",
          "2021-05-10T00:00:00",
          "2021-05-11T00:00:00",
          "2021-05-11T00:00:00",
          "2021-05-12T00:00:00",
          "2021-05-12T00:00:00",
          "2021-05-13T00:00:00",
          "2021-05-13T00:00:00",
          "2021-05-14T00:00:00",
          "2021-05-14T00:00:00",
          "2021-05-15T00:00:00",
          "2021-05-15T00:00:00"
         ],
         "y": [
          32.84099181871219,
          33.01821520724069,
          33.01821520724069,
          33.090706773538926,
          33.090706773538926,
          31.892379881448345,
          31.892379881448345,
          32.748912288950166,
          32.748912288950166,
          32.57648332993459,
          32.57648332993459,
          31.793848951383772,
          31.793848951383772,
          31.7971706398276,
          31.7971706398276,
          31.727968547316113,
          31.727968547316113,
          30.73329517423768,
          30.73329517423768,
          29.583083559295325,
          29.583083559295325,
          28.829050329923273,
          28.829050329923273,
          28.46597454367153,
          28.46597454367153,
          26.371895759146046,
          26.371895759146046,
          26.286379949973924,
          26.286379949973924,
          26.602624691203587,
          26.602624691203587,
          25.93279718503972,
          25.93279718503972,
          26.027942491865673,
          26.027942491865673,
          24.77269375443127,
          24.77269375443127,
          24.144601900531793,
          24.144601900531793,
          23.649862419599064,
          23.649862419599064,
          23.246577836170623,
          23.246577836170623,
          22.57111479781118,
          22.57111479781118,
          19.780092604665086,
          19.780092604665086,
          21.262363648074523,
          21.262363648074523,
          20.74940525569695,
          20.74940525569695,
          20.754756861266298,
          20.754756861266298,
          20.10721384697655,
          20.10721384697655,
          19.991569001665706,
          19.991569001665706,
          19.189276690684487,
          19.189276690684487,
          19.258542439850025,
          19.258542439850025,
          18.61959685901527,
          18.61959685901527,
          18.36091301629322,
          18.36091301629322,
          18.433567699691736,
          18.433567699691736,
          17.623497794659958,
          17.623497794659958,
          17.768681046814436,
          17.768681046814436,
          17.14115015029996,
          17.14115015029996,
          16.930849691445246,
          16.930849691445246,
          16.268502058662612,
          16.268502058662612,
          15.812812606952686,
          15.812812606952686,
          15.503522122777316,
          15.503522122777316,
          14.772814716886284,
          14.772814716886284,
          14.525830181975548,
          14.525830181975548,
          14.36133505041473,
          14.36133505041473,
          14.194832660707576,
          14.194832660707576,
          14.970641677994337,
          14.970641677994337,
          15.060964200192805,
          15.060964200192805,
          15.068525395817396,
          15.068525395817396,
          15.321126239281268,
          15.321126239281268,
          14.665810080075675,
          14.665810080075675,
          14.066952682150578,
          14.066952682150578,
          14.163361877886299,
          14.163361877886299,
          13.994383384961159,
          13.994383384961159,
          12.984279429841962,
          12.984279429841962,
          12.700844804979099,
          12.700844804979099,
          12.207062180549388,
          12.207062180549388,
          12.009439392259795,
          12.009439392259795,
          12.122901294440323,
          12.122901294440323,
          10.81974390688962,
          10.81974390688962,
          10.713745366820277,
          10.713745366820277,
          10.24508034740133,
          10.24508034740133,
          10.133055453571131,
          10.133055453571131,
          10.745962906713446,
          10.745962906713446,
          10.400313524057685,
          10.400313524057685,
          9.396511655004064,
          9.396511655004064,
          9.672059769594112,
          9.672059769594112,
          9.553369351234306,
          9.553369351234306,
          12.521311250375705,
          12.521311250375705,
          9.037913660680895,
          9.037913660680895,
          9.050636096217321,
          9.050636096217321,
          8.343318919371832,
          8.343318919371832,
          8.795281634035572,
          8.795281634035572,
          8.519049566969672,
          8.519049566969672,
          8.080627379655732,
          8.080627379655732,
          8.69135299671253,
          8.69135299671253,
          8.411827110026197,
          8.411827110026197,
          8.572816247262956,
          8.572816247262956,
          8.87338169071907,
          8.87338169071907,
          9.434373074416865,
          9.434373074416865,
          8.899267016973203,
          8.899267016973203,
          8.626259353399249,
          8.626259353399249,
          8.193342700787511,
          8.193342700787511,
          8.053573047748454,
          8.053573047748454,
          7.911453206392415,
          7.911453206392415,
          7.925912194456084,
          7.925912194456084,
          7.113393362139193,
          7.113393362139193,
          7.634673779630397,
          7.634673779630397,
          6.605593209080209,
          6.605593209080209,
          6.434065047504783,
          6.434065047504783,
          6.258301454155858,
          6.258301454155858,
          6.276248199512453,
          6.276248199512453,
          5.24094571076287,
          5.24094571076287,
          6.312004139012117,
          6.312004139012117,
          5.051105166136777,
          5.051105166136777,
          5.74121533868272,
          5.74121533868272,
          5.546187162064456,
          5.546187162064456,
          5.3450156579967505,
          5.3450156579967505,
          5.365621666807709,
          5.365621666807709,
          4.146986787896472,
          4.146986787896472,
          4.172378082003434,
          4.172378082003434,
          4.465709061073935,
          4.465709061073935,
          4.222796225457196,
          4.222796225457196,
          3.3571294535916656,
          3.3571294535916656,
          2.285504941851453,
          2.285504941851453,
          3.082704330582635,
          3.082704330582635,
          2.755608802378714,
          2.755608802378714,
          2.4000059603914177,
          2.4000059603914177,
          2.007520254180985,
          2.007520254180985,
          3.2080678485741703,
          3.2080678485741703,
          3.8642623336385284,
          3.8642623336385284,
          2.923896143623655,
          2.923896143623655,
          2.956758007498365,
          2.956758007498365,
          3.944315263525554,
          3.944315263525554,
          3.970720335711063,
          3.970720335711063,
          4.275113541427458,
          4.275113541427458,
          3.0857409943650813,
          3.0857409943650813,
          0.8138733425564872,
          0.8138733425564872,
          1.472122919365528,
          1.472122919365528,
          2.826970684589631,
          2.826970684589631,
          2.8605959654728492,
          2.8605959654728492,
          2.8939527846945117,
          2.8939527846945117,
          2.5509631013147,
          2.5509631013147,
          2.9598846813225723,
          2.9598846813225723,
          2.992471053414959,
          2.992471053414959,
          2.254019922128641,
          2.254019922128641,
          1.8441794877333093,
          1.8441794877333093,
          1.8878292951173534,
          1.8878292951173534,
          2.369474435899862,
          2.369474435899862,
          2.4071831371676327,
          2.4071831371676327,
          2.0155141249738917,
          2.0155141249738917,
          2.4815004142587704,
          2.4815004142587704,
          2.5181286933706644,
          2.5181286933706644,
          2.930195726101628,
          2.930195726101628,
          3.6241469995723996,
          3.6241469995723996,
          2.6260015464096944,
          2.6260015464096944,
          3.68031359007833,
          3.68031359007833,
          2.296598222973539,
          2.296598222973539,
          3.09180799054528,
          3.09180799054528,
          4.05408013926969,
          4.05408013926969,
          3.790739137638263,
          3.790739137638263,
          3.817962643854533,
          3.817962643854533,
          3.5413919137368954,
          3.5413919137368954,
          3.570046807720596,
          3.570046807720596,
          2.933342006440974,
          2.933342006440974,
          3.3084991721323487,
          3.3084991721323487,
          3.6549944981418228,
          3.6549944981418228,
          4.522553060557759,
          4.522553060557759,
          4.79828811324448,
          4.79828811324448,
          4.820854791085487,
          4.820854791085487,
          5.0830260491005985,
          5.0830260491005985,
          5.334226949385138,
          5.334226949385138,
          5.995846258940027,
          5.995846258940027,
          6.014490520114472,
          6.014490520114472,
          6.6153980075436785,
          6.6153980075436785,
          7.341484985083466,
          7.341484985083466,
          7.848537474240973,
          7.848537474240973,
          7.5393554952794215,
          7.5393554952794215,
          8.034611354869087,
          8.034611354869087,
          8.048859889673722,
          8.048859889673722,
          9.22281770528905,
          9.22281770528905,
          9.89194906756632,
          9.89194906756632,
          10.154186512833979,
          10.154186512833979,
          10.765888437846415,
          10.765888437846415,
          11.344430920769534,
          11.344430920769534,
          11.573604157885903,
          11.573604157885903,
          10.680949866330904,
          10.680949866330904,
          11.263904043722942,
          11.263904043722942,
          11.27412385663834,
          11.27412385663834,
          11.172483886563487,
          11.172483886563487,
          11.730705352703955,
          11.730705352703955,
          11.633125408379026,
          11.633125408379026,
          12.374092398820137,
          12.374092398820137,
          12.075865446610198,
          12.075865446610198,
          12.291108019511984,
          12.291108019511984,
          13.089479276019247,
          13.089479276019247,
          13.193364333384567,
          13.193364333384567,
          13.758066128565567,
          13.758066128565567,
          13.85672948490695,
          13.85672948490695,
          13.683779819062261,
          13.683779819062261,
          14.228175097180035,
          14.228175097180035,
          14.148397252561109,
          14.148397252561109,
          14.843242881876847,
          14.843242881876847,
          14.93438069738382,
          14.93438069738382,
          15.432482461132782,
          15.432482461132782,
          15.032514306637744,
          15.032514306637744,
          15.366705760724503,
          15.366705760724503,
          15.047662951324552,
          15.047662951324552,
          14.805522960118468,
          14.805522960118468,
          16.173683535623425,
          16.173683535623425,
          16.483325170730982,
          16.483325170730982,
          17.43459244029472,
          17.43459244029472,
          18.131344247087092,
          18.131344247087092,
          18.800251558606828,
          18.800251558606828,
          19.255250929402074,
          19.255250929402074,
          19.51252418598977,
          19.51252418598977,
          18.753066645294396,
          18.753066645294396,
          20.613609413100914,
          20.613609413100914,
          22.467037775289022,
          22.467037775289022,
          21.82004037655312,
          21.82004037655312,
          21.88023462431237,
          21.88023462431237,
          22.104234357412842,
          22.104234357412842,
          21.779970547007082,
          21.779970547007082,
          22.114216556150463,
          22.114216556150463,
          23.588255789435813,
          23.588255789435813,
          23.491362031665656,
          23.491362031665656,
          23.698579260453684,
          23.698579260453684,
          23.500694022234548,
          23.500694022234548,
          24.00796178160293,
          24.00796178160293,
          23.9129562723678,
          23.9129562723678,
          23.817529252777135,
          23.817529252777135,
          23.519345672596003,
          23.519345672596003,
          24.272936841406334,
          24.272936841406334,
          24.666466426950574,
          24.666466426950574,
          25.2418165277088,
          25.2418165277088,
          25.664957217015527,
          25.664957217015527,
          25.898560620752672,
          25.898560620752672,
          25.8570617852442,
          25.8570617852442,
          26.269145500453288,
          26.269145500453288,
          26.31814177642547,
          26.31814177642547,
          26.633964120305,
          26.633964120305,
          26.726317718880964,
          26.726317718880964,
          26.642076515483097,
          26.642076515483097,
          27.30034267067262,
          27.30034267067262,
          27.688436780988212,
          27.688436780988212,
          27.734627654598892,
          27.734627654598892,
          27.738503850455043,
          27.738503850455043,
          27.444780325545416,
          27.444780325545416,
          27.363019148637,
          27.363019148637,
          26.802591695743185,
          26.802591695743185,
          26.586008290621397,
          26.586008290621397,
          26.187783483957585,
          26.187783483957585,
          26.056297049055413,
          26.056297049055413,
          25.509988635770476,
          25.509988635770476,
          24.662890495492583,
          24.662890495492583,
          25.33210636253534,
          25.33210636253534,
          24.719868800115165,
          24.719868800115165,
          25.387411376012697,
          25.387411376012697,
          25.531266409996594,
          25.531266409996594,
          25.99464284734964,
          25.99464284734964,
          25.90773109907304,
          25.90773109907304,
          26.138909254370883,
          26.138909254370883,
          26.32303847288905,
          26.32303847288905,
          25.506137577987985,
          25.506137577987985,
          26.286406874687934,
          26.286406874687934,
          25.328225070817496,
          25.328225070817496,
          25.05001989844403,
          25.05001989844403,
          25.196027542256545,
          25.196027542256545,
          25.341096496608078,
          25.341096496608078,
          24.82503145304086,
          24.82503145304086,
          25.20897437520966,
          25.20897437520966,
          24.689823048796544,
          24.689823048796544,
          25.358247045266346,
          25.358247045266346,
          25.127679409740793,
          25.127679409740793,
          25.50654444875704,
          25.50654444875704,
          25.695750397886243,
          25.695750397886243,
          26.020040378268355,
          26.020040378268355,
          26.607101231520545,
          26.607101231520545,
          26.388716981394467,
          26.388716981394467,
          26.348081768669715,
          26.348081768669715,
          26.66350687819355,
          26.66350687819355,
          27.577785223807606,
          27.577785223807606,
          27.53911445881742,
          27.53911445881742,
          27.839440720096118,
          27.839440720096118,
          28.343269849447058,
          28.343269849447058,
          29.751289015844787,
          29.751289015844787,
          30.06542581019287,
          30.06542581019287,
          30.452077328887434,
          30.452077328887434,
          31.279657525374557,
          31.279657525374557,
          30.686265332800822,
          30.686265332800822,
          32.7244546407896,
          32.7244546407896,
          33.21426063388096,
          33.21426063388096,
          33.662050330225966,
          33.662050330225966,
          34.03618691040316,
          34.03618691040316,
          34.930863738370434,
          34.930863738370434,
          35.48208414012532,
          35.48208414012532,
          35.83462257110176,
          35.83462257110176,
          37.016184759394385,
          37.016184759394385,
          37.890258268152124,
          37.890258268152124,
          37.774179766173624,
          37.774179766173624,
          37.86603887797674,
          37.86603887797674,
          37.987217687288926,
          37.987217687288926,
          38.371990026219734,
          38.371990026219734,
          38.72347696123655,
          38.72347696123655,
          39.38472381458404,
          39.38472381458404,
          39.977735165467884,
          39.977735165467884,
          39.531408734933855,
          39.531408734933855,
          39.78719289222213,
          39.78719289222213,
          40.01326226499978,
          40.01326226499978,
          40.043650363267886,
          40.043650363267886,
          39.626351710927075,
          39.626351710927075,
          39.51611496572916,
          39.51611496572916,
          39.80004295229656,
          39.80004295229656,
          39.066336687096225,
          39.066336687096225,
          39.32560147641579,
          39.32560147641579,
          38.61052518256619,
          38.61052518256619,
          38.959542440147885,
          38.959542440147885,
          38.818303277843874,
          38.818303277843874,
          38.6185065229628,
          38.6185065229628,
          38.212616145566585,
          38.212616145566585,
          38.03868587275992,
          38.03868587275992,
          37.47582057186505,
          37.47582057186505,
          37.35826325375355,
          37.35826325375355,
          36.6912762192143,
          36.6912762192143,
          35.85256158177725,
          35.85256158177725,
          35.69713732419307,
          35.69713732419307,
          34.73284354674543,
          34.73284354674543,
          34.83394037289608,
          34.83394037289608,
          34.541728406392295,
          34.541728406392295,
          33.84455542820596,
          33.84455542820596,
          33.40583652697028,
          33.40583652697028,
          32.96045347826156,
          32.96045347826156,
          32.85915720711966,
          32.85915720711966,
          32.22741232029248,
          32.22741232029248,
          32.01587361887951,
          32.01587361887951,
          32.233953881667354,
          32.233953881667354,
          31.950513028547853,
          31.950513028547853,
          31.00126640778931,
          31.00126640778931,
          30.59158285486754,
          30.59158285486754,
          30.06003774484362,
          30.06003774484362,
          29.830987258587705,
          29.830987258587705,
          29.9123045649301,
          29.9123045649301,
          29.56422862596031,
          29.56422862596031,
          28.728511364166657,
          28.728511364166657,
          28.07379531019149,
          28.07379531019149,
          27.35853177461144,
          27.35853177461144,
          27.19018634978016,
          27.19018634978016,
          26.802027512254107,
          26.802027512254107,
          26.585438949066265,
          26.585438949066265,
          26.0968601687508,
          26.0968601687508,
          25.69012806080958,
          25.69012806080958,
          25.416348061666177,
          25.416348061666177,
          24.997209884927187,
          24.997209884927187,
          24.375571271232946,
          24.375571271232946,
          23.985840395319542,
          23.985840395319542,
          23.43641651145442,
          23.43641651145442,
          23.287499452545717,
          23.287499452545717,
          22.71928935054513,
          22.71928935054513,
          22.189178777617677,
          22.189178777617677,
          21.64469673519758,
          21.64469673519758,
          21.255958377038183,
          21.255958377038183,
          20.44861324294154,
          20.44861324294154,
          20.39466715458611,
          20.39466715458611,
          20.039870936781526,
          20.039870936781526,
          19.428938289066092,
          19.428938289066092,
          18.99027227910832,
          18.99027227910832,
          18.6717790355095,
          18.6717790355095,
          18.677783829801044,
          18.677783829801044,
          18.552395603470412,
          18.552395603470412,
          18.492390096577036,
          18.492390096577036,
          18.298820163764592,
          18.298820163764592,
          18.10300556927689,
          18.10300556927689,
          17.697974620560807,
          17.697974620560807,
          17.211320400870385,
          17.211320400870385,
          16.63538052003696,
          16.63538052003696,
          16.0372274383885,
          16.0372274383885,
          15.811167428567527,
          15.811167428567527,
          15.581610022712784,
          15.581610022712784,
          15.509175338868927,
          15.509175338868927,
          15.35580922390148,
          15.35580922390148,
          15.443745641930843,
          15.443745641930843,
          14.961283537262661,
          14.961283537262661,
          14.968898044532878,
          14.968898044532878,
          14.893298884601574,
          14.893298884601574,
          14.817291722900485,
          14.817291722900485,
          14.571103193721155,
          14.571103193721155,
          14.145362114919788,
          14.145362114919788,
          14.065090783216974,
          14.065090783216974,
          13.984335755871296,
          13.984335755871296,
          14.516920266626823,
          14.516920266626823,
          13.911314371395235,
          13.911314371395235,
          13.91953493641747,
          13.91953493641747,
          12.90331109172306,
          12.90331109172306,
          13.008740331983647,
          13.008740331983647,
          12.627090848149829,
          12.627090848149829,
          12.233130416478437,
          12.233130416478437,
          12.242524135223753,
          12.242524135223753,
          11.940919520699557,
          11.940919520699557,
          12.158615574666667,
          12.158615574666667,
          11.313030829703196,
          11.313030829703196,
          10.98539570696885,
          10.98539570696885,
          10.881025182877044,
          10.881025182877044,
          10.891608765969414,
          10.891608765969414,
          10.786322184431903,
          10.786322184431903,
          10.796999404810874,
          10.796999404810874,
          10.572580905567845,
          10.572580905567845,
          10.343272899073705,
          10.343272899073705,
          10.71230926203364,
          10.71230926203364,
          10.723060719317216,
          10.723060719317216,
          10.61609032277937,
          10.61609032277937,
          10.266054688349977,
          10.266054688349977,
          10.154260734688389,
          10.154260734688389,
          9.915295188322343,
          9.915295188322343,
          9.926909849040381,
          9.926909849040381,
          10.064152682274171,
          10.064152682274171,
          9.950098772044864,
          9.950098772044864,
          9.575847495629295,
          9.575847495629295,
          9.587869139868385,
          9.587869139868385
         ]
        }
       ],
       "layout": {
        "template": {
         "data": {
          "bar": [
           {
            "error_x": {
             "color": "#2a3f5f"
            },
            "error_y": {
             "color": "#2a3f5f"
            },
            "marker": {
             "line": {
              "color": "white",
              "width": 0.5
             },
             "pattern": {
              "fillmode": "overlay",
              "size": 10,
              "solidity": 0.2
             }
            },
            "type": "bar"
           }
          ],
          "barpolar": [
           {
            "marker": {
             "line": {
              "color": "white",
              "width": 0.5
             },
             "pattern": {
              "fillmode": "overlay",
              "size": 10,
              "solidity": 0.2
             }
            },
            "type": "barpolar"
           }
          ],
          "carpet": [
           {
            "aaxis": {
             "endlinecolor": "#2a3f5f",
             "gridcolor": "#C8D4E3",
             "linecolor": "#C8D4E3",
             "minorgridcolor": "#C8D4E3",
             "startlinecolor": "#2a3f5f"
            },
            "baxis": {
             "endlinecolor": "#2a3f5f",
             "gridcolor": "#C8D4E3",
             "linecolor": "#C8D4E3",
             "minorgridcolor": "#C8D4E3",
             "startlinecolor": "#2a3f5f"
            },
            "type": "carpet"
           }
          ],
          "choropleth": [
           {
            "colorbar": {
             "outlinewidth": 0,
             "ticks": ""
            },
            "type": "choropleth"
           }
          ],
          "contour": [
           {
            "colorbar": {
             "outlinewidth": 0,
             "ticks": ""
            },
            "colorscale": [
             [
              0,
              "#0d0887"
             ],
             [
              0.1111111111111111,
              "#46039f"
             ],
             [
              0.2222222222222222,
              "#7201a8"
             ],
             [
              0.3333333333333333,
              "#9c179e"
             ],
             [
              0.4444444444444444,
              "#bd3786"
             ],
             [
              0.5555555555555556,
              "#d8576b"
             ],
             [
              0.6666666666666666,
              "#ed7953"
             ],
             [
              0.7777777777777778,
              "#fb9f3a"
             ],
             [
              0.8888888888888888,
              "#fdca26"
             ],
             [
              1,
              "#f0f921"
             ]
            ],
            "type": "contour"
           }
          ],
          "contourcarpet": [
           {
            "colorbar": {
             "outlinewidth": 0,
             "ticks": ""
            },
            "type": "contourcarpet"
           }
          ],
          "heatmap": [
           {
            "colorbar": {
             "outlinewidth": 0,
             "ticks": ""
            },
            "colorscale": [
             [
              0,
              "#0d0887"
             ],
             [
              0.1111111111111111,
              "#46039f"
             ],
             [
              0.2222222222222222,
              "#7201a8"
             ],
             [
              0.3333333333333333,
              "#9c179e"
             ],
             [
              0.4444444444444444,
              "#bd3786"
             ],
             [
              0.5555555555555556,
              "#d8576b"
             ],
             [
              0.6666666666666666,
              "#ed7953"
             ],
             [
              0.7777777777777778,
              "#fb9f3a"
             ],
             [
              0.8888888888888888,
              "#fdca26"
             ],
             [
              1,
              "#f0f921"
             ]
            ],
            "type": "heatmap"
           }
          ],
          "heatmapgl": [
           {
            "colorbar": {
             "outlinewidth": 0,
             "ticks": ""
            },
            "colorscale": [
             [
              0,
              "#0d0887"
             ],
             [
              0.1111111111111111,
              "#46039f"
             ],
             [
              0.2222222222222222,
              "#7201a8"
             ],
             [
              0.3333333333333333,
              "#9c179e"
             ],
             [
              0.4444444444444444,
              "#bd3786"
             ],
             [
              0.5555555555555556,
              "#d8576b"
             ],
             [
              0.6666666666666666,
              "#ed7953"
             ],
             [
              0.7777777777777778,
              "#fb9f3a"
             ],
             [
              0.8888888888888888,
              "#fdca26"
             ],
             [
              1,
              "#f0f921"
             ]
            ],
            "type": "heatmapgl"
           }
          ],
          "histogram": [
           {
            "marker": {
             "pattern": {
              "fillmode": "overlay",
              "size": 10,
              "solidity": 0.2
             }
            },
            "type": "histogram"
           }
          ],
          "histogram2d": [
           {
            "colorbar": {
             "outlinewidth": 0,
             "ticks": ""
            },
            "colorscale": [
             [
              0,
              "#0d0887"
             ],
             [
              0.1111111111111111,
              "#46039f"
             ],
             [
              0.2222222222222222,
              "#7201a8"
             ],
             [
              0.3333333333333333,
              "#9c179e"
             ],
             [
              0.4444444444444444,
              "#bd3786"
             ],
             [
              0.5555555555555556,
              "#d8576b"
             ],
             [
              0.6666666666666666,
              "#ed7953"
             ],
             [
              0.7777777777777778,
              "#fb9f3a"
             ],
             [
              0.8888888888888888,
              "#fdca26"
             ],
             [
              1,
              "#f0f921"
             ]
            ],
            "type": "histogram2d"
           }
          ],
          "histogram2dcontour": [
           {
            "colorbar": {
             "outlinewidth": 0,
             "ticks": ""
            },
            "colorscale": [
             [
              0,
              "#0d0887"
             ],
             [
              0.1111111111111111,
              "#46039f"
             ],
             [
              0.2222222222222222,
              "#7201a8"
             ],
             [
              0.3333333333333333,
              "#9c179e"
             ],
             [
              0.4444444444444444,
              "#bd3786"
             ],
             [
              0.5555555555555556,
              "#d8576b"
             ],
             [
              0.6666666666666666,
              "#ed7953"
             ],
             [
              0.7777777777777778,
              "#fb9f3a"
             ],
             [
              0.8888888888888888,
              "#fdca26"
             ],
             [
              1,
              "#f0f921"
             ]
            ],
            "type": "histogram2dcontour"
           }
          ],
          "mesh3d": [
           {
            "colorbar": {
             "outlinewidth": 0,
             "ticks": ""
            },
            "type": "mesh3d"
           }
          ],
          "parcoords": [
           {
            "line": {
             "colorbar": {
              "outlinewidth": 0,
              "ticks": ""
             }
            },
            "type": "parcoords"
           }
          ],
          "pie": [
           {
            "automargin": true,
            "type": "pie"
           }
          ],
          "scatter": [
           {
            "fillpattern": {
             "fillmode": "overlay",
             "size": 10,
             "solidity": 0.2
            },
            "type": "scatter"
           }
          ],
          "scatter3d": [
           {
            "line": {
             "colorbar": {
              "outlinewidth": 0,
              "ticks": ""
             }
            },
            "marker": {
             "colorbar": {
              "outlinewidth": 0,
              "ticks": ""
             }
            },
            "type": "scatter3d"
           }
          ],
          "scattercarpet": [
           {
            "marker": {
             "colorbar": {
              "outlinewidth": 0,
              "ticks": ""
             }
            },
            "type": "scattercarpet"
           }
          ],
          "scattergeo": [
           {
            "marker": {
             "colorbar": {
              "outlinewidth": 0,
              "ticks": ""
             }
            },
            "type": "scattergeo"
           }
          ],
          "scattergl": [
           {
            "marker": {
             "colorbar": {
              "outlinewidth": 0,
              "ticks": ""
             }
            },
            "type": "scattergl"
           }
          ],
          "scattermapbox": [
           {
            "marker": {
             "colorbar": {
              "outlinewidth": 0,
              "ticks": ""
             }
            },
            "type": "scattermapbox"
           }
          ],
          "scatterpolar": [
           {
            "marker": {
             "colorbar": {
              "outlinewidth": 0,
              "ticks": ""
             }
            },
            "type": "scatterpolar"
           }
          ],
          "scatterpolargl": [
           {
            "marker": {
             "colorbar": {
              "outlinewidth": 0,
              "ticks": ""
             }
            },
            "type": "scatterpolargl"
           }
          ],
          "scatterternary": [
           {
            "marker": {
             "colorbar": {
              "outlinewidth": 0,
              "ticks": ""
             }
            },
            "type": "scatterternary"
           }
          ],
          "surface": [
           {
            "colorbar": {
             "outlinewidth": 0,
             "ticks": ""
            },
            "colorscale": [
             [
              0,
              "#0d0887"
             ],
             [
              0.1111111111111111,
              "#46039f"
             ],
             [
              0.2222222222222222,
              "#7201a8"
             ],
             [
              0.3333333333333333,
              "#9c179e"
             ],
             [
              0.4444444444444444,
              "#bd3786"
             ],
             [
              0.5555555555555556,
              "#d8576b"
             ],
             [
              0.6666666666666666,
              "#ed7953"
             ],
             [
              0.7777777777777778,
              "#fb9f3a"
             ],
             [
              0.8888888888888888,
              "#fdca26"
             ],
             [
              1,
              "#f0f921"
             ]
            ],
            "type": "surface"
           }
          ],
          "table": [
           {
            "cells": {
             "fill": {
              "color": "#EBF0F8"
             },
             "line": {
              "color": "white"
             }
            },
            "header": {
             "fill": {
              "color": "#C8D4E3"
             },
             "line": {
              "color": "white"
             }
            },
            "type": "table"
           }
          ]
         },
         "layout": {
          "annotationdefaults": {
           "arrowcolor": "#2a3f5f",
           "arrowhead": 0,
           "arrowwidth": 1
          },
          "autotypenumbers": "strict",
          "coloraxis": {
           "colorbar": {
            "outlinewidth": 0,
            "ticks": ""
           }
          },
          "colorscale": {
           "diverging": [
            [
             0,
             "#8e0152"
            ],
            [
             0.1,
             "#c51b7d"
            ],
            [
             0.2,
             "#de77ae"
            ],
            [
             0.3,
             "#f1b6da"
            ],
            [
             0.4,
             "#fde0ef"
            ],
            [
             0.5,
             "#f7f7f7"
            ],
            [
             0.6,
             "#e6f5d0"
            ],
            [
             0.7,
             "#b8e186"
            ],
            [
             0.8,
             "#7fbc41"
            ],
            [
             0.9,
             "#4d9221"
            ],
            [
             1,
             "#276419"
            ]
           ],
           "sequential": [
            [
             0,
             "#0d0887"
            ],
            [
             0.1111111111111111,
             "#46039f"
            ],
            [
             0.2222222222222222,
             "#7201a8"
            ],
            [
             0.3333333333333333,
             "#9c179e"
            ],
            [
             0.4444444444444444,
             "#bd3786"
            ],
            [
             0.5555555555555556,
             "#d8576b"
            ],
            [
             0.6666666666666666,
             "#ed7953"
            ],
            [
             0.7777777777777778,
             "#fb9f3a"
            ],
            [
             0.8888888888888888,
             "#fdca26"
            ],
            [
             1,
             "#f0f921"
            ]
           ],
           "sequentialminus": [
            [
             0,
             "#0d0887"
            ],
            [
             0.1111111111111111,
             "#46039f"
            ],
            [
             0.2222222222222222,
             "#7201a8"
            ],
            [
             0.3333333333333333,
             "#9c179e"
            ],
            [
             0.4444444444444444,
             "#bd3786"
            ],
            [
             0.5555555555555556,
             "#d8576b"
            ],
            [
             0.6666666666666666,
             "#ed7953"
            ],
            [
             0.7777777777777778,
             "#fb9f3a"
            ],
            [
             0.8888888888888888,
             "#fdca26"
            ],
            [
             1,
             "#f0f921"
            ]
           ]
          },
          "colorway": [
           "#636efa",
           "#EF553B",
           "#00cc96",
           "#ab63fa",
           "#FFA15A",
           "#19d3f3",
           "#FF6692",
           "#B6E880",
           "#FF97FF",
           "#FECB52"
          ],
          "font": {
           "color": "#2a3f5f"
          },
          "geo": {
           "bgcolor": "white",
           "lakecolor": "white",
           "landcolor": "white",
           "showlakes": true,
           "showland": true,
           "subunitcolor": "#C8D4E3"
          },
          "hoverlabel": {
           "align": "left"
          },
          "hovermode": "closest",
          "mapbox": {
           "style": "light"
          },
          "paper_bgcolor": "white",
          "plot_bgcolor": "white",
          "polar": {
           "angularaxis": {
            "gridcolor": "#EBF0F8",
            "linecolor": "#EBF0F8",
            "ticks": ""
           },
           "bgcolor": "white",
           "radialaxis": {
            "gridcolor": "#EBF0F8",
            "linecolor": "#EBF0F8",
            "ticks": ""
           }
          },
          "scene": {
           "xaxis": {
            "backgroundcolor": "white",
            "gridcolor": "#DFE8F3",
            "gridwidth": 2,
            "linecolor": "#EBF0F8",
            "showbackground": true,
            "ticks": "",
            "zerolinecolor": "#EBF0F8"
           },
           "yaxis": {
            "backgroundcolor": "white",
            "gridcolor": "#DFE8F3",
            "gridwidth": 2,
            "linecolor": "#EBF0F8",
            "showbackground": true,
            "ticks": "",
            "zerolinecolor": "#EBF0F8"
           },
           "zaxis": {
            "backgroundcolor": "white",
            "gridcolor": "#DFE8F3",
            "gridwidth": 2,
            "linecolor": "#EBF0F8",
            "showbackground": true,
            "ticks": "",
            "zerolinecolor": "#EBF0F8"
           }
          },
          "shapedefaults": {
           "line": {
            "color": "#2a3f5f"
           }
          },
          "ternary": {
           "aaxis": {
            "gridcolor": "#DFE8F3",
            "linecolor": "#A2B1C6",
            "ticks": ""
           },
           "baxis": {
            "gridcolor": "#DFE8F3",
            "linecolor": "#A2B1C6",
            "ticks": ""
           },
           "bgcolor": "white",
           "caxis": {
            "gridcolor": "#DFE8F3",
            "linecolor": "#A2B1C6",
            "ticks": ""
           }
          },
          "title": {
           "x": 0.05
          },
          "xaxis": {
           "automargin": true,
           "gridcolor": "#EBF0F8",
           "linecolor": "#EBF0F8",
           "ticks": "",
           "title": {
            "standoff": 15
           },
           "zerolinecolor": "#EBF0F8",
           "zerolinewidth": 2
          },
          "yaxis": {
           "automargin": true,
           "gridcolor": "#EBF0F8",
           "linecolor": "#EBF0F8",
           "ticks": "",
           "title": {
            "standoff": 15
           },
           "zerolinecolor": "#EBF0F8",
           "zerolinewidth": 2
          }
         }
        },
        "title": {
         "text": "Train Data for COVID-19 Occupied MV Beds in Midlands Region"
        },
        "xaxis": {
         "title": {
          "text": "Date"
         }
        },
        "yaxis": {
         "title": {
          "text": "COVID-19 Occupied MV Beds"
         }
        }
       }
      }
     },
     "metadata": {},
     "output_type": "display_data"
    }
   ],
   "source": [
    "# plot the train data\n",
    "fig = go.Figure()\n",
    "fig.add_trace(\n",
    "    go.Scatter(\n",
    "        x=train.index, y=train[\"covidOccupiedMVBeds\"], mode=\"lines\", name=\"Train Data\"\n",
    "    )\n",
    ")\n",
    "fig.update_layout(\n",
    "    title=\"Train Data for COVID-19 Occupied MV Beds in Midlands Region\",\n",
    "    xaxis_title=\"Date\",\n",
    "    yaxis_title=\"COVID-19 Occupied MV Beds\",\n",
    "    template=\"plotly_white\",\n",
    ")\n",
    "fig.show()"
   ]
  },
  {
   "cell_type": "code",
   "execution_count": 19,
   "metadata": {},
   "outputs": [
    {
     "name": "stdout",
     "output_type": "stream",
     "text": [
      "<class 'pandas.core.frame.DataFrame'>\n",
      "DatetimeIndex: 1251 entries, 2020-04-14 to 2021-12-30\n",
      "Data columns (total 23 columns):\n",
      " #   Column                        Non-Null Count  Dtype  \n",
      "---  ------                        --------------  -----  \n",
      " 0   covidOccupiedMVBeds           1251 non-null   float32\n",
      " 1   hospitalCases                 1251 non-null   float32\n",
      " 2   newAdmissions                 1251 non-null   float32\n",
      " 3   new_confirmed                 1251 non-null   float32\n",
      " 4   new_deceased                  1251 non-null   float32\n",
      " 5   hospitalCases_rolling_7_mean  1251 non-null   float32\n",
      " 6   hospitalCases_rolling_7_std   1251 non-null   float32\n",
      " 7   newAdmissions_rolling_7_mean  1251 non-null   float32\n",
      " 8   newAdmissions_rolling_7_std   1251 non-null   float32\n",
      " 9   new_confirmed_rolling_7_mean  1251 non-null   float32\n",
      " 10  new_confirmed_rolling_7_std   1251 non-null   float32\n",
      " 11  new_deceased_rolling_7_mean   1251 non-null   float32\n",
      " 12  new_deceased_rolling_7_std    1251 non-null   float32\n",
      " 13  covidOccupiedMVBeds_lag_1     1251 non-null   float32\n",
      " 14  covidOccupiedMVBeds_lag_2     1251 non-null   float32\n",
      " 15  covidOccupiedMVBeds_lag_3     1251 non-null   float32\n",
      " 16  covidOccupiedMVBeds_lag_5     1251 non-null   float32\n",
      " 17  covidOccupiedMVBeds_lag_7     1251 non-null   float32\n",
      " 18  covidOccupiedMVBeds_lag_14    1251 non-null   float32\n",
      " 19  covidOccupiedMVBeds_lag_21    1251 non-null   float32\n",
      " 20  month                         1251 non-null   float32\n",
      " 21  day                           1251 non-null   float32\n",
      " 22  day_of_week                   1251 non-null   float32\n",
      "dtypes: float32(23)\n",
      "memory usage: 122.2 KB\n"
     ]
    }
   ],
   "source": [
    "# Concatenate the DataFrames\n",
    "sample_df = pd.concat([train, val, test])\n",
    "\n",
    "# Convert all the feature columns to float32\n",
    "for col in sample_df.columns:\n",
    "    sample_df[col] = sample_df[col].astype(\"float32\")\n",
    "\n",
    "sample_df.info()"
   ]
  },
  {
   "cell_type": "code",
   "execution_count": 20,
   "metadata": {},
   "outputs": [
    {
     "data": {
      "text/plain": [
       "Index(['covidOccupiedMVBeds', 'hospitalCases', 'newAdmissions',\n",
       "       'new_confirmed', 'new_deceased', 'hospitalCases_rolling_7_mean',\n",
       "       'hospitalCases_rolling_7_std', 'newAdmissions_rolling_7_mean',\n",
       "       'newAdmissions_rolling_7_std', 'new_confirmed_rolling_7_mean',\n",
       "       'new_confirmed_rolling_7_std', 'new_deceased_rolling_7_mean',\n",
       "       'new_deceased_rolling_7_std', 'covidOccupiedMVBeds_lag_1',\n",
       "       'covidOccupiedMVBeds_lag_2', 'covidOccupiedMVBeds_lag_3',\n",
       "       'covidOccupiedMVBeds_lag_5', 'covidOccupiedMVBeds_lag_7',\n",
       "       'covidOccupiedMVBeds_lag_14', 'covidOccupiedMVBeds_lag_21', 'month',\n",
       "       'day', 'day_of_week'],\n",
       "      dtype='object')"
      ]
     },
     "execution_count": 20,
     "metadata": {},
     "output_type": "execute_result"
    }
   ],
   "source": [
    "sample_df.columns"
   ]
  },
  {
   "cell_type": "code",
   "execution_count": 21,
   "metadata": {},
   "outputs": [],
   "source": [
    "columns_to_select = [\n",
    "    \"covidOccupiedMVBeds\",\n",
    "    # \"hospitalCases\",\n",
    "    # \"newAdmissions\",\n",
    "    # \"new_confirmed\",\n",
    "    # \"new_deceased\",\n",
    "    # \"hospitalCases_rolling_7_mean\",\n",
    "    # \"hospitalCases_rolling_7_std\",\n",
    "    # \"newAdmissions_rolling_7_mean\",\n",
    "    # \"newAdmissions_rolling_7_std\",\n",
    "    # \"new_confirmed_rolling_7_mean\",\n",
    "    # \"new_confirmed_rolling_7_std\",\n",
    "    # \"new_deceased_rolling_7_mean\",\n",
    "    # \"new_deceased_rolling_7_std\",\n",
    "    \"covidOccupiedMVBeds_lag_1\",\n",
    "    \"covidOccupiedMVBeds_lag_2\",\n",
    "    \"covidOccupiedMVBeds_lag_3\",\n",
    "    \"covidOccupiedMVBeds_lag_5\",\n",
    "    \"covidOccupiedMVBeds_lag_7\",\n",
    "    \"covidOccupiedMVBeds_lag_14\",\n",
    "    \"covidOccupiedMVBeds_lag_21\",\n",
    "    \"month\",\n",
    "    \"day\",\n",
    "    \"day_of_week\",\n",
    "]"
   ]
  },
  {
   "cell_type": "code",
   "execution_count": 22,
   "metadata": {},
   "outputs": [
    {
     "data": {
      "text/html": [
       "<div>\n",
       "<style scoped>\n",
       "    .dataframe tbody tr th:only-of-type {\n",
       "        vertical-align: middle;\n",
       "    }\n",
       "\n",
       "    .dataframe tbody tr th {\n",
       "        vertical-align: top;\n",
       "    }\n",
       "\n",
       "    .dataframe thead th {\n",
       "        text-align: right;\n",
       "    }\n",
       "</style>\n",
       "<table border=\"1\" class=\"dataframe\">\n",
       "  <thead>\n",
       "    <tr style=\"text-align: right;\">\n",
       "      <th></th>\n",
       "      <th>covidOccupiedMVBeds</th>\n",
       "      <th>covidOccupiedMVBeds_lag_1</th>\n",
       "      <th>covidOccupiedMVBeds_lag_2</th>\n",
       "      <th>covidOccupiedMVBeds_lag_3</th>\n",
       "      <th>covidOccupiedMVBeds_lag_5</th>\n",
       "      <th>covidOccupiedMVBeds_lag_7</th>\n",
       "      <th>covidOccupiedMVBeds_lag_14</th>\n",
       "      <th>covidOccupiedMVBeds_lag_21</th>\n",
       "      <th>month</th>\n",
       "      <th>day</th>\n",
       "      <th>day_of_week</th>\n",
       "    </tr>\n",
       "    <tr>\n",
       "      <th>date</th>\n",
       "      <th></th>\n",
       "      <th></th>\n",
       "      <th></th>\n",
       "      <th></th>\n",
       "      <th></th>\n",
       "      <th></th>\n",
       "      <th></th>\n",
       "      <th></th>\n",
       "      <th></th>\n",
       "      <th></th>\n",
       "      <th></th>\n",
       "    </tr>\n",
       "  </thead>\n",
       "  <tbody>\n",
       "    <tr>\n",
       "      <th>2020-04-14</th>\n",
       "      <td>32.840992</td>\n",
       "      <td>467.0</td>\n",
       "      <td>485.0</td>\n",
       "      <td>485.0</td>\n",
       "      <td>475.0</td>\n",
       "      <td>469.0</td>\n",
       "      <td>445.0</td>\n",
       "      <td>360.0</td>\n",
       "      <td>4.0</td>\n",
       "      <td>14.0</td>\n",
       "      <td>1.0</td>\n",
       "    </tr>\n",
       "    <tr>\n",
       "      <th>2020-04-15</th>\n",
       "      <td>33.018215</td>\n",
       "      <td>467.0</td>\n",
       "      <td>467.0</td>\n",
       "      <td>485.0</td>\n",
       "      <td>475.0</td>\n",
       "      <td>469.0</td>\n",
       "      <td>450.0</td>\n",
       "      <td>360.0</td>\n",
       "      <td>4.0</td>\n",
       "      <td>15.0</td>\n",
       "      <td>2.0</td>\n",
       "    </tr>\n",
       "    <tr>\n",
       "      <th>2020-04-15</th>\n",
       "      <td>33.018215</td>\n",
       "      <td>472.0</td>\n",
       "      <td>467.0</td>\n",
       "      <td>467.0</td>\n",
       "      <td>485.0</td>\n",
       "      <td>475.0</td>\n",
       "      <td>450.0</td>\n",
       "      <td>406.0</td>\n",
       "      <td>4.0</td>\n",
       "      <td>15.0</td>\n",
       "      <td>2.0</td>\n",
       "    </tr>\n",
       "    <tr>\n",
       "      <th>2020-04-16</th>\n",
       "      <td>33.090706</td>\n",
       "      <td>472.0</td>\n",
       "      <td>472.0</td>\n",
       "      <td>467.0</td>\n",
       "      <td>485.0</td>\n",
       "      <td>475.0</td>\n",
       "      <td>465.0</td>\n",
       "      <td>406.0</td>\n",
       "      <td>4.0</td>\n",
       "      <td>16.0</td>\n",
       "      <td>3.0</td>\n",
       "    </tr>\n",
       "    <tr>\n",
       "      <th>2020-04-16</th>\n",
       "      <td>33.090706</td>\n",
       "      <td>474.0</td>\n",
       "      <td>472.0</td>\n",
       "      <td>472.0</td>\n",
       "      <td>467.0</td>\n",
       "      <td>485.0</td>\n",
       "      <td>465.0</td>\n",
       "      <td>419.0</td>\n",
       "      <td>4.0</td>\n",
       "      <td>16.0</td>\n",
       "      <td>3.0</td>\n",
       "    </tr>\n",
       "  </tbody>\n",
       "</table>\n",
       "</div>"
      ],
      "text/plain": [
       "            covidOccupiedMVBeds  covidOccupiedMVBeds_lag_1  \\\n",
       "date                                                         \n",
       "2020-04-14            32.840992                      467.0   \n",
       "2020-04-15            33.018215                      467.0   \n",
       "2020-04-15            33.018215                      472.0   \n",
       "2020-04-16            33.090706                      472.0   \n",
       "2020-04-16            33.090706                      474.0   \n",
       "\n",
       "            covidOccupiedMVBeds_lag_2  covidOccupiedMVBeds_lag_3  \\\n",
       "date                                                               \n",
       "2020-04-14                      485.0                      485.0   \n",
       "2020-04-15                      467.0                      485.0   \n",
       "2020-04-15                      467.0                      467.0   \n",
       "2020-04-16                      472.0                      467.0   \n",
       "2020-04-16                      472.0                      472.0   \n",
       "\n",
       "            covidOccupiedMVBeds_lag_5  covidOccupiedMVBeds_lag_7  \\\n",
       "date                                                               \n",
       "2020-04-14                      475.0                      469.0   \n",
       "2020-04-15                      475.0                      469.0   \n",
       "2020-04-15                      485.0                      475.0   \n",
       "2020-04-16                      485.0                      475.0   \n",
       "2020-04-16                      467.0                      485.0   \n",
       "\n",
       "            covidOccupiedMVBeds_lag_14  covidOccupiedMVBeds_lag_21  month  \\\n",
       "date                                                                        \n",
       "2020-04-14                       445.0                       360.0    4.0   \n",
       "2020-04-15                       450.0                       360.0    4.0   \n",
       "2020-04-15                       450.0                       406.0    4.0   \n",
       "2020-04-16                       465.0                       406.0    4.0   \n",
       "2020-04-16                       465.0                       419.0    4.0   \n",
       "\n",
       "             day  day_of_week  \n",
       "date                           \n",
       "2020-04-14  14.0          1.0  \n",
       "2020-04-15  15.0          2.0  \n",
       "2020-04-15  15.0          2.0  \n",
       "2020-04-16  16.0          3.0  \n",
       "2020-04-16  16.0          3.0  "
      ]
     },
     "execution_count": 22,
     "metadata": {},
     "output_type": "execute_result"
    }
   ],
   "source": [
    "sample_df = sample_df[columns_to_select]\n",
    "sample_df.head()"
   ]
  },
  {
   "cell_type": "code",
   "execution_count": 23,
   "metadata": {},
   "outputs": [],
   "source": [
    "cols = list(sample_df.columns)\n",
    "cols.remove(\"covidOccupiedMVBeds\")\n",
    "sample_df = sample_df[cols + [\"covidOccupiedMVBeds\"]]"
   ]
  },
  {
   "cell_type": "code",
   "execution_count": 24,
   "metadata": {},
   "outputs": [],
   "source": [
    "target = \"covidOccupiedMVBeds\"\n",
    "pred_df = pd.concat([train[[target]], val[[target]]])"
   ]
  },
  {
   "cell_type": "code",
   "execution_count": 25,
   "metadata": {},
   "outputs": [
    {
     "name": "stdout",
     "output_type": "stream",
     "text": [
      "Input batch shape: torch.Size([32, 7, 11])\n",
      "Output batch shape: torch.Size([32, 1, 1])\n"
     ]
    }
   ],
   "source": [
    "datamodule = TimeSeriesDataModule(\n",
    "    data=sample_df,\n",
    "    n_val=val.shape[0],\n",
    "    n_test=test.shape[0],\n",
    "    window=7,  # 7 days window\n",
    "    horizon=1,  # single step\n",
    "    normalize=\"global\",  # normalizing the data\n",
    "    batch_size=32,\n",
    "    num_workers=0,\n",
    ")\n",
    "datamodule.setup()\n",
    "\n",
    "# Check a few batches from the training dataloader\n",
    "train_loader = datamodule.train_dataloader()\n",
    "for x, y in train_loader:\n",
    "    print(\"Input batch shape:\", x.shape)\n",
    "    print(\"Output batch shape:\", y.shape)\n",
    "    break"
   ]
  },
  {
   "cell_type": "code",
   "execution_count": 26,
   "metadata": {},
   "outputs": [
    {
     "name": "stderr",
     "output_type": "stream",
     "text": [
      "GPU available: True (cuda), used: True\n",
      "TPU available: False, using: 0 TPU cores\n",
      "IPU available: False, using: 0 IPUs\n",
      "HPU available: False, using: 0 HPUs\n",
      "LOCAL_RANK: 0 - CUDA_VISIBLE_DEVICES: [0]\n",
      "\n",
      "  | Name | Type    | Params\n",
      "---------------------------------\n",
      "0 | rnn  | RNN     | 9.9 K \n",
      "1 | fc   | Linear  | 33    \n",
      "2 | loss | MSELoss | 0     \n",
      "---------------------------------\n",
      "9.9 K     Trainable params\n",
      "0         Non-trainable params\n",
      "9.9 K     Total params\n",
      "0.040     Total estimated model params size (MB)\n"
     ]
    },
    {
     "data": {
      "application/vnd.jupyter.widget-view+json": {
       "model_id": "8cfc230eff04484d982ae7b7ceeec5e5",
       "version_major": 2,
       "version_minor": 0
      },
      "text/plain": [
       "Sanity Checking: |          | 0/? [00:00<?, ?it/s]"
      ]
     },
     "metadata": {},
     "output_type": "display_data"
    },
    {
     "data": {
      "application/vnd.jupyter.widget-view+json": {
       "model_id": "e9801e6acbfd449e8c5e4ecd3f634fe9",
       "version_major": 2,
       "version_minor": 0
      },
      "text/plain": [
       "Training: |          | 0/? [00:00<?, ?it/s]"
      ]
     },
     "metadata": {},
     "output_type": "display_data"
    },
    {
     "data": {
      "application/vnd.jupyter.widget-view+json": {
       "model_id": "6bfdeded8f5248adb60648f49d7965dc",
       "version_major": 2,
       "version_minor": 0
      },
      "text/plain": [
       "Validation: |          | 0/? [00:00<?, ?it/s]"
      ]
     },
     "metadata": {},
     "output_type": "display_data"
    },
    {
     "data": {
      "application/vnd.jupyter.widget-view+json": {
       "model_id": "bc7233166dda41479d24213cc26e200a",
       "version_major": 2,
       "version_minor": 0
      },
      "text/plain": [
       "Validation: |          | 0/? [00:00<?, ?it/s]"
      ]
     },
     "metadata": {},
     "output_type": "display_data"
    },
    {
     "data": {
      "application/vnd.jupyter.widget-view+json": {
       "model_id": "0d7f5c09d37f4c44a0cad9ca9588f81d",
       "version_major": 2,
       "version_minor": 0
      },
      "text/plain": [
       "Validation: |          | 0/? [00:00<?, ?it/s]"
      ]
     },
     "metadata": {},
     "output_type": "display_data"
    },
    {
     "data": {
      "application/vnd.jupyter.widget-view+json": {
       "model_id": "6ec121e99e3a44dd9e68f626a6f7cb0d",
       "version_major": 2,
       "version_minor": 0
      },
      "text/plain": [
       "Validation: |          | 0/? [00:00<?, ?it/s]"
      ]
     },
     "metadata": {},
     "output_type": "display_data"
    },
    {
     "data": {
      "application/vnd.jupyter.widget-view+json": {
       "model_id": "95eba507fc8845618bc223b9454b8a78",
       "version_major": 2,
       "version_minor": 0
      },
      "text/plain": [
       "Validation: |          | 0/? [00:00<?, ?it/s]"
      ]
     },
     "metadata": {},
     "output_type": "display_data"
    },
    {
     "data": {
      "application/vnd.jupyter.widget-view+json": {
       "model_id": "a35c0c3c88594111aa450f6a859fb833",
       "version_major": 2,
       "version_minor": 0
      },
      "text/plain": [
       "Validation: |          | 0/? [00:00<?, ?it/s]"
      ]
     },
     "metadata": {},
     "output_type": "display_data"
    },
    {
     "data": {
      "application/vnd.jupyter.widget-view+json": {
       "model_id": "11b3cb5996bd4a02b17d1aab5c4dbf28",
       "version_major": 2,
       "version_minor": 0
      },
      "text/plain": [
       "Validation: |          | 0/? [00:00<?, ?it/s]"
      ]
     },
     "metadata": {},
     "output_type": "display_data"
    },
    {
     "data": {
      "application/vnd.jupyter.widget-view+json": {
       "model_id": "8479fd825a544db7a9e08b9753415548",
       "version_major": 2,
       "version_minor": 0
      },
      "text/plain": [
       "Validation: |          | 0/? [00:00<?, ?it/s]"
      ]
     },
     "metadata": {},
     "output_type": "display_data"
    },
    {
     "data": {
      "application/vnd.jupyter.widget-view+json": {
       "model_id": "6458d4bd2d8d45928c59796012f8c9a8",
       "version_major": 2,
       "version_minor": 0
      },
      "text/plain": [
       "Validation: |          | 0/? [00:00<?, ?it/s]"
      ]
     },
     "metadata": {},
     "output_type": "display_data"
    },
    {
     "data": {
      "application/vnd.jupyter.widget-view+json": {
       "model_id": "6208a7e408fb46b7a50ced7fff11456b",
       "version_major": 2,
       "version_minor": 0
      },
      "text/plain": [
       "Validation: |          | 0/? [00:00<?, ?it/s]"
      ]
     },
     "metadata": {},
     "output_type": "display_data"
    },
    {
     "data": {
      "application/vnd.jupyter.widget-view+json": {
       "model_id": "3bfeaf7e9f9e4bae9972bce63687d203",
       "version_major": 2,
       "version_minor": 0
      },
      "text/plain": [
       "Validation: |          | 0/? [00:00<?, ?it/s]"
      ]
     },
     "metadata": {},
     "output_type": "display_data"
    },
    {
     "data": {
      "application/vnd.jupyter.widget-view+json": {
       "model_id": "b222ef74a4e945d6b065b5b501556a9f",
       "version_major": 2,
       "version_minor": 0
      },
      "text/plain": [
       "Validation: |          | 0/? [00:00<?, ?it/s]"
      ]
     },
     "metadata": {},
     "output_type": "display_data"
    },
    {
     "data": {
      "application/vnd.jupyter.widget-view+json": {
       "model_id": "ac7e73fee8bf4dd08eb46b174d21b33a",
       "version_major": 2,
       "version_minor": 0
      },
      "text/plain": [
       "Validation: |          | 0/? [00:00<?, ?it/s]"
      ]
     },
     "metadata": {},
     "output_type": "display_data"
    },
    {
     "data": {
      "application/vnd.jupyter.widget-view+json": {
       "model_id": "68e89ef4bc0c4de0a9f4375b159d76fd",
       "version_major": 2,
       "version_minor": 0
      },
      "text/plain": [
       "Validation: |          | 0/? [00:00<?, ?it/s]"
      ]
     },
     "metadata": {},
     "output_type": "display_data"
    },
    {
     "data": {
      "application/vnd.jupyter.widget-view+json": {
       "model_id": "fed72be29db64d7c8892280b3d91c221",
       "version_major": 2,
       "version_minor": 0
      },
      "text/plain": [
       "Validation: |          | 0/? [00:00<?, ?it/s]"
      ]
     },
     "metadata": {},
     "output_type": "display_data"
    },
    {
     "data": {
      "application/vnd.jupyter.widget-view+json": {
       "model_id": "44bd022963e64c44834a5fabd2b9f051",
       "version_major": 2,
       "version_minor": 0
      },
      "text/plain": [
       "Validation: |          | 0/? [00:00<?, ?it/s]"
      ]
     },
     "metadata": {},
     "output_type": "display_data"
    },
    {
     "data": {
      "application/vnd.jupyter.widget-view+json": {
       "model_id": "ad27e9758ee4422ba8de7c723794a4c1",
       "version_major": 2,
       "version_minor": 0
      },
      "text/plain": [
       "Validation: |          | 0/? [00:00<?, ?it/s]"
      ]
     },
     "metadata": {},
     "output_type": "display_data"
    },
    {
     "data": {
      "application/vnd.jupyter.widget-view+json": {
       "model_id": "81768b40a3b1471cbbe4c3c3886b7ea0",
       "version_major": 2,
       "version_minor": 0
      },
      "text/plain": [
       "Validation: |          | 0/? [00:00<?, ?it/s]"
      ]
     },
     "metadata": {},
     "output_type": "display_data"
    },
    {
     "data": {
      "application/vnd.jupyter.widget-view+json": {
       "model_id": "adab8f9150df4f5fb26905c3b640975d",
       "version_major": 2,
       "version_minor": 0
      },
      "text/plain": [
       "Validation: |          | 0/? [00:00<?, ?it/s]"
      ]
     },
     "metadata": {},
     "output_type": "display_data"
    },
    {
     "data": {
      "application/vnd.jupyter.widget-view+json": {
       "model_id": "a20b817910d94bda83ea2dc46f94b0f1",
       "version_major": 2,
       "version_minor": 0
      },
      "text/plain": [
       "Validation: |          | 0/? [00:00<?, ?it/s]"
      ]
     },
     "metadata": {},
     "output_type": "display_data"
    },
    {
     "data": {
      "application/vnd.jupyter.widget-view+json": {
       "model_id": "eb38090be8d2444fac71fe47c2a0c1ba",
       "version_major": 2,
       "version_minor": 0
      },
      "text/plain": [
       "Validation: |          | 0/? [00:00<?, ?it/s]"
      ]
     },
     "metadata": {},
     "output_type": "display_data"
    },
    {
     "data": {
      "application/vnd.jupyter.widget-view+json": {
       "model_id": "535284c77b96450495fd3320e4b927b8",
       "version_major": 2,
       "version_minor": 0
      },
      "text/plain": [
       "Validation: |          | 0/? [00:00<?, ?it/s]"
      ]
     },
     "metadata": {},
     "output_type": "display_data"
    },
    {
     "data": {
      "application/vnd.jupyter.widget-view+json": {
       "model_id": "a493f54a63d14b498e65a1c521523c0d",
       "version_major": 2,
       "version_minor": 0
      },
      "text/plain": [
       "Validation: |          | 0/? [00:00<?, ?it/s]"
      ]
     },
     "metadata": {},
     "output_type": "display_data"
    },
    {
     "data": {
      "application/vnd.jupyter.widget-view+json": {
       "model_id": "88c89c156c9741dcaf5da86d066eb9f6",
       "version_major": 2,
       "version_minor": 0
      },
      "text/plain": [
       "Validation: |          | 0/? [00:00<?, ?it/s]"
      ]
     },
     "metadata": {},
     "output_type": "display_data"
    },
    {
     "data": {
      "application/vnd.jupyter.widget-view+json": {
       "model_id": "c76b4875457a46efadef61ebd7dc4563",
       "version_major": 2,
       "version_minor": 0
      },
      "text/plain": [
       "Validation: |          | 0/? [00:00<?, ?it/s]"
      ]
     },
     "metadata": {},
     "output_type": "display_data"
    },
    {
     "data": {
      "application/vnd.jupyter.widget-view+json": {
       "model_id": "8cc369b5e4014867a622dbfefc1e020e",
       "version_major": 2,
       "version_minor": 0
      },
      "text/plain": [
       "Validation: |          | 0/? [00:00<?, ?it/s]"
      ]
     },
     "metadata": {},
     "output_type": "display_data"
    },
    {
     "data": {
      "application/vnd.jupyter.widget-view+json": {
       "model_id": "ffd15bf3be8c4b2dac04d43a54ea1a14",
       "version_major": 2,
       "version_minor": 0
      },
      "text/plain": [
       "Validation: |          | 0/? [00:00<?, ?it/s]"
      ]
     },
     "metadata": {},
     "output_type": "display_data"
    },
    {
     "data": {
      "application/vnd.jupyter.widget-view+json": {
       "model_id": "adcf80ef41464b5a90348a752893a02b",
       "version_major": 2,
       "version_minor": 0
      },
      "text/plain": [
       "Validation: |          | 0/? [00:00<?, ?it/s]"
      ]
     },
     "metadata": {},
     "output_type": "display_data"
    },
    {
     "data": {
      "application/vnd.jupyter.widget-view+json": {
       "model_id": "bf4b5d8129844c92919bd7813aaa6a31",
       "version_major": 2,
       "version_minor": 0
      },
      "text/plain": [
       "Validation: |          | 0/? [00:00<?, ?it/s]"
      ]
     },
     "metadata": {},
     "output_type": "display_data"
    },
    {
     "data": {
      "application/vnd.jupyter.widget-view+json": {
       "model_id": "0e89625037564af49a869d8602b82557",
       "version_major": 2,
       "version_minor": 0
      },
      "text/plain": [
       "Validation: |          | 0/? [00:00<?, ?it/s]"
      ]
     },
     "metadata": {},
     "output_type": "display_data"
    },
    {
     "data": {
      "application/vnd.jupyter.widget-view+json": {
       "model_id": "2799f377af0f4a76a3f841c61696ab12",
       "version_major": 2,
       "version_minor": 0
      },
      "text/plain": [
       "Validation: |          | 0/? [00:00<?, ?it/s]"
      ]
     },
     "metadata": {},
     "output_type": "display_data"
    },
    {
     "data": {
      "application/vnd.jupyter.widget-view+json": {
       "model_id": "53c94c86ff464258ae5a793b64b76f1f",
       "version_major": 2,
       "version_minor": 0
      },
      "text/plain": [
       "Validation: |          | 0/? [00:00<?, ?it/s]"
      ]
     },
     "metadata": {},
     "output_type": "display_data"
    },
    {
     "data": {
      "application/vnd.jupyter.widget-view+json": {
       "model_id": "e95b32acfe0141c1be3e354261788009",
       "version_major": 2,
       "version_minor": 0
      },
      "text/plain": [
       "Validation: |          | 0/? [00:00<?, ?it/s]"
      ]
     },
     "metadata": {},
     "output_type": "display_data"
    },
    {
     "data": {
      "application/vnd.jupyter.widget-view+json": {
       "model_id": "54495acaf31b4442ba84ecc24365eadd",
       "version_major": 2,
       "version_minor": 0
      },
      "text/plain": [
       "Validation: |          | 0/? [00:00<?, ?it/s]"
      ]
     },
     "metadata": {},
     "output_type": "display_data"
    },
    {
     "data": {
      "application/vnd.jupyter.widget-view+json": {
       "model_id": "6deb17f641b7405084e6424d7993c983",
       "version_major": 2,
       "version_minor": 0
      },
      "text/plain": [
       "Validation: |          | 0/? [00:00<?, ?it/s]"
      ]
     },
     "metadata": {},
     "output_type": "display_data"
    },
    {
     "data": {
      "application/vnd.jupyter.widget-view+json": {
       "model_id": "c82833cfc4cd436d8dddec7a4322b128",
       "version_major": 2,
       "version_minor": 0
      },
      "text/plain": [
       "Validation: |          | 0/? [00:00<?, ?it/s]"
      ]
     },
     "metadata": {},
     "output_type": "display_data"
    },
    {
     "data": {
      "application/vnd.jupyter.widget-view+json": {
       "model_id": "06c35f3281e9403ebbc28fac0da130fa",
       "version_major": 2,
       "version_minor": 0
      },
      "text/plain": [
       "Validation: |          | 0/? [00:00<?, ?it/s]"
      ]
     },
     "metadata": {},
     "output_type": "display_data"
    },
    {
     "data": {
      "application/vnd.jupyter.widget-view+json": {
       "model_id": "2e1d1a28393e4d79823570011bdb7e8e",
       "version_major": 2,
       "version_minor": 0
      },
      "text/plain": [
       "Validation: |          | 0/? [00:00<?, ?it/s]"
      ]
     },
     "metadata": {},
     "output_type": "display_data"
    },
    {
     "data": {
      "application/vnd.jupyter.widget-view+json": {
       "model_id": "e53cafb9e58b4d04a31715b2e878206e",
       "version_major": 2,
       "version_minor": 0
      },
      "text/plain": [
       "Validation: |          | 0/? [00:00<?, ?it/s]"
      ]
     },
     "metadata": {},
     "output_type": "display_data"
    },
    {
     "data": {
      "application/vnd.jupyter.widget-view+json": {
       "model_id": "88a98b9cc1a04d798610be520b1a0563",
       "version_major": 2,
       "version_minor": 0
      },
      "text/plain": [
       "Validation: |          | 0/? [00:00<?, ?it/s]"
      ]
     },
     "metadata": {},
     "output_type": "display_data"
    },
    {
     "data": {
      "application/vnd.jupyter.widget-view+json": {
       "model_id": "c0a9a192a15247569fbac56933bf7ec1",
       "version_major": 2,
       "version_minor": 0
      },
      "text/plain": [
       "Validation: |          | 0/? [00:00<?, ?it/s]"
      ]
     },
     "metadata": {},
     "output_type": "display_data"
    },
    {
     "data": {
      "application/vnd.jupyter.widget-view+json": {
       "model_id": "01dcfb415139484da50210f6dc8aa808",
       "version_major": 2,
       "version_minor": 0
      },
      "text/plain": [
       "Validation: |          | 0/? [00:00<?, ?it/s]"
      ]
     },
     "metadata": {},
     "output_type": "display_data"
    },
    {
     "data": {
      "application/vnd.jupyter.widget-view+json": {
       "model_id": "6503440ba4f6401c9c0d1575d717c21e",
       "version_major": 2,
       "version_minor": 0
      },
      "text/plain": [
       "Validation: |          | 0/? [00:00<?, ?it/s]"
      ]
     },
     "metadata": {},
     "output_type": "display_data"
    },
    {
     "data": {
      "application/vnd.jupyter.widget-view+json": {
       "model_id": "46dff3c99bd149d2b4657af634c605e7",
       "version_major": 2,
       "version_minor": 0
      },
      "text/plain": [
       "Validation: |          | 0/? [00:00<?, ?it/s]"
      ]
     },
     "metadata": {},
     "output_type": "display_data"
    },
    {
     "data": {
      "application/vnd.jupyter.widget-view+json": {
       "model_id": "aff103f2f1c64e1ebf708e4c3dfa8a3a",
       "version_major": 2,
       "version_minor": 0
      },
      "text/plain": [
       "Validation: |          | 0/? [00:00<?, ?it/s]"
      ]
     },
     "metadata": {},
     "output_type": "display_data"
    },
    {
     "data": {
      "application/vnd.jupyter.widget-view+json": {
       "model_id": "83a28553282d477d9e7b964b256749d1",
       "version_major": 2,
       "version_minor": 0
      },
      "text/plain": [
       "Validation: |          | 0/? [00:00<?, ?it/s]"
      ]
     },
     "metadata": {},
     "output_type": "display_data"
    },
    {
     "data": {
      "application/vnd.jupyter.widget-view+json": {
       "model_id": "1c5fd8686e2643b6846152787a2975d9",
       "version_major": 2,
       "version_minor": 0
      },
      "text/plain": [
       "Validation: |          | 0/? [00:00<?, ?it/s]"
      ]
     },
     "metadata": {},
     "output_type": "display_data"
    },
    {
     "data": {
      "application/vnd.jupyter.widget-view+json": {
       "model_id": "13729dcb7780408cb38fc3656c43f458",
       "version_major": 2,
       "version_minor": 0
      },
      "text/plain": [
       "Validation: |          | 0/? [00:00<?, ?it/s]"
      ]
     },
     "metadata": {},
     "output_type": "display_data"
    }
   ],
   "source": [
    "# Setting up TensorBoard logger\n",
    "# logger = TensorBoardLogger(\"notebook/multivariate/tb_logs\", name=\"my_rnn_experiment\")\n",
    "\n",
    "# %tensorboard --logdir tb_logs\n",
    "\n",
    "\n",
    "rnn_config = SingleStepRNNConfig(\n",
    "    rnn_type=\"RNN\",\n",
    "    input_size=11,  # 25 for multivariate time series\n",
    "    hidden_size=32,  # hidden size of the RNN\n",
    "    num_layers=5, # number of layers\n",
    "    bidirectional=False, # bidirectional RNN\n",
    "    learning_rate=1e-3,\n",
    ")\n",
    "model = SingleStepRNNModel(rnn_config)\n",
    "# model.float()\n",
    "\n",
    "trainer = pl.Trainer(\n",
    "    # logger=logger,\n",
    "    min_epochs=5,\n",
    "    max_epochs=100,\n",
    "    accelerator = \"gpu\",\n",
    "    devices = 1,\n",
    "    callbacks=[EarlyStopping(monitor=\"valid_loss\", patience=10)],\n",
    ")\n",
    "trainer.fit(model, datamodule)"
   ]
  },
  {
   "cell_type": "code",
   "execution_count": 27,
   "metadata": {},
   "outputs": [],
   "source": [
    "metric_record = []"
   ]
  },
  {
   "cell_type": "code",
   "execution_count": 28,
   "metadata": {},
   "outputs": [
    {
     "name": "stderr",
     "output_type": "stream",
     "text": [
      "LOCAL_RANK: 0 - CUDA_VISIBLE_DEVICES: [0]\n"
     ]
    },
    {
     "data": {
      "application/vnd.jupyter.widget-view+json": {
       "model_id": "98b8d10913434309bce6c31252087923",
       "version_major": 2,
       "version_minor": 0
      },
      "text/plain": [
       "Predicting: |          | 0/? [00:00<?, ?it/s]"
      ]
     },
     "metadata": {},
     "output_type": "display_data"
    },
    {
     "name": "stdout",
     "output_type": "stream",
     "text": [
      "{'Algorithm': 'RNN', 'MAE': '1.6175', 'MSE': '2.8424', 'MASE': '7.0797', 'Forecast Bias': '-1.62'}\n"
     ]
    }
   ],
   "source": [
    "predictions = trainer.predict(model, datamodule.test_dataloader())\n",
    "predictions = torch.cat(predictions).squeeze().detach().numpy()\n",
    "# De-normalizing the predictions\n",
    "predictions = predictions * datamodule.train.std + datamodule.train.mean\n",
    "\n",
    "actuals = test[\"covidOccupiedMVBeds\"].values\n",
    "\n",
    "assert (\n",
    "    actuals.shape == predictions.shape\n",
    "), \"Mismatch in shapes between actuals and predictions\"\n",
    "\n",
    "algorithm_name = rnn_config.rnn_type\n",
    "\n",
    "metrics = {\n",
    "    \"Algorithm\": algorithm_name,\n",
    "    \"MAE\": mae(actuals, predictions),\n",
    "    \"MSE\": mse(actuals, predictions),\n",
    "    \"MASE\": mase(actuals, predictions, train[\"covidOccupiedMVBeds\"].values),\n",
    "    \"Forecast Bias\": forecast_bias(actuals, predictions),\n",
    "}\n",
    "\n",
    "value_formats = [\"{}\", \"{:.4f}\", \"{:.4f}\", \"{:.4f}\", \"{:.2f}\"]\n",
    "metrics = {\n",
    "    key: format_.format(value)\n",
    "    for key, value, format_ in zip(metrics.keys(), metrics.values(), value_formats)\n",
    "}\n",
    "\n",
    "pred_df_ = pd.DataFrame({f\"Vanilla {algorithm_name}\": predictions}, index=test.index)\n",
    "pred_df = test.join(pred_df_)\n",
    "\n",
    "metric_record.append(metrics)\n",
    "print(metrics)"
   ]
  },
  {
   "cell_type": "code",
   "execution_count": 29,
   "metadata": {},
   "outputs": [
    {
     "data": {
      "application/vnd.plotly.v1+json": {
       "config": {
        "plotlyServerURL": "https://plot.ly"
       },
       "data": [
        {
         "line": {
          "color": "rgb(102,194,165)",
          "width": 2
         },
         "marker": {
          "opacity": 0.5,
          "size": 6
         },
         "mode": "lines",
         "name": "Actual COVID-19 MVBeds trends",
         "type": "scatter",
         "x": [
          "2021-09-25T00:00:00",
          "2021-09-25T00:00:00",
          "2021-09-25T00:00:00",
          "2021-09-25T00:00:00",
          "2021-09-26T00:00:00",
          "2021-09-26T00:00:00",
          "2021-09-26T00:00:00",
          "2021-09-26T00:00:00",
          "2021-09-27T00:00:00",
          "2021-09-27T00:00:00",
          "2021-09-27T00:00:00",
          "2021-09-27T00:00:00",
          "2021-09-28T00:00:00",
          "2021-09-28T00:00:00",
          "2021-09-28T00:00:00",
          "2021-09-28T00:00:00",
          "2021-09-29T00:00:00",
          "2021-09-29T00:00:00",
          "2021-09-29T00:00:00",
          "2021-09-29T00:00:00",
          "2021-09-30T00:00:00",
          "2021-09-30T00:00:00",
          "2021-09-30T00:00:00",
          "2021-09-30T00:00:00",
          "2021-10-01T00:00:00",
          "2021-10-01T00:00:00",
          "2021-10-01T00:00:00",
          "2021-10-01T00:00:00",
          "2021-10-02T00:00:00",
          "2021-10-02T00:00:00",
          "2021-10-02T00:00:00",
          "2021-10-02T00:00:00",
          "2021-10-03T00:00:00",
          "2021-10-03T00:00:00",
          "2021-10-03T00:00:00",
          "2021-10-03T00:00:00",
          "2021-10-04T00:00:00",
          "2021-10-04T00:00:00",
          "2021-10-04T00:00:00",
          "2021-10-04T00:00:00",
          "2021-10-05T00:00:00",
          "2021-10-05T00:00:00",
          "2021-10-05T00:00:00",
          "2021-10-05T00:00:00",
          "2021-10-06T00:00:00",
          "2021-10-06T00:00:00",
          "2021-10-06T00:00:00",
          "2021-10-06T00:00:00",
          "2021-10-07T00:00:00",
          "2021-10-07T00:00:00",
          "2021-10-07T00:00:00",
          "2021-10-07T00:00:00",
          "2021-10-08T00:00:00",
          "2021-10-08T00:00:00",
          "2021-10-08T00:00:00",
          "2021-10-08T00:00:00",
          "2021-10-09T00:00:00",
          "2021-10-09T00:00:00",
          "2021-10-09T00:00:00",
          "2021-10-09T00:00:00",
          "2021-10-10T00:00:00",
          "2021-10-10T00:00:00",
          "2021-10-10T00:00:00",
          "2021-10-10T00:00:00",
          "2021-10-11T00:00:00",
          "2021-10-11T00:00:00",
          "2021-10-11T00:00:00",
          "2021-10-11T00:00:00",
          "2021-10-12T00:00:00",
          "2021-10-12T00:00:00",
          "2021-10-12T00:00:00",
          "2021-10-12T00:00:00",
          "2021-10-13T00:00:00",
          "2021-10-13T00:00:00",
          "2021-10-13T00:00:00",
          "2021-10-13T00:00:00",
          "2021-10-14T00:00:00",
          "2021-10-14T00:00:00",
          "2021-10-14T00:00:00",
          "2021-10-14T00:00:00",
          "2021-10-15T00:00:00",
          "2021-10-15T00:00:00",
          "2021-10-15T00:00:00",
          "2021-10-15T00:00:00",
          "2021-10-16T00:00:00",
          "2021-10-16T00:00:00",
          "2021-10-16T00:00:00",
          "2021-10-16T00:00:00",
          "2021-10-17T00:00:00",
          "2021-10-17T00:00:00",
          "2021-10-17T00:00:00",
          "2021-10-17T00:00:00",
          "2021-10-18T00:00:00",
          "2021-10-18T00:00:00",
          "2021-10-18T00:00:00",
          "2021-10-18T00:00:00",
          "2021-10-19T00:00:00",
          "2021-10-19T00:00:00",
          "2021-10-19T00:00:00",
          "2021-10-19T00:00:00",
          "2021-10-20T00:00:00",
          "2021-10-20T00:00:00",
          "2021-10-20T00:00:00",
          "2021-10-20T00:00:00",
          "2021-10-21T00:00:00",
          "2021-10-21T00:00:00",
          "2021-10-21T00:00:00",
          "2021-10-21T00:00:00",
          "2021-10-22T00:00:00",
          "2021-10-22T00:00:00",
          "2021-10-22T00:00:00",
          "2021-10-22T00:00:00",
          "2021-10-23T00:00:00",
          "2021-10-23T00:00:00",
          "2021-10-23T00:00:00",
          "2021-10-23T00:00:00",
          "2021-10-24T00:00:00",
          "2021-10-24T00:00:00",
          "2021-10-24T00:00:00",
          "2021-10-24T00:00:00",
          "2021-10-25T00:00:00",
          "2021-10-25T00:00:00",
          "2021-10-25T00:00:00",
          "2021-10-25T00:00:00",
          "2021-10-26T00:00:00",
          "2021-10-26T00:00:00",
          "2021-10-26T00:00:00",
          "2021-10-26T00:00:00",
          "2021-10-27T00:00:00",
          "2021-10-27T00:00:00",
          "2021-10-27T00:00:00",
          "2021-10-27T00:00:00",
          "2021-10-28T00:00:00",
          "2021-10-28T00:00:00",
          "2021-10-28T00:00:00",
          "2021-10-28T00:00:00",
          "2021-10-29T00:00:00",
          "2021-10-29T00:00:00",
          "2021-10-29T00:00:00",
          "2021-10-29T00:00:00",
          "2021-10-30T00:00:00",
          "2021-10-30T00:00:00",
          "2021-10-30T00:00:00",
          "2021-10-30T00:00:00",
          "2021-10-31T00:00:00",
          "2021-10-31T00:00:00",
          "2021-10-31T00:00:00",
          "2021-10-31T00:00:00",
          "2021-11-01T00:00:00",
          "2021-11-01T00:00:00",
          "2021-11-01T00:00:00",
          "2021-11-01T00:00:00",
          "2021-11-02T00:00:00",
          "2021-11-02T00:00:00",
          "2021-11-02T00:00:00",
          "2021-11-02T00:00:00",
          "2021-11-03T00:00:00",
          "2021-11-03T00:00:00",
          "2021-11-03T00:00:00",
          "2021-11-03T00:00:00",
          "2021-11-04T00:00:00",
          "2021-11-04T00:00:00",
          "2021-11-04T00:00:00",
          "2021-11-04T00:00:00",
          "2021-11-05T00:00:00",
          "2021-11-05T00:00:00",
          "2021-11-05T00:00:00",
          "2021-11-05T00:00:00",
          "2021-11-06T00:00:00",
          "2021-11-06T00:00:00",
          "2021-11-06T00:00:00",
          "2021-11-06T00:00:00",
          "2021-11-07T00:00:00",
          "2021-11-07T00:00:00",
          "2021-11-07T00:00:00",
          "2021-11-07T00:00:00",
          "2021-11-08T00:00:00",
          "2021-11-08T00:00:00",
          "2021-11-08T00:00:00",
          "2021-11-08T00:00:00",
          "2021-11-09T00:00:00",
          "2021-11-09T00:00:00",
          "2021-11-09T00:00:00",
          "2021-11-09T00:00:00",
          "2021-11-10T00:00:00",
          "2021-11-10T00:00:00",
          "2021-11-10T00:00:00",
          "2021-11-10T00:00:00",
          "2021-11-11T00:00:00",
          "2021-11-11T00:00:00",
          "2021-11-11T00:00:00",
          "2021-11-11T00:00:00",
          "2021-11-12T00:00:00",
          "2021-11-12T00:00:00",
          "2021-11-12T00:00:00",
          "2021-11-12T00:00:00",
          "2021-11-13T00:00:00",
          "2021-11-13T00:00:00",
          "2021-11-13T00:00:00",
          "2021-11-13T00:00:00",
          "2021-11-14T00:00:00",
          "2021-11-14T00:00:00",
          "2021-11-14T00:00:00",
          "2021-11-14T00:00:00",
          "2021-11-15T00:00:00",
          "2021-11-15T00:00:00",
          "2021-11-15T00:00:00",
          "2021-11-15T00:00:00",
          "2021-11-16T00:00:00",
          "2021-11-16T00:00:00",
          "2021-11-16T00:00:00",
          "2021-11-16T00:00:00",
          "2021-11-17T00:00:00",
          "2021-11-17T00:00:00",
          "2021-11-17T00:00:00",
          "2021-11-17T00:00:00",
          "2021-11-18T00:00:00",
          "2021-11-18T00:00:00",
          "2021-11-18T00:00:00",
          "2021-11-18T00:00:00",
          "2021-11-19T00:00:00",
          "2021-11-19T00:00:00",
          "2021-11-19T00:00:00",
          "2021-11-19T00:00:00",
          "2021-11-20T00:00:00",
          "2021-11-20T00:00:00",
          "2021-11-20T00:00:00",
          "2021-11-20T00:00:00",
          "2021-11-21T00:00:00",
          "2021-11-21T00:00:00",
          "2021-11-21T00:00:00",
          "2021-11-21T00:00:00",
          "2021-11-22T00:00:00",
          "2021-11-22T00:00:00",
          "2021-11-22T00:00:00",
          "2021-11-22T00:00:00",
          "2021-11-23T00:00:00",
          "2021-11-23T00:00:00",
          "2021-11-23T00:00:00",
          "2021-11-23T00:00:00",
          "2021-11-24T00:00:00",
          "2021-11-24T00:00:00",
          "2021-11-24T00:00:00",
          "2021-11-24T00:00:00",
          "2021-11-25T00:00:00",
          "2021-11-25T00:00:00",
          "2021-11-25T00:00:00",
          "2021-11-25T00:00:00",
          "2021-11-26T00:00:00",
          "2021-11-26T00:00:00",
          "2021-11-26T00:00:00",
          "2021-11-26T00:00:00",
          "2021-11-27T00:00:00",
          "2021-11-27T00:00:00",
          "2021-11-27T00:00:00",
          "2021-11-27T00:00:00",
          "2021-11-28T00:00:00",
          "2021-11-28T00:00:00",
          "2021-11-28T00:00:00",
          "2021-11-28T00:00:00",
          "2021-11-29T00:00:00",
          "2021-11-29T00:00:00",
          "2021-11-29T00:00:00",
          "2021-11-29T00:00:00",
          "2021-11-30T00:00:00",
          "2021-11-30T00:00:00",
          "2021-11-30T00:00:00",
          "2021-11-30T00:00:00",
          "2021-12-01T00:00:00",
          "2021-12-01T00:00:00",
          "2021-12-01T00:00:00",
          "2021-12-01T00:00:00",
          "2021-12-02T00:00:00",
          "2021-12-02T00:00:00",
          "2021-12-02T00:00:00",
          "2021-12-02T00:00:00",
          "2021-12-03T00:00:00",
          "2021-12-03T00:00:00",
          "2021-12-03T00:00:00",
          "2021-12-03T00:00:00",
          "2021-12-04T00:00:00",
          "2021-12-04T00:00:00",
          "2021-12-04T00:00:00",
          "2021-12-04T00:00:00",
          "2021-12-05T00:00:00",
          "2021-12-05T00:00:00",
          "2021-12-05T00:00:00",
          "2021-12-05T00:00:00",
          "2021-12-06T00:00:00",
          "2021-12-06T00:00:00",
          "2021-12-06T00:00:00",
          "2021-12-06T00:00:00",
          "2021-12-07T00:00:00",
          "2021-12-07T00:00:00",
          "2021-12-07T00:00:00",
          "2021-12-07T00:00:00",
          "2021-12-08T00:00:00",
          "2021-12-08T00:00:00",
          "2021-12-08T00:00:00",
          "2021-12-08T00:00:00",
          "2021-12-09T00:00:00",
          "2021-12-09T00:00:00",
          "2021-12-09T00:00:00",
          "2021-12-09T00:00:00",
          "2021-12-10T00:00:00",
          "2021-12-10T00:00:00",
          "2021-12-10T00:00:00",
          "2021-12-10T00:00:00",
          "2021-12-11T00:00:00",
          "2021-12-11T00:00:00",
          "2021-12-11T00:00:00",
          "2021-12-11T00:00:00",
          "2021-12-12T00:00:00",
          "2021-12-12T00:00:00",
          "2021-12-12T00:00:00",
          "2021-12-12T00:00:00",
          "2021-12-13T00:00:00",
          "2021-12-13T00:00:00",
          "2021-12-13T00:00:00",
          "2021-12-13T00:00:00",
          "2021-12-14T00:00:00",
          "2021-12-14T00:00:00",
          "2021-12-14T00:00:00",
          "2021-12-14T00:00:00",
          "2021-12-15T00:00:00",
          "2021-12-15T00:00:00",
          "2021-12-15T00:00:00",
          "2021-12-15T00:00:00",
          "2021-12-16T00:00:00",
          "2021-12-16T00:00:00",
          "2021-12-16T00:00:00",
          "2021-12-16T00:00:00",
          "2021-12-17T00:00:00",
          "2021-12-17T00:00:00",
          "2021-12-17T00:00:00",
          "2021-12-17T00:00:00",
          "2021-12-18T00:00:00",
          "2021-12-18T00:00:00",
          "2021-12-18T00:00:00",
          "2021-12-18T00:00:00",
          "2021-12-19T00:00:00",
          "2021-12-19T00:00:00",
          "2021-12-19T00:00:00",
          "2021-12-19T00:00:00",
          "2021-12-20T00:00:00",
          "2021-12-20T00:00:00",
          "2021-12-20T00:00:00",
          "2021-12-20T00:00:00",
          "2021-12-21T00:00:00",
          "2021-12-21T00:00:00",
          "2021-12-21T00:00:00",
          "2021-12-21T00:00:00",
          "2021-12-22T00:00:00",
          "2021-12-22T00:00:00",
          "2021-12-22T00:00:00",
          "2021-12-22T00:00:00",
          "2021-12-23T00:00:00",
          "2021-12-23T00:00:00",
          "2021-12-23T00:00:00",
          "2021-12-23T00:00:00",
          "2021-12-24T00:00:00",
          "2021-12-24T00:00:00",
          "2021-12-24T00:00:00",
          "2021-12-24T00:00:00",
          "2021-12-25T00:00:00",
          "2021-12-25T00:00:00",
          "2021-12-25T00:00:00",
          "2021-12-25T00:00:00",
          "2021-12-26T00:00:00",
          "2021-12-26T00:00:00",
          "2021-12-26T00:00:00",
          "2021-12-26T00:00:00",
          "2021-12-27T00:00:00",
          "2021-12-27T00:00:00",
          "2021-12-27T00:00:00",
          "2021-12-27T00:00:00",
          "2021-12-28T00:00:00",
          "2021-12-28T00:00:00",
          "2021-12-28T00:00:00",
          "2021-12-28T00:00:00",
          "2021-12-29T00:00:00",
          "2021-12-29T00:00:00",
          "2021-12-29T00:00:00",
          "2021-12-29T00:00:00",
          "2021-12-30T00:00:00",
          "2021-12-30T00:00:00",
          "2021-12-30T00:00:00",
          "2021-12-30T00:00:00"
         ],
         "y": [
          20.994099135255922,
          20.994099135255922,
          20.994099135255922,
          20.994099135255922,
          20.941693228693463,
          20.941693228693463,
          20.941693228693463,
          20.941693228693463,
          20.831118311297192,
          20.831118311297192,
          20.831118311297192,
          20.831118311297192,
          20.543706042182368,
          20.543706042182368,
          20.543706042182368,
          20.543706042182368,
          20.549116446268854,
          20.549116446268854,
          20.549116446268854,
          20.549116446268854,
          20.2573113916781,
          20.2573113916781,
          20.2573113916781,
          20.2573113916781,
          20.021623264429838,
          20.021623264429838,
          20.021623264429838,
          20.021623264429838,
          19.535191372571813,
          19.535191372571813,
          19.535191372571813,
          19.535191372571813,
          20.032751688123113,
          20.032751688123113,
          20.032751688123113,
          20.032751688123113,
          20.098851142805316,
          20.098851142805316,
          20.098851142805316,
          20.098851142805316,
          20.463400267911506,
          20.463400267911506,
          20.463400267911506,
          20.463400267911506,
          20.230341425948765,
          20.230341425948765,
          20.230341425948765,
          20.230341425948765,
          20.175755691547657,
          20.175755691547657,
          20.175755691547657,
          20.175755691547657,
          20.181274260396954,
          20.181274260396954,
          20.181274260396954,
          20.181274260396954,
          19.450320746067824,
          19.450320746067824,
          19.450320746067824,
          19.450320746067824,
          19.330376796519058,
          19.330376796519058,
          19.330376796519058,
          19.330376796519058,
          19.894763546044324,
          19.894763546044324,
          19.894763546044324,
          19.894763546044324,
          20.022155076050765,
          20.022155076050765,
          20.022155076050765,
          20.022155076050765,
          20.148666187373305,
          20.148666187373305,
          20.148666187373305,
          20.148666187373305,
          20.274313844944707,
          20.274313844944707,
          20.274313844944707,
          20.274313844944707,
          20.038844692204876,
          20.038844692204876,
          20.038844692204876,
          20.038844692204876,
          20.463919521716512,
          20.463919521716512,
          20.463919521716512,
          20.463919521716512,
          20.879529617311622,
          20.879529617311622,
          20.879529617311622,
          20.879529617311622,
          20.651618858746428,
          20.651618858746428,
          20.651618858746428,
          20.651618858746428,
          20.65699827025494,
          20.65699827025494,
          20.65699827025494,
          20.65699827025494,
          20.720919534075836,
          20.720919534075836,
          20.720919534075836,
          20.720919534075836,
          21.188112605823555,
          21.188112605823555,
          21.188112605823555,
          21.188112605823555,
          21.476375939206246,
          21.476375939206246,
          21.476375939206246,
          21.476375939206246,
          21.925911758004098,
          21.925911758004098,
          21.925911758004098,
          21.925911758004098,
          21.985786357993273,
          21.985786357993273,
          21.985786357993273,
          21.985786357993273,
          21.99080776646949,
          21.99080776646949,
          21.99080776646949,
          21.99080776646949,
          22.159361706843807,
          22.159361706843807,
          22.159361706843807,
          22.159361706843807,
          22.16433972035174,
          22.16433972035174,
          22.16433972035174,
          22.16433972035174,
          22.06049700667158,
          22.06049700667158,
          22.06049700667158,
          22.06049700667158,
          22.065499652788073,
          22.065499652788073,
          22.065499652788073,
          22.065499652788073,
          22.015895850859863,
          22.015895850859863,
          22.015895850859863,
          22.015895850859863,
          21.966168387768843,
          21.966168387768843,
          21.966168387768843,
          21.966168387768843,
          22.458448655263933,
          22.458448655263933,
          22.458448655263933,
          22.458448655263933,
          22.623158512806786,
          22.623158512806786,
          22.623158512806786,
          22.623158512806786,
          22.468257118824294,
          22.468257118824294,
          22.468257118824294,
          22.468257118824294,
          22.579784091685383,
          22.579784091685383,
          22.579784091685383,
          22.579784091685383,
          22.637751091594613,
          22.637751091594613,
          22.637751091594613,
          22.637751091594613,
          22.536317302454428,
          22.536317302454428,
          22.536317302454428,
          22.536317302454428,
          22.54120339194377,
          22.54120339194377,
          22.54120339194377,
          22.54120339194377,
          22.91556294000944,
          22.91556294000944,
          22.91556294000944,
          22.91556294000944,
          22.762863111995056,
          22.762863111995056,
          22.762863111995056,
          22.762863111995056,
          22.714940174123047,
          22.714940174123047,
          22.714940174123047,
          22.714940174123047,
          22.877608591071773,
          22.877608591071773,
          22.877608591071773,
          22.877608591071773,
          22.93474300354508,
          22.93474300354508,
          22.93474300354508,
          22.93474300354508,
          22.51722857940595,
          22.51722857940595,
          22.51722857940595,
          22.51722857940595,
          22.145372348862754,
          22.145372348862754,
          22.145372348862754,
          22.145372348862754,
          21.821783544413037,
          21.821783544413037,
          21.821783544413037,
          21.821783544413037,
          21.66054011759105,
          21.66054011759105,
          21.66054011759105,
          21.66054011759105,
          21.441747832181044,
          21.441747832181044,
          21.441747832181044,
          21.441747832181044,
          21.334020235453295,
          21.334020235453295,
          21.334020235453295,
          21.334020235453295,
          21.3392109256315,
          21.3392109256315,
          21.3392109256315,
          21.3392109256315,
          21.513400240449055,
          21.513400240449055,
          21.513400240449055,
          21.513400240449055,
          21.518543313496192,
          21.518543313496192,
          21.518543313496192,
          21.518543313496192,
          21.298143379246945,
          21.298143379246945,
          21.298143379246945,
          21.298143379246945,
          21.3033436896279,
          21.3033436896279,
          21.3033436896279,
          21.3033436896279,
          21.64570652225628,
          21.64570652225628,
          21.64570652225628,
          21.64570652225628,
          22.036900896157384,
          22.036900896157384,
          22.036900896157384,
          22.036900896157384,
          22.04190945422661,
          22.04190945422661,
          22.04190945422661,
          22.04190945422661,
          21.882454864202458,
          21.882454864202458,
          21.882454864202458,
          21.882454864202458,
          21.77712756522185,
          21.77712756522185,
          21.77712756522185,
          21.77712756522185,
          21.837452261893304,
          21.837452261893304,
          21.837452261893304,
          21.837452261893304,
          22.547021680157872,
          22.547021680157872,
          22.547021680157872,
          22.547021680157872,
          21.513891717088217,
          21.513891717088217,
          21.513891717088217,
          21.513891717088217,
          21.63086171633672,
          21.63086171633672,
          21.63086171633672,
          21.63086171633672,
          21.747138844487598,
          21.747138844487598,
          21.747138844487598,
          21.747138844487598,
          21.807555008508466,
          21.807555008508466,
          21.807555008508466,
          21.807555008508466,
          21.70182669817822,
          21.70182669817822,
          21.70182669817822,
          21.70182669817822,
          21.927836863645243,
          21.927836863645243,
          21.927836863645243,
          21.927836863645243,
          21.82275118811689,
          21.82275118811689,
          21.82275118811689,
          21.82275118811689,
          21.324627258341273,
          21.324627258341273,
          21.324627258341273,
          21.324627258341273,
          21.498946608483518,
          21.498946608483518,
          21.498946608483518,
          21.498946608483518,
          21.447896126805965,
          21.447896126805965,
          21.447896126805965,
          21.447896126805965,
          21.6211218684666,
          21.6211218684666,
          21.6211218684666,
          21.6211218684666,
          21.681925166449567,
          21.681925166449567,
          21.681925166449567,
          21.681925166449567,
          21.631350253730176,
          21.631350253730176,
          21.631350253730176,
          21.631350253730176,
          22.40184836532037,
          22.40184836532037,
          22.40184836532037,
          22.40184836532037,
          21.918242424660935,
          21.918242424660935,
          21.918242424660935,
          21.918242424660935,
          21.646682846547055,
          21.646682846547055,
          21.646682846547055,
          21.646682846547055,
          21.483990049560234,
          21.483990049560234,
          21.483990049560234,
          21.483990049560234,
          20.74490698919332,
          20.74490698919332,
          20.74490698919332,
          20.74490698919332,
          20.69180758155631,
          20.69180758155631,
          20.69180758155631,
          20.69180758155631,
          21.159706057382476,
          21.159706057382476,
          21.159706057382476,
          21.159706057382476,
          21.05038923158407,
          21.05038923158407,
          21.05038923158407,
          21.05038923158407,
          20.59055619088942,
          20.59055619088942,
          20.59055619088942,
          20.59055619088942,
          20.299404359769323,
          20.299404359769323,
          20.299404359769323,
          20.299404359769323,
          19.942751215541545,
          19.942751215541545,
          19.942751215541545,
          19.942751215541545,
          19.826056744791984,
          19.826056744791984,
          19.826056744791984,
          19.826056744791984,
          20.315844850882726,
          20.315844850882726,
          20.315844850882726,
          20.315844850882726,
          20.201506910354937,
          20.201506910354937,
          20.201506910354937,
          20.201506910354937,
          20.32679708721466,
          20.32679708721466,
          20.32679708721466,
          20.32679708721466,
          20.272495714969924,
          20.272495714969924,
          20.272495714969924,
          20.272495714969924,
          20.277985465819782,
          20.277985465819782,
          20.277985465819782,
          20.277985465819782
         ]
        },
        {
         "line": {
          "color": "rgb(252,141,98)",
          "width": 2
         },
         "marker": {
          "size": 4
         },
         "mode": "lines+markers",
         "name": "Vanilla RNN",
         "type": "scatter",
         "x": [
          "2021-09-25T00:00:00",
          "2021-09-25T00:00:00",
          "2021-09-25T00:00:00",
          "2021-09-25T00:00:00",
          "2021-09-26T00:00:00",
          "2021-09-26T00:00:00",
          "2021-09-26T00:00:00",
          "2021-09-26T00:00:00",
          "2021-09-27T00:00:00",
          "2021-09-27T00:00:00",
          "2021-09-27T00:00:00",
          "2021-09-27T00:00:00",
          "2021-09-28T00:00:00",
          "2021-09-28T00:00:00",
          "2021-09-28T00:00:00",
          "2021-09-28T00:00:00",
          "2021-09-29T00:00:00",
          "2021-09-29T00:00:00",
          "2021-09-29T00:00:00",
          "2021-09-29T00:00:00",
          "2021-09-30T00:00:00",
          "2021-09-30T00:00:00",
          "2021-09-30T00:00:00",
          "2021-09-30T00:00:00",
          "2021-10-01T00:00:00",
          "2021-10-01T00:00:00",
          "2021-10-01T00:00:00",
          "2021-10-01T00:00:00",
          "2021-10-02T00:00:00",
          "2021-10-02T00:00:00",
          "2021-10-02T00:00:00",
          "2021-10-02T00:00:00",
          "2021-10-03T00:00:00",
          "2021-10-03T00:00:00",
          "2021-10-03T00:00:00",
          "2021-10-03T00:00:00",
          "2021-10-04T00:00:00",
          "2021-10-04T00:00:00",
          "2021-10-04T00:00:00",
          "2021-10-04T00:00:00",
          "2021-10-05T00:00:00",
          "2021-10-05T00:00:00",
          "2021-10-05T00:00:00",
          "2021-10-05T00:00:00",
          "2021-10-06T00:00:00",
          "2021-10-06T00:00:00",
          "2021-10-06T00:00:00",
          "2021-10-06T00:00:00",
          "2021-10-07T00:00:00",
          "2021-10-07T00:00:00",
          "2021-10-07T00:00:00",
          "2021-10-07T00:00:00",
          "2021-10-08T00:00:00",
          "2021-10-08T00:00:00",
          "2021-10-08T00:00:00",
          "2021-10-08T00:00:00",
          "2021-10-09T00:00:00",
          "2021-10-09T00:00:00",
          "2021-10-09T00:00:00",
          "2021-10-09T00:00:00",
          "2021-10-10T00:00:00",
          "2021-10-10T00:00:00",
          "2021-10-10T00:00:00",
          "2021-10-10T00:00:00",
          "2021-10-11T00:00:00",
          "2021-10-11T00:00:00",
          "2021-10-11T00:00:00",
          "2021-10-11T00:00:00",
          "2021-10-12T00:00:00",
          "2021-10-12T00:00:00",
          "2021-10-12T00:00:00",
          "2021-10-12T00:00:00",
          "2021-10-13T00:00:00",
          "2021-10-13T00:00:00",
          "2021-10-13T00:00:00",
          "2021-10-13T00:00:00",
          "2021-10-14T00:00:00",
          "2021-10-14T00:00:00",
          "2021-10-14T00:00:00",
          "2021-10-14T00:00:00",
          "2021-10-15T00:00:00",
          "2021-10-15T00:00:00",
          "2021-10-15T00:00:00",
          "2021-10-15T00:00:00",
          "2021-10-16T00:00:00",
          "2021-10-16T00:00:00",
          "2021-10-16T00:00:00",
          "2021-10-16T00:00:00",
          "2021-10-17T00:00:00",
          "2021-10-17T00:00:00",
          "2021-10-17T00:00:00",
          "2021-10-17T00:00:00",
          "2021-10-18T00:00:00",
          "2021-10-18T00:00:00",
          "2021-10-18T00:00:00",
          "2021-10-18T00:00:00",
          "2021-10-19T00:00:00",
          "2021-10-19T00:00:00",
          "2021-10-19T00:00:00",
          "2021-10-19T00:00:00",
          "2021-10-20T00:00:00",
          "2021-10-20T00:00:00",
          "2021-10-20T00:00:00",
          "2021-10-20T00:00:00",
          "2021-10-21T00:00:00",
          "2021-10-21T00:00:00",
          "2021-10-21T00:00:00",
          "2021-10-21T00:00:00",
          "2021-10-22T00:00:00",
          "2021-10-22T00:00:00",
          "2021-10-22T00:00:00",
          "2021-10-22T00:00:00",
          "2021-10-23T00:00:00",
          "2021-10-23T00:00:00",
          "2021-10-23T00:00:00",
          "2021-10-23T00:00:00",
          "2021-10-24T00:00:00",
          "2021-10-24T00:00:00",
          "2021-10-24T00:00:00",
          "2021-10-24T00:00:00",
          "2021-10-25T00:00:00",
          "2021-10-25T00:00:00",
          "2021-10-25T00:00:00",
          "2021-10-25T00:00:00",
          "2021-10-26T00:00:00",
          "2021-10-26T00:00:00",
          "2021-10-26T00:00:00",
          "2021-10-26T00:00:00",
          "2021-10-27T00:00:00",
          "2021-10-27T00:00:00",
          "2021-10-27T00:00:00",
          "2021-10-27T00:00:00",
          "2021-10-28T00:00:00",
          "2021-10-28T00:00:00",
          "2021-10-28T00:00:00",
          "2021-10-28T00:00:00",
          "2021-10-29T00:00:00",
          "2021-10-29T00:00:00",
          "2021-10-29T00:00:00",
          "2021-10-29T00:00:00",
          "2021-10-30T00:00:00",
          "2021-10-30T00:00:00",
          "2021-10-30T00:00:00",
          "2021-10-30T00:00:00",
          "2021-10-31T00:00:00",
          "2021-10-31T00:00:00",
          "2021-10-31T00:00:00",
          "2021-10-31T00:00:00",
          "2021-11-01T00:00:00",
          "2021-11-01T00:00:00",
          "2021-11-01T00:00:00",
          "2021-11-01T00:00:00",
          "2021-11-02T00:00:00",
          "2021-11-02T00:00:00",
          "2021-11-02T00:00:00",
          "2021-11-02T00:00:00",
          "2021-11-03T00:00:00",
          "2021-11-03T00:00:00",
          "2021-11-03T00:00:00",
          "2021-11-03T00:00:00",
          "2021-11-04T00:00:00",
          "2021-11-04T00:00:00",
          "2021-11-04T00:00:00",
          "2021-11-04T00:00:00",
          "2021-11-05T00:00:00",
          "2021-11-05T00:00:00",
          "2021-11-05T00:00:00",
          "2021-11-05T00:00:00",
          "2021-11-06T00:00:00",
          "2021-11-06T00:00:00",
          "2021-11-06T00:00:00",
          "2021-11-06T00:00:00",
          "2021-11-07T00:00:00",
          "2021-11-07T00:00:00",
          "2021-11-07T00:00:00",
          "2021-11-07T00:00:00",
          "2021-11-08T00:00:00",
          "2021-11-08T00:00:00",
          "2021-11-08T00:00:00",
          "2021-11-08T00:00:00",
          "2021-11-09T00:00:00",
          "2021-11-09T00:00:00",
          "2021-11-09T00:00:00",
          "2021-11-09T00:00:00",
          "2021-11-10T00:00:00",
          "2021-11-10T00:00:00",
          "2021-11-10T00:00:00",
          "2021-11-10T00:00:00",
          "2021-11-11T00:00:00",
          "2021-11-11T00:00:00",
          "2021-11-11T00:00:00",
          "2021-11-11T00:00:00",
          "2021-11-12T00:00:00",
          "2021-11-12T00:00:00",
          "2021-11-12T00:00:00",
          "2021-11-12T00:00:00",
          "2021-11-13T00:00:00",
          "2021-11-13T00:00:00",
          "2021-11-13T00:00:00",
          "2021-11-13T00:00:00",
          "2021-11-14T00:00:00",
          "2021-11-14T00:00:00",
          "2021-11-14T00:00:00",
          "2021-11-14T00:00:00",
          "2021-11-15T00:00:00",
          "2021-11-15T00:00:00",
          "2021-11-15T00:00:00",
          "2021-11-15T00:00:00",
          "2021-11-16T00:00:00",
          "2021-11-16T00:00:00",
          "2021-11-16T00:00:00",
          "2021-11-16T00:00:00",
          "2021-11-17T00:00:00",
          "2021-11-17T00:00:00",
          "2021-11-17T00:00:00",
          "2021-11-17T00:00:00",
          "2021-11-18T00:00:00",
          "2021-11-18T00:00:00",
          "2021-11-18T00:00:00",
          "2021-11-18T00:00:00",
          "2021-11-19T00:00:00",
          "2021-11-19T00:00:00",
          "2021-11-19T00:00:00",
          "2021-11-19T00:00:00",
          "2021-11-20T00:00:00",
          "2021-11-20T00:00:00",
          "2021-11-20T00:00:00",
          "2021-11-20T00:00:00",
          "2021-11-21T00:00:00",
          "2021-11-21T00:00:00",
          "2021-11-21T00:00:00",
          "2021-11-21T00:00:00",
          "2021-11-22T00:00:00",
          "2021-11-22T00:00:00",
          "2021-11-22T00:00:00",
          "2021-11-22T00:00:00",
          "2021-11-23T00:00:00",
          "2021-11-23T00:00:00",
          "2021-11-23T00:00:00",
          "2021-11-23T00:00:00",
          "2021-11-24T00:00:00",
          "2021-11-24T00:00:00",
          "2021-11-24T00:00:00",
          "2021-11-24T00:00:00",
          "2021-11-25T00:00:00",
          "2021-11-25T00:00:00",
          "2021-11-25T00:00:00",
          "2021-11-25T00:00:00",
          "2021-11-26T00:00:00",
          "2021-11-26T00:00:00",
          "2021-11-26T00:00:00",
          "2021-11-26T00:00:00",
          "2021-11-27T00:00:00",
          "2021-11-27T00:00:00",
          "2021-11-27T00:00:00",
          "2021-11-27T00:00:00",
          "2021-11-28T00:00:00",
          "2021-11-28T00:00:00",
          "2021-11-28T00:00:00",
          "2021-11-28T00:00:00",
          "2021-11-29T00:00:00",
          "2021-11-29T00:00:00",
          "2021-11-29T00:00:00",
          "2021-11-29T00:00:00",
          "2021-11-30T00:00:00",
          "2021-11-30T00:00:00",
          "2021-11-30T00:00:00",
          "2021-11-30T00:00:00",
          "2021-12-01T00:00:00",
          "2021-12-01T00:00:00",
          "2021-12-01T00:00:00",
          "2021-12-01T00:00:00",
          "2021-12-02T00:00:00",
          "2021-12-02T00:00:00",
          "2021-12-02T00:00:00",
          "2021-12-02T00:00:00",
          "2021-12-03T00:00:00",
          "2021-12-03T00:00:00",
          "2021-12-03T00:00:00",
          "2021-12-03T00:00:00",
          "2021-12-04T00:00:00",
          "2021-12-04T00:00:00",
          "2021-12-04T00:00:00",
          "2021-12-04T00:00:00",
          "2021-12-05T00:00:00",
          "2021-12-05T00:00:00",
          "2021-12-05T00:00:00",
          "2021-12-05T00:00:00",
          "2021-12-06T00:00:00",
          "2021-12-06T00:00:00",
          "2021-12-06T00:00:00",
          "2021-12-06T00:00:00",
          "2021-12-07T00:00:00",
          "2021-12-07T00:00:00",
          "2021-12-07T00:00:00",
          "2021-12-07T00:00:00",
          "2021-12-08T00:00:00",
          "2021-12-08T00:00:00",
          "2021-12-08T00:00:00",
          "2021-12-08T00:00:00",
          "2021-12-09T00:00:00",
          "2021-12-09T00:00:00",
          "2021-12-09T00:00:00",
          "2021-12-09T00:00:00",
          "2021-12-10T00:00:00",
          "2021-12-10T00:00:00",
          "2021-12-10T00:00:00",
          "2021-12-10T00:00:00",
          "2021-12-11T00:00:00",
          "2021-12-11T00:00:00",
          "2021-12-11T00:00:00",
          "2021-12-11T00:00:00",
          "2021-12-12T00:00:00",
          "2021-12-12T00:00:00",
          "2021-12-12T00:00:00",
          "2021-12-12T00:00:00",
          "2021-12-13T00:00:00",
          "2021-12-13T00:00:00",
          "2021-12-13T00:00:00",
          "2021-12-13T00:00:00",
          "2021-12-14T00:00:00",
          "2021-12-14T00:00:00",
          "2021-12-14T00:00:00",
          "2021-12-14T00:00:00",
          "2021-12-15T00:00:00",
          "2021-12-15T00:00:00",
          "2021-12-15T00:00:00",
          "2021-12-15T00:00:00",
          "2021-12-16T00:00:00",
          "2021-12-16T00:00:00",
          "2021-12-16T00:00:00",
          "2021-12-16T00:00:00",
          "2021-12-17T00:00:00",
          "2021-12-17T00:00:00",
          "2021-12-17T00:00:00",
          "2021-12-17T00:00:00",
          "2021-12-18T00:00:00",
          "2021-12-18T00:00:00",
          "2021-12-18T00:00:00",
          "2021-12-18T00:00:00",
          "2021-12-19T00:00:00",
          "2021-12-19T00:00:00",
          "2021-12-19T00:00:00",
          "2021-12-19T00:00:00",
          "2021-12-20T00:00:00",
          "2021-12-20T00:00:00",
          "2021-12-20T00:00:00",
          "2021-12-20T00:00:00",
          "2021-12-21T00:00:00",
          "2021-12-21T00:00:00",
          "2021-12-21T00:00:00",
          "2021-12-21T00:00:00",
          "2021-12-22T00:00:00",
          "2021-12-22T00:00:00",
          "2021-12-22T00:00:00",
          "2021-12-22T00:00:00",
          "2021-12-23T00:00:00",
          "2021-12-23T00:00:00",
          "2021-12-23T00:00:00",
          "2021-12-23T00:00:00",
          "2021-12-24T00:00:00",
          "2021-12-24T00:00:00",
          "2021-12-24T00:00:00",
          "2021-12-24T00:00:00",
          "2021-12-25T00:00:00",
          "2021-12-25T00:00:00",
          "2021-12-25T00:00:00",
          "2021-12-25T00:00:00",
          "2021-12-26T00:00:00",
          "2021-12-26T00:00:00",
          "2021-12-26T00:00:00",
          "2021-12-26T00:00:00",
          "2021-12-27T00:00:00",
          "2021-12-27T00:00:00",
          "2021-12-27T00:00:00",
          "2021-12-27T00:00:00",
          "2021-12-28T00:00:00",
          "2021-12-28T00:00:00",
          "2021-12-28T00:00:00",
          "2021-12-28T00:00:00",
          "2021-12-29T00:00:00",
          "2021-12-29T00:00:00",
          "2021-12-29T00:00:00",
          "2021-12-29T00:00:00",
          "2021-12-30T00:00:00",
          "2021-12-30T00:00:00",
          "2021-12-30T00:00:00",
          "2021-12-30T00:00:00"
         ],
         "y": [
          20.24424,
          20.13684,
          20.24424,
          20.13684,
          19.891235,
          19.78556,
          19.891235,
          19.78556,
          19.50132,
          19.34504,
          19.50132,
          19.34504,
          19.180092,
          19.090836,
          19.180092,
          19.090836,
          18.919228,
          18.939789,
          18.919228,
          18.939789,
          18.696411,
          18.69252,
          18.696411,
          18.69252,
          18.617981,
          18.669716,
          18.617981,
          18.669716,
          18.454292,
          18.451912,
          18.454292,
          18.451912,
          18.310211,
          18.094826,
          18.310211,
          18.094826,
          18.048706,
          18.008018,
          18.048706,
          18.008018,
          18.06456,
          18.232445,
          18.06456,
          18.232445,
          18.269363,
          18.529274,
          18.269363,
          18.529274,
          18.595093,
          18.612305,
          18.595093,
          18.612305,
          18.651787,
          18.626442,
          18.651787,
          18.626442,
          18.642197,
          18.618797,
          18.642197,
          18.618797,
          18.498787,
          18.360092,
          18.498787,
          18.360092,
          18.129074,
          17.818146,
          18.129074,
          17.818146,
          17.73407,
          17.813011,
          17.73407,
          17.813011,
          17.965775,
          18.232025,
          17.965775,
          18.232025,
          18.165154,
          18.301361,
          18.165154,
          18.301361,
          18.447647,
          18.509544,
          18.447647,
          18.509544,
          18.60926,
          18.556496,
          18.60926,
          18.556496,
          18.565842,
          18.696121,
          18.565842,
          18.696121,
          18.932953,
          19.138268,
          18.932953,
          19.138268,
          19.332985,
          19.310349,
          19.332985,
          19.310349,
          19.247406,
          19.153542,
          19.247406,
          19.153542,
          19.21428,
          19.200005,
          19.21428,
          19.200005,
          19.396309,
          19.567749,
          19.396309,
          19.567749,
          19.73307,
          19.97548,
          19.73307,
          19.97548,
          20.215729,
          20.386177,
          20.215729,
          20.386177,
          20.661507,
          20.672417,
          20.661507,
          20.672417,
          20.777275,
          20.757591,
          20.777275,
          20.757591,
          20.878357,
          20.878967,
          20.878357,
          20.878967,
          21.034279,
          21.058022,
          21.034279,
          21.058022,
          21.07882,
          20.984741,
          21.07882,
          20.984741,
          20.935051,
          20.836868,
          20.935051,
          20.836868,
          20.86673,
          20.800148,
          20.86673,
          20.800148,
          20.726273,
          20.72316,
          20.726273,
          20.72316,
          20.67614,
          20.83731,
          20.67614,
          20.83731,
          21.123734,
          21.207993,
          21.123734,
          21.207993,
          21.302635,
          21.254845,
          21.302635,
          21.254845,
          21.255287,
          21.205666,
          21.255287,
          21.205666,
          21.33989,
          21.363983,
          21.33989,
          21.363983,
          21.395462,
          21.401733,
          21.395462,
          21.401733,
          21.35019,
          21.27269,
          21.35019,
          21.27269,
          21.366364,
          21.388863,
          21.366364,
          21.388863,
          21.47615,
          21.553474,
          21.47615,
          21.553474,
          21.475777,
          21.458626,
          21.475777,
          21.458626,
          21.49836,
          21.466171,
          21.49836,
          21.466171,
          21.581139,
          21.650597,
          21.581139,
          21.650597,
          21.550293,
          21.453934,
          21.550293,
          21.453934,
          21.247269,
          20.94667,
          21.247269,
          20.94667,
          20.761177,
          20.474907,
          20.761177,
          20.474907,
          20.21331,
          20.147476,
          20.21331,
          20.147476,
          19.87851,
          19.821419,
          19.87851,
          19.821419,
          19.614006,
          19.53257,
          19.614006,
          19.53257,
          19.399727,
          19.405533,
          19.399727,
          19.405533,
          19.31266,
          19.454918,
          19.31266,
          19.454918,
          19.477097,
          19.562057,
          19.477097,
          19.562057,
          19.512497,
          19.46524,
          19.512497,
          19.46524,
          19.418182,
          19.400032,
          19.418182,
          19.400032,
          19.460258,
          19.623215,
          19.460258,
          19.623215,
          19.825737,
          20.10402,
          19.825737,
          20.10402,
          20.261353,
          20.395271,
          20.261353,
          20.395271,
          20.46836,
          20.390038,
          20.46836,
          20.390038,
          20.406761,
          20.257767,
          20.406761,
          20.257767,
          20.24929,
          20.22699,
          20.24929,
          20.22699,
          20.360855,
          20.694832,
          20.360855,
          20.694832,
          20.67575,
          20.608704,
          20.67575,
          20.608704,
          20.454086,
          20.077354,
          20.454086,
          20.077354,
          20.12931,
          20.039566,
          20.12931,
          20.039566,
          20.09597,
          20.273453,
          20.09597,
          20.273453,
          20.128922,
          20.065971,
          20.128922,
          20.065971,
          20.064545,
          20.051102,
          20.064545,
          20.051102,
          20.159935,
          20.137924,
          20.159935,
          20.137924,
          19.914993,
          19.88192,
          19.914993,
          19.88192,
          19.79036,
          19.675133,
          19.79036,
          19.675133,
          19.713272,
          19.718048,
          19.713272,
          19.718048,
          19.70153,
          19.823631,
          19.70153,
          19.823631,
          19.738388,
          19.750763,
          19.738388,
          19.750763,
          19.866562,
          19.850433,
          19.866562,
          19.850433,
          19.95877,
          20.203323,
          19.95877,
          20.203323,
          20.366226,
          20.502502,
          20.366226,
          20.502502,
          20.4011,
          20.16838,
          20.4011,
          20.16838,
          20.076271,
          19.861359,
          20.076271,
          19.861359,
          19.710945,
          19.47863,
          19.710945,
          19.47863,
          19.078125,
          18.822456,
          19.078125,
          18.822456,
          18.722092,
          18.836617,
          18.722092,
          18.836617,
          18.891403,
          19.002106,
          18.891403,
          19.002106,
          18.70826,
          18.628601,
          18.70826,
          18.628601,
          18.416664,
          18.208519,
          18.416664,
          18.208519,
          18.081688,
          17.912666,
          18.081688,
          17.912666,
          17.668541,
          17.674812,
          17.668541,
          17.674812,
          17.552368,
          17.65792,
          17.552368,
          17.65792,
          17.76867,
          17.841064,
          17.76867,
          17.841064,
          17.766937,
          17.847305,
          17.766937,
          17.847305,
          17.843124,
          17.907478,
          17.843124,
          17.907478
         ]
        }
       ],
       "layout": {
        "autosize": false,
        "height": 500,
        "legend": {
         "font": {
          "size": 15
         },
         "orientation": "h",
         "title": {},
         "x": 1,
         "xanchor": "right",
         "y": 0.98,
         "yanchor": "bottom"
        },
        "template": {
         "data": {
          "bar": [
           {
            "error_x": {
             "color": "#2a3f5f"
            },
            "error_y": {
             "color": "#2a3f5f"
            },
            "marker": {
             "line": {
              "color": "white",
              "width": 0.5
             },
             "pattern": {
              "fillmode": "overlay",
              "size": 10,
              "solidity": 0.2
             }
            },
            "type": "bar"
           }
          ],
          "barpolar": [
           {
            "marker": {
             "line": {
              "color": "white",
              "width": 0.5
             },
             "pattern": {
              "fillmode": "overlay",
              "size": 10,
              "solidity": 0.2
             }
            },
            "type": "barpolar"
           }
          ],
          "carpet": [
           {
            "aaxis": {
             "endlinecolor": "#2a3f5f",
             "gridcolor": "#C8D4E3",
             "linecolor": "#C8D4E3",
             "minorgridcolor": "#C8D4E3",
             "startlinecolor": "#2a3f5f"
            },
            "baxis": {
             "endlinecolor": "#2a3f5f",
             "gridcolor": "#C8D4E3",
             "linecolor": "#C8D4E3",
             "minorgridcolor": "#C8D4E3",
             "startlinecolor": "#2a3f5f"
            },
            "type": "carpet"
           }
          ],
          "choropleth": [
           {
            "colorbar": {
             "outlinewidth": 0,
             "ticks": ""
            },
            "type": "choropleth"
           }
          ],
          "contour": [
           {
            "colorbar": {
             "outlinewidth": 0,
             "ticks": ""
            },
            "colorscale": [
             [
              0,
              "#0d0887"
             ],
             [
              0.1111111111111111,
              "#46039f"
             ],
             [
              0.2222222222222222,
              "#7201a8"
             ],
             [
              0.3333333333333333,
              "#9c179e"
             ],
             [
              0.4444444444444444,
              "#bd3786"
             ],
             [
              0.5555555555555556,
              "#d8576b"
             ],
             [
              0.6666666666666666,
              "#ed7953"
             ],
             [
              0.7777777777777778,
              "#fb9f3a"
             ],
             [
              0.8888888888888888,
              "#fdca26"
             ],
             [
              1,
              "#f0f921"
             ]
            ],
            "type": "contour"
           }
          ],
          "contourcarpet": [
           {
            "colorbar": {
             "outlinewidth": 0,
             "ticks": ""
            },
            "type": "contourcarpet"
           }
          ],
          "heatmap": [
           {
            "colorbar": {
             "outlinewidth": 0,
             "ticks": ""
            },
            "colorscale": [
             [
              0,
              "#0d0887"
             ],
             [
              0.1111111111111111,
              "#46039f"
             ],
             [
              0.2222222222222222,
              "#7201a8"
             ],
             [
              0.3333333333333333,
              "#9c179e"
             ],
             [
              0.4444444444444444,
              "#bd3786"
             ],
             [
              0.5555555555555556,
              "#d8576b"
             ],
             [
              0.6666666666666666,
              "#ed7953"
             ],
             [
              0.7777777777777778,
              "#fb9f3a"
             ],
             [
              0.8888888888888888,
              "#fdca26"
             ],
             [
              1,
              "#f0f921"
             ]
            ],
            "type": "heatmap"
           }
          ],
          "heatmapgl": [
           {
            "colorbar": {
             "outlinewidth": 0,
             "ticks": ""
            },
            "colorscale": [
             [
              0,
              "#0d0887"
             ],
             [
              0.1111111111111111,
              "#46039f"
             ],
             [
              0.2222222222222222,
              "#7201a8"
             ],
             [
              0.3333333333333333,
              "#9c179e"
             ],
             [
              0.4444444444444444,
              "#bd3786"
             ],
             [
              0.5555555555555556,
              "#d8576b"
             ],
             [
              0.6666666666666666,
              "#ed7953"
             ],
             [
              0.7777777777777778,
              "#fb9f3a"
             ],
             [
              0.8888888888888888,
              "#fdca26"
             ],
             [
              1,
              "#f0f921"
             ]
            ],
            "type": "heatmapgl"
           }
          ],
          "histogram": [
           {
            "marker": {
             "pattern": {
              "fillmode": "overlay",
              "size": 10,
              "solidity": 0.2
             }
            },
            "type": "histogram"
           }
          ],
          "histogram2d": [
           {
            "colorbar": {
             "outlinewidth": 0,
             "ticks": ""
            },
            "colorscale": [
             [
              0,
              "#0d0887"
             ],
             [
              0.1111111111111111,
              "#46039f"
             ],
             [
              0.2222222222222222,
              "#7201a8"
             ],
             [
              0.3333333333333333,
              "#9c179e"
             ],
             [
              0.4444444444444444,
              "#bd3786"
             ],
             [
              0.5555555555555556,
              "#d8576b"
             ],
             [
              0.6666666666666666,
              "#ed7953"
             ],
             [
              0.7777777777777778,
              "#fb9f3a"
             ],
             [
              0.8888888888888888,
              "#fdca26"
             ],
             [
              1,
              "#f0f921"
             ]
            ],
            "type": "histogram2d"
           }
          ],
          "histogram2dcontour": [
           {
            "colorbar": {
             "outlinewidth": 0,
             "ticks": ""
            },
            "colorscale": [
             [
              0,
              "#0d0887"
             ],
             [
              0.1111111111111111,
              "#46039f"
             ],
             [
              0.2222222222222222,
              "#7201a8"
             ],
             [
              0.3333333333333333,
              "#9c179e"
             ],
             [
              0.4444444444444444,
              "#bd3786"
             ],
             [
              0.5555555555555556,
              "#d8576b"
             ],
             [
              0.6666666666666666,
              "#ed7953"
             ],
             [
              0.7777777777777778,
              "#fb9f3a"
             ],
             [
              0.8888888888888888,
              "#fdca26"
             ],
             [
              1,
              "#f0f921"
             ]
            ],
            "type": "histogram2dcontour"
           }
          ],
          "mesh3d": [
           {
            "colorbar": {
             "outlinewidth": 0,
             "ticks": ""
            },
            "type": "mesh3d"
           }
          ],
          "parcoords": [
           {
            "line": {
             "colorbar": {
              "outlinewidth": 0,
              "ticks": ""
             }
            },
            "type": "parcoords"
           }
          ],
          "pie": [
           {
            "automargin": true,
            "type": "pie"
           }
          ],
          "scatter": [
           {
            "fillpattern": {
             "fillmode": "overlay",
             "size": 10,
             "solidity": 0.2
            },
            "type": "scatter"
           }
          ],
          "scatter3d": [
           {
            "line": {
             "colorbar": {
              "outlinewidth": 0,
              "ticks": ""
             }
            },
            "marker": {
             "colorbar": {
              "outlinewidth": 0,
              "ticks": ""
             }
            },
            "type": "scatter3d"
           }
          ],
          "scattercarpet": [
           {
            "marker": {
             "colorbar": {
              "outlinewidth": 0,
              "ticks": ""
             }
            },
            "type": "scattercarpet"
           }
          ],
          "scattergeo": [
           {
            "marker": {
             "colorbar": {
              "outlinewidth": 0,
              "ticks": ""
             }
            },
            "type": "scattergeo"
           }
          ],
          "scattergl": [
           {
            "marker": {
             "colorbar": {
              "outlinewidth": 0,
              "ticks": ""
             }
            },
            "type": "scattergl"
           }
          ],
          "scattermapbox": [
           {
            "marker": {
             "colorbar": {
              "outlinewidth": 0,
              "ticks": ""
             }
            },
            "type": "scattermapbox"
           }
          ],
          "scatterpolar": [
           {
            "marker": {
             "colorbar": {
              "outlinewidth": 0,
              "ticks": ""
             }
            },
            "type": "scatterpolar"
           }
          ],
          "scatterpolargl": [
           {
            "marker": {
             "colorbar": {
              "outlinewidth": 0,
              "ticks": ""
             }
            },
            "type": "scatterpolargl"
           }
          ],
          "scatterternary": [
           {
            "marker": {
             "colorbar": {
              "outlinewidth": 0,
              "ticks": ""
             }
            },
            "type": "scatterternary"
           }
          ],
          "surface": [
           {
            "colorbar": {
             "outlinewidth": 0,
             "ticks": ""
            },
            "colorscale": [
             [
              0,
              "#0d0887"
             ],
             [
              0.1111111111111111,
              "#46039f"
             ],
             [
              0.2222222222222222,
              "#7201a8"
             ],
             [
              0.3333333333333333,
              "#9c179e"
             ],
             [
              0.4444444444444444,
              "#bd3786"
             ],
             [
              0.5555555555555556,
              "#d8576b"
             ],
             [
              0.6666666666666666,
              "#ed7953"
             ],
             [
              0.7777777777777778,
              "#fb9f3a"
             ],
             [
              0.8888888888888888,
              "#fdca26"
             ],
             [
              1,
              "#f0f921"
             ]
            ],
            "type": "surface"
           }
          ],
          "table": [
           {
            "cells": {
             "fill": {
              "color": "#EBF0F8"
             },
             "line": {
              "color": "white"
             }
            },
            "header": {
             "fill": {
              "color": "#C8D4E3"
             },
             "line": {
              "color": "white"
             }
            },
            "type": "table"
           }
          ]
         },
         "layout": {
          "annotationdefaults": {
           "arrowcolor": "#2a3f5f",
           "arrowhead": 0,
           "arrowwidth": 1
          },
          "autotypenumbers": "strict",
          "coloraxis": {
           "colorbar": {
            "outlinewidth": 0,
            "ticks": ""
           }
          },
          "colorscale": {
           "diverging": [
            [
             0,
             "#8e0152"
            ],
            [
             0.1,
             "#c51b7d"
            ],
            [
             0.2,
             "#de77ae"
            ],
            [
             0.3,
             "#f1b6da"
            ],
            [
             0.4,
             "#fde0ef"
            ],
            [
             0.5,
             "#f7f7f7"
            ],
            [
             0.6,
             "#e6f5d0"
            ],
            [
             0.7,
             "#b8e186"
            ],
            [
             0.8,
             "#7fbc41"
            ],
            [
             0.9,
             "#4d9221"
            ],
            [
             1,
             "#276419"
            ]
           ],
           "sequential": [
            [
             0,
             "#0d0887"
            ],
            [
             0.1111111111111111,
             "#46039f"
            ],
            [
             0.2222222222222222,
             "#7201a8"
            ],
            [
             0.3333333333333333,
             "#9c179e"
            ],
            [
             0.4444444444444444,
             "#bd3786"
            ],
            [
             0.5555555555555556,
             "#d8576b"
            ],
            [
             0.6666666666666666,
             "#ed7953"
            ],
            [
             0.7777777777777778,
             "#fb9f3a"
            ],
            [
             0.8888888888888888,
             "#fdca26"
            ],
            [
             1,
             "#f0f921"
            ]
           ],
           "sequentialminus": [
            [
             0,
             "#0d0887"
            ],
            [
             0.1111111111111111,
             "#46039f"
            ],
            [
             0.2222222222222222,
             "#7201a8"
            ],
            [
             0.3333333333333333,
             "#9c179e"
            ],
            [
             0.4444444444444444,
             "#bd3786"
            ],
            [
             0.5555555555555556,
             "#d8576b"
            ],
            [
             0.6666666666666666,
             "#ed7953"
            ],
            [
             0.7777777777777778,
             "#fb9f3a"
            ],
            [
             0.8888888888888888,
             "#fdca26"
            ],
            [
             1,
             "#f0f921"
            ]
           ]
          },
          "colorway": [
           "#636efa",
           "#EF553B",
           "#00cc96",
           "#ab63fa",
           "#FFA15A",
           "#19d3f3",
           "#FF6692",
           "#B6E880",
           "#FF97FF",
           "#FECB52"
          ],
          "font": {
           "color": "#2a3f5f"
          },
          "geo": {
           "bgcolor": "white",
           "lakecolor": "white",
           "landcolor": "white",
           "showlakes": true,
           "showland": true,
           "subunitcolor": "#C8D4E3"
          },
          "hoverlabel": {
           "align": "left"
          },
          "hovermode": "closest",
          "mapbox": {
           "style": "light"
          },
          "paper_bgcolor": "white",
          "plot_bgcolor": "white",
          "polar": {
           "angularaxis": {
            "gridcolor": "#EBF0F8",
            "linecolor": "#EBF0F8",
            "ticks": ""
           },
           "bgcolor": "white",
           "radialaxis": {
            "gridcolor": "#EBF0F8",
            "linecolor": "#EBF0F8",
            "ticks": ""
           }
          },
          "scene": {
           "xaxis": {
            "backgroundcolor": "white",
            "gridcolor": "#DFE8F3",
            "gridwidth": 2,
            "linecolor": "#EBF0F8",
            "showbackground": true,
            "ticks": "",
            "zerolinecolor": "#EBF0F8"
           },
           "yaxis": {
            "backgroundcolor": "white",
            "gridcolor": "#DFE8F3",
            "gridwidth": 2,
            "linecolor": "#EBF0F8",
            "showbackground": true,
            "ticks": "",
            "zerolinecolor": "#EBF0F8"
           },
           "zaxis": {
            "backgroundcolor": "white",
            "gridcolor": "#DFE8F3",
            "gridwidth": 2,
            "linecolor": "#EBF0F8",
            "showbackground": true,
            "ticks": "",
            "zerolinecolor": "#EBF0F8"
           }
          },
          "shapedefaults": {
           "line": {
            "color": "#2a3f5f"
           }
          },
          "ternary": {
           "aaxis": {
            "gridcolor": "#DFE8F3",
            "linecolor": "#A2B1C6",
            "ticks": ""
           },
           "baxis": {
            "gridcolor": "#DFE8F3",
            "linecolor": "#A2B1C6",
            "ticks": ""
           },
           "bgcolor": "white",
           "caxis": {
            "gridcolor": "#DFE8F3",
            "linecolor": "#A2B1C6",
            "ticks": ""
           }
          },
          "title": {
           "x": 0.05
          },
          "xaxis": {
           "automargin": true,
           "gridcolor": "#EBF0F8",
           "linecolor": "#EBF0F8",
           "ticks": "",
           "title": {
            "standoff": 15
           },
           "zerolinecolor": "#EBF0F8",
           "zerolinewidth": 2
          },
          "yaxis": {
           "automargin": true,
           "gridcolor": "#EBF0F8",
           "linecolor": "#EBF0F8",
           "ticks": "",
           "title": {
            "standoff": 15
           },
           "zerolinecolor": "#EBF0F8",
           "zerolinewidth": 2
          }
         }
        },
        "title": {
         "font": {
          "size": 20
         },
         "text": "Forecasting COVID-19 MVBeds with RNN",
         "x": 0.5,
         "xanchor": "center",
         "yanchor": "top"
        },
        "width": 900,
        "xaxis": {
         "range": [
          "2021-10-01",
          "2021-12-30"
         ],
         "rangeselector": {
          "buttons": [
           {
            "count": 3,
            "label": "3D",
            "step": "day",
            "stepmode": "backward"
           },
           {
            "count": 7,
            "label": "1W",
            "step": "day",
            "stepmode": "backward"
           },
           {
            "count": 14,
            "label": "2W",
            "step": "day",
            "stepmode": "backward"
           },
           {
            "count": 1,
            "label": "1M",
            "step": "month",
            "stepmode": "backward"
           },
           {
            "count": 3,
            "label": "3M",
            "step": "month",
            "stepmode": "backward"
           },
           {
            "step": "all"
           }
          ]
         },
         "rangeslider": {
          "visible": true
         },
         "tickfont": {
          "size": 15
         },
         "tickformat": "%d-%m-%Y",
         "title": {
          "font": {
           "size": 15
          },
          "text": "Time"
         },
         "type": "date"
        },
        "yaxis": {
         "tickfont": {
          "size": 15
         },
         "title": {
          "font": {
           "size": 15
          },
          "text": "Value"
         }
        }
       }
      }
     },
     "metadata": {},
     "output_type": "display_data"
    }
   ],
   "source": [
    "fig = plot_forecast(\n",
    "    pred_df,\n",
    "    forecast_columns=[f\"Vanilla {algorithm_name}\"],\n",
    "    forecast_display_names=[f\"Vanilla {algorithm_name}\"],\n",
    ")\n",
    "title = f\"Forecasting COVID-19 MVBeds with {algorithm_name}\"\n",
    "fig = format_plot(fig, title=title)\n",
    "fig.update_xaxes(\n",
    "    rangeslider_visible=True,\n",
    "    rangeselector=dict(\n",
    "        buttons=list(\n",
    "            [\n",
    "                # 3 days after training data starts from the first date in testing data\n",
    "                dict(count=3, label=\"3D\", step=\"day\", stepmode=\"backward\"),\n",
    "                # 7 days after training data starts from the first date in testing data\n",
    "                dict(count=7, label=\"1W\", step=\"day\", stepmode=\"backward\"),\n",
    "                # 14 days after training data starts from the first date in testing data\n",
    "                dict(count=14, label=\"2W\", step=\"day\", stepmode=\"backward\"),\n",
    "                # 1 month after training data starts from the first date in testing data\n",
    "                dict(count=1, label=\"1M\", step=\"month\", stepmode=\"backward\"),\n",
    "                # 3 months after training data starts from the first date in testing data\n",
    "                dict(count=3, label=\"3M\", step=\"month\", stepmode=\"backward\"),\n",
    "                # all\n",
    "                dict(step=\"all\"),\n",
    "            ]\n",
    "        )\n",
    "    ),\n",
    "    type=\"date\", # date range\n",
    "    tickformat=\"%d-%m-%Y\", # date format\n",
    "    range=[\"2021-10-01\", \"2021-12-30\"], # date range\n",
    ")\n",
    "# save_path = f\"images/forecast_multivarate_{algorithm_name}.png\"\n",
    "# pio.write_image(fig, save_path)\n",
    "fig.show()"
   ]
  },
  {
   "cell_type": "code",
   "execution_count": 30,
   "metadata": {},
   "outputs": [
    {
     "data": {
      "application/vnd.plotly.v1+json": {
       "config": {
        "plotlyServerURL": "https://plot.ly"
       },
       "data": [
        {
         "mode": "lines",
         "name": "Train Data",
         "type": "scatter",
         "x": [
          "2020-04-14T00:00:00",
          "2020-04-15T00:00:00",
          "2020-04-15T00:00:00",
          "2020-04-16T00:00:00",
          "2020-04-16T00:00:00",
          "2020-04-17T00:00:00",
          "2020-04-17T00:00:00",
          "2020-04-18T00:00:00",
          "2020-04-18T00:00:00",
          "2020-04-19T00:00:00",
          "2020-04-19T00:00:00",
          "2020-04-20T00:00:00",
          "2020-04-20T00:00:00",
          "2020-04-21T00:00:00",
          "2020-04-21T00:00:00",
          "2020-04-22T00:00:00",
          "2020-04-22T00:00:00",
          "2020-04-23T00:00:00",
          "2020-04-23T00:00:00",
          "2020-04-24T00:00:00",
          "2020-04-24T00:00:00",
          "2020-04-25T00:00:00",
          "2020-04-25T00:00:00",
          "2020-04-26T00:00:00",
          "2020-04-26T00:00:00",
          "2020-04-27T00:00:00",
          "2020-04-27T00:00:00",
          "2020-04-28T00:00:00",
          "2020-04-28T00:00:00",
          "2020-04-29T00:00:00",
          "2020-04-29T00:00:00",
          "2020-04-30T00:00:00",
          "2020-04-30T00:00:00",
          "2020-05-01T00:00:00",
          "2020-05-01T00:00:00",
          "2020-05-02T00:00:00",
          "2020-05-02T00:00:00",
          "2020-05-03T00:00:00",
          "2020-05-03T00:00:00",
          "2020-05-04T00:00:00",
          "2020-05-04T00:00:00",
          "2020-05-05T00:00:00",
          "2020-05-05T00:00:00",
          "2020-05-06T00:00:00",
          "2020-05-06T00:00:00",
          "2020-05-07T00:00:00",
          "2020-05-07T00:00:00",
          "2020-05-08T00:00:00",
          "2020-05-08T00:00:00",
          "2020-05-09T00:00:00",
          "2020-05-09T00:00:00",
          "2020-05-10T00:00:00",
          "2020-05-10T00:00:00",
          "2020-05-11T00:00:00",
          "2020-05-11T00:00:00",
          "2020-05-12T00:00:00",
          "2020-05-12T00:00:00",
          "2020-05-13T00:00:00",
          "2020-05-13T00:00:00",
          "2020-05-14T00:00:00",
          "2020-05-14T00:00:00",
          "2020-05-15T00:00:00",
          "2020-05-15T00:00:00",
          "2020-05-16T00:00:00",
          "2020-05-16T00:00:00",
          "2020-05-17T00:00:00",
          "2020-05-17T00:00:00",
          "2020-05-18T00:00:00",
          "2020-05-18T00:00:00",
          "2020-05-19T00:00:00",
          "2020-05-19T00:00:00",
          "2020-05-20T00:00:00",
          "2020-05-20T00:00:00",
          "2020-05-21T00:00:00",
          "2020-05-21T00:00:00",
          "2020-05-22T00:00:00",
          "2020-05-22T00:00:00",
          "2020-05-23T00:00:00",
          "2020-05-23T00:00:00",
          "2020-05-24T00:00:00",
          "2020-05-24T00:00:00",
          "2020-05-25T00:00:00",
          "2020-05-25T00:00:00",
          "2020-05-26T00:00:00",
          "2020-05-26T00:00:00",
          "2020-05-27T00:00:00",
          "2020-05-27T00:00:00",
          "2020-05-28T00:00:00",
          "2020-05-28T00:00:00",
          "2020-05-29T00:00:00",
          "2020-05-29T00:00:00",
          "2020-05-30T00:00:00",
          "2020-05-30T00:00:00",
          "2020-05-31T00:00:00",
          "2020-05-31T00:00:00",
          "2020-06-01T00:00:00",
          "2020-06-01T00:00:00",
          "2020-06-02T00:00:00",
          "2020-06-02T00:00:00",
          "2020-06-03T00:00:00",
          "2020-06-03T00:00:00",
          "2020-06-04T00:00:00",
          "2020-06-04T00:00:00",
          "2020-06-05T00:00:00",
          "2020-06-05T00:00:00",
          "2020-06-06T00:00:00",
          "2020-06-06T00:00:00",
          "2020-06-07T00:00:00",
          "2020-06-07T00:00:00",
          "2020-06-08T00:00:00",
          "2020-06-08T00:00:00",
          "2020-06-09T00:00:00",
          "2020-06-09T00:00:00",
          "2020-06-10T00:00:00",
          "2020-06-10T00:00:00",
          "2020-06-11T00:00:00",
          "2020-06-11T00:00:00",
          "2020-06-12T00:00:00",
          "2020-06-12T00:00:00",
          "2020-06-13T00:00:00",
          "2020-06-13T00:00:00",
          "2020-06-14T00:00:00",
          "2020-06-14T00:00:00",
          "2020-06-15T00:00:00",
          "2020-06-15T00:00:00",
          "2020-06-16T00:00:00",
          "2020-06-16T00:00:00",
          "2020-06-17T00:00:00",
          "2020-06-17T00:00:00",
          "2020-06-18T00:00:00",
          "2020-06-18T00:00:00",
          "2020-06-19T00:00:00",
          "2020-06-19T00:00:00",
          "2020-06-20T00:00:00",
          "2020-06-20T00:00:00",
          "2020-06-21T00:00:00",
          "2020-06-21T00:00:00",
          "2020-06-22T00:00:00",
          "2020-06-22T00:00:00",
          "2020-06-23T00:00:00",
          "2020-06-23T00:00:00",
          "2020-06-24T00:00:00",
          "2020-06-24T00:00:00",
          "2020-06-25T00:00:00",
          "2020-06-25T00:00:00",
          "2020-06-26T00:00:00",
          "2020-06-26T00:00:00",
          "2020-06-27T00:00:00",
          "2020-06-27T00:00:00",
          "2020-06-28T00:00:00",
          "2020-06-28T00:00:00",
          "2020-06-29T00:00:00",
          "2020-06-29T00:00:00",
          "2020-06-30T00:00:00",
          "2020-06-30T00:00:00",
          "2020-07-01T00:00:00",
          "2020-07-01T00:00:00",
          "2020-07-02T00:00:00",
          "2020-07-02T00:00:00",
          "2020-07-03T00:00:00",
          "2020-07-03T00:00:00",
          "2020-07-04T00:00:00",
          "2020-07-04T00:00:00",
          "2020-07-05T00:00:00",
          "2020-07-05T00:00:00",
          "2020-07-06T00:00:00",
          "2020-07-06T00:00:00",
          "2020-07-07T00:00:00",
          "2020-07-07T00:00:00",
          "2020-07-08T00:00:00",
          "2020-07-08T00:00:00",
          "2020-07-09T00:00:00",
          "2020-07-09T00:00:00",
          "2020-07-10T00:00:00",
          "2020-07-10T00:00:00",
          "2020-07-11T00:00:00",
          "2020-07-11T00:00:00",
          "2020-07-12T00:00:00",
          "2020-07-12T00:00:00",
          "2020-07-13T00:00:00",
          "2020-07-13T00:00:00",
          "2020-07-14T00:00:00",
          "2020-07-14T00:00:00",
          "2020-07-15T00:00:00",
          "2020-07-15T00:00:00",
          "2020-07-16T00:00:00",
          "2020-07-16T00:00:00",
          "2020-07-17T00:00:00",
          "2020-07-17T00:00:00",
          "2020-07-18T00:00:00",
          "2020-07-18T00:00:00",
          "2020-07-19T00:00:00",
          "2020-07-19T00:00:00",
          "2020-07-20T00:00:00",
          "2020-07-20T00:00:00",
          "2020-07-21T00:00:00",
          "2020-07-21T00:00:00",
          "2020-07-22T00:00:00",
          "2020-07-22T00:00:00",
          "2020-07-23T00:00:00",
          "2020-07-23T00:00:00",
          "2020-07-24T00:00:00",
          "2020-07-24T00:00:00",
          "2020-07-25T00:00:00",
          "2020-07-25T00:00:00",
          "2020-07-26T00:00:00",
          "2020-07-26T00:00:00",
          "2020-07-27T00:00:00",
          "2020-07-27T00:00:00",
          "2020-07-28T00:00:00",
          "2020-07-28T00:00:00",
          "2020-07-29T00:00:00",
          "2020-07-29T00:00:00",
          "2020-07-30T00:00:00",
          "2020-07-30T00:00:00",
          "2020-07-31T00:00:00",
          "2020-07-31T00:00:00",
          "2020-08-01T00:00:00",
          "2020-08-01T00:00:00",
          "2020-08-02T00:00:00",
          "2020-08-02T00:00:00",
          "2020-08-03T00:00:00",
          "2020-08-03T00:00:00",
          "2020-08-04T00:00:00",
          "2020-08-04T00:00:00",
          "2020-08-05T00:00:00",
          "2020-08-05T00:00:00",
          "2020-08-06T00:00:00",
          "2020-08-06T00:00:00",
          "2020-08-07T00:00:00",
          "2020-08-07T00:00:00",
          "2020-08-08T00:00:00",
          "2020-08-08T00:00:00",
          "2020-08-09T00:00:00",
          "2020-08-09T00:00:00",
          "2020-08-10T00:00:00",
          "2020-08-10T00:00:00",
          "2020-08-11T00:00:00",
          "2020-08-11T00:00:00",
          "2020-08-12T00:00:00",
          "2020-08-12T00:00:00",
          "2020-08-13T00:00:00",
          "2020-08-13T00:00:00",
          "2020-08-14T00:00:00",
          "2020-08-14T00:00:00",
          "2020-08-15T00:00:00",
          "2020-08-15T00:00:00",
          "2020-08-16T00:00:00",
          "2020-08-16T00:00:00",
          "2020-08-17T00:00:00",
          "2020-08-17T00:00:00",
          "2020-08-18T00:00:00",
          "2020-08-18T00:00:00",
          "2020-08-19T00:00:00",
          "2020-08-19T00:00:00",
          "2020-08-20T00:00:00",
          "2020-08-20T00:00:00",
          "2020-08-21T00:00:00",
          "2020-08-21T00:00:00",
          "2020-08-22T00:00:00",
          "2020-08-22T00:00:00",
          "2020-08-23T00:00:00",
          "2020-08-23T00:00:00",
          "2020-08-24T00:00:00",
          "2020-08-24T00:00:00",
          "2020-08-25T00:00:00",
          "2020-08-25T00:00:00",
          "2020-08-26T00:00:00",
          "2020-08-26T00:00:00",
          "2020-08-27T00:00:00",
          "2020-08-27T00:00:00",
          "2020-08-28T00:00:00",
          "2020-08-28T00:00:00",
          "2020-08-29T00:00:00",
          "2020-08-29T00:00:00",
          "2020-08-30T00:00:00",
          "2020-08-30T00:00:00",
          "2020-08-31T00:00:00",
          "2020-08-31T00:00:00",
          "2020-09-01T00:00:00",
          "2020-09-01T00:00:00",
          "2020-09-02T00:00:00",
          "2020-09-02T00:00:00",
          "2020-09-03T00:00:00",
          "2020-09-03T00:00:00",
          "2020-09-04T00:00:00",
          "2020-09-04T00:00:00",
          "2020-09-05T00:00:00",
          "2020-09-05T00:00:00",
          "2020-09-06T00:00:00",
          "2020-09-06T00:00:00",
          "2020-09-07T00:00:00",
          "2020-09-07T00:00:00",
          "2020-09-08T00:00:00",
          "2020-09-08T00:00:00",
          "2020-09-09T00:00:00",
          "2020-09-09T00:00:00",
          "2020-09-10T00:00:00",
          "2020-09-10T00:00:00",
          "2020-09-11T00:00:00",
          "2020-09-11T00:00:00",
          "2020-09-12T00:00:00",
          "2020-09-12T00:00:00",
          "2020-09-13T00:00:00",
          "2020-09-13T00:00:00",
          "2020-09-14T00:00:00",
          "2020-09-14T00:00:00",
          "2020-09-15T00:00:00",
          "2020-09-15T00:00:00",
          "2020-09-16T00:00:00",
          "2020-09-16T00:00:00",
          "2020-09-17T00:00:00",
          "2020-09-17T00:00:00",
          "2020-09-18T00:00:00",
          "2020-09-18T00:00:00",
          "2020-09-19T00:00:00",
          "2020-09-19T00:00:00",
          "2020-09-20T00:00:00",
          "2020-09-20T00:00:00",
          "2020-09-21T00:00:00",
          "2020-09-21T00:00:00",
          "2020-09-22T00:00:00",
          "2020-09-22T00:00:00",
          "2020-09-23T00:00:00",
          "2020-09-23T00:00:00",
          "2020-09-24T00:00:00",
          "2020-09-24T00:00:00",
          "2020-09-25T00:00:00",
          "2020-09-25T00:00:00",
          "2020-09-26T00:00:00",
          "2020-09-26T00:00:00",
          "2020-09-27T00:00:00",
          "2020-09-27T00:00:00",
          "2020-09-28T00:00:00",
          "2020-09-28T00:00:00",
          "2020-09-29T00:00:00",
          "2020-09-29T00:00:00",
          "2020-09-30T00:00:00",
          "2020-09-30T00:00:00",
          "2020-10-01T00:00:00",
          "2020-10-01T00:00:00",
          "2020-10-02T00:00:00",
          "2020-10-02T00:00:00",
          "2020-10-03T00:00:00",
          "2020-10-03T00:00:00",
          "2020-10-04T00:00:00",
          "2020-10-04T00:00:00",
          "2020-10-05T00:00:00",
          "2020-10-05T00:00:00",
          "2020-10-06T00:00:00",
          "2020-10-06T00:00:00",
          "2020-10-07T00:00:00",
          "2020-10-07T00:00:00",
          "2020-10-08T00:00:00",
          "2020-10-08T00:00:00",
          "2020-10-09T00:00:00",
          "2020-10-09T00:00:00",
          "2020-10-10T00:00:00",
          "2020-10-10T00:00:00",
          "2020-10-11T00:00:00",
          "2020-10-11T00:00:00",
          "2020-10-12T00:00:00",
          "2020-10-12T00:00:00",
          "2020-10-13T00:00:00",
          "2020-10-13T00:00:00",
          "2020-10-14T00:00:00",
          "2020-10-14T00:00:00",
          "2020-10-15T00:00:00",
          "2020-10-15T00:00:00",
          "2020-10-16T00:00:00",
          "2020-10-16T00:00:00",
          "2020-10-17T00:00:00",
          "2020-10-17T00:00:00",
          "2020-10-18T00:00:00",
          "2020-10-18T00:00:00",
          "2020-10-19T00:00:00",
          "2020-10-19T00:00:00",
          "2020-10-20T00:00:00",
          "2020-10-20T00:00:00",
          "2020-10-21T00:00:00",
          "2020-10-21T00:00:00",
          "2020-10-22T00:00:00",
          "2020-10-22T00:00:00",
          "2020-10-23T00:00:00",
          "2020-10-23T00:00:00",
          "2020-10-24T00:00:00",
          "2020-10-24T00:00:00",
          "2020-10-25T00:00:00",
          "2020-10-25T00:00:00",
          "2020-10-26T00:00:00",
          "2020-10-26T00:00:00",
          "2020-10-27T00:00:00",
          "2020-10-27T00:00:00",
          "2020-10-28T00:00:00",
          "2020-10-28T00:00:00",
          "2020-10-29T00:00:00",
          "2020-10-29T00:00:00",
          "2020-10-30T00:00:00",
          "2020-10-30T00:00:00",
          "2020-10-31T00:00:00",
          "2020-10-31T00:00:00",
          "2020-11-01T00:00:00",
          "2020-11-01T00:00:00",
          "2020-11-02T00:00:00",
          "2020-11-02T00:00:00",
          "2020-11-03T00:00:00",
          "2020-11-03T00:00:00",
          "2020-11-04T00:00:00",
          "2020-11-04T00:00:00",
          "2020-11-05T00:00:00",
          "2020-11-05T00:00:00",
          "2020-11-06T00:00:00",
          "2020-11-06T00:00:00",
          "2020-11-07T00:00:00",
          "2020-11-07T00:00:00",
          "2020-11-08T00:00:00",
          "2020-11-08T00:00:00",
          "2020-11-09T00:00:00",
          "2020-11-09T00:00:00",
          "2020-11-10T00:00:00",
          "2020-11-10T00:00:00",
          "2020-11-11T00:00:00",
          "2020-11-11T00:00:00",
          "2020-11-12T00:00:00",
          "2020-11-12T00:00:00",
          "2020-11-13T00:00:00",
          "2020-11-13T00:00:00",
          "2020-11-14T00:00:00",
          "2020-11-14T00:00:00",
          "2020-11-15T00:00:00",
          "2020-11-15T00:00:00",
          "2020-11-16T00:00:00",
          "2020-11-16T00:00:00",
          "2020-11-17T00:00:00",
          "2020-11-17T00:00:00",
          "2020-11-18T00:00:00",
          "2020-11-18T00:00:00",
          "2020-11-19T00:00:00",
          "2020-11-19T00:00:00",
          "2020-11-20T00:00:00",
          "2020-11-20T00:00:00",
          "2020-11-21T00:00:00",
          "2020-11-21T00:00:00",
          "2020-11-22T00:00:00",
          "2020-11-22T00:00:00",
          "2020-11-23T00:00:00",
          "2020-11-23T00:00:00",
          "2020-11-24T00:00:00",
          "2020-11-24T00:00:00",
          "2020-11-25T00:00:00",
          "2020-11-25T00:00:00",
          "2020-11-26T00:00:00",
          "2020-11-26T00:00:00",
          "2020-11-27T00:00:00",
          "2020-11-27T00:00:00",
          "2020-11-28T00:00:00",
          "2020-11-28T00:00:00",
          "2020-11-29T00:00:00",
          "2020-11-29T00:00:00",
          "2020-11-30T00:00:00",
          "2020-11-30T00:00:00",
          "2020-12-01T00:00:00",
          "2020-12-01T00:00:00",
          "2020-12-02T00:00:00",
          "2020-12-02T00:00:00",
          "2020-12-03T00:00:00",
          "2020-12-03T00:00:00",
          "2020-12-04T00:00:00",
          "2020-12-04T00:00:00",
          "2020-12-05T00:00:00",
          "2020-12-05T00:00:00",
          "2020-12-06T00:00:00",
          "2020-12-06T00:00:00",
          "2020-12-07T00:00:00",
          "2020-12-07T00:00:00",
          "2020-12-08T00:00:00",
          "2020-12-08T00:00:00",
          "2020-12-09T00:00:00",
          "2020-12-09T00:00:00",
          "2020-12-10T00:00:00",
          "2020-12-10T00:00:00",
          "2020-12-11T00:00:00",
          "2020-12-11T00:00:00",
          "2020-12-12T00:00:00",
          "2020-12-12T00:00:00",
          "2020-12-13T00:00:00",
          "2020-12-13T00:00:00",
          "2020-12-14T00:00:00",
          "2020-12-14T00:00:00",
          "2020-12-15T00:00:00",
          "2020-12-15T00:00:00",
          "2020-12-16T00:00:00",
          "2020-12-16T00:00:00",
          "2020-12-17T00:00:00",
          "2020-12-17T00:00:00",
          "2020-12-18T00:00:00",
          "2020-12-18T00:00:00",
          "2020-12-19T00:00:00",
          "2020-12-19T00:00:00",
          "2020-12-20T00:00:00",
          "2020-12-20T00:00:00",
          "2020-12-21T00:00:00",
          "2020-12-21T00:00:00",
          "2020-12-22T00:00:00",
          "2020-12-22T00:00:00",
          "2020-12-23T00:00:00",
          "2020-12-23T00:00:00",
          "2020-12-24T00:00:00",
          "2020-12-24T00:00:00",
          "2020-12-25T00:00:00",
          "2020-12-25T00:00:00",
          "2020-12-26T00:00:00",
          "2020-12-26T00:00:00",
          "2020-12-27T00:00:00",
          "2020-12-27T00:00:00",
          "2020-12-28T00:00:00",
          "2020-12-28T00:00:00",
          "2020-12-29T00:00:00",
          "2020-12-29T00:00:00",
          "2020-12-30T00:00:00",
          "2020-12-30T00:00:00",
          "2020-12-31T00:00:00",
          "2020-12-31T00:00:00",
          "2021-01-01T00:00:00",
          "2021-01-01T00:00:00",
          "2021-01-02T00:00:00",
          "2021-01-02T00:00:00",
          "2021-01-03T00:00:00",
          "2021-01-03T00:00:00",
          "2021-01-04T00:00:00",
          "2021-01-04T00:00:00",
          "2021-01-05T00:00:00",
          "2021-01-05T00:00:00",
          "2021-01-06T00:00:00",
          "2021-01-06T00:00:00",
          "2021-01-07T00:00:00",
          "2021-01-07T00:00:00",
          "2021-01-08T00:00:00",
          "2021-01-08T00:00:00",
          "2021-01-09T00:00:00",
          "2021-01-09T00:00:00",
          "2021-01-10T00:00:00",
          "2021-01-10T00:00:00",
          "2021-01-11T00:00:00",
          "2021-01-11T00:00:00",
          "2021-01-12T00:00:00",
          "2021-01-12T00:00:00",
          "2021-01-13T00:00:00",
          "2021-01-13T00:00:00",
          "2021-01-14T00:00:00",
          "2021-01-14T00:00:00",
          "2021-01-15T00:00:00",
          "2021-01-15T00:00:00",
          "2021-01-16T00:00:00",
          "2021-01-16T00:00:00",
          "2021-01-17T00:00:00",
          "2021-01-17T00:00:00",
          "2021-01-18T00:00:00",
          "2021-01-18T00:00:00",
          "2021-01-19T00:00:00",
          "2021-01-19T00:00:00",
          "2021-01-20T00:00:00",
          "2021-01-20T00:00:00",
          "2021-01-21T00:00:00",
          "2021-01-21T00:00:00",
          "2021-01-22T00:00:00",
          "2021-01-22T00:00:00",
          "2021-01-23T00:00:00",
          "2021-01-23T00:00:00",
          "2021-01-24T00:00:00",
          "2021-01-24T00:00:00",
          "2021-01-25T00:00:00",
          "2021-01-25T00:00:00",
          "2021-01-26T00:00:00",
          "2021-01-26T00:00:00",
          "2021-01-27T00:00:00",
          "2021-01-27T00:00:00",
          "2021-01-28T00:00:00",
          "2021-01-28T00:00:00",
          "2021-01-29T00:00:00",
          "2021-01-29T00:00:00",
          "2021-01-30T00:00:00",
          "2021-01-30T00:00:00",
          "2021-01-31T00:00:00",
          "2021-01-31T00:00:00",
          "2021-02-01T00:00:00",
          "2021-02-01T00:00:00",
          "2021-02-02T00:00:00",
          "2021-02-02T00:00:00",
          "2021-02-03T00:00:00",
          "2021-02-03T00:00:00",
          "2021-02-04T00:00:00",
          "2021-02-04T00:00:00",
          "2021-02-05T00:00:00",
          "2021-02-05T00:00:00",
          "2021-02-06T00:00:00",
          "2021-02-06T00:00:00",
          "2021-02-07T00:00:00",
          "2021-02-07T00:00:00",
          "2021-02-08T00:00:00",
          "2021-02-08T00:00:00",
          "2021-02-09T00:00:00",
          "2021-02-09T00:00:00",
          "2021-02-10T00:00:00",
          "2021-02-10T00:00:00",
          "2021-02-11T00:00:00",
          "2021-02-11T00:00:00",
          "2021-02-12T00:00:00",
          "2021-02-12T00:00:00",
          "2021-02-13T00:00:00",
          "2021-02-13T00:00:00",
          "2021-02-14T00:00:00",
          "2021-02-14T00:00:00",
          "2021-02-15T00:00:00",
          "2021-02-15T00:00:00",
          "2021-02-16T00:00:00",
          "2021-02-16T00:00:00",
          "2021-02-17T00:00:00",
          "2021-02-17T00:00:00",
          "2021-02-18T00:00:00",
          "2021-02-18T00:00:00",
          "2021-02-19T00:00:00",
          "2021-02-19T00:00:00",
          "2021-02-20T00:00:00",
          "2021-02-20T00:00:00",
          "2021-02-21T00:00:00",
          "2021-02-21T00:00:00",
          "2021-02-22T00:00:00",
          "2021-02-22T00:00:00",
          "2021-02-23T00:00:00",
          "2021-02-23T00:00:00",
          "2021-02-24T00:00:00",
          "2021-02-24T00:00:00",
          "2021-02-25T00:00:00",
          "2021-02-25T00:00:00",
          "2021-02-26T00:00:00",
          "2021-02-26T00:00:00",
          "2021-02-27T00:00:00",
          "2021-02-27T00:00:00",
          "2021-02-28T00:00:00",
          "2021-02-28T00:00:00",
          "2021-03-01T00:00:00",
          "2021-03-01T00:00:00",
          "2021-03-02T00:00:00",
          "2021-03-02T00:00:00",
          "2021-03-03T00:00:00",
          "2021-03-03T00:00:00",
          "2021-03-04T00:00:00",
          "2021-03-04T00:00:00",
          "2021-03-05T00:00:00",
          "2021-03-05T00:00:00",
          "2021-03-06T00:00:00",
          "2021-03-06T00:00:00",
          "2021-03-07T00:00:00",
          "2021-03-07T00:00:00",
          "2021-03-08T00:00:00",
          "2021-03-08T00:00:00",
          "2021-03-09T00:00:00",
          "2021-03-09T00:00:00",
          "2021-03-10T00:00:00",
          "2021-03-10T00:00:00",
          "2021-03-11T00:00:00",
          "2021-03-11T00:00:00",
          "2021-03-12T00:00:00",
          "2021-03-12T00:00:00",
          "2021-03-13T00:00:00",
          "2021-03-13T00:00:00",
          "2021-03-14T00:00:00",
          "2021-03-14T00:00:00",
          "2021-03-15T00:00:00",
          "2021-03-15T00:00:00",
          "2021-03-16T00:00:00",
          "2021-03-16T00:00:00",
          "2021-03-17T00:00:00",
          "2021-03-17T00:00:00",
          "2021-03-18T00:00:00",
          "2021-03-18T00:00:00",
          "2021-03-19T00:00:00",
          "2021-03-19T00:00:00",
          "2021-03-20T00:00:00",
          "2021-03-20T00:00:00",
          "2021-03-21T00:00:00",
          "2021-03-21T00:00:00",
          "2021-03-22T00:00:00",
          "2021-03-22T00:00:00",
          "2021-03-23T00:00:00",
          "2021-03-23T00:00:00",
          "2021-03-24T00:00:00",
          "2021-03-24T00:00:00",
          "2021-03-25T00:00:00",
          "2021-03-25T00:00:00",
          "2021-03-26T00:00:00",
          "2021-03-26T00:00:00",
          "2021-03-27T00:00:00",
          "2021-03-27T00:00:00",
          "2021-03-28T00:00:00",
          "2021-03-28T00:00:00",
          "2021-03-29T00:00:00",
          "2021-03-29T00:00:00",
          "2021-03-30T00:00:00",
          "2021-03-30T00:00:00",
          "2021-03-31T00:00:00",
          "2021-03-31T00:00:00",
          "2021-04-01T00:00:00",
          "2021-04-01T00:00:00",
          "2021-04-02T00:00:00",
          "2021-04-02T00:00:00",
          "2021-04-03T00:00:00",
          "2021-04-03T00:00:00",
          "2021-04-04T00:00:00",
          "2021-04-04T00:00:00",
          "2021-04-05T00:00:00",
          "2021-04-05T00:00:00",
          "2021-04-06T00:00:00",
          "2021-04-06T00:00:00",
          "2021-04-07T00:00:00",
          "2021-04-07T00:00:00",
          "2021-04-08T00:00:00",
          "2021-04-08T00:00:00",
          "2021-04-09T00:00:00",
          "2021-04-09T00:00:00",
          "2021-04-10T00:00:00",
          "2021-04-10T00:00:00",
          "2021-04-11T00:00:00",
          "2021-04-11T00:00:00",
          "2021-04-12T00:00:00",
          "2021-04-12T00:00:00",
          "2021-04-13T00:00:00",
          "2021-04-13T00:00:00",
          "2021-04-14T00:00:00",
          "2021-04-14T00:00:00",
          "2021-04-15T00:00:00",
          "2021-04-15T00:00:00",
          "2021-04-16T00:00:00",
          "2021-04-16T00:00:00",
          "2021-04-17T00:00:00",
          "2021-04-17T00:00:00",
          "2021-04-18T00:00:00",
          "2021-04-18T00:00:00",
          "2021-04-19T00:00:00",
          "2021-04-19T00:00:00",
          "2021-04-20T00:00:00",
          "2021-04-20T00:00:00",
          "2021-04-21T00:00:00",
          "2021-04-21T00:00:00",
          "2021-04-22T00:00:00",
          "2021-04-22T00:00:00",
          "2021-04-23T00:00:00",
          "2021-04-23T00:00:00",
          "2021-04-24T00:00:00",
          "2021-04-24T00:00:00",
          "2021-04-25T00:00:00",
          "2021-04-25T00:00:00",
          "2021-04-26T00:00:00",
          "2021-04-26T00:00:00",
          "2021-04-27T00:00:00",
          "2021-04-27T00:00:00",
          "2021-04-28T00:00:00",
          "2021-04-28T00:00:00",
          "2021-04-29T00:00:00",
          "2021-04-29T00:00:00",
          "2021-04-30T00:00:00",
          "2021-04-30T00:00:00",
          "2021-05-01T00:00:00",
          "2021-05-01T00:00:00",
          "2021-05-02T00:00:00",
          "2021-05-02T00:00:00",
          "2021-05-03T00:00:00",
          "2021-05-03T00:00:00",
          "2021-05-04T00:00:00",
          "2021-05-04T00:00:00",
          "2021-05-05T00:00:00",
          "2021-05-05T00:00:00",
          "2021-05-06T00:00:00",
          "2021-05-06T00:00:00",
          "2021-05-07T00:00:00",
          "2021-05-07T00:00:00",
          "2021-05-08T00:00:00",
          "2021-05-08T00:00:00",
          "2021-05-09T00:00:00",
          "2021-05-09T00:00:00",
          "2021-05-10T00:00:00",
          "2021-05-10T00:00:00",
          "2021-05-11T00:00:00",
          "2021-05-11T00:00:00",
          "2021-05-12T00:00:00",
          "2021-05-12T00:00:00",
          "2021-05-13T00:00:00",
          "2021-05-13T00:00:00",
          "2021-05-14T00:00:00",
          "2021-05-14T00:00:00",
          "2021-05-15T00:00:00",
          "2021-05-15T00:00:00"
         ],
         "y": [
          32.84099181871219,
          33.01821520724069,
          33.01821520724069,
          33.090706773538926,
          33.090706773538926,
          31.892379881448345,
          31.892379881448345,
          32.748912288950166,
          32.748912288950166,
          32.57648332993459,
          32.57648332993459,
          31.793848951383772,
          31.793848951383772,
          31.7971706398276,
          31.7971706398276,
          31.727968547316113,
          31.727968547316113,
          30.73329517423768,
          30.73329517423768,
          29.583083559295325,
          29.583083559295325,
          28.829050329923273,
          28.829050329923273,
          28.46597454367153,
          28.46597454367153,
          26.371895759146046,
          26.371895759146046,
          26.286379949973924,
          26.286379949973924,
          26.602624691203587,
          26.602624691203587,
          25.93279718503972,
          25.93279718503972,
          26.027942491865673,
          26.027942491865673,
          24.77269375443127,
          24.77269375443127,
          24.144601900531793,
          24.144601900531793,
          23.649862419599064,
          23.649862419599064,
          23.246577836170623,
          23.246577836170623,
          22.57111479781118,
          22.57111479781118,
          19.780092604665086,
          19.780092604665086,
          21.262363648074523,
          21.262363648074523,
          20.74940525569695,
          20.74940525569695,
          20.754756861266298,
          20.754756861266298,
          20.10721384697655,
          20.10721384697655,
          19.991569001665706,
          19.991569001665706,
          19.189276690684487,
          19.189276690684487,
          19.258542439850025,
          19.258542439850025,
          18.61959685901527,
          18.61959685901527,
          18.36091301629322,
          18.36091301629322,
          18.433567699691736,
          18.433567699691736,
          17.623497794659958,
          17.623497794659958,
          17.768681046814436,
          17.768681046814436,
          17.14115015029996,
          17.14115015029996,
          16.930849691445246,
          16.930849691445246,
          16.268502058662612,
          16.268502058662612,
          15.812812606952686,
          15.812812606952686,
          15.503522122777316,
          15.503522122777316,
          14.772814716886284,
          14.772814716886284,
          14.525830181975548,
          14.525830181975548,
          14.36133505041473,
          14.36133505041473,
          14.194832660707576,
          14.194832660707576,
          14.970641677994337,
          14.970641677994337,
          15.060964200192805,
          15.060964200192805,
          15.068525395817396,
          15.068525395817396,
          15.321126239281268,
          15.321126239281268,
          14.665810080075675,
          14.665810080075675,
          14.066952682150578,
          14.066952682150578,
          14.163361877886299,
          14.163361877886299,
          13.994383384961159,
          13.994383384961159,
          12.984279429841962,
          12.984279429841962,
          12.700844804979099,
          12.700844804979099,
          12.207062180549388,
          12.207062180549388,
          12.009439392259795,
          12.009439392259795,
          12.122901294440323,
          12.122901294440323,
          10.81974390688962,
          10.81974390688962,
          10.713745366820277,
          10.713745366820277,
          10.24508034740133,
          10.24508034740133,
          10.133055453571131,
          10.133055453571131,
          10.745962906713446,
          10.745962906713446,
          10.400313524057685,
          10.400313524057685,
          9.396511655004064,
          9.396511655004064,
          9.672059769594112,
          9.672059769594112,
          9.553369351234306,
          9.553369351234306,
          12.521311250375705,
          12.521311250375705,
          9.037913660680895,
          9.037913660680895,
          9.050636096217321,
          9.050636096217321,
          8.343318919371832,
          8.343318919371832,
          8.795281634035572,
          8.795281634035572,
          8.519049566969672,
          8.519049566969672,
          8.080627379655732,
          8.080627379655732,
          8.69135299671253,
          8.69135299671253,
          8.411827110026197,
          8.411827110026197,
          8.572816247262956,
          8.572816247262956,
          8.87338169071907,
          8.87338169071907,
          9.434373074416865,
          9.434373074416865,
          8.899267016973203,
          8.899267016973203,
          8.626259353399249,
          8.626259353399249,
          8.193342700787511,
          8.193342700787511,
          8.053573047748454,
          8.053573047748454,
          7.911453206392415,
          7.911453206392415,
          7.925912194456084,
          7.925912194456084,
          7.113393362139193,
          7.113393362139193,
          7.634673779630397,
          7.634673779630397,
          6.605593209080209,
          6.605593209080209,
          6.434065047504783,
          6.434065047504783,
          6.258301454155858,
          6.258301454155858,
          6.276248199512453,
          6.276248199512453,
          5.24094571076287,
          5.24094571076287,
          6.312004139012117,
          6.312004139012117,
          5.051105166136777,
          5.051105166136777,
          5.74121533868272,
          5.74121533868272,
          5.546187162064456,
          5.546187162064456,
          5.3450156579967505,
          5.3450156579967505,
          5.365621666807709,
          5.365621666807709,
          4.146986787896472,
          4.146986787896472,
          4.172378082003434,
          4.172378082003434,
          4.465709061073935,
          4.465709061073935,
          4.222796225457196,
          4.222796225457196,
          3.3571294535916656,
          3.3571294535916656,
          2.285504941851453,
          2.285504941851453,
          3.082704330582635,
          3.082704330582635,
          2.755608802378714,
          2.755608802378714,
          2.4000059603914177,
          2.4000059603914177,
          2.007520254180985,
          2.007520254180985,
          3.2080678485741703,
          3.2080678485741703,
          3.8642623336385284,
          3.8642623336385284,
          2.923896143623655,
          2.923896143623655,
          2.956758007498365,
          2.956758007498365,
          3.944315263525554,
          3.944315263525554,
          3.970720335711063,
          3.970720335711063,
          4.275113541427458,
          4.275113541427458,
          3.0857409943650813,
          3.0857409943650813,
          0.8138733425564872,
          0.8138733425564872,
          1.472122919365528,
          1.472122919365528,
          2.826970684589631,
          2.826970684589631,
          2.8605959654728492,
          2.8605959654728492,
          2.8939527846945117,
          2.8939527846945117,
          2.5509631013147,
          2.5509631013147,
          2.9598846813225723,
          2.9598846813225723,
          2.992471053414959,
          2.992471053414959,
          2.254019922128641,
          2.254019922128641,
          1.8441794877333093,
          1.8441794877333093,
          1.8878292951173534,
          1.8878292951173534,
          2.369474435899862,
          2.369474435899862,
          2.4071831371676327,
          2.4071831371676327,
          2.0155141249738917,
          2.0155141249738917,
          2.4815004142587704,
          2.4815004142587704,
          2.5181286933706644,
          2.5181286933706644,
          2.930195726101628,
          2.930195726101628,
          3.6241469995723996,
          3.6241469995723996,
          2.6260015464096944,
          2.6260015464096944,
          3.68031359007833,
          3.68031359007833,
          2.296598222973539,
          2.296598222973539,
          3.09180799054528,
          3.09180799054528,
          4.05408013926969,
          4.05408013926969,
          3.790739137638263,
          3.790739137638263,
          3.817962643854533,
          3.817962643854533,
          3.5413919137368954,
          3.5413919137368954,
          3.570046807720596,
          3.570046807720596,
          2.933342006440974,
          2.933342006440974,
          3.3084991721323487,
          3.3084991721323487,
          3.6549944981418228,
          3.6549944981418228,
          4.522553060557759,
          4.522553060557759,
          4.79828811324448,
          4.79828811324448,
          4.820854791085487,
          4.820854791085487,
          5.0830260491005985,
          5.0830260491005985,
          5.334226949385138,
          5.334226949385138,
          5.995846258940027,
          5.995846258940027,
          6.014490520114472,
          6.014490520114472,
          6.6153980075436785,
          6.6153980075436785,
          7.341484985083466,
          7.341484985083466,
          7.848537474240973,
          7.848537474240973,
          7.5393554952794215,
          7.5393554952794215,
          8.034611354869087,
          8.034611354869087,
          8.048859889673722,
          8.048859889673722,
          9.22281770528905,
          9.22281770528905,
          9.89194906756632,
          9.89194906756632,
          10.154186512833979,
          10.154186512833979,
          10.765888437846415,
          10.765888437846415,
          11.344430920769534,
          11.344430920769534,
          11.573604157885903,
          11.573604157885903,
          10.680949866330904,
          10.680949866330904,
          11.263904043722942,
          11.263904043722942,
          11.27412385663834,
          11.27412385663834,
          11.172483886563487,
          11.172483886563487,
          11.730705352703955,
          11.730705352703955,
          11.633125408379026,
          11.633125408379026,
          12.374092398820137,
          12.374092398820137,
          12.075865446610198,
          12.075865446610198,
          12.291108019511984,
          12.291108019511984,
          13.089479276019247,
          13.089479276019247,
          13.193364333384567,
          13.193364333384567,
          13.758066128565567,
          13.758066128565567,
          13.85672948490695,
          13.85672948490695,
          13.683779819062261,
          13.683779819062261,
          14.228175097180035,
          14.228175097180035,
          14.148397252561109,
          14.148397252561109,
          14.843242881876847,
          14.843242881876847,
          14.93438069738382,
          14.93438069738382,
          15.432482461132782,
          15.432482461132782,
          15.032514306637744,
          15.032514306637744,
          15.366705760724503,
          15.366705760724503,
          15.047662951324552,
          15.047662951324552,
          14.805522960118468,
          14.805522960118468,
          16.173683535623425,
          16.173683535623425,
          16.483325170730982,
          16.483325170730982,
          17.43459244029472,
          17.43459244029472,
          18.131344247087092,
          18.131344247087092,
          18.800251558606828,
          18.800251558606828,
          19.255250929402074,
          19.255250929402074,
          19.51252418598977,
          19.51252418598977,
          18.753066645294396,
          18.753066645294396,
          20.613609413100914,
          20.613609413100914,
          22.467037775289022,
          22.467037775289022,
          21.82004037655312,
          21.82004037655312,
          21.88023462431237,
          21.88023462431237,
          22.104234357412842,
          22.104234357412842,
          21.779970547007082,
          21.779970547007082,
          22.114216556150463,
          22.114216556150463,
          23.588255789435813,
          23.588255789435813,
          23.491362031665656,
          23.491362031665656,
          23.698579260453684,
          23.698579260453684,
          23.500694022234548,
          23.500694022234548,
          24.00796178160293,
          24.00796178160293,
          23.9129562723678,
          23.9129562723678,
          23.817529252777135,
          23.817529252777135,
          23.519345672596003,
          23.519345672596003,
          24.272936841406334,
          24.272936841406334,
          24.666466426950574,
          24.666466426950574,
          25.2418165277088,
          25.2418165277088,
          25.664957217015527,
          25.664957217015527,
          25.898560620752672,
          25.898560620752672,
          25.8570617852442,
          25.8570617852442,
          26.269145500453288,
          26.269145500453288,
          26.31814177642547,
          26.31814177642547,
          26.633964120305,
          26.633964120305,
          26.726317718880964,
          26.726317718880964,
          26.642076515483097,
          26.642076515483097,
          27.30034267067262,
          27.30034267067262,
          27.688436780988212,
          27.688436780988212,
          27.734627654598892,
          27.734627654598892,
          27.738503850455043,
          27.738503850455043,
          27.444780325545416,
          27.444780325545416,
          27.363019148637,
          27.363019148637,
          26.802591695743185,
          26.802591695743185,
          26.586008290621397,
          26.586008290621397,
          26.187783483957585,
          26.187783483957585,
          26.056297049055413,
          26.056297049055413,
          25.509988635770476,
          25.509988635770476,
          24.662890495492583,
          24.662890495492583,
          25.33210636253534,
          25.33210636253534,
          24.719868800115165,
          24.719868800115165,
          25.387411376012697,
          25.387411376012697,
          25.531266409996594,
          25.531266409996594,
          25.99464284734964,
          25.99464284734964,
          25.90773109907304,
          25.90773109907304,
          26.138909254370883,
          26.138909254370883,
          26.32303847288905,
          26.32303847288905,
          25.506137577987985,
          25.506137577987985,
          26.286406874687934,
          26.286406874687934,
          25.328225070817496,
          25.328225070817496,
          25.05001989844403,
          25.05001989844403,
          25.196027542256545,
          25.196027542256545,
          25.341096496608078,
          25.341096496608078,
          24.82503145304086,
          24.82503145304086,
          25.20897437520966,
          25.20897437520966,
          24.689823048796544,
          24.689823048796544,
          25.358247045266346,
          25.358247045266346,
          25.127679409740793,
          25.127679409740793,
          25.50654444875704,
          25.50654444875704,
          25.695750397886243,
          25.695750397886243,
          26.020040378268355,
          26.020040378268355,
          26.607101231520545,
          26.607101231520545,
          26.388716981394467,
          26.388716981394467,
          26.348081768669715,
          26.348081768669715,
          26.66350687819355,
          26.66350687819355,
          27.577785223807606,
          27.577785223807606,
          27.53911445881742,
          27.53911445881742,
          27.839440720096118,
          27.839440720096118,
          28.343269849447058,
          28.343269849447058,
          29.751289015844787,
          29.751289015844787,
          30.06542581019287,
          30.06542581019287,
          30.452077328887434,
          30.452077328887434,
          31.279657525374557,
          31.279657525374557,
          30.686265332800822,
          30.686265332800822,
          32.7244546407896,
          32.7244546407896,
          33.21426063388096,
          33.21426063388096,
          33.662050330225966,
          33.662050330225966,
          34.03618691040316,
          34.03618691040316,
          34.930863738370434,
          34.930863738370434,
          35.48208414012532,
          35.48208414012532,
          35.83462257110176,
          35.83462257110176,
          37.016184759394385,
          37.016184759394385,
          37.890258268152124,
          37.890258268152124,
          37.774179766173624,
          37.774179766173624,
          37.86603887797674,
          37.86603887797674,
          37.987217687288926,
          37.987217687288926,
          38.371990026219734,
          38.371990026219734,
          38.72347696123655,
          38.72347696123655,
          39.38472381458404,
          39.38472381458404,
          39.977735165467884,
          39.977735165467884,
          39.531408734933855,
          39.531408734933855,
          39.78719289222213,
          39.78719289222213,
          40.01326226499978,
          40.01326226499978,
          40.043650363267886,
          40.043650363267886,
          39.626351710927075,
          39.626351710927075,
          39.51611496572916,
          39.51611496572916,
          39.80004295229656,
          39.80004295229656,
          39.066336687096225,
          39.066336687096225,
          39.32560147641579,
          39.32560147641579,
          38.61052518256619,
          38.61052518256619,
          38.959542440147885,
          38.959542440147885,
          38.818303277843874,
          38.818303277843874,
          38.6185065229628,
          38.6185065229628,
          38.212616145566585,
          38.212616145566585,
          38.03868587275992,
          38.03868587275992,
          37.47582057186505,
          37.47582057186505,
          37.35826325375355,
          37.35826325375355,
          36.6912762192143,
          36.6912762192143,
          35.85256158177725,
          35.85256158177725,
          35.69713732419307,
          35.69713732419307,
          34.73284354674543,
          34.73284354674543,
          34.83394037289608,
          34.83394037289608,
          34.541728406392295,
          34.541728406392295,
          33.84455542820596,
          33.84455542820596,
          33.40583652697028,
          33.40583652697028,
          32.96045347826156,
          32.96045347826156,
          32.85915720711966,
          32.85915720711966,
          32.22741232029248,
          32.22741232029248,
          32.01587361887951,
          32.01587361887951,
          32.233953881667354,
          32.233953881667354,
          31.950513028547853,
          31.950513028547853,
          31.00126640778931,
          31.00126640778931,
          30.59158285486754,
          30.59158285486754,
          30.06003774484362,
          30.06003774484362,
          29.830987258587705,
          29.830987258587705,
          29.9123045649301,
          29.9123045649301,
          29.56422862596031,
          29.56422862596031,
          28.728511364166657,
          28.728511364166657,
          28.07379531019149,
          28.07379531019149,
          27.35853177461144,
          27.35853177461144,
          27.19018634978016,
          27.19018634978016,
          26.802027512254107,
          26.802027512254107,
          26.585438949066265,
          26.585438949066265,
          26.0968601687508,
          26.0968601687508,
          25.69012806080958,
          25.69012806080958,
          25.416348061666177,
          25.416348061666177,
          24.997209884927187,
          24.997209884927187,
          24.375571271232946,
          24.375571271232946,
          23.985840395319542,
          23.985840395319542,
          23.43641651145442,
          23.43641651145442,
          23.287499452545717,
          23.287499452545717,
          22.71928935054513,
          22.71928935054513,
          22.189178777617677,
          22.189178777617677,
          21.64469673519758,
          21.64469673519758,
          21.255958377038183,
          21.255958377038183,
          20.44861324294154,
          20.44861324294154,
          20.39466715458611,
          20.39466715458611,
          20.039870936781526,
          20.039870936781526,
          19.428938289066092,
          19.428938289066092,
          18.99027227910832,
          18.99027227910832,
          18.6717790355095,
          18.6717790355095,
          18.677783829801044,
          18.677783829801044,
          18.552395603470412,
          18.552395603470412,
          18.492390096577036,
          18.492390096577036,
          18.298820163764592,
          18.298820163764592,
          18.10300556927689,
          18.10300556927689,
          17.697974620560807,
          17.697974620560807,
          17.211320400870385,
          17.211320400870385,
          16.63538052003696,
          16.63538052003696,
          16.0372274383885,
          16.0372274383885,
          15.811167428567527,
          15.811167428567527,
          15.581610022712784,
          15.581610022712784,
          15.509175338868927,
          15.509175338868927,
          15.35580922390148,
          15.35580922390148,
          15.443745641930843,
          15.443745641930843,
          14.961283537262661,
          14.961283537262661,
          14.968898044532878,
          14.968898044532878,
          14.893298884601574,
          14.893298884601574,
          14.817291722900485,
          14.817291722900485,
          14.571103193721155,
          14.571103193721155,
          14.145362114919788,
          14.145362114919788,
          14.065090783216974,
          14.065090783216974,
          13.984335755871296,
          13.984335755871296,
          14.516920266626823,
          14.516920266626823,
          13.911314371395235,
          13.911314371395235,
          13.91953493641747,
          13.91953493641747,
          12.90331109172306,
          12.90331109172306,
          13.008740331983647,
          13.008740331983647,
          12.627090848149829,
          12.627090848149829,
          12.233130416478437,
          12.233130416478437,
          12.242524135223753,
          12.242524135223753,
          11.940919520699557,
          11.940919520699557,
          12.158615574666667,
          12.158615574666667,
          11.313030829703196,
          11.313030829703196,
          10.98539570696885,
          10.98539570696885,
          10.881025182877044,
          10.881025182877044,
          10.891608765969414,
          10.891608765969414,
          10.786322184431903,
          10.786322184431903,
          10.796999404810874,
          10.796999404810874,
          10.572580905567845,
          10.572580905567845,
          10.343272899073705,
          10.343272899073705,
          10.71230926203364,
          10.71230926203364,
          10.723060719317216,
          10.723060719317216,
          10.61609032277937,
          10.61609032277937,
          10.266054688349977,
          10.266054688349977,
          10.154260734688389,
          10.154260734688389,
          9.915295188322343,
          9.915295188322343,
          9.926909849040381,
          9.926909849040381,
          10.064152682274171,
          10.064152682274171,
          9.950098772044864,
          9.950098772044864,
          9.575847495629295,
          9.575847495629295,
          9.587869139868385,
          9.587869139868385
         ]
        },
        {
         "mode": "lines",
         "name": "Validation Data",
         "type": "scatter",
         "x": [
          "2021-05-16T00:00:00",
          "2021-05-16T00:00:00",
          "2021-05-17T00:00:00",
          "2021-05-17T00:00:00",
          "2021-05-18T00:00:00",
          "2021-05-18T00:00:00",
          "2021-05-19T00:00:00",
          "2021-05-19T00:00:00",
          "2021-05-20T00:00:00",
          "2021-05-20T00:00:00",
          "2021-05-21T00:00:00",
          "2021-05-21T00:00:00",
          "2021-05-22T00:00:00",
          "2021-05-22T00:00:00",
          "2021-05-23T00:00:00",
          "2021-05-23T00:00:00",
          "2021-05-24T00:00:00",
          "2021-05-24T00:00:00",
          "2021-05-25T00:00:00",
          "2021-05-25T00:00:00",
          "2021-05-26T00:00:00",
          "2021-05-26T00:00:00",
          "2021-05-27T00:00:00",
          "2021-05-27T00:00:00",
          "2021-05-28T00:00:00",
          "2021-05-28T00:00:00",
          "2021-05-29T00:00:00",
          "2021-05-29T00:00:00",
          "2021-05-30T00:00:00",
          "2021-05-30T00:00:00",
          "2021-05-31T00:00:00",
          "2021-05-31T00:00:00",
          "2021-06-01T00:00:00",
          "2021-06-01T00:00:00",
          "2021-06-02T00:00:00",
          "2021-06-02T00:00:00",
          "2021-06-03T00:00:00",
          "2021-06-03T00:00:00",
          "2021-06-04T00:00:00",
          "2021-06-04T00:00:00",
          "2021-06-05T00:00:00",
          "2021-06-05T00:00:00",
          "2021-06-06T00:00:00",
          "2021-06-06T00:00:00",
          "2021-06-07T00:00:00",
          "2021-06-07T00:00:00",
          "2021-06-08T00:00:00",
          "2021-06-08T00:00:00",
          "2021-06-09T00:00:00",
          "2021-06-09T00:00:00",
          "2021-06-10T00:00:00",
          "2021-06-10T00:00:00",
          "2021-06-11T00:00:00",
          "2021-06-11T00:00:00",
          "2021-06-12T00:00:00",
          "2021-06-12T00:00:00",
          "2021-06-13T00:00:00",
          "2021-06-13T00:00:00",
          "2021-06-14T00:00:00",
          "2021-06-14T00:00:00",
          "2021-06-15T00:00:00",
          "2021-06-15T00:00:00",
          "2021-06-16T00:00:00",
          "2021-06-16T00:00:00",
          "2021-06-17T00:00:00",
          "2021-06-17T00:00:00",
          "2021-06-18T00:00:00",
          "2021-06-18T00:00:00",
          "2021-06-19T00:00:00",
          "2021-06-19T00:00:00",
          "2021-06-20T00:00:00",
          "2021-06-20T00:00:00",
          "2021-06-21T00:00:00",
          "2021-06-21T00:00:00",
          "2021-06-22T00:00:00",
          "2021-06-22T00:00:00",
          "2021-06-23T00:00:00",
          "2021-06-23T00:00:00",
          "2021-06-24T00:00:00",
          "2021-06-24T00:00:00",
          "2021-06-25T00:00:00",
          "2021-06-25T00:00:00",
          "2021-06-26T00:00:00",
          "2021-06-26T00:00:00",
          "2021-06-27T00:00:00",
          "2021-06-27T00:00:00",
          "2021-06-28T00:00:00",
          "2021-06-28T00:00:00",
          "2021-06-29T00:00:00",
          "2021-06-29T00:00:00",
          "2021-06-30T00:00:00",
          "2021-06-30T00:00:00",
          "2021-07-01T00:00:00",
          "2021-07-01T00:00:00",
          "2021-07-02T00:00:00",
          "2021-07-02T00:00:00",
          "2021-07-03T00:00:00",
          "2021-07-03T00:00:00",
          "2021-07-04T00:00:00",
          "2021-07-04T00:00:00",
          "2021-07-05T00:00:00",
          "2021-07-05T00:00:00",
          "2021-07-06T00:00:00",
          "2021-07-06T00:00:00",
          "2021-07-07T00:00:00",
          "2021-07-07T00:00:00",
          "2021-07-08T00:00:00",
          "2021-07-08T00:00:00",
          "2021-07-09T00:00:00",
          "2021-07-09T00:00:00",
          "2021-07-10T00:00:00",
          "2021-07-10T00:00:00",
          "2021-07-11T00:00:00",
          "2021-07-11T00:00:00",
          "2021-07-12T00:00:00",
          "2021-07-12T00:00:00",
          "2021-07-13T00:00:00",
          "2021-07-13T00:00:00",
          "2021-07-14T00:00:00",
          "2021-07-14T00:00:00",
          "2021-07-15T00:00:00",
          "2021-07-15T00:00:00",
          "2021-07-16T00:00:00",
          "2021-07-16T00:00:00",
          "2021-07-17T00:00:00",
          "2021-07-17T00:00:00",
          "2021-07-18T00:00:00",
          "2021-07-18T00:00:00",
          "2021-07-19T00:00:00",
          "2021-07-19T00:00:00",
          "2021-07-20T00:00:00",
          "2021-07-20T00:00:00",
          "2021-07-21T00:00:00",
          "2021-07-21T00:00:00",
          "2021-07-22T00:00:00",
          "2021-07-22T00:00:00",
          "2021-07-23T00:00:00",
          "2021-07-23T00:00:00",
          "2021-07-24T00:00:00",
          "2021-07-24T00:00:00",
          "2021-07-25T00:00:00",
          "2021-07-25T00:00:00",
          "2021-07-26T00:00:00",
          "2021-07-26T00:00:00",
          "2021-07-27T00:00:00",
          "2021-07-27T00:00:00",
          "2021-07-28T00:00:00",
          "2021-07-28T00:00:00",
          "2021-07-29T00:00:00",
          "2021-07-29T00:00:00",
          "2021-07-30T00:00:00",
          "2021-07-30T00:00:00",
          "2021-07-31T00:00:00",
          "2021-07-31T00:00:00",
          "2021-08-01T00:00:00",
          "2021-08-01T00:00:00",
          "2021-08-02T00:00:00",
          "2021-08-02T00:00:00",
          "2021-08-03T00:00:00",
          "2021-08-03T00:00:00",
          "2021-08-04T00:00:00",
          "2021-08-04T00:00:00",
          "2021-08-05T00:00:00",
          "2021-08-05T00:00:00",
          "2021-08-06T00:00:00",
          "2021-08-06T00:00:00",
          "2021-08-07T00:00:00",
          "2021-08-07T00:00:00",
          "2021-08-08T00:00:00",
          "2021-08-08T00:00:00",
          "2021-08-09T00:00:00",
          "2021-08-09T00:00:00",
          "2021-08-10T00:00:00",
          "2021-08-10T00:00:00",
          "2021-08-11T00:00:00",
          "2021-08-11T00:00:00",
          "2021-08-12T00:00:00",
          "2021-08-12T00:00:00",
          "2021-08-13T00:00:00",
          "2021-08-13T00:00:00",
          "2021-08-14T00:00:00",
          "2021-08-14T00:00:00",
          "2021-08-15T00:00:00",
          "2021-08-15T00:00:00",
          "2021-08-16T00:00:00",
          "2021-08-16T00:00:00",
          "2021-08-17T00:00:00",
          "2021-08-17T00:00:00",
          "2021-08-18T00:00:00",
          "2021-08-18T00:00:00",
          "2021-08-19T00:00:00",
          "2021-08-19T00:00:00",
          "2021-08-20T00:00:00",
          "2021-08-20T00:00:00",
          "2021-08-21T00:00:00",
          "2021-08-21T00:00:00",
          "2021-08-22T00:00:00",
          "2021-08-22T00:00:00",
          "2021-08-23T00:00:00",
          "2021-08-23T00:00:00",
          "2021-08-24T00:00:00",
          "2021-08-24T00:00:00",
          "2021-08-25T00:00:00",
          "2021-08-25T00:00:00",
          "2021-08-26T00:00:00",
          "2021-08-26T00:00:00",
          "2021-08-27T00:00:00",
          "2021-08-27T00:00:00",
          "2021-08-28T00:00:00",
          "2021-08-28T00:00:00",
          "2021-08-29T00:00:00",
          "2021-08-29T00:00:00",
          "2021-08-30T00:00:00",
          "2021-08-30T00:00:00",
          "2021-08-31T00:00:00",
          "2021-08-31T00:00:00",
          "2021-09-01T00:00:00",
          "2021-09-01T00:00:00",
          "2021-09-02T00:00:00",
          "2021-09-02T00:00:00",
          "2021-09-03T00:00:00",
          "2021-09-03T00:00:00",
          "2021-09-04T00:00:00",
          "2021-09-04T00:00:00",
          "2021-09-05T00:00:00",
          "2021-09-05T00:00:00",
          "2021-09-06T00:00:00",
          "2021-09-06T00:00:00",
          "2021-09-07T00:00:00",
          "2021-09-07T00:00:00",
          "2021-09-08T00:00:00",
          "2021-09-08T00:00:00",
          "2021-09-09T00:00:00",
          "2021-09-09T00:00:00",
          "2021-09-10T00:00:00",
          "2021-09-10T00:00:00",
          "2021-09-11T00:00:00",
          "2021-09-11T00:00:00",
          "2021-09-12T00:00:00",
          "2021-09-12T00:00:00",
          "2021-09-13T00:00:00",
          "2021-09-13T00:00:00",
          "2021-09-14T00:00:00",
          "2021-09-14T00:00:00",
          "2021-09-15T00:00:00",
          "2021-09-15T00:00:00",
          "2021-09-16T00:00:00",
          "2021-09-16T00:00:00",
          "2021-09-17T00:00:00",
          "2021-09-17T00:00:00",
          "2021-09-18T00:00:00",
          "2021-09-18T00:00:00",
          "2021-09-19T00:00:00",
          "2021-09-19T00:00:00",
          "2021-09-20T00:00:00",
          "2021-09-20T00:00:00",
          "2021-09-21T00:00:00",
          "2021-09-21T00:00:00",
          "2021-09-22T00:00:00",
          "2021-09-22T00:00:00",
          "2021-09-23T00:00:00",
          "2021-09-23T00:00:00",
          "2021-09-24T00:00:00",
          "2021-09-24T00:00:00"
         ],
         "y": [
          9.334570020330581,
          9.334570020330581,
          9.346897065455781,
          9.346897065455781,
          9.492435012761321,
          9.492435012761321,
          9.23656350074437,
          9.23656350074437,
          9.24901866739993,
          9.24901866739993,
          9.12492321308179,
          9.12492321308179,
          9.273879811629882,
          9.273879811629882,
          9.42052651387728,
          9.42052651387728,
          9.298675774849993,
          9.298675774849993,
          9.175237999196607,
          9.175237999196607,
          9.18777457560376,
          9.18777457560376,
          9.200294430959634,
          9.200294430959634,
          8.651087863257727,
          8.651087863257727,
          8.807849396528672,
          8.807849396528672,
          8.961948411464313,
          8.961948411464313,
          9.11350875713895,
          9.11350875713895,
          9.790005454082282,
          9.790005454082282,
          9.40946373410893,
          9.40946373410893,
          9.55406362214666,
          9.55406362214666,
          9.433909631716254,
          9.433909631716254,
          9.31223091940367,
          9.31223091940367,
          9.458293368402162,
          9.458293368402162,
          8.92459000738574,
          8.92459000738574,
          9.482615388353231,
          9.482615388353231,
          9.755763911304065,
          9.755763911304065,
          10.146161511995606,
          10.146161511995606,
          10.03303557123782,
          10.03303557123782,
          10.291692331334252,
          10.291692331334252,
          10.895651049757298,
          10.895651049757298,
          10.554932331838206,
          10.554932331838206,
          10.684112508074657,
          10.684112508074657,
          10.457258769626112,
          10.457258769626112,
          10.347530504280737,
          10.347530504280737,
          10.716419730104873,
          10.716419730104873,
          10.958912167921596,
          10.958912167921596,
          11.41821866370508,
          11.41821866370508,
          11.753180172324475,
          11.753180172324475,
          12.284496212007134,
          12.284496212007134,
          12.496042552775853,
          12.496042552775853,
          12.505232868741231,
          12.505232868741231,
          12.514416219878111,
          12.514416219878111,
          12.321865713669233,
          12.321865713669233,
          12.632304036955052,
          12.632304036955052,
          13.03141386481801,
          13.03141386481801,
          12.749065614728375,
          12.749065614728375,
          12.460092451605119,
          12.460092451605119,
          12.668615715527684,
          12.668615715527684,
          13.066577097523153,
          13.066577097523153,
          12.979328201292411,
          12.979328201292411,
          13.553321074580028,
          13.553321074580028,
          14.014306282863581,
          14.014306282863581,
          14.28662062399341,
          14.28662062399341,
          14.807780712898403,
          14.807780712898403,
          15.310243872959104,
          15.310243872959104,
          15.23643810794313,
          15.23643810794313,
          15.325101666721661,
          15.325101666721661,
          15.573290652963093,
          15.573290652963093,
          15.817342765325996,
          15.817342765325996,
          16.437837619538186,
          16.437837619538186,
          16.88891428334441,
          16.88891428334441,
          17.04084839398591,
          17.04084839398591,
          18.028629056573077,
          18.028629056573077,
          17.551874000812397,
          17.551874000812397,
          17.417693311193297,
          17.417693311193297,
          17.494591825482622,
          17.494591825482622,
          17.77961802642324,
          17.77961802642324,
          18.462327865578963,
          18.462327865578963,
          18.66607881392852,
          18.66607881392852,
          18.540604628615217,
          18.540604628615217,
          18.87337999349321,
          18.87337999349321,
          19.199895480967754,
          19.199895480967754,
          19.58276134024729,
          19.58276134024729,
          19.89661947395448,
          19.89661947395448,
          20.144968754752302,
          20.144968754752302,
          20.685137685453824,
          20.685137685453824,
          20.573047958398796,
          20.573047958398796,
          20.519460433059905,
          20.519460433059905,
          20.524877845307596,
          20.524877845307596,
          20.589249130216228,
          20.589249130216228,
          20.47658345884112,
          20.47658345884112,
          20.123369829225712,
          20.123369829225712,
          20.897228960561236,
          20.897228960561236,
          20.844555439646008,
          20.844555439646008,
          20.96563898732394,
          20.96563898732394,
          21.20030237916995,
          21.20030237916995,
          21.60038769186745,
          21.60038769186745,
          21.772277691266154,
          21.772277691266154,
          21.942684285949095,
          21.942684285949095,
          21.837677441399762,
          21.837677441399762,
          22.116632934310918,
          22.116632934310918,
          22.067156020147802,
          22.067156020147802,
          21.686763976684993,
          21.686763976684993,
          21.580383044149762,
          21.580383044149762,
          21.36068589605144,
          21.36068589605144,
          21.75752804853317,
          21.75752804853317,
          21.707147276417995,
          21.707147276417995,
          22.36760451766035,
          22.36760451766035,
          22.426178265977576,
          22.426178265977576,
          22.69715993461267,
          22.69715993461267,
          22.382381459073006,
          22.382381459073006,
          22.653942278944452,
          22.653942278944452,
          22.81709200577364,
          22.81709200577364,
          22.557471261264315,
          22.557471261264315,
          22.93153711078395,
          22.93153711078395,
          22.56723213875106,
          22.56723213875106,
          22.572110826644504,
          22.572110826644504,
          22.78861185601476,
          22.78861185601476,
          22.79343813306463,
          22.79343813306463,
          22.745586509817585,
          22.745586509817585,
          22.697623189343147,
          22.697623189343147,
          22.16693900927072,
          22.16693900927072,
          21.67753919676847,
          21.67753919676847,
          22.013500060108356,
          22.013500060108356,
          22.07311254022275,
          22.07311254022275,
          21.356491895475603,
          21.356491895475603,
          22.08311027176069,
          22.08311027176069,
          22.412372817339747,
          22.412372817339747,
          22.68353680202511,
          22.68353680202511,
          22.26080222836404,
          22.26080222836404,
          22.64029036468269,
          22.64029036468269,
          22.485519559047052,
          22.485519559047052,
          22.70293401761725,
          22.70293401761725,
          22.54863900543957,
          22.54863900543957,
          22.01397924128076,
          22.01397924128076,
          22.344366393276026,
          22.344366393276026,
          22.24145194188149,
          22.24145194188149,
          22.4079255383075,
          22.4079255383075,
          22.573043006406444,
          22.573043006406444,
          22.20222078382152,
          22.20222078382152,
          21.76914123622444,
          21.76914123622444,
          21.551564058593748,
          21.551564058593748,
          21.444443868656233,
          21.444443868656233
         ]
        },
        {
         "mode": "lines",
         "name": "Test Data",
         "type": "scatter",
         "x": [
          "2021-09-25T00:00:00",
          "2021-09-25T00:00:00",
          "2021-09-26T00:00:00",
          "2021-09-26T00:00:00",
          "2021-09-27T00:00:00",
          "2021-09-27T00:00:00",
          "2021-09-28T00:00:00",
          "2021-09-28T00:00:00",
          "2021-09-29T00:00:00",
          "2021-09-29T00:00:00",
          "2021-09-30T00:00:00",
          "2021-09-30T00:00:00",
          "2021-10-01T00:00:00",
          "2021-10-01T00:00:00",
          "2021-10-02T00:00:00",
          "2021-10-02T00:00:00",
          "2021-10-03T00:00:00",
          "2021-10-03T00:00:00",
          "2021-10-04T00:00:00",
          "2021-10-04T00:00:00",
          "2021-10-05T00:00:00",
          "2021-10-05T00:00:00",
          "2021-10-06T00:00:00",
          "2021-10-06T00:00:00",
          "2021-10-07T00:00:00",
          "2021-10-07T00:00:00",
          "2021-10-08T00:00:00",
          "2021-10-08T00:00:00",
          "2021-10-09T00:00:00",
          "2021-10-09T00:00:00",
          "2021-10-10T00:00:00",
          "2021-10-10T00:00:00",
          "2021-10-11T00:00:00",
          "2021-10-11T00:00:00",
          "2021-10-12T00:00:00",
          "2021-10-12T00:00:00",
          "2021-10-13T00:00:00",
          "2021-10-13T00:00:00",
          "2021-10-14T00:00:00",
          "2021-10-14T00:00:00",
          "2021-10-15T00:00:00",
          "2021-10-15T00:00:00",
          "2021-10-16T00:00:00",
          "2021-10-16T00:00:00",
          "2021-10-17T00:00:00",
          "2021-10-17T00:00:00",
          "2021-10-18T00:00:00",
          "2021-10-18T00:00:00",
          "2021-10-19T00:00:00",
          "2021-10-19T00:00:00",
          "2021-10-20T00:00:00",
          "2021-10-20T00:00:00",
          "2021-10-21T00:00:00",
          "2021-10-21T00:00:00",
          "2021-10-22T00:00:00",
          "2021-10-22T00:00:00",
          "2021-10-23T00:00:00",
          "2021-10-23T00:00:00",
          "2021-10-24T00:00:00",
          "2021-10-24T00:00:00",
          "2021-10-25T00:00:00",
          "2021-10-25T00:00:00",
          "2021-10-26T00:00:00",
          "2021-10-26T00:00:00",
          "2021-10-27T00:00:00",
          "2021-10-27T00:00:00",
          "2021-10-28T00:00:00",
          "2021-10-28T00:00:00",
          "2021-10-29T00:00:00",
          "2021-10-29T00:00:00",
          "2021-10-30T00:00:00",
          "2021-10-30T00:00:00",
          "2021-10-31T00:00:00",
          "2021-10-31T00:00:00",
          "2021-11-01T00:00:00",
          "2021-11-01T00:00:00",
          "2021-11-02T00:00:00",
          "2021-11-02T00:00:00",
          "2021-11-03T00:00:00",
          "2021-11-03T00:00:00",
          "2021-11-04T00:00:00",
          "2021-11-04T00:00:00",
          "2021-11-05T00:00:00",
          "2021-11-05T00:00:00",
          "2021-11-06T00:00:00",
          "2021-11-06T00:00:00",
          "2021-11-07T00:00:00",
          "2021-11-07T00:00:00",
          "2021-11-08T00:00:00",
          "2021-11-08T00:00:00",
          "2021-11-09T00:00:00",
          "2021-11-09T00:00:00",
          "2021-11-10T00:00:00",
          "2021-11-10T00:00:00",
          "2021-11-11T00:00:00",
          "2021-11-11T00:00:00",
          "2021-11-12T00:00:00",
          "2021-11-12T00:00:00",
          "2021-11-13T00:00:00",
          "2021-11-13T00:00:00",
          "2021-11-14T00:00:00",
          "2021-11-14T00:00:00",
          "2021-11-15T00:00:00",
          "2021-11-15T00:00:00",
          "2021-11-16T00:00:00",
          "2021-11-16T00:00:00",
          "2021-11-17T00:00:00",
          "2021-11-17T00:00:00",
          "2021-11-18T00:00:00",
          "2021-11-18T00:00:00",
          "2021-11-19T00:00:00",
          "2021-11-19T00:00:00",
          "2021-11-20T00:00:00",
          "2021-11-20T00:00:00",
          "2021-11-21T00:00:00",
          "2021-11-21T00:00:00",
          "2021-11-22T00:00:00",
          "2021-11-22T00:00:00",
          "2021-11-23T00:00:00",
          "2021-11-23T00:00:00",
          "2021-11-24T00:00:00",
          "2021-11-24T00:00:00",
          "2021-11-25T00:00:00",
          "2021-11-25T00:00:00",
          "2021-11-26T00:00:00",
          "2021-11-26T00:00:00",
          "2021-11-27T00:00:00",
          "2021-11-27T00:00:00",
          "2021-11-28T00:00:00",
          "2021-11-28T00:00:00",
          "2021-11-29T00:00:00",
          "2021-11-29T00:00:00",
          "2021-11-30T00:00:00",
          "2021-11-30T00:00:00",
          "2021-12-01T00:00:00",
          "2021-12-01T00:00:00",
          "2021-12-02T00:00:00",
          "2021-12-02T00:00:00",
          "2021-12-03T00:00:00",
          "2021-12-03T00:00:00",
          "2021-12-04T00:00:00",
          "2021-12-04T00:00:00",
          "2021-12-05T00:00:00",
          "2021-12-05T00:00:00",
          "2021-12-06T00:00:00",
          "2021-12-06T00:00:00",
          "2021-12-07T00:00:00",
          "2021-12-07T00:00:00",
          "2021-12-08T00:00:00",
          "2021-12-08T00:00:00",
          "2021-12-09T00:00:00",
          "2021-12-09T00:00:00",
          "2021-12-10T00:00:00",
          "2021-12-10T00:00:00",
          "2021-12-11T00:00:00",
          "2021-12-11T00:00:00",
          "2021-12-12T00:00:00",
          "2021-12-12T00:00:00",
          "2021-12-13T00:00:00",
          "2021-12-13T00:00:00",
          "2021-12-14T00:00:00",
          "2021-12-14T00:00:00",
          "2021-12-15T00:00:00",
          "2021-12-15T00:00:00",
          "2021-12-16T00:00:00",
          "2021-12-16T00:00:00",
          "2021-12-17T00:00:00",
          "2021-12-17T00:00:00",
          "2021-12-18T00:00:00",
          "2021-12-18T00:00:00",
          "2021-12-19T00:00:00",
          "2021-12-19T00:00:00",
          "2021-12-20T00:00:00",
          "2021-12-20T00:00:00",
          "2021-12-21T00:00:00",
          "2021-12-21T00:00:00",
          "2021-12-22T00:00:00",
          "2021-12-22T00:00:00",
          "2021-12-23T00:00:00",
          "2021-12-23T00:00:00",
          "2021-12-24T00:00:00",
          "2021-12-24T00:00:00",
          "2021-12-25T00:00:00",
          "2021-12-25T00:00:00",
          "2021-12-26T00:00:00",
          "2021-12-26T00:00:00",
          "2021-12-27T00:00:00",
          "2021-12-27T00:00:00",
          "2021-12-28T00:00:00",
          "2021-12-28T00:00:00",
          "2021-12-29T00:00:00",
          "2021-12-29T00:00:00",
          "2021-12-30T00:00:00",
          "2021-12-30T00:00:00"
         ],
         "y": [
          20.994099135255922,
          20.994099135255922,
          20.941693228693463,
          20.941693228693463,
          20.831118311297192,
          20.831118311297192,
          20.543706042182368,
          20.543706042182368,
          20.549116446268854,
          20.549116446268854,
          20.2573113916781,
          20.2573113916781,
          20.021623264429838,
          20.021623264429838,
          19.535191372571813,
          19.535191372571813,
          20.032751688123113,
          20.032751688123113,
          20.098851142805316,
          20.098851142805316,
          20.463400267911506,
          20.463400267911506,
          20.230341425948765,
          20.230341425948765,
          20.175755691547657,
          20.175755691547657,
          20.181274260396954,
          20.181274260396954,
          19.450320746067824,
          19.450320746067824,
          19.330376796519058,
          19.330376796519058,
          19.894763546044324,
          19.894763546044324,
          20.022155076050765,
          20.022155076050765,
          20.148666187373305,
          20.148666187373305,
          20.274313844944707,
          20.274313844944707,
          20.038844692204876,
          20.038844692204876,
          20.463919521716512,
          20.463919521716512,
          20.879529617311622,
          20.879529617311622,
          20.651618858746428,
          20.651618858746428,
          20.65699827025494,
          20.65699827025494,
          20.720919534075836,
          20.720919534075836,
          21.188112605823555,
          21.188112605823555,
          21.476375939206246,
          21.476375939206246,
          21.925911758004098,
          21.925911758004098,
          21.985786357993273,
          21.985786357993273,
          21.99080776646949,
          21.99080776646949,
          22.159361706843807,
          22.159361706843807,
          22.16433972035174,
          22.16433972035174,
          22.06049700667158,
          22.06049700667158,
          22.065499652788073,
          22.065499652788073,
          22.015895850859863,
          22.015895850859863,
          21.966168387768843,
          21.966168387768843,
          22.458448655263933,
          22.458448655263933,
          22.623158512806786,
          22.623158512806786,
          22.468257118824294,
          22.468257118824294,
          22.579784091685383,
          22.579784091685383,
          22.637751091594613,
          22.637751091594613,
          22.536317302454428,
          22.536317302454428,
          22.54120339194377,
          22.54120339194377,
          22.91556294000944,
          22.91556294000944,
          22.762863111995056,
          22.762863111995056,
          22.714940174123047,
          22.714940174123047,
          22.877608591071773,
          22.877608591071773,
          22.93474300354508,
          22.93474300354508,
          22.51722857940595,
          22.51722857940595,
          22.145372348862754,
          22.145372348862754,
          21.821783544413037,
          21.821783544413037,
          21.66054011759105,
          21.66054011759105,
          21.441747832181044,
          21.441747832181044,
          21.334020235453295,
          21.334020235453295,
          21.3392109256315,
          21.3392109256315,
          21.513400240449055,
          21.513400240449055,
          21.518543313496192,
          21.518543313496192,
          21.298143379246945,
          21.298143379246945,
          21.3033436896279,
          21.3033436896279,
          21.64570652225628,
          21.64570652225628,
          22.036900896157384,
          22.036900896157384,
          22.04190945422661,
          22.04190945422661,
          21.882454864202458,
          21.882454864202458,
          21.77712756522185,
          21.77712756522185,
          21.837452261893304,
          21.837452261893304,
          22.547021680157872,
          22.547021680157872,
          21.513891717088217,
          21.513891717088217,
          21.63086171633672,
          21.63086171633672,
          21.747138844487598,
          21.747138844487598,
          21.807555008508466,
          21.807555008508466,
          21.70182669817822,
          21.70182669817822,
          21.927836863645243,
          21.927836863645243,
          21.82275118811689,
          21.82275118811689,
          21.324627258341273,
          21.324627258341273,
          21.498946608483518,
          21.498946608483518,
          21.447896126805965,
          21.447896126805965,
          21.6211218684666,
          21.6211218684666,
          21.681925166449567,
          21.681925166449567,
          21.631350253730176,
          21.631350253730176,
          22.40184836532037,
          22.40184836532037,
          21.918242424660935,
          21.918242424660935,
          21.646682846547055,
          21.646682846547055,
          21.483990049560234,
          21.483990049560234,
          20.74490698919332,
          20.74490698919332,
          20.69180758155631,
          20.69180758155631,
          21.159706057382476,
          21.159706057382476,
          21.05038923158407,
          21.05038923158407,
          20.59055619088942,
          20.59055619088942,
          20.299404359769323,
          20.299404359769323,
          19.942751215541545,
          19.942751215541545,
          19.826056744791984,
          19.826056744791984,
          20.315844850882726,
          20.315844850882726,
          20.201506910354937,
          20.201506910354937,
          20.32679708721466,
          20.32679708721466,
          20.272495714969924,
          20.272495714969924,
          20.277985465819782,
          20.277985465819782
         ]
        }
       ],
       "layout": {
        "shapes": [
         {
          "line": {
           "color": "black",
           "width": 2
          },
          "type": "line",
          "x0": "2021-05-15T00:00:00",
          "x1": "2021-05-15T00:00:00",
          "y0": 0,
          "y1": 100
         },
         {
          "line": {
           "color": "black",
           "width": 2
          },
          "type": "line",
          "x0": "2021-09-24T00:00:00",
          "x1": "2021-09-24T00:00:00",
          "y0": 0,
          "y1": 100
         }
        ],
        "template": {
         "data": {
          "bar": [
           {
            "error_x": {
             "color": "#2a3f5f"
            },
            "error_y": {
             "color": "#2a3f5f"
            },
            "marker": {
             "line": {
              "color": "white",
              "width": 0.5
             },
             "pattern": {
              "fillmode": "overlay",
              "size": 10,
              "solidity": 0.2
             }
            },
            "type": "bar"
           }
          ],
          "barpolar": [
           {
            "marker": {
             "line": {
              "color": "white",
              "width": 0.5
             },
             "pattern": {
              "fillmode": "overlay",
              "size": 10,
              "solidity": 0.2
             }
            },
            "type": "barpolar"
           }
          ],
          "carpet": [
           {
            "aaxis": {
             "endlinecolor": "#2a3f5f",
             "gridcolor": "#C8D4E3",
             "linecolor": "#C8D4E3",
             "minorgridcolor": "#C8D4E3",
             "startlinecolor": "#2a3f5f"
            },
            "baxis": {
             "endlinecolor": "#2a3f5f",
             "gridcolor": "#C8D4E3",
             "linecolor": "#C8D4E3",
             "minorgridcolor": "#C8D4E3",
             "startlinecolor": "#2a3f5f"
            },
            "type": "carpet"
           }
          ],
          "choropleth": [
           {
            "colorbar": {
             "outlinewidth": 0,
             "ticks": ""
            },
            "type": "choropleth"
           }
          ],
          "contour": [
           {
            "colorbar": {
             "outlinewidth": 0,
             "ticks": ""
            },
            "colorscale": [
             [
              0,
              "#0d0887"
             ],
             [
              0.1111111111111111,
              "#46039f"
             ],
             [
              0.2222222222222222,
              "#7201a8"
             ],
             [
              0.3333333333333333,
              "#9c179e"
             ],
             [
              0.4444444444444444,
              "#bd3786"
             ],
             [
              0.5555555555555556,
              "#d8576b"
             ],
             [
              0.6666666666666666,
              "#ed7953"
             ],
             [
              0.7777777777777778,
              "#fb9f3a"
             ],
             [
              0.8888888888888888,
              "#fdca26"
             ],
             [
              1,
              "#f0f921"
             ]
            ],
            "type": "contour"
           }
          ],
          "contourcarpet": [
           {
            "colorbar": {
             "outlinewidth": 0,
             "ticks": ""
            },
            "type": "contourcarpet"
           }
          ],
          "heatmap": [
           {
            "colorbar": {
             "outlinewidth": 0,
             "ticks": ""
            },
            "colorscale": [
             [
              0,
              "#0d0887"
             ],
             [
              0.1111111111111111,
              "#46039f"
             ],
             [
              0.2222222222222222,
              "#7201a8"
             ],
             [
              0.3333333333333333,
              "#9c179e"
             ],
             [
              0.4444444444444444,
              "#bd3786"
             ],
             [
              0.5555555555555556,
              "#d8576b"
             ],
             [
              0.6666666666666666,
              "#ed7953"
             ],
             [
              0.7777777777777778,
              "#fb9f3a"
             ],
             [
              0.8888888888888888,
              "#fdca26"
             ],
             [
              1,
              "#f0f921"
             ]
            ],
            "type": "heatmap"
           }
          ],
          "heatmapgl": [
           {
            "colorbar": {
             "outlinewidth": 0,
             "ticks": ""
            },
            "colorscale": [
             [
              0,
              "#0d0887"
             ],
             [
              0.1111111111111111,
              "#46039f"
             ],
             [
              0.2222222222222222,
              "#7201a8"
             ],
             [
              0.3333333333333333,
              "#9c179e"
             ],
             [
              0.4444444444444444,
              "#bd3786"
             ],
             [
              0.5555555555555556,
              "#d8576b"
             ],
             [
              0.6666666666666666,
              "#ed7953"
             ],
             [
              0.7777777777777778,
              "#fb9f3a"
             ],
             [
              0.8888888888888888,
              "#fdca26"
             ],
             [
              1,
              "#f0f921"
             ]
            ],
            "type": "heatmapgl"
           }
          ],
          "histogram": [
           {
            "marker": {
             "pattern": {
              "fillmode": "overlay",
              "size": 10,
              "solidity": 0.2
             }
            },
            "type": "histogram"
           }
          ],
          "histogram2d": [
           {
            "colorbar": {
             "outlinewidth": 0,
             "ticks": ""
            },
            "colorscale": [
             [
              0,
              "#0d0887"
             ],
             [
              0.1111111111111111,
              "#46039f"
             ],
             [
              0.2222222222222222,
              "#7201a8"
             ],
             [
              0.3333333333333333,
              "#9c179e"
             ],
             [
              0.4444444444444444,
              "#bd3786"
             ],
             [
              0.5555555555555556,
              "#d8576b"
             ],
             [
              0.6666666666666666,
              "#ed7953"
             ],
             [
              0.7777777777777778,
              "#fb9f3a"
             ],
             [
              0.8888888888888888,
              "#fdca26"
             ],
             [
              1,
              "#f0f921"
             ]
            ],
            "type": "histogram2d"
           }
          ],
          "histogram2dcontour": [
           {
            "colorbar": {
             "outlinewidth": 0,
             "ticks": ""
            },
            "colorscale": [
             [
              0,
              "#0d0887"
             ],
             [
              0.1111111111111111,
              "#46039f"
             ],
             [
              0.2222222222222222,
              "#7201a8"
             ],
             [
              0.3333333333333333,
              "#9c179e"
             ],
             [
              0.4444444444444444,
              "#bd3786"
             ],
             [
              0.5555555555555556,
              "#d8576b"
             ],
             [
              0.6666666666666666,
              "#ed7953"
             ],
             [
              0.7777777777777778,
              "#fb9f3a"
             ],
             [
              0.8888888888888888,
              "#fdca26"
             ],
             [
              1,
              "#f0f921"
             ]
            ],
            "type": "histogram2dcontour"
           }
          ],
          "mesh3d": [
           {
            "colorbar": {
             "outlinewidth": 0,
             "ticks": ""
            },
            "type": "mesh3d"
           }
          ],
          "parcoords": [
           {
            "line": {
             "colorbar": {
              "outlinewidth": 0,
              "ticks": ""
             }
            },
            "type": "parcoords"
           }
          ],
          "pie": [
           {
            "automargin": true,
            "type": "pie"
           }
          ],
          "scatter": [
           {
            "fillpattern": {
             "fillmode": "overlay",
             "size": 10,
             "solidity": 0.2
            },
            "type": "scatter"
           }
          ],
          "scatter3d": [
           {
            "line": {
             "colorbar": {
              "outlinewidth": 0,
              "ticks": ""
             }
            },
            "marker": {
             "colorbar": {
              "outlinewidth": 0,
              "ticks": ""
             }
            },
            "type": "scatter3d"
           }
          ],
          "scattercarpet": [
           {
            "marker": {
             "colorbar": {
              "outlinewidth": 0,
              "ticks": ""
             }
            },
            "type": "scattercarpet"
           }
          ],
          "scattergeo": [
           {
            "marker": {
             "colorbar": {
              "outlinewidth": 0,
              "ticks": ""
             }
            },
            "type": "scattergeo"
           }
          ],
          "scattergl": [
           {
            "marker": {
             "colorbar": {
              "outlinewidth": 0,
              "ticks": ""
             }
            },
            "type": "scattergl"
           }
          ],
          "scattermapbox": [
           {
            "marker": {
             "colorbar": {
              "outlinewidth": 0,
              "ticks": ""
             }
            },
            "type": "scattermapbox"
           }
          ],
          "scatterpolar": [
           {
            "marker": {
             "colorbar": {
              "outlinewidth": 0,
              "ticks": ""
             }
            },
            "type": "scatterpolar"
           }
          ],
          "scatterpolargl": [
           {
            "marker": {
             "colorbar": {
              "outlinewidth": 0,
              "ticks": ""
             }
            },
            "type": "scatterpolargl"
           }
          ],
          "scatterternary": [
           {
            "marker": {
             "colorbar": {
              "outlinewidth": 0,
              "ticks": ""
             }
            },
            "type": "scatterternary"
           }
          ],
          "surface": [
           {
            "colorbar": {
             "outlinewidth": 0,
             "ticks": ""
            },
            "colorscale": [
             [
              0,
              "#0d0887"
             ],
             [
              0.1111111111111111,
              "#46039f"
             ],
             [
              0.2222222222222222,
              "#7201a8"
             ],
             [
              0.3333333333333333,
              "#9c179e"
             ],
             [
              0.4444444444444444,
              "#bd3786"
             ],
             [
              0.5555555555555556,
              "#d8576b"
             ],
             [
              0.6666666666666666,
              "#ed7953"
             ],
             [
              0.7777777777777778,
              "#fb9f3a"
             ],
             [
              0.8888888888888888,
              "#fdca26"
             ],
             [
              1,
              "#f0f921"
             ]
            ],
            "type": "surface"
           }
          ],
          "table": [
           {
            "cells": {
             "fill": {
              "color": "#EBF0F8"
             },
             "line": {
              "color": "white"
             }
            },
            "header": {
             "fill": {
              "color": "#C8D4E3"
             },
             "line": {
              "color": "white"
             }
            },
            "type": "table"
           }
          ]
         },
         "layout": {
          "annotationdefaults": {
           "arrowcolor": "#2a3f5f",
           "arrowhead": 0,
           "arrowwidth": 1
          },
          "autotypenumbers": "strict",
          "coloraxis": {
           "colorbar": {
            "outlinewidth": 0,
            "ticks": ""
           }
          },
          "colorscale": {
           "diverging": [
            [
             0,
             "#8e0152"
            ],
            [
             0.1,
             "#c51b7d"
            ],
            [
             0.2,
             "#de77ae"
            ],
            [
             0.3,
             "#f1b6da"
            ],
            [
             0.4,
             "#fde0ef"
            ],
            [
             0.5,
             "#f7f7f7"
            ],
            [
             0.6,
             "#e6f5d0"
            ],
            [
             0.7,
             "#b8e186"
            ],
            [
             0.8,
             "#7fbc41"
            ],
            [
             0.9,
             "#4d9221"
            ],
            [
             1,
             "#276419"
            ]
           ],
           "sequential": [
            [
             0,
             "#0d0887"
            ],
            [
             0.1111111111111111,
             "#46039f"
            ],
            [
             0.2222222222222222,
             "#7201a8"
            ],
            [
             0.3333333333333333,
             "#9c179e"
            ],
            [
             0.4444444444444444,
             "#bd3786"
            ],
            [
             0.5555555555555556,
             "#d8576b"
            ],
            [
             0.6666666666666666,
             "#ed7953"
            ],
            [
             0.7777777777777778,
             "#fb9f3a"
            ],
            [
             0.8888888888888888,
             "#fdca26"
            ],
            [
             1,
             "#f0f921"
            ]
           ],
           "sequentialminus": [
            [
             0,
             "#0d0887"
            ],
            [
             0.1111111111111111,
             "#46039f"
            ],
            [
             0.2222222222222222,
             "#7201a8"
            ],
            [
             0.3333333333333333,
             "#9c179e"
            ],
            [
             0.4444444444444444,
             "#bd3786"
            ],
            [
             0.5555555555555556,
             "#d8576b"
            ],
            [
             0.6666666666666666,
             "#ed7953"
            ],
            [
             0.7777777777777778,
             "#fb9f3a"
            ],
            [
             0.8888888888888888,
             "#fdca26"
            ],
            [
             1,
             "#f0f921"
            ]
           ]
          },
          "colorway": [
           "#636efa",
           "#EF553B",
           "#00cc96",
           "#ab63fa",
           "#FFA15A",
           "#19d3f3",
           "#FF6692",
           "#B6E880",
           "#FF97FF",
           "#FECB52"
          ],
          "font": {
           "color": "#2a3f5f"
          },
          "geo": {
           "bgcolor": "white",
           "lakecolor": "white",
           "landcolor": "white",
           "showlakes": true,
           "showland": true,
           "subunitcolor": "#C8D4E3"
          },
          "hoverlabel": {
           "align": "left"
          },
          "hovermode": "closest",
          "mapbox": {
           "style": "light"
          },
          "paper_bgcolor": "white",
          "plot_bgcolor": "white",
          "polar": {
           "angularaxis": {
            "gridcolor": "#EBF0F8",
            "linecolor": "#EBF0F8",
            "ticks": ""
           },
           "bgcolor": "white",
           "radialaxis": {
            "gridcolor": "#EBF0F8",
            "linecolor": "#EBF0F8",
            "ticks": ""
           }
          },
          "scene": {
           "xaxis": {
            "backgroundcolor": "white",
            "gridcolor": "#DFE8F3",
            "gridwidth": 2,
            "linecolor": "#EBF0F8",
            "showbackground": true,
            "ticks": "",
            "zerolinecolor": "#EBF0F8"
           },
           "yaxis": {
            "backgroundcolor": "white",
            "gridcolor": "#DFE8F3",
            "gridwidth": 2,
            "linecolor": "#EBF0F8",
            "showbackground": true,
            "ticks": "",
            "zerolinecolor": "#EBF0F8"
           },
           "zaxis": {
            "backgroundcolor": "white",
            "gridcolor": "#DFE8F3",
            "gridwidth": 2,
            "linecolor": "#EBF0F8",
            "showbackground": true,
            "ticks": "",
            "zerolinecolor": "#EBF0F8"
           }
          },
          "shapedefaults": {
           "line": {
            "color": "#2a3f5f"
           }
          },
          "ternary": {
           "aaxis": {
            "gridcolor": "#DFE8F3",
            "linecolor": "#A2B1C6",
            "ticks": ""
           },
           "baxis": {
            "gridcolor": "#DFE8F3",
            "linecolor": "#A2B1C6",
            "ticks": ""
           },
           "bgcolor": "white",
           "caxis": {
            "gridcolor": "#DFE8F3",
            "linecolor": "#A2B1C6",
            "ticks": ""
           }
          },
          "title": {
           "x": 0.05
          },
          "xaxis": {
           "automargin": true,
           "gridcolor": "#EBF0F8",
           "linecolor": "#EBF0F8",
           "ticks": "",
           "title": {
            "standoff": 15
           },
           "zerolinecolor": "#EBF0F8",
           "zerolinewidth": 2
          },
          "yaxis": {
           "automargin": true,
           "gridcolor": "#EBF0F8",
           "linecolor": "#EBF0F8",
           "ticks": "",
           "title": {
            "standoff": 15
           },
           "zerolinecolor": "#EBF0F8",
           "zerolinewidth": 2
          }
         }
        },
        "title": {
         "text": "Train, Validation and Test Data for COVID-19 Occupied MV Beds in Midlands Region"
        },
        "xaxis": {
         "title": {
          "text": "Date"
         }
        },
        "yaxis": {
         "title": {
          "text": "COVID-19 Occupied MV Beds"
         }
        }
       }
      }
     },
     "metadata": {},
     "output_type": "display_data"
    }
   ],
   "source": [
    "# plot the forecast of the training data and test data\n",
    "fig = go.Figure()\n",
    "fig.add_trace(\n",
    "    go.Scatter(\n",
    "        x=train.index, y=train[\"covidOccupiedMVBeds\"], mode=\"lines\", name=\"Train Data\"\n",
    "    )\n",
    ")\n",
    "fig.add_trace(\n",
    "    go.Scatter(\n",
    "        x=val.index, y=val[\"covidOccupiedMVBeds\"], mode=\"lines\", name=\"Validation Data\"\n",
    "    )\n",
    ")\n",
    "fig.add_trace(\n",
    "    go.Scatter(\n",
    "        x=test.index, y=test[\"covidOccupiedMVBeds\"], mode=\"lines\", name=\"Test Data\"\n",
    "    )\n",
    ")\n",
    "# add a line to when the train ends and the val begins and also when the val ends and the test begins\n",
    "fig.add_shape(\n",
    "    dict(\n",
    "        type=\"line\",\n",
    "        x0=train.index.max(),\n",
    "        y0=0,\n",
    "        x1=train.index.max(),\n",
    "        y1=100,\n",
    "        line=dict(color=\"black\", width=2),\n",
    "    )\n",
    ")\n",
    "fig.add_shape(\n",
    "    dict(\n",
    "        type=\"line\",\n",
    "        x0=val.index.max(),\n",
    "        y0=0,\n",
    "        x1=val.index.max(),\n",
    "        y1=100,\n",
    "        line=dict(color=\"black\", width=2),\n",
    "    )\n",
    ")\n",
    "fig.update_layout(\n",
    "    title=\"Train, Validation and Test Data for COVID-19 Occupied MV Beds in Midlands Region\",\n",
    "    xaxis_title=\"Date\",\n",
    "    yaxis_title=\"COVID-19 Occupied MV Beds\",\n",
    "    template=\"plotly_white\",\n",
    ")\n",
    "\n",
    "fig.show()\n"
   ]
  },
  {
   "cell_type": "code",
   "execution_count": 31,
   "metadata": {},
   "outputs": [],
   "source": [
    "fig = plot_forecast(\n",
    "    pred_df,\n",
    "    forecast_columns=[f\"Vanilla {algorithm_name}\"],\n",
    "    forecast_display_names=[f\"Vanilla {algorithm_name}\"],\n",
    ")\n",
    "title = f\"Forecasting COVID-19 MVBeds with {algorithm_name}\"\n",
    "fig = format_plot(fig, title=title)\n",
    "fig.update_xaxes(\n",
    "    type=\"date\", range=[\"2021-09-26\", \"2021-12-31\"], dtick=\"M1\", tickformat=\"%b %Y\"\n",
    ")\n",
    "save_path = f\"figures/forecast_multivarate_{algorithm_name}.pdf\"\n",
    "pio.write_image(fig, save_path)\n",
    "fig.show()"
   ]
  },
  {
   "cell_type": "code",
   "execution_count": 32,
   "metadata": {},
   "outputs": [],
   "source": [
    "# save model to reuse later, in the report folder \n",
    "model_path = Path(\"models\")\n",
    "model_path.mkdir(exist_ok=True)\n",
    "model_file = model_path / f\"{algorithm_name}_model.pt\"\n",
    "torch.save(model.state_dict(), model_file)\n",
    "\n",
    "# save the metrics to a csv file\n",
    "metric_df = pd.DataFrame(metric_record)\n",
    "metric_file = model_path / f\"{algorithm_name}_metrics.csv\"\n",
    "\n",
    "metric_df.to_csv(metric_file, index=False)"
   ]
  },
  {
   "cell_type": "markdown",
   "metadata": {},
   "source": [
    "## Simulated annealing hyperparameter tunning"
   ]
  },
  {
   "cell_type": "code",
   "execution_count": 33,
   "metadata": {},
   "outputs": [],
   "source": [
    "# Define the bounds for parameters\n",
    "param_bounds = {\n",
    "    \"rnn_type\": [\"RNN\", \"GRU\", \"LSTM\"],\n",
    "    \"hidden_size\": (32, 128),  # Hidden size between 32 and 128\n",
    "    \"num_layers\": (5, 30),\n",
    "    \"bidirectional\": [True, False]\n",
    "}\n",
    "\n",
    "# Initial hyperparameters and temperature\n",
    "initial_params = [\"RNN\", 64, 10, True]  # Updated for a realistic hidden size initialization\n",
    "initial_temp = 10"
   ]
  },
  {
   "cell_type": "code",
   "execution_count": 34,
   "metadata": {},
   "outputs": [],
   "source": [
    "# Define the objective function\n",
    "def objective(params):\n",
    "    rnn_type, hidden_size, num_layers, bidirectional = params\n",
    "    rnn_config = SingleStepRNNConfig(\n",
    "        rnn_type=rnn_type,\n",
    "        input_size=11,\n",
    "        hidden_size=hidden_size,\n",
    "        num_layers=num_layers,\n",
    "        bidirectional=bidirectional,\n",
    "        learning_rate=1e-3\n",
    "    )\n",
    "    model = SingleStepRNNModel(rnn_config)\n",
    "    model.float()\n",
    "\n",
    "    trainer = pl.Trainer(\n",
    "        min_epochs=5,\n",
    "        max_epochs=100,\n",
    "        accelerator=\"gpu\",\n",
    "        devices=1,\n",
    "        callbacks=[EarlyStopping(monitor=\"valid_loss\", patience=10)],\n",
    "    )\n",
    "    trainer.fit(model, datamodule)\n",
    "    \n",
    "    shutil.rmtree(\"lightning_logs\")\n",
    "\n",
    "    predictions = trainer.predict(model, datamodule.test_dataloader())\n",
    "    predictions = torch.cat(predictions).squeeze().detach().numpy()\n",
    "    predictions = predictions * datamodule.train.std + datamodule.train.mean\n",
    "\n",
    "    actuals = test[\"covidOccupiedMVBeds\"].values\n",
    "\n",
    "    assert (\n",
    "        actuals.shape == predictions.shape\n",
    "    ), \"Mismatch in shapes between actuals and predictions\"\n",
    "\n",
    "    return np.mean(np.abs(actuals - predictions))  # Return the MAE\n"
   ]
  },
  {
   "cell_type": "code",
   "execution_count": 35,
   "metadata": {},
   "outputs": [],
   "source": [
    "def neighbor(params):\n",
    "    rnn_type, hidden_size, num_layers, bidirectional = params\n",
    "\n",
    "    # Perturbations\n",
    "    hidden_size = np.random.randint(*param_bounds[\"hidden_size\"])\n",
    "    num_layers = np.random.randint(*param_bounds[\"num_layers\"])\n",
    "    # learning_rate = np.random.uniform(*param_bounds[\"learning_rate\"])\n",
    "    rnn_type = np.random.choice(param_bounds[\"rnn_type\"])\n",
    "    bidirectional = bool(\n",
    "        np.random.choice(param_bounds[\"bidirectional\"])\n",
    "    )  # Convert to native boolean\n",
    "    \n",
    "    # ensure that it returns the best parameters\n",
    "    return [rnn_type, hidden_size, num_layers, bidirectional]\n",
    "\n",
    "# Simulated Annealing Algorithm, measuring cost and temperature\n",
    "def simulated_annealing(objective, initial_params, initial_temp, neighbor, n_iter, cooling_rate=0.20, verbose=True):\n",
    "    current_params = initial_params\n",
    "    current_cost = objective(current_params)\n",
    "    best_params = current_params\n",
    "    best_cost = current_cost\n",
    "    temp = initial_temp\n",
    "    cost_history = []\n",
    "\n",
    "    for i in range(n_iter):\n",
    "        candidate_params = neighbor(current_params)\n",
    "        candidate_cost = objective(candidate_params)\n",
    "\n",
    "        # Calculate the probability of accepting the new solution\n",
    "        acceptance_probability = np.exp(-abs(candidate_cost - current_cost) / temp)\n",
    "\n",
    "        # Decision to accept the new candidate\n",
    "        if candidate_cost < current_cost or np.random.uniform() < acceptance_probability:\n",
    "            current_params = candidate_params\n",
    "            current_cost = candidate_cost\n",
    "\n",
    "            # Update the best found solution\n",
    "            if current_cost < best_cost:\n",
    "                best_params = current_params\n",
    "                best_cost = current_cost\n",
    "\n",
    "        # Cooling down the temperature\n",
    "        temp *= cooling_rate\n",
    "        cost_history.append(best_cost)\n",
    "\n",
    "        # Output current iteration details\n",
    "        if verbose:\n",
    "            print(f\"Iteration: {i+1}, Best Cost: {best_cost:.4f}, Current Cost: {current_cost:.4f}, Temperature: {temp:.4f}\")\n",
    "\n",
    "        # Break early if the minimum cost has been constant for 5 iterations\n",
    "        if i >= 5 and all(x == best_cost for x in cost_history[-5:]):\n",
    "            print(\"Early stopping as there is no improvement in the last 5 iterations.\")\n",
    "            break\n",
    "\n",
    "    return best_cost, best_params, cost_history"
   ]
  },
  {
   "cell_type": "code",
   "execution_count": 36,
   "metadata": {},
   "outputs": [
    {
     "name": "stderr",
     "output_type": "stream",
     "text": [
      "GPU available: True (cuda), used: True\n",
      "TPU available: False, using: 0 TPU cores\n",
      "IPU available: False, using: 0 IPUs\n",
      "HPU available: False, using: 0 HPUs\n",
      "LOCAL_RANK: 0 - CUDA_VISIBLE_DEVICES: [0]\n",
      "\n",
      "  | Name | Type    | Params\n",
      "---------------------------------\n",
      "0 | rnn  | RNN     | 233 K \n",
      "1 | fc   | Linear  | 129   \n",
      "2 | loss | MSELoss | 0     \n",
      "---------------------------------\n",
      "233 K     Trainable params\n",
      "0         Non-trainable params\n",
      "233 K     Total params\n",
      "0.934     Total estimated model params size (MB)\n"
     ]
    },
    {
     "data": {
      "application/vnd.jupyter.widget-view+json": {
       "model_id": "b5dfd682a17f4c4f9a9bd810732b4f45",
       "version_major": 2,
       "version_minor": 0
      },
      "text/plain": [
       "Sanity Checking: |          | 0/? [00:00<?, ?it/s]"
      ]
     },
     "metadata": {},
     "output_type": "display_data"
    },
    {
     "data": {
      "application/vnd.jupyter.widget-view+json": {
       "model_id": "6ae68325a38d4dd983be689d34e76fd3",
       "version_major": 2,
       "version_minor": 0
      },
      "text/plain": [
       "Training: |          | 0/? [00:00<?, ?it/s]"
      ]
     },
     "metadata": {},
     "output_type": "display_data"
    },
    {
     "data": {
      "application/vnd.jupyter.widget-view+json": {
       "model_id": "ffc2eed120a948e1a19d7c92d147e2a1",
       "version_major": 2,
       "version_minor": 0
      },
      "text/plain": [
       "Validation: |          | 0/? [00:00<?, ?it/s]"
      ]
     },
     "metadata": {},
     "output_type": "display_data"
    },
    {
     "data": {
      "application/vnd.jupyter.widget-view+json": {
       "model_id": "d9f09b4315de4014bb69e8f79af88f75",
       "version_major": 2,
       "version_minor": 0
      },
      "text/plain": [
       "Validation: |          | 0/? [00:00<?, ?it/s]"
      ]
     },
     "metadata": {},
     "output_type": "display_data"
    },
    {
     "data": {
      "application/vnd.jupyter.widget-view+json": {
       "model_id": "b7880187699840d0a6208aaaf4494959",
       "version_major": 2,
       "version_minor": 0
      },
      "text/plain": [
       "Validation: |          | 0/? [00:00<?, ?it/s]"
      ]
     },
     "metadata": {},
     "output_type": "display_data"
    },
    {
     "data": {
      "application/vnd.jupyter.widget-view+json": {
       "model_id": "30c793fc695140bf9de9bb66b9b99dac",
       "version_major": 2,
       "version_minor": 0
      },
      "text/plain": [
       "Validation: |          | 0/? [00:00<?, ?it/s]"
      ]
     },
     "metadata": {},
     "output_type": "display_data"
    },
    {
     "data": {
      "application/vnd.jupyter.widget-view+json": {
       "model_id": "4956824743b54f289297baa2d4c975d2",
       "version_major": 2,
       "version_minor": 0
      },
      "text/plain": [
       "Validation: |          | 0/? [00:00<?, ?it/s]"
      ]
     },
     "metadata": {},
     "output_type": "display_data"
    },
    {
     "data": {
      "application/vnd.jupyter.widget-view+json": {
       "model_id": "4db41120ae494ab68b936e0bdf5b3cca",
       "version_major": 2,
       "version_minor": 0
      },
      "text/plain": [
       "Validation: |          | 0/? [00:00<?, ?it/s]"
      ]
     },
     "metadata": {},
     "output_type": "display_data"
    },
    {
     "data": {
      "application/vnd.jupyter.widget-view+json": {
       "model_id": "f25c33e0e54441bb8228ec10b4076b81",
       "version_major": 2,
       "version_minor": 0
      },
      "text/plain": [
       "Validation: |          | 0/? [00:00<?, ?it/s]"
      ]
     },
     "metadata": {},
     "output_type": "display_data"
    },
    {
     "data": {
      "application/vnd.jupyter.widget-view+json": {
       "model_id": "c08c9edbecee411cba97fef21ea5c2e1",
       "version_major": 2,
       "version_minor": 0
      },
      "text/plain": [
       "Validation: |          | 0/? [00:00<?, ?it/s]"
      ]
     },
     "metadata": {},
     "output_type": "display_data"
    },
    {
     "data": {
      "application/vnd.jupyter.widget-view+json": {
       "model_id": "53243327306748d4bf2b33208fe21ec4",
       "version_major": 2,
       "version_minor": 0
      },
      "text/plain": [
       "Validation: |          | 0/? [00:00<?, ?it/s]"
      ]
     },
     "metadata": {},
     "output_type": "display_data"
    },
    {
     "data": {
      "application/vnd.jupyter.widget-view+json": {
       "model_id": "36daa1ca98af46f89aee687167878bf0",
       "version_major": 2,
       "version_minor": 0
      },
      "text/plain": [
       "Validation: |          | 0/? [00:00<?, ?it/s]"
      ]
     },
     "metadata": {},
     "output_type": "display_data"
    },
    {
     "data": {
      "application/vnd.jupyter.widget-view+json": {
       "model_id": "0dfc3faf17e94b2fa054554c717446cb",
       "version_major": 2,
       "version_minor": 0
      },
      "text/plain": [
       "Validation: |          | 0/? [00:00<?, ?it/s]"
      ]
     },
     "metadata": {},
     "output_type": "display_data"
    },
    {
     "data": {
      "application/vnd.jupyter.widget-view+json": {
       "model_id": "922ea36469ce4adda7652e9f5ddbcfa7",
       "version_major": 2,
       "version_minor": 0
      },
      "text/plain": [
       "Validation: |          | 0/? [00:00<?, ?it/s]"
      ]
     },
     "metadata": {},
     "output_type": "display_data"
    },
    {
     "data": {
      "application/vnd.jupyter.widget-view+json": {
       "model_id": "128f3410d1f44c6087d58dfc43e2b9dd",
       "version_major": 2,
       "version_minor": 0
      },
      "text/plain": [
       "Validation: |          | 0/? [00:00<?, ?it/s]"
      ]
     },
     "metadata": {},
     "output_type": "display_data"
    },
    {
     "data": {
      "application/vnd.jupyter.widget-view+json": {
       "model_id": "47026342fb93418ba3ff00aa66b579ac",
       "version_major": 2,
       "version_minor": 0
      },
      "text/plain": [
       "Validation: |          | 0/? [00:00<?, ?it/s]"
      ]
     },
     "metadata": {},
     "output_type": "display_data"
    },
    {
     "data": {
      "application/vnd.jupyter.widget-view+json": {
       "model_id": "20230845e88d4c31912a609648a29598",
       "version_major": 2,
       "version_minor": 0
      },
      "text/plain": [
       "Validation: |          | 0/? [00:00<?, ?it/s]"
      ]
     },
     "metadata": {},
     "output_type": "display_data"
    },
    {
     "data": {
      "application/vnd.jupyter.widget-view+json": {
       "model_id": "e053e42193b04015b3c2cbf160357fbb",
       "version_major": 2,
       "version_minor": 0
      },
      "text/plain": [
       "Validation: |          | 0/? [00:00<?, ?it/s]"
      ]
     },
     "metadata": {},
     "output_type": "display_data"
    },
    {
     "data": {
      "application/vnd.jupyter.widget-view+json": {
       "model_id": "5f7356869e034a97b0dc19d8388ef155",
       "version_major": 2,
       "version_minor": 0
      },
      "text/plain": [
       "Validation: |          | 0/? [00:00<?, ?it/s]"
      ]
     },
     "metadata": {},
     "output_type": "display_data"
    },
    {
     "data": {
      "application/vnd.jupyter.widget-view+json": {
       "model_id": "54584001ff124f53921c362eba935379",
       "version_major": 2,
       "version_minor": 0
      },
      "text/plain": [
       "Validation: |          | 0/? [00:00<?, ?it/s]"
      ]
     },
     "metadata": {},
     "output_type": "display_data"
    },
    {
     "name": "stderr",
     "output_type": "stream",
     "text": [
      "LOCAL_RANK: 0 - CUDA_VISIBLE_DEVICES: [0]\n"
     ]
    },
    {
     "data": {
      "application/vnd.jupyter.widget-view+json": {
       "model_id": "e262cd3ac36e4ee99349062cba5edf91",
       "version_major": 2,
       "version_minor": 0
      },
      "text/plain": [
       "Predicting: |          | 0/? [00:00<?, ?it/s]"
      ]
     },
     "metadata": {},
     "output_type": "display_data"
    },
    {
     "name": "stderr",
     "output_type": "stream",
     "text": [
      "GPU available: True (cuda), used: True\n",
      "TPU available: False, using: 0 TPU cores\n",
      "IPU available: False, using: 0 IPUs\n",
      "HPU available: False, using: 0 HPUs\n",
      "LOCAL_RANK: 0 - CUDA_VISIBLE_DEVICES: [0]\n",
      "\n",
      "  | Name | Type    | Params\n",
      "---------------------------------\n",
      "0 | rnn  | LSTM    | 1.0 M \n",
      "1 | fc   | Linear  | 84    \n",
      "2 | loss | MSELoss | 0     \n",
      "---------------------------------\n",
      "1.0 M     Trainable params\n",
      "0         Non-trainable params\n",
      "1.0 M     Total params\n",
      "4.144     Total estimated model params size (MB)\n"
     ]
    },
    {
     "data": {
      "application/vnd.jupyter.widget-view+json": {
       "model_id": "860d5b42362148feb3ea280ecf3c571c",
       "version_major": 2,
       "version_minor": 0
      },
      "text/plain": [
       "Sanity Checking: |          | 0/? [00:00<?, ?it/s]"
      ]
     },
     "metadata": {},
     "output_type": "display_data"
    },
    {
     "data": {
      "application/vnd.jupyter.widget-view+json": {
       "model_id": "98afa47380cc4a7f92146c67dfa7c043",
       "version_major": 2,
       "version_minor": 0
      },
      "text/plain": [
       "Training: |          | 0/? [00:00<?, ?it/s]"
      ]
     },
     "metadata": {},
     "output_type": "display_data"
    },
    {
     "data": {
      "application/vnd.jupyter.widget-view+json": {
       "model_id": "110309f1265045cb959c6d6fa92518c5",
       "version_major": 2,
       "version_minor": 0
      },
      "text/plain": [
       "Validation: |          | 0/? [00:00<?, ?it/s]"
      ]
     },
     "metadata": {},
     "output_type": "display_data"
    },
    {
     "data": {
      "application/vnd.jupyter.widget-view+json": {
       "model_id": "f3a23205ad224d22b8073fb1335e0b51",
       "version_major": 2,
       "version_minor": 0
      },
      "text/plain": [
       "Validation: |          | 0/? [00:00<?, ?it/s]"
      ]
     },
     "metadata": {},
     "output_type": "display_data"
    },
    {
     "data": {
      "application/vnd.jupyter.widget-view+json": {
       "model_id": "4752d14f3afb48c89ca60dac071f4031",
       "version_major": 2,
       "version_minor": 0
      },
      "text/plain": [
       "Validation: |          | 0/? [00:00<?, ?it/s]"
      ]
     },
     "metadata": {},
     "output_type": "display_data"
    },
    {
     "data": {
      "application/vnd.jupyter.widget-view+json": {
       "model_id": "9ce648bed117497a8ba8ebed4f1a86fd",
       "version_major": 2,
       "version_minor": 0
      },
      "text/plain": [
       "Validation: |          | 0/? [00:00<?, ?it/s]"
      ]
     },
     "metadata": {},
     "output_type": "display_data"
    },
    {
     "data": {
      "application/vnd.jupyter.widget-view+json": {
       "model_id": "b9333c8445614be598c404d0c3e9c05c",
       "version_major": 2,
       "version_minor": 0
      },
      "text/plain": [
       "Validation: |          | 0/? [00:00<?, ?it/s]"
      ]
     },
     "metadata": {},
     "output_type": "display_data"
    },
    {
     "data": {
      "application/vnd.jupyter.widget-view+json": {
       "model_id": "2ce9054187e24a02ab54bb7a8cf3603e",
       "version_major": 2,
       "version_minor": 0
      },
      "text/plain": [
       "Validation: |          | 0/? [00:00<?, ?it/s]"
      ]
     },
     "metadata": {},
     "output_type": "display_data"
    },
    {
     "data": {
      "application/vnd.jupyter.widget-view+json": {
       "model_id": "d0ddc48f27f04cb29114f6ec1f8a2200",
       "version_major": 2,
       "version_minor": 0
      },
      "text/plain": [
       "Validation: |          | 0/? [00:00<?, ?it/s]"
      ]
     },
     "metadata": {},
     "output_type": "display_data"
    },
    {
     "data": {
      "application/vnd.jupyter.widget-view+json": {
       "model_id": "932517a9b9d2460aa0c3de08ef67dec6",
       "version_major": 2,
       "version_minor": 0
      },
      "text/plain": [
       "Validation: |          | 0/? [00:00<?, ?it/s]"
      ]
     },
     "metadata": {},
     "output_type": "display_data"
    },
    {
     "data": {
      "application/vnd.jupyter.widget-view+json": {
       "model_id": "7ce2cdcf086f4481800738364710dd64",
       "version_major": 2,
       "version_minor": 0
      },
      "text/plain": [
       "Validation: |          | 0/? [00:00<?, ?it/s]"
      ]
     },
     "metadata": {},
     "output_type": "display_data"
    },
    {
     "data": {
      "application/vnd.jupyter.widget-view+json": {
       "model_id": "b8f07c76a451416abce4257e5a39333e",
       "version_major": 2,
       "version_minor": 0
      },
      "text/plain": [
       "Validation: |          | 0/? [00:00<?, ?it/s]"
      ]
     },
     "metadata": {},
     "output_type": "display_data"
    },
    {
     "data": {
      "application/vnd.jupyter.widget-view+json": {
       "model_id": "ff61efb2e65a4738a0a4789f04b09b6d",
       "version_major": 2,
       "version_minor": 0
      },
      "text/plain": [
       "Validation: |          | 0/? [00:00<?, ?it/s]"
      ]
     },
     "metadata": {},
     "output_type": "display_data"
    },
    {
     "data": {
      "application/vnd.jupyter.widget-view+json": {
       "model_id": "f9ac53d3bfb44921a47dad6cf96409a6",
       "version_major": 2,
       "version_minor": 0
      },
      "text/plain": [
       "Validation: |          | 0/? [00:00<?, ?it/s]"
      ]
     },
     "metadata": {},
     "output_type": "display_data"
    },
    {
     "data": {
      "application/vnd.jupyter.widget-view+json": {
       "model_id": "2b39d6e41d8e4252b1cda5f1b4fe5b73",
       "version_major": 2,
       "version_minor": 0
      },
      "text/plain": [
       "Validation: |          | 0/? [00:00<?, ?it/s]"
      ]
     },
     "metadata": {},
     "output_type": "display_data"
    },
    {
     "data": {
      "application/vnd.jupyter.widget-view+json": {
       "model_id": "454b1923d47d42c7b3394bd670b9c0af",
       "version_major": 2,
       "version_minor": 0
      },
      "text/plain": [
       "Validation: |          | 0/? [00:00<?, ?it/s]"
      ]
     },
     "metadata": {},
     "output_type": "display_data"
    },
    {
     "data": {
      "application/vnd.jupyter.widget-view+json": {
       "model_id": "1fd17f8048804f658e7bab21f3ece4d9",
       "version_major": 2,
       "version_minor": 0
      },
      "text/plain": [
       "Validation: |          | 0/? [00:00<?, ?it/s]"
      ]
     },
     "metadata": {},
     "output_type": "display_data"
    },
    {
     "data": {
      "application/vnd.jupyter.widget-view+json": {
       "model_id": "3ae4f933c0ca483c8d67c37b9bd72295",
       "version_major": 2,
       "version_minor": 0
      },
      "text/plain": [
       "Validation: |          | 0/? [00:00<?, ?it/s]"
      ]
     },
     "metadata": {},
     "output_type": "display_data"
    },
    {
     "data": {
      "application/vnd.jupyter.widget-view+json": {
       "model_id": "d6a72de59819466ca05013eebaf8bd33",
       "version_major": 2,
       "version_minor": 0
      },
      "text/plain": [
       "Validation: |          | 0/? [00:00<?, ?it/s]"
      ]
     },
     "metadata": {},
     "output_type": "display_data"
    },
    {
     "data": {
      "application/vnd.jupyter.widget-view+json": {
       "model_id": "13662e321833424abeb8f5cdc3b45ace",
       "version_major": 2,
       "version_minor": 0
      },
      "text/plain": [
       "Validation: |          | 0/? [00:00<?, ?it/s]"
      ]
     },
     "metadata": {},
     "output_type": "display_data"
    },
    {
     "data": {
      "application/vnd.jupyter.widget-view+json": {
       "model_id": "411c2944fdce47cebac2697afaf72e7f",
       "version_major": 2,
       "version_minor": 0
      },
      "text/plain": [
       "Validation: |          | 0/? [00:00<?, ?it/s]"
      ]
     },
     "metadata": {},
     "output_type": "display_data"
    },
    {
     "data": {
      "application/vnd.jupyter.widget-view+json": {
       "model_id": "3cf5956b478542d5b0a5f56bd52d722a",
       "version_major": 2,
       "version_minor": 0
      },
      "text/plain": [
       "Validation: |          | 0/? [00:00<?, ?it/s]"
      ]
     },
     "metadata": {},
     "output_type": "display_data"
    },
    {
     "data": {
      "application/vnd.jupyter.widget-view+json": {
       "model_id": "4240e04deb974217b3cb5b203fc9144f",
       "version_major": 2,
       "version_minor": 0
      },
      "text/plain": [
       "Validation: |          | 0/? [00:00<?, ?it/s]"
      ]
     },
     "metadata": {},
     "output_type": "display_data"
    },
    {
     "name": "stderr",
     "output_type": "stream",
     "text": [
      "LOCAL_RANK: 0 - CUDA_VISIBLE_DEVICES: [0]\n"
     ]
    },
    {
     "data": {
      "application/vnd.jupyter.widget-view+json": {
       "model_id": "b7ad900433c8418f8d655d6d33e97007",
       "version_major": 2,
       "version_minor": 0
      },
      "text/plain": [
       "Predicting: |          | 0/? [00:00<?, ?it/s]"
      ]
     },
     "metadata": {},
     "output_type": "display_data"
    },
    {
     "name": "stderr",
     "output_type": "stream",
     "text": [
      "GPU available: True (cuda), used: True\n",
      "TPU available: False, using: 0 TPU cores\n",
      "IPU available: False, using: 0 IPUs\n",
      "HPU available: False, using: 0 HPUs\n",
      "LOCAL_RANK: 0 - CUDA_VISIBLE_DEVICES: [0]\n",
      "\n",
      "  | Name | Type    | Params\n",
      "---------------------------------\n",
      "0 | rnn  | LSTM    | 8.3 M \n",
      "1 | fc   | Linear  | 229   \n",
      "2 | loss | MSELoss | 0     \n",
      "---------------------------------\n",
      "8.3 M     Trainable params\n",
      "0         Non-trainable params\n",
      "8.3 M     Total params\n",
      "33.092    Total estimated model params size (MB)\n"
     ]
    },
    {
     "name": "stdout",
     "output_type": "stream",
     "text": [
      "Iteration: 1, Best Cost: 1.3192, Current Cost: 5.3541, Temperature: 9.5000\n"
     ]
    },
    {
     "data": {
      "application/vnd.jupyter.widget-view+json": {
       "model_id": "ad6d1dbc0e6e470d838f5512bad14466",
       "version_major": 2,
       "version_minor": 0
      },
      "text/plain": [
       "Sanity Checking: |          | 0/? [00:00<?, ?it/s]"
      ]
     },
     "metadata": {},
     "output_type": "display_data"
    },
    {
     "data": {
      "application/vnd.jupyter.widget-view+json": {
       "model_id": "aa8269351c364fca91d5202fd634ac8d",
       "version_major": 2,
       "version_minor": 0
      },
      "text/plain": [
       "Training: |          | 0/? [00:00<?, ?it/s]"
      ]
     },
     "metadata": {},
     "output_type": "display_data"
    },
    {
     "data": {
      "application/vnd.jupyter.widget-view+json": {
       "model_id": "0f5c8c6c777f40b6a3b2f59d069811dc",
       "version_major": 2,
       "version_minor": 0
      },
      "text/plain": [
       "Validation: |          | 0/? [00:00<?, ?it/s]"
      ]
     },
     "metadata": {},
     "output_type": "display_data"
    },
    {
     "data": {
      "application/vnd.jupyter.widget-view+json": {
       "model_id": "e9ef0d308c16408aa0371d2437a720d8",
       "version_major": 2,
       "version_minor": 0
      },
      "text/plain": [
       "Validation: |          | 0/? [00:00<?, ?it/s]"
      ]
     },
     "metadata": {},
     "output_type": "display_data"
    },
    {
     "data": {
      "application/vnd.jupyter.widget-view+json": {
       "model_id": "94e1dd08bc71436d8676eb4d7ff6f27a",
       "version_major": 2,
       "version_minor": 0
      },
      "text/plain": [
       "Validation: |          | 0/? [00:00<?, ?it/s]"
      ]
     },
     "metadata": {},
     "output_type": "display_data"
    },
    {
     "data": {
      "application/vnd.jupyter.widget-view+json": {
       "model_id": "a70c01a3141e4875ab6af40684cc3a98",
       "version_major": 2,
       "version_minor": 0
      },
      "text/plain": [
       "Validation: |          | 0/? [00:00<?, ?it/s]"
      ]
     },
     "metadata": {},
     "output_type": "display_data"
    },
    {
     "data": {
      "application/vnd.jupyter.widget-view+json": {
       "model_id": "f929a5d5b60941fabab7ba0a6619677b",
       "version_major": 2,
       "version_minor": 0
      },
      "text/plain": [
       "Validation: |          | 0/? [00:00<?, ?it/s]"
      ]
     },
     "metadata": {},
     "output_type": "display_data"
    },
    {
     "data": {
      "application/vnd.jupyter.widget-view+json": {
       "model_id": "02209e6bc8094764b7e55b3728f91304",
       "version_major": 2,
       "version_minor": 0
      },
      "text/plain": [
       "Validation: |          | 0/? [00:00<?, ?it/s]"
      ]
     },
     "metadata": {},
     "output_type": "display_data"
    },
    {
     "data": {
      "application/vnd.jupyter.widget-view+json": {
       "model_id": "47b6d9f9664f447082b528bb3532078a",
       "version_major": 2,
       "version_minor": 0
      },
      "text/plain": [
       "Validation: |          | 0/? [00:00<?, ?it/s]"
      ]
     },
     "metadata": {},
     "output_type": "display_data"
    },
    {
     "data": {
      "application/vnd.jupyter.widget-view+json": {
       "model_id": "92e8dc1aac534885a8cbe41b671a29d5",
       "version_major": 2,
       "version_minor": 0
      },
      "text/plain": [
       "Validation: |          | 0/? [00:00<?, ?it/s]"
      ]
     },
     "metadata": {},
     "output_type": "display_data"
    },
    {
     "data": {
      "application/vnd.jupyter.widget-view+json": {
       "model_id": "1017a2226e5e499d9d5ff452eba7faef",
       "version_major": 2,
       "version_minor": 0
      },
      "text/plain": [
       "Validation: |          | 0/? [00:00<?, ?it/s]"
      ]
     },
     "metadata": {},
     "output_type": "display_data"
    },
    {
     "data": {
      "application/vnd.jupyter.widget-view+json": {
       "model_id": "239e2cde1f5d4630a9cd440e327946aa",
       "version_major": 2,
       "version_minor": 0
      },
      "text/plain": [
       "Validation: |          | 0/? [00:00<?, ?it/s]"
      ]
     },
     "metadata": {},
     "output_type": "display_data"
    },
    {
     "data": {
      "application/vnd.jupyter.widget-view+json": {
       "model_id": "fdf099a572a648109a69da0238d784f3",
       "version_major": 2,
       "version_minor": 0
      },
      "text/plain": [
       "Validation: |          | 0/? [00:00<?, ?it/s]"
      ]
     },
     "metadata": {},
     "output_type": "display_data"
    },
    {
     "data": {
      "application/vnd.jupyter.widget-view+json": {
       "model_id": "35a1fe2d2e6d4fed84bef92bc659fd94",
       "version_major": 2,
       "version_minor": 0
      },
      "text/plain": [
       "Validation: |          | 0/? [00:00<?, ?it/s]"
      ]
     },
     "metadata": {},
     "output_type": "display_data"
    },
    {
     "data": {
      "application/vnd.jupyter.widget-view+json": {
       "model_id": "7e47f7ef19a54d12ab74dc457edbce3a",
       "version_major": 2,
       "version_minor": 0
      },
      "text/plain": [
       "Validation: |          | 0/? [00:00<?, ?it/s]"
      ]
     },
     "metadata": {},
     "output_type": "display_data"
    },
    {
     "data": {
      "application/vnd.jupyter.widget-view+json": {
       "model_id": "8e759b15b14942f6975b4235396b8107",
       "version_major": 2,
       "version_minor": 0
      },
      "text/plain": [
       "Validation: |          | 0/? [00:00<?, ?it/s]"
      ]
     },
     "metadata": {},
     "output_type": "display_data"
    },
    {
     "data": {
      "application/vnd.jupyter.widget-view+json": {
       "model_id": "01f2afae685d4d29a07acd421f8a25e1",
       "version_major": 2,
       "version_minor": 0
      },
      "text/plain": [
       "Validation: |          | 0/? [00:00<?, ?it/s]"
      ]
     },
     "metadata": {},
     "output_type": "display_data"
    },
    {
     "data": {
      "application/vnd.jupyter.widget-view+json": {
       "model_id": "fbbf363dce6e4b669f178ad01f93ffac",
       "version_major": 2,
       "version_minor": 0
      },
      "text/plain": [
       "Validation: |          | 0/? [00:00<?, ?it/s]"
      ]
     },
     "metadata": {},
     "output_type": "display_data"
    },
    {
     "data": {
      "application/vnd.jupyter.widget-view+json": {
       "model_id": "dcbacca59c514ecd82ae2e92c3349b5c",
       "version_major": 2,
       "version_minor": 0
      },
      "text/plain": [
       "Validation: |          | 0/? [00:00<?, ?it/s]"
      ]
     },
     "metadata": {},
     "output_type": "display_data"
    },
    {
     "data": {
      "application/vnd.jupyter.widget-view+json": {
       "model_id": "cac99f01700244b5a3e070594f7c7b6c",
       "version_major": 2,
       "version_minor": 0
      },
      "text/plain": [
       "Validation: |          | 0/? [00:00<?, ?it/s]"
      ]
     },
     "metadata": {},
     "output_type": "display_data"
    },
    {
     "data": {
      "application/vnd.jupyter.widget-view+json": {
       "model_id": "fe5c63807cd84a4b8f9846a13b9360cf",
       "version_major": 2,
       "version_minor": 0
      },
      "text/plain": [
       "Validation: |          | 0/? [00:00<?, ?it/s]"
      ]
     },
     "metadata": {},
     "output_type": "display_data"
    },
    {
     "data": {
      "application/vnd.jupyter.widget-view+json": {
       "model_id": "ad5123b42b6a4bb0bb433002436aabe8",
       "version_major": 2,
       "version_minor": 0
      },
      "text/plain": [
       "Validation: |          | 0/? [00:00<?, ?it/s]"
      ]
     },
     "metadata": {},
     "output_type": "display_data"
    },
    {
     "name": "stderr",
     "output_type": "stream",
     "text": [
      "LOCAL_RANK: 0 - CUDA_VISIBLE_DEVICES: [0]\n"
     ]
    },
    {
     "data": {
      "application/vnd.jupyter.widget-view+json": {
       "model_id": "b1139811be12495cb164503405262e17",
       "version_major": 2,
       "version_minor": 0
      },
      "text/plain": [
       "Predicting: |          | 0/? [00:00<?, ?it/s]"
      ]
     },
     "metadata": {},
     "output_type": "display_data"
    },
    {
     "name": "stderr",
     "output_type": "stream",
     "text": [
      "GPU available: True (cuda), used: True\n",
      "TPU available: False, using: 0 TPU cores\n",
      "IPU available: False, using: 0 IPUs\n",
      "HPU available: False, using: 0 HPUs\n",
      "LOCAL_RANK: 0 - CUDA_VISIBLE_DEVICES: [0]\n",
      "\n",
      "  | Name | Type    | Params\n",
      "---------------------------------\n",
      "0 | rnn  | LSTM    | 2.8 M \n",
      "1 | fc   | Linear  | 120   \n",
      "2 | loss | MSELoss | 0     \n",
      "---------------------------------\n",
      "2.8 M     Trainable params\n",
      "0         Non-trainable params\n",
      "2.8 M     Total params\n",
      "11.219    Total estimated model params size (MB)\n"
     ]
    },
    {
     "name": "stdout",
     "output_type": "stream",
     "text": [
      "Iteration: 2, Best Cost: 1.3192, Current Cost: 3.5625, Temperature: 9.0250\n"
     ]
    },
    {
     "data": {
      "application/vnd.jupyter.widget-view+json": {
       "model_id": "b3e054b93b184df58be5323505fc0bb0",
       "version_major": 2,
       "version_minor": 0
      },
      "text/plain": [
       "Sanity Checking: |          | 0/? [00:00<?, ?it/s]"
      ]
     },
     "metadata": {},
     "output_type": "display_data"
    },
    {
     "data": {
      "application/vnd.jupyter.widget-view+json": {
       "model_id": "1eba90d388f94ab7a4d65d4205b7806d",
       "version_major": 2,
       "version_minor": 0
      },
      "text/plain": [
       "Training: |          | 0/? [00:00<?, ?it/s]"
      ]
     },
     "metadata": {},
     "output_type": "display_data"
    },
    {
     "data": {
      "application/vnd.jupyter.widget-view+json": {
       "model_id": "c6e6a134010f4f9f86518d6d82337fcf",
       "version_major": 2,
       "version_minor": 0
      },
      "text/plain": [
       "Validation: |          | 0/? [00:00<?, ?it/s]"
      ]
     },
     "metadata": {},
     "output_type": "display_data"
    },
    {
     "data": {
      "application/vnd.jupyter.widget-view+json": {
       "model_id": "e288d96a491b4214833316191990a38d",
       "version_major": 2,
       "version_minor": 0
      },
      "text/plain": [
       "Validation: |          | 0/? [00:00<?, ?it/s]"
      ]
     },
     "metadata": {},
     "output_type": "display_data"
    },
    {
     "data": {
      "application/vnd.jupyter.widget-view+json": {
       "model_id": "8703f37965904f0db73ac82655363363",
       "version_major": 2,
       "version_minor": 0
      },
      "text/plain": [
       "Validation: |          | 0/? [00:00<?, ?it/s]"
      ]
     },
     "metadata": {},
     "output_type": "display_data"
    },
    {
     "data": {
      "application/vnd.jupyter.widget-view+json": {
       "model_id": "3c212fb1e91a43b9b2db2a5f05b6ebce",
       "version_major": 2,
       "version_minor": 0
      },
      "text/plain": [
       "Validation: |          | 0/? [00:00<?, ?it/s]"
      ]
     },
     "metadata": {},
     "output_type": "display_data"
    },
    {
     "data": {
      "application/vnd.jupyter.widget-view+json": {
       "model_id": "680943df7f454a1e9560585bd10bc035",
       "version_major": 2,
       "version_minor": 0
      },
      "text/plain": [
       "Validation: |          | 0/? [00:00<?, ?it/s]"
      ]
     },
     "metadata": {},
     "output_type": "display_data"
    },
    {
     "data": {
      "application/vnd.jupyter.widget-view+json": {
       "model_id": "6bb73391fa0442c8919364764d3baa7f",
       "version_major": 2,
       "version_minor": 0
      },
      "text/plain": [
       "Validation: |          | 0/? [00:00<?, ?it/s]"
      ]
     },
     "metadata": {},
     "output_type": "display_data"
    },
    {
     "data": {
      "application/vnd.jupyter.widget-view+json": {
       "model_id": "a0e85a6ab5a643cbb9426fb47a5269e9",
       "version_major": 2,
       "version_minor": 0
      },
      "text/plain": [
       "Validation: |          | 0/? [00:00<?, ?it/s]"
      ]
     },
     "metadata": {},
     "output_type": "display_data"
    },
    {
     "data": {
      "application/vnd.jupyter.widget-view+json": {
       "model_id": "0ceb1d73e13e4463964dba240258d249",
       "version_major": 2,
       "version_minor": 0
      },
      "text/plain": [
       "Validation: |          | 0/? [00:00<?, ?it/s]"
      ]
     },
     "metadata": {},
     "output_type": "display_data"
    },
    {
     "data": {
      "application/vnd.jupyter.widget-view+json": {
       "model_id": "ce7f72aa077e47398f395de94b32da4d",
       "version_major": 2,
       "version_minor": 0
      },
      "text/plain": [
       "Validation: |          | 0/? [00:00<?, ?it/s]"
      ]
     },
     "metadata": {},
     "output_type": "display_data"
    },
    {
     "data": {
      "application/vnd.jupyter.widget-view+json": {
       "model_id": "30e93607bd2d4a1aa1bcc3754c3ae9ce",
       "version_major": 2,
       "version_minor": 0
      },
      "text/plain": [
       "Validation: |          | 0/? [00:00<?, ?it/s]"
      ]
     },
     "metadata": {},
     "output_type": "display_data"
    },
    {
     "data": {
      "application/vnd.jupyter.widget-view+json": {
       "model_id": "1147c372c3304d42a7200392bae6d18e",
       "version_major": 2,
       "version_minor": 0
      },
      "text/plain": [
       "Validation: |          | 0/? [00:00<?, ?it/s]"
      ]
     },
     "metadata": {},
     "output_type": "display_data"
    },
    {
     "data": {
      "application/vnd.jupyter.widget-view+json": {
       "model_id": "adf9c1aa93d5408992a0dbf6e822d743",
       "version_major": 2,
       "version_minor": 0
      },
      "text/plain": [
       "Validation: |          | 0/? [00:00<?, ?it/s]"
      ]
     },
     "metadata": {},
     "output_type": "display_data"
    },
    {
     "data": {
      "application/vnd.jupyter.widget-view+json": {
       "model_id": "990950de638e46e58f1006633028f9df",
       "version_major": 2,
       "version_minor": 0
      },
      "text/plain": [
       "Validation: |          | 0/? [00:00<?, ?it/s]"
      ]
     },
     "metadata": {},
     "output_type": "display_data"
    },
    {
     "data": {
      "application/vnd.jupyter.widget-view+json": {
       "model_id": "151987c764d5409c830d09e7bd0e80ca",
       "version_major": 2,
       "version_minor": 0
      },
      "text/plain": [
       "Validation: |          | 0/? [00:00<?, ?it/s]"
      ]
     },
     "metadata": {},
     "output_type": "display_data"
    },
    {
     "data": {
      "application/vnd.jupyter.widget-view+json": {
       "model_id": "38384bba4f4949b295d76ee9440f6522",
       "version_major": 2,
       "version_minor": 0
      },
      "text/plain": [
       "Validation: |          | 0/? [00:00<?, ?it/s]"
      ]
     },
     "metadata": {},
     "output_type": "display_data"
    },
    {
     "data": {
      "application/vnd.jupyter.widget-view+json": {
       "model_id": "2f9d22e3e7a54e02a20710880f1c255c",
       "version_major": 2,
       "version_minor": 0
      },
      "text/plain": [
       "Validation: |          | 0/? [00:00<?, ?it/s]"
      ]
     },
     "metadata": {},
     "output_type": "display_data"
    },
    {
     "data": {
      "application/vnd.jupyter.widget-view+json": {
       "model_id": "5c9bb765d05440118deb2bf6caa9bfca",
       "version_major": 2,
       "version_minor": 0
      },
      "text/plain": [
       "Validation: |          | 0/? [00:00<?, ?it/s]"
      ]
     },
     "metadata": {},
     "output_type": "display_data"
    },
    {
     "data": {
      "application/vnd.jupyter.widget-view+json": {
       "model_id": "d523f0c7c9154b3e9353b9433fa1a895",
       "version_major": 2,
       "version_minor": 0
      },
      "text/plain": [
       "Validation: |          | 0/? [00:00<?, ?it/s]"
      ]
     },
     "metadata": {},
     "output_type": "display_data"
    },
    {
     "data": {
      "application/vnd.jupyter.widget-view+json": {
       "model_id": "97f0b2d5d56f44daa22b3c12c45ab14b",
       "version_major": 2,
       "version_minor": 0
      },
      "text/plain": [
       "Validation: |          | 0/? [00:00<?, ?it/s]"
      ]
     },
     "metadata": {},
     "output_type": "display_data"
    },
    {
     "name": "stderr",
     "output_type": "stream",
     "text": [
      "LOCAL_RANK: 0 - CUDA_VISIBLE_DEVICES: [0]\n"
     ]
    },
    {
     "data": {
      "application/vnd.jupyter.widget-view+json": {
       "model_id": "1b106d4f6155488e9ceb6895d3266436",
       "version_major": 2,
       "version_minor": 0
      },
      "text/plain": [
       "Predicting: |          | 0/? [00:00<?, ?it/s]"
      ]
     },
     "metadata": {},
     "output_type": "display_data"
    },
    {
     "name": "stderr",
     "output_type": "stream",
     "text": [
      "GPU available: True (cuda), used: True\n",
      "TPU available: False, using: 0 TPU cores\n",
      "IPU available: False, using: 0 IPUs\n",
      "HPU available: False, using: 0 HPUs\n",
      "LOCAL_RANK: 0 - CUDA_VISIBLE_DEVICES: [0]\n",
      "\n",
      "  | Name | Type    | Params\n",
      "---------------------------------\n",
      "0 | rnn  | GRU     | 238 K \n",
      "1 | fc   | Linear  | 85    \n",
      "2 | loss | MSELoss | 0     \n",
      "---------------------------------\n",
      "238 K     Trainable params\n",
      "0         Non-trainable params\n",
      "238 K     Total params\n",
      "0.955     Total estimated model params size (MB)\n"
     ]
    },
    {
     "name": "stdout",
     "output_type": "stream",
     "text": [
      "Iteration: 3, Best Cost: 1.1455, Current Cost: 1.1455, Temperature: 8.5738\n"
     ]
    },
    {
     "data": {
      "application/vnd.jupyter.widget-view+json": {
       "model_id": "2506c67caf6c47e4aca49bff4fedae22",
       "version_major": 2,
       "version_minor": 0
      },
      "text/plain": [
       "Sanity Checking: |          | 0/? [00:00<?, ?it/s]"
      ]
     },
     "metadata": {},
     "output_type": "display_data"
    },
    {
     "data": {
      "application/vnd.jupyter.widget-view+json": {
       "model_id": "dc4c29823a0b4095b774b6fbaae1db08",
       "version_major": 2,
       "version_minor": 0
      },
      "text/plain": [
       "Training: |          | 0/? [00:00<?, ?it/s]"
      ]
     },
     "metadata": {},
     "output_type": "display_data"
    },
    {
     "data": {
      "application/vnd.jupyter.widget-view+json": {
       "model_id": "292fe27e371a42419f3faec4545948e1",
       "version_major": 2,
       "version_minor": 0
      },
      "text/plain": [
       "Validation: |          | 0/? [00:00<?, ?it/s]"
      ]
     },
     "metadata": {},
     "output_type": "display_data"
    },
    {
     "data": {
      "application/vnd.jupyter.widget-view+json": {
       "model_id": "a2cfc6c5049d43caae4012cf2f15e628",
       "version_major": 2,
       "version_minor": 0
      },
      "text/plain": [
       "Validation: |          | 0/? [00:00<?, ?it/s]"
      ]
     },
     "metadata": {},
     "output_type": "display_data"
    },
    {
     "data": {
      "application/vnd.jupyter.widget-view+json": {
       "model_id": "4cc2d22bfa084b9883ea551b8a253e52",
       "version_major": 2,
       "version_minor": 0
      },
      "text/plain": [
       "Validation: |          | 0/? [00:00<?, ?it/s]"
      ]
     },
     "metadata": {},
     "output_type": "display_data"
    },
    {
     "data": {
      "application/vnd.jupyter.widget-view+json": {
       "model_id": "af7358826fda48bf89c2a62206aaf4b0",
       "version_major": 2,
       "version_minor": 0
      },
      "text/plain": [
       "Validation: |          | 0/? [00:00<?, ?it/s]"
      ]
     },
     "metadata": {},
     "output_type": "display_data"
    },
    {
     "data": {
      "application/vnd.jupyter.widget-view+json": {
       "model_id": "b6b270cf2678459097c67ff6682efca7",
       "version_major": 2,
       "version_minor": 0
      },
      "text/plain": [
       "Validation: |          | 0/? [00:00<?, ?it/s]"
      ]
     },
     "metadata": {},
     "output_type": "display_data"
    },
    {
     "data": {
      "application/vnd.jupyter.widget-view+json": {
       "model_id": "2e204130716d4dadb6b45b8c429828bf",
       "version_major": 2,
       "version_minor": 0
      },
      "text/plain": [
       "Validation: |          | 0/? [00:00<?, ?it/s]"
      ]
     },
     "metadata": {},
     "output_type": "display_data"
    },
    {
     "data": {
      "application/vnd.jupyter.widget-view+json": {
       "model_id": "7ce3ab107146484ab554eca3fb3d3b43",
       "version_major": 2,
       "version_minor": 0
      },
      "text/plain": [
       "Validation: |          | 0/? [00:00<?, ?it/s]"
      ]
     },
     "metadata": {},
     "output_type": "display_data"
    },
    {
     "data": {
      "application/vnd.jupyter.widget-view+json": {
       "model_id": "9fb87ab9ca6c4a338928812b51b881fc",
       "version_major": 2,
       "version_minor": 0
      },
      "text/plain": [
       "Validation: |          | 0/? [00:00<?, ?it/s]"
      ]
     },
     "metadata": {},
     "output_type": "display_data"
    },
    {
     "data": {
      "application/vnd.jupyter.widget-view+json": {
       "model_id": "1d9ad373a50c4afdb0ca385f9575273b",
       "version_major": 2,
       "version_minor": 0
      },
      "text/plain": [
       "Validation: |          | 0/? [00:00<?, ?it/s]"
      ]
     },
     "metadata": {},
     "output_type": "display_data"
    },
    {
     "data": {
      "application/vnd.jupyter.widget-view+json": {
       "model_id": "487816f1f23c4e84bf52a1b906b5b8cd",
       "version_major": 2,
       "version_minor": 0
      },
      "text/plain": [
       "Validation: |          | 0/? [00:00<?, ?it/s]"
      ]
     },
     "metadata": {},
     "output_type": "display_data"
    },
    {
     "data": {
      "application/vnd.jupyter.widget-view+json": {
       "model_id": "b232ae97dbf0458fb90db34daa94a0fd",
       "version_major": 2,
       "version_minor": 0
      },
      "text/plain": [
       "Validation: |          | 0/? [00:00<?, ?it/s]"
      ]
     },
     "metadata": {},
     "output_type": "display_data"
    },
    {
     "data": {
      "application/vnd.jupyter.widget-view+json": {
       "model_id": "a2c55b92bc6d4771802fa32be962a597",
       "version_major": 2,
       "version_minor": 0
      },
      "text/plain": [
       "Validation: |          | 0/? [00:00<?, ?it/s]"
      ]
     },
     "metadata": {},
     "output_type": "display_data"
    },
    {
     "name": "stderr",
     "output_type": "stream",
     "text": [
      "LOCAL_RANK: 0 - CUDA_VISIBLE_DEVICES: [0]\n"
     ]
    },
    {
     "data": {
      "application/vnd.jupyter.widget-view+json": {
       "model_id": "1ecea8933dcd4727a121a805e432f7b1",
       "version_major": 2,
       "version_minor": 0
      },
      "text/plain": [
       "Predicting: |          | 0/? [00:00<?, ?it/s]"
      ]
     },
     "metadata": {},
     "output_type": "display_data"
    },
    {
     "name": "stderr",
     "output_type": "stream",
     "text": [
      "GPU available: True (cuda), used: True\n",
      "TPU available: False, using: 0 TPU cores\n",
      "IPU available: False, using: 0 IPUs\n",
      "HPU available: False, using: 0 HPUs\n",
      "LOCAL_RANK: 0 - CUDA_VISIBLE_DEVICES: [0]\n",
      "\n",
      "  | Name | Type    | Params\n",
      "---------------------------------\n",
      "0 | rnn  | RNN     | 55.4 K\n",
      "1 | fc   | Linear  | 34    \n",
      "2 | loss | MSELoss | 0     \n",
      "---------------------------------\n",
      "55.4 K    Trainable params\n",
      "0         Non-trainable params\n",
      "55.4 K    Total params\n",
      "0.222     Total estimated model params size (MB)\n"
     ]
    },
    {
     "name": "stdout",
     "output_type": "stream",
     "text": [
      "Iteration: 4, Best Cost: 0.9188, Current Cost: 0.9188, Temperature: 8.1451\n"
     ]
    },
    {
     "data": {
      "application/vnd.jupyter.widget-view+json": {
       "model_id": "60a6aaf314ec4efe8947b4dc88fad2f5",
       "version_major": 2,
       "version_minor": 0
      },
      "text/plain": [
       "Sanity Checking: |          | 0/? [00:00<?, ?it/s]"
      ]
     },
     "metadata": {},
     "output_type": "display_data"
    },
    {
     "data": {
      "application/vnd.jupyter.widget-view+json": {
       "model_id": "fe98d51132fc4d319d548eb2b0d2914f",
       "version_major": 2,
       "version_minor": 0
      },
      "text/plain": [
       "Training: |          | 0/? [00:00<?, ?it/s]"
      ]
     },
     "metadata": {},
     "output_type": "display_data"
    },
    {
     "data": {
      "application/vnd.jupyter.widget-view+json": {
       "model_id": "aea3fe5b56184905a3dc93e7f7748785",
       "version_major": 2,
       "version_minor": 0
      },
      "text/plain": [
       "Validation: |          | 0/? [00:00<?, ?it/s]"
      ]
     },
     "metadata": {},
     "output_type": "display_data"
    },
    {
     "data": {
      "application/vnd.jupyter.widget-view+json": {
       "model_id": "f06ab4e626b6403bbe122e49ab90365e",
       "version_major": 2,
       "version_minor": 0
      },
      "text/plain": [
       "Validation: |          | 0/? [00:00<?, ?it/s]"
      ]
     },
     "metadata": {},
     "output_type": "display_data"
    },
    {
     "data": {
      "application/vnd.jupyter.widget-view+json": {
       "model_id": "fb951684e7394c7a9d01d1cd3fab7d8f",
       "version_major": 2,
       "version_minor": 0
      },
      "text/plain": [
       "Validation: |          | 0/? [00:00<?, ?it/s]"
      ]
     },
     "metadata": {},
     "output_type": "display_data"
    },
    {
     "data": {
      "application/vnd.jupyter.widget-view+json": {
       "model_id": "d4216fbd56604f849b89ed3126d4962c",
       "version_major": 2,
       "version_minor": 0
      },
      "text/plain": [
       "Validation: |          | 0/? [00:00<?, ?it/s]"
      ]
     },
     "metadata": {},
     "output_type": "display_data"
    },
    {
     "data": {
      "application/vnd.jupyter.widget-view+json": {
       "model_id": "985de2232da543c6a23d6f8afb01dee5",
       "version_major": 2,
       "version_minor": 0
      },
      "text/plain": [
       "Validation: |          | 0/? [00:00<?, ?it/s]"
      ]
     },
     "metadata": {},
     "output_type": "display_data"
    },
    {
     "data": {
      "application/vnd.jupyter.widget-view+json": {
       "model_id": "139f67fcefa644038fd8c1501c6a440a",
       "version_major": 2,
       "version_minor": 0
      },
      "text/plain": [
       "Validation: |          | 0/? [00:00<?, ?it/s]"
      ]
     },
     "metadata": {},
     "output_type": "display_data"
    },
    {
     "data": {
      "application/vnd.jupyter.widget-view+json": {
       "model_id": "fe28b595ddc34578af04410fa07e332c",
       "version_major": 2,
       "version_minor": 0
      },
      "text/plain": [
       "Validation: |          | 0/? [00:00<?, ?it/s]"
      ]
     },
     "metadata": {},
     "output_type": "display_data"
    },
    {
     "data": {
      "application/vnd.jupyter.widget-view+json": {
       "model_id": "cfa897ceb1a741f2ad086a3e9e33891c",
       "version_major": 2,
       "version_minor": 0
      },
      "text/plain": [
       "Validation: |          | 0/? [00:00<?, ?it/s]"
      ]
     },
     "metadata": {},
     "output_type": "display_data"
    },
    {
     "data": {
      "application/vnd.jupyter.widget-view+json": {
       "model_id": "7fd6d7adb135437fa293641604309bef",
       "version_major": 2,
       "version_minor": 0
      },
      "text/plain": [
       "Validation: |          | 0/? [00:00<?, ?it/s]"
      ]
     },
     "metadata": {},
     "output_type": "display_data"
    },
    {
     "data": {
      "application/vnd.jupyter.widget-view+json": {
       "model_id": "d04b6c09afbd408ab9bd936412f2f63b",
       "version_major": 2,
       "version_minor": 0
      },
      "text/plain": [
       "Validation: |          | 0/? [00:00<?, ?it/s]"
      ]
     },
     "metadata": {},
     "output_type": "display_data"
    },
    {
     "data": {
      "application/vnd.jupyter.widget-view+json": {
       "model_id": "c335963fa98f458c953fa7bd8f97907b",
       "version_major": 2,
       "version_minor": 0
      },
      "text/plain": [
       "Validation: |          | 0/? [00:00<?, ?it/s]"
      ]
     },
     "metadata": {},
     "output_type": "display_data"
    },
    {
     "data": {
      "application/vnd.jupyter.widget-view+json": {
       "model_id": "a6017ced4c014e40b3e7035127ea7561",
       "version_major": 2,
       "version_minor": 0
      },
      "text/plain": [
       "Validation: |          | 0/? [00:00<?, ?it/s]"
      ]
     },
     "metadata": {},
     "output_type": "display_data"
    },
    {
     "data": {
      "application/vnd.jupyter.widget-view+json": {
       "model_id": "304314a785f74889b464259901e7fbdf",
       "version_major": 2,
       "version_minor": 0
      },
      "text/plain": [
       "Validation: |          | 0/? [00:00<?, ?it/s]"
      ]
     },
     "metadata": {},
     "output_type": "display_data"
    },
    {
     "data": {
      "application/vnd.jupyter.widget-view+json": {
       "model_id": "91d703496ad64b31a055ca27d8360fc9",
       "version_major": 2,
       "version_minor": 0
      },
      "text/plain": [
       "Validation: |          | 0/? [00:00<?, ?it/s]"
      ]
     },
     "metadata": {},
     "output_type": "display_data"
    },
    {
     "data": {
      "application/vnd.jupyter.widget-view+json": {
       "model_id": "650720b27ba44f8db47615614e80ba76",
       "version_major": 2,
       "version_minor": 0
      },
      "text/plain": [
       "Validation: |          | 0/? [00:00<?, ?it/s]"
      ]
     },
     "metadata": {},
     "output_type": "display_data"
    },
    {
     "data": {
      "application/vnd.jupyter.widget-view+json": {
       "model_id": "98f38f364809490988603de550c36bfd",
       "version_major": 2,
       "version_minor": 0
      },
      "text/plain": [
       "Validation: |          | 0/? [00:00<?, ?it/s]"
      ]
     },
     "metadata": {},
     "output_type": "display_data"
    },
    {
     "data": {
      "application/vnd.jupyter.widget-view+json": {
       "model_id": "1025fcd9999247c28136246b54410f5c",
       "version_major": 2,
       "version_minor": 0
      },
      "text/plain": [
       "Validation: |          | 0/? [00:00<?, ?it/s]"
      ]
     },
     "metadata": {},
     "output_type": "display_data"
    },
    {
     "data": {
      "application/vnd.jupyter.widget-view+json": {
       "model_id": "b4e31977cb5b4c609fc185689dc70c62",
       "version_major": 2,
       "version_minor": 0
      },
      "text/plain": [
       "Validation: |          | 0/? [00:00<?, ?it/s]"
      ]
     },
     "metadata": {},
     "output_type": "display_data"
    },
    {
     "data": {
      "application/vnd.jupyter.widget-view+json": {
       "model_id": "ee1ee9f680e94856bd4a0768e35c3ce4",
       "version_major": 2,
       "version_minor": 0
      },
      "text/plain": [
       "Validation: |          | 0/? [00:00<?, ?it/s]"
      ]
     },
     "metadata": {},
     "output_type": "display_data"
    },
    {
     "data": {
      "application/vnd.jupyter.widget-view+json": {
       "model_id": "25a0fc06cd5840f2a5e4791892ca381b",
       "version_major": 2,
       "version_minor": 0
      },
      "text/plain": [
       "Validation: |          | 0/? [00:00<?, ?it/s]"
      ]
     },
     "metadata": {},
     "output_type": "display_data"
    },
    {
     "data": {
      "application/vnd.jupyter.widget-view+json": {
       "model_id": "0c185c8d9925495c91415d326f885400",
       "version_major": 2,
       "version_minor": 0
      },
      "text/plain": [
       "Validation: |          | 0/? [00:00<?, ?it/s]"
      ]
     },
     "metadata": {},
     "output_type": "display_data"
    },
    {
     "data": {
      "application/vnd.jupyter.widget-view+json": {
       "model_id": "cdb3997c7b91441cb0aeedbc973c49cc",
       "version_major": 2,
       "version_minor": 0
      },
      "text/plain": [
       "Validation: |          | 0/? [00:00<?, ?it/s]"
      ]
     },
     "metadata": {},
     "output_type": "display_data"
    },
    {
     "data": {
      "application/vnd.jupyter.widget-view+json": {
       "model_id": "f8d1b207e4b143cf8591825dc0e64e31",
       "version_major": 2,
       "version_minor": 0
      },
      "text/plain": [
       "Validation: |          | 0/? [00:00<?, ?it/s]"
      ]
     },
     "metadata": {},
     "output_type": "display_data"
    },
    {
     "data": {
      "application/vnd.jupyter.widget-view+json": {
       "model_id": "4b366031d5a54436afcbe1a94b9c15e7",
       "version_major": 2,
       "version_minor": 0
      },
      "text/plain": [
       "Validation: |          | 0/? [00:00<?, ?it/s]"
      ]
     },
     "metadata": {},
     "output_type": "display_data"
    },
    {
     "data": {
      "application/vnd.jupyter.widget-view+json": {
       "model_id": "d45d225785f345799c915775436ca20e",
       "version_major": 2,
       "version_minor": 0
      },
      "text/plain": [
       "Validation: |          | 0/? [00:00<?, ?it/s]"
      ]
     },
     "metadata": {},
     "output_type": "display_data"
    },
    {
     "data": {
      "application/vnd.jupyter.widget-view+json": {
       "model_id": "bae01431daab402589c7ce4c0791d95f",
       "version_major": 2,
       "version_minor": 0
      },
      "text/plain": [
       "Validation: |          | 0/? [00:00<?, ?it/s]"
      ]
     },
     "metadata": {},
     "output_type": "display_data"
    },
    {
     "data": {
      "application/vnd.jupyter.widget-view+json": {
       "model_id": "3745f98e551146fb9c5e880eac0ef1da",
       "version_major": 2,
       "version_minor": 0
      },
      "text/plain": [
       "Validation: |          | 0/? [00:00<?, ?it/s]"
      ]
     },
     "metadata": {},
     "output_type": "display_data"
    },
    {
     "data": {
      "application/vnd.jupyter.widget-view+json": {
       "model_id": "96b2e9904cce40feb67a8b8e1633ddba",
       "version_major": 2,
       "version_minor": 0
      },
      "text/plain": [
       "Validation: |          | 0/? [00:00<?, ?it/s]"
      ]
     },
     "metadata": {},
     "output_type": "display_data"
    },
    {
     "data": {
      "application/vnd.jupyter.widget-view+json": {
       "model_id": "9555206387de495fbd8ab186e27fc5a1",
       "version_major": 2,
       "version_minor": 0
      },
      "text/plain": [
       "Validation: |          | 0/? [00:00<?, ?it/s]"
      ]
     },
     "metadata": {},
     "output_type": "display_data"
    },
    {
     "data": {
      "application/vnd.jupyter.widget-view+json": {
       "model_id": "2cca59c69e65413388c6763a04037588",
       "version_major": 2,
       "version_minor": 0
      },
      "text/plain": [
       "Validation: |          | 0/? [00:00<?, ?it/s]"
      ]
     },
     "metadata": {},
     "output_type": "display_data"
    },
    {
     "data": {
      "application/vnd.jupyter.widget-view+json": {
       "model_id": "de91534d1fdf439194ce772f83ee7537",
       "version_major": 2,
       "version_minor": 0
      },
      "text/plain": [
       "Validation: |          | 0/? [00:00<?, ?it/s]"
      ]
     },
     "metadata": {},
     "output_type": "display_data"
    },
    {
     "data": {
      "application/vnd.jupyter.widget-view+json": {
       "model_id": "2bf27f2a96c34651a50f1d30044a564c",
       "version_major": 2,
       "version_minor": 0
      },
      "text/plain": [
       "Validation: |          | 0/? [00:00<?, ?it/s]"
      ]
     },
     "metadata": {},
     "output_type": "display_data"
    },
    {
     "data": {
      "application/vnd.jupyter.widget-view+json": {
       "model_id": "4559dcfbc1ea43ab906fedeedff3beaf",
       "version_major": 2,
       "version_minor": 0
      },
      "text/plain": [
       "Validation: |          | 0/? [00:00<?, ?it/s]"
      ]
     },
     "metadata": {},
     "output_type": "display_data"
    },
    {
     "data": {
      "application/vnd.jupyter.widget-view+json": {
       "model_id": "8b24bdcb0ee34d3986a66dfccf0ec775",
       "version_major": 2,
       "version_minor": 0
      },
      "text/plain": [
       "Validation: |          | 0/? [00:00<?, ?it/s]"
      ]
     },
     "metadata": {},
     "output_type": "display_data"
    },
    {
     "data": {
      "application/vnd.jupyter.widget-view+json": {
       "model_id": "9bb9a5e181ed443a8e87dfc6b720fd38",
       "version_major": 2,
       "version_minor": 0
      },
      "text/plain": [
       "Validation: |          | 0/? [00:00<?, ?it/s]"
      ]
     },
     "metadata": {},
     "output_type": "display_data"
    },
    {
     "data": {
      "application/vnd.jupyter.widget-view+json": {
       "model_id": "48ec80adb1914c07853dd75d0bb585ae",
       "version_major": 2,
       "version_minor": 0
      },
      "text/plain": [
       "Validation: |          | 0/? [00:00<?, ?it/s]"
      ]
     },
     "metadata": {},
     "output_type": "display_data"
    },
    {
     "data": {
      "application/vnd.jupyter.widget-view+json": {
       "model_id": "afb347bfbc394d87a575e4a6c68407d7",
       "version_major": 2,
       "version_minor": 0
      },
      "text/plain": [
       "Validation: |          | 0/? [00:00<?, ?it/s]"
      ]
     },
     "metadata": {},
     "output_type": "display_data"
    },
    {
     "name": "stderr",
     "output_type": "stream",
     "text": [
      "LOCAL_RANK: 0 - CUDA_VISIBLE_DEVICES: [0]\n"
     ]
    },
    {
     "data": {
      "application/vnd.jupyter.widget-view+json": {
       "model_id": "eefb017510014e2e911b93337d777d67",
       "version_major": 2,
       "version_minor": 0
      },
      "text/plain": [
       "Predicting: |          | 0/? [00:00<?, ?it/s]"
      ]
     },
     "metadata": {},
     "output_type": "display_data"
    },
    {
     "name": "stderr",
     "output_type": "stream",
     "text": [
      "GPU available: True (cuda), used: True\n",
      "TPU available: False, using: 0 TPU cores\n",
      "IPU available: False, using: 0 IPUs\n",
      "HPU available: False, using: 0 HPUs\n",
      "LOCAL_RANK: 0 - CUDA_VISIBLE_DEVICES: [0]\n",
      "\n",
      "  | Name | Type    | Params\n",
      "---------------------------------\n",
      "0 | rnn  | LSTM    | 7.1 M \n",
      "1 | fc   | Linear  | 241   \n",
      "2 | loss | MSELoss | 0     \n",
      "---------------------------------\n",
      "7.1 M     Trainable params\n",
      "0         Non-trainable params\n",
      "7.1 M     Total params\n",
      "28.313    Total estimated model params size (MB)\n"
     ]
    },
    {
     "name": "stdout",
     "output_type": "stream",
     "text": [
      "Iteration: 5, Best Cost: 0.9188, Current Cost: 2.2231, Temperature: 7.7378\n"
     ]
    },
    {
     "data": {
      "application/vnd.jupyter.widget-view+json": {
       "model_id": "e7b5cf6ca3d54948aea93f30a6e316c8",
       "version_major": 2,
       "version_minor": 0
      },
      "text/plain": [
       "Sanity Checking: |          | 0/? [00:00<?, ?it/s]"
      ]
     },
     "metadata": {},
     "output_type": "display_data"
    },
    {
     "data": {
      "application/vnd.jupyter.widget-view+json": {
       "model_id": "85b226eda2174bd89a571fc8a4f3fde8",
       "version_major": 2,
       "version_minor": 0
      },
      "text/plain": [
       "Training: |          | 0/? [00:00<?, ?it/s]"
      ]
     },
     "metadata": {},
     "output_type": "display_data"
    },
    {
     "data": {
      "application/vnd.jupyter.widget-view+json": {
       "model_id": "608132b0d64440dd94a3634f6900f6ce",
       "version_major": 2,
       "version_minor": 0
      },
      "text/plain": [
       "Validation: |          | 0/? [00:00<?, ?it/s]"
      ]
     },
     "metadata": {},
     "output_type": "display_data"
    },
    {
     "data": {
      "application/vnd.jupyter.widget-view+json": {
       "model_id": "8825d26755ec4efc8888a22738f34fc8",
       "version_major": 2,
       "version_minor": 0
      },
      "text/plain": [
       "Validation: |          | 0/? [00:00<?, ?it/s]"
      ]
     },
     "metadata": {},
     "output_type": "display_data"
    },
    {
     "data": {
      "application/vnd.jupyter.widget-view+json": {
       "model_id": "a93aeb77fcd64d6ca0366ad37aeaa561",
       "version_major": 2,
       "version_minor": 0
      },
      "text/plain": [
       "Validation: |          | 0/? [00:00<?, ?it/s]"
      ]
     },
     "metadata": {},
     "output_type": "display_data"
    },
    {
     "data": {
      "application/vnd.jupyter.widget-view+json": {
       "model_id": "4741e54913fb4bd799e73bd954ff8365",
       "version_major": 2,
       "version_minor": 0
      },
      "text/plain": [
       "Validation: |          | 0/? [00:00<?, ?it/s]"
      ]
     },
     "metadata": {},
     "output_type": "display_data"
    },
    {
     "data": {
      "application/vnd.jupyter.widget-view+json": {
       "model_id": "a79d303316e44f26815124bcdcb2cc57",
       "version_major": 2,
       "version_minor": 0
      },
      "text/plain": [
       "Validation: |          | 0/? [00:00<?, ?it/s]"
      ]
     },
     "metadata": {},
     "output_type": "display_data"
    },
    {
     "data": {
      "application/vnd.jupyter.widget-view+json": {
       "model_id": "525c2ace21c94ff09492e94fbe1ed735",
       "version_major": 2,
       "version_minor": 0
      },
      "text/plain": [
       "Validation: |          | 0/? [00:00<?, ?it/s]"
      ]
     },
     "metadata": {},
     "output_type": "display_data"
    },
    {
     "data": {
      "application/vnd.jupyter.widget-view+json": {
       "model_id": "6752efa349874cd79a3e094f963d9428",
       "version_major": 2,
       "version_minor": 0
      },
      "text/plain": [
       "Validation: |          | 0/? [00:00<?, ?it/s]"
      ]
     },
     "metadata": {},
     "output_type": "display_data"
    },
    {
     "data": {
      "application/vnd.jupyter.widget-view+json": {
       "model_id": "c842c772094d45f2b26821f7ba5d9a60",
       "version_major": 2,
       "version_minor": 0
      },
      "text/plain": [
       "Validation: |          | 0/? [00:00<?, ?it/s]"
      ]
     },
     "metadata": {},
     "output_type": "display_data"
    },
    {
     "data": {
      "application/vnd.jupyter.widget-view+json": {
       "model_id": "2ebd9c1a7e094a24816af2b7d2841f16",
       "version_major": 2,
       "version_minor": 0
      },
      "text/plain": [
       "Validation: |          | 0/? [00:00<?, ?it/s]"
      ]
     },
     "metadata": {},
     "output_type": "display_data"
    },
    {
     "data": {
      "application/vnd.jupyter.widget-view+json": {
       "model_id": "bebceb7ac18a47dd861d7ced198c6876",
       "version_major": 2,
       "version_minor": 0
      },
      "text/plain": [
       "Validation: |          | 0/? [00:00<?, ?it/s]"
      ]
     },
     "metadata": {},
     "output_type": "display_data"
    },
    {
     "data": {
      "application/vnd.jupyter.widget-view+json": {
       "model_id": "8bed09e1cfb44f98be674980b575bcad",
       "version_major": 2,
       "version_minor": 0
      },
      "text/plain": [
       "Validation: |          | 0/? [00:00<?, ?it/s]"
      ]
     },
     "metadata": {},
     "output_type": "display_data"
    },
    {
     "data": {
      "application/vnd.jupyter.widget-view+json": {
       "model_id": "b1a465e6bc7b47ae8f5845957ccb9942",
       "version_major": 2,
       "version_minor": 0
      },
      "text/plain": [
       "Validation: |          | 0/? [00:00<?, ?it/s]"
      ]
     },
     "metadata": {},
     "output_type": "display_data"
    },
    {
     "data": {
      "application/vnd.jupyter.widget-view+json": {
       "model_id": "ea31eed688164f74aa93f500ccf0905e",
       "version_major": 2,
       "version_minor": 0
      },
      "text/plain": [
       "Validation: |          | 0/? [00:00<?, ?it/s]"
      ]
     },
     "metadata": {},
     "output_type": "display_data"
    },
    {
     "data": {
      "application/vnd.jupyter.widget-view+json": {
       "model_id": "bd2939bb4b4b40e383d385434fdd6900",
       "version_major": 2,
       "version_minor": 0
      },
      "text/plain": [
       "Validation: |          | 0/? [00:00<?, ?it/s]"
      ]
     },
     "metadata": {},
     "output_type": "display_data"
    },
    {
     "data": {
      "application/vnd.jupyter.widget-view+json": {
       "model_id": "891ef80ca9764383bbf8b18a9b1acc80",
       "version_major": 2,
       "version_minor": 0
      },
      "text/plain": [
       "Validation: |          | 0/? [00:00<?, ?it/s]"
      ]
     },
     "metadata": {},
     "output_type": "display_data"
    },
    {
     "data": {
      "application/vnd.jupyter.widget-view+json": {
       "model_id": "f836c4524838407ab24249299eb92ab6",
       "version_major": 2,
       "version_minor": 0
      },
      "text/plain": [
       "Validation: |          | 0/? [00:00<?, ?it/s]"
      ]
     },
     "metadata": {},
     "output_type": "display_data"
    },
    {
     "data": {
      "application/vnd.jupyter.widget-view+json": {
       "model_id": "7caec9e3fe874e408173a5f52689a910",
       "version_major": 2,
       "version_minor": 0
      },
      "text/plain": [
       "Validation: |          | 0/? [00:00<?, ?it/s]"
      ]
     },
     "metadata": {},
     "output_type": "display_data"
    },
    {
     "name": "stderr",
     "output_type": "stream",
     "text": [
      "LOCAL_RANK: 0 - CUDA_VISIBLE_DEVICES: [0]\n"
     ]
    },
    {
     "data": {
      "application/vnd.jupyter.widget-view+json": {
       "model_id": "ca777c25f7b5473090825856d4153c24",
       "version_major": 2,
       "version_minor": 0
      },
      "text/plain": [
       "Predicting: |          | 0/? [00:00<?, ?it/s]"
      ]
     },
     "metadata": {},
     "output_type": "display_data"
    },
    {
     "name": "stderr",
     "output_type": "stream",
     "text": [
      "GPU available: True (cuda), used: True\n",
      "TPU available: False, using: 0 TPU cores\n",
      "IPU available: False, using: 0 IPUs\n",
      "HPU available: False, using: 0 HPUs\n",
      "LOCAL_RANK: 0 - CUDA_VISIBLE_DEVICES: [0]\n",
      "\n",
      "  | Name | Type    | Params\n",
      "---------------------------------\n",
      "0 | rnn  | LSTM    | 2.4 M \n",
      "1 | fc   | Linear  | 124   \n",
      "2 | loss | MSELoss | 0     \n",
      "---------------------------------\n",
      "2.4 M     Trainable params\n",
      "0         Non-trainable params\n",
      "2.4 M     Total params\n",
      "9.541     Total estimated model params size (MB)\n"
     ]
    },
    {
     "name": "stdout",
     "output_type": "stream",
     "text": [
      "Iteration: 6, Best Cost: 0.9188, Current Cost: 5.3861, Temperature: 7.3509\n"
     ]
    },
    {
     "data": {
      "application/vnd.jupyter.widget-view+json": {
       "model_id": "92067df29eb24ca083dde6d3c0913965",
       "version_major": 2,
       "version_minor": 0
      },
      "text/plain": [
       "Sanity Checking: |          | 0/? [00:00<?, ?it/s]"
      ]
     },
     "metadata": {},
     "output_type": "display_data"
    },
    {
     "data": {
      "application/vnd.jupyter.widget-view+json": {
       "model_id": "251c790f19c34427b1130edabdccc222",
       "version_major": 2,
       "version_minor": 0
      },
      "text/plain": [
       "Training: |          | 0/? [00:00<?, ?it/s]"
      ]
     },
     "metadata": {},
     "output_type": "display_data"
    },
    {
     "data": {
      "application/vnd.jupyter.widget-view+json": {
       "model_id": "573200b5384e400987d03b2c36006a9a",
       "version_major": 2,
       "version_minor": 0
      },
      "text/plain": [
       "Validation: |          | 0/? [00:00<?, ?it/s]"
      ]
     },
     "metadata": {},
     "output_type": "display_data"
    },
    {
     "data": {
      "application/vnd.jupyter.widget-view+json": {
       "model_id": "1f4ae69ffb754b7987aa0fb344712f14",
       "version_major": 2,
       "version_minor": 0
      },
      "text/plain": [
       "Validation: |          | 0/? [00:00<?, ?it/s]"
      ]
     },
     "metadata": {},
     "output_type": "display_data"
    },
    {
     "data": {
      "application/vnd.jupyter.widget-view+json": {
       "model_id": "13bacd8ad03443cda8f29e58344deee6",
       "version_major": 2,
       "version_minor": 0
      },
      "text/plain": [
       "Validation: |          | 0/? [00:00<?, ?it/s]"
      ]
     },
     "metadata": {},
     "output_type": "display_data"
    },
    {
     "data": {
      "application/vnd.jupyter.widget-view+json": {
       "model_id": "4a7c06b1c38c499393b2192ef165ba53",
       "version_major": 2,
       "version_minor": 0
      },
      "text/plain": [
       "Validation: |          | 0/? [00:00<?, ?it/s]"
      ]
     },
     "metadata": {},
     "output_type": "display_data"
    },
    {
     "data": {
      "application/vnd.jupyter.widget-view+json": {
       "model_id": "8ea76a8b95004cd5a14058c271f7eafc",
       "version_major": 2,
       "version_minor": 0
      },
      "text/plain": [
       "Validation: |          | 0/? [00:00<?, ?it/s]"
      ]
     },
     "metadata": {},
     "output_type": "display_data"
    },
    {
     "data": {
      "application/vnd.jupyter.widget-view+json": {
       "model_id": "f154ac4730d74bd383e5d463940bdd83",
       "version_major": 2,
       "version_minor": 0
      },
      "text/plain": [
       "Validation: |          | 0/? [00:00<?, ?it/s]"
      ]
     },
     "metadata": {},
     "output_type": "display_data"
    },
    {
     "data": {
      "application/vnd.jupyter.widget-view+json": {
       "model_id": "5806aadfad8242d48036d1d93699ff4e",
       "version_major": 2,
       "version_minor": 0
      },
      "text/plain": [
       "Validation: |          | 0/? [00:00<?, ?it/s]"
      ]
     },
     "metadata": {},
     "output_type": "display_data"
    },
    {
     "data": {
      "application/vnd.jupyter.widget-view+json": {
       "model_id": "9fe8626bd914460f8aca67fd0f4b348a",
       "version_major": 2,
       "version_minor": 0
      },
      "text/plain": [
       "Validation: |          | 0/? [00:00<?, ?it/s]"
      ]
     },
     "metadata": {},
     "output_type": "display_data"
    },
    {
     "data": {
      "application/vnd.jupyter.widget-view+json": {
       "model_id": "151fd9ff43bd4d9694959a0ad2f50721",
       "version_major": 2,
       "version_minor": 0
      },
      "text/plain": [
       "Validation: |          | 0/? [00:00<?, ?it/s]"
      ]
     },
     "metadata": {},
     "output_type": "display_data"
    },
    {
     "data": {
      "application/vnd.jupyter.widget-view+json": {
       "model_id": "a76391b9a86a411bb1d007af9e1f2aad",
       "version_major": 2,
       "version_minor": 0
      },
      "text/plain": [
       "Validation: |          | 0/? [00:00<?, ?it/s]"
      ]
     },
     "metadata": {},
     "output_type": "display_data"
    },
    {
     "data": {
      "application/vnd.jupyter.widget-view+json": {
       "model_id": "02b735d5003646428da0acada10faa89",
       "version_major": 2,
       "version_minor": 0
      },
      "text/plain": [
       "Validation: |          | 0/? [00:00<?, ?it/s]"
      ]
     },
     "metadata": {},
     "output_type": "display_data"
    },
    {
     "data": {
      "application/vnd.jupyter.widget-view+json": {
       "model_id": "485260f8b0bd483ab5aae8786e2c8515",
       "version_major": 2,
       "version_minor": 0
      },
      "text/plain": [
       "Validation: |          | 0/? [00:00<?, ?it/s]"
      ]
     },
     "metadata": {},
     "output_type": "display_data"
    },
    {
     "data": {
      "application/vnd.jupyter.widget-view+json": {
       "model_id": "f7dee0d2cdc24b5baddd9cec60cd7fc5",
       "version_major": 2,
       "version_minor": 0
      },
      "text/plain": [
       "Validation: |          | 0/? [00:00<?, ?it/s]"
      ]
     },
     "metadata": {},
     "output_type": "display_data"
    },
    {
     "data": {
      "application/vnd.jupyter.widget-view+json": {
       "model_id": "babf6af2648d43bdb6b2ce84019c8ec8",
       "version_major": 2,
       "version_minor": 0
      },
      "text/plain": [
       "Validation: |          | 0/? [00:00<?, ?it/s]"
      ]
     },
     "metadata": {},
     "output_type": "display_data"
    },
    {
     "name": "stderr",
     "output_type": "stream",
     "text": [
      "LOCAL_RANK: 0 - CUDA_VISIBLE_DEVICES: [0]\n"
     ]
    },
    {
     "data": {
      "application/vnd.jupyter.widget-view+json": {
       "model_id": "bbe7e8af77b847cab16d281d03d067e0",
       "version_major": 2,
       "version_minor": 0
      },
      "text/plain": [
       "Predicting: |          | 0/? [00:00<?, ?it/s]"
      ]
     },
     "metadata": {},
     "output_type": "display_data"
    },
    {
     "name": "stderr",
     "output_type": "stream",
     "text": [
      "GPU available: True (cuda), used: True\n",
      "TPU available: False, using: 0 TPU cores\n",
      "IPU available: False, using: 0 IPUs\n",
      "HPU available: False, using: 0 HPUs\n",
      "LOCAL_RANK: 0 - CUDA_VISIBLE_DEVICES: [0]\n",
      "\n",
      "  | Name | Type    | Params\n",
      "---------------------------------\n",
      "0 | rnn  | GRU     | 2.9 M \n",
      "1 | fc   | Linear  | 187   \n",
      "2 | loss | MSELoss | 0     \n",
      "---------------------------------\n",
      "2.9 M     Trainable params\n",
      "0         Non-trainable params\n",
      "2.9 M     Total params\n",
      "11.527    Total estimated model params size (MB)\n"
     ]
    },
    {
     "name": "stdout",
     "output_type": "stream",
     "text": [
      "Iteration: 7, Best Cost: 0.9188, Current Cost: 2.4167, Temperature: 6.9834\n"
     ]
    },
    {
     "data": {
      "application/vnd.jupyter.widget-view+json": {
       "model_id": "a4f2b315d5ae42f49de46207ffbbb5e2",
       "version_major": 2,
       "version_minor": 0
      },
      "text/plain": [
       "Sanity Checking: |          | 0/? [00:00<?, ?it/s]"
      ]
     },
     "metadata": {},
     "output_type": "display_data"
    },
    {
     "data": {
      "application/vnd.jupyter.widget-view+json": {
       "model_id": "f6ec2ae1495d44f9b1c4693b58da4c3d",
       "version_major": 2,
       "version_minor": 0
      },
      "text/plain": [
       "Training: |          | 0/? [00:00<?, ?it/s]"
      ]
     },
     "metadata": {},
     "output_type": "display_data"
    },
    {
     "data": {
      "application/vnd.jupyter.widget-view+json": {
       "model_id": "2941706d98284c549d7c7642cd1fe3bb",
       "version_major": 2,
       "version_minor": 0
      },
      "text/plain": [
       "Validation: |          | 0/? [00:00<?, ?it/s]"
      ]
     },
     "metadata": {},
     "output_type": "display_data"
    },
    {
     "data": {
      "application/vnd.jupyter.widget-view+json": {
       "model_id": "c5fc40cdc65540f6a43669d1f568ad51",
       "version_major": 2,
       "version_minor": 0
      },
      "text/plain": [
       "Validation: |          | 0/? [00:00<?, ?it/s]"
      ]
     },
     "metadata": {},
     "output_type": "display_data"
    },
    {
     "data": {
      "application/vnd.jupyter.widget-view+json": {
       "model_id": "8a76a30560f443108868646fdd950588",
       "version_major": 2,
       "version_minor": 0
      },
      "text/plain": [
       "Validation: |          | 0/? [00:00<?, ?it/s]"
      ]
     },
     "metadata": {},
     "output_type": "display_data"
    },
    {
     "data": {
      "application/vnd.jupyter.widget-view+json": {
       "model_id": "59533554810e4b2b8569754c5050b4a1",
       "version_major": 2,
       "version_minor": 0
      },
      "text/plain": [
       "Validation: |          | 0/? [00:00<?, ?it/s]"
      ]
     },
     "metadata": {},
     "output_type": "display_data"
    },
    {
     "data": {
      "application/vnd.jupyter.widget-view+json": {
       "model_id": "368628c604504cccb19438682b678893",
       "version_major": 2,
       "version_minor": 0
      },
      "text/plain": [
       "Validation: |          | 0/? [00:00<?, ?it/s]"
      ]
     },
     "metadata": {},
     "output_type": "display_data"
    },
    {
     "data": {
      "application/vnd.jupyter.widget-view+json": {
       "model_id": "235b5fad0fea4932bb4987cad80bf1d1",
       "version_major": 2,
       "version_minor": 0
      },
      "text/plain": [
       "Validation: |          | 0/? [00:00<?, ?it/s]"
      ]
     },
     "metadata": {},
     "output_type": "display_data"
    },
    {
     "data": {
      "application/vnd.jupyter.widget-view+json": {
       "model_id": "224db45e14db43c38da7522859dab3bf",
       "version_major": 2,
       "version_minor": 0
      },
      "text/plain": [
       "Validation: |          | 0/? [00:00<?, ?it/s]"
      ]
     },
     "metadata": {},
     "output_type": "display_data"
    },
    {
     "data": {
      "application/vnd.jupyter.widget-view+json": {
       "model_id": "03b7d4ee63fe48eaa54cc78d0e9ea363",
       "version_major": 2,
       "version_minor": 0
      },
      "text/plain": [
       "Validation: |          | 0/? [00:00<?, ?it/s]"
      ]
     },
     "metadata": {},
     "output_type": "display_data"
    },
    {
     "data": {
      "application/vnd.jupyter.widget-view+json": {
       "model_id": "2ac2ed1cb52c49d8a5d862489273f759",
       "version_major": 2,
       "version_minor": 0
      },
      "text/plain": [
       "Validation: |          | 0/? [00:00<?, ?it/s]"
      ]
     },
     "metadata": {},
     "output_type": "display_data"
    },
    {
     "data": {
      "application/vnd.jupyter.widget-view+json": {
       "model_id": "e51dfb6d1af544abbbc019d839988e77",
       "version_major": 2,
       "version_minor": 0
      },
      "text/plain": [
       "Validation: |          | 0/? [00:00<?, ?it/s]"
      ]
     },
     "metadata": {},
     "output_type": "display_data"
    },
    {
     "data": {
      "application/vnd.jupyter.widget-view+json": {
       "model_id": "e8de4f4677984e7faf0a4727cebba5a7",
       "version_major": 2,
       "version_minor": 0
      },
      "text/plain": [
       "Validation: |          | 0/? [00:00<?, ?it/s]"
      ]
     },
     "metadata": {},
     "output_type": "display_data"
    },
    {
     "data": {
      "application/vnd.jupyter.widget-view+json": {
       "model_id": "e3e032f57d4a4464be4bbbf02e1a8754",
       "version_major": 2,
       "version_minor": 0
      },
      "text/plain": [
       "Validation: |          | 0/? [00:00<?, ?it/s]"
      ]
     },
     "metadata": {},
     "output_type": "display_data"
    },
    {
     "data": {
      "application/vnd.jupyter.widget-view+json": {
       "model_id": "66c1862be0ac41e2814aea6fb39f1f4f",
       "version_major": 2,
       "version_minor": 0
      },
      "text/plain": [
       "Validation: |          | 0/? [00:00<?, ?it/s]"
      ]
     },
     "metadata": {},
     "output_type": "display_data"
    },
    {
     "data": {
      "application/vnd.jupyter.widget-view+json": {
       "model_id": "1e7f138c63b84163a6938e9201b8369a",
       "version_major": 2,
       "version_minor": 0
      },
      "text/plain": [
       "Validation: |          | 0/? [00:00<?, ?it/s]"
      ]
     },
     "metadata": {},
     "output_type": "display_data"
    },
    {
     "data": {
      "application/vnd.jupyter.widget-view+json": {
       "model_id": "018e14077af34c4f97fd1e2f19b048a6",
       "version_major": 2,
       "version_minor": 0
      },
      "text/plain": [
       "Validation: |          | 0/? [00:00<?, ?it/s]"
      ]
     },
     "metadata": {},
     "output_type": "display_data"
    },
    {
     "data": {
      "application/vnd.jupyter.widget-view+json": {
       "model_id": "ef2b1b908d1e4156ae86e36a5422d971",
       "version_major": 2,
       "version_minor": 0
      },
      "text/plain": [
       "Validation: |          | 0/? [00:00<?, ?it/s]"
      ]
     },
     "metadata": {},
     "output_type": "display_data"
    },
    {
     "data": {
      "application/vnd.jupyter.widget-view+json": {
       "model_id": "6e4cfe348946425abf0fe80721ecd770",
       "version_major": 2,
       "version_minor": 0
      },
      "text/plain": [
       "Validation: |          | 0/? [00:00<?, ?it/s]"
      ]
     },
     "metadata": {},
     "output_type": "display_data"
    },
    {
     "data": {
      "application/vnd.jupyter.widget-view+json": {
       "model_id": "677588242f434373b12fbc133f6af6bd",
       "version_major": 2,
       "version_minor": 0
      },
      "text/plain": [
       "Validation: |          | 0/? [00:00<?, ?it/s]"
      ]
     },
     "metadata": {},
     "output_type": "display_data"
    },
    {
     "data": {
      "application/vnd.jupyter.widget-view+json": {
       "model_id": "a1d24692db42456788c93e217ca09420",
       "version_major": 2,
       "version_minor": 0
      },
      "text/plain": [
       "Validation: |          | 0/? [00:00<?, ?it/s]"
      ]
     },
     "metadata": {},
     "output_type": "display_data"
    },
    {
     "data": {
      "application/vnd.jupyter.widget-view+json": {
       "model_id": "eff2e1bbb09b4e08b95b5b9172a0c027",
       "version_major": 2,
       "version_minor": 0
      },
      "text/plain": [
       "Validation: |          | 0/? [00:00<?, ?it/s]"
      ]
     },
     "metadata": {},
     "output_type": "display_data"
    },
    {
     "data": {
      "application/vnd.jupyter.widget-view+json": {
       "model_id": "3118a969c923499cae0c952943b520a6",
       "version_major": 2,
       "version_minor": 0
      },
      "text/plain": [
       "Validation: |          | 0/? [00:00<?, ?it/s]"
      ]
     },
     "metadata": {},
     "output_type": "display_data"
    },
    {
     "data": {
      "application/vnd.jupyter.widget-view+json": {
       "model_id": "86415bf944524b0bba7a72953da89014",
       "version_major": 2,
       "version_minor": 0
      },
      "text/plain": [
       "Validation: |          | 0/? [00:00<?, ?it/s]"
      ]
     },
     "metadata": {},
     "output_type": "display_data"
    },
    {
     "data": {
      "application/vnd.jupyter.widget-view+json": {
       "model_id": "0cd2aeefb7c945788d591b881558e452",
       "version_major": 2,
       "version_minor": 0
      },
      "text/plain": [
       "Validation: |          | 0/? [00:00<?, ?it/s]"
      ]
     },
     "metadata": {},
     "output_type": "display_data"
    },
    {
     "data": {
      "application/vnd.jupyter.widget-view+json": {
       "model_id": "869ac42f5aa443498128c107df85d201",
       "version_major": 2,
       "version_minor": 0
      },
      "text/plain": [
       "Validation: |          | 0/? [00:00<?, ?it/s]"
      ]
     },
     "metadata": {},
     "output_type": "display_data"
    },
    {
     "data": {
      "application/vnd.jupyter.widget-view+json": {
       "model_id": "604b41c8550243ea92a9e161960b55c7",
       "version_major": 2,
       "version_minor": 0
      },
      "text/plain": [
       "Validation: |          | 0/? [00:00<?, ?it/s]"
      ]
     },
     "metadata": {},
     "output_type": "display_data"
    },
    {
     "data": {
      "application/vnd.jupyter.widget-view+json": {
       "model_id": "c65d575cfe6d4871972e6dcf73c876d4",
       "version_major": 2,
       "version_minor": 0
      },
      "text/plain": [
       "Validation: |          | 0/? [00:00<?, ?it/s]"
      ]
     },
     "metadata": {},
     "output_type": "display_data"
    },
    {
     "data": {
      "application/vnd.jupyter.widget-view+json": {
       "model_id": "4fd04bd59e1f41a7a38cecc6a983a065",
       "version_major": 2,
       "version_minor": 0
      },
      "text/plain": [
       "Validation: |          | 0/? [00:00<?, ?it/s]"
      ]
     },
     "metadata": {},
     "output_type": "display_data"
    },
    {
     "data": {
      "application/vnd.jupyter.widget-view+json": {
       "model_id": "4ac0703b4d0e42bcbef6307bae75807f",
       "version_major": 2,
       "version_minor": 0
      },
      "text/plain": [
       "Validation: |          | 0/? [00:00<?, ?it/s]"
      ]
     },
     "metadata": {},
     "output_type": "display_data"
    },
    {
     "data": {
      "application/vnd.jupyter.widget-view+json": {
       "model_id": "c49c04e968ea40529b55c36cfa4bb505",
       "version_major": 2,
       "version_minor": 0
      },
      "text/plain": [
       "Validation: |          | 0/? [00:00<?, ?it/s]"
      ]
     },
     "metadata": {},
     "output_type": "display_data"
    },
    {
     "data": {
      "application/vnd.jupyter.widget-view+json": {
       "model_id": "134fa19efa0a44638dd7e7af942c5841",
       "version_major": 2,
       "version_minor": 0
      },
      "text/plain": [
       "Validation: |          | 0/? [00:00<?, ?it/s]"
      ]
     },
     "metadata": {},
     "output_type": "display_data"
    },
    {
     "data": {
      "application/vnd.jupyter.widget-view+json": {
       "model_id": "dd053d73840c445f80a2d89c11c8632a",
       "version_major": 2,
       "version_minor": 0
      },
      "text/plain": [
       "Validation: |          | 0/? [00:00<?, ?it/s]"
      ]
     },
     "metadata": {},
     "output_type": "display_data"
    },
    {
     "data": {
      "application/vnd.jupyter.widget-view+json": {
       "model_id": "0c262e18c3a6469c9a52efef286725a2",
       "version_major": 2,
       "version_minor": 0
      },
      "text/plain": [
       "Validation: |          | 0/? [00:00<?, ?it/s]"
      ]
     },
     "metadata": {},
     "output_type": "display_data"
    },
    {
     "data": {
      "application/vnd.jupyter.widget-view+json": {
       "model_id": "a43d58b8013444a8821d5cd87a5076c6",
       "version_major": 2,
       "version_minor": 0
      },
      "text/plain": [
       "Validation: |          | 0/? [00:00<?, ?it/s]"
      ]
     },
     "metadata": {},
     "output_type": "display_data"
    },
    {
     "data": {
      "application/vnd.jupyter.widget-view+json": {
       "model_id": "c5999e7cde5b49999830a4a37b1996cb",
       "version_major": 2,
       "version_minor": 0
      },
      "text/plain": [
       "Validation: |          | 0/? [00:00<?, ?it/s]"
      ]
     },
     "metadata": {},
     "output_type": "display_data"
    },
    {
     "data": {
      "application/vnd.jupyter.widget-view+json": {
       "model_id": "e155f312286545b584ffc8d24fc9ffbc",
       "version_major": 2,
       "version_minor": 0
      },
      "text/plain": [
       "Validation: |          | 0/? [00:00<?, ?it/s]"
      ]
     },
     "metadata": {},
     "output_type": "display_data"
    },
    {
     "data": {
      "application/vnd.jupyter.widget-view+json": {
       "model_id": "b6a2aeb1ce624ed3a4dbc421a86aef07",
       "version_major": 2,
       "version_minor": 0
      },
      "text/plain": [
       "Validation: |          | 0/? [00:00<?, ?it/s]"
      ]
     },
     "metadata": {},
     "output_type": "display_data"
    },
    {
     "data": {
      "application/vnd.jupyter.widget-view+json": {
       "model_id": "79397a1e71024dd389d1ebd20dda9884",
       "version_major": 2,
       "version_minor": 0
      },
      "text/plain": [
       "Validation: |          | 0/? [00:00<?, ?it/s]"
      ]
     },
     "metadata": {},
     "output_type": "display_data"
    },
    {
     "data": {
      "application/vnd.jupyter.widget-view+json": {
       "model_id": "0e428d319a884e1391695f61aabb0665",
       "version_major": 2,
       "version_minor": 0
      },
      "text/plain": [
       "Validation: |          | 0/? [00:00<?, ?it/s]"
      ]
     },
     "metadata": {},
     "output_type": "display_data"
    },
    {
     "data": {
      "application/vnd.jupyter.widget-view+json": {
       "model_id": "2ac11ec2f7e641d28a99f8fb4e5a9af8",
       "version_major": 2,
       "version_minor": 0
      },
      "text/plain": [
       "Validation: |          | 0/? [00:00<?, ?it/s]"
      ]
     },
     "metadata": {},
     "output_type": "display_data"
    },
    {
     "name": "stderr",
     "output_type": "stream",
     "text": [
      "LOCAL_RANK: 0 - CUDA_VISIBLE_DEVICES: [0]\n"
     ]
    },
    {
     "data": {
      "application/vnd.jupyter.widget-view+json": {
       "model_id": "947c1166a6ba4ce7b36c26278c1616b0",
       "version_major": 2,
       "version_minor": 0
      },
      "text/plain": [
       "Predicting: |          | 0/? [00:00<?, ?it/s]"
      ]
     },
     "metadata": {},
     "output_type": "display_data"
    },
    {
     "name": "stdout",
     "output_type": "stream",
     "text": [
      "Iteration: 8, Best Cost: 0.9188, Current Cost: 3.2343, Temperature: 6.6342\n",
      "Early stopping as there is no improvement in the last 5 iterations.\n"
     ]
    }
   ],
   "source": [
    "# Run Simulated Annealing for 100 iterations\n",
    "initial_params = [\"RNN\", 64, 10, True]  # Initial parameters\n",
    "initial_temp = 10\n",
    "n_iter = 100\n",
    "cooling_rate = 0.95  # More gradual cooling\n",
    "\n",
    "best_cost, best_params, cost_history = simulated_annealing(\n",
    "    objective, initial_params, initial_temp, neighbor, n_iter, cooling_rate\n",
    ")"
   ]
  },
  {
   "cell_type": "code",
   "execution_count": 37,
   "metadata": {},
   "outputs": [
    {
     "name": "stdout",
     "output_type": "stream",
     "text": [
      "Best Parameters: ['GRU', 84, 6, False], Best Cost: 0.9187866660539992\n"
     ]
    }
   ],
   "source": [
    "# Print the best parameters and best cost\n",
    "print(f\"Best Parameters: {best_params}, Best Cost: {best_cost}\")"
   ]
  },
  {
   "cell_type": "code",
   "execution_count": 38,
   "metadata": {},
   "outputs": [
    {
     "data": {
      "application/vnd.plotly.v1+json": {
       "config": {
        "plotlyServerURL": "https://plot.ly"
       },
       "data": [
        {
         "mode": "lines",
         "type": "scatter",
         "x": [
          1,
          2,
          3,
          4,
          5,
          6,
          7,
          8
         ],
         "y": [
          1.3192494816522968,
          1.3192494816522968,
          1.1454905329221508,
          0.9187866660539992,
          0.9187866660539992,
          0.9187866660539992,
          0.9187866660539992,
          0.9187866660539992
         ]
        }
       ],
       "layout": {
        "template": {
         "data": {
          "bar": [
           {
            "error_x": {
             "color": "#2a3f5f"
            },
            "error_y": {
             "color": "#2a3f5f"
            },
            "marker": {
             "line": {
              "color": "white",
              "width": 0.5
             },
             "pattern": {
              "fillmode": "overlay",
              "size": 10,
              "solidity": 0.2
             }
            },
            "type": "bar"
           }
          ],
          "barpolar": [
           {
            "marker": {
             "line": {
              "color": "white",
              "width": 0.5
             },
             "pattern": {
              "fillmode": "overlay",
              "size": 10,
              "solidity": 0.2
             }
            },
            "type": "barpolar"
           }
          ],
          "carpet": [
           {
            "aaxis": {
             "endlinecolor": "#2a3f5f",
             "gridcolor": "#C8D4E3",
             "linecolor": "#C8D4E3",
             "minorgridcolor": "#C8D4E3",
             "startlinecolor": "#2a3f5f"
            },
            "baxis": {
             "endlinecolor": "#2a3f5f",
             "gridcolor": "#C8D4E3",
             "linecolor": "#C8D4E3",
             "minorgridcolor": "#C8D4E3",
             "startlinecolor": "#2a3f5f"
            },
            "type": "carpet"
           }
          ],
          "choropleth": [
           {
            "colorbar": {
             "outlinewidth": 0,
             "ticks": ""
            },
            "type": "choropleth"
           }
          ],
          "contour": [
           {
            "colorbar": {
             "outlinewidth": 0,
             "ticks": ""
            },
            "colorscale": [
             [
              0,
              "#0d0887"
             ],
             [
              0.1111111111111111,
              "#46039f"
             ],
             [
              0.2222222222222222,
              "#7201a8"
             ],
             [
              0.3333333333333333,
              "#9c179e"
             ],
             [
              0.4444444444444444,
              "#bd3786"
             ],
             [
              0.5555555555555556,
              "#d8576b"
             ],
             [
              0.6666666666666666,
              "#ed7953"
             ],
             [
              0.7777777777777778,
              "#fb9f3a"
             ],
             [
              0.8888888888888888,
              "#fdca26"
             ],
             [
              1,
              "#f0f921"
             ]
            ],
            "type": "contour"
           }
          ],
          "contourcarpet": [
           {
            "colorbar": {
             "outlinewidth": 0,
             "ticks": ""
            },
            "type": "contourcarpet"
           }
          ],
          "heatmap": [
           {
            "colorbar": {
             "outlinewidth": 0,
             "ticks": ""
            },
            "colorscale": [
             [
              0,
              "#0d0887"
             ],
             [
              0.1111111111111111,
              "#46039f"
             ],
             [
              0.2222222222222222,
              "#7201a8"
             ],
             [
              0.3333333333333333,
              "#9c179e"
             ],
             [
              0.4444444444444444,
              "#bd3786"
             ],
             [
              0.5555555555555556,
              "#d8576b"
             ],
             [
              0.6666666666666666,
              "#ed7953"
             ],
             [
              0.7777777777777778,
              "#fb9f3a"
             ],
             [
              0.8888888888888888,
              "#fdca26"
             ],
             [
              1,
              "#f0f921"
             ]
            ],
            "type": "heatmap"
           }
          ],
          "heatmapgl": [
           {
            "colorbar": {
             "outlinewidth": 0,
             "ticks": ""
            },
            "colorscale": [
             [
              0,
              "#0d0887"
             ],
             [
              0.1111111111111111,
              "#46039f"
             ],
             [
              0.2222222222222222,
              "#7201a8"
             ],
             [
              0.3333333333333333,
              "#9c179e"
             ],
             [
              0.4444444444444444,
              "#bd3786"
             ],
             [
              0.5555555555555556,
              "#d8576b"
             ],
             [
              0.6666666666666666,
              "#ed7953"
             ],
             [
              0.7777777777777778,
              "#fb9f3a"
             ],
             [
              0.8888888888888888,
              "#fdca26"
             ],
             [
              1,
              "#f0f921"
             ]
            ],
            "type": "heatmapgl"
           }
          ],
          "histogram": [
           {
            "marker": {
             "pattern": {
              "fillmode": "overlay",
              "size": 10,
              "solidity": 0.2
             }
            },
            "type": "histogram"
           }
          ],
          "histogram2d": [
           {
            "colorbar": {
             "outlinewidth": 0,
             "ticks": ""
            },
            "colorscale": [
             [
              0,
              "#0d0887"
             ],
             [
              0.1111111111111111,
              "#46039f"
             ],
             [
              0.2222222222222222,
              "#7201a8"
             ],
             [
              0.3333333333333333,
              "#9c179e"
             ],
             [
              0.4444444444444444,
              "#bd3786"
             ],
             [
              0.5555555555555556,
              "#d8576b"
             ],
             [
              0.6666666666666666,
              "#ed7953"
             ],
             [
              0.7777777777777778,
              "#fb9f3a"
             ],
             [
              0.8888888888888888,
              "#fdca26"
             ],
             [
              1,
              "#f0f921"
             ]
            ],
            "type": "histogram2d"
           }
          ],
          "histogram2dcontour": [
           {
            "colorbar": {
             "outlinewidth": 0,
             "ticks": ""
            },
            "colorscale": [
             [
              0,
              "#0d0887"
             ],
             [
              0.1111111111111111,
              "#46039f"
             ],
             [
              0.2222222222222222,
              "#7201a8"
             ],
             [
              0.3333333333333333,
              "#9c179e"
             ],
             [
              0.4444444444444444,
              "#bd3786"
             ],
             [
              0.5555555555555556,
              "#d8576b"
             ],
             [
              0.6666666666666666,
              "#ed7953"
             ],
             [
              0.7777777777777778,
              "#fb9f3a"
             ],
             [
              0.8888888888888888,
              "#fdca26"
             ],
             [
              1,
              "#f0f921"
             ]
            ],
            "type": "histogram2dcontour"
           }
          ],
          "mesh3d": [
           {
            "colorbar": {
             "outlinewidth": 0,
             "ticks": ""
            },
            "type": "mesh3d"
           }
          ],
          "parcoords": [
           {
            "line": {
             "colorbar": {
              "outlinewidth": 0,
              "ticks": ""
             }
            },
            "type": "parcoords"
           }
          ],
          "pie": [
           {
            "automargin": true,
            "type": "pie"
           }
          ],
          "scatter": [
           {
            "fillpattern": {
             "fillmode": "overlay",
             "size": 10,
             "solidity": 0.2
            },
            "type": "scatter"
           }
          ],
          "scatter3d": [
           {
            "line": {
             "colorbar": {
              "outlinewidth": 0,
              "ticks": ""
             }
            },
            "marker": {
             "colorbar": {
              "outlinewidth": 0,
              "ticks": ""
             }
            },
            "type": "scatter3d"
           }
          ],
          "scattercarpet": [
           {
            "marker": {
             "colorbar": {
              "outlinewidth": 0,
              "ticks": ""
             }
            },
            "type": "scattercarpet"
           }
          ],
          "scattergeo": [
           {
            "marker": {
             "colorbar": {
              "outlinewidth": 0,
              "ticks": ""
             }
            },
            "type": "scattergeo"
           }
          ],
          "scattergl": [
           {
            "marker": {
             "colorbar": {
              "outlinewidth": 0,
              "ticks": ""
             }
            },
            "type": "scattergl"
           }
          ],
          "scattermapbox": [
           {
            "marker": {
             "colorbar": {
              "outlinewidth": 0,
              "ticks": ""
             }
            },
            "type": "scattermapbox"
           }
          ],
          "scatterpolar": [
           {
            "marker": {
             "colorbar": {
              "outlinewidth": 0,
              "ticks": ""
             }
            },
            "type": "scatterpolar"
           }
          ],
          "scatterpolargl": [
           {
            "marker": {
             "colorbar": {
              "outlinewidth": 0,
              "ticks": ""
             }
            },
            "type": "scatterpolargl"
           }
          ],
          "scatterternary": [
           {
            "marker": {
             "colorbar": {
              "outlinewidth": 0,
              "ticks": ""
             }
            },
            "type": "scatterternary"
           }
          ],
          "surface": [
           {
            "colorbar": {
             "outlinewidth": 0,
             "ticks": ""
            },
            "colorscale": [
             [
              0,
              "#0d0887"
             ],
             [
              0.1111111111111111,
              "#46039f"
             ],
             [
              0.2222222222222222,
              "#7201a8"
             ],
             [
              0.3333333333333333,
              "#9c179e"
             ],
             [
              0.4444444444444444,
              "#bd3786"
             ],
             [
              0.5555555555555556,
              "#d8576b"
             ],
             [
              0.6666666666666666,
              "#ed7953"
             ],
             [
              0.7777777777777778,
              "#fb9f3a"
             ],
             [
              0.8888888888888888,
              "#fdca26"
             ],
             [
              1,
              "#f0f921"
             ]
            ],
            "type": "surface"
           }
          ],
          "table": [
           {
            "cells": {
             "fill": {
              "color": "#EBF0F8"
             },
             "line": {
              "color": "white"
             }
            },
            "header": {
             "fill": {
              "color": "#C8D4E3"
             },
             "line": {
              "color": "white"
             }
            },
            "type": "table"
           }
          ]
         },
         "layout": {
          "annotationdefaults": {
           "arrowcolor": "#2a3f5f",
           "arrowhead": 0,
           "arrowwidth": 1
          },
          "autotypenumbers": "strict",
          "coloraxis": {
           "colorbar": {
            "outlinewidth": 0,
            "ticks": ""
           }
          },
          "colorscale": {
           "diverging": [
            [
             0,
             "#8e0152"
            ],
            [
             0.1,
             "#c51b7d"
            ],
            [
             0.2,
             "#de77ae"
            ],
            [
             0.3,
             "#f1b6da"
            ],
            [
             0.4,
             "#fde0ef"
            ],
            [
             0.5,
             "#f7f7f7"
            ],
            [
             0.6,
             "#e6f5d0"
            ],
            [
             0.7,
             "#b8e186"
            ],
            [
             0.8,
             "#7fbc41"
            ],
            [
             0.9,
             "#4d9221"
            ],
            [
             1,
             "#276419"
            ]
           ],
           "sequential": [
            [
             0,
             "#0d0887"
            ],
            [
             0.1111111111111111,
             "#46039f"
            ],
            [
             0.2222222222222222,
             "#7201a8"
            ],
            [
             0.3333333333333333,
             "#9c179e"
            ],
            [
             0.4444444444444444,
             "#bd3786"
            ],
            [
             0.5555555555555556,
             "#d8576b"
            ],
            [
             0.6666666666666666,
             "#ed7953"
            ],
            [
             0.7777777777777778,
             "#fb9f3a"
            ],
            [
             0.8888888888888888,
             "#fdca26"
            ],
            [
             1,
             "#f0f921"
            ]
           ],
           "sequentialminus": [
            [
             0,
             "#0d0887"
            ],
            [
             0.1111111111111111,
             "#46039f"
            ],
            [
             0.2222222222222222,
             "#7201a8"
            ],
            [
             0.3333333333333333,
             "#9c179e"
            ],
            [
             0.4444444444444444,
             "#bd3786"
            ],
            [
             0.5555555555555556,
             "#d8576b"
            ],
            [
             0.6666666666666666,
             "#ed7953"
            ],
            [
             0.7777777777777778,
             "#fb9f3a"
            ],
            [
             0.8888888888888888,
             "#fdca26"
            ],
            [
             1,
             "#f0f921"
            ]
           ]
          },
          "colorway": [
           "#636efa",
           "#EF553B",
           "#00cc96",
           "#ab63fa",
           "#FFA15A",
           "#19d3f3",
           "#FF6692",
           "#B6E880",
           "#FF97FF",
           "#FECB52"
          ],
          "font": {
           "color": "#2a3f5f"
          },
          "geo": {
           "bgcolor": "white",
           "lakecolor": "white",
           "landcolor": "white",
           "showlakes": true,
           "showland": true,
           "subunitcolor": "#C8D4E3"
          },
          "hoverlabel": {
           "align": "left"
          },
          "hovermode": "closest",
          "mapbox": {
           "style": "light"
          },
          "paper_bgcolor": "white",
          "plot_bgcolor": "white",
          "polar": {
           "angularaxis": {
            "gridcolor": "#EBF0F8",
            "linecolor": "#EBF0F8",
            "ticks": ""
           },
           "bgcolor": "white",
           "radialaxis": {
            "gridcolor": "#EBF0F8",
            "linecolor": "#EBF0F8",
            "ticks": ""
           }
          },
          "scene": {
           "xaxis": {
            "backgroundcolor": "white",
            "gridcolor": "#DFE8F3",
            "gridwidth": 2,
            "linecolor": "#EBF0F8",
            "showbackground": true,
            "ticks": "",
            "zerolinecolor": "#EBF0F8"
           },
           "yaxis": {
            "backgroundcolor": "white",
            "gridcolor": "#DFE8F3",
            "gridwidth": 2,
            "linecolor": "#EBF0F8",
            "showbackground": true,
            "ticks": "",
            "zerolinecolor": "#EBF0F8"
           },
           "zaxis": {
            "backgroundcolor": "white",
            "gridcolor": "#DFE8F3",
            "gridwidth": 2,
            "linecolor": "#EBF0F8",
            "showbackground": true,
            "ticks": "",
            "zerolinecolor": "#EBF0F8"
           }
          },
          "shapedefaults": {
           "line": {
            "color": "#2a3f5f"
           }
          },
          "ternary": {
           "aaxis": {
            "gridcolor": "#DFE8F3",
            "linecolor": "#A2B1C6",
            "ticks": ""
           },
           "baxis": {
            "gridcolor": "#DFE8F3",
            "linecolor": "#A2B1C6",
            "ticks": ""
           },
           "bgcolor": "white",
           "caxis": {
            "gridcolor": "#DFE8F3",
            "linecolor": "#A2B1C6",
            "ticks": ""
           }
          },
          "title": {
           "x": 0.05
          },
          "xaxis": {
           "automargin": true,
           "gridcolor": "#EBF0F8",
           "linecolor": "#EBF0F8",
           "ticks": "",
           "title": {
            "standoff": 15
           },
           "zerolinecolor": "#EBF0F8",
           "zerolinewidth": 2
          },
          "yaxis": {
           "automargin": true,
           "gridcolor": "#EBF0F8",
           "linecolor": "#EBF0F8",
           "ticks": "",
           "title": {
            "standoff": 15
           },
           "zerolinecolor": "#EBF0F8",
           "zerolinewidth": 2
          }
         }
        },
        "title": {
         "text": "Simulated Annealing Optimization for Hyperparameter Tuning"
        },
        "xaxis": {
         "title": {
          "text": "Iteration"
         }
        },
        "yaxis": {
         "title": {
          "text": "Best Cost"
         }
        }
       }
      }
     },
     "metadata": {},
     "output_type": "display_data"
    }
   ],
   "source": [
    "# plot the MAEs gotten from the SA\n",
    "fig = go.Figure()\n",
    "fig.add_trace(go.Scatter(x=np.arange(1, len(cost_history) + 1), y=cost_history, mode=\"lines\"))\n",
    "fig.update_layout(\n",
    "    title=\"Simulated Annealing Optimization for Hyperparameter Tuning\",\n",
    "    xaxis_title=\"Iteration\",\n",
    "    yaxis_title=\"Best Cost\",\n",
    "    template=\"plotly_white\",\n",
    ")\n",
    "fig.show()"
   ]
  },
  {
   "cell_type": "code",
   "execution_count": 39,
   "metadata": {},
   "outputs": [
    {
     "name": "stderr",
     "output_type": "stream",
     "text": [
      "GPU available: True (cuda), used: True\n",
      "TPU available: False, using: 0 TPU cores\n",
      "IPU available: False, using: 0 IPUs\n",
      "HPU available: False, using: 0 HPUs\n",
      "LOCAL_RANK: 0 - CUDA_VISIBLE_DEVICES: [0]\n",
      "\n",
      "  | Name | Type    | Params\n",
      "---------------------------------\n",
      "0 | rnn  | GRU     | 238 K \n",
      "1 | fc   | Linear  | 85    \n",
      "2 | loss | MSELoss | 0     \n",
      "---------------------------------\n",
      "238 K     Trainable params\n",
      "0         Non-trainable params\n",
      "238 K     Total params\n",
      "0.955     Total estimated model params size (MB)\n"
     ]
    },
    {
     "data": {
      "application/vnd.jupyter.widget-view+json": {
       "model_id": "76d3456b4e004f7bb2a4e563b0309105",
       "version_major": 2,
       "version_minor": 0
      },
      "text/plain": [
       "Sanity Checking: |          | 0/? [00:00<?, ?it/s]"
      ]
     },
     "metadata": {},
     "output_type": "display_data"
    },
    {
     "data": {
      "application/vnd.jupyter.widget-view+json": {
       "model_id": "c7da58d692f34bcd82c1c8cb0feb184a",
       "version_major": 2,
       "version_minor": 0
      },
      "text/plain": [
       "Training: |          | 0/? [00:00<?, ?it/s]"
      ]
     },
     "metadata": {},
     "output_type": "display_data"
    },
    {
     "data": {
      "application/vnd.jupyter.widget-view+json": {
       "model_id": "f1feda6a7a8b4f9c867d2b366d5495ed",
       "version_major": 2,
       "version_minor": 0
      },
      "text/plain": [
       "Validation: |          | 0/? [00:00<?, ?it/s]"
      ]
     },
     "metadata": {},
     "output_type": "display_data"
    },
    {
     "data": {
      "application/vnd.jupyter.widget-view+json": {
       "model_id": "b0b110eff1a24cb0b93263f490c611ad",
       "version_major": 2,
       "version_minor": 0
      },
      "text/plain": [
       "Validation: |          | 0/? [00:00<?, ?it/s]"
      ]
     },
     "metadata": {},
     "output_type": "display_data"
    },
    {
     "data": {
      "application/vnd.jupyter.widget-view+json": {
       "model_id": "395317f0c5324ca0ba3f51c134030789",
       "version_major": 2,
       "version_minor": 0
      },
      "text/plain": [
       "Validation: |          | 0/? [00:00<?, ?it/s]"
      ]
     },
     "metadata": {},
     "output_type": "display_data"
    },
    {
     "data": {
      "application/vnd.jupyter.widget-view+json": {
       "model_id": "949273b894784cf6a37968bc67c87da5",
       "version_major": 2,
       "version_minor": 0
      },
      "text/plain": [
       "Validation: |          | 0/? [00:00<?, ?it/s]"
      ]
     },
     "metadata": {},
     "output_type": "display_data"
    },
    {
     "data": {
      "application/vnd.jupyter.widget-view+json": {
       "model_id": "ae1dc65b9bcc4ba7b662d137966177e7",
       "version_major": 2,
       "version_minor": 0
      },
      "text/plain": [
       "Validation: |          | 0/? [00:00<?, ?it/s]"
      ]
     },
     "metadata": {},
     "output_type": "display_data"
    },
    {
     "data": {
      "application/vnd.jupyter.widget-view+json": {
       "model_id": "08abc1ec2f0b44aa911b05c9c19a2fc1",
       "version_major": 2,
       "version_minor": 0
      },
      "text/plain": [
       "Validation: |          | 0/? [00:00<?, ?it/s]"
      ]
     },
     "metadata": {},
     "output_type": "display_data"
    },
    {
     "data": {
      "application/vnd.jupyter.widget-view+json": {
       "model_id": "e63383be108049b287f4c659f65bf4fe",
       "version_major": 2,
       "version_minor": 0
      },
      "text/plain": [
       "Validation: |          | 0/? [00:00<?, ?it/s]"
      ]
     },
     "metadata": {},
     "output_type": "display_data"
    },
    {
     "data": {
      "application/vnd.jupyter.widget-view+json": {
       "model_id": "4faa1e693ff04fccb27cded103315690",
       "version_major": 2,
       "version_minor": 0
      },
      "text/plain": [
       "Validation: |          | 0/? [00:00<?, ?it/s]"
      ]
     },
     "metadata": {},
     "output_type": "display_data"
    },
    {
     "data": {
      "application/vnd.jupyter.widget-view+json": {
       "model_id": "16c09241e796473ca3917374c089d173",
       "version_major": 2,
       "version_minor": 0
      },
      "text/plain": [
       "Validation: |          | 0/? [00:00<?, ?it/s]"
      ]
     },
     "metadata": {},
     "output_type": "display_data"
    },
    {
     "data": {
      "application/vnd.jupyter.widget-view+json": {
       "model_id": "a0adf659d87743ca8d3ec43dcd5fcf67",
       "version_major": 2,
       "version_minor": 0
      },
      "text/plain": [
       "Validation: |          | 0/? [00:00<?, ?it/s]"
      ]
     },
     "metadata": {},
     "output_type": "display_data"
    },
    {
     "data": {
      "application/vnd.jupyter.widget-view+json": {
       "model_id": "8333be42df334a44bd62beccc89db8d9",
       "version_major": 2,
       "version_minor": 0
      },
      "text/plain": [
       "Validation: |          | 0/? [00:00<?, ?it/s]"
      ]
     },
     "metadata": {},
     "output_type": "display_data"
    },
    {
     "data": {
      "application/vnd.jupyter.widget-view+json": {
       "model_id": "05b74ca8238244c989490fca085b8a73",
       "version_major": 2,
       "version_minor": 0
      },
      "text/plain": [
       "Validation: |          | 0/? [00:00<?, ?it/s]"
      ]
     },
     "metadata": {},
     "output_type": "display_data"
    },
    {
     "name": "stderr",
     "output_type": "stream",
     "text": [
      "LOCAL_RANK: 0 - CUDA_VISIBLE_DEVICES: [0]\n"
     ]
    },
    {
     "data": {
      "application/vnd.jupyter.widget-view+json": {
       "model_id": "df7d2f3bf31449f990e072093d85adba",
       "version_major": 2,
       "version_minor": 0
      },
      "text/plain": [
       "Predicting: |          | 0/? [00:00<?, ?it/s]"
      ]
     },
     "metadata": {},
     "output_type": "display_data"
    },
    {
     "name": "stdout",
     "output_type": "stream",
     "text": [
      "{'Algorithm': 'GRU (SA)', 'MAE': '1.1496', 'MSE': '1.7012', 'MASE': '5.0318', 'Forecast Bias': '-1.14'}\n"
     ]
    },
    {
     "data": {
      "application/vnd.plotly.v1+json": {
       "config": {
        "plotlyServerURL": "https://plot.ly"
       },
       "data": [
        {
         "line": {
          "color": "rgb(102,194,165)",
          "width": 2
         },
         "marker": {
          "opacity": 0.5,
          "size": 6
         },
         "mode": "lines",
         "name": "Actual COVID-19 MVBeds trends",
         "type": "scatter",
         "x": [
          "2021-09-25T00:00:00",
          "2021-09-25T00:00:00",
          "2021-09-25T00:00:00",
          "2021-09-25T00:00:00",
          "2021-09-26T00:00:00",
          "2021-09-26T00:00:00",
          "2021-09-26T00:00:00",
          "2021-09-26T00:00:00",
          "2021-09-27T00:00:00",
          "2021-09-27T00:00:00",
          "2021-09-27T00:00:00",
          "2021-09-27T00:00:00",
          "2021-09-28T00:00:00",
          "2021-09-28T00:00:00",
          "2021-09-28T00:00:00",
          "2021-09-28T00:00:00",
          "2021-09-29T00:00:00",
          "2021-09-29T00:00:00",
          "2021-09-29T00:00:00",
          "2021-09-29T00:00:00",
          "2021-09-30T00:00:00",
          "2021-09-30T00:00:00",
          "2021-09-30T00:00:00",
          "2021-09-30T00:00:00",
          "2021-10-01T00:00:00",
          "2021-10-01T00:00:00",
          "2021-10-01T00:00:00",
          "2021-10-01T00:00:00",
          "2021-10-02T00:00:00",
          "2021-10-02T00:00:00",
          "2021-10-02T00:00:00",
          "2021-10-02T00:00:00",
          "2021-10-03T00:00:00",
          "2021-10-03T00:00:00",
          "2021-10-03T00:00:00",
          "2021-10-03T00:00:00",
          "2021-10-04T00:00:00",
          "2021-10-04T00:00:00",
          "2021-10-04T00:00:00",
          "2021-10-04T00:00:00",
          "2021-10-05T00:00:00",
          "2021-10-05T00:00:00",
          "2021-10-05T00:00:00",
          "2021-10-05T00:00:00",
          "2021-10-06T00:00:00",
          "2021-10-06T00:00:00",
          "2021-10-06T00:00:00",
          "2021-10-06T00:00:00",
          "2021-10-07T00:00:00",
          "2021-10-07T00:00:00",
          "2021-10-07T00:00:00",
          "2021-10-07T00:00:00",
          "2021-10-08T00:00:00",
          "2021-10-08T00:00:00",
          "2021-10-08T00:00:00",
          "2021-10-08T00:00:00",
          "2021-10-09T00:00:00",
          "2021-10-09T00:00:00",
          "2021-10-09T00:00:00",
          "2021-10-09T00:00:00",
          "2021-10-10T00:00:00",
          "2021-10-10T00:00:00",
          "2021-10-10T00:00:00",
          "2021-10-10T00:00:00",
          "2021-10-11T00:00:00",
          "2021-10-11T00:00:00",
          "2021-10-11T00:00:00",
          "2021-10-11T00:00:00",
          "2021-10-12T00:00:00",
          "2021-10-12T00:00:00",
          "2021-10-12T00:00:00",
          "2021-10-12T00:00:00",
          "2021-10-13T00:00:00",
          "2021-10-13T00:00:00",
          "2021-10-13T00:00:00",
          "2021-10-13T00:00:00",
          "2021-10-14T00:00:00",
          "2021-10-14T00:00:00",
          "2021-10-14T00:00:00",
          "2021-10-14T00:00:00",
          "2021-10-15T00:00:00",
          "2021-10-15T00:00:00",
          "2021-10-15T00:00:00",
          "2021-10-15T00:00:00",
          "2021-10-16T00:00:00",
          "2021-10-16T00:00:00",
          "2021-10-16T00:00:00",
          "2021-10-16T00:00:00",
          "2021-10-17T00:00:00",
          "2021-10-17T00:00:00",
          "2021-10-17T00:00:00",
          "2021-10-17T00:00:00",
          "2021-10-18T00:00:00",
          "2021-10-18T00:00:00",
          "2021-10-18T00:00:00",
          "2021-10-18T00:00:00",
          "2021-10-19T00:00:00",
          "2021-10-19T00:00:00",
          "2021-10-19T00:00:00",
          "2021-10-19T00:00:00",
          "2021-10-20T00:00:00",
          "2021-10-20T00:00:00",
          "2021-10-20T00:00:00",
          "2021-10-20T00:00:00",
          "2021-10-21T00:00:00",
          "2021-10-21T00:00:00",
          "2021-10-21T00:00:00",
          "2021-10-21T00:00:00",
          "2021-10-22T00:00:00",
          "2021-10-22T00:00:00",
          "2021-10-22T00:00:00",
          "2021-10-22T00:00:00",
          "2021-10-23T00:00:00",
          "2021-10-23T00:00:00",
          "2021-10-23T00:00:00",
          "2021-10-23T00:00:00",
          "2021-10-24T00:00:00",
          "2021-10-24T00:00:00",
          "2021-10-24T00:00:00",
          "2021-10-24T00:00:00",
          "2021-10-25T00:00:00",
          "2021-10-25T00:00:00",
          "2021-10-25T00:00:00",
          "2021-10-25T00:00:00",
          "2021-10-26T00:00:00",
          "2021-10-26T00:00:00",
          "2021-10-26T00:00:00",
          "2021-10-26T00:00:00",
          "2021-10-27T00:00:00",
          "2021-10-27T00:00:00",
          "2021-10-27T00:00:00",
          "2021-10-27T00:00:00",
          "2021-10-28T00:00:00",
          "2021-10-28T00:00:00",
          "2021-10-28T00:00:00",
          "2021-10-28T00:00:00",
          "2021-10-29T00:00:00",
          "2021-10-29T00:00:00",
          "2021-10-29T00:00:00",
          "2021-10-29T00:00:00",
          "2021-10-30T00:00:00",
          "2021-10-30T00:00:00",
          "2021-10-30T00:00:00",
          "2021-10-30T00:00:00",
          "2021-10-31T00:00:00",
          "2021-10-31T00:00:00",
          "2021-10-31T00:00:00",
          "2021-10-31T00:00:00",
          "2021-11-01T00:00:00",
          "2021-11-01T00:00:00",
          "2021-11-01T00:00:00",
          "2021-11-01T00:00:00",
          "2021-11-02T00:00:00",
          "2021-11-02T00:00:00",
          "2021-11-02T00:00:00",
          "2021-11-02T00:00:00",
          "2021-11-03T00:00:00",
          "2021-11-03T00:00:00",
          "2021-11-03T00:00:00",
          "2021-11-03T00:00:00",
          "2021-11-04T00:00:00",
          "2021-11-04T00:00:00",
          "2021-11-04T00:00:00",
          "2021-11-04T00:00:00",
          "2021-11-05T00:00:00",
          "2021-11-05T00:00:00",
          "2021-11-05T00:00:00",
          "2021-11-05T00:00:00",
          "2021-11-06T00:00:00",
          "2021-11-06T00:00:00",
          "2021-11-06T00:00:00",
          "2021-11-06T00:00:00",
          "2021-11-07T00:00:00",
          "2021-11-07T00:00:00",
          "2021-11-07T00:00:00",
          "2021-11-07T00:00:00",
          "2021-11-08T00:00:00",
          "2021-11-08T00:00:00",
          "2021-11-08T00:00:00",
          "2021-11-08T00:00:00",
          "2021-11-09T00:00:00",
          "2021-11-09T00:00:00",
          "2021-11-09T00:00:00",
          "2021-11-09T00:00:00",
          "2021-11-10T00:00:00",
          "2021-11-10T00:00:00",
          "2021-11-10T00:00:00",
          "2021-11-10T00:00:00",
          "2021-11-11T00:00:00",
          "2021-11-11T00:00:00",
          "2021-11-11T00:00:00",
          "2021-11-11T00:00:00",
          "2021-11-12T00:00:00",
          "2021-11-12T00:00:00",
          "2021-11-12T00:00:00",
          "2021-11-12T00:00:00",
          "2021-11-13T00:00:00",
          "2021-11-13T00:00:00",
          "2021-11-13T00:00:00",
          "2021-11-13T00:00:00",
          "2021-11-14T00:00:00",
          "2021-11-14T00:00:00",
          "2021-11-14T00:00:00",
          "2021-11-14T00:00:00",
          "2021-11-15T00:00:00",
          "2021-11-15T00:00:00",
          "2021-11-15T00:00:00",
          "2021-11-15T00:00:00",
          "2021-11-16T00:00:00",
          "2021-11-16T00:00:00",
          "2021-11-16T00:00:00",
          "2021-11-16T00:00:00",
          "2021-11-17T00:00:00",
          "2021-11-17T00:00:00",
          "2021-11-17T00:00:00",
          "2021-11-17T00:00:00",
          "2021-11-18T00:00:00",
          "2021-11-18T00:00:00",
          "2021-11-18T00:00:00",
          "2021-11-18T00:00:00",
          "2021-11-19T00:00:00",
          "2021-11-19T00:00:00",
          "2021-11-19T00:00:00",
          "2021-11-19T00:00:00",
          "2021-11-20T00:00:00",
          "2021-11-20T00:00:00",
          "2021-11-20T00:00:00",
          "2021-11-20T00:00:00",
          "2021-11-21T00:00:00",
          "2021-11-21T00:00:00",
          "2021-11-21T00:00:00",
          "2021-11-21T00:00:00",
          "2021-11-22T00:00:00",
          "2021-11-22T00:00:00",
          "2021-11-22T00:00:00",
          "2021-11-22T00:00:00",
          "2021-11-23T00:00:00",
          "2021-11-23T00:00:00",
          "2021-11-23T00:00:00",
          "2021-11-23T00:00:00",
          "2021-11-24T00:00:00",
          "2021-11-24T00:00:00",
          "2021-11-24T00:00:00",
          "2021-11-24T00:00:00",
          "2021-11-25T00:00:00",
          "2021-11-25T00:00:00",
          "2021-11-25T00:00:00",
          "2021-11-25T00:00:00",
          "2021-11-26T00:00:00",
          "2021-11-26T00:00:00",
          "2021-11-26T00:00:00",
          "2021-11-26T00:00:00",
          "2021-11-27T00:00:00",
          "2021-11-27T00:00:00",
          "2021-11-27T00:00:00",
          "2021-11-27T00:00:00",
          "2021-11-28T00:00:00",
          "2021-11-28T00:00:00",
          "2021-11-28T00:00:00",
          "2021-11-28T00:00:00",
          "2021-11-29T00:00:00",
          "2021-11-29T00:00:00",
          "2021-11-29T00:00:00",
          "2021-11-29T00:00:00",
          "2021-11-30T00:00:00",
          "2021-11-30T00:00:00",
          "2021-11-30T00:00:00",
          "2021-11-30T00:00:00",
          "2021-12-01T00:00:00",
          "2021-12-01T00:00:00",
          "2021-12-01T00:00:00",
          "2021-12-01T00:00:00",
          "2021-12-02T00:00:00",
          "2021-12-02T00:00:00",
          "2021-12-02T00:00:00",
          "2021-12-02T00:00:00",
          "2021-12-03T00:00:00",
          "2021-12-03T00:00:00",
          "2021-12-03T00:00:00",
          "2021-12-03T00:00:00",
          "2021-12-04T00:00:00",
          "2021-12-04T00:00:00",
          "2021-12-04T00:00:00",
          "2021-12-04T00:00:00",
          "2021-12-05T00:00:00",
          "2021-12-05T00:00:00",
          "2021-12-05T00:00:00",
          "2021-12-05T00:00:00",
          "2021-12-06T00:00:00",
          "2021-12-06T00:00:00",
          "2021-12-06T00:00:00",
          "2021-12-06T00:00:00",
          "2021-12-07T00:00:00",
          "2021-12-07T00:00:00",
          "2021-12-07T00:00:00",
          "2021-12-07T00:00:00",
          "2021-12-08T00:00:00",
          "2021-12-08T00:00:00",
          "2021-12-08T00:00:00",
          "2021-12-08T00:00:00",
          "2021-12-09T00:00:00",
          "2021-12-09T00:00:00",
          "2021-12-09T00:00:00",
          "2021-12-09T00:00:00",
          "2021-12-10T00:00:00",
          "2021-12-10T00:00:00",
          "2021-12-10T00:00:00",
          "2021-12-10T00:00:00",
          "2021-12-11T00:00:00",
          "2021-12-11T00:00:00",
          "2021-12-11T00:00:00",
          "2021-12-11T00:00:00",
          "2021-12-12T00:00:00",
          "2021-12-12T00:00:00",
          "2021-12-12T00:00:00",
          "2021-12-12T00:00:00",
          "2021-12-13T00:00:00",
          "2021-12-13T00:00:00",
          "2021-12-13T00:00:00",
          "2021-12-13T00:00:00",
          "2021-12-14T00:00:00",
          "2021-12-14T00:00:00",
          "2021-12-14T00:00:00",
          "2021-12-14T00:00:00",
          "2021-12-15T00:00:00",
          "2021-12-15T00:00:00",
          "2021-12-15T00:00:00",
          "2021-12-15T00:00:00",
          "2021-12-16T00:00:00",
          "2021-12-16T00:00:00",
          "2021-12-16T00:00:00",
          "2021-12-16T00:00:00",
          "2021-12-17T00:00:00",
          "2021-12-17T00:00:00",
          "2021-12-17T00:00:00",
          "2021-12-17T00:00:00",
          "2021-12-18T00:00:00",
          "2021-12-18T00:00:00",
          "2021-12-18T00:00:00",
          "2021-12-18T00:00:00",
          "2021-12-19T00:00:00",
          "2021-12-19T00:00:00",
          "2021-12-19T00:00:00",
          "2021-12-19T00:00:00",
          "2021-12-20T00:00:00",
          "2021-12-20T00:00:00",
          "2021-12-20T00:00:00",
          "2021-12-20T00:00:00",
          "2021-12-21T00:00:00",
          "2021-12-21T00:00:00",
          "2021-12-21T00:00:00",
          "2021-12-21T00:00:00",
          "2021-12-22T00:00:00",
          "2021-12-22T00:00:00",
          "2021-12-22T00:00:00",
          "2021-12-22T00:00:00",
          "2021-12-23T00:00:00",
          "2021-12-23T00:00:00",
          "2021-12-23T00:00:00",
          "2021-12-23T00:00:00",
          "2021-12-24T00:00:00",
          "2021-12-24T00:00:00",
          "2021-12-24T00:00:00",
          "2021-12-24T00:00:00",
          "2021-12-25T00:00:00",
          "2021-12-25T00:00:00",
          "2021-12-25T00:00:00",
          "2021-12-25T00:00:00",
          "2021-12-26T00:00:00",
          "2021-12-26T00:00:00",
          "2021-12-26T00:00:00",
          "2021-12-26T00:00:00",
          "2021-12-27T00:00:00",
          "2021-12-27T00:00:00",
          "2021-12-27T00:00:00",
          "2021-12-27T00:00:00",
          "2021-12-28T00:00:00",
          "2021-12-28T00:00:00",
          "2021-12-28T00:00:00",
          "2021-12-28T00:00:00",
          "2021-12-29T00:00:00",
          "2021-12-29T00:00:00",
          "2021-12-29T00:00:00",
          "2021-12-29T00:00:00",
          "2021-12-30T00:00:00",
          "2021-12-30T00:00:00",
          "2021-12-30T00:00:00",
          "2021-12-30T00:00:00"
         ],
         "y": [
          20.994099135255922,
          20.994099135255922,
          20.994099135255922,
          20.994099135255922,
          20.941693228693463,
          20.941693228693463,
          20.941693228693463,
          20.941693228693463,
          20.831118311297192,
          20.831118311297192,
          20.831118311297192,
          20.831118311297192,
          20.543706042182368,
          20.543706042182368,
          20.543706042182368,
          20.543706042182368,
          20.549116446268854,
          20.549116446268854,
          20.549116446268854,
          20.549116446268854,
          20.2573113916781,
          20.2573113916781,
          20.2573113916781,
          20.2573113916781,
          20.021623264429838,
          20.021623264429838,
          20.021623264429838,
          20.021623264429838,
          19.535191372571813,
          19.535191372571813,
          19.535191372571813,
          19.535191372571813,
          20.032751688123113,
          20.032751688123113,
          20.032751688123113,
          20.032751688123113,
          20.098851142805316,
          20.098851142805316,
          20.098851142805316,
          20.098851142805316,
          20.463400267911506,
          20.463400267911506,
          20.463400267911506,
          20.463400267911506,
          20.230341425948765,
          20.230341425948765,
          20.230341425948765,
          20.230341425948765,
          20.175755691547657,
          20.175755691547657,
          20.175755691547657,
          20.175755691547657,
          20.181274260396954,
          20.181274260396954,
          20.181274260396954,
          20.181274260396954,
          19.450320746067824,
          19.450320746067824,
          19.450320746067824,
          19.450320746067824,
          19.330376796519058,
          19.330376796519058,
          19.330376796519058,
          19.330376796519058,
          19.894763546044324,
          19.894763546044324,
          19.894763546044324,
          19.894763546044324,
          20.022155076050765,
          20.022155076050765,
          20.022155076050765,
          20.022155076050765,
          20.148666187373305,
          20.148666187373305,
          20.148666187373305,
          20.148666187373305,
          20.274313844944707,
          20.274313844944707,
          20.274313844944707,
          20.274313844944707,
          20.038844692204876,
          20.038844692204876,
          20.038844692204876,
          20.038844692204876,
          20.463919521716512,
          20.463919521716512,
          20.463919521716512,
          20.463919521716512,
          20.879529617311622,
          20.879529617311622,
          20.879529617311622,
          20.879529617311622,
          20.651618858746428,
          20.651618858746428,
          20.651618858746428,
          20.651618858746428,
          20.65699827025494,
          20.65699827025494,
          20.65699827025494,
          20.65699827025494,
          20.720919534075836,
          20.720919534075836,
          20.720919534075836,
          20.720919534075836,
          21.188112605823555,
          21.188112605823555,
          21.188112605823555,
          21.188112605823555,
          21.476375939206246,
          21.476375939206246,
          21.476375939206246,
          21.476375939206246,
          21.925911758004098,
          21.925911758004098,
          21.925911758004098,
          21.925911758004098,
          21.985786357993273,
          21.985786357993273,
          21.985786357993273,
          21.985786357993273,
          21.99080776646949,
          21.99080776646949,
          21.99080776646949,
          21.99080776646949,
          22.159361706843807,
          22.159361706843807,
          22.159361706843807,
          22.159361706843807,
          22.16433972035174,
          22.16433972035174,
          22.16433972035174,
          22.16433972035174,
          22.06049700667158,
          22.06049700667158,
          22.06049700667158,
          22.06049700667158,
          22.065499652788073,
          22.065499652788073,
          22.065499652788073,
          22.065499652788073,
          22.015895850859863,
          22.015895850859863,
          22.015895850859863,
          22.015895850859863,
          21.966168387768843,
          21.966168387768843,
          21.966168387768843,
          21.966168387768843,
          22.458448655263933,
          22.458448655263933,
          22.458448655263933,
          22.458448655263933,
          22.623158512806786,
          22.623158512806786,
          22.623158512806786,
          22.623158512806786,
          22.468257118824294,
          22.468257118824294,
          22.468257118824294,
          22.468257118824294,
          22.579784091685383,
          22.579784091685383,
          22.579784091685383,
          22.579784091685383,
          22.637751091594613,
          22.637751091594613,
          22.637751091594613,
          22.637751091594613,
          22.536317302454428,
          22.536317302454428,
          22.536317302454428,
          22.536317302454428,
          22.54120339194377,
          22.54120339194377,
          22.54120339194377,
          22.54120339194377,
          22.91556294000944,
          22.91556294000944,
          22.91556294000944,
          22.91556294000944,
          22.762863111995056,
          22.762863111995056,
          22.762863111995056,
          22.762863111995056,
          22.714940174123047,
          22.714940174123047,
          22.714940174123047,
          22.714940174123047,
          22.877608591071773,
          22.877608591071773,
          22.877608591071773,
          22.877608591071773,
          22.93474300354508,
          22.93474300354508,
          22.93474300354508,
          22.93474300354508,
          22.51722857940595,
          22.51722857940595,
          22.51722857940595,
          22.51722857940595,
          22.145372348862754,
          22.145372348862754,
          22.145372348862754,
          22.145372348862754,
          21.821783544413037,
          21.821783544413037,
          21.821783544413037,
          21.821783544413037,
          21.66054011759105,
          21.66054011759105,
          21.66054011759105,
          21.66054011759105,
          21.441747832181044,
          21.441747832181044,
          21.441747832181044,
          21.441747832181044,
          21.334020235453295,
          21.334020235453295,
          21.334020235453295,
          21.334020235453295,
          21.3392109256315,
          21.3392109256315,
          21.3392109256315,
          21.3392109256315,
          21.513400240449055,
          21.513400240449055,
          21.513400240449055,
          21.513400240449055,
          21.518543313496192,
          21.518543313496192,
          21.518543313496192,
          21.518543313496192,
          21.298143379246945,
          21.298143379246945,
          21.298143379246945,
          21.298143379246945,
          21.3033436896279,
          21.3033436896279,
          21.3033436896279,
          21.3033436896279,
          21.64570652225628,
          21.64570652225628,
          21.64570652225628,
          21.64570652225628,
          22.036900896157384,
          22.036900896157384,
          22.036900896157384,
          22.036900896157384,
          22.04190945422661,
          22.04190945422661,
          22.04190945422661,
          22.04190945422661,
          21.882454864202458,
          21.882454864202458,
          21.882454864202458,
          21.882454864202458,
          21.77712756522185,
          21.77712756522185,
          21.77712756522185,
          21.77712756522185,
          21.837452261893304,
          21.837452261893304,
          21.837452261893304,
          21.837452261893304,
          22.547021680157872,
          22.547021680157872,
          22.547021680157872,
          22.547021680157872,
          21.513891717088217,
          21.513891717088217,
          21.513891717088217,
          21.513891717088217,
          21.63086171633672,
          21.63086171633672,
          21.63086171633672,
          21.63086171633672,
          21.747138844487598,
          21.747138844487598,
          21.747138844487598,
          21.747138844487598,
          21.807555008508466,
          21.807555008508466,
          21.807555008508466,
          21.807555008508466,
          21.70182669817822,
          21.70182669817822,
          21.70182669817822,
          21.70182669817822,
          21.927836863645243,
          21.927836863645243,
          21.927836863645243,
          21.927836863645243,
          21.82275118811689,
          21.82275118811689,
          21.82275118811689,
          21.82275118811689,
          21.324627258341273,
          21.324627258341273,
          21.324627258341273,
          21.324627258341273,
          21.498946608483518,
          21.498946608483518,
          21.498946608483518,
          21.498946608483518,
          21.447896126805965,
          21.447896126805965,
          21.447896126805965,
          21.447896126805965,
          21.6211218684666,
          21.6211218684666,
          21.6211218684666,
          21.6211218684666,
          21.681925166449567,
          21.681925166449567,
          21.681925166449567,
          21.681925166449567,
          21.631350253730176,
          21.631350253730176,
          21.631350253730176,
          21.631350253730176,
          22.40184836532037,
          22.40184836532037,
          22.40184836532037,
          22.40184836532037,
          21.918242424660935,
          21.918242424660935,
          21.918242424660935,
          21.918242424660935,
          21.646682846547055,
          21.646682846547055,
          21.646682846547055,
          21.646682846547055,
          21.483990049560234,
          21.483990049560234,
          21.483990049560234,
          21.483990049560234,
          20.74490698919332,
          20.74490698919332,
          20.74490698919332,
          20.74490698919332,
          20.69180758155631,
          20.69180758155631,
          20.69180758155631,
          20.69180758155631,
          21.159706057382476,
          21.159706057382476,
          21.159706057382476,
          21.159706057382476,
          21.05038923158407,
          21.05038923158407,
          21.05038923158407,
          21.05038923158407,
          20.59055619088942,
          20.59055619088942,
          20.59055619088942,
          20.59055619088942,
          20.299404359769323,
          20.299404359769323,
          20.299404359769323,
          20.299404359769323,
          19.942751215541545,
          19.942751215541545,
          19.942751215541545,
          19.942751215541545,
          19.826056744791984,
          19.826056744791984,
          19.826056744791984,
          19.826056744791984,
          20.315844850882726,
          20.315844850882726,
          20.315844850882726,
          20.315844850882726,
          20.201506910354937,
          20.201506910354937,
          20.201506910354937,
          20.201506910354937,
          20.32679708721466,
          20.32679708721466,
          20.32679708721466,
          20.32679708721466,
          20.272495714969924,
          20.272495714969924,
          20.272495714969924,
          20.272495714969924,
          20.277985465819782,
          20.277985465819782,
          20.277985465819782,
          20.277985465819782
         ]
        },
        {
         "line": {
          "color": "rgb(252,141,98)",
          "width": 2
         },
         "marker": {
          "size": 4
         },
         "mode": "lines+markers",
         "name": "Optimized GRU (SA)",
         "type": "scatter",
         "x": [
          "2021-09-25T00:00:00",
          "2021-09-25T00:00:00",
          "2021-09-25T00:00:00",
          "2021-09-25T00:00:00",
          "2021-09-26T00:00:00",
          "2021-09-26T00:00:00",
          "2021-09-26T00:00:00",
          "2021-09-26T00:00:00",
          "2021-09-27T00:00:00",
          "2021-09-27T00:00:00",
          "2021-09-27T00:00:00",
          "2021-09-27T00:00:00",
          "2021-09-28T00:00:00",
          "2021-09-28T00:00:00",
          "2021-09-28T00:00:00",
          "2021-09-28T00:00:00",
          "2021-09-29T00:00:00",
          "2021-09-29T00:00:00",
          "2021-09-29T00:00:00",
          "2021-09-29T00:00:00",
          "2021-09-30T00:00:00",
          "2021-09-30T00:00:00",
          "2021-09-30T00:00:00",
          "2021-09-30T00:00:00",
          "2021-10-01T00:00:00",
          "2021-10-01T00:00:00",
          "2021-10-01T00:00:00",
          "2021-10-01T00:00:00",
          "2021-10-02T00:00:00",
          "2021-10-02T00:00:00",
          "2021-10-02T00:00:00",
          "2021-10-02T00:00:00",
          "2021-10-03T00:00:00",
          "2021-10-03T00:00:00",
          "2021-10-03T00:00:00",
          "2021-10-03T00:00:00",
          "2021-10-04T00:00:00",
          "2021-10-04T00:00:00",
          "2021-10-04T00:00:00",
          "2021-10-04T00:00:00",
          "2021-10-05T00:00:00",
          "2021-10-05T00:00:00",
          "2021-10-05T00:00:00",
          "2021-10-05T00:00:00",
          "2021-10-06T00:00:00",
          "2021-10-06T00:00:00",
          "2021-10-06T00:00:00",
          "2021-10-06T00:00:00",
          "2021-10-07T00:00:00",
          "2021-10-07T00:00:00",
          "2021-10-07T00:00:00",
          "2021-10-07T00:00:00",
          "2021-10-08T00:00:00",
          "2021-10-08T00:00:00",
          "2021-10-08T00:00:00",
          "2021-10-08T00:00:00",
          "2021-10-09T00:00:00",
          "2021-10-09T00:00:00",
          "2021-10-09T00:00:00",
          "2021-10-09T00:00:00",
          "2021-10-10T00:00:00",
          "2021-10-10T00:00:00",
          "2021-10-10T00:00:00",
          "2021-10-10T00:00:00",
          "2021-10-11T00:00:00",
          "2021-10-11T00:00:00",
          "2021-10-11T00:00:00",
          "2021-10-11T00:00:00",
          "2021-10-12T00:00:00",
          "2021-10-12T00:00:00",
          "2021-10-12T00:00:00",
          "2021-10-12T00:00:00",
          "2021-10-13T00:00:00",
          "2021-10-13T00:00:00",
          "2021-10-13T00:00:00",
          "2021-10-13T00:00:00",
          "2021-10-14T00:00:00",
          "2021-10-14T00:00:00",
          "2021-10-14T00:00:00",
          "2021-10-14T00:00:00",
          "2021-10-15T00:00:00",
          "2021-10-15T00:00:00",
          "2021-10-15T00:00:00",
          "2021-10-15T00:00:00",
          "2021-10-16T00:00:00",
          "2021-10-16T00:00:00",
          "2021-10-16T00:00:00",
          "2021-10-16T00:00:00",
          "2021-10-17T00:00:00",
          "2021-10-17T00:00:00",
          "2021-10-17T00:00:00",
          "2021-10-17T00:00:00",
          "2021-10-18T00:00:00",
          "2021-10-18T00:00:00",
          "2021-10-18T00:00:00",
          "2021-10-18T00:00:00",
          "2021-10-19T00:00:00",
          "2021-10-19T00:00:00",
          "2021-10-19T00:00:00",
          "2021-10-19T00:00:00",
          "2021-10-20T00:00:00",
          "2021-10-20T00:00:00",
          "2021-10-20T00:00:00",
          "2021-10-20T00:00:00",
          "2021-10-21T00:00:00",
          "2021-10-21T00:00:00",
          "2021-10-21T00:00:00",
          "2021-10-21T00:00:00",
          "2021-10-22T00:00:00",
          "2021-10-22T00:00:00",
          "2021-10-22T00:00:00",
          "2021-10-22T00:00:00",
          "2021-10-23T00:00:00",
          "2021-10-23T00:00:00",
          "2021-10-23T00:00:00",
          "2021-10-23T00:00:00",
          "2021-10-24T00:00:00",
          "2021-10-24T00:00:00",
          "2021-10-24T00:00:00",
          "2021-10-24T00:00:00",
          "2021-10-25T00:00:00",
          "2021-10-25T00:00:00",
          "2021-10-25T00:00:00",
          "2021-10-25T00:00:00",
          "2021-10-26T00:00:00",
          "2021-10-26T00:00:00",
          "2021-10-26T00:00:00",
          "2021-10-26T00:00:00",
          "2021-10-27T00:00:00",
          "2021-10-27T00:00:00",
          "2021-10-27T00:00:00",
          "2021-10-27T00:00:00",
          "2021-10-28T00:00:00",
          "2021-10-28T00:00:00",
          "2021-10-28T00:00:00",
          "2021-10-28T00:00:00",
          "2021-10-29T00:00:00",
          "2021-10-29T00:00:00",
          "2021-10-29T00:00:00",
          "2021-10-29T00:00:00",
          "2021-10-30T00:00:00",
          "2021-10-30T00:00:00",
          "2021-10-30T00:00:00",
          "2021-10-30T00:00:00",
          "2021-10-31T00:00:00",
          "2021-10-31T00:00:00",
          "2021-10-31T00:00:00",
          "2021-10-31T00:00:00",
          "2021-11-01T00:00:00",
          "2021-11-01T00:00:00",
          "2021-11-01T00:00:00",
          "2021-11-01T00:00:00",
          "2021-11-02T00:00:00",
          "2021-11-02T00:00:00",
          "2021-11-02T00:00:00",
          "2021-11-02T00:00:00",
          "2021-11-03T00:00:00",
          "2021-11-03T00:00:00",
          "2021-11-03T00:00:00",
          "2021-11-03T00:00:00",
          "2021-11-04T00:00:00",
          "2021-11-04T00:00:00",
          "2021-11-04T00:00:00",
          "2021-11-04T00:00:00",
          "2021-11-05T00:00:00",
          "2021-11-05T00:00:00",
          "2021-11-05T00:00:00",
          "2021-11-05T00:00:00",
          "2021-11-06T00:00:00",
          "2021-11-06T00:00:00",
          "2021-11-06T00:00:00",
          "2021-11-06T00:00:00",
          "2021-11-07T00:00:00",
          "2021-11-07T00:00:00",
          "2021-11-07T00:00:00",
          "2021-11-07T00:00:00",
          "2021-11-08T00:00:00",
          "2021-11-08T00:00:00",
          "2021-11-08T00:00:00",
          "2021-11-08T00:00:00",
          "2021-11-09T00:00:00",
          "2021-11-09T00:00:00",
          "2021-11-09T00:00:00",
          "2021-11-09T00:00:00",
          "2021-11-10T00:00:00",
          "2021-11-10T00:00:00",
          "2021-11-10T00:00:00",
          "2021-11-10T00:00:00",
          "2021-11-11T00:00:00",
          "2021-11-11T00:00:00",
          "2021-11-11T00:00:00",
          "2021-11-11T00:00:00",
          "2021-11-12T00:00:00",
          "2021-11-12T00:00:00",
          "2021-11-12T00:00:00",
          "2021-11-12T00:00:00",
          "2021-11-13T00:00:00",
          "2021-11-13T00:00:00",
          "2021-11-13T00:00:00",
          "2021-11-13T00:00:00",
          "2021-11-14T00:00:00",
          "2021-11-14T00:00:00",
          "2021-11-14T00:00:00",
          "2021-11-14T00:00:00",
          "2021-11-15T00:00:00",
          "2021-11-15T00:00:00",
          "2021-11-15T00:00:00",
          "2021-11-15T00:00:00",
          "2021-11-16T00:00:00",
          "2021-11-16T00:00:00",
          "2021-11-16T00:00:00",
          "2021-11-16T00:00:00",
          "2021-11-17T00:00:00",
          "2021-11-17T00:00:00",
          "2021-11-17T00:00:00",
          "2021-11-17T00:00:00",
          "2021-11-18T00:00:00",
          "2021-11-18T00:00:00",
          "2021-11-18T00:00:00",
          "2021-11-18T00:00:00",
          "2021-11-19T00:00:00",
          "2021-11-19T00:00:00",
          "2021-11-19T00:00:00",
          "2021-11-19T00:00:00",
          "2021-11-20T00:00:00",
          "2021-11-20T00:00:00",
          "2021-11-20T00:00:00",
          "2021-11-20T00:00:00",
          "2021-11-21T00:00:00",
          "2021-11-21T00:00:00",
          "2021-11-21T00:00:00",
          "2021-11-21T00:00:00",
          "2021-11-22T00:00:00",
          "2021-11-22T00:00:00",
          "2021-11-22T00:00:00",
          "2021-11-22T00:00:00",
          "2021-11-23T00:00:00",
          "2021-11-23T00:00:00",
          "2021-11-23T00:00:00",
          "2021-11-23T00:00:00",
          "2021-11-24T00:00:00",
          "2021-11-24T00:00:00",
          "2021-11-24T00:00:00",
          "2021-11-24T00:00:00",
          "2021-11-25T00:00:00",
          "2021-11-25T00:00:00",
          "2021-11-25T00:00:00",
          "2021-11-25T00:00:00",
          "2021-11-26T00:00:00",
          "2021-11-26T00:00:00",
          "2021-11-26T00:00:00",
          "2021-11-26T00:00:00",
          "2021-11-27T00:00:00",
          "2021-11-27T00:00:00",
          "2021-11-27T00:00:00",
          "2021-11-27T00:00:00",
          "2021-11-28T00:00:00",
          "2021-11-28T00:00:00",
          "2021-11-28T00:00:00",
          "2021-11-28T00:00:00",
          "2021-11-29T00:00:00",
          "2021-11-29T00:00:00",
          "2021-11-29T00:00:00",
          "2021-11-29T00:00:00",
          "2021-11-30T00:00:00",
          "2021-11-30T00:00:00",
          "2021-11-30T00:00:00",
          "2021-11-30T00:00:00",
          "2021-12-01T00:00:00",
          "2021-12-01T00:00:00",
          "2021-12-01T00:00:00",
          "2021-12-01T00:00:00",
          "2021-12-02T00:00:00",
          "2021-12-02T00:00:00",
          "2021-12-02T00:00:00",
          "2021-12-02T00:00:00",
          "2021-12-03T00:00:00",
          "2021-12-03T00:00:00",
          "2021-12-03T00:00:00",
          "2021-12-03T00:00:00",
          "2021-12-04T00:00:00",
          "2021-12-04T00:00:00",
          "2021-12-04T00:00:00",
          "2021-12-04T00:00:00",
          "2021-12-05T00:00:00",
          "2021-12-05T00:00:00",
          "2021-12-05T00:00:00",
          "2021-12-05T00:00:00",
          "2021-12-06T00:00:00",
          "2021-12-06T00:00:00",
          "2021-12-06T00:00:00",
          "2021-12-06T00:00:00",
          "2021-12-07T00:00:00",
          "2021-12-07T00:00:00",
          "2021-12-07T00:00:00",
          "2021-12-07T00:00:00",
          "2021-12-08T00:00:00",
          "2021-12-08T00:00:00",
          "2021-12-08T00:00:00",
          "2021-12-08T00:00:00",
          "2021-12-09T00:00:00",
          "2021-12-09T00:00:00",
          "2021-12-09T00:00:00",
          "2021-12-09T00:00:00",
          "2021-12-10T00:00:00",
          "2021-12-10T00:00:00",
          "2021-12-10T00:00:00",
          "2021-12-10T00:00:00",
          "2021-12-11T00:00:00",
          "2021-12-11T00:00:00",
          "2021-12-11T00:00:00",
          "2021-12-11T00:00:00",
          "2021-12-12T00:00:00",
          "2021-12-12T00:00:00",
          "2021-12-12T00:00:00",
          "2021-12-12T00:00:00",
          "2021-12-13T00:00:00",
          "2021-12-13T00:00:00",
          "2021-12-13T00:00:00",
          "2021-12-13T00:00:00",
          "2021-12-14T00:00:00",
          "2021-12-14T00:00:00",
          "2021-12-14T00:00:00",
          "2021-12-14T00:00:00",
          "2021-12-15T00:00:00",
          "2021-12-15T00:00:00",
          "2021-12-15T00:00:00",
          "2021-12-15T00:00:00",
          "2021-12-16T00:00:00",
          "2021-12-16T00:00:00",
          "2021-12-16T00:00:00",
          "2021-12-16T00:00:00",
          "2021-12-17T00:00:00",
          "2021-12-17T00:00:00",
          "2021-12-17T00:00:00",
          "2021-12-17T00:00:00",
          "2021-12-18T00:00:00",
          "2021-12-18T00:00:00",
          "2021-12-18T00:00:00",
          "2021-12-18T00:00:00",
          "2021-12-19T00:00:00",
          "2021-12-19T00:00:00",
          "2021-12-19T00:00:00",
          "2021-12-19T00:00:00",
          "2021-12-20T00:00:00",
          "2021-12-20T00:00:00",
          "2021-12-20T00:00:00",
          "2021-12-20T00:00:00",
          "2021-12-21T00:00:00",
          "2021-12-21T00:00:00",
          "2021-12-21T00:00:00",
          "2021-12-21T00:00:00",
          "2021-12-22T00:00:00",
          "2021-12-22T00:00:00",
          "2021-12-22T00:00:00",
          "2021-12-22T00:00:00",
          "2021-12-23T00:00:00",
          "2021-12-23T00:00:00",
          "2021-12-23T00:00:00",
          "2021-12-23T00:00:00",
          "2021-12-24T00:00:00",
          "2021-12-24T00:00:00",
          "2021-12-24T00:00:00",
          "2021-12-24T00:00:00",
          "2021-12-25T00:00:00",
          "2021-12-25T00:00:00",
          "2021-12-25T00:00:00",
          "2021-12-25T00:00:00",
          "2021-12-26T00:00:00",
          "2021-12-26T00:00:00",
          "2021-12-26T00:00:00",
          "2021-12-26T00:00:00",
          "2021-12-27T00:00:00",
          "2021-12-27T00:00:00",
          "2021-12-27T00:00:00",
          "2021-12-27T00:00:00",
          "2021-12-28T00:00:00",
          "2021-12-28T00:00:00",
          "2021-12-28T00:00:00",
          "2021-12-28T00:00:00",
          "2021-12-29T00:00:00",
          "2021-12-29T00:00:00",
          "2021-12-29T00:00:00",
          "2021-12-29T00:00:00",
          "2021-12-30T00:00:00",
          "2021-12-30T00:00:00",
          "2021-12-30T00:00:00",
          "2021-12-30T00:00:00"
         ],
         "y": [
          21.221107,
          20.993782,
          21.221107,
          20.993782,
          20.741272,
          20.55603,
          20.741272,
          20.55603,
          20.33168,
          20.127075,
          20.33168,
          20.127075,
          19.936584,
          19.784416,
          19.936584,
          19.784416,
          19.626167,
          19.509544,
          19.626167,
          19.509544,
          19.41359,
          19.304482,
          19.41359,
          19.304482,
          19.173096,
          19.070175,
          19.173096,
          19.070175,
          18.939491,
          18.823708,
          18.939491,
          18.823708,
          18.68087,
          18.559303,
          18.68087,
          18.559303,
          18.4094,
          18.316917,
          18.4094,
          18.316917,
          18.212471,
          18.163994,
          18.212471,
          18.163994,
          18.154213,
          18.2379,
          18.154213,
          18.2379,
          18.40332,
          18.592262,
          18.40332,
          18.592262,
          18.75502,
          18.886879,
          18.75502,
          18.886879,
          19.003815,
          19.031685,
          19.003815,
          19.031685,
          19.037071,
          18.99958,
          19.037071,
          18.99958,
          18.928055,
          18.822502,
          18.928055,
          18.822502,
          18.666885,
          18.473755,
          18.666885,
          18.473755,
          18.272331,
          18.197784,
          18.272331,
          18.197784,
          18.239899,
          18.383331,
          18.239899,
          18.383331,
          18.55452,
          18.70028,
          18.55452,
          18.70028,
          18.851295,
          18.9142,
          18.851295,
          18.9142,
          18.95929,
          19.008049,
          18.95929,
          19.008049,
          19.063446,
          19.119774,
          19.063446,
          19.119774,
          19.22255,
          19.405548,
          19.22255,
          19.405548,
          19.598488,
          19.751999,
          19.598488,
          19.751999,
          19.887672,
          19.938118,
          19.887672,
          19.938118,
          19.979637,
          20.02398,
          19.979637,
          20.02398,
          20.11335,
          20.185875,
          20.11335,
          20.185875,
          20.30935,
          20.456856,
          20.30935,
          20.456856,
          20.651031,
          20.870247,
          20.651031,
          20.870247,
          21.086884,
          21.262009,
          21.086884,
          21.262009,
          21.45543,
          21.584282,
          21.45543,
          21.584282,
          21.715431,
          21.795807,
          21.715431,
          21.795807,
          21.837952,
          21.825905,
          21.837952,
          21.825905,
          21.801155,
          21.76387,
          21.801155,
          21.76387,
          21.703468,
          21.645798,
          21.703468,
          21.645798,
          21.59578,
          21.521126,
          21.59578,
          21.521126,
          21.450974,
          21.390366,
          21.450974,
          21.390366,
          21.371788,
          21.396004,
          21.371788,
          21.396004,
          21.460434,
          21.60154,
          21.460434,
          21.60154,
          21.696472,
          21.762207,
          21.696472,
          21.762207,
          21.807907,
          21.828041,
          21.807907,
          21.828041,
          21.839859,
          21.847824,
          21.839859,
          21.847824,
          21.858925,
          21.85736,
          21.858925,
          21.85736,
          21.849098,
          21.848145,
          21.849098,
          21.848145,
          21.859901,
          21.892159,
          21.859901,
          21.892159,
          21.943733,
          21.997627,
          21.943733,
          21.997627,
          22.060387,
          22.078247,
          22.060387,
          22.078247,
          22.07817,
          22.052567,
          22.07817,
          22.052567,
          22.024399,
          21.993126,
          22.024399,
          21.993126,
          21.944794,
          21.890984,
          21.944794,
          21.890984,
          21.786392,
          21.616165,
          21.786392,
          21.616165,
          21.387947,
          21.133179,
          21.387947,
          21.133179,
          20.86345,
          20.646393,
          20.86345,
          20.646393,
          20.418419,
          20.245964,
          20.418419,
          20.245964,
          20.056633,
          19.892479,
          20.056633,
          19.892479,
          19.729256,
          19.613045,
          19.729256,
          19.613045,
          19.540733,
          19.558876,
          19.540733,
          19.558876,
          19.611702,
          19.676842,
          19.611702,
          19.676842,
          19.72277,
          19.752892,
          19.72277,
          19.752892,
          19.759537,
          19.777756,
          19.759537,
          19.777756,
          19.795517,
          19.890099,
          19.795517,
          19.890099,
          20.049706,
          20.24675,
          20.049706,
          20.24675,
          20.48008,
          20.672882,
          20.48008,
          20.672882,
          20.847847,
          20.920395,
          20.847847,
          20.920395,
          20.964203,
          20.945518,
          20.964203,
          20.945518,
          20.93969,
          20.94529,
          20.93969,
          20.94529,
          20.988174,
          21.05088,
          20.988174,
          21.05088,
          21.081253,
          21.089546,
          21.081253,
          21.089546,
          21.064766,
          20.942566,
          21.064766,
          20.942566,
          20.753548,
          20.618279,
          20.753548,
          20.618279,
          20.571991,
          20.57515,
          20.571991,
          20.57515,
          20.575829,
          20.553436,
          20.575829,
          20.553436,
          20.52298,
          20.517654,
          20.52298,
          20.517654,
          20.505135,
          20.520325,
          20.505135,
          20.520325,
          20.504395,
          20.452682,
          20.504395,
          20.452682,
          20.405304,
          20.31234,
          20.405304,
          20.31234,
          20.160103,
          20.057373,
          20.160103,
          20.057373,
          20.007248,
          20.003784,
          20.007248,
          20.003784,
          20.030571,
          20.138802,
          20.030571,
          20.138802,
          20.278252,
          20.349632,
          20.278252,
          20.349632,
          20.445015,
          20.55429,
          20.445015,
          20.55429,
          20.68026,
          20.809967,
          20.68026,
          20.809967,
          20.912552,
          20.884857,
          20.912552,
          20.884857,
          20.74099,
          20.518776,
          20.74099,
          20.518776,
          20.277168,
          20.058128,
          20.277168,
          20.058128,
          19.809082,
          19.572227,
          19.809082,
          19.572227,
          19.354813,
          19.2294,
          19.354813,
          19.2294,
          19.16047,
          19.187286,
          19.16047,
          19.187286,
          19.174187,
          19.08937,
          19.174187,
          19.08937,
          18.976097,
          18.799294,
          18.976097,
          18.799294,
          18.552086,
          18.311432,
          18.552086,
          18.311432,
          18.051476,
          17.852638,
          18.051476,
          17.852638,
          17.687042,
          17.700226,
          17.687042,
          17.700226,
          17.743889,
          17.841553,
          17.743889,
          17.841553,
          17.981339,
          18.095604,
          17.981339,
          18.095604
         ]
        }
       ],
       "layout": {
        "autosize": false,
        "height": 500,
        "legend": {
         "font": {
          "size": 15
         },
         "orientation": "h",
         "title": {},
         "x": 1,
         "xanchor": "right",
         "y": 0.98,
         "yanchor": "bottom"
        },
        "template": {
         "data": {
          "bar": [
           {
            "error_x": {
             "color": "#2a3f5f"
            },
            "error_y": {
             "color": "#2a3f5f"
            },
            "marker": {
             "line": {
              "color": "white",
              "width": 0.5
             },
             "pattern": {
              "fillmode": "overlay",
              "size": 10,
              "solidity": 0.2
             }
            },
            "type": "bar"
           }
          ],
          "barpolar": [
           {
            "marker": {
             "line": {
              "color": "white",
              "width": 0.5
             },
             "pattern": {
              "fillmode": "overlay",
              "size": 10,
              "solidity": 0.2
             }
            },
            "type": "barpolar"
           }
          ],
          "carpet": [
           {
            "aaxis": {
             "endlinecolor": "#2a3f5f",
             "gridcolor": "#C8D4E3",
             "linecolor": "#C8D4E3",
             "minorgridcolor": "#C8D4E3",
             "startlinecolor": "#2a3f5f"
            },
            "baxis": {
             "endlinecolor": "#2a3f5f",
             "gridcolor": "#C8D4E3",
             "linecolor": "#C8D4E3",
             "minorgridcolor": "#C8D4E3",
             "startlinecolor": "#2a3f5f"
            },
            "type": "carpet"
           }
          ],
          "choropleth": [
           {
            "colorbar": {
             "outlinewidth": 0,
             "ticks": ""
            },
            "type": "choropleth"
           }
          ],
          "contour": [
           {
            "colorbar": {
             "outlinewidth": 0,
             "ticks": ""
            },
            "colorscale": [
             [
              0,
              "#0d0887"
             ],
             [
              0.1111111111111111,
              "#46039f"
             ],
             [
              0.2222222222222222,
              "#7201a8"
             ],
             [
              0.3333333333333333,
              "#9c179e"
             ],
             [
              0.4444444444444444,
              "#bd3786"
             ],
             [
              0.5555555555555556,
              "#d8576b"
             ],
             [
              0.6666666666666666,
              "#ed7953"
             ],
             [
              0.7777777777777778,
              "#fb9f3a"
             ],
             [
              0.8888888888888888,
              "#fdca26"
             ],
             [
              1,
              "#f0f921"
             ]
            ],
            "type": "contour"
           }
          ],
          "contourcarpet": [
           {
            "colorbar": {
             "outlinewidth": 0,
             "ticks": ""
            },
            "type": "contourcarpet"
           }
          ],
          "heatmap": [
           {
            "colorbar": {
             "outlinewidth": 0,
             "ticks": ""
            },
            "colorscale": [
             [
              0,
              "#0d0887"
             ],
             [
              0.1111111111111111,
              "#46039f"
             ],
             [
              0.2222222222222222,
              "#7201a8"
             ],
             [
              0.3333333333333333,
              "#9c179e"
             ],
             [
              0.4444444444444444,
              "#bd3786"
             ],
             [
              0.5555555555555556,
              "#d8576b"
             ],
             [
              0.6666666666666666,
              "#ed7953"
             ],
             [
              0.7777777777777778,
              "#fb9f3a"
             ],
             [
              0.8888888888888888,
              "#fdca26"
             ],
             [
              1,
              "#f0f921"
             ]
            ],
            "type": "heatmap"
           }
          ],
          "heatmapgl": [
           {
            "colorbar": {
             "outlinewidth": 0,
             "ticks": ""
            },
            "colorscale": [
             [
              0,
              "#0d0887"
             ],
             [
              0.1111111111111111,
              "#46039f"
             ],
             [
              0.2222222222222222,
              "#7201a8"
             ],
             [
              0.3333333333333333,
              "#9c179e"
             ],
             [
              0.4444444444444444,
              "#bd3786"
             ],
             [
              0.5555555555555556,
              "#d8576b"
             ],
             [
              0.6666666666666666,
              "#ed7953"
             ],
             [
              0.7777777777777778,
              "#fb9f3a"
             ],
             [
              0.8888888888888888,
              "#fdca26"
             ],
             [
              1,
              "#f0f921"
             ]
            ],
            "type": "heatmapgl"
           }
          ],
          "histogram": [
           {
            "marker": {
             "pattern": {
              "fillmode": "overlay",
              "size": 10,
              "solidity": 0.2
             }
            },
            "type": "histogram"
           }
          ],
          "histogram2d": [
           {
            "colorbar": {
             "outlinewidth": 0,
             "ticks": ""
            },
            "colorscale": [
             [
              0,
              "#0d0887"
             ],
             [
              0.1111111111111111,
              "#46039f"
             ],
             [
              0.2222222222222222,
              "#7201a8"
             ],
             [
              0.3333333333333333,
              "#9c179e"
             ],
             [
              0.4444444444444444,
              "#bd3786"
             ],
             [
              0.5555555555555556,
              "#d8576b"
             ],
             [
              0.6666666666666666,
              "#ed7953"
             ],
             [
              0.7777777777777778,
              "#fb9f3a"
             ],
             [
              0.8888888888888888,
              "#fdca26"
             ],
             [
              1,
              "#f0f921"
             ]
            ],
            "type": "histogram2d"
           }
          ],
          "histogram2dcontour": [
           {
            "colorbar": {
             "outlinewidth": 0,
             "ticks": ""
            },
            "colorscale": [
             [
              0,
              "#0d0887"
             ],
             [
              0.1111111111111111,
              "#46039f"
             ],
             [
              0.2222222222222222,
              "#7201a8"
             ],
             [
              0.3333333333333333,
              "#9c179e"
             ],
             [
              0.4444444444444444,
              "#bd3786"
             ],
             [
              0.5555555555555556,
              "#d8576b"
             ],
             [
              0.6666666666666666,
              "#ed7953"
             ],
             [
              0.7777777777777778,
              "#fb9f3a"
             ],
             [
              0.8888888888888888,
              "#fdca26"
             ],
             [
              1,
              "#f0f921"
             ]
            ],
            "type": "histogram2dcontour"
           }
          ],
          "mesh3d": [
           {
            "colorbar": {
             "outlinewidth": 0,
             "ticks": ""
            },
            "type": "mesh3d"
           }
          ],
          "parcoords": [
           {
            "line": {
             "colorbar": {
              "outlinewidth": 0,
              "ticks": ""
             }
            },
            "type": "parcoords"
           }
          ],
          "pie": [
           {
            "automargin": true,
            "type": "pie"
           }
          ],
          "scatter": [
           {
            "fillpattern": {
             "fillmode": "overlay",
             "size": 10,
             "solidity": 0.2
            },
            "type": "scatter"
           }
          ],
          "scatter3d": [
           {
            "line": {
             "colorbar": {
              "outlinewidth": 0,
              "ticks": ""
             }
            },
            "marker": {
             "colorbar": {
              "outlinewidth": 0,
              "ticks": ""
             }
            },
            "type": "scatter3d"
           }
          ],
          "scattercarpet": [
           {
            "marker": {
             "colorbar": {
              "outlinewidth": 0,
              "ticks": ""
             }
            },
            "type": "scattercarpet"
           }
          ],
          "scattergeo": [
           {
            "marker": {
             "colorbar": {
              "outlinewidth": 0,
              "ticks": ""
             }
            },
            "type": "scattergeo"
           }
          ],
          "scattergl": [
           {
            "marker": {
             "colorbar": {
              "outlinewidth": 0,
              "ticks": ""
             }
            },
            "type": "scattergl"
           }
          ],
          "scattermapbox": [
           {
            "marker": {
             "colorbar": {
              "outlinewidth": 0,
              "ticks": ""
             }
            },
            "type": "scattermapbox"
           }
          ],
          "scatterpolar": [
           {
            "marker": {
             "colorbar": {
              "outlinewidth": 0,
              "ticks": ""
             }
            },
            "type": "scatterpolar"
           }
          ],
          "scatterpolargl": [
           {
            "marker": {
             "colorbar": {
              "outlinewidth": 0,
              "ticks": ""
             }
            },
            "type": "scatterpolargl"
           }
          ],
          "scatterternary": [
           {
            "marker": {
             "colorbar": {
              "outlinewidth": 0,
              "ticks": ""
             }
            },
            "type": "scatterternary"
           }
          ],
          "surface": [
           {
            "colorbar": {
             "outlinewidth": 0,
             "ticks": ""
            },
            "colorscale": [
             [
              0,
              "#0d0887"
             ],
             [
              0.1111111111111111,
              "#46039f"
             ],
             [
              0.2222222222222222,
              "#7201a8"
             ],
             [
              0.3333333333333333,
              "#9c179e"
             ],
             [
              0.4444444444444444,
              "#bd3786"
             ],
             [
              0.5555555555555556,
              "#d8576b"
             ],
             [
              0.6666666666666666,
              "#ed7953"
             ],
             [
              0.7777777777777778,
              "#fb9f3a"
             ],
             [
              0.8888888888888888,
              "#fdca26"
             ],
             [
              1,
              "#f0f921"
             ]
            ],
            "type": "surface"
           }
          ],
          "table": [
           {
            "cells": {
             "fill": {
              "color": "#EBF0F8"
             },
             "line": {
              "color": "white"
             }
            },
            "header": {
             "fill": {
              "color": "#C8D4E3"
             },
             "line": {
              "color": "white"
             }
            },
            "type": "table"
           }
          ]
         },
         "layout": {
          "annotationdefaults": {
           "arrowcolor": "#2a3f5f",
           "arrowhead": 0,
           "arrowwidth": 1
          },
          "autotypenumbers": "strict",
          "coloraxis": {
           "colorbar": {
            "outlinewidth": 0,
            "ticks": ""
           }
          },
          "colorscale": {
           "diverging": [
            [
             0,
             "#8e0152"
            ],
            [
             0.1,
             "#c51b7d"
            ],
            [
             0.2,
             "#de77ae"
            ],
            [
             0.3,
             "#f1b6da"
            ],
            [
             0.4,
             "#fde0ef"
            ],
            [
             0.5,
             "#f7f7f7"
            ],
            [
             0.6,
             "#e6f5d0"
            ],
            [
             0.7,
             "#b8e186"
            ],
            [
             0.8,
             "#7fbc41"
            ],
            [
             0.9,
             "#4d9221"
            ],
            [
             1,
             "#276419"
            ]
           ],
           "sequential": [
            [
             0,
             "#0d0887"
            ],
            [
             0.1111111111111111,
             "#46039f"
            ],
            [
             0.2222222222222222,
             "#7201a8"
            ],
            [
             0.3333333333333333,
             "#9c179e"
            ],
            [
             0.4444444444444444,
             "#bd3786"
            ],
            [
             0.5555555555555556,
             "#d8576b"
            ],
            [
             0.6666666666666666,
             "#ed7953"
            ],
            [
             0.7777777777777778,
             "#fb9f3a"
            ],
            [
             0.8888888888888888,
             "#fdca26"
            ],
            [
             1,
             "#f0f921"
            ]
           ],
           "sequentialminus": [
            [
             0,
             "#0d0887"
            ],
            [
             0.1111111111111111,
             "#46039f"
            ],
            [
             0.2222222222222222,
             "#7201a8"
            ],
            [
             0.3333333333333333,
             "#9c179e"
            ],
            [
             0.4444444444444444,
             "#bd3786"
            ],
            [
             0.5555555555555556,
             "#d8576b"
            ],
            [
             0.6666666666666666,
             "#ed7953"
            ],
            [
             0.7777777777777778,
             "#fb9f3a"
            ],
            [
             0.8888888888888888,
             "#fdca26"
            ],
            [
             1,
             "#f0f921"
            ]
           ]
          },
          "colorway": [
           "#636efa",
           "#EF553B",
           "#00cc96",
           "#ab63fa",
           "#FFA15A",
           "#19d3f3",
           "#FF6692",
           "#B6E880",
           "#FF97FF",
           "#FECB52"
          ],
          "font": {
           "color": "#2a3f5f"
          },
          "geo": {
           "bgcolor": "white",
           "lakecolor": "white",
           "landcolor": "white",
           "showlakes": true,
           "showland": true,
           "subunitcolor": "#C8D4E3"
          },
          "hoverlabel": {
           "align": "left"
          },
          "hovermode": "closest",
          "mapbox": {
           "style": "light"
          },
          "paper_bgcolor": "white",
          "plot_bgcolor": "white",
          "polar": {
           "angularaxis": {
            "gridcolor": "#EBF0F8",
            "linecolor": "#EBF0F8",
            "ticks": ""
           },
           "bgcolor": "white",
           "radialaxis": {
            "gridcolor": "#EBF0F8",
            "linecolor": "#EBF0F8",
            "ticks": ""
           }
          },
          "scene": {
           "xaxis": {
            "backgroundcolor": "white",
            "gridcolor": "#DFE8F3",
            "gridwidth": 2,
            "linecolor": "#EBF0F8",
            "showbackground": true,
            "ticks": "",
            "zerolinecolor": "#EBF0F8"
           },
           "yaxis": {
            "backgroundcolor": "white",
            "gridcolor": "#DFE8F3",
            "gridwidth": 2,
            "linecolor": "#EBF0F8",
            "showbackground": true,
            "ticks": "",
            "zerolinecolor": "#EBF0F8"
           },
           "zaxis": {
            "backgroundcolor": "white",
            "gridcolor": "#DFE8F3",
            "gridwidth": 2,
            "linecolor": "#EBF0F8",
            "showbackground": true,
            "ticks": "",
            "zerolinecolor": "#EBF0F8"
           }
          },
          "shapedefaults": {
           "line": {
            "color": "#2a3f5f"
           }
          },
          "ternary": {
           "aaxis": {
            "gridcolor": "#DFE8F3",
            "linecolor": "#A2B1C6",
            "ticks": ""
           },
           "baxis": {
            "gridcolor": "#DFE8F3",
            "linecolor": "#A2B1C6",
            "ticks": ""
           },
           "bgcolor": "white",
           "caxis": {
            "gridcolor": "#DFE8F3",
            "linecolor": "#A2B1C6",
            "ticks": ""
           }
          },
          "title": {
           "x": 0.05
          },
          "xaxis": {
           "automargin": true,
           "gridcolor": "#EBF0F8",
           "linecolor": "#EBF0F8",
           "ticks": "",
           "title": {
            "standoff": 15
           },
           "zerolinecolor": "#EBF0F8",
           "zerolinewidth": 2
          },
          "yaxis": {
           "automargin": true,
           "gridcolor": "#EBF0F8",
           "linecolor": "#EBF0F8",
           "ticks": "",
           "title": {
            "standoff": 15
           },
           "zerolinecolor": "#EBF0F8",
           "zerolinewidth": 2
          }
         }
        },
        "title": {
         "font": {
          "size": 20
         },
         "text": "Forecasting COVID-19 MVBeds with GRU (SA)",
         "x": 0.5,
         "xanchor": "center",
         "yanchor": "top"
        },
        "width": 900,
        "xaxis": {
         "rangeselector": {
          "buttons": [
           {
            "count": 1,
            "label": "1m",
            "step": "month",
            "stepmode": "backward"
           },
           {
            "count": 6,
            "label": "6m",
            "step": "month",
            "stepmode": "backward"
           },
           {
            "count": 1,
            "label": "YTD",
            "step": "year",
            "stepmode": "todate"
           },
           {
            "count": 1,
            "label": "1y",
            "step": "year",
            "stepmode": "backward"
           },
           {
            "step": "all"
           }
          ]
         },
         "rangeslider": {
          "visible": true
         },
         "tickfont": {
          "size": 15
         },
         "title": {
          "font": {
           "size": 15
          },
          "text": "Time"
         }
        },
        "yaxis": {
         "tickfont": {
          "size": 15
         },
         "title": {
          "font": {
           "size": 15
          },
          "text": "Value"
         }
        }
       }
      }
     },
     "metadata": {},
     "output_type": "display_data"
    }
   ],
   "source": [
    "# prediction using the best parameters\n",
    "rnn_config = SingleStepRNNConfig(\n",
    "    rnn_type=best_params[0],\n",
    "    input_size=11,\n",
    "    hidden_size=best_params[1],\n",
    "    num_layers=best_params[2],\n",
    "    bidirectional=best_params[3],\n",
    "    learning_rate=1e-3,\n",
    ")\n",
    "\n",
    "model = SingleStepRNNModel(rnn_config)\n",
    "# model.float()\n",
    "\n",
    "# logger = TensorBoardLogger(\"notebook/multivariate/tb_logs\", name=\"my_rnn_experiment\")\n",
    "trainer = pl.Trainer(\n",
    "    # logger=logger,\n",
    "    min_epochs=5,\n",
    "    max_epochs=100,\n",
    "    accelerator=\"gpu\",\n",
    "    devices=1,\n",
    "    callbacks=[EarlyStopping(monitor=\"valid_loss\", patience=10)],\n",
    ")\n",
    "\n",
    "trainer.fit(model, datamodule)\n",
    "\n",
    "predictions = trainer.predict(model, datamodule.test_dataloader())\n",
    "predictions = torch.cat(predictions).squeeze().detach().numpy()\n",
    "predictions = predictions * datamodule.train.std + datamodule.train.mean\n",
    "\n",
    "actuals = test[\"covidOccupiedMVBeds\"].values\n",
    "\n",
    "assert (\n",
    "    actuals.shape == predictions.shape\n",
    "), \"Mismatch in shapes between actuals and predictions\"\n",
    "\n",
    "algorithm_name = rnn_config.rnn_type\n",
    "\n",
    "metrics = {\n",
    "    \"Algorithm\": f\"{algorithm_name} (SA)\",\n",
    "    \"MAE\": mae(actuals, predictions),\n",
    "    \"MSE\": mse(actuals, predictions),\n",
    "    \"MASE\": mase(actuals, predictions, train[\"covidOccupiedMVBeds\"].values),\n",
    "    \"Forecast Bias\": forecast_bias(actuals, predictions),\n",
    "}\n",
    "\n",
    "value_formats = [\"{}\", \"{:.4f}\", \"{:.4f}\", \"{:.4f}\", \"{:.2f}\"]\n",
    "\n",
    "metrics = {\n",
    "    key: format_.format(value)\n",
    "    for key, value, format_ in zip(metrics.keys(), metrics.values(), value_formats)\n",
    "}\n",
    "\n",
    "pred_df_ = pd.DataFrame({f\"Optimized {algorithm_name} (SA)\": predictions}, index=test.index)\n",
    "\n",
    "pred_df = test.join(pred_df_)\n",
    "\n",
    "metric_record.append(metrics)\n",
    "\n",
    "print(metrics)\n",
    "\n",
    "fig = plot_forecast(\n",
    "    pred_df,\n",
    "    forecast_columns=[f\"Optimized {algorithm_name} (SA)\"],\n",
    "    forecast_display_names=[f\"Optimized {algorithm_name} (SA)\"],\n",
    ")\n",
    "\n",
    "title = f\"Forecasting COVID-19 MVBeds with {algorithm_name} (SA)\"\n",
    "fig = format_plot(fig, title=title)\n",
    "fig.update_xaxes(\n",
    "    rangeslider_visible=True,\n",
    "    rangeselector=dict(\n",
    "        buttons=list(\n",
    "            [\n",
    "                dict(count=1, label=\"1m\", step=\"month\", stepmode=\"backward\"),\n",
    "                dict(count=6, label=\"6m\", step=\"month\", stepmode=\"backward\"),\n",
    "                dict(count=1, label=\"YTD\", step=\"year\", stepmode=\"todate\"),\n",
    "                dict(count=1, label=\"1y\", step=\"year\", stepmode=\"backward\"),\n",
    "                dict(step=\"all\"),\n",
    "            ]\n",
    "        )\n",
    "    ),\n",
    ")\n",
    "\n",
    "# save_path = f\"images/forecast_multivarate_{algorithm_name}.png\"\n",
    "# pio.write_image(fig, save_path)\n",
    "fig.show()"
   ]
  },
  {
   "cell_type": "code",
   "execution_count": 40,
   "metadata": {},
   "outputs": [],
   "source": [
    "# shutil.rmtree(\"notebook/multivariate/tb_logs\")"
   ]
  },
  {
   "cell_type": "code",
   "execution_count": 41,
   "metadata": {},
   "outputs": [
    {
     "data": {
      "application/vnd.plotly.v1+json": {
       "config": {
        "plotlyServerURL": "https://plot.ly"
       },
       "data": [
        {
         "line": {
          "color": "rgb(102,194,165)",
          "width": 2
         },
         "marker": {
          "opacity": 0.5,
          "size": 6
         },
         "mode": "lines",
         "name": "Actual COVID-19 MVBeds trends",
         "type": "scatter",
         "x": [
          "2021-09-25T00:00:00",
          "2021-09-25T00:00:00",
          "2021-09-25T00:00:00",
          "2021-09-25T00:00:00",
          "2021-09-26T00:00:00",
          "2021-09-26T00:00:00",
          "2021-09-26T00:00:00",
          "2021-09-26T00:00:00",
          "2021-09-27T00:00:00",
          "2021-09-27T00:00:00",
          "2021-09-27T00:00:00",
          "2021-09-27T00:00:00",
          "2021-09-28T00:00:00",
          "2021-09-28T00:00:00",
          "2021-09-28T00:00:00",
          "2021-09-28T00:00:00",
          "2021-09-29T00:00:00",
          "2021-09-29T00:00:00",
          "2021-09-29T00:00:00",
          "2021-09-29T00:00:00",
          "2021-09-30T00:00:00",
          "2021-09-30T00:00:00",
          "2021-09-30T00:00:00",
          "2021-09-30T00:00:00",
          "2021-10-01T00:00:00",
          "2021-10-01T00:00:00",
          "2021-10-01T00:00:00",
          "2021-10-01T00:00:00",
          "2021-10-02T00:00:00",
          "2021-10-02T00:00:00",
          "2021-10-02T00:00:00",
          "2021-10-02T00:00:00",
          "2021-10-03T00:00:00",
          "2021-10-03T00:00:00",
          "2021-10-03T00:00:00",
          "2021-10-03T00:00:00",
          "2021-10-04T00:00:00",
          "2021-10-04T00:00:00",
          "2021-10-04T00:00:00",
          "2021-10-04T00:00:00",
          "2021-10-05T00:00:00",
          "2021-10-05T00:00:00",
          "2021-10-05T00:00:00",
          "2021-10-05T00:00:00",
          "2021-10-06T00:00:00",
          "2021-10-06T00:00:00",
          "2021-10-06T00:00:00",
          "2021-10-06T00:00:00",
          "2021-10-07T00:00:00",
          "2021-10-07T00:00:00",
          "2021-10-07T00:00:00",
          "2021-10-07T00:00:00",
          "2021-10-08T00:00:00",
          "2021-10-08T00:00:00",
          "2021-10-08T00:00:00",
          "2021-10-08T00:00:00",
          "2021-10-09T00:00:00",
          "2021-10-09T00:00:00",
          "2021-10-09T00:00:00",
          "2021-10-09T00:00:00",
          "2021-10-10T00:00:00",
          "2021-10-10T00:00:00",
          "2021-10-10T00:00:00",
          "2021-10-10T00:00:00",
          "2021-10-11T00:00:00",
          "2021-10-11T00:00:00",
          "2021-10-11T00:00:00",
          "2021-10-11T00:00:00",
          "2021-10-12T00:00:00",
          "2021-10-12T00:00:00",
          "2021-10-12T00:00:00",
          "2021-10-12T00:00:00",
          "2021-10-13T00:00:00",
          "2021-10-13T00:00:00",
          "2021-10-13T00:00:00",
          "2021-10-13T00:00:00",
          "2021-10-14T00:00:00",
          "2021-10-14T00:00:00",
          "2021-10-14T00:00:00",
          "2021-10-14T00:00:00",
          "2021-10-15T00:00:00",
          "2021-10-15T00:00:00",
          "2021-10-15T00:00:00",
          "2021-10-15T00:00:00",
          "2021-10-16T00:00:00",
          "2021-10-16T00:00:00",
          "2021-10-16T00:00:00",
          "2021-10-16T00:00:00",
          "2021-10-17T00:00:00",
          "2021-10-17T00:00:00",
          "2021-10-17T00:00:00",
          "2021-10-17T00:00:00",
          "2021-10-18T00:00:00",
          "2021-10-18T00:00:00",
          "2021-10-18T00:00:00",
          "2021-10-18T00:00:00",
          "2021-10-19T00:00:00",
          "2021-10-19T00:00:00",
          "2021-10-19T00:00:00",
          "2021-10-19T00:00:00",
          "2021-10-20T00:00:00",
          "2021-10-20T00:00:00",
          "2021-10-20T00:00:00",
          "2021-10-20T00:00:00",
          "2021-10-21T00:00:00",
          "2021-10-21T00:00:00",
          "2021-10-21T00:00:00",
          "2021-10-21T00:00:00",
          "2021-10-22T00:00:00",
          "2021-10-22T00:00:00",
          "2021-10-22T00:00:00",
          "2021-10-22T00:00:00",
          "2021-10-23T00:00:00",
          "2021-10-23T00:00:00",
          "2021-10-23T00:00:00",
          "2021-10-23T00:00:00",
          "2021-10-24T00:00:00",
          "2021-10-24T00:00:00",
          "2021-10-24T00:00:00",
          "2021-10-24T00:00:00",
          "2021-10-25T00:00:00",
          "2021-10-25T00:00:00",
          "2021-10-25T00:00:00",
          "2021-10-25T00:00:00",
          "2021-10-26T00:00:00",
          "2021-10-26T00:00:00",
          "2021-10-26T00:00:00",
          "2021-10-26T00:00:00",
          "2021-10-27T00:00:00",
          "2021-10-27T00:00:00",
          "2021-10-27T00:00:00",
          "2021-10-27T00:00:00",
          "2021-10-28T00:00:00",
          "2021-10-28T00:00:00",
          "2021-10-28T00:00:00",
          "2021-10-28T00:00:00",
          "2021-10-29T00:00:00",
          "2021-10-29T00:00:00",
          "2021-10-29T00:00:00",
          "2021-10-29T00:00:00",
          "2021-10-30T00:00:00",
          "2021-10-30T00:00:00",
          "2021-10-30T00:00:00",
          "2021-10-30T00:00:00",
          "2021-10-31T00:00:00",
          "2021-10-31T00:00:00",
          "2021-10-31T00:00:00",
          "2021-10-31T00:00:00",
          "2021-11-01T00:00:00",
          "2021-11-01T00:00:00",
          "2021-11-01T00:00:00",
          "2021-11-01T00:00:00",
          "2021-11-02T00:00:00",
          "2021-11-02T00:00:00",
          "2021-11-02T00:00:00",
          "2021-11-02T00:00:00",
          "2021-11-03T00:00:00",
          "2021-11-03T00:00:00",
          "2021-11-03T00:00:00",
          "2021-11-03T00:00:00",
          "2021-11-04T00:00:00",
          "2021-11-04T00:00:00",
          "2021-11-04T00:00:00",
          "2021-11-04T00:00:00",
          "2021-11-05T00:00:00",
          "2021-11-05T00:00:00",
          "2021-11-05T00:00:00",
          "2021-11-05T00:00:00",
          "2021-11-06T00:00:00",
          "2021-11-06T00:00:00",
          "2021-11-06T00:00:00",
          "2021-11-06T00:00:00",
          "2021-11-07T00:00:00",
          "2021-11-07T00:00:00",
          "2021-11-07T00:00:00",
          "2021-11-07T00:00:00",
          "2021-11-08T00:00:00",
          "2021-11-08T00:00:00",
          "2021-11-08T00:00:00",
          "2021-11-08T00:00:00",
          "2021-11-09T00:00:00",
          "2021-11-09T00:00:00",
          "2021-11-09T00:00:00",
          "2021-11-09T00:00:00",
          "2021-11-10T00:00:00",
          "2021-11-10T00:00:00",
          "2021-11-10T00:00:00",
          "2021-11-10T00:00:00",
          "2021-11-11T00:00:00",
          "2021-11-11T00:00:00",
          "2021-11-11T00:00:00",
          "2021-11-11T00:00:00",
          "2021-11-12T00:00:00",
          "2021-11-12T00:00:00",
          "2021-11-12T00:00:00",
          "2021-11-12T00:00:00",
          "2021-11-13T00:00:00",
          "2021-11-13T00:00:00",
          "2021-11-13T00:00:00",
          "2021-11-13T00:00:00",
          "2021-11-14T00:00:00",
          "2021-11-14T00:00:00",
          "2021-11-14T00:00:00",
          "2021-11-14T00:00:00",
          "2021-11-15T00:00:00",
          "2021-11-15T00:00:00",
          "2021-11-15T00:00:00",
          "2021-11-15T00:00:00",
          "2021-11-16T00:00:00",
          "2021-11-16T00:00:00",
          "2021-11-16T00:00:00",
          "2021-11-16T00:00:00",
          "2021-11-17T00:00:00",
          "2021-11-17T00:00:00",
          "2021-11-17T00:00:00",
          "2021-11-17T00:00:00",
          "2021-11-18T00:00:00",
          "2021-11-18T00:00:00",
          "2021-11-18T00:00:00",
          "2021-11-18T00:00:00",
          "2021-11-19T00:00:00",
          "2021-11-19T00:00:00",
          "2021-11-19T00:00:00",
          "2021-11-19T00:00:00",
          "2021-11-20T00:00:00",
          "2021-11-20T00:00:00",
          "2021-11-20T00:00:00",
          "2021-11-20T00:00:00",
          "2021-11-21T00:00:00",
          "2021-11-21T00:00:00",
          "2021-11-21T00:00:00",
          "2021-11-21T00:00:00",
          "2021-11-22T00:00:00",
          "2021-11-22T00:00:00",
          "2021-11-22T00:00:00",
          "2021-11-22T00:00:00",
          "2021-11-23T00:00:00",
          "2021-11-23T00:00:00",
          "2021-11-23T00:00:00",
          "2021-11-23T00:00:00",
          "2021-11-24T00:00:00",
          "2021-11-24T00:00:00",
          "2021-11-24T00:00:00",
          "2021-11-24T00:00:00",
          "2021-11-25T00:00:00",
          "2021-11-25T00:00:00",
          "2021-11-25T00:00:00",
          "2021-11-25T00:00:00",
          "2021-11-26T00:00:00",
          "2021-11-26T00:00:00",
          "2021-11-26T00:00:00",
          "2021-11-26T00:00:00",
          "2021-11-27T00:00:00",
          "2021-11-27T00:00:00",
          "2021-11-27T00:00:00",
          "2021-11-27T00:00:00",
          "2021-11-28T00:00:00",
          "2021-11-28T00:00:00",
          "2021-11-28T00:00:00",
          "2021-11-28T00:00:00",
          "2021-11-29T00:00:00",
          "2021-11-29T00:00:00",
          "2021-11-29T00:00:00",
          "2021-11-29T00:00:00",
          "2021-11-30T00:00:00",
          "2021-11-30T00:00:00",
          "2021-11-30T00:00:00",
          "2021-11-30T00:00:00",
          "2021-12-01T00:00:00",
          "2021-12-01T00:00:00",
          "2021-12-01T00:00:00",
          "2021-12-01T00:00:00",
          "2021-12-02T00:00:00",
          "2021-12-02T00:00:00",
          "2021-12-02T00:00:00",
          "2021-12-02T00:00:00",
          "2021-12-03T00:00:00",
          "2021-12-03T00:00:00",
          "2021-12-03T00:00:00",
          "2021-12-03T00:00:00",
          "2021-12-04T00:00:00",
          "2021-12-04T00:00:00",
          "2021-12-04T00:00:00",
          "2021-12-04T00:00:00",
          "2021-12-05T00:00:00",
          "2021-12-05T00:00:00",
          "2021-12-05T00:00:00",
          "2021-12-05T00:00:00",
          "2021-12-06T00:00:00",
          "2021-12-06T00:00:00",
          "2021-12-06T00:00:00",
          "2021-12-06T00:00:00",
          "2021-12-07T00:00:00",
          "2021-12-07T00:00:00",
          "2021-12-07T00:00:00",
          "2021-12-07T00:00:00",
          "2021-12-08T00:00:00",
          "2021-12-08T00:00:00",
          "2021-12-08T00:00:00",
          "2021-12-08T00:00:00",
          "2021-12-09T00:00:00",
          "2021-12-09T00:00:00",
          "2021-12-09T00:00:00",
          "2021-12-09T00:00:00",
          "2021-12-10T00:00:00",
          "2021-12-10T00:00:00",
          "2021-12-10T00:00:00",
          "2021-12-10T00:00:00",
          "2021-12-11T00:00:00",
          "2021-12-11T00:00:00",
          "2021-12-11T00:00:00",
          "2021-12-11T00:00:00",
          "2021-12-12T00:00:00",
          "2021-12-12T00:00:00",
          "2021-12-12T00:00:00",
          "2021-12-12T00:00:00",
          "2021-12-13T00:00:00",
          "2021-12-13T00:00:00",
          "2021-12-13T00:00:00",
          "2021-12-13T00:00:00",
          "2021-12-14T00:00:00",
          "2021-12-14T00:00:00",
          "2021-12-14T00:00:00",
          "2021-12-14T00:00:00",
          "2021-12-15T00:00:00",
          "2021-12-15T00:00:00",
          "2021-12-15T00:00:00",
          "2021-12-15T00:00:00",
          "2021-12-16T00:00:00",
          "2021-12-16T00:00:00",
          "2021-12-16T00:00:00",
          "2021-12-16T00:00:00",
          "2021-12-17T00:00:00",
          "2021-12-17T00:00:00",
          "2021-12-17T00:00:00",
          "2021-12-17T00:00:00",
          "2021-12-18T00:00:00",
          "2021-12-18T00:00:00",
          "2021-12-18T00:00:00",
          "2021-12-18T00:00:00",
          "2021-12-19T00:00:00",
          "2021-12-19T00:00:00",
          "2021-12-19T00:00:00",
          "2021-12-19T00:00:00",
          "2021-12-20T00:00:00",
          "2021-12-20T00:00:00",
          "2021-12-20T00:00:00",
          "2021-12-20T00:00:00",
          "2021-12-21T00:00:00",
          "2021-12-21T00:00:00",
          "2021-12-21T00:00:00",
          "2021-12-21T00:00:00",
          "2021-12-22T00:00:00",
          "2021-12-22T00:00:00",
          "2021-12-22T00:00:00",
          "2021-12-22T00:00:00",
          "2021-12-23T00:00:00",
          "2021-12-23T00:00:00",
          "2021-12-23T00:00:00",
          "2021-12-23T00:00:00",
          "2021-12-24T00:00:00",
          "2021-12-24T00:00:00",
          "2021-12-24T00:00:00",
          "2021-12-24T00:00:00",
          "2021-12-25T00:00:00",
          "2021-12-25T00:00:00",
          "2021-12-25T00:00:00",
          "2021-12-25T00:00:00",
          "2021-12-26T00:00:00",
          "2021-12-26T00:00:00",
          "2021-12-26T00:00:00",
          "2021-12-26T00:00:00",
          "2021-12-27T00:00:00",
          "2021-12-27T00:00:00",
          "2021-12-27T00:00:00",
          "2021-12-27T00:00:00",
          "2021-12-28T00:00:00",
          "2021-12-28T00:00:00",
          "2021-12-28T00:00:00",
          "2021-12-28T00:00:00",
          "2021-12-29T00:00:00",
          "2021-12-29T00:00:00",
          "2021-12-29T00:00:00",
          "2021-12-29T00:00:00",
          "2021-12-30T00:00:00",
          "2021-12-30T00:00:00",
          "2021-12-30T00:00:00",
          "2021-12-30T00:00:00"
         ],
         "y": [
          20.994099135255922,
          20.994099135255922,
          20.994099135255922,
          20.994099135255922,
          20.941693228693463,
          20.941693228693463,
          20.941693228693463,
          20.941693228693463,
          20.831118311297192,
          20.831118311297192,
          20.831118311297192,
          20.831118311297192,
          20.543706042182368,
          20.543706042182368,
          20.543706042182368,
          20.543706042182368,
          20.549116446268854,
          20.549116446268854,
          20.549116446268854,
          20.549116446268854,
          20.2573113916781,
          20.2573113916781,
          20.2573113916781,
          20.2573113916781,
          20.021623264429838,
          20.021623264429838,
          20.021623264429838,
          20.021623264429838,
          19.535191372571813,
          19.535191372571813,
          19.535191372571813,
          19.535191372571813,
          20.032751688123113,
          20.032751688123113,
          20.032751688123113,
          20.032751688123113,
          20.098851142805316,
          20.098851142805316,
          20.098851142805316,
          20.098851142805316,
          20.463400267911506,
          20.463400267911506,
          20.463400267911506,
          20.463400267911506,
          20.230341425948765,
          20.230341425948765,
          20.230341425948765,
          20.230341425948765,
          20.175755691547657,
          20.175755691547657,
          20.175755691547657,
          20.175755691547657,
          20.181274260396954,
          20.181274260396954,
          20.181274260396954,
          20.181274260396954,
          19.450320746067824,
          19.450320746067824,
          19.450320746067824,
          19.450320746067824,
          19.330376796519058,
          19.330376796519058,
          19.330376796519058,
          19.330376796519058,
          19.894763546044324,
          19.894763546044324,
          19.894763546044324,
          19.894763546044324,
          20.022155076050765,
          20.022155076050765,
          20.022155076050765,
          20.022155076050765,
          20.148666187373305,
          20.148666187373305,
          20.148666187373305,
          20.148666187373305,
          20.274313844944707,
          20.274313844944707,
          20.274313844944707,
          20.274313844944707,
          20.038844692204876,
          20.038844692204876,
          20.038844692204876,
          20.038844692204876,
          20.463919521716512,
          20.463919521716512,
          20.463919521716512,
          20.463919521716512,
          20.879529617311622,
          20.879529617311622,
          20.879529617311622,
          20.879529617311622,
          20.651618858746428,
          20.651618858746428,
          20.651618858746428,
          20.651618858746428,
          20.65699827025494,
          20.65699827025494,
          20.65699827025494,
          20.65699827025494,
          20.720919534075836,
          20.720919534075836,
          20.720919534075836,
          20.720919534075836,
          21.188112605823555,
          21.188112605823555,
          21.188112605823555,
          21.188112605823555,
          21.476375939206246,
          21.476375939206246,
          21.476375939206246,
          21.476375939206246,
          21.925911758004098,
          21.925911758004098,
          21.925911758004098,
          21.925911758004098,
          21.985786357993273,
          21.985786357993273,
          21.985786357993273,
          21.985786357993273,
          21.99080776646949,
          21.99080776646949,
          21.99080776646949,
          21.99080776646949,
          22.159361706843807,
          22.159361706843807,
          22.159361706843807,
          22.159361706843807,
          22.16433972035174,
          22.16433972035174,
          22.16433972035174,
          22.16433972035174,
          22.06049700667158,
          22.06049700667158,
          22.06049700667158,
          22.06049700667158,
          22.065499652788073,
          22.065499652788073,
          22.065499652788073,
          22.065499652788073,
          22.015895850859863,
          22.015895850859863,
          22.015895850859863,
          22.015895850859863,
          21.966168387768843,
          21.966168387768843,
          21.966168387768843,
          21.966168387768843,
          22.458448655263933,
          22.458448655263933,
          22.458448655263933,
          22.458448655263933,
          22.623158512806786,
          22.623158512806786,
          22.623158512806786,
          22.623158512806786,
          22.468257118824294,
          22.468257118824294,
          22.468257118824294,
          22.468257118824294,
          22.579784091685383,
          22.579784091685383,
          22.579784091685383,
          22.579784091685383,
          22.637751091594613,
          22.637751091594613,
          22.637751091594613,
          22.637751091594613,
          22.536317302454428,
          22.536317302454428,
          22.536317302454428,
          22.536317302454428,
          22.54120339194377,
          22.54120339194377,
          22.54120339194377,
          22.54120339194377,
          22.91556294000944,
          22.91556294000944,
          22.91556294000944,
          22.91556294000944,
          22.762863111995056,
          22.762863111995056,
          22.762863111995056,
          22.762863111995056,
          22.714940174123047,
          22.714940174123047,
          22.714940174123047,
          22.714940174123047,
          22.877608591071773,
          22.877608591071773,
          22.877608591071773,
          22.877608591071773,
          22.93474300354508,
          22.93474300354508,
          22.93474300354508,
          22.93474300354508,
          22.51722857940595,
          22.51722857940595,
          22.51722857940595,
          22.51722857940595,
          22.145372348862754,
          22.145372348862754,
          22.145372348862754,
          22.145372348862754,
          21.821783544413037,
          21.821783544413037,
          21.821783544413037,
          21.821783544413037,
          21.66054011759105,
          21.66054011759105,
          21.66054011759105,
          21.66054011759105,
          21.441747832181044,
          21.441747832181044,
          21.441747832181044,
          21.441747832181044,
          21.334020235453295,
          21.334020235453295,
          21.334020235453295,
          21.334020235453295,
          21.3392109256315,
          21.3392109256315,
          21.3392109256315,
          21.3392109256315,
          21.513400240449055,
          21.513400240449055,
          21.513400240449055,
          21.513400240449055,
          21.518543313496192,
          21.518543313496192,
          21.518543313496192,
          21.518543313496192,
          21.298143379246945,
          21.298143379246945,
          21.298143379246945,
          21.298143379246945,
          21.3033436896279,
          21.3033436896279,
          21.3033436896279,
          21.3033436896279,
          21.64570652225628,
          21.64570652225628,
          21.64570652225628,
          21.64570652225628,
          22.036900896157384,
          22.036900896157384,
          22.036900896157384,
          22.036900896157384,
          22.04190945422661,
          22.04190945422661,
          22.04190945422661,
          22.04190945422661,
          21.882454864202458,
          21.882454864202458,
          21.882454864202458,
          21.882454864202458,
          21.77712756522185,
          21.77712756522185,
          21.77712756522185,
          21.77712756522185,
          21.837452261893304,
          21.837452261893304,
          21.837452261893304,
          21.837452261893304,
          22.547021680157872,
          22.547021680157872,
          22.547021680157872,
          22.547021680157872,
          21.513891717088217,
          21.513891717088217,
          21.513891717088217,
          21.513891717088217,
          21.63086171633672,
          21.63086171633672,
          21.63086171633672,
          21.63086171633672,
          21.747138844487598,
          21.747138844487598,
          21.747138844487598,
          21.747138844487598,
          21.807555008508466,
          21.807555008508466,
          21.807555008508466,
          21.807555008508466,
          21.70182669817822,
          21.70182669817822,
          21.70182669817822,
          21.70182669817822,
          21.927836863645243,
          21.927836863645243,
          21.927836863645243,
          21.927836863645243,
          21.82275118811689,
          21.82275118811689,
          21.82275118811689,
          21.82275118811689,
          21.324627258341273,
          21.324627258341273,
          21.324627258341273,
          21.324627258341273,
          21.498946608483518,
          21.498946608483518,
          21.498946608483518,
          21.498946608483518,
          21.447896126805965,
          21.447896126805965,
          21.447896126805965,
          21.447896126805965,
          21.6211218684666,
          21.6211218684666,
          21.6211218684666,
          21.6211218684666,
          21.681925166449567,
          21.681925166449567,
          21.681925166449567,
          21.681925166449567,
          21.631350253730176,
          21.631350253730176,
          21.631350253730176,
          21.631350253730176,
          22.40184836532037,
          22.40184836532037,
          22.40184836532037,
          22.40184836532037,
          21.918242424660935,
          21.918242424660935,
          21.918242424660935,
          21.918242424660935,
          21.646682846547055,
          21.646682846547055,
          21.646682846547055,
          21.646682846547055,
          21.483990049560234,
          21.483990049560234,
          21.483990049560234,
          21.483990049560234,
          20.74490698919332,
          20.74490698919332,
          20.74490698919332,
          20.74490698919332,
          20.69180758155631,
          20.69180758155631,
          20.69180758155631,
          20.69180758155631,
          21.159706057382476,
          21.159706057382476,
          21.159706057382476,
          21.159706057382476,
          21.05038923158407,
          21.05038923158407,
          21.05038923158407,
          21.05038923158407,
          20.59055619088942,
          20.59055619088942,
          20.59055619088942,
          20.59055619088942,
          20.299404359769323,
          20.299404359769323,
          20.299404359769323,
          20.299404359769323,
          19.942751215541545,
          19.942751215541545,
          19.942751215541545,
          19.942751215541545,
          19.826056744791984,
          19.826056744791984,
          19.826056744791984,
          19.826056744791984,
          20.315844850882726,
          20.315844850882726,
          20.315844850882726,
          20.315844850882726,
          20.201506910354937,
          20.201506910354937,
          20.201506910354937,
          20.201506910354937,
          20.32679708721466,
          20.32679708721466,
          20.32679708721466,
          20.32679708721466,
          20.272495714969924,
          20.272495714969924,
          20.272495714969924,
          20.272495714969924,
          20.277985465819782,
          20.277985465819782,
          20.277985465819782,
          20.277985465819782
         ]
        },
        {
         "line": {
          "color": "rgb(252,141,98)",
          "width": 2
         },
         "marker": {
          "size": 4
         },
         "mode": "lines+markers",
         "name": "Optimized GRU (SA)",
         "type": "scatter",
         "x": [
          "2021-09-25T00:00:00",
          "2021-09-25T00:00:00",
          "2021-09-25T00:00:00",
          "2021-09-25T00:00:00",
          "2021-09-26T00:00:00",
          "2021-09-26T00:00:00",
          "2021-09-26T00:00:00",
          "2021-09-26T00:00:00",
          "2021-09-27T00:00:00",
          "2021-09-27T00:00:00",
          "2021-09-27T00:00:00",
          "2021-09-27T00:00:00",
          "2021-09-28T00:00:00",
          "2021-09-28T00:00:00",
          "2021-09-28T00:00:00",
          "2021-09-28T00:00:00",
          "2021-09-29T00:00:00",
          "2021-09-29T00:00:00",
          "2021-09-29T00:00:00",
          "2021-09-29T00:00:00",
          "2021-09-30T00:00:00",
          "2021-09-30T00:00:00",
          "2021-09-30T00:00:00",
          "2021-09-30T00:00:00",
          "2021-10-01T00:00:00",
          "2021-10-01T00:00:00",
          "2021-10-01T00:00:00",
          "2021-10-01T00:00:00",
          "2021-10-02T00:00:00",
          "2021-10-02T00:00:00",
          "2021-10-02T00:00:00",
          "2021-10-02T00:00:00",
          "2021-10-03T00:00:00",
          "2021-10-03T00:00:00",
          "2021-10-03T00:00:00",
          "2021-10-03T00:00:00",
          "2021-10-04T00:00:00",
          "2021-10-04T00:00:00",
          "2021-10-04T00:00:00",
          "2021-10-04T00:00:00",
          "2021-10-05T00:00:00",
          "2021-10-05T00:00:00",
          "2021-10-05T00:00:00",
          "2021-10-05T00:00:00",
          "2021-10-06T00:00:00",
          "2021-10-06T00:00:00",
          "2021-10-06T00:00:00",
          "2021-10-06T00:00:00",
          "2021-10-07T00:00:00",
          "2021-10-07T00:00:00",
          "2021-10-07T00:00:00",
          "2021-10-07T00:00:00",
          "2021-10-08T00:00:00",
          "2021-10-08T00:00:00",
          "2021-10-08T00:00:00",
          "2021-10-08T00:00:00",
          "2021-10-09T00:00:00",
          "2021-10-09T00:00:00",
          "2021-10-09T00:00:00",
          "2021-10-09T00:00:00",
          "2021-10-10T00:00:00",
          "2021-10-10T00:00:00",
          "2021-10-10T00:00:00",
          "2021-10-10T00:00:00",
          "2021-10-11T00:00:00",
          "2021-10-11T00:00:00",
          "2021-10-11T00:00:00",
          "2021-10-11T00:00:00",
          "2021-10-12T00:00:00",
          "2021-10-12T00:00:00",
          "2021-10-12T00:00:00",
          "2021-10-12T00:00:00",
          "2021-10-13T00:00:00",
          "2021-10-13T00:00:00",
          "2021-10-13T00:00:00",
          "2021-10-13T00:00:00",
          "2021-10-14T00:00:00",
          "2021-10-14T00:00:00",
          "2021-10-14T00:00:00",
          "2021-10-14T00:00:00",
          "2021-10-15T00:00:00",
          "2021-10-15T00:00:00",
          "2021-10-15T00:00:00",
          "2021-10-15T00:00:00",
          "2021-10-16T00:00:00",
          "2021-10-16T00:00:00",
          "2021-10-16T00:00:00",
          "2021-10-16T00:00:00",
          "2021-10-17T00:00:00",
          "2021-10-17T00:00:00",
          "2021-10-17T00:00:00",
          "2021-10-17T00:00:00",
          "2021-10-18T00:00:00",
          "2021-10-18T00:00:00",
          "2021-10-18T00:00:00",
          "2021-10-18T00:00:00",
          "2021-10-19T00:00:00",
          "2021-10-19T00:00:00",
          "2021-10-19T00:00:00",
          "2021-10-19T00:00:00",
          "2021-10-20T00:00:00",
          "2021-10-20T00:00:00",
          "2021-10-20T00:00:00",
          "2021-10-20T00:00:00",
          "2021-10-21T00:00:00",
          "2021-10-21T00:00:00",
          "2021-10-21T00:00:00",
          "2021-10-21T00:00:00",
          "2021-10-22T00:00:00",
          "2021-10-22T00:00:00",
          "2021-10-22T00:00:00",
          "2021-10-22T00:00:00",
          "2021-10-23T00:00:00",
          "2021-10-23T00:00:00",
          "2021-10-23T00:00:00",
          "2021-10-23T00:00:00",
          "2021-10-24T00:00:00",
          "2021-10-24T00:00:00",
          "2021-10-24T00:00:00",
          "2021-10-24T00:00:00",
          "2021-10-25T00:00:00",
          "2021-10-25T00:00:00",
          "2021-10-25T00:00:00",
          "2021-10-25T00:00:00",
          "2021-10-26T00:00:00",
          "2021-10-26T00:00:00",
          "2021-10-26T00:00:00",
          "2021-10-26T00:00:00",
          "2021-10-27T00:00:00",
          "2021-10-27T00:00:00",
          "2021-10-27T00:00:00",
          "2021-10-27T00:00:00",
          "2021-10-28T00:00:00",
          "2021-10-28T00:00:00",
          "2021-10-28T00:00:00",
          "2021-10-28T00:00:00",
          "2021-10-29T00:00:00",
          "2021-10-29T00:00:00",
          "2021-10-29T00:00:00",
          "2021-10-29T00:00:00",
          "2021-10-30T00:00:00",
          "2021-10-30T00:00:00",
          "2021-10-30T00:00:00",
          "2021-10-30T00:00:00",
          "2021-10-31T00:00:00",
          "2021-10-31T00:00:00",
          "2021-10-31T00:00:00",
          "2021-10-31T00:00:00",
          "2021-11-01T00:00:00",
          "2021-11-01T00:00:00",
          "2021-11-01T00:00:00",
          "2021-11-01T00:00:00",
          "2021-11-02T00:00:00",
          "2021-11-02T00:00:00",
          "2021-11-02T00:00:00",
          "2021-11-02T00:00:00",
          "2021-11-03T00:00:00",
          "2021-11-03T00:00:00",
          "2021-11-03T00:00:00",
          "2021-11-03T00:00:00",
          "2021-11-04T00:00:00",
          "2021-11-04T00:00:00",
          "2021-11-04T00:00:00",
          "2021-11-04T00:00:00",
          "2021-11-05T00:00:00",
          "2021-11-05T00:00:00",
          "2021-11-05T00:00:00",
          "2021-11-05T00:00:00",
          "2021-11-06T00:00:00",
          "2021-11-06T00:00:00",
          "2021-11-06T00:00:00",
          "2021-11-06T00:00:00",
          "2021-11-07T00:00:00",
          "2021-11-07T00:00:00",
          "2021-11-07T00:00:00",
          "2021-11-07T00:00:00",
          "2021-11-08T00:00:00",
          "2021-11-08T00:00:00",
          "2021-11-08T00:00:00",
          "2021-11-08T00:00:00",
          "2021-11-09T00:00:00",
          "2021-11-09T00:00:00",
          "2021-11-09T00:00:00",
          "2021-11-09T00:00:00",
          "2021-11-10T00:00:00",
          "2021-11-10T00:00:00",
          "2021-11-10T00:00:00",
          "2021-11-10T00:00:00",
          "2021-11-11T00:00:00",
          "2021-11-11T00:00:00",
          "2021-11-11T00:00:00",
          "2021-11-11T00:00:00",
          "2021-11-12T00:00:00",
          "2021-11-12T00:00:00",
          "2021-11-12T00:00:00",
          "2021-11-12T00:00:00",
          "2021-11-13T00:00:00",
          "2021-11-13T00:00:00",
          "2021-11-13T00:00:00",
          "2021-11-13T00:00:00",
          "2021-11-14T00:00:00",
          "2021-11-14T00:00:00",
          "2021-11-14T00:00:00",
          "2021-11-14T00:00:00",
          "2021-11-15T00:00:00",
          "2021-11-15T00:00:00",
          "2021-11-15T00:00:00",
          "2021-11-15T00:00:00",
          "2021-11-16T00:00:00",
          "2021-11-16T00:00:00",
          "2021-11-16T00:00:00",
          "2021-11-16T00:00:00",
          "2021-11-17T00:00:00",
          "2021-11-17T00:00:00",
          "2021-11-17T00:00:00",
          "2021-11-17T00:00:00",
          "2021-11-18T00:00:00",
          "2021-11-18T00:00:00",
          "2021-11-18T00:00:00",
          "2021-11-18T00:00:00",
          "2021-11-19T00:00:00",
          "2021-11-19T00:00:00",
          "2021-11-19T00:00:00",
          "2021-11-19T00:00:00",
          "2021-11-20T00:00:00",
          "2021-11-20T00:00:00",
          "2021-11-20T00:00:00",
          "2021-11-20T00:00:00",
          "2021-11-21T00:00:00",
          "2021-11-21T00:00:00",
          "2021-11-21T00:00:00",
          "2021-11-21T00:00:00",
          "2021-11-22T00:00:00",
          "2021-11-22T00:00:00",
          "2021-11-22T00:00:00",
          "2021-11-22T00:00:00",
          "2021-11-23T00:00:00",
          "2021-11-23T00:00:00",
          "2021-11-23T00:00:00",
          "2021-11-23T00:00:00",
          "2021-11-24T00:00:00",
          "2021-11-24T00:00:00",
          "2021-11-24T00:00:00",
          "2021-11-24T00:00:00",
          "2021-11-25T00:00:00",
          "2021-11-25T00:00:00",
          "2021-11-25T00:00:00",
          "2021-11-25T00:00:00",
          "2021-11-26T00:00:00",
          "2021-11-26T00:00:00",
          "2021-11-26T00:00:00",
          "2021-11-26T00:00:00",
          "2021-11-27T00:00:00",
          "2021-11-27T00:00:00",
          "2021-11-27T00:00:00",
          "2021-11-27T00:00:00",
          "2021-11-28T00:00:00",
          "2021-11-28T00:00:00",
          "2021-11-28T00:00:00",
          "2021-11-28T00:00:00",
          "2021-11-29T00:00:00",
          "2021-11-29T00:00:00",
          "2021-11-29T00:00:00",
          "2021-11-29T00:00:00",
          "2021-11-30T00:00:00",
          "2021-11-30T00:00:00",
          "2021-11-30T00:00:00",
          "2021-11-30T00:00:00",
          "2021-12-01T00:00:00",
          "2021-12-01T00:00:00",
          "2021-12-01T00:00:00",
          "2021-12-01T00:00:00",
          "2021-12-02T00:00:00",
          "2021-12-02T00:00:00",
          "2021-12-02T00:00:00",
          "2021-12-02T00:00:00",
          "2021-12-03T00:00:00",
          "2021-12-03T00:00:00",
          "2021-12-03T00:00:00",
          "2021-12-03T00:00:00",
          "2021-12-04T00:00:00",
          "2021-12-04T00:00:00",
          "2021-12-04T00:00:00",
          "2021-12-04T00:00:00",
          "2021-12-05T00:00:00",
          "2021-12-05T00:00:00",
          "2021-12-05T00:00:00",
          "2021-12-05T00:00:00",
          "2021-12-06T00:00:00",
          "2021-12-06T00:00:00",
          "2021-12-06T00:00:00",
          "2021-12-06T00:00:00",
          "2021-12-07T00:00:00",
          "2021-12-07T00:00:00",
          "2021-12-07T00:00:00",
          "2021-12-07T00:00:00",
          "2021-12-08T00:00:00",
          "2021-12-08T00:00:00",
          "2021-12-08T00:00:00",
          "2021-12-08T00:00:00",
          "2021-12-09T00:00:00",
          "2021-12-09T00:00:00",
          "2021-12-09T00:00:00",
          "2021-12-09T00:00:00",
          "2021-12-10T00:00:00",
          "2021-12-10T00:00:00",
          "2021-12-10T00:00:00",
          "2021-12-10T00:00:00",
          "2021-12-11T00:00:00",
          "2021-12-11T00:00:00",
          "2021-12-11T00:00:00",
          "2021-12-11T00:00:00",
          "2021-12-12T00:00:00",
          "2021-12-12T00:00:00",
          "2021-12-12T00:00:00",
          "2021-12-12T00:00:00",
          "2021-12-13T00:00:00",
          "2021-12-13T00:00:00",
          "2021-12-13T00:00:00",
          "2021-12-13T00:00:00",
          "2021-12-14T00:00:00",
          "2021-12-14T00:00:00",
          "2021-12-14T00:00:00",
          "2021-12-14T00:00:00",
          "2021-12-15T00:00:00",
          "2021-12-15T00:00:00",
          "2021-12-15T00:00:00",
          "2021-12-15T00:00:00",
          "2021-12-16T00:00:00",
          "2021-12-16T00:00:00",
          "2021-12-16T00:00:00",
          "2021-12-16T00:00:00",
          "2021-12-17T00:00:00",
          "2021-12-17T00:00:00",
          "2021-12-17T00:00:00",
          "2021-12-17T00:00:00",
          "2021-12-18T00:00:00",
          "2021-12-18T00:00:00",
          "2021-12-18T00:00:00",
          "2021-12-18T00:00:00",
          "2021-12-19T00:00:00",
          "2021-12-19T00:00:00",
          "2021-12-19T00:00:00",
          "2021-12-19T00:00:00",
          "2021-12-20T00:00:00",
          "2021-12-20T00:00:00",
          "2021-12-20T00:00:00",
          "2021-12-20T00:00:00",
          "2021-12-21T00:00:00",
          "2021-12-21T00:00:00",
          "2021-12-21T00:00:00",
          "2021-12-21T00:00:00",
          "2021-12-22T00:00:00",
          "2021-12-22T00:00:00",
          "2021-12-22T00:00:00",
          "2021-12-22T00:00:00",
          "2021-12-23T00:00:00",
          "2021-12-23T00:00:00",
          "2021-12-23T00:00:00",
          "2021-12-23T00:00:00",
          "2021-12-24T00:00:00",
          "2021-12-24T00:00:00",
          "2021-12-24T00:00:00",
          "2021-12-24T00:00:00",
          "2021-12-25T00:00:00",
          "2021-12-25T00:00:00",
          "2021-12-25T00:00:00",
          "2021-12-25T00:00:00",
          "2021-12-26T00:00:00",
          "2021-12-26T00:00:00",
          "2021-12-26T00:00:00",
          "2021-12-26T00:00:00",
          "2021-12-27T00:00:00",
          "2021-12-27T00:00:00",
          "2021-12-27T00:00:00",
          "2021-12-27T00:00:00",
          "2021-12-28T00:00:00",
          "2021-12-28T00:00:00",
          "2021-12-28T00:00:00",
          "2021-12-28T00:00:00",
          "2021-12-29T00:00:00",
          "2021-12-29T00:00:00",
          "2021-12-29T00:00:00",
          "2021-12-29T00:00:00",
          "2021-12-30T00:00:00",
          "2021-12-30T00:00:00",
          "2021-12-30T00:00:00",
          "2021-12-30T00:00:00"
         ],
         "y": [
          21.221107,
          20.993782,
          21.221107,
          20.993782,
          20.741272,
          20.55603,
          20.741272,
          20.55603,
          20.33168,
          20.127075,
          20.33168,
          20.127075,
          19.936584,
          19.784416,
          19.936584,
          19.784416,
          19.626167,
          19.509544,
          19.626167,
          19.509544,
          19.41359,
          19.304482,
          19.41359,
          19.304482,
          19.173096,
          19.070175,
          19.173096,
          19.070175,
          18.939491,
          18.823708,
          18.939491,
          18.823708,
          18.68087,
          18.559303,
          18.68087,
          18.559303,
          18.4094,
          18.316917,
          18.4094,
          18.316917,
          18.212471,
          18.163994,
          18.212471,
          18.163994,
          18.154213,
          18.2379,
          18.154213,
          18.2379,
          18.40332,
          18.592262,
          18.40332,
          18.592262,
          18.75502,
          18.886879,
          18.75502,
          18.886879,
          19.003815,
          19.031685,
          19.003815,
          19.031685,
          19.037071,
          18.99958,
          19.037071,
          18.99958,
          18.928055,
          18.822502,
          18.928055,
          18.822502,
          18.666885,
          18.473755,
          18.666885,
          18.473755,
          18.272331,
          18.197784,
          18.272331,
          18.197784,
          18.239899,
          18.383331,
          18.239899,
          18.383331,
          18.55452,
          18.70028,
          18.55452,
          18.70028,
          18.851295,
          18.9142,
          18.851295,
          18.9142,
          18.95929,
          19.008049,
          18.95929,
          19.008049,
          19.063446,
          19.119774,
          19.063446,
          19.119774,
          19.22255,
          19.405548,
          19.22255,
          19.405548,
          19.598488,
          19.751999,
          19.598488,
          19.751999,
          19.887672,
          19.938118,
          19.887672,
          19.938118,
          19.979637,
          20.02398,
          19.979637,
          20.02398,
          20.11335,
          20.185875,
          20.11335,
          20.185875,
          20.30935,
          20.456856,
          20.30935,
          20.456856,
          20.651031,
          20.870247,
          20.651031,
          20.870247,
          21.086884,
          21.262009,
          21.086884,
          21.262009,
          21.45543,
          21.584282,
          21.45543,
          21.584282,
          21.715431,
          21.795807,
          21.715431,
          21.795807,
          21.837952,
          21.825905,
          21.837952,
          21.825905,
          21.801155,
          21.76387,
          21.801155,
          21.76387,
          21.703468,
          21.645798,
          21.703468,
          21.645798,
          21.59578,
          21.521126,
          21.59578,
          21.521126,
          21.450974,
          21.390366,
          21.450974,
          21.390366,
          21.371788,
          21.396004,
          21.371788,
          21.396004,
          21.460434,
          21.60154,
          21.460434,
          21.60154,
          21.696472,
          21.762207,
          21.696472,
          21.762207,
          21.807907,
          21.828041,
          21.807907,
          21.828041,
          21.839859,
          21.847824,
          21.839859,
          21.847824,
          21.858925,
          21.85736,
          21.858925,
          21.85736,
          21.849098,
          21.848145,
          21.849098,
          21.848145,
          21.859901,
          21.892159,
          21.859901,
          21.892159,
          21.943733,
          21.997627,
          21.943733,
          21.997627,
          22.060387,
          22.078247,
          22.060387,
          22.078247,
          22.07817,
          22.052567,
          22.07817,
          22.052567,
          22.024399,
          21.993126,
          22.024399,
          21.993126,
          21.944794,
          21.890984,
          21.944794,
          21.890984,
          21.786392,
          21.616165,
          21.786392,
          21.616165,
          21.387947,
          21.133179,
          21.387947,
          21.133179,
          20.86345,
          20.646393,
          20.86345,
          20.646393,
          20.418419,
          20.245964,
          20.418419,
          20.245964,
          20.056633,
          19.892479,
          20.056633,
          19.892479,
          19.729256,
          19.613045,
          19.729256,
          19.613045,
          19.540733,
          19.558876,
          19.540733,
          19.558876,
          19.611702,
          19.676842,
          19.611702,
          19.676842,
          19.72277,
          19.752892,
          19.72277,
          19.752892,
          19.759537,
          19.777756,
          19.759537,
          19.777756,
          19.795517,
          19.890099,
          19.795517,
          19.890099,
          20.049706,
          20.24675,
          20.049706,
          20.24675,
          20.48008,
          20.672882,
          20.48008,
          20.672882,
          20.847847,
          20.920395,
          20.847847,
          20.920395,
          20.964203,
          20.945518,
          20.964203,
          20.945518,
          20.93969,
          20.94529,
          20.93969,
          20.94529,
          20.988174,
          21.05088,
          20.988174,
          21.05088,
          21.081253,
          21.089546,
          21.081253,
          21.089546,
          21.064766,
          20.942566,
          21.064766,
          20.942566,
          20.753548,
          20.618279,
          20.753548,
          20.618279,
          20.571991,
          20.57515,
          20.571991,
          20.57515,
          20.575829,
          20.553436,
          20.575829,
          20.553436,
          20.52298,
          20.517654,
          20.52298,
          20.517654,
          20.505135,
          20.520325,
          20.505135,
          20.520325,
          20.504395,
          20.452682,
          20.504395,
          20.452682,
          20.405304,
          20.31234,
          20.405304,
          20.31234,
          20.160103,
          20.057373,
          20.160103,
          20.057373,
          20.007248,
          20.003784,
          20.007248,
          20.003784,
          20.030571,
          20.138802,
          20.030571,
          20.138802,
          20.278252,
          20.349632,
          20.278252,
          20.349632,
          20.445015,
          20.55429,
          20.445015,
          20.55429,
          20.68026,
          20.809967,
          20.68026,
          20.809967,
          20.912552,
          20.884857,
          20.912552,
          20.884857,
          20.74099,
          20.518776,
          20.74099,
          20.518776,
          20.277168,
          20.058128,
          20.277168,
          20.058128,
          19.809082,
          19.572227,
          19.809082,
          19.572227,
          19.354813,
          19.2294,
          19.354813,
          19.2294,
          19.16047,
          19.187286,
          19.16047,
          19.187286,
          19.174187,
          19.08937,
          19.174187,
          19.08937,
          18.976097,
          18.799294,
          18.976097,
          18.799294,
          18.552086,
          18.311432,
          18.552086,
          18.311432,
          18.051476,
          17.852638,
          18.051476,
          17.852638,
          17.687042,
          17.700226,
          17.687042,
          17.700226,
          17.743889,
          17.841553,
          17.743889,
          17.841553,
          17.981339,
          18.095604,
          17.981339,
          18.095604
         ]
        }
       ],
       "layout": {
        "autosize": false,
        "height": 500,
        "legend": {
         "font": {
          "size": 15
         },
         "orientation": "h",
         "title": {},
         "x": 1,
         "xanchor": "right",
         "y": 0.98,
         "yanchor": "bottom"
        },
        "template": {
         "data": {
          "bar": [
           {
            "error_x": {
             "color": "#2a3f5f"
            },
            "error_y": {
             "color": "#2a3f5f"
            },
            "marker": {
             "line": {
              "color": "white",
              "width": 0.5
             },
             "pattern": {
              "fillmode": "overlay",
              "size": 10,
              "solidity": 0.2
             }
            },
            "type": "bar"
           }
          ],
          "barpolar": [
           {
            "marker": {
             "line": {
              "color": "white",
              "width": 0.5
             },
             "pattern": {
              "fillmode": "overlay",
              "size": 10,
              "solidity": 0.2
             }
            },
            "type": "barpolar"
           }
          ],
          "carpet": [
           {
            "aaxis": {
             "endlinecolor": "#2a3f5f",
             "gridcolor": "#C8D4E3",
             "linecolor": "#C8D4E3",
             "minorgridcolor": "#C8D4E3",
             "startlinecolor": "#2a3f5f"
            },
            "baxis": {
             "endlinecolor": "#2a3f5f",
             "gridcolor": "#C8D4E3",
             "linecolor": "#C8D4E3",
             "minorgridcolor": "#C8D4E3",
             "startlinecolor": "#2a3f5f"
            },
            "type": "carpet"
           }
          ],
          "choropleth": [
           {
            "colorbar": {
             "outlinewidth": 0,
             "ticks": ""
            },
            "type": "choropleth"
           }
          ],
          "contour": [
           {
            "colorbar": {
             "outlinewidth": 0,
             "ticks": ""
            },
            "colorscale": [
             [
              0,
              "#0d0887"
             ],
             [
              0.1111111111111111,
              "#46039f"
             ],
             [
              0.2222222222222222,
              "#7201a8"
             ],
             [
              0.3333333333333333,
              "#9c179e"
             ],
             [
              0.4444444444444444,
              "#bd3786"
             ],
             [
              0.5555555555555556,
              "#d8576b"
             ],
             [
              0.6666666666666666,
              "#ed7953"
             ],
             [
              0.7777777777777778,
              "#fb9f3a"
             ],
             [
              0.8888888888888888,
              "#fdca26"
             ],
             [
              1,
              "#f0f921"
             ]
            ],
            "type": "contour"
           }
          ],
          "contourcarpet": [
           {
            "colorbar": {
             "outlinewidth": 0,
             "ticks": ""
            },
            "type": "contourcarpet"
           }
          ],
          "heatmap": [
           {
            "colorbar": {
             "outlinewidth": 0,
             "ticks": ""
            },
            "colorscale": [
             [
              0,
              "#0d0887"
             ],
             [
              0.1111111111111111,
              "#46039f"
             ],
             [
              0.2222222222222222,
              "#7201a8"
             ],
             [
              0.3333333333333333,
              "#9c179e"
             ],
             [
              0.4444444444444444,
              "#bd3786"
             ],
             [
              0.5555555555555556,
              "#d8576b"
             ],
             [
              0.6666666666666666,
              "#ed7953"
             ],
             [
              0.7777777777777778,
              "#fb9f3a"
             ],
             [
              0.8888888888888888,
              "#fdca26"
             ],
             [
              1,
              "#f0f921"
             ]
            ],
            "type": "heatmap"
           }
          ],
          "heatmapgl": [
           {
            "colorbar": {
             "outlinewidth": 0,
             "ticks": ""
            },
            "colorscale": [
             [
              0,
              "#0d0887"
             ],
             [
              0.1111111111111111,
              "#46039f"
             ],
             [
              0.2222222222222222,
              "#7201a8"
             ],
             [
              0.3333333333333333,
              "#9c179e"
             ],
             [
              0.4444444444444444,
              "#bd3786"
             ],
             [
              0.5555555555555556,
              "#d8576b"
             ],
             [
              0.6666666666666666,
              "#ed7953"
             ],
             [
              0.7777777777777778,
              "#fb9f3a"
             ],
             [
              0.8888888888888888,
              "#fdca26"
             ],
             [
              1,
              "#f0f921"
             ]
            ],
            "type": "heatmapgl"
           }
          ],
          "histogram": [
           {
            "marker": {
             "pattern": {
              "fillmode": "overlay",
              "size": 10,
              "solidity": 0.2
             }
            },
            "type": "histogram"
           }
          ],
          "histogram2d": [
           {
            "colorbar": {
             "outlinewidth": 0,
             "ticks": ""
            },
            "colorscale": [
             [
              0,
              "#0d0887"
             ],
             [
              0.1111111111111111,
              "#46039f"
             ],
             [
              0.2222222222222222,
              "#7201a8"
             ],
             [
              0.3333333333333333,
              "#9c179e"
             ],
             [
              0.4444444444444444,
              "#bd3786"
             ],
             [
              0.5555555555555556,
              "#d8576b"
             ],
             [
              0.6666666666666666,
              "#ed7953"
             ],
             [
              0.7777777777777778,
              "#fb9f3a"
             ],
             [
              0.8888888888888888,
              "#fdca26"
             ],
             [
              1,
              "#f0f921"
             ]
            ],
            "type": "histogram2d"
           }
          ],
          "histogram2dcontour": [
           {
            "colorbar": {
             "outlinewidth": 0,
             "ticks": ""
            },
            "colorscale": [
             [
              0,
              "#0d0887"
             ],
             [
              0.1111111111111111,
              "#46039f"
             ],
             [
              0.2222222222222222,
              "#7201a8"
             ],
             [
              0.3333333333333333,
              "#9c179e"
             ],
             [
              0.4444444444444444,
              "#bd3786"
             ],
             [
              0.5555555555555556,
              "#d8576b"
             ],
             [
              0.6666666666666666,
              "#ed7953"
             ],
             [
              0.7777777777777778,
              "#fb9f3a"
             ],
             [
              0.8888888888888888,
              "#fdca26"
             ],
             [
              1,
              "#f0f921"
             ]
            ],
            "type": "histogram2dcontour"
           }
          ],
          "mesh3d": [
           {
            "colorbar": {
             "outlinewidth": 0,
             "ticks": ""
            },
            "type": "mesh3d"
           }
          ],
          "parcoords": [
           {
            "line": {
             "colorbar": {
              "outlinewidth": 0,
              "ticks": ""
             }
            },
            "type": "parcoords"
           }
          ],
          "pie": [
           {
            "automargin": true,
            "type": "pie"
           }
          ],
          "scatter": [
           {
            "fillpattern": {
             "fillmode": "overlay",
             "size": 10,
             "solidity": 0.2
            },
            "type": "scatter"
           }
          ],
          "scatter3d": [
           {
            "line": {
             "colorbar": {
              "outlinewidth": 0,
              "ticks": ""
             }
            },
            "marker": {
             "colorbar": {
              "outlinewidth": 0,
              "ticks": ""
             }
            },
            "type": "scatter3d"
           }
          ],
          "scattercarpet": [
           {
            "marker": {
             "colorbar": {
              "outlinewidth": 0,
              "ticks": ""
             }
            },
            "type": "scattercarpet"
           }
          ],
          "scattergeo": [
           {
            "marker": {
             "colorbar": {
              "outlinewidth": 0,
              "ticks": ""
             }
            },
            "type": "scattergeo"
           }
          ],
          "scattergl": [
           {
            "marker": {
             "colorbar": {
              "outlinewidth": 0,
              "ticks": ""
             }
            },
            "type": "scattergl"
           }
          ],
          "scattermapbox": [
           {
            "marker": {
             "colorbar": {
              "outlinewidth": 0,
              "ticks": ""
             }
            },
            "type": "scattermapbox"
           }
          ],
          "scatterpolar": [
           {
            "marker": {
             "colorbar": {
              "outlinewidth": 0,
              "ticks": ""
             }
            },
            "type": "scatterpolar"
           }
          ],
          "scatterpolargl": [
           {
            "marker": {
             "colorbar": {
              "outlinewidth": 0,
              "ticks": ""
             }
            },
            "type": "scatterpolargl"
           }
          ],
          "scatterternary": [
           {
            "marker": {
             "colorbar": {
              "outlinewidth": 0,
              "ticks": ""
             }
            },
            "type": "scatterternary"
           }
          ],
          "surface": [
           {
            "colorbar": {
             "outlinewidth": 0,
             "ticks": ""
            },
            "colorscale": [
             [
              0,
              "#0d0887"
             ],
             [
              0.1111111111111111,
              "#46039f"
             ],
             [
              0.2222222222222222,
              "#7201a8"
             ],
             [
              0.3333333333333333,
              "#9c179e"
             ],
             [
              0.4444444444444444,
              "#bd3786"
             ],
             [
              0.5555555555555556,
              "#d8576b"
             ],
             [
              0.6666666666666666,
              "#ed7953"
             ],
             [
              0.7777777777777778,
              "#fb9f3a"
             ],
             [
              0.8888888888888888,
              "#fdca26"
             ],
             [
              1,
              "#f0f921"
             ]
            ],
            "type": "surface"
           }
          ],
          "table": [
           {
            "cells": {
             "fill": {
              "color": "#EBF0F8"
             },
             "line": {
              "color": "white"
             }
            },
            "header": {
             "fill": {
              "color": "#C8D4E3"
             },
             "line": {
              "color": "white"
             }
            },
            "type": "table"
           }
          ]
         },
         "layout": {
          "annotationdefaults": {
           "arrowcolor": "#2a3f5f",
           "arrowhead": 0,
           "arrowwidth": 1
          },
          "autotypenumbers": "strict",
          "coloraxis": {
           "colorbar": {
            "outlinewidth": 0,
            "ticks": ""
           }
          },
          "colorscale": {
           "diverging": [
            [
             0,
             "#8e0152"
            ],
            [
             0.1,
             "#c51b7d"
            ],
            [
             0.2,
             "#de77ae"
            ],
            [
             0.3,
             "#f1b6da"
            ],
            [
             0.4,
             "#fde0ef"
            ],
            [
             0.5,
             "#f7f7f7"
            ],
            [
             0.6,
             "#e6f5d0"
            ],
            [
             0.7,
             "#b8e186"
            ],
            [
             0.8,
             "#7fbc41"
            ],
            [
             0.9,
             "#4d9221"
            ],
            [
             1,
             "#276419"
            ]
           ],
           "sequential": [
            [
             0,
             "#0d0887"
            ],
            [
             0.1111111111111111,
             "#46039f"
            ],
            [
             0.2222222222222222,
             "#7201a8"
            ],
            [
             0.3333333333333333,
             "#9c179e"
            ],
            [
             0.4444444444444444,
             "#bd3786"
            ],
            [
             0.5555555555555556,
             "#d8576b"
            ],
            [
             0.6666666666666666,
             "#ed7953"
            ],
            [
             0.7777777777777778,
             "#fb9f3a"
            ],
            [
             0.8888888888888888,
             "#fdca26"
            ],
            [
             1,
             "#f0f921"
            ]
           ],
           "sequentialminus": [
            [
             0,
             "#0d0887"
            ],
            [
             0.1111111111111111,
             "#46039f"
            ],
            [
             0.2222222222222222,
             "#7201a8"
            ],
            [
             0.3333333333333333,
             "#9c179e"
            ],
            [
             0.4444444444444444,
             "#bd3786"
            ],
            [
             0.5555555555555556,
             "#d8576b"
            ],
            [
             0.6666666666666666,
             "#ed7953"
            ],
            [
             0.7777777777777778,
             "#fb9f3a"
            ],
            [
             0.8888888888888888,
             "#fdca26"
            ],
            [
             1,
             "#f0f921"
            ]
           ]
          },
          "colorway": [
           "#636efa",
           "#EF553B",
           "#00cc96",
           "#ab63fa",
           "#FFA15A",
           "#19d3f3",
           "#FF6692",
           "#B6E880",
           "#FF97FF",
           "#FECB52"
          ],
          "font": {
           "color": "#2a3f5f"
          },
          "geo": {
           "bgcolor": "white",
           "lakecolor": "white",
           "landcolor": "white",
           "showlakes": true,
           "showland": true,
           "subunitcolor": "#C8D4E3"
          },
          "hoverlabel": {
           "align": "left"
          },
          "hovermode": "closest",
          "mapbox": {
           "style": "light"
          },
          "paper_bgcolor": "white",
          "plot_bgcolor": "white",
          "polar": {
           "angularaxis": {
            "gridcolor": "#EBF0F8",
            "linecolor": "#EBF0F8",
            "ticks": ""
           },
           "bgcolor": "white",
           "radialaxis": {
            "gridcolor": "#EBF0F8",
            "linecolor": "#EBF0F8",
            "ticks": ""
           }
          },
          "scene": {
           "xaxis": {
            "backgroundcolor": "white",
            "gridcolor": "#DFE8F3",
            "gridwidth": 2,
            "linecolor": "#EBF0F8",
            "showbackground": true,
            "ticks": "",
            "zerolinecolor": "#EBF0F8"
           },
           "yaxis": {
            "backgroundcolor": "white",
            "gridcolor": "#DFE8F3",
            "gridwidth": 2,
            "linecolor": "#EBF0F8",
            "showbackground": true,
            "ticks": "",
            "zerolinecolor": "#EBF0F8"
           },
           "zaxis": {
            "backgroundcolor": "white",
            "gridcolor": "#DFE8F3",
            "gridwidth": 2,
            "linecolor": "#EBF0F8",
            "showbackground": true,
            "ticks": "",
            "zerolinecolor": "#EBF0F8"
           }
          },
          "shapedefaults": {
           "line": {
            "color": "#2a3f5f"
           }
          },
          "ternary": {
           "aaxis": {
            "gridcolor": "#DFE8F3",
            "linecolor": "#A2B1C6",
            "ticks": ""
           },
           "baxis": {
            "gridcolor": "#DFE8F3",
            "linecolor": "#A2B1C6",
            "ticks": ""
           },
           "bgcolor": "white",
           "caxis": {
            "gridcolor": "#DFE8F3",
            "linecolor": "#A2B1C6",
            "ticks": ""
           }
          },
          "title": {
           "x": 0.05
          },
          "xaxis": {
           "automargin": true,
           "gridcolor": "#EBF0F8",
           "linecolor": "#EBF0F8",
           "ticks": "",
           "title": {
            "standoff": 15
           },
           "zerolinecolor": "#EBF0F8",
           "zerolinewidth": 2
          },
          "yaxis": {
           "automargin": true,
           "gridcolor": "#EBF0F8",
           "linecolor": "#EBF0F8",
           "ticks": "",
           "title": {
            "standoff": 15
           },
           "zerolinecolor": "#EBF0F8",
           "zerolinewidth": 2
          }
         }
        },
        "title": {
         "font": {
          "size": 20
         },
         "text": "Forecasting multivarate COVID-19 MVBeds with GRU (SA)",
         "x": 0.5,
         "xanchor": "center",
         "yanchor": "top"
        },
        "width": 900,
        "xaxis": {
         "dtick": "M1",
         "range": [
          "2021-09-26",
          "2021-12-31"
         ],
         "tickfont": {
          "size": 15
         },
         "tickformat": "%b %Y",
         "title": {
          "font": {
           "size": 15
          },
          "text": "Time"
         },
         "type": "date"
        },
        "yaxis": {
         "tickfont": {
          "size": 15
         },
         "title": {
          "font": {
           "size": 15
          },
          "text": "Value"
         }
        }
       }
      }
     },
     "metadata": {},
     "output_type": "display_data"
    }
   ],
   "source": [
    "# Plotting the forecast\n",
    "fig = plot_forecast(\n",
    "    # simulated annealing model\n",
    "    pred_df,\n",
    "    forecast_columns=[f\"Optimized {algorithm_name} (SA)\"],\n",
    "    forecast_display_names=[f\"Optimized {algorithm_name} (SA)\"],\n",
    "    # forecast_columns=[f\"{algorithm_name} (SA)\"],\n",
    "    # forecast_display_names=[algorithm_name],\n",
    ")\n",
    "\n",
    "title = f\"Forecasting multivarate COVID-19 MVBeds with {algorithm_name} (SA)\"\n",
    "fig = format_plot(fig, title=title)\n",
    "\n",
    "fig.update_xaxes(\n",
    "    type=\"date\", range=[\"2021-09-26\", \"2021-12-31\"], dtick=\"M1\", tickformat=\"%b %Y\"\n",
    ")\n",
    "\n",
    "save_path = f\"images/forecast_multivarate_{algorithm_name}_sa.png\"\n",
    "# pio.write_image(fig, save_path)\n",
    "fig.show()"
   ]
  },
  {
   "cell_type": "code",
   "execution_count": null,
   "metadata": {},
   "outputs": [],
   "source": []
  },
  {
   "cell_type": "code",
   "execution_count": null,
   "metadata": {},
   "outputs": [],
   "source": []
  },
  {
   "cell_type": "code",
   "execution_count": null,
   "metadata": {},
   "outputs": [],
   "source": []
  },
  {
   "cell_type": "code",
   "execution_count": 42,
   "metadata": {},
   "outputs": [],
   "source": [
    "# save model to reuse later, in the report folder\n",
    "model_file = model_path / f\"{algorithm_name}_sa_model.pt\"\n",
    "torch.save(model.state_dict(), model_file)\n",
    "\n",
    "# save the metrics to a csv file\n",
    "metric_file = model_path / f\"{algorithm_name}_sa_metrics.csv\"\n",
    "metric_df.to_csv(metric_file, index=False)"
   ]
  },
  {
   "cell_type": "code",
   "execution_count": 43,
   "metadata": {},
   "outputs": [],
   "source": [
    "HORIZON = 1\n",
    "WINDOW = 7"
   ]
  },
  {
   "cell_type": "code",
   "execution_count": 51,
   "metadata": {},
   "outputs": [
    {
     "name": "stderr",
     "output_type": "stream",
     "text": [
      "GPU available: True (cuda), used: True\n",
      "TPU available: False, using: 0 TPU cores\n",
      "IPU available: False, using: 0 IPUs\n",
      "HPU available: False, using: 0 HPUs\n"
     ]
    },
    {
     "name": "stderr",
     "output_type": "stream",
     "text": [
      "LOCAL_RANK: 0 - CUDA_VISIBLE_DEVICES: [0]\n",
      "\n",
      "  | Name    | Type    | Params\n",
      "------------------------------------\n",
      "0 | encoder | GRU     | 83.9 K\n",
      "1 | decoder | Linear  | 449   \n",
      "2 | loss    | MSELoss | 0     \n",
      "------------------------------------\n",
      "84.4 K    Trainable params\n",
      "0         Non-trainable params\n",
      "84.4 K    Total params\n",
      "0.337     Total estimated model params size (MB)\n"
     ]
    },
    {
     "data": {
      "application/vnd.jupyter.widget-view+json": {
       "model_id": "b649ba2722274207862c3625925dea85",
       "version_major": 2,
       "version_minor": 0
      },
      "text/plain": [
       "Sanity Checking: |          | 0/? [00:00<?, ?it/s]"
      ]
     },
     "metadata": {},
     "output_type": "display_data"
    },
    {
     "data": {
      "application/vnd.jupyter.widget-view+json": {
       "model_id": "e075c820e53a4308ad628a558f51834f",
       "version_major": 2,
       "version_minor": 0
      },
      "text/plain": [
       "Training: |          | 0/? [00:00<?, ?it/s]"
      ]
     },
     "metadata": {},
     "output_type": "display_data"
    },
    {
     "data": {
      "application/vnd.jupyter.widget-view+json": {
       "model_id": "2036c1fb4d1145d69ea89b6ce9e5248f",
       "version_major": 2,
       "version_minor": 0
      },
      "text/plain": [
       "Validation: |          | 0/? [00:00<?, ?it/s]"
      ]
     },
     "metadata": {},
     "output_type": "display_data"
    },
    {
     "data": {
      "application/vnd.jupyter.widget-view+json": {
       "model_id": "428f594ea28648d78c87a3676e389428",
       "version_major": 2,
       "version_minor": 0
      },
      "text/plain": [
       "Validation: |          | 0/? [00:00<?, ?it/s]"
      ]
     },
     "metadata": {},
     "output_type": "display_data"
    },
    {
     "data": {
      "application/vnd.jupyter.widget-view+json": {
       "model_id": "1a8dbc422db0493fbcd249420a7a3a33",
       "version_major": 2,
       "version_minor": 0
      },
      "text/plain": [
       "Validation: |          | 0/? [00:00<?, ?it/s]"
      ]
     },
     "metadata": {},
     "output_type": "display_data"
    },
    {
     "data": {
      "application/vnd.jupyter.widget-view+json": {
       "model_id": "13176d0d687a4dee84f5dd072903b127",
       "version_major": 2,
       "version_minor": 0
      },
      "text/plain": [
       "Validation: |          | 0/? [00:00<?, ?it/s]"
      ]
     },
     "metadata": {},
     "output_type": "display_data"
    },
    {
     "data": {
      "application/vnd.jupyter.widget-view+json": {
       "model_id": "1a346c54ca5d4ef59226ce5839ac30f7",
       "version_major": 2,
       "version_minor": 0
      },
      "text/plain": [
       "Validation: |          | 0/? [00:00<?, ?it/s]"
      ]
     },
     "metadata": {},
     "output_type": "display_data"
    },
    {
     "data": {
      "application/vnd.jupyter.widget-view+json": {
       "model_id": "810b3c9f208a4e0cb98b5a50904edaf9",
       "version_major": 2,
       "version_minor": 0
      },
      "text/plain": [
       "Validation: |          | 0/? [00:00<?, ?it/s]"
      ]
     },
     "metadata": {},
     "output_type": "display_data"
    },
    {
     "data": {
      "application/vnd.jupyter.widget-view+json": {
       "model_id": "3247b227a1a34d41aec7be152e204391",
       "version_major": 2,
       "version_minor": 0
      },
      "text/plain": [
       "Validation: |          | 0/? [00:00<?, ?it/s]"
      ]
     },
     "metadata": {},
     "output_type": "display_data"
    },
    {
     "data": {
      "application/vnd.jupyter.widget-view+json": {
       "model_id": "6de3eafc66604044adc503ef6455c3c3",
       "version_major": 2,
       "version_minor": 0
      },
      "text/plain": [
       "Validation: |          | 0/? [00:00<?, ?it/s]"
      ]
     },
     "metadata": {},
     "output_type": "display_data"
    },
    {
     "data": {
      "application/vnd.jupyter.widget-view+json": {
       "model_id": "19777147a24041deb7566e84d0b665fb",
       "version_major": 2,
       "version_minor": 0
      },
      "text/plain": [
       "Validation: |          | 0/? [00:00<?, ?it/s]"
      ]
     },
     "metadata": {},
     "output_type": "display_data"
    },
    {
     "data": {
      "application/vnd.jupyter.widget-view+json": {
       "model_id": "a9bcd5f9ed63457baaaa5220a648d5fc",
       "version_major": 2,
       "version_minor": 0
      },
      "text/plain": [
       "Validation: |          | 0/? [00:00<?, ?it/s]"
      ]
     },
     "metadata": {},
     "output_type": "display_data"
    },
    {
     "data": {
      "application/vnd.jupyter.widget-view+json": {
       "model_id": "bb2aebe615da4450902ab469682ead08",
       "version_major": 2,
       "version_minor": 0
      },
      "text/plain": [
       "Validation: |          | 0/? [00:00<?, ?it/s]"
      ]
     },
     "metadata": {},
     "output_type": "display_data"
    },
    {
     "data": {
      "application/vnd.jupyter.widget-view+json": {
       "model_id": "395caca364ee47fba47f97cff09ead75",
       "version_major": 2,
       "version_minor": 0
      },
      "text/plain": [
       "Validation: |          | 0/? [00:00<?, ?it/s]"
      ]
     },
     "metadata": {},
     "output_type": "display_data"
    },
    {
     "data": {
      "application/vnd.jupyter.widget-view+json": {
       "model_id": "edb95303b42a4aee9fb7cf997ce8f3a3",
       "version_major": 2,
       "version_minor": 0
      },
      "text/plain": [
       "Validation: |          | 0/? [00:00<?, ?it/s]"
      ]
     },
     "metadata": {},
     "output_type": "display_data"
    },
    {
     "data": {
      "application/vnd.jupyter.widget-view+json": {
       "model_id": "6a9ebf08128c42ca92984d0d176a3deb",
       "version_major": 2,
       "version_minor": 0
      },
      "text/plain": [
       "Validation: |          | 0/? [00:00<?, ?it/s]"
      ]
     },
     "metadata": {},
     "output_type": "display_data"
    },
    {
     "data": {
      "application/vnd.jupyter.widget-view+json": {
       "model_id": "274a25ecf5b848e683e04fe90c9f287c",
       "version_major": 2,
       "version_minor": 0
      },
      "text/plain": [
       "Validation: |          | 0/? [00:00<?, ?it/s]"
      ]
     },
     "metadata": {},
     "output_type": "display_data"
    },
    {
     "data": {
      "application/vnd.jupyter.widget-view+json": {
       "model_id": "4d4fce2bd3ef463f89a0198d43ee2de9",
       "version_major": 2,
       "version_minor": 0
      },
      "text/plain": [
       "Validation: |          | 0/? [00:00<?, ?it/s]"
      ]
     },
     "metadata": {},
     "output_type": "display_data"
    },
    {
     "data": {
      "application/vnd.jupyter.widget-view+json": {
       "model_id": "0f000cb978a04123ac12362027f2c6d1",
       "version_major": 2,
       "version_minor": 0
      },
      "text/plain": [
       "Validation: |          | 0/? [00:00<?, ?it/s]"
      ]
     },
     "metadata": {},
     "output_type": "display_data"
    },
    {
     "data": {
      "application/vnd.jupyter.widget-view+json": {
       "model_id": "d3b30c4fc37d4d528a52711272173807",
       "version_major": 2,
       "version_minor": 0
      },
      "text/plain": [
       "Validation: |          | 0/? [00:00<?, ?it/s]"
      ]
     },
     "metadata": {},
     "output_type": "display_data"
    },
    {
     "data": {
      "application/vnd.jupyter.widget-view+json": {
       "model_id": "c20689df80234c09b22e1c3092a317ee",
       "version_major": 2,
       "version_minor": 0
      },
      "text/plain": [
       "Validation: |          | 0/? [00:00<?, ?it/s]"
      ]
     },
     "metadata": {},
     "output_type": "display_data"
    },
    {
     "data": {
      "application/vnd.jupyter.widget-view+json": {
       "model_id": "619afe722ce742b498c27004361cfe48",
       "version_major": 2,
       "version_minor": 0
      },
      "text/plain": [
       "Validation: |          | 0/? [00:00<?, ?it/s]"
      ]
     },
     "metadata": {},
     "output_type": "display_data"
    },
    {
     "data": {
      "application/vnd.jupyter.widget-view+json": {
       "model_id": "6bd0ad8471b346c4b8cf4c5cf81b9666",
       "version_major": 2,
       "version_minor": 0
      },
      "text/plain": [
       "Validation: |          | 0/? [00:00<?, ?it/s]"
      ]
     },
     "metadata": {},
     "output_type": "display_data"
    },
    {
     "data": {
      "application/vnd.jupyter.widget-view+json": {
       "model_id": "ee70e853eab1471da0883df02c4cd499",
       "version_major": 2,
       "version_minor": 0
      },
      "text/plain": [
       "Validation: |          | 0/? [00:00<?, ?it/s]"
      ]
     },
     "metadata": {},
     "output_type": "display_data"
    },
    {
     "data": {
      "application/vnd.jupyter.widget-view+json": {
       "model_id": "6769bd918f5e4dc3bf4a7664b131a27b",
       "version_major": 2,
       "version_minor": 0
      },
      "text/plain": [
       "Validation: |          | 0/? [00:00<?, ?it/s]"
      ]
     },
     "metadata": {},
     "output_type": "display_data"
    },
    {
     "data": {
      "application/vnd.jupyter.widget-view+json": {
       "model_id": "6c00f873e8c04457b4f6b449c35411e2",
       "version_major": 2,
       "version_minor": 0
      },
      "text/plain": [
       "Validation: |          | 0/? [00:00<?, ?it/s]"
      ]
     },
     "metadata": {},
     "output_type": "display_data"
    },
    {
     "data": {
      "application/vnd.jupyter.widget-view+json": {
       "model_id": "bcdf139e8b8b4fa4864d62f81746b7a8",
       "version_major": 2,
       "version_minor": 0
      },
      "text/plain": [
       "Validation: |          | 0/? [00:00<?, ?it/s]"
      ]
     },
     "metadata": {},
     "output_type": "display_data"
    },
    {
     "data": {
      "application/vnd.jupyter.widget-view+json": {
       "model_id": "2919ae3622a54a919ae082d974b9d610",
       "version_major": 2,
       "version_minor": 0
      },
      "text/plain": [
       "Validation: |          | 0/? [00:00<?, ?it/s]"
      ]
     },
     "metadata": {},
     "output_type": "display_data"
    },
    {
     "data": {
      "application/vnd.jupyter.widget-view+json": {
       "model_id": "b41c0bb825cd4b45b53b54adcc42e6aa",
       "version_major": 2,
       "version_minor": 0
      },
      "text/plain": [
       "Validation: |          | 0/? [00:00<?, ?it/s]"
      ]
     },
     "metadata": {},
     "output_type": "display_data"
    },
    {
     "data": {
      "application/vnd.jupyter.widget-view+json": {
       "model_id": "1f0debde106748f5ba1e2094e90f28bf",
       "version_major": 2,
       "version_minor": 0
      },
      "text/plain": [
       "Validation: |          | 0/? [00:00<?, ?it/s]"
      ]
     },
     "metadata": {},
     "output_type": "display_data"
    },
    {
     "data": {
      "application/vnd.jupyter.widget-view+json": {
       "model_id": "37688134cb024350813f3400e2b5a978",
       "version_major": 2,
       "version_minor": 0
      },
      "text/plain": [
       "Validation: |          | 0/? [00:00<?, ?it/s]"
      ]
     },
     "metadata": {},
     "output_type": "display_data"
    },
    {
     "data": {
      "application/vnd.jupyter.widget-view+json": {
       "model_id": "88ec241935574e6caa6858fea8b0540b",
       "version_major": 2,
       "version_minor": 0
      },
      "text/plain": [
       "Validation: |          | 0/? [00:00<?, ?it/s]"
      ]
     },
     "metadata": {},
     "output_type": "display_data"
    }
   ],
   "source": [
    "encoder_config = RNNConfig(\n",
    "    input_size=11,  # Replace with actual number of input features\n",
    "    hidden_size=32,  # Example size\n",
    "    num_layers=5,\n",
    "    bidirectional=True\n",
    ")\n",
    "\n",
    "decoder_config = RNNConfig(\n",
    "    input_size=11,  # Should align with the encoder's output dimension\n",
    "    hidden_size=32,  # Example size\n",
    "    num_layers=5,\n",
    "    bidirectional=True\n",
    ")\n",
    "\n",
    "rnn2fc_config = Seq2SeqConfig(\n",
    "    encoder_type=\"GRU\",\n",
    "    decoder_type=\"FC\",\n",
    "    encoder_params=encoder_config,\n",
    "    decoder_params={\"window_size\": WINDOW, \"horizon\": HORIZON},\n",
    "    decoder_use_all_hidden=True,\n",
    "    learning_rate=1e-3,\n",
    ")\n",
    "\n",
    "model = Seq2SeqModel(rnn2fc_config)\n",
    "\n",
    "trainer = pl.Trainer(\n",
    "    # logger=logger,\n",
    "    min_epochs=5,\n",
    "    max_epochs=100,\n",
    "    accelerator=\"gpu\",\n",
    "    devices=1,\n",
    "    callbacks=[EarlyStopping(monitor=\"valid_loss\", patience=10)],\n",
    ")\n",
    "\n",
    "trainer.fit(model, datamodule)"
   ]
  },
  {
   "cell_type": "code",
   "execution_count": 52,
   "metadata": {},
   "outputs": [
    {
     "name": "stderr",
     "output_type": "stream",
     "text": [
      "LOCAL_RANK: 0 - CUDA_VISIBLE_DEVICES: [0]\n"
     ]
    },
    {
     "data": {
      "application/vnd.jupyter.widget-view+json": {
       "model_id": "a110d46b755945ccabdebf5d0f595061",
       "version_major": 2,
       "version_minor": 0
      },
      "text/plain": [
       "Predicting: |          | 0/? [00:00<?, ?it/s]"
      ]
     },
     "metadata": {},
     "output_type": "display_data"
    },
    {
     "name": "stdout",
     "output_type": "stream",
     "text": [
      "{'Algorithm': 'Seq2Seq GRU', 'MAE': '1.6156', 'MSE': '2.8694', 'MASE': '7.0713', 'Forecast Bias': '-1.62'}\n"
     ]
    }
   ],
   "source": [
    "tag = f\"{rnn2fc_config.encoder_type}_{rnn2fc_config.decoder_type}_{'all_hidden' if rnn2fc_config.decoder_use_all_hidden else 'last_hidden'}\"\n",
    "\n",
    "predictions = trainer.predict(model, datamodule.test_dataloader())\n",
    "predictions = torch.cat(predictions).squeeze().detach().numpy()\n",
    "\n",
    "predictions = predictions * datamodule.train.std + datamodule.train.mean\n",
    "\n",
    "actuals = test[\"covidOccupiedMVBeds\"].values\n",
    "\n",
    "assert (\n",
    "    actuals.shape == predictions.shape\n",
    "), \"Mismatch in shapes between actuals and predictions\"\n",
    "\n",
    "algorithm_name = rnn2fc_config.encoder_type\n",
    "\n",
    "metrics = {\n",
    "    \"Algorithm\": f\"Seq2Seq {algorithm_name}\",\n",
    "    \"MAE\": mae(actuals, predictions),\n",
    "    \"MSE\": mse(actuals, predictions),\n",
    "    \"MASE\": mase(actuals, predictions, train[\"covidOccupiedMVBeds\"].values),\n",
    "    \"Forecast Bias\": forecast_bias(actuals, predictions),\n",
    "}\n",
    "\n",
    "value_formats = [\"{}\", \"{:.4f}\", \"{:.4f}\", \"{:.4f}\", \"{:.2f}\"]\n",
    "\n",
    "metrics = {\n",
    "    key: format_.format(value)\n",
    "    for key, value, format_ in zip(metrics.keys(), metrics.values(), value_formats)\n",
    "}\n",
    "\n",
    "pred_df_ = pd.DataFrame({f\"Seq2Seq {algorithm_name}\": predictions}, index=test.index)\n",
    "\n",
    "pred_df = test.join(pred_df_)\n",
    "\n",
    "metric_record.append(metrics)\n",
    "\n",
    "print(metrics)"
   ]
  },
  {
   "cell_type": "code",
   "execution_count": 53,
   "metadata": {},
   "outputs": [
    {
     "data": {
      "application/vnd.plotly.v1+json": {
       "config": {
        "plotlyServerURL": "https://plot.ly"
       },
       "data": [
        {
         "line": {
          "color": "rgb(102,194,165)",
          "width": 2
         },
         "marker": {
          "opacity": 0.5,
          "size": 6
         },
         "mode": "lines",
         "name": "Actual COVID-19 MVBeds trends",
         "type": "scatter",
         "x": [
          "2021-09-25T00:00:00",
          "2021-09-25T00:00:00",
          "2021-09-25T00:00:00",
          "2021-09-25T00:00:00",
          "2021-09-26T00:00:00",
          "2021-09-26T00:00:00",
          "2021-09-26T00:00:00",
          "2021-09-26T00:00:00",
          "2021-09-27T00:00:00",
          "2021-09-27T00:00:00",
          "2021-09-27T00:00:00",
          "2021-09-27T00:00:00",
          "2021-09-28T00:00:00",
          "2021-09-28T00:00:00",
          "2021-09-28T00:00:00",
          "2021-09-28T00:00:00",
          "2021-09-29T00:00:00",
          "2021-09-29T00:00:00",
          "2021-09-29T00:00:00",
          "2021-09-29T00:00:00",
          "2021-09-30T00:00:00",
          "2021-09-30T00:00:00",
          "2021-09-30T00:00:00",
          "2021-09-30T00:00:00",
          "2021-10-01T00:00:00",
          "2021-10-01T00:00:00",
          "2021-10-01T00:00:00",
          "2021-10-01T00:00:00",
          "2021-10-02T00:00:00",
          "2021-10-02T00:00:00",
          "2021-10-02T00:00:00",
          "2021-10-02T00:00:00",
          "2021-10-03T00:00:00",
          "2021-10-03T00:00:00",
          "2021-10-03T00:00:00",
          "2021-10-03T00:00:00",
          "2021-10-04T00:00:00",
          "2021-10-04T00:00:00",
          "2021-10-04T00:00:00",
          "2021-10-04T00:00:00",
          "2021-10-05T00:00:00",
          "2021-10-05T00:00:00",
          "2021-10-05T00:00:00",
          "2021-10-05T00:00:00",
          "2021-10-06T00:00:00",
          "2021-10-06T00:00:00",
          "2021-10-06T00:00:00",
          "2021-10-06T00:00:00",
          "2021-10-07T00:00:00",
          "2021-10-07T00:00:00",
          "2021-10-07T00:00:00",
          "2021-10-07T00:00:00",
          "2021-10-08T00:00:00",
          "2021-10-08T00:00:00",
          "2021-10-08T00:00:00",
          "2021-10-08T00:00:00",
          "2021-10-09T00:00:00",
          "2021-10-09T00:00:00",
          "2021-10-09T00:00:00",
          "2021-10-09T00:00:00",
          "2021-10-10T00:00:00",
          "2021-10-10T00:00:00",
          "2021-10-10T00:00:00",
          "2021-10-10T00:00:00",
          "2021-10-11T00:00:00",
          "2021-10-11T00:00:00",
          "2021-10-11T00:00:00",
          "2021-10-11T00:00:00",
          "2021-10-12T00:00:00",
          "2021-10-12T00:00:00",
          "2021-10-12T00:00:00",
          "2021-10-12T00:00:00",
          "2021-10-13T00:00:00",
          "2021-10-13T00:00:00",
          "2021-10-13T00:00:00",
          "2021-10-13T00:00:00",
          "2021-10-14T00:00:00",
          "2021-10-14T00:00:00",
          "2021-10-14T00:00:00",
          "2021-10-14T00:00:00",
          "2021-10-15T00:00:00",
          "2021-10-15T00:00:00",
          "2021-10-15T00:00:00",
          "2021-10-15T00:00:00",
          "2021-10-16T00:00:00",
          "2021-10-16T00:00:00",
          "2021-10-16T00:00:00",
          "2021-10-16T00:00:00",
          "2021-10-17T00:00:00",
          "2021-10-17T00:00:00",
          "2021-10-17T00:00:00",
          "2021-10-17T00:00:00",
          "2021-10-18T00:00:00",
          "2021-10-18T00:00:00",
          "2021-10-18T00:00:00",
          "2021-10-18T00:00:00",
          "2021-10-19T00:00:00",
          "2021-10-19T00:00:00",
          "2021-10-19T00:00:00",
          "2021-10-19T00:00:00",
          "2021-10-20T00:00:00",
          "2021-10-20T00:00:00",
          "2021-10-20T00:00:00",
          "2021-10-20T00:00:00",
          "2021-10-21T00:00:00",
          "2021-10-21T00:00:00",
          "2021-10-21T00:00:00",
          "2021-10-21T00:00:00",
          "2021-10-22T00:00:00",
          "2021-10-22T00:00:00",
          "2021-10-22T00:00:00",
          "2021-10-22T00:00:00",
          "2021-10-23T00:00:00",
          "2021-10-23T00:00:00",
          "2021-10-23T00:00:00",
          "2021-10-23T00:00:00",
          "2021-10-24T00:00:00",
          "2021-10-24T00:00:00",
          "2021-10-24T00:00:00",
          "2021-10-24T00:00:00",
          "2021-10-25T00:00:00",
          "2021-10-25T00:00:00",
          "2021-10-25T00:00:00",
          "2021-10-25T00:00:00",
          "2021-10-26T00:00:00",
          "2021-10-26T00:00:00",
          "2021-10-26T00:00:00",
          "2021-10-26T00:00:00",
          "2021-10-27T00:00:00",
          "2021-10-27T00:00:00",
          "2021-10-27T00:00:00",
          "2021-10-27T00:00:00",
          "2021-10-28T00:00:00",
          "2021-10-28T00:00:00",
          "2021-10-28T00:00:00",
          "2021-10-28T00:00:00",
          "2021-10-29T00:00:00",
          "2021-10-29T00:00:00",
          "2021-10-29T00:00:00",
          "2021-10-29T00:00:00",
          "2021-10-30T00:00:00",
          "2021-10-30T00:00:00",
          "2021-10-30T00:00:00",
          "2021-10-30T00:00:00",
          "2021-10-31T00:00:00",
          "2021-10-31T00:00:00",
          "2021-10-31T00:00:00",
          "2021-10-31T00:00:00",
          "2021-11-01T00:00:00",
          "2021-11-01T00:00:00",
          "2021-11-01T00:00:00",
          "2021-11-01T00:00:00",
          "2021-11-02T00:00:00",
          "2021-11-02T00:00:00",
          "2021-11-02T00:00:00",
          "2021-11-02T00:00:00",
          "2021-11-03T00:00:00",
          "2021-11-03T00:00:00",
          "2021-11-03T00:00:00",
          "2021-11-03T00:00:00",
          "2021-11-04T00:00:00",
          "2021-11-04T00:00:00",
          "2021-11-04T00:00:00",
          "2021-11-04T00:00:00",
          "2021-11-05T00:00:00",
          "2021-11-05T00:00:00",
          "2021-11-05T00:00:00",
          "2021-11-05T00:00:00",
          "2021-11-06T00:00:00",
          "2021-11-06T00:00:00",
          "2021-11-06T00:00:00",
          "2021-11-06T00:00:00",
          "2021-11-07T00:00:00",
          "2021-11-07T00:00:00",
          "2021-11-07T00:00:00",
          "2021-11-07T00:00:00",
          "2021-11-08T00:00:00",
          "2021-11-08T00:00:00",
          "2021-11-08T00:00:00",
          "2021-11-08T00:00:00",
          "2021-11-09T00:00:00",
          "2021-11-09T00:00:00",
          "2021-11-09T00:00:00",
          "2021-11-09T00:00:00",
          "2021-11-10T00:00:00",
          "2021-11-10T00:00:00",
          "2021-11-10T00:00:00",
          "2021-11-10T00:00:00",
          "2021-11-11T00:00:00",
          "2021-11-11T00:00:00",
          "2021-11-11T00:00:00",
          "2021-11-11T00:00:00",
          "2021-11-12T00:00:00",
          "2021-11-12T00:00:00",
          "2021-11-12T00:00:00",
          "2021-11-12T00:00:00",
          "2021-11-13T00:00:00",
          "2021-11-13T00:00:00",
          "2021-11-13T00:00:00",
          "2021-11-13T00:00:00",
          "2021-11-14T00:00:00",
          "2021-11-14T00:00:00",
          "2021-11-14T00:00:00",
          "2021-11-14T00:00:00",
          "2021-11-15T00:00:00",
          "2021-11-15T00:00:00",
          "2021-11-15T00:00:00",
          "2021-11-15T00:00:00",
          "2021-11-16T00:00:00",
          "2021-11-16T00:00:00",
          "2021-11-16T00:00:00",
          "2021-11-16T00:00:00",
          "2021-11-17T00:00:00",
          "2021-11-17T00:00:00",
          "2021-11-17T00:00:00",
          "2021-11-17T00:00:00",
          "2021-11-18T00:00:00",
          "2021-11-18T00:00:00",
          "2021-11-18T00:00:00",
          "2021-11-18T00:00:00",
          "2021-11-19T00:00:00",
          "2021-11-19T00:00:00",
          "2021-11-19T00:00:00",
          "2021-11-19T00:00:00",
          "2021-11-20T00:00:00",
          "2021-11-20T00:00:00",
          "2021-11-20T00:00:00",
          "2021-11-20T00:00:00",
          "2021-11-21T00:00:00",
          "2021-11-21T00:00:00",
          "2021-11-21T00:00:00",
          "2021-11-21T00:00:00",
          "2021-11-22T00:00:00",
          "2021-11-22T00:00:00",
          "2021-11-22T00:00:00",
          "2021-11-22T00:00:00",
          "2021-11-23T00:00:00",
          "2021-11-23T00:00:00",
          "2021-11-23T00:00:00",
          "2021-11-23T00:00:00",
          "2021-11-24T00:00:00",
          "2021-11-24T00:00:00",
          "2021-11-24T00:00:00",
          "2021-11-24T00:00:00",
          "2021-11-25T00:00:00",
          "2021-11-25T00:00:00",
          "2021-11-25T00:00:00",
          "2021-11-25T00:00:00",
          "2021-11-26T00:00:00",
          "2021-11-26T00:00:00",
          "2021-11-26T00:00:00",
          "2021-11-26T00:00:00",
          "2021-11-27T00:00:00",
          "2021-11-27T00:00:00",
          "2021-11-27T00:00:00",
          "2021-11-27T00:00:00",
          "2021-11-28T00:00:00",
          "2021-11-28T00:00:00",
          "2021-11-28T00:00:00",
          "2021-11-28T00:00:00",
          "2021-11-29T00:00:00",
          "2021-11-29T00:00:00",
          "2021-11-29T00:00:00",
          "2021-11-29T00:00:00",
          "2021-11-30T00:00:00",
          "2021-11-30T00:00:00",
          "2021-11-30T00:00:00",
          "2021-11-30T00:00:00",
          "2021-12-01T00:00:00",
          "2021-12-01T00:00:00",
          "2021-12-01T00:00:00",
          "2021-12-01T00:00:00",
          "2021-12-02T00:00:00",
          "2021-12-02T00:00:00",
          "2021-12-02T00:00:00",
          "2021-12-02T00:00:00",
          "2021-12-03T00:00:00",
          "2021-12-03T00:00:00",
          "2021-12-03T00:00:00",
          "2021-12-03T00:00:00",
          "2021-12-04T00:00:00",
          "2021-12-04T00:00:00",
          "2021-12-04T00:00:00",
          "2021-12-04T00:00:00",
          "2021-12-05T00:00:00",
          "2021-12-05T00:00:00",
          "2021-12-05T00:00:00",
          "2021-12-05T00:00:00",
          "2021-12-06T00:00:00",
          "2021-12-06T00:00:00",
          "2021-12-06T00:00:00",
          "2021-12-06T00:00:00",
          "2021-12-07T00:00:00",
          "2021-12-07T00:00:00",
          "2021-12-07T00:00:00",
          "2021-12-07T00:00:00",
          "2021-12-08T00:00:00",
          "2021-12-08T00:00:00",
          "2021-12-08T00:00:00",
          "2021-12-08T00:00:00",
          "2021-12-09T00:00:00",
          "2021-12-09T00:00:00",
          "2021-12-09T00:00:00",
          "2021-12-09T00:00:00",
          "2021-12-10T00:00:00",
          "2021-12-10T00:00:00",
          "2021-12-10T00:00:00",
          "2021-12-10T00:00:00",
          "2021-12-11T00:00:00",
          "2021-12-11T00:00:00",
          "2021-12-11T00:00:00",
          "2021-12-11T00:00:00",
          "2021-12-12T00:00:00",
          "2021-12-12T00:00:00",
          "2021-12-12T00:00:00",
          "2021-12-12T00:00:00",
          "2021-12-13T00:00:00",
          "2021-12-13T00:00:00",
          "2021-12-13T00:00:00",
          "2021-12-13T00:00:00",
          "2021-12-14T00:00:00",
          "2021-12-14T00:00:00",
          "2021-12-14T00:00:00",
          "2021-12-14T00:00:00",
          "2021-12-15T00:00:00",
          "2021-12-15T00:00:00",
          "2021-12-15T00:00:00",
          "2021-12-15T00:00:00",
          "2021-12-16T00:00:00",
          "2021-12-16T00:00:00",
          "2021-12-16T00:00:00",
          "2021-12-16T00:00:00",
          "2021-12-17T00:00:00",
          "2021-12-17T00:00:00",
          "2021-12-17T00:00:00",
          "2021-12-17T00:00:00",
          "2021-12-18T00:00:00",
          "2021-12-18T00:00:00",
          "2021-12-18T00:00:00",
          "2021-12-18T00:00:00",
          "2021-12-19T00:00:00",
          "2021-12-19T00:00:00",
          "2021-12-19T00:00:00",
          "2021-12-19T00:00:00",
          "2021-12-20T00:00:00",
          "2021-12-20T00:00:00",
          "2021-12-20T00:00:00",
          "2021-12-20T00:00:00",
          "2021-12-21T00:00:00",
          "2021-12-21T00:00:00",
          "2021-12-21T00:00:00",
          "2021-12-21T00:00:00",
          "2021-12-22T00:00:00",
          "2021-12-22T00:00:00",
          "2021-12-22T00:00:00",
          "2021-12-22T00:00:00",
          "2021-12-23T00:00:00",
          "2021-12-23T00:00:00",
          "2021-12-23T00:00:00",
          "2021-12-23T00:00:00",
          "2021-12-24T00:00:00",
          "2021-12-24T00:00:00",
          "2021-12-24T00:00:00",
          "2021-12-24T00:00:00",
          "2021-12-25T00:00:00",
          "2021-12-25T00:00:00",
          "2021-12-25T00:00:00",
          "2021-12-25T00:00:00",
          "2021-12-26T00:00:00",
          "2021-12-26T00:00:00",
          "2021-12-26T00:00:00",
          "2021-12-26T00:00:00",
          "2021-12-27T00:00:00",
          "2021-12-27T00:00:00",
          "2021-12-27T00:00:00",
          "2021-12-27T00:00:00",
          "2021-12-28T00:00:00",
          "2021-12-28T00:00:00",
          "2021-12-28T00:00:00",
          "2021-12-28T00:00:00",
          "2021-12-29T00:00:00",
          "2021-12-29T00:00:00",
          "2021-12-29T00:00:00",
          "2021-12-29T00:00:00",
          "2021-12-30T00:00:00",
          "2021-12-30T00:00:00",
          "2021-12-30T00:00:00",
          "2021-12-30T00:00:00"
         ],
         "y": [
          20.994099135255922,
          20.994099135255922,
          20.994099135255922,
          20.994099135255922,
          20.941693228693463,
          20.941693228693463,
          20.941693228693463,
          20.941693228693463,
          20.831118311297192,
          20.831118311297192,
          20.831118311297192,
          20.831118311297192,
          20.543706042182368,
          20.543706042182368,
          20.543706042182368,
          20.543706042182368,
          20.549116446268854,
          20.549116446268854,
          20.549116446268854,
          20.549116446268854,
          20.2573113916781,
          20.2573113916781,
          20.2573113916781,
          20.2573113916781,
          20.021623264429838,
          20.021623264429838,
          20.021623264429838,
          20.021623264429838,
          19.535191372571813,
          19.535191372571813,
          19.535191372571813,
          19.535191372571813,
          20.032751688123113,
          20.032751688123113,
          20.032751688123113,
          20.032751688123113,
          20.098851142805316,
          20.098851142805316,
          20.098851142805316,
          20.098851142805316,
          20.463400267911506,
          20.463400267911506,
          20.463400267911506,
          20.463400267911506,
          20.230341425948765,
          20.230341425948765,
          20.230341425948765,
          20.230341425948765,
          20.175755691547657,
          20.175755691547657,
          20.175755691547657,
          20.175755691547657,
          20.181274260396954,
          20.181274260396954,
          20.181274260396954,
          20.181274260396954,
          19.450320746067824,
          19.450320746067824,
          19.450320746067824,
          19.450320746067824,
          19.330376796519058,
          19.330376796519058,
          19.330376796519058,
          19.330376796519058,
          19.894763546044324,
          19.894763546044324,
          19.894763546044324,
          19.894763546044324,
          20.022155076050765,
          20.022155076050765,
          20.022155076050765,
          20.022155076050765,
          20.148666187373305,
          20.148666187373305,
          20.148666187373305,
          20.148666187373305,
          20.274313844944707,
          20.274313844944707,
          20.274313844944707,
          20.274313844944707,
          20.038844692204876,
          20.038844692204876,
          20.038844692204876,
          20.038844692204876,
          20.463919521716512,
          20.463919521716512,
          20.463919521716512,
          20.463919521716512,
          20.879529617311622,
          20.879529617311622,
          20.879529617311622,
          20.879529617311622,
          20.651618858746428,
          20.651618858746428,
          20.651618858746428,
          20.651618858746428,
          20.65699827025494,
          20.65699827025494,
          20.65699827025494,
          20.65699827025494,
          20.720919534075836,
          20.720919534075836,
          20.720919534075836,
          20.720919534075836,
          21.188112605823555,
          21.188112605823555,
          21.188112605823555,
          21.188112605823555,
          21.476375939206246,
          21.476375939206246,
          21.476375939206246,
          21.476375939206246,
          21.925911758004098,
          21.925911758004098,
          21.925911758004098,
          21.925911758004098,
          21.985786357993273,
          21.985786357993273,
          21.985786357993273,
          21.985786357993273,
          21.99080776646949,
          21.99080776646949,
          21.99080776646949,
          21.99080776646949,
          22.159361706843807,
          22.159361706843807,
          22.159361706843807,
          22.159361706843807,
          22.16433972035174,
          22.16433972035174,
          22.16433972035174,
          22.16433972035174,
          22.06049700667158,
          22.06049700667158,
          22.06049700667158,
          22.06049700667158,
          22.065499652788073,
          22.065499652788073,
          22.065499652788073,
          22.065499652788073,
          22.015895850859863,
          22.015895850859863,
          22.015895850859863,
          22.015895850859863,
          21.966168387768843,
          21.966168387768843,
          21.966168387768843,
          21.966168387768843,
          22.458448655263933,
          22.458448655263933,
          22.458448655263933,
          22.458448655263933,
          22.623158512806786,
          22.623158512806786,
          22.623158512806786,
          22.623158512806786,
          22.468257118824294,
          22.468257118824294,
          22.468257118824294,
          22.468257118824294,
          22.579784091685383,
          22.579784091685383,
          22.579784091685383,
          22.579784091685383,
          22.637751091594613,
          22.637751091594613,
          22.637751091594613,
          22.637751091594613,
          22.536317302454428,
          22.536317302454428,
          22.536317302454428,
          22.536317302454428,
          22.54120339194377,
          22.54120339194377,
          22.54120339194377,
          22.54120339194377,
          22.91556294000944,
          22.91556294000944,
          22.91556294000944,
          22.91556294000944,
          22.762863111995056,
          22.762863111995056,
          22.762863111995056,
          22.762863111995056,
          22.714940174123047,
          22.714940174123047,
          22.714940174123047,
          22.714940174123047,
          22.877608591071773,
          22.877608591071773,
          22.877608591071773,
          22.877608591071773,
          22.93474300354508,
          22.93474300354508,
          22.93474300354508,
          22.93474300354508,
          22.51722857940595,
          22.51722857940595,
          22.51722857940595,
          22.51722857940595,
          22.145372348862754,
          22.145372348862754,
          22.145372348862754,
          22.145372348862754,
          21.821783544413037,
          21.821783544413037,
          21.821783544413037,
          21.821783544413037,
          21.66054011759105,
          21.66054011759105,
          21.66054011759105,
          21.66054011759105,
          21.441747832181044,
          21.441747832181044,
          21.441747832181044,
          21.441747832181044,
          21.334020235453295,
          21.334020235453295,
          21.334020235453295,
          21.334020235453295,
          21.3392109256315,
          21.3392109256315,
          21.3392109256315,
          21.3392109256315,
          21.513400240449055,
          21.513400240449055,
          21.513400240449055,
          21.513400240449055,
          21.518543313496192,
          21.518543313496192,
          21.518543313496192,
          21.518543313496192,
          21.298143379246945,
          21.298143379246945,
          21.298143379246945,
          21.298143379246945,
          21.3033436896279,
          21.3033436896279,
          21.3033436896279,
          21.3033436896279,
          21.64570652225628,
          21.64570652225628,
          21.64570652225628,
          21.64570652225628,
          22.036900896157384,
          22.036900896157384,
          22.036900896157384,
          22.036900896157384,
          22.04190945422661,
          22.04190945422661,
          22.04190945422661,
          22.04190945422661,
          21.882454864202458,
          21.882454864202458,
          21.882454864202458,
          21.882454864202458,
          21.77712756522185,
          21.77712756522185,
          21.77712756522185,
          21.77712756522185,
          21.837452261893304,
          21.837452261893304,
          21.837452261893304,
          21.837452261893304,
          22.547021680157872,
          22.547021680157872,
          22.547021680157872,
          22.547021680157872,
          21.513891717088217,
          21.513891717088217,
          21.513891717088217,
          21.513891717088217,
          21.63086171633672,
          21.63086171633672,
          21.63086171633672,
          21.63086171633672,
          21.747138844487598,
          21.747138844487598,
          21.747138844487598,
          21.747138844487598,
          21.807555008508466,
          21.807555008508466,
          21.807555008508466,
          21.807555008508466,
          21.70182669817822,
          21.70182669817822,
          21.70182669817822,
          21.70182669817822,
          21.927836863645243,
          21.927836863645243,
          21.927836863645243,
          21.927836863645243,
          21.82275118811689,
          21.82275118811689,
          21.82275118811689,
          21.82275118811689,
          21.324627258341273,
          21.324627258341273,
          21.324627258341273,
          21.324627258341273,
          21.498946608483518,
          21.498946608483518,
          21.498946608483518,
          21.498946608483518,
          21.447896126805965,
          21.447896126805965,
          21.447896126805965,
          21.447896126805965,
          21.6211218684666,
          21.6211218684666,
          21.6211218684666,
          21.6211218684666,
          21.681925166449567,
          21.681925166449567,
          21.681925166449567,
          21.681925166449567,
          21.631350253730176,
          21.631350253730176,
          21.631350253730176,
          21.631350253730176,
          22.40184836532037,
          22.40184836532037,
          22.40184836532037,
          22.40184836532037,
          21.918242424660935,
          21.918242424660935,
          21.918242424660935,
          21.918242424660935,
          21.646682846547055,
          21.646682846547055,
          21.646682846547055,
          21.646682846547055,
          21.483990049560234,
          21.483990049560234,
          21.483990049560234,
          21.483990049560234,
          20.74490698919332,
          20.74490698919332,
          20.74490698919332,
          20.74490698919332,
          20.69180758155631,
          20.69180758155631,
          20.69180758155631,
          20.69180758155631,
          21.159706057382476,
          21.159706057382476,
          21.159706057382476,
          21.159706057382476,
          21.05038923158407,
          21.05038923158407,
          21.05038923158407,
          21.05038923158407,
          20.59055619088942,
          20.59055619088942,
          20.59055619088942,
          20.59055619088942,
          20.299404359769323,
          20.299404359769323,
          20.299404359769323,
          20.299404359769323,
          19.942751215541545,
          19.942751215541545,
          19.942751215541545,
          19.942751215541545,
          19.826056744791984,
          19.826056744791984,
          19.826056744791984,
          19.826056744791984,
          20.315844850882726,
          20.315844850882726,
          20.315844850882726,
          20.315844850882726,
          20.201506910354937,
          20.201506910354937,
          20.201506910354937,
          20.201506910354937,
          20.32679708721466,
          20.32679708721466,
          20.32679708721466,
          20.32679708721466,
          20.272495714969924,
          20.272495714969924,
          20.272495714969924,
          20.272495714969924,
          20.277985465819782,
          20.277985465819782,
          20.277985465819782,
          20.277985465819782
         ]
        },
        {
         "line": {
          "color": "rgb(252,141,98)",
          "width": 2
         },
         "marker": {
          "size": 4
         },
         "mode": "lines+markers",
         "name": "Seq2Seq GRU",
         "type": "scatter",
         "x": [
          "2021-09-25T00:00:00",
          "2021-09-25T00:00:00",
          "2021-09-25T00:00:00",
          "2021-09-25T00:00:00",
          "2021-09-26T00:00:00",
          "2021-09-26T00:00:00",
          "2021-09-26T00:00:00",
          "2021-09-26T00:00:00",
          "2021-09-27T00:00:00",
          "2021-09-27T00:00:00",
          "2021-09-27T00:00:00",
          "2021-09-27T00:00:00",
          "2021-09-28T00:00:00",
          "2021-09-28T00:00:00",
          "2021-09-28T00:00:00",
          "2021-09-28T00:00:00",
          "2021-09-29T00:00:00",
          "2021-09-29T00:00:00",
          "2021-09-29T00:00:00",
          "2021-09-29T00:00:00",
          "2021-09-30T00:00:00",
          "2021-09-30T00:00:00",
          "2021-09-30T00:00:00",
          "2021-09-30T00:00:00",
          "2021-10-01T00:00:00",
          "2021-10-01T00:00:00",
          "2021-10-01T00:00:00",
          "2021-10-01T00:00:00",
          "2021-10-02T00:00:00",
          "2021-10-02T00:00:00",
          "2021-10-02T00:00:00",
          "2021-10-02T00:00:00",
          "2021-10-03T00:00:00",
          "2021-10-03T00:00:00",
          "2021-10-03T00:00:00",
          "2021-10-03T00:00:00",
          "2021-10-04T00:00:00",
          "2021-10-04T00:00:00",
          "2021-10-04T00:00:00",
          "2021-10-04T00:00:00",
          "2021-10-05T00:00:00",
          "2021-10-05T00:00:00",
          "2021-10-05T00:00:00",
          "2021-10-05T00:00:00",
          "2021-10-06T00:00:00",
          "2021-10-06T00:00:00",
          "2021-10-06T00:00:00",
          "2021-10-06T00:00:00",
          "2021-10-07T00:00:00",
          "2021-10-07T00:00:00",
          "2021-10-07T00:00:00",
          "2021-10-07T00:00:00",
          "2021-10-08T00:00:00",
          "2021-10-08T00:00:00",
          "2021-10-08T00:00:00",
          "2021-10-08T00:00:00",
          "2021-10-09T00:00:00",
          "2021-10-09T00:00:00",
          "2021-10-09T00:00:00",
          "2021-10-09T00:00:00",
          "2021-10-10T00:00:00",
          "2021-10-10T00:00:00",
          "2021-10-10T00:00:00",
          "2021-10-10T00:00:00",
          "2021-10-11T00:00:00",
          "2021-10-11T00:00:00",
          "2021-10-11T00:00:00",
          "2021-10-11T00:00:00",
          "2021-10-12T00:00:00",
          "2021-10-12T00:00:00",
          "2021-10-12T00:00:00",
          "2021-10-12T00:00:00",
          "2021-10-13T00:00:00",
          "2021-10-13T00:00:00",
          "2021-10-13T00:00:00",
          "2021-10-13T00:00:00",
          "2021-10-14T00:00:00",
          "2021-10-14T00:00:00",
          "2021-10-14T00:00:00",
          "2021-10-14T00:00:00",
          "2021-10-15T00:00:00",
          "2021-10-15T00:00:00",
          "2021-10-15T00:00:00",
          "2021-10-15T00:00:00",
          "2021-10-16T00:00:00",
          "2021-10-16T00:00:00",
          "2021-10-16T00:00:00",
          "2021-10-16T00:00:00",
          "2021-10-17T00:00:00",
          "2021-10-17T00:00:00",
          "2021-10-17T00:00:00",
          "2021-10-17T00:00:00",
          "2021-10-18T00:00:00",
          "2021-10-18T00:00:00",
          "2021-10-18T00:00:00",
          "2021-10-18T00:00:00",
          "2021-10-19T00:00:00",
          "2021-10-19T00:00:00",
          "2021-10-19T00:00:00",
          "2021-10-19T00:00:00",
          "2021-10-20T00:00:00",
          "2021-10-20T00:00:00",
          "2021-10-20T00:00:00",
          "2021-10-20T00:00:00",
          "2021-10-21T00:00:00",
          "2021-10-21T00:00:00",
          "2021-10-21T00:00:00",
          "2021-10-21T00:00:00",
          "2021-10-22T00:00:00",
          "2021-10-22T00:00:00",
          "2021-10-22T00:00:00",
          "2021-10-22T00:00:00",
          "2021-10-23T00:00:00",
          "2021-10-23T00:00:00",
          "2021-10-23T00:00:00",
          "2021-10-23T00:00:00",
          "2021-10-24T00:00:00",
          "2021-10-24T00:00:00",
          "2021-10-24T00:00:00",
          "2021-10-24T00:00:00",
          "2021-10-25T00:00:00",
          "2021-10-25T00:00:00",
          "2021-10-25T00:00:00",
          "2021-10-25T00:00:00",
          "2021-10-26T00:00:00",
          "2021-10-26T00:00:00",
          "2021-10-26T00:00:00",
          "2021-10-26T00:00:00",
          "2021-10-27T00:00:00",
          "2021-10-27T00:00:00",
          "2021-10-27T00:00:00",
          "2021-10-27T00:00:00",
          "2021-10-28T00:00:00",
          "2021-10-28T00:00:00",
          "2021-10-28T00:00:00",
          "2021-10-28T00:00:00",
          "2021-10-29T00:00:00",
          "2021-10-29T00:00:00",
          "2021-10-29T00:00:00",
          "2021-10-29T00:00:00",
          "2021-10-30T00:00:00",
          "2021-10-30T00:00:00",
          "2021-10-30T00:00:00",
          "2021-10-30T00:00:00",
          "2021-10-31T00:00:00",
          "2021-10-31T00:00:00",
          "2021-10-31T00:00:00",
          "2021-10-31T00:00:00",
          "2021-11-01T00:00:00",
          "2021-11-01T00:00:00",
          "2021-11-01T00:00:00",
          "2021-11-01T00:00:00",
          "2021-11-02T00:00:00",
          "2021-11-02T00:00:00",
          "2021-11-02T00:00:00",
          "2021-11-02T00:00:00",
          "2021-11-03T00:00:00",
          "2021-11-03T00:00:00",
          "2021-11-03T00:00:00",
          "2021-11-03T00:00:00",
          "2021-11-04T00:00:00",
          "2021-11-04T00:00:00",
          "2021-11-04T00:00:00",
          "2021-11-04T00:00:00",
          "2021-11-05T00:00:00",
          "2021-11-05T00:00:00",
          "2021-11-05T00:00:00",
          "2021-11-05T00:00:00",
          "2021-11-06T00:00:00",
          "2021-11-06T00:00:00",
          "2021-11-06T00:00:00",
          "2021-11-06T00:00:00",
          "2021-11-07T00:00:00",
          "2021-11-07T00:00:00",
          "2021-11-07T00:00:00",
          "2021-11-07T00:00:00",
          "2021-11-08T00:00:00",
          "2021-11-08T00:00:00",
          "2021-11-08T00:00:00",
          "2021-11-08T00:00:00",
          "2021-11-09T00:00:00",
          "2021-11-09T00:00:00",
          "2021-11-09T00:00:00",
          "2021-11-09T00:00:00",
          "2021-11-10T00:00:00",
          "2021-11-10T00:00:00",
          "2021-11-10T00:00:00",
          "2021-11-10T00:00:00",
          "2021-11-11T00:00:00",
          "2021-11-11T00:00:00",
          "2021-11-11T00:00:00",
          "2021-11-11T00:00:00",
          "2021-11-12T00:00:00",
          "2021-11-12T00:00:00",
          "2021-11-12T00:00:00",
          "2021-11-12T00:00:00",
          "2021-11-13T00:00:00",
          "2021-11-13T00:00:00",
          "2021-11-13T00:00:00",
          "2021-11-13T00:00:00",
          "2021-11-14T00:00:00",
          "2021-11-14T00:00:00",
          "2021-11-14T00:00:00",
          "2021-11-14T00:00:00",
          "2021-11-15T00:00:00",
          "2021-11-15T00:00:00",
          "2021-11-15T00:00:00",
          "2021-11-15T00:00:00",
          "2021-11-16T00:00:00",
          "2021-11-16T00:00:00",
          "2021-11-16T00:00:00",
          "2021-11-16T00:00:00",
          "2021-11-17T00:00:00",
          "2021-11-17T00:00:00",
          "2021-11-17T00:00:00",
          "2021-11-17T00:00:00",
          "2021-11-18T00:00:00",
          "2021-11-18T00:00:00",
          "2021-11-18T00:00:00",
          "2021-11-18T00:00:00",
          "2021-11-19T00:00:00",
          "2021-11-19T00:00:00",
          "2021-11-19T00:00:00",
          "2021-11-19T00:00:00",
          "2021-11-20T00:00:00",
          "2021-11-20T00:00:00",
          "2021-11-20T00:00:00",
          "2021-11-20T00:00:00",
          "2021-11-21T00:00:00",
          "2021-11-21T00:00:00",
          "2021-11-21T00:00:00",
          "2021-11-21T00:00:00",
          "2021-11-22T00:00:00",
          "2021-11-22T00:00:00",
          "2021-11-22T00:00:00",
          "2021-11-22T00:00:00",
          "2021-11-23T00:00:00",
          "2021-11-23T00:00:00",
          "2021-11-23T00:00:00",
          "2021-11-23T00:00:00",
          "2021-11-24T00:00:00",
          "2021-11-24T00:00:00",
          "2021-11-24T00:00:00",
          "2021-11-24T00:00:00",
          "2021-11-25T00:00:00",
          "2021-11-25T00:00:00",
          "2021-11-25T00:00:00",
          "2021-11-25T00:00:00",
          "2021-11-26T00:00:00",
          "2021-11-26T00:00:00",
          "2021-11-26T00:00:00",
          "2021-11-26T00:00:00",
          "2021-11-27T00:00:00",
          "2021-11-27T00:00:00",
          "2021-11-27T00:00:00",
          "2021-11-27T00:00:00",
          "2021-11-28T00:00:00",
          "2021-11-28T00:00:00",
          "2021-11-28T00:00:00",
          "2021-11-28T00:00:00",
          "2021-11-29T00:00:00",
          "2021-11-29T00:00:00",
          "2021-11-29T00:00:00",
          "2021-11-29T00:00:00",
          "2021-11-30T00:00:00",
          "2021-11-30T00:00:00",
          "2021-11-30T00:00:00",
          "2021-11-30T00:00:00",
          "2021-12-01T00:00:00",
          "2021-12-01T00:00:00",
          "2021-12-01T00:00:00",
          "2021-12-01T00:00:00",
          "2021-12-02T00:00:00",
          "2021-12-02T00:00:00",
          "2021-12-02T00:00:00",
          "2021-12-02T00:00:00",
          "2021-12-03T00:00:00",
          "2021-12-03T00:00:00",
          "2021-12-03T00:00:00",
          "2021-12-03T00:00:00",
          "2021-12-04T00:00:00",
          "2021-12-04T00:00:00",
          "2021-12-04T00:00:00",
          "2021-12-04T00:00:00",
          "2021-12-05T00:00:00",
          "2021-12-05T00:00:00",
          "2021-12-05T00:00:00",
          "2021-12-05T00:00:00",
          "2021-12-06T00:00:00",
          "2021-12-06T00:00:00",
          "2021-12-06T00:00:00",
          "2021-12-06T00:00:00",
          "2021-12-07T00:00:00",
          "2021-12-07T00:00:00",
          "2021-12-07T00:00:00",
          "2021-12-07T00:00:00",
          "2021-12-08T00:00:00",
          "2021-12-08T00:00:00",
          "2021-12-08T00:00:00",
          "2021-12-08T00:00:00",
          "2021-12-09T00:00:00",
          "2021-12-09T00:00:00",
          "2021-12-09T00:00:00",
          "2021-12-09T00:00:00",
          "2021-12-10T00:00:00",
          "2021-12-10T00:00:00",
          "2021-12-10T00:00:00",
          "2021-12-10T00:00:00",
          "2021-12-11T00:00:00",
          "2021-12-11T00:00:00",
          "2021-12-11T00:00:00",
          "2021-12-11T00:00:00",
          "2021-12-12T00:00:00",
          "2021-12-12T00:00:00",
          "2021-12-12T00:00:00",
          "2021-12-12T00:00:00",
          "2021-12-13T00:00:00",
          "2021-12-13T00:00:00",
          "2021-12-13T00:00:00",
          "2021-12-13T00:00:00",
          "2021-12-14T00:00:00",
          "2021-12-14T00:00:00",
          "2021-12-14T00:00:00",
          "2021-12-14T00:00:00",
          "2021-12-15T00:00:00",
          "2021-12-15T00:00:00",
          "2021-12-15T00:00:00",
          "2021-12-15T00:00:00",
          "2021-12-16T00:00:00",
          "2021-12-16T00:00:00",
          "2021-12-16T00:00:00",
          "2021-12-16T00:00:00",
          "2021-12-17T00:00:00",
          "2021-12-17T00:00:00",
          "2021-12-17T00:00:00",
          "2021-12-17T00:00:00",
          "2021-12-18T00:00:00",
          "2021-12-18T00:00:00",
          "2021-12-18T00:00:00",
          "2021-12-18T00:00:00",
          "2021-12-19T00:00:00",
          "2021-12-19T00:00:00",
          "2021-12-19T00:00:00",
          "2021-12-19T00:00:00",
          "2021-12-20T00:00:00",
          "2021-12-20T00:00:00",
          "2021-12-20T00:00:00",
          "2021-12-20T00:00:00",
          "2021-12-21T00:00:00",
          "2021-12-21T00:00:00",
          "2021-12-21T00:00:00",
          "2021-12-21T00:00:00",
          "2021-12-22T00:00:00",
          "2021-12-22T00:00:00",
          "2021-12-22T00:00:00",
          "2021-12-22T00:00:00",
          "2021-12-23T00:00:00",
          "2021-12-23T00:00:00",
          "2021-12-23T00:00:00",
          "2021-12-23T00:00:00",
          "2021-12-24T00:00:00",
          "2021-12-24T00:00:00",
          "2021-12-24T00:00:00",
          "2021-12-24T00:00:00",
          "2021-12-25T00:00:00",
          "2021-12-25T00:00:00",
          "2021-12-25T00:00:00",
          "2021-12-25T00:00:00",
          "2021-12-26T00:00:00",
          "2021-12-26T00:00:00",
          "2021-12-26T00:00:00",
          "2021-12-26T00:00:00",
          "2021-12-27T00:00:00",
          "2021-12-27T00:00:00",
          "2021-12-27T00:00:00",
          "2021-12-27T00:00:00",
          "2021-12-28T00:00:00",
          "2021-12-28T00:00:00",
          "2021-12-28T00:00:00",
          "2021-12-28T00:00:00",
          "2021-12-29T00:00:00",
          "2021-12-29T00:00:00",
          "2021-12-29T00:00:00",
          "2021-12-29T00:00:00",
          "2021-12-30T00:00:00",
          "2021-12-30T00:00:00",
          "2021-12-30T00:00:00",
          "2021-12-30T00:00:00"
         ],
         "y": [
          20.364456,
          20.165787,
          20.364456,
          20.165787,
          19.935463,
          19.715836,
          19.935463,
          19.715836,
          19.547455,
          19.390717,
          19.547455,
          19.390717,
          19.213844,
          19.103851,
          19.213844,
          19.103851,
          18.999176,
          18.939156,
          18.999176,
          18.939156,
          18.863266,
          18.800255,
          18.863266,
          18.800255,
          18.679253,
          18.516365,
          18.679253,
          18.516365,
          18.36512,
          18.264236,
          18.36512,
          18.264236,
          18.162773,
          18.05426,
          18.162773,
          18.05426,
          17.99118,
          17.975967,
          17.99118,
          17.975967,
          17.971672,
          18.013306,
          17.971672,
          18.013306,
          18.145508,
          18.28112,
          18.145508,
          18.28112,
          18.407509,
          18.506226,
          18.407509,
          18.506226,
          18.566216,
          18.599533,
          18.566216,
          18.599533,
          18.635986,
          18.678642,
          18.635986,
          18.678642,
          18.620506,
          18.445183,
          18.620506,
          18.445183,
          18.20327,
          17.962837,
          18.20327,
          17.962837,
          17.830902,
          17.761261,
          17.830902,
          17.761261,
          17.811874,
          17.922333,
          17.811874,
          17.922333,
          18.016327,
          18.122162,
          18.016327,
          18.122162,
          18.25142,
          18.361519,
          18.25142,
          18.361519,
          18.413803,
          18.470009,
          18.413803,
          18.470009,
          18.561043,
          18.676987,
          18.561043,
          18.676987,
          18.853798,
          18.985954,
          18.853798,
          18.985954,
          19.067368,
          19.097855,
          19.067368,
          19.097855,
          19.16964,
          19.220078,
          19.16964,
          19.220078,
          19.306564,
          19.375336,
          19.306564,
          19.375336,
          19.42408,
          19.533493,
          19.42408,
          19.533493,
          19.701134,
          19.846832,
          19.701134,
          19.846832,
          20.046722,
          20.211563,
          20.046722,
          20.211563,
          20.384834,
          20.56755,
          20.384834,
          20.56755,
          20.770126,
          20.930923,
          20.770126,
          20.930923,
          21.045448,
          21.138336,
          21.045448,
          21.138336,
          21.18718,
          21.18737,
          21.18718,
          21.18737,
          21.166237,
          21.10971,
          21.166237,
          21.10971,
          21.055595,
          20.98626,
          21.055595,
          20.98626,
          20.924004,
          20.882545,
          20.924004,
          20.882545,
          20.808784,
          20.720581,
          20.808784,
          20.720581,
          20.710144,
          20.775139,
          20.710144,
          20.775139,
          20.886612,
          21.028175,
          20.886612,
          21.028175,
          21.153244,
          21.251335,
          21.153244,
          21.251335,
          21.298836,
          21.335144,
          21.298836,
          21.335144,
          21.367035,
          21.398087,
          21.367035,
          21.398087,
          21.399727,
          21.393562,
          21.399727,
          21.393562,
          21.383713,
          21.335754,
          21.383713,
          21.335754,
          21.334534,
          21.358582,
          21.334534,
          21.358582,
          21.404434,
          21.46743,
          21.404434,
          21.46743,
          21.525246,
          21.557968,
          21.525246,
          21.557968,
          21.544464,
          21.534042,
          21.544464,
          21.534042,
          21.533844,
          21.548431,
          21.533844,
          21.548431,
          21.52546,
          21.462074,
          21.52546,
          21.462074,
          21.312325,
          21.110443,
          21.312325,
          21.110443,
          20.852264,
          20.621979,
          20.852264,
          20.621979,
          20.401154,
          20.231606,
          20.401154,
          20.231606,
          20.05835,
          19.900803,
          20.05835,
          19.900803,
          19.688797,
          19.502838,
          19.688797,
          19.502838,
          19.365921,
          19.302856,
          19.365921,
          19.302856,
          19.300766,
          19.35318,
          19.300766,
          19.35318,
          19.397614,
          19.462189,
          19.397614,
          19.462189,
          19.475937,
          19.453209,
          19.475937,
          19.453209,
          19.444221,
          19.436478,
          19.444221,
          19.436478,
          19.499947,
          19.593315,
          19.499947,
          19.593315,
          19.75116,
          19.923538,
          19.75116,
          19.923538,
          20.109802,
          20.237488,
          20.109802,
          20.237488,
          20.343498,
          20.388138,
          20.343498,
          20.388138,
          20.41095,
          20.421638,
          20.41095,
          20.421638,
          20.426254,
          20.432564,
          20.426254,
          20.432564,
          20.504478,
          20.568466,
          20.504478,
          20.568466,
          20.568718,
          20.473213,
          20.568718,
          20.473213,
          20.337791,
          20.226196,
          20.337791,
          20.226196,
          20.19088,
          20.213753,
          20.19088,
          20.213753,
          20.206696,
          20.22261,
          20.206696,
          20.22261,
          20.166992,
          20.115067,
          20.166992,
          20.115067,
          20.116692,
          20.065208,
          20.116692,
          20.065208,
          20.029617,
          20.089363,
          20.029617,
          20.089363,
          20.113045,
          20.092522,
          20.113045,
          20.092522,
          20.022179,
          19.934364,
          20.022179,
          19.934364,
          19.780746,
          19.645477,
          19.780746,
          19.645477,
          19.645134,
          19.684647,
          19.645134,
          19.684647,
          19.737488,
          19.774803,
          19.737488,
          19.774803,
          19.792564,
          19.819977,
          19.792564,
          19.819977,
          19.938477,
          20.144257,
          19.938477,
          20.144257,
          20.363617,
          20.492287,
          20.363617,
          20.492287,
          20.457977,
          20.356155,
          20.457977,
          20.356155,
          20.224777,
          20.075233,
          20.224777,
          20.075233,
          19.896637,
          19.666077,
          19.896637,
          19.666077,
          19.349236,
          19.098923,
          19.349236,
          19.098923,
          18.962387,
          18.85543,
          18.962387,
          18.85543,
          18.779526,
          18.76767,
          18.779526,
          18.76767,
          18.717339,
          18.677818,
          18.717339,
          18.677818,
          18.599129,
          18.490402,
          18.599129,
          18.490402,
          18.242157,
          18.044998,
          18.242157,
          18.044998,
          17.866081,
          17.711288,
          17.866081,
          17.711288,
          17.630737,
          17.556313,
          17.630737,
          17.556313,
          17.505661,
          17.486809,
          17.505661,
          17.486809,
          17.559624,
          17.67437,
          17.559624,
          17.67437,
          17.813385,
          17.941063,
          17.813385,
          17.941063
         ]
        }
       ],
       "layout": {
        "autosize": false,
        "height": 500,
        "legend": {
         "font": {
          "size": 15
         },
         "orientation": "h",
         "title": {},
         "x": 1,
         "xanchor": "right",
         "y": 0.98,
         "yanchor": "bottom"
        },
        "template": {
         "data": {
          "bar": [
           {
            "error_x": {
             "color": "#2a3f5f"
            },
            "error_y": {
             "color": "#2a3f5f"
            },
            "marker": {
             "line": {
              "color": "white",
              "width": 0.5
             },
             "pattern": {
              "fillmode": "overlay",
              "size": 10,
              "solidity": 0.2
             }
            },
            "type": "bar"
           }
          ],
          "barpolar": [
           {
            "marker": {
             "line": {
              "color": "white",
              "width": 0.5
             },
             "pattern": {
              "fillmode": "overlay",
              "size": 10,
              "solidity": 0.2
             }
            },
            "type": "barpolar"
           }
          ],
          "carpet": [
           {
            "aaxis": {
             "endlinecolor": "#2a3f5f",
             "gridcolor": "#C8D4E3",
             "linecolor": "#C8D4E3",
             "minorgridcolor": "#C8D4E3",
             "startlinecolor": "#2a3f5f"
            },
            "baxis": {
             "endlinecolor": "#2a3f5f",
             "gridcolor": "#C8D4E3",
             "linecolor": "#C8D4E3",
             "minorgridcolor": "#C8D4E3",
             "startlinecolor": "#2a3f5f"
            },
            "type": "carpet"
           }
          ],
          "choropleth": [
           {
            "colorbar": {
             "outlinewidth": 0,
             "ticks": ""
            },
            "type": "choropleth"
           }
          ],
          "contour": [
           {
            "colorbar": {
             "outlinewidth": 0,
             "ticks": ""
            },
            "colorscale": [
             [
              0,
              "#0d0887"
             ],
             [
              0.1111111111111111,
              "#46039f"
             ],
             [
              0.2222222222222222,
              "#7201a8"
             ],
             [
              0.3333333333333333,
              "#9c179e"
             ],
             [
              0.4444444444444444,
              "#bd3786"
             ],
             [
              0.5555555555555556,
              "#d8576b"
             ],
             [
              0.6666666666666666,
              "#ed7953"
             ],
             [
              0.7777777777777778,
              "#fb9f3a"
             ],
             [
              0.8888888888888888,
              "#fdca26"
             ],
             [
              1,
              "#f0f921"
             ]
            ],
            "type": "contour"
           }
          ],
          "contourcarpet": [
           {
            "colorbar": {
             "outlinewidth": 0,
             "ticks": ""
            },
            "type": "contourcarpet"
           }
          ],
          "heatmap": [
           {
            "colorbar": {
             "outlinewidth": 0,
             "ticks": ""
            },
            "colorscale": [
             [
              0,
              "#0d0887"
             ],
             [
              0.1111111111111111,
              "#46039f"
             ],
             [
              0.2222222222222222,
              "#7201a8"
             ],
             [
              0.3333333333333333,
              "#9c179e"
             ],
             [
              0.4444444444444444,
              "#bd3786"
             ],
             [
              0.5555555555555556,
              "#d8576b"
             ],
             [
              0.6666666666666666,
              "#ed7953"
             ],
             [
              0.7777777777777778,
              "#fb9f3a"
             ],
             [
              0.8888888888888888,
              "#fdca26"
             ],
             [
              1,
              "#f0f921"
             ]
            ],
            "type": "heatmap"
           }
          ],
          "heatmapgl": [
           {
            "colorbar": {
             "outlinewidth": 0,
             "ticks": ""
            },
            "colorscale": [
             [
              0,
              "#0d0887"
             ],
             [
              0.1111111111111111,
              "#46039f"
             ],
             [
              0.2222222222222222,
              "#7201a8"
             ],
             [
              0.3333333333333333,
              "#9c179e"
             ],
             [
              0.4444444444444444,
              "#bd3786"
             ],
             [
              0.5555555555555556,
              "#d8576b"
             ],
             [
              0.6666666666666666,
              "#ed7953"
             ],
             [
              0.7777777777777778,
              "#fb9f3a"
             ],
             [
              0.8888888888888888,
              "#fdca26"
             ],
             [
              1,
              "#f0f921"
             ]
            ],
            "type": "heatmapgl"
           }
          ],
          "histogram": [
           {
            "marker": {
             "pattern": {
              "fillmode": "overlay",
              "size": 10,
              "solidity": 0.2
             }
            },
            "type": "histogram"
           }
          ],
          "histogram2d": [
           {
            "colorbar": {
             "outlinewidth": 0,
             "ticks": ""
            },
            "colorscale": [
             [
              0,
              "#0d0887"
             ],
             [
              0.1111111111111111,
              "#46039f"
             ],
             [
              0.2222222222222222,
              "#7201a8"
             ],
             [
              0.3333333333333333,
              "#9c179e"
             ],
             [
              0.4444444444444444,
              "#bd3786"
             ],
             [
              0.5555555555555556,
              "#d8576b"
             ],
             [
              0.6666666666666666,
              "#ed7953"
             ],
             [
              0.7777777777777778,
              "#fb9f3a"
             ],
             [
              0.8888888888888888,
              "#fdca26"
             ],
             [
              1,
              "#f0f921"
             ]
            ],
            "type": "histogram2d"
           }
          ],
          "histogram2dcontour": [
           {
            "colorbar": {
             "outlinewidth": 0,
             "ticks": ""
            },
            "colorscale": [
             [
              0,
              "#0d0887"
             ],
             [
              0.1111111111111111,
              "#46039f"
             ],
             [
              0.2222222222222222,
              "#7201a8"
             ],
             [
              0.3333333333333333,
              "#9c179e"
             ],
             [
              0.4444444444444444,
              "#bd3786"
             ],
             [
              0.5555555555555556,
              "#d8576b"
             ],
             [
              0.6666666666666666,
              "#ed7953"
             ],
             [
              0.7777777777777778,
              "#fb9f3a"
             ],
             [
              0.8888888888888888,
              "#fdca26"
             ],
             [
              1,
              "#f0f921"
             ]
            ],
            "type": "histogram2dcontour"
           }
          ],
          "mesh3d": [
           {
            "colorbar": {
             "outlinewidth": 0,
             "ticks": ""
            },
            "type": "mesh3d"
           }
          ],
          "parcoords": [
           {
            "line": {
             "colorbar": {
              "outlinewidth": 0,
              "ticks": ""
             }
            },
            "type": "parcoords"
           }
          ],
          "pie": [
           {
            "automargin": true,
            "type": "pie"
           }
          ],
          "scatter": [
           {
            "fillpattern": {
             "fillmode": "overlay",
             "size": 10,
             "solidity": 0.2
            },
            "type": "scatter"
           }
          ],
          "scatter3d": [
           {
            "line": {
             "colorbar": {
              "outlinewidth": 0,
              "ticks": ""
             }
            },
            "marker": {
             "colorbar": {
              "outlinewidth": 0,
              "ticks": ""
             }
            },
            "type": "scatter3d"
           }
          ],
          "scattercarpet": [
           {
            "marker": {
             "colorbar": {
              "outlinewidth": 0,
              "ticks": ""
             }
            },
            "type": "scattercarpet"
           }
          ],
          "scattergeo": [
           {
            "marker": {
             "colorbar": {
              "outlinewidth": 0,
              "ticks": ""
             }
            },
            "type": "scattergeo"
           }
          ],
          "scattergl": [
           {
            "marker": {
             "colorbar": {
              "outlinewidth": 0,
              "ticks": ""
             }
            },
            "type": "scattergl"
           }
          ],
          "scattermapbox": [
           {
            "marker": {
             "colorbar": {
              "outlinewidth": 0,
              "ticks": ""
             }
            },
            "type": "scattermapbox"
           }
          ],
          "scatterpolar": [
           {
            "marker": {
             "colorbar": {
              "outlinewidth": 0,
              "ticks": ""
             }
            },
            "type": "scatterpolar"
           }
          ],
          "scatterpolargl": [
           {
            "marker": {
             "colorbar": {
              "outlinewidth": 0,
              "ticks": ""
             }
            },
            "type": "scatterpolargl"
           }
          ],
          "scatterternary": [
           {
            "marker": {
             "colorbar": {
              "outlinewidth": 0,
              "ticks": ""
             }
            },
            "type": "scatterternary"
           }
          ],
          "surface": [
           {
            "colorbar": {
             "outlinewidth": 0,
             "ticks": ""
            },
            "colorscale": [
             [
              0,
              "#0d0887"
             ],
             [
              0.1111111111111111,
              "#46039f"
             ],
             [
              0.2222222222222222,
              "#7201a8"
             ],
             [
              0.3333333333333333,
              "#9c179e"
             ],
             [
              0.4444444444444444,
              "#bd3786"
             ],
             [
              0.5555555555555556,
              "#d8576b"
             ],
             [
              0.6666666666666666,
              "#ed7953"
             ],
             [
              0.7777777777777778,
              "#fb9f3a"
             ],
             [
              0.8888888888888888,
              "#fdca26"
             ],
             [
              1,
              "#f0f921"
             ]
            ],
            "type": "surface"
           }
          ],
          "table": [
           {
            "cells": {
             "fill": {
              "color": "#EBF0F8"
             },
             "line": {
              "color": "white"
             }
            },
            "header": {
             "fill": {
              "color": "#C8D4E3"
             },
             "line": {
              "color": "white"
             }
            },
            "type": "table"
           }
          ]
         },
         "layout": {
          "annotationdefaults": {
           "arrowcolor": "#2a3f5f",
           "arrowhead": 0,
           "arrowwidth": 1
          },
          "autotypenumbers": "strict",
          "coloraxis": {
           "colorbar": {
            "outlinewidth": 0,
            "ticks": ""
           }
          },
          "colorscale": {
           "diverging": [
            [
             0,
             "#8e0152"
            ],
            [
             0.1,
             "#c51b7d"
            ],
            [
             0.2,
             "#de77ae"
            ],
            [
             0.3,
             "#f1b6da"
            ],
            [
             0.4,
             "#fde0ef"
            ],
            [
             0.5,
             "#f7f7f7"
            ],
            [
             0.6,
             "#e6f5d0"
            ],
            [
             0.7,
             "#b8e186"
            ],
            [
             0.8,
             "#7fbc41"
            ],
            [
             0.9,
             "#4d9221"
            ],
            [
             1,
             "#276419"
            ]
           ],
           "sequential": [
            [
             0,
             "#0d0887"
            ],
            [
             0.1111111111111111,
             "#46039f"
            ],
            [
             0.2222222222222222,
             "#7201a8"
            ],
            [
             0.3333333333333333,
             "#9c179e"
            ],
            [
             0.4444444444444444,
             "#bd3786"
            ],
            [
             0.5555555555555556,
             "#d8576b"
            ],
            [
             0.6666666666666666,
             "#ed7953"
            ],
            [
             0.7777777777777778,
             "#fb9f3a"
            ],
            [
             0.8888888888888888,
             "#fdca26"
            ],
            [
             1,
             "#f0f921"
            ]
           ],
           "sequentialminus": [
            [
             0,
             "#0d0887"
            ],
            [
             0.1111111111111111,
             "#46039f"
            ],
            [
             0.2222222222222222,
             "#7201a8"
            ],
            [
             0.3333333333333333,
             "#9c179e"
            ],
            [
             0.4444444444444444,
             "#bd3786"
            ],
            [
             0.5555555555555556,
             "#d8576b"
            ],
            [
             0.6666666666666666,
             "#ed7953"
            ],
            [
             0.7777777777777778,
             "#fb9f3a"
            ],
            [
             0.8888888888888888,
             "#fdca26"
            ],
            [
             1,
             "#f0f921"
            ]
           ]
          },
          "colorway": [
           "#636efa",
           "#EF553B",
           "#00cc96",
           "#ab63fa",
           "#FFA15A",
           "#19d3f3",
           "#FF6692",
           "#B6E880",
           "#FF97FF",
           "#FECB52"
          ],
          "font": {
           "color": "#2a3f5f"
          },
          "geo": {
           "bgcolor": "white",
           "lakecolor": "white",
           "landcolor": "white",
           "showlakes": true,
           "showland": true,
           "subunitcolor": "#C8D4E3"
          },
          "hoverlabel": {
           "align": "left"
          },
          "hovermode": "closest",
          "mapbox": {
           "style": "light"
          },
          "paper_bgcolor": "white",
          "plot_bgcolor": "white",
          "polar": {
           "angularaxis": {
            "gridcolor": "#EBF0F8",
            "linecolor": "#EBF0F8",
            "ticks": ""
           },
           "bgcolor": "white",
           "radialaxis": {
            "gridcolor": "#EBF0F8",
            "linecolor": "#EBF0F8",
            "ticks": ""
           }
          },
          "scene": {
           "xaxis": {
            "backgroundcolor": "white",
            "gridcolor": "#DFE8F3",
            "gridwidth": 2,
            "linecolor": "#EBF0F8",
            "showbackground": true,
            "ticks": "",
            "zerolinecolor": "#EBF0F8"
           },
           "yaxis": {
            "backgroundcolor": "white",
            "gridcolor": "#DFE8F3",
            "gridwidth": 2,
            "linecolor": "#EBF0F8",
            "showbackground": true,
            "ticks": "",
            "zerolinecolor": "#EBF0F8"
           },
           "zaxis": {
            "backgroundcolor": "white",
            "gridcolor": "#DFE8F3",
            "gridwidth": 2,
            "linecolor": "#EBF0F8",
            "showbackground": true,
            "ticks": "",
            "zerolinecolor": "#EBF0F8"
           }
          },
          "shapedefaults": {
           "line": {
            "color": "#2a3f5f"
           }
          },
          "ternary": {
           "aaxis": {
            "gridcolor": "#DFE8F3",
            "linecolor": "#A2B1C6",
            "ticks": ""
           },
           "baxis": {
            "gridcolor": "#DFE8F3",
            "linecolor": "#A2B1C6",
            "ticks": ""
           },
           "bgcolor": "white",
           "caxis": {
            "gridcolor": "#DFE8F3",
            "linecolor": "#A2B1C6",
            "ticks": ""
           }
          },
          "title": {
           "x": 0.05
          },
          "xaxis": {
           "automargin": true,
           "gridcolor": "#EBF0F8",
           "linecolor": "#EBF0F8",
           "ticks": "",
           "title": {
            "standoff": 15
           },
           "zerolinecolor": "#EBF0F8",
           "zerolinewidth": 2
          },
          "yaxis": {
           "automargin": true,
           "gridcolor": "#EBF0F8",
           "linecolor": "#EBF0F8",
           "ticks": "",
           "title": {
            "standoff": 15
           },
           "zerolinecolor": "#EBF0F8",
           "zerolinewidth": 2
          }
         }
        },
        "title": {
         "font": {
          "size": 20
         },
         "text": "Forecasting COVID-19 MVBeds with Seq2Seq GRU",
         "x": 0.5,
         "xanchor": "center",
         "yanchor": "top"
        },
        "width": 900,
        "xaxis": {
         "rangeselector": {
          "buttons": [
           {
            "count": 1,
            "label": "1m",
            "step": "month",
            "stepmode": "backward"
           },
           {
            "count": 6,
            "label": "6m",
            "step": "month",
            "stepmode": "backward"
           },
           {
            "count": 1,
            "label": "YTD",
            "step": "year",
            "stepmode": "todate"
           },
           {
            "count": 1,
            "label": "1y",
            "step": "year",
            "stepmode": "backward"
           },
           {
            "step": "all"
           }
          ]
         },
         "rangeslider": {
          "visible": true
         },
         "tickfont": {
          "size": 15
         },
         "title": {
          "font": {
           "size": 15
          },
          "text": "Time"
         }
        },
        "yaxis": {
         "tickfont": {
          "size": 15
         },
         "title": {
          "font": {
           "size": 15
          },
          "text": "Value"
         }
        }
       }
      }
     },
     "metadata": {},
     "output_type": "display_data"
    }
   ],
   "source": [
    "fig = plot_forecast(\n",
    "    pred_df,\n",
    "    forecast_columns=[f\"Seq2Seq {algorithm_name}\"],\n",
    "    forecast_display_names=[f\"Seq2Seq {algorithm_name}\"],\n",
    ")\n",
    "\n",
    "title = f\"Forecasting COVID-19 MVBeds with Seq2Seq {algorithm_name}\"\n",
    "fig = format_plot(fig, title=title)\n",
    "fig.update_xaxes(\n",
    "    rangeslider_visible=True,\n",
    "    rangeselector=dict(\n",
    "        buttons=list(\n",
    "            [\n",
    "                dict(count=1, label=\"1m\", step=\"month\", stepmode=\"backward\"),\n",
    "                dict(count=6, label=\"6m\", step=\"month\", stepmode=\"backward\"),\n",
    "                dict(count=1, label=\"YTD\", step=\"year\", stepmode=\"todate\"),\n",
    "                dict(count=1, label=\"1y\", step=\"year\", stepmode=\"backward\"),\n",
    "                dict(step=\"all\"),\n",
    "            ]\n",
    "        )\n",
    "    ),\n",
    ")\n",
    "\n",
    "# save_path = f\"images/forecast_multivarate_{algorithm_name}.png\"\n",
    "# pio.write_image(fig, save_path)\n",
    "fig.show()"
   ]
  },
  {
   "cell_type": "code",
   "execution_count": 54,
   "metadata": {},
   "outputs": [
    {
     "name": "stdout",
     "output_type": "stream",
     "text": [
      "<class 'pandas.core.frame.DataFrame'>\n",
      "RangeIndex: 5 entries, 0 to 4\n",
      "Data columns (total 5 columns):\n",
      " #   Column         Non-Null Count  Dtype \n",
      "---  ------         --------------  ----- \n",
      " 0   Algorithm      5 non-null      object\n",
      " 1   MAE            5 non-null      object\n",
      " 2   MSE            5 non-null      object\n",
      " 3   MASE           5 non-null      object\n",
      " 4   Forecast Bias  5 non-null      object\n",
      "dtypes: object(5)\n",
      "memory usage: 328.0+ bytes\n"
     ]
    }
   ],
   "source": [
    "metric_df = pd.DataFrame(metric_record)\n",
    "metric_df.info()"
   ]
  },
  {
   "cell_type": "code",
   "execution_count": 55,
   "metadata": {},
   "outputs": [],
   "source": [
    "metric_df[[\"MAE\", \"MSE\", \"MASE\", \"Forecast Bias\"]] = metric_df[\n",
    "    [\"MAE\", \"MSE\", \"MASE\", \"Forecast Bias\"]\n",
    "].astype(\"float32\")"
   ]
  },
  {
   "cell_type": "code",
   "execution_count": 56,
   "metadata": {},
   "outputs": [
    {
     "data": {
      "text/html": [
       "<style type=\"text/css\">\n",
       "#T_b771d_row1_col1, #T_b771d_row1_col2, #T_b771d_row1_col3 {\n",
       "  background-color: lightgreen;\n",
       "}\n",
       "</style>\n",
       "<table id=\"T_b771d\">\n",
       "  <thead>\n",
       "    <tr>\n",
       "      <th class=\"blank level0\" >&nbsp;</th>\n",
       "      <th id=\"T_b771d_level0_col0\" class=\"col_heading level0 col0\" >Algorithm</th>\n",
       "      <th id=\"T_b771d_level0_col1\" class=\"col_heading level0 col1\" >MAE</th>\n",
       "      <th id=\"T_b771d_level0_col2\" class=\"col_heading level0 col2\" >MSE</th>\n",
       "      <th id=\"T_b771d_level0_col3\" class=\"col_heading level0 col3\" >MASE</th>\n",
       "      <th id=\"T_b771d_level0_col4\" class=\"col_heading level0 col4\" >Forecast Bias</th>\n",
       "    </tr>\n",
       "  </thead>\n",
       "  <tbody>\n",
       "    <tr>\n",
       "      <th id=\"T_b771d_level0_row0\" class=\"row_heading level0 row0\" >0</th>\n",
       "      <td id=\"T_b771d_row0_col0\" class=\"data row0 col0\" >RNN</td>\n",
       "      <td id=\"T_b771d_row0_col1\" class=\"data row0 col1\" >1.6175</td>\n",
       "      <td id=\"T_b771d_row0_col2\" class=\"data row0 col2\" >2.8424</td>\n",
       "      <td id=\"T_b771d_row0_col3\" class=\"data row0 col3\" >7.0797</td>\n",
       "      <td id=\"T_b771d_row0_col4\" class=\"data row0 col4\" >-1.62%</td>\n",
       "    </tr>\n",
       "    <tr>\n",
       "      <th id=\"T_b771d_level0_row1\" class=\"row_heading level0 row1\" >1</th>\n",
       "      <td id=\"T_b771d_row1_col0\" class=\"data row1 col0\" >GRU (SA)</td>\n",
       "      <td id=\"T_b771d_row1_col1\" class=\"data row1 col1\" >1.1496</td>\n",
       "      <td id=\"T_b771d_row1_col2\" class=\"data row1 col2\" >1.7012</td>\n",
       "      <td id=\"T_b771d_row1_col3\" class=\"data row1 col3\" >5.0318</td>\n",
       "      <td id=\"T_b771d_row1_col4\" class=\"data row1 col4\" >-1.14%</td>\n",
       "    </tr>\n",
       "    <tr>\n",
       "      <th id=\"T_b771d_level0_row2\" class=\"row_heading level0 row2\" >2</th>\n",
       "      <td id=\"T_b771d_row2_col0\" class=\"data row2 col0\" >LSTM</td>\n",
       "      <td id=\"T_b771d_row2_col1\" class=\"data row2 col1\" >2.1975</td>\n",
       "      <td id=\"T_b771d_row2_col2\" class=\"data row2 col2\" >5.1047</td>\n",
       "      <td id=\"T_b771d_row2_col3\" class=\"data row2 col3\" >9.6186</td>\n",
       "      <td id=\"T_b771d_row2_col4\" class=\"data row2 col4\" >-2.20%</td>\n",
       "    </tr>\n",
       "    <tr>\n",
       "      <th id=\"T_b771d_level0_row3\" class=\"row_heading level0 row3\" >3</th>\n",
       "      <td id=\"T_b771d_row3_col0\" class=\"data row3 col0\" >Seq2Seq LSTM</td>\n",
       "      <td id=\"T_b771d_row3_col1\" class=\"data row3 col1\" >2.1975</td>\n",
       "      <td id=\"T_b771d_row3_col2\" class=\"data row3 col2\" >5.1047</td>\n",
       "      <td id=\"T_b771d_row3_col3\" class=\"data row3 col3\" >9.6186</td>\n",
       "      <td id=\"T_b771d_row3_col4\" class=\"data row3 col4\" >-2.20%</td>\n",
       "    </tr>\n",
       "    <tr>\n",
       "      <th id=\"T_b771d_level0_row4\" class=\"row_heading level0 row4\" >4</th>\n",
       "      <td id=\"T_b771d_row4_col0\" class=\"data row4 col0\" >Seq2Seq GRU</td>\n",
       "      <td id=\"T_b771d_row4_col1\" class=\"data row4 col1\" >1.6156</td>\n",
       "      <td id=\"T_b771d_row4_col2\" class=\"data row4 col2\" >2.8694</td>\n",
       "      <td id=\"T_b771d_row4_col3\" class=\"data row4 col3\" >7.0713</td>\n",
       "      <td id=\"T_b771d_row4_col4\" class=\"data row4 col4\" >-1.62%</td>\n",
       "    </tr>\n",
       "  </tbody>\n",
       "</table>\n"
      ],
      "text/plain": [
       "<pandas.io.formats.style.Styler at 0x1d868b0e9d0>"
      ]
     },
     "execution_count": 56,
     "metadata": {},
     "output_type": "execute_result"
    }
   ],
   "source": [
    "formatted = metric_df.style.format(\n",
    "    {\n",
    "        \"MAE\": \"{:.4f}\",\n",
    "        \"MSE\": \"{:.4f}\",\n",
    "        \"MASE\": \"{:.4f}\",\n",
    "        \"Forecast Bias\": \"{:.2f}%\",\n",
    "        \"Time Elapsed\": \"{:.6f}\",\n",
    "    }\n",
    ")\n",
    "formatted = formatted.highlight_min(\n",
    "    color=\"lightgreen\", subset=[\"MAE\", \"MSE\", \"MASE\"]\n",
    ").apply(\n",
    "    highlight_abs_min,\n",
    "    props=\"color:black;background-color:lightgreen\",\n",
    "    axis=0,\n",
    "    subset=[\"Forecast Bias\"],\n",
    ")\n",
    "formatted"
   ]
  },
  {
   "cell_type": "code",
   "execution_count": null,
   "metadata": {},
   "outputs": [],
   "source": []
  }
 ],
 "metadata": {
  "kernelspec": {
   "display_name": "modern_ts_2E",
   "language": "python",
   "name": "python3"
  },
  "language_info": {
   "codemirror_mode": {
    "name": "ipython",
    "version": 3
   },
   "file_extension": ".py",
   "mimetype": "text/x-python",
   "name": "python",
   "nbconvert_exporter": "python",
   "pygments_lexer": "ipython3",
   "version": "3.11.0"
  }
 },
 "nbformat": 4,
 "nbformat_minor": 2
}
